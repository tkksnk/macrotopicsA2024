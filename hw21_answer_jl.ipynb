{
 "cells": [
  {
   "cell_type": "code",
   "execution_count": 11,
   "id": "f60e9164",
   "metadata": {},
   "outputs": [
    {
     "name": "stderr",
     "output_type": "stream",
     "text": [
      "WARNING: replacing module GenerateGrid.\n",
      "WARNING: replacing module MyEconFcn.\n"
     ]
    },
    {
     "data": {
      "text/plain": [
       "Main.MyEconFcn"
      ]
     },
     "execution_count": 11,
     "metadata": {},
     "output_type": "execute_result"
    }
   ],
   "source": [
    "using Plots\n",
    "include(\"GenerateGrid.jl\")\n",
    "include(\"MyEconFcn.jl\")"
   ]
  },
  {
   "cell_type": "code",
   "execution_count": 12,
   "id": "189273c1",
   "metadata": {},
   "outputs": [
    {
     "data": {
      "text/plain": [
       "crra (generic function with 1 method)"
      ]
     },
     "execution_count": 12,
     "metadata": {},
     "output_type": "execute_result"
    }
   ],
   "source": [
    "function crra(cons::Float64, γ::Float64)\n",
    "    if γ != 1.0\n",
    "        util = cons^(1-γ) / (1-γ)\n",
    "    else\n",
    "        util = log(cons)\n",
    "    end\n",
    "    return util\n",
    "end"
   ]
  },
  {
   "cell_type": "code",
   "execution_count": 2,
   "id": "f33aaa5f",
   "metadata": {},
   "outputs": [],
   "source": [
    "struct Params\n",
    "    # parameters\n",
    "    β::Float64 # Discount factor (\\beta)\n",
    "    γ::Float64 # Relative risk aversion (\\gamma)\n",
    "    rent::Float64\n",
    "    wH::Float64\n",
    "    wL::Float64\n",
    "    p1::Float64\n",
    "    p2::Float64\n",
    "\n",
    "    # grid\n",
    "    na::Int64 # the number of grid points for capital\n",
    "    amax::Float64 # the maximum value of the grid for capital\n",
    "    amin::Float64 # the minimum value of the grid for capital\n",
    "    agrid::Vector{Float64} # the grid for capital\n",
    "\n",
    "    # iterations\n",
    "    maxit::Int64 # the maximum number of iterations\n",
    "    tol::Float64 # the tolerance of errors\n",
    "end"
   ]
  },
  {
   "cell_type": "code",
   "execution_count": 7,
   "id": "52ed4311",
   "metadata": {},
   "outputs": [
    {
     "data": {
      "text/plain": [
       "calibration (generic function with 1 method)"
      ]
     },
     "execution_count": 7,
     "metadata": {},
     "output_type": "execute_result"
    }
   ],
   "source": [
    "function calibration()\n",
    "    β = 0.985\n",
    "    γ = 1.0\n",
    "    rent = 1.01-1.0\n",
    "    wH = 1.0\n",
    "    wL = 0.1\n",
    "    p1 = 0.9\n",
    "    p2 = 0.9\n",
    "\n",
    "    na = 501\n",
    "    amax = 10.0 # If \\delta is 0.08, make it 10.0\n",
    "    amin = -1.0\n",
    "\n",
    "    # Make equally distanced grid by own code\n",
    "    agrid = GenerateGrid.grid_uni(amin, amax, na)\n",
    "    # Or use it as before\n",
    "    # kgrid = collect(LinRange(amin, amax, na))\n",
    "\n",
    "    maxit = 10000\n",
    "    tol = 1e-5 # set the tolerance of errors\n",
    "\n",
    "    return Params(β, γ, rent, wH, wL, p1, p2, na, amax, amin, agrid, maxit, tol)\n",
    "end"
   ]
  },
  {
   "cell_type": "code",
   "execution_count": 8,
   "id": "79a5328e",
   "metadata": {},
   "outputs": [],
   "source": [
    "params = calibration();\n",
    "\n",
    "# Define variables\n",
    "vfcn = zeros(params.na) # intial guess of value function\n",
    "pfcn = zeros(Int64,params.na)\n",
    "Tvfcn = zeros(params.na)\n",
    "Tpfcn = zeros(Int64,params.na)\n",
    "\n",
    "# Variables for plot\n",
    "val_tmp = zeros(params.na, 4)\n",
    "dif = zeros(2, params.maxit);"
   ]
  },
  {
   "cell_type": "code",
   "execution_count": 17,
   "id": "dac88508",
   "metadata": {},
   "outputs": [],
   "source": [
    "# Initial values of the utility function (put penalty for negative consumption)\n",
    "util = -10000.0*ones(params.na, params.na, 2)\n",
    "\n",
    "# Compute the utility for combinations of (k,k') such that consumption is positive\n",
    "for i = 1:params.na, j = 1:params.na\n",
    "                    \n",
    "    cH = (1.0+params.rent)*params.agrid[j] - params.agrid[i] + params.wH\n",
    "    cL = (1.0+params.rent)*params.agrid[j] - params.agrid[i] + params.wL\n",
    "\n",
    "    if cH > 0.0\n",
    "        util[j,i,1] = crra(params.γ,cH)\n",
    "    elseif cL > 0.0\n",
    "        util[j,i,2] = crra(params.γ,cL)\n",
    "    end\n",
    "\n",
    "end"
   ]
  },
  {
   "cell_type": "code",
   "execution_count": 18,
   "id": "6979a630",
   "metadata": {},
   "outputs": [
    {
     "name": "stdout",
     "output_type": "stream",
     "text": [
      "99.999999999999911.0"
     ]
    }
   ],
   "source": [
    "print(util[1,1,1])\n",
    "print(params.wH)\n",
    "# print(util[10,1,1])"
   ]
  },
  {
   "cell_type": "code",
   "execution_count": 20,
   "id": "d9b3ee9e",
   "metadata": {},
   "outputs": [
    {
     "ename": "LoadError",
     "evalue": "BoundsError: attempt to access 501-element Vector{Float64} at index [1:501, 2]",
     "output_type": "error",
     "traceback": [
      "BoundsError: attempt to access 501-element Vector{Float64} at index [1:501, 2]",
      "",
      "Stacktrace:",
      " [1] throw_boundserror(A::Vector{Float64}, I::Tuple{Base.Slice{Base.OneTo{Int64}}, Int64})",
      "   @ Base .\\abstractarray.jl:703",
      " [2] checkbounds",
      "   @ .\\abstractarray.jl:668 [inlined]",
      " [3] _getindex",
      "   @ .\\multidimensional.jl:874 [inlined]",
      " [4] getindex(::Vector{Float64}, ::Function, ::Int64)",
      "   @ Base .\\abstractarray.jl:1241",
      " [5] top-level scope",
      "   @ .\\In[20]:9"
     ]
    }
   ],
   "source": [
    "# Iterations for maxit times at the maximum\n",
    "for it = 1:params.maxit\n",
    "\n",
    "    vkp1 = zeros(params.na, params.na)\n",
    "    vkp2 = zeros(params.na, params.na)\n",
    "            \n",
    "    # Compute combinations of the value function\n",
    "    for i = 1:params.na\n",
    "        vkp1[:,i] = util[:,i,1] + params.β*(params.p1*vfcn[:,1]+(1-params.p1)*vfcn[:,2])\n",
    "        vkp2[:,i] = util[:,i,2] + params.β*(params.p2*vfcn[:,1]+(1-params.p2)*vfcn[:,2])\n",
    "    end\n",
    "\n",
    "    # Look for savings to maximize the value function\n",
    "    for i = 1:params.na\n",
    "        Tvfcn[i,1] = maximum(vkp1[:, i])\n",
    "        Tpfcn[i,1] = argmax(vkp1[:, i])\n",
    "        Tvfcn[i,2] = maximum(vkp2[:, i])\n",
    "        Tpfcn[i,2] = argmax(vkp2[:, i])\n",
    "    end\n",
    "\n",
    "    # Check the convergence: Check errors in interations\n",
    "    dif1 = maximum(abs.((Tvfcn-vfcn)./vfcn))\n",
    "    dif2 = maximum(abs.(Tpfcn-pfcn)./pfcn)\n",
    "\n",
    "    # Save errors in interations before the convergence\n",
    "    # Usually unnessesary as they are for the purpose of showing the iteration process\n",
    "    dif[1, it] = dif1\n",
    "    dif[2, it] = dif2\n",
    "\n",
    "    # Usually unnessesary as they are for the purpose of showing the convergence of the value function\n",
    "    if it==1 || it==3 || it==5\n",
    "        val_tmp[:, count] = vfcn\n",
    "        count = count + 1\n",
    "    end\n",
    "\n",
    "    # Update the value and policy functions\n",
    "    vfcn = deepcopy(Tvfcn)\n",
    "    pfcn = deepcopy(Tpfcn)\n",
    "\n",
    "    println([it,dif1,dif2])\n",
    "    \n",
    "    # Check if converged\n",
    "    if dif1 < params.tol\n",
    "        val_tmp[:, end] = vfcn\n",
    "        break\n",
    "    end\n",
    "    \n",
    "    if it == params.maxit\n",
    "        println(\"The model does not converge\")\n",
    "    end\n",
    "end"
   ]
  }
 ],
 "metadata": {
  "kernelspec": {
   "display_name": "Julia 1.8.3",
   "language": "julia",
   "name": "julia-1.8"
  },
  "language_info": {
   "file_extension": ".jl",
   "mimetype": "application/julia",
   "name": "julia",
   "version": "1.8.3"
  }
 },
 "nbformat": 4,
 "nbformat_minor": 5
}

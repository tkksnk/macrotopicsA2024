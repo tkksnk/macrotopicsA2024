{
 "cells": [
  {
   "cell_type": "markdown",
   "metadata": {
    "slideshow": {
     "slide_type": "slide"
    }
   },
   "source": [
    "## Application of polynomial approximation to TI\n",
    "<!-- ## 時間反復法の多項式近似への応用 -->\n",
    "\n",
    "- The algorithm of numerical methods itself does not change. The only difference in the code is in the step 3 for approximation\n",
    "<!-- - 数値計算のアルゴリズム自体は変わらない。実際のコードでもこれまでと異なるのはステップ3の近似のところだけである -->"
   ]
  },
  {
   "cell_type": "markdown",
   "metadata": {
    "slideshow": {
     "slide_type": "subslide"
    }
   },
   "source": [
    "- Algorithm\n",
    "<!-- - アルゴリズム -->\n",
    "\n",
    "1. Make the grid: Discretize the state variables by the grid with $I=21$ points. Also, make an initial guess of the policy function function $h^{(0)}(k^{i})$ on the grid. The initial guess is more important in TI than in VFI, as the convergence of the policy function is not guaranteed in TI\n",
    "<!-- 1. グリッド生成：状態空間の評価点を$I=21$個のグリッドに区切る。また、グリッド上における政策関数$h^{(0)}(k^{i})$の初期値を当て推量(initial guess)する。VFIと異なり、政策関数の収束は必ずしも保証されていないため、初期値はより重要になる -->\n",
    "\n",
    "2. Convergence criteria: Set the parameter $\\varepsilon=10^{-5}$ for the criteria of convergence\n",
    "<!-- 2. 収束の基準：収束の基準になるパラメータ$\\varepsilon=10^{-5}$を与える -->\n",
    "\n",
    "3. Approximation and evaluation: Values of the policy function not on $k^{i}$ must be approximated. Let $h(k;\\mathbb{b})$ be the value of the policy function on $k$ approximated by the parameter $\\mathbb{b}$\n",
    "<!-- 3. 近似・評価：$k^{i}$上にない政策関数の値については近似する必要がある。$h(k;\\mathbb{b})$をパラメータ$\\mathbb{b}$を使って近似した時の、$k$上での政策関数の値とする -->\n",
    "\n",
    "<!-- - アルゴリズム（再掲）\n",
    "\n",
    "\n",
    "1. グリッド生成：状態空間の評価点を$I=21$個のグリッドに区切る。また、グリッド上における政策関数$h^{(0)}(k^{i})$の初期値を当て推量(initial guess)する。VFIと異なり、政策関数の収束は必ずしも保証されていないため、初期値はより重要になる\n",
    "\n",
    "2. 収束の基準：収束の基準になるパラメータ$\\varepsilon=10^{-5}$を与える\n",
    "\n",
    "3. 近似・評価：$k^{i}$上にない政策関数の値については近似する必要がある。$h(k;\\mathbb{b})$をパラメータ$\\mathbb{b}$を使って近似した時の、$k$上での価値関数の値とする -->"
   ]
  },
  {
   "cell_type": "markdown",
   "metadata": {
    "slideshow": {
     "slide_type": "subslide"
    }
   },
   "source": [
    "4. Optimization: taking the old policy function $h^{(n-1)}(k^{i})$ as given, for each $k^{i}$, solve\n",
    "<!-- 4. 最適化：古い政策関数$h^{(n-1)}(k^{i})$を所与として、各$k^{i}$について、 -->\n",
    "\n",
    "$$\n",
    "  u'(c) = \\beta u'(h^{(n-1)}(f(k^{i})-c))f'(f(k^{i})-c)\n",
    "$$\n",
    "\n",
    "for $c$. To find $c$ such that solves the Euler equation, use optimization routines in each programming language. It is important especially in TI to consider this point carefully, as it may improve the speed and stability of the convergence. In this step, we obtain the new policy function $h^{(n)}(k^{i})$\n",
    "<!-- を$c$について解く。オイラー方程式の解である$c$を探すためには、各言語の最適化関数を利用する。特にTIでは、ここをどう工夫するかで収束のスピードや安定性が変わってくる。このステップで新しい政策関数$h^{(n)}(k^{i})$を得る -->\n",
    "\n",
    "5. If $\\|h^{(0)}(k^{i})-h^{(1)}(k^{i})\\|<\\varepsilon$ holds for all the $k^{i}$s, stop the algorithm. Otherwise, substitute $h^{(1)}(k^{i})$ into $h^{(0)}(k^{i})$ and iterate the steps 3-4\n",
    "<!-- 5. 全ての$k^{i}$について$\\|V^{(0)}(k^{i})-V^{(1)}(k^{i})\\|<\\varepsilon$であればストップ。そうでなければ、$V^{(1)}(k^{i})$を$V^{(0)}(k^{i})$に代入して、ステップ3-4を繰り返す -->\n",
    "<!-- 5. 全ての$k^{i}$について$\\|h^{(0)}(k^{i})-h^{(1)}(k^{i})\\|<\\varepsilon$であればストップ。そうでなければ、$h^{(1)}(k^{i})$を$h^{(0)}(k^{i})$に代入して、ステップ3-4を繰り返す -->\n",
    "\n",
    "<!-- 4. 最適化：古い政策関数$h^{(n-1)}(k^{i})$を所与として、各$k^{i}$について、\n",
    "\n",
    "$$\n",
    "  u'(c) = \\beta u'(h^{(n-1)}(f(k^{i})-c))f'(f(k^{i})-c)\n",
    "$$\n",
    "\n",
    "を$c$について解く。オイラー方程式の解である$c$を探すためには、各言語の最適化関数を利用する。特にTIでは、ここをどう工夫するかで収束のスピードや安定性が変わってくる。このステップで新しい政策関数$h^{(n)}(k^{i})$を得る\n",
    "\n",
    "5. 全ての$k^{i}$について$\\|h^{(0)}(k^{i})-h^{(1)}(k^{i})\\|<\\varepsilon$であればストップ。そうでなければ、$h^{(1)}(k^{i})$を$h^{(0)}(k^{i})$に代入して、ステップ3-4を繰り返す -->"
   ]
  },
  {
   "cell_type": "markdown",
   "metadata": {
    "slideshow": {
     "slide_type": "subslide"
    }
   },
   "source": [
    "- The number of grid points are $N=3,5,9$, which is less than spline interpolation. In this case, the order of polynomials for each case is $N-1=2,4,8$\n",
    "<!-- - グリッドの数をスプライン補間の場合より少ない$N=3,5,9$個とする。このとき、多項式の次数はそれぞれ$N-1=2,4,8$ -->\n",
    "\n",
    "- The average and maximum values of the logarithm of absolute numerical errors get worse with lower order polynomials\n",
    "<!-- - 計算誤差の絶対値の10を底とする対数の平均値と最大値は、低次の多項式ではやや悪化する -->\n",
    "\n",
    "- If it is unlikely for $k$ to take very low values, we can narrow the range of the grid points and avoid the values of capital with worse numerical errors, and make numerical errors smaller even with lower order polynomials \n",
    "<!-- - $k$が非常に低い値をとることがありえない場合、グリッドの取り得る値を狭くして、近似誤差が起こりやすい資本の値が少ない場合を避けることで、定次の多項式でも計算誤差を小さくすることができる -->\n",
    "\n",
    "\n",
    "- For example, by letting $k\\in[0.8\\bar{k},1.2\\bar{k}]$, numerical errors are $10^{-3}\\sim10^{-4}$ even with second order polynomials\n",
    "<!-- - 例えば、$k\\in[0.8\\bar{k},1.2\\bar{k}]$とすると、2次の多項式を使っても、計算誤差は$10^{-3}\\sim10^{-4}$程度に収まる -->"
   ]
  },
  {
   "cell_type": "code",
   "execution_count": 1,
   "metadata": {},
   "outputs": [],
   "source": [
    "# Load packages \n",
    "using LinearAlgebra\n",
    "using NLsolve\n",
    "using Statistics\n",
    "using Printf\n",
    "using BenchmarkTools"
   ]
  },
  {
   "cell_type": "code",
   "execution_count": 2,
   "metadata": {},
   "outputs": [],
   "source": [
    "struct Model{TI<:Integer, TF<:AbstractFloat, TV<:Vector}\n",
    "\n",
    "    # parameters\n",
    "    beta::TF           # Discount factor\n",
    "    gamma::TF          # Relative risk aversion\n",
    "    alpha::TF          # capital share\n",
    "    delta::TF          # capital depreciation\n",
    "\n",
    "    # steady state values\n",
    "    ykss::TF\n",
    "    kss::TF\n",
    "    yss::TF\n",
    "    css::TF\n",
    "    \n",
    "    # grid\n",
    "    nk::TI             # the number of grid points\n",
    "    kmax::TF           # maximum value of grid points on capital\n",
    "    kmin::TF           # minimum value of grid points on capital\n",
    "    kgrid::TV          # grid points on capital\n",
    "    \n",
    "    # interpolation\n",
    "    T::Array{TF,2}     # the matrix for the basis functions\n",
    "    invT::Array{TF,2}  # the inverse of the basis function matrix\n",
    "    \n",
    "    # iterations\n",
    "    maxiter::TI        # maximum number of iterations\n",
    "    tol::TF            # tolerance of errors for iterations\n",
    "\n",
    "end"
   ]
  },
  {
   "cell_type": "code",
   "execution_count": 3,
   "metadata": {
    "slideshow": {
     "slide_type": "skip"
    }
   },
   "outputs": [
    {
     "data": {
      "text/plain": [
       "polygrid (generic function with 1 method)"
      ]
     },
     "execution_count": 3,
     "metadata": {},
     "output_type": "execute_result"
    }
   ],
   "source": [
    "function polygrid(kmin,kmax,N)\n",
    "    \n",
    "   temp = collect(LinRange(0,N-1,N))\n",
    "   x = -cos.((pi/(N-1))*temp) # Chebyshev extrema\n",
    "#     temp = collect(LinRange(1,N-1,N-1))\n",
    "#     x = [0; -cos.((pi/2/(N-1))*(2*temp .- 1))] # Chebyshev zeros\n",
    "    \n",
    "    # transformation from x to k\n",
    "    k = 0.5*(kmax-kmin)*(x .+ 1) .+ kmin\n",
    "   \n",
    "    return k\n",
    "    \n",
    "end"
   ]
  },
  {
   "cell_type": "code",
   "execution_count": 4,
   "metadata": {
    "slideshow": {
     "slide_type": "skip"
    }
   },
   "outputs": [
    {
     "data": {
      "text/plain": [
       "polybas (generic function with 1 method)"
      ]
     },
     "execution_count": 4,
     "metadata": {},
     "output_type": "execute_result"
    }
   ],
   "source": [
    "function polybas(kmin,kmax,Np,kgrid)\n",
    "    \n",
    "    # Np: the order of polynomials-1\n",
    "    # Ng: the number of grid points\n",
    "    Ng = size(kgrid,1)\n",
    "    x = (2/(kmax-kmin))*(kgrid .- kmin) .- 1\n",
    "    \n",
    "    # recursively obtain the matrix of the basis functions\n",
    "    T = zeros(Ng,Np)\n",
    "    T0 = ones(Ng)\n",
    "    T1 = x\n",
    "    T2 = 2*x.*T1 - T0\n",
    "    T[:,1] = T1\n",
    "    T[:,2] = T2\n",
    "    \n",
    "    for i=3:Np-1\n",
    "        T[:,i] = 2*x.*T[:,i-1] - T[:,i-2] \n",
    "    end\n",
    "    \n",
    "    T = [T0 T[:,1:(Np-1)]]\n",
    "    \n",
    "    return T\n",
    "    \n",
    "end"
   ]
  },
  {
   "cell_type": "code",
   "execution_count": 5,
   "metadata": {
    "slideshow": {
     "slide_type": "subslide"
    }
   },
   "outputs": [
    {
     "data": {
      "text/plain": [
       "EulerEq_cheb (generic function with 1 method)"
      ]
     },
     "execution_count": 5,
     "metadata": {},
     "output_type": "execute_result"
    }
   ],
   "source": [
    "function EulerEq_cheb(x,m,capital,theta)\n",
    " \n",
    "    cons = x[1] # input must be a vector to solve the optimization problem\n",
    "    wealth = (capital^m.alpha) + (1-m.delta)*capital\n",
    "    kprime = wealth - cons\n",
    "    kprime = max(m.kgrid[1],kprime) # Trick: k' takes positive values only\n",
    "\n",
    "    # interpolate the next period's policy function by polynomials\n",
    "    # T is the basis function matrix evaluated at k=kprime\n",
    "    T = polybas(m.kmin,m.kmax,m.nk,[kprime]) # compute the basis function matrix at the next period's capital\n",
    "    # obtain the approximated value by multiplying the coefficients of polynomials theta\n",
    "    cnext = (T*theta)[1]\n",
    "\n",
    "    # obtain the residual of the Euler equation (u'(c) is computed by mu_CRRA function)\n",
    "    res = mu_CRRA(cons,m.gamma) .- m.beta*mu_CRRA(cnext,m.gamma)*(m.alpha*kprime.^(m.alpha-1).+(1-m.delta))\n",
    "\n",
    "    return res\n",
    "\n",
    "end"
   ]
  },
  {
   "cell_type": "code",
   "execution_count": 6,
   "metadata": {},
   "outputs": [
    {
     "data": {
      "text/plain": [
       "mu_CRRA (generic function with 1 method)"
      ]
     },
     "execution_count": 6,
     "metadata": {},
     "output_type": "execute_result"
    }
   ],
   "source": [
    "function mu_CRRA(cons,gamma)\n",
    "\n",
    "    mu = cons^(-gamma)\n",
    "\n",
    "    return mu\n",
    "    \n",
    "end"
   ]
  },
  {
   "cell_type": "code",
   "execution_count": 7,
   "metadata": {},
   "outputs": [
    {
     "data": {
      "text/plain": [
       "nti_cheb (generic function with 1 method)"
      ]
     },
     "execution_count": 7,
     "metadata": {},
     "output_type": "execute_result"
    }
   ],
   "source": [
    "function nti_cheb(m)\n",
    "    \n",
    "    # parameters for convergence criteria\n",
    "    it = 1;         # loop counter\n",
    "    dif2 = 1.0;     # error of the policy function in iterataions\n",
    "    tolfun = 1e-10; # the tolerance of errors for optimization \n",
    "\n",
    "    # STEP 1(b): make an initial guess for the policy function\n",
    "    # analytical solution (for k'=g(k))\n",
    "#     p_true = m.beta*m.alpha*(m.kgrid.^m.alpha);\n",
    "    # initialize the policy function\n",
    "    cfcn0 = copy(m.kgrid);\n",
    "    cfcn1 = zeros(m.nk);\n",
    "\n",
    "    # set a variable to save iterative errors\n",
    "    dif = zeros(2,m.maxiter);\n",
    "\n",
    "    # STEP4: iteratively compute the policy function\n",
    "    while (it<m.maxiter) && (dif2>m.tol)\n",
    "\n",
    "        # interpolation is done with the precomputed matrix of the basis function\n",
    "        # theta includes the coefficents of polynomials\n",
    "        theta = m.invT * cfcn0\n",
    "\n",
    "        for i in 1:m.nk\n",
    "\n",
    "            capital = m.kgrid[i]\n",
    "            wealth = (capital^m.alpha) + (1.0-m.delta)*capital\n",
    "\n",
    "            # look for the value of the policy function on each grid point by using Julia's optimization function (nlsolve)\n",
    "            # The initial value for optimization is from the old policy function\n",
    "            Euler = x-> EulerEq_cheb(x,m,capital,theta);\n",
    "            res = nlsolve(Euler,[cfcn0[i]],ftol=tolfun);\n",
    "            cons = res.zero[1];\n",
    "            cfcn1[i] = cons;\n",
    "            kprime = wealth - cons;\n",
    "    \n",
    "        end\n",
    "\n",
    "        # check the error of the policy function in iterations\n",
    "        dif2 = maximum(abs.(cfcn1-cfcn0));\n",
    "\n",
    "        # save the error in iterations in the middle of convergence\n",
    "        dif[2,it] = dif2;\n",
    "\n",
    "        # update the policy function\n",
    "        cfcn0 = copy(cfcn1);\n",
    "\n",
    "        @printf \"iteration index: %1d \\n\" it  \n",
    "        @printf \"policy function iteration error: %1.6f \\n\" dif2 \n",
    "        flush(stdout)\n",
    "\n",
    "        it += 1\n",
    "\n",
    "    end\n",
    "\n",
    "    return cfcn0, dif\n",
    "end"
   ]
  },
  {
   "cell_type": "code",
   "execution_count": 8,
   "metadata": {},
   "outputs": [
    {
     "data": {
      "text/plain": [
       "calcerr (generic function with 1 method)"
      ]
     },
     "execution_count": 8,
     "metadata": {},
     "output_type": "execute_result"
    }
   ],
   "source": [
    "function calcerr(m,cfcn0)\n",
    "\n",
    "    theta = m.invT*cfcn0\n",
    "    # as the errors are zero on the original grid, use finer grid\n",
    "    kgrid_err = collect(range(m.kmin,m.kmax,length=(m.nk-1)*10+1))\n",
    "    T = polybas(m.kmin,m.kmax,m.nk,kgrid_err)\n",
    "    cons = T*theta\n",
    "    LHS = mu_CRRA.(cons,m.gamma)\n",
    "\n",
    "    kp = (kgrid_err.^m.alpha) .+ (1.0-m.delta).*kgrid_err .- cons\n",
    "    T = polybas(m.kmin,m.kmax,m.nk,kp)\n",
    "    cnext = T*theta\n",
    "    rent = m.alpha.*(kp.^(m.alpha-1.0)) .- m.delta\n",
    "    RHS = m.beta .* (1.0.+rent) .* mu_CRRA.(cnext,m.gamma)\n",
    "\n",
    "    err = (RHS./LHS) .- 1.0\n",
    "\n",
    "    return err\n",
    "\n",
    "end"
   ]
  },
  {
   "cell_type": "code",
   "execution_count": 9,
   "metadata": {
    "slideshow": {
     "slide_type": "subslide"
    }
   },
   "outputs": [],
   "source": [
    "# calibration\n",
    "beta = 0.96;  # discount factor\n",
    "gamma = 1.0;  # relative risk aversion\n",
    "alpha = 0.40; # capital share\n",
    "delta = 1.0;  # depreciation of fixed capital (analytical solution exists when delta=1.0)\n",
    "\n",
    "# steady state values\n",
    "ykss = (1.0/beta-1.0+delta)/alpha;\n",
    "kss = ykss^(1.0/(alpha-1.0));\n",
    "yss = ykss*kss;\n",
    "css = yss-delta*kss;\n",
    "\n",
    "# parameters for the grid\n",
    "kmax = 1.2*kss; # the maximum value of the grid on capital\n",
    "kmin = 0.8*kss; # the minimum value of the grid on capital\n",
    "\n",
    "# STEP 1(a): generating the grid \n",
    "nk = 9;         # number of grid points\n",
    "kgrid = polygrid(kmin,kmax,nk); # Chebyshev evaluation points\n",
    "\n",
    "# parameters for interpolation\n",
    "T = polybas(kmin,kmax,nk,kgrid); # the matrix for the basis functions\n",
    "invT = inv(T);                   # the inverse of the basis function matrix\n",
    "\n",
    "# parameters for time iteration\n",
    "maxiter = 1000; # maximum number of iterations\n",
    "tol = 1e-8;     # the tolerance of errors for iterations\n",
    "\n",
    "# # 収束の基準に関するパラメータ\n",
    "# it = 1;         # ループ・カウンター\n",
    "# dif2 = 1.0;     # 政策関数の繰り返し誤差\n",
    "# tolfun = 1e-10; # newtonのオプション(最適化の許容誤差)"
   ]
  },
  {
   "cell_type": "code",
   "execution_count": 10,
   "metadata": {},
   "outputs": [
    {
     "name": "stdout",
     "output_type": "stream",
     "text": [
      "iteration index: 1 \n",
      "policy function iteration error: 0.088992 \n",
      "iteration index: 2 \n",
      "policy function iteration error: 0.028953 \n",
      "iteration index: 3 \n",
      "policy function iteration error: 0.011133 \n",
      "iteration index: 4 \n",
      "policy function iteration error: 0.004583 \n",
      "iteration index: 5 \n",
      "policy function iteration error: 0.001812 \n",
      "iteration index: 6 \n",
      "policy function iteration error: 0.000703 \n",
      "iteration index: 7 \n",
      "policy function iteration error: 0.000271 \n",
      "iteration index: 8 \n",
      "policy function iteration error: 0.000104 \n",
      "iteration index: 9 \n",
      "policy function iteration error: 0.000040 \n",
      "iteration index: 10 \n",
      "policy function iteration error: 0.000015 \n",
      "iteration index: 11 \n",
      "policy function iteration error: 0.000006 \n",
      "iteration index: 12 \n",
      "policy function iteration error: 0.000002 \n",
      "iteration index: 13 \n",
      "policy function iteration error: 0.000001 \n",
      "iteration index: 14 \n",
      "policy function iteration error: 0.000000 \n",
      "iteration index: 15 \n",
      "policy function iteration error: 0.000000 \n",
      "iteration index: 16 \n",
      "policy function iteration error: 0.000000 \n",
      "iteration index: 17 \n",
      "policy function iteration error: 0.000000 \n",
      "iteration index: 18 \n",
      "policy function iteration error: 0.000000 \n",
      "iteration index: 1 \n",
      "policy function iteration error: 0.088992 \n",
      "iteration index: 2 \n",
      "policy function iteration error: 0.028953 \n",
      "iteration index: 3 \n",
      "policy function iteration error: 0.011133 \n",
      "iteration index: 4 \n",
      "policy function iteration error: 0.004583 \n",
      "iteration index: 5 \n",
      "policy function iteration error: 0.001812 \n",
      "iteration index: 6 \n",
      "policy function iteration error: 0.000703 \n",
      "iteration index: 7 \n",
      "policy function iteration error: 0.000271 \n",
      "iteration index: 8 \n",
      "policy function iteration error: 0.000104 \n",
      "iteration index: 9 \n",
      "policy function iteration error: 0.000040 \n",
      "iteration index: 10 \n",
      "policy function iteration error: 0.000015 \n",
      "iteration index: 11 \n",
      "policy function iteration error: 0.000006 \n",
      "iteration index: 12 \n",
      "policy function iteration error: 0.000002 \n",
      "iteration index: 13 \n",
      "policy function iteration error: 0.000001 \n",
      "iteration index: 14 \n",
      "policy function iteration error: 0.000000 \n",
      "iteration index: 15 \n",
      "policy function iteration error: 0.000000 \n",
      "iteration index: 16 \n",
      "policy function iteration error: 0.000000 \n",
      "iteration index: 17 \n",
      "policy function iteration error: 0.000000 \n",
      "iteration index: 18 \n",
      "policy function iteration error: 0.000000 \n",
      "iteration index: 1 \n",
      "policy function iteration error: 0.088992 \n",
      "iteration index: 2 \n",
      "policy function iteration error: 0.028953 \n",
      "iteration index: 3 \n",
      "policy function iteration error: 0.011115 \n",
      "iteration index: 4 \n",
      "policy function iteration error: 0.004582 \n",
      "iteration index: 5 \n",
      "policy function iteration error: 0.001815 \n",
      "iteration index: 6 \n",
      "policy function iteration error: 0.000706 \n",
      "iteration index: 7 \n",
      "policy function iteration error: 0.000273 \n",
      "iteration index: 8 \n",
      "policy function iteration error: 0.000105 \n",
      "iteration index: 9 \n",
      "policy function iteration error: 0.000040 \n",
      "iteration index: 10 \n",
      "policy function iteration error: 0.000015 \n",
      "iteration index: 11 \n",
      "policy function iteration error: 0.000006 \n",
      "iteration index: 12 \n",
      "policy function iteration error: 0.000002 \n",
      "iteration index: 13 \n",
      "policy function iteration error: 0.000001 \n",
      "iteration index: 14 \n",
      "policy function iteration error: 0.000000 \n",
      "iteration index: 15 \n",
      "policy function iteration error: 0.000000 \n",
      "iteration index: 16 \n",
      "policy function iteration error: 0.000000 \n",
      "iteration index: 17 \n",
      "policy function iteration error: 0.000000 \n",
      "iteration index: 18 \n",
      "policy function iteration error: 0.000000 \n",
      "iteration index: 1 \n",
      "policy function iteration error: 0.088992 \n",
      "iteration index: 2 \n",
      "policy function iteration error: 0.028953 \n",
      "iteration index: 3 \n",
      "policy function iteration error: 0.011115 \n",
      "iteration index: 4 \n",
      "policy function iteration error: 0.004582 \n",
      "iteration index: 5 \n",
      "policy function iteration error: 0.001815 \n",
      "iteration index: 6 \n",
      "policy function iteration error: 0.000706 \n",
      "iteration index: 7 \n",
      "policy function iteration error: 0.000273 \n",
      "iteration index: 8 \n",
      "policy function iteration error: 0.000105 \n",
      "iteration index: 9 \n",
      "policy function iteration error: 0.000040 \n",
      "iteration index: 10 \n",
      "policy function iteration error: 0.000015 \n",
      "iteration index: 11 \n",
      "policy function iteration error: 0.000006 \n",
      "iteration index: 12 \n",
      "policy function iteration error: 0.000002 \n",
      "iteration index: 13 \n",
      "policy function iteration error: 0.000001 \n",
      "iteration index: 14 \n",
      "policy function iteration error: 0.000000 \n",
      "iteration index: 15 \n",
      "policy function iteration error: 0.000000 \n",
      "iteration index: 16 \n",
      "policy function iteration error: 0.000000 \n",
      "iteration index: 17 \n",
      "policy function iteration error: 0.000000 \n",
      "iteration index: 18 \n",
      "policy function iteration error: 0.000000 \n",
      "iteration index: 1 \n",
      "policy function iteration error: 0.088992 \n",
      "iteration index: 2 \n",
      "policy function iteration error: 0.028953 \n",
      "iteration index: 3 \n",
      "policy function iteration error: 0.011115 \n",
      "iteration index: 4 \n",
      "policy function iteration error: 0.004582 \n",
      "iteration index: 5 \n",
      "policy function iteration error: 0.001815 \n",
      "iteration index: 6 \n",
      "policy function iteration error: 0.000706 \n",
      "iteration index: 7 \n",
      "policy function iteration error: 0.000273 \n",
      "iteration index: 8 \n",
      "policy function iteration error: 0.000105 \n",
      "iteration index: 9 \n",
      "policy function iteration error: 0.000040 \n",
      "iteration index: 10 \n",
      "policy function iteration error: 0.000015 \n",
      "iteration index: 11 \n",
      "policy function iteration error: 0.000006 \n",
      "iteration index: 12 \n",
      "policy function iteration error: 0.000002 \n",
      "iteration index: 13 \n",
      "policy function iteration error: 0.000001 \n",
      "iteration index: 14 \n",
      "policy function iteration error: 0.000000 \n",
      "iteration index: 15 \n",
      "policy function iteration error: 0.000000 \n",
      "iteration index: 16 \n",
      "policy function iteration error: 0.000000 \n",
      "iteration index: 17 \n",
      "policy function iteration error: 0.000000 \n",
      "iteration index: 18 \n",
      "policy function iteration error: 0.000000 \n",
      "iteration index: 1 \n",
      "policy function iteration error: 0.088992 \n",
      "iteration index: 2 \n",
      "policy function iteration error: 0.028953 \n",
      "iteration index: 3 \n",
      "policy function iteration error: 0.011115 \n",
      "iteration index: 4 \n",
      "policy function iteration error: 0.004582 \n",
      "iteration index: 5 \n",
      "policy function iteration error: 0.001815 \n",
      "iteration index: 6 \n",
      "policy function iteration error: 0.000706 \n",
      "iteration index: 7 \n",
      "policy function iteration error: 0.000273 \n",
      "iteration index: 8 \n",
      "policy function iteration error: 0.000105 \n",
      "iteration index: 9 \n",
      "policy function iteration error: 0.000040 \n",
      "iteration index: 10 \n",
      "policy function iteration error: 0.000015 \n",
      "iteration index: 11 \n",
      "policy function iteration error: 0.000006 \n",
      "iteration index: 12 \n",
      "policy function iteration error: 0.000002 \n",
      "iteration index: 13 \n",
      "policy function iteration error: 0.000001 \n",
      "iteration index: 14 \n",
      "policy function iteration error: 0.000000 \n",
      "iteration index: 15 \n",
      "policy function iteration error: 0.000000 \n",
      "iteration index: 16 \n",
      "policy function iteration error: 0.000000 \n",
      "iteration index: 17 \n",
      "policy function iteration error: 0.000000 \n",
      "iteration index: 18 \n",
      "policy function iteration error: 0.000000 \n"
     ]
    },
    {
     "data": {
      "text/plain": [
       "\"Euler equation errors\""
      ]
     },
     "metadata": {},
     "output_type": "display_data"
    },
    {
     "data": {
      "text/plain": [
       "3×2 Matrix{Float64}:\n",
       " -3.5   -3.23\n",
       " -5.8   -5.49\n",
       " -7.68  -7.68"
      ]
     },
     "metadata": {},
     "output_type": "display_data"
    },
    {
     "data": {
      "text/plain": [
       "\"Elapsed time\""
      ]
     },
     "metadata": {},
     "output_type": "display_data"
    },
    {
     "data": {
      "text/plain": [
       "3×2 Matrix{Float64}:\n",
       " 0.01  1.0\n",
       " 0.01  1.79\n",
       " 0.02  2.42"
      ]
     },
     "metadata": {},
     "output_type": "display_data"
    }
   ],
   "source": [
    "norms = zeros(3,2);\n",
    "times = zeros(3,2);\n",
    "\n",
    "nkvec = [3,5,9];\n",
    "\n",
    "for i in 1:3\n",
    "\n",
    "    # STEP 1(a): generating the grid \n",
    "    nk = nkvec[i];\n",
    "    kgrid = polygrid(kmin,kmax,nk);\n",
    "    T = polybas(kmin,kmax,nk,kgrid);\n",
    "    invT = inv(T);\n",
    "    \n",
    "    m = Model(beta,gamma,alpha,delta,ykss,kss,yss,css,nk,kmax,kmin,kgrid,T,invT,maxiter,tol);\n",
    "\n",
    "    # time iteration\n",
    "    cfcn0, dif = nti_cheb(m);\n",
    "    times[i,1] = @elapsed nti_cheb(m);\n",
    "\n",
    "    err = calcerr(m,cfcn0);\n",
    "    norms[i,:] = log10.([mean(abs.(err)), maximum(abs.(err))]')\n",
    "\n",
    "end\n",
    "\n",
    "times[:,2] = times[:,1]./times[1,1]\n",
    "\n",
    "\n",
    "display(\"Euler equation errors\")\n",
    "display(round.(norms,digits=2))\n",
    "\n",
    "display(\"Elapsed time\")\n",
    "display(round.(times,digits=2))"
   ]
  }
 ],
 "metadata": {
  "celltoolbar": "Slideshow",
  "kernelspec": {
   "display_name": "Julia 1.8.3",
   "language": "julia",
   "name": "julia-1.8"
  },
  "language_info": {
   "file_extension": ".jl",
   "mimetype": "application/julia",
   "name": "julia",
   "version": "1.8.3"
  }
 },
 "nbformat": 4,
 "nbformat_minor": 4
}

{
 "cells": [
  {
   "cell_type": "markdown",
   "metadata": {
    "slideshow": {
     "slide_type": "slide"
    }
   },
   "source": [
    "<div style=\"text-align: center;\">\n",
    "# Topics in Macroeconomics A\n",
    "<!-- # マクロ経済特論A -->\n",
    "<div style=\"text-align: center;\">\n",
    "Euler equation and polynomial approximation\n",
    "<!-- 第4回：「オイラー方程式と多項式近似」 -->\n",
    "<br>\n",
    "<br>\n",
    "<div style=\"text-align: center;\">    \n",
    "October 2023\n",
    "<!-- 2022年10月 -->\n",
    "<div style=\"text-align: center;\">   \n",
    "Takeki Sunakawa\n",
    "<!-- 一橋大学　砂川武貴 -->"
   ]
  },
  {
   "cell_type": "markdown",
   "metadata": {
    "slideshow": {
     "slide_type": "slide"
    }
   },
   "source": [
    "# Introduction\n",
    "<!-- # イントロダクション -->\n",
    "\n",
    "- We have seen how to solve the neoclassical growth model using dynamic programming\n",
    "<!-- - 第3回では、動的計画法(dynamic programming)を用いて新古典派成長モデルを数値的に解く方法を示した -->\n",
    "\n",
    "\n",
    "- In the social planner's (Robinson Crusoe) optimization problem, we can solve for the optimal path of consumption and saving by solving the Bellman equation for the value function\n",
    "<!-- - 社会計画者（ロビンソン・クルーソー）の最適化問題では、ベルマン方程式を価値関数について解くことで、最適な消費や貯蓄の経路を求めることができた -->\n",
    "\n",
    "- This problem is known as the Social Planner's problem: Robinson Crusoe who lives in the deserted island does consumption, saving, and production at the same time \n",
    "<!-- - この問題は社会計画者問題(Social Planner's problem)とも呼ばれる：無人島に住むロビンソン・クルーソーは、消費や貯蓄と同時に生産を行っていた -->"
   ]
  },
  {
   "cell_type": "markdown",
   "metadata": {
    "slideshow": {
     "slide_type": "subslide"
    }
   },
   "source": [
    "- However, if there is another individual who does production instead of Robinson Crusoe in the deserted island, the original problem can be rewritten as the problem in the decentralized economy\n",
    "<!-- - しかし、無人島にロビンソン・クルーソーのほかに、彼に代わって生産を行う別の個人がいるとすると、もともとの問題を分権経済(decentralized economy)における問題として書き換えることができる -->\n",
    "\n",
    "\n",
    "- If second fundation theorem of welfare economics holds, then the allocation in the decentralized economy and the allocation in the social planner's problem coincide each other\n",
    "<!-- - 厚生経済学の第二基本定理(second fundation theorem of welfare economics)が成り立つ場合、分権経済における配分(allocation)と社会計画者問題における配分は一致する -->"
   ]
  },
  {
   "cell_type": "markdown",
   "metadata": {
    "slideshow": {
     "slide_type": "subslide"
    }
   },
   "source": [
    "- However, second fundation theorem of welfare economics does not hold when there is a distortionary tax on prices in the decentralized economy. Also, when there is a distortion in relative prices due to nominal rigidity, the allocation in the decentralized economy, in general, does not coincide with the allocation in the social planner's problem.\n",
    "<!-- - ところが、厚生経済学の第二基本定理は、分権経済において価格に歪みをもたらす税がある場合は成り立たない。また、（ニューケインジアン・モデルのような）価格の硬直性により相対価格に歪みがある場合も、分権経済における配分は、一般には、社会計画者問題における配分と一致しない -->\n",
    "\n",
    "\n",
    "- In these cases, we need to consider the problem of the decentralized economy instead of the social planner's problem\n",
    "<!-- - このような場合には、社会計画者問題の代わりに、分権経済の問題を考える必要がある -->\n",
    "\n",
    "- An approach using the Euler equation is useful in these cases, and it is called time iteration method\n",
    "<!-- - このときに有用なのが、今回説明するオイラー方程式(Euler equation)を用いたアプローチであり、時間反復法(time iteration method)と呼ばれる -->"
   ]
  },
  {
   "cell_type": "markdown",
   "metadata": {
    "slideshow": {
     "slide_type": "subslide"
    }
   },
   "source": [
    "- Each of linear interpolation and spline interpolation approximates spaces between grid points dividing the state space by different functions\n",
    "<!-- - 線形補間やスプライン補間は、いずれも状態空間を分割するグリッドの間を異なる関数で近似する -->\n",
    "\n",
    "- Interpolation using polynomials approximates the entire state space by a single function\n",
    "<!-- - 今回説明する多項式を用いた補間は、状態空間全体を一つの関数で近似する -->\n",
    "\n",
    "- By applying different methods to the same problem and comparing the solutions, we will deepen our understanding\n",
    "<!-- - 同じ問題に異なる方法を適用して求めた解の比較を行い、理解をより深める -->"
   ]
  },
  {
   "cell_type": "markdown",
   "metadata": {
    "slideshow": {
     "slide_type": "slide"
    }
   },
   "source": [
    "# The decentralized economy and time iteration\n",
    "# Infinite horizon model in the decentralized economy\n",
    "<!-- # 分権経済と時間反復法\n",
    "## 分権経済における無限期間モデル\n",
    " -->\n",
    " \n",
    "-  The optimization problem of the social planner in the infinite horizon model is as follows. That is, Robinson crusoe will choose consumption and saving so as to maximize the discounted present value of the utility from consumption in finite periods \n",
    "<!-- - 前回扱った、無限期間モデルにおける社会計画者の最適化問題は以下の通り。すなわち、ロビンソン・クルーソーは無限期間の消費から得られる効用の割引現在価値を最大化するように、消費と貯蓄を選択する -->\n",
    "\n",
    "$$\n",
    "  \\max_{\\{c_{t},k_{t+1}\\}_{t=0}^{\\infty}} \\sum_{t=0}^{\\infty} \\beta^{t} u(c_{t})\n",
    "$$\n",
    "\n",
    "subject to\n",
    "\n",
    "$$\n",
    "  c_{t} + k_{t+1} \\leq f(k_{t}), k_{0} \\text{ given.}\n",
    "$$"
   ]
  },
  {
   "cell_type": "markdown",
   "metadata": {
    "slideshow": {
     "slide_type": "subslide"
    }
   },
   "source": [
    "- $c_{t}$ is consumption in period $t$, and $k_{t}$ is capital at the beginning of period $t$\n",
    "<!-- - ここで、$c_{t}$は$t$期における消費、$k_{t}$は$t$期初の資本である -->\n",
    "\n",
    "- Each of the utility funtcion $u(c_{t})$ and the production function satisfies $f(k_{t})$ standard assumptions, $u'(c_{t})>0$, $u''(c_{t})<0$, $f'(k_{t})>0$, and $f''(k_{t})<0$\n",
    "<!-- - 効用関数$u(c_{t})$、生産関数$f(k_{t})$はそれぞれ標準的な仮定（$u'(c_{t})>0$および$u''(c_{t})<0$、$f'(k_{t})>0$および$f''(k_{t})<0$）を満たす -->"
   ]
  },
  {
   "cell_type": "markdown",
   "metadata": {
    "slideshow": {
     "slide_type": "subslide"
    }
   },
   "source": [
    "- For simplicity, we set the depreciation rate of capital as $\\delta=1$. As shown previously, there exists the analytical solution to the model in this case\n",
    "<!-- - ここでは、簡単化のために、資本の減耗率は$\\delta=1$とする。前回示したように、この場合はモデルの解析的な解が存在する -->\n",
    "\n",
    "- Recap: When we specify $u(c)=\\ln c, f(k)=k^{\\alpha}, \\delta=1$, we have the following analytical solutions\n",
    "<!-- - 復習：$u(c)=\\ln c, f(k)=k^{\\alpha}, \\delta=1$と特定化した場合、次のような解析的解が存在する -->\n",
    "\n",
    "\\begin{align*}\n",
    "  V(k) &= A + B\\ln k, \\\\\n",
    "  A &= (1-\\beta)^{-1}\\big[\\ln(1-\\alpha\\beta) + \\frac{\\alpha\\beta}{1-\\alpha\\beta}\\ln\\alpha\\beta\\big], \\quad B = \\frac{\\alpha}{1-\\alpha\\beta}, \\\\\n",
    "  k' &= \\alpha\\beta k^{\\alpha}\n",
    "\\end{align*}"
   ]
  },
  {
   "cell_type": "markdown",
   "metadata": {
    "slideshow": {
     "slide_type": "subslide"
    }
   },
   "source": [
    "- By using the Lagrangean undetermined multiplier method, the dynamic Lagrangean can be written as follows\n",
    "<!-- - ラグランジュ未定乗数法を用いると、動的ラグランジュアン(dynamic Lagrangean)は以下のように書くことができる -->\n",
    "\n",
    "$$\n",
    "  \\mathcal{L}_{0} \\equiv \\max_{\\{c_{t},k_{t+1}\\}_{t=0}^{\\infty}} \\sum_{t=0}^{\\infty} \\beta^{t} \\big\\{u(c_{t}) + \\lambda_{t}\\big(f(k_{t})-k_{t+1}-c_{t}\\big)\\big\\}\n",
    "$$\n",
    "\n",
    "where $\\lambda_{t}$ is called Lagrange multiplier\n",
    "<!-- $\\lambda_{t}$はラグランジュ乗数(Lagrange multiplier)と呼ばれる -->"
   ]
  },
  {
   "cell_type": "markdown",
   "metadata": {
    "slideshow": {
     "slide_type": "subslide"
    }
   },
   "source": [
    "- The first order conditions for $(c_{t},k_{t+1},\\lambda_{t})$ are\n",
    "<!-- - $(c_{t},k_{t+1},\\lambda_{t})$のそれぞれについて一階条件を求めると -->\n",
    "\n",
    "\\begin{align*}\n",
    "  \\frac{\\partial \\mathcal{L}_{0}}{\\partial c_{t}} &= u'(c_{t}) - \\lambda_{t} = 0 \\\\\n",
    "  \\frac{\\partial \\mathcal{L}_{0}}{\\partial k_{t+1}} &= -\\lambda_{t}+\\beta\\lambda_{t+1}f'(k_{t+1}) = 0 \\\\\n",
    "  \\frac{\\partial \\mathcal{L}_{0}}{\\partial \\lambda_{t}} &= f(k_{t})-k_{t+1}-c_{t} = 0\n",
    "\\end{align*}"
   ]
  },
  {
   "cell_type": "markdown",
   "metadata": {
    "slideshow": {
     "slide_type": "subslide"
    }
   },
   "source": [
    "- By putting the first two equations together\n",
    "<!-- - 最初の2つの式をまとめると -->\n",
    "\n",
    "$$\n",
    "  u'(c_{t}) = \\beta u'(c_{t+1})f'(k_{t+1})\n",
    "$$"
   ]
  },
  {
   "cell_type": "markdown",
   "metadata": {
    "slideshow": {
     "slide_type": "fragment"
    }
   },
   "source": [
    "- This Euler equation is called the equilibrium condition, and is a necessary condition for the solution. That is, by letting the solution to the optimization problem be $c_{t}=h(k_{t})$, and using the budget constraint $k_{t+1}=f(k_{t})-c_{t}$, the function $h(k_{t})$ satisfies the following equation\n",
    "<!-- - このオイラー方程式は、均衡条件とも呼ばれる、解の必要条件である。すなわち、最適化問題の解を$c_{t}=h(k_{t})$として、予算制約式$k_{t+1}=f(k_{t})-c_{t}$を用いると、関数$h(k_{t})$は以下の式を満たす -->\n",
    "\n",
    "\\begin{align*}\n",
    "  u'(c_{t}) &= \\beta u'(c_{t+1})f'(k_{t+1}) \\\\\n",
    "  \\Leftrightarrow u'(h(k_{t})) &= \\beta u'(h(k_{t+1}))f'(k_{t+1}) \\\\\n",
    "  &= \\beta u'(h(f(k_{t})-h(k_{t})))f'(f(k_{t})-h(k_{t}))\n",
    "\\end{align*}\n",
    "\n",
    "- Therefore, we need to obtain an unknown function $h(k_{t})$ satisfying this equation \n",
    "<!-- - したがって、この式を満たすような未知の関数$h(k_{t})$を求めればよいことになる -->"
   ]
  },
  {
   "cell_type": "markdown",
   "metadata": {
    "slideshow": {
     "slide_type": "subslide"
    }
   },
   "source": [
    "### Decentralized economy\n",
    "<!-- ### 分権経済 -->\n",
    "\n",
    "- There is another person in the deserted island, and she produces crops by borrowing land and seeds $k_{t}$ at price of $r_{t}$ from Robinson Crusoe in each period of $t=0,1,2,\\dots$\n",
    "<!-- - 無人島にもう一人いて、各期$t=0,1,2,\\dots$において、ロビンソン・クルーソーから土地と種($k_{t}$)を価格$r_{t}$で借りて作物を作るとしよう -->\n",
    "\n",
    "- By letting $\\pi_{t}$ be profits, the profit maximization problem of the individual can be written as follows \n",
    "<!-- - 利潤を$\\pi_{t}$とすると、この個人の利潤最大化問題は以下のように書ける -->\n",
    "\n",
    "$$\n",
    "  \\pi_{t} = \\max_{k_{t}}f(k_{t})-r_{t}k_{t}\n",
    "$$\n",
    "\n",
    "- The optimization condition of the problem is, if excluding corner solutions, $r_{t}=f'(k_{t})$\n",
    "<!-- - この問題の最適化条件は、端点解の場合を除くと、$r_{t}=f'(k_{t})$となる -->"
   ]
  },
  {
   "cell_type": "markdown",
   "metadata": {
    "slideshow": {
     "slide_type": "subslide"
    }
   },
   "source": [
    "- Robinson Crusoe buys crops with income from lending land instead of production. That is, he solves the following problem\n",
    "<!-- - 一方で、ロビンソン・クルーソーは、生産をする代わりに、地代の支払いを受けて作物を購入するとしよう。すなわち、以下の問題を解く -->\n",
    "\n",
    "$$\n",
    "  \\max_{\\{c_{t},k_{t+1}\\}_{t=0}^{\\infty}} \\sum_{t=0}^{\\infty} \\beta^{t} u(c_{t})\n",
    "$$\n",
    "\n",
    "subject to\n",
    "\n",
    "$$\n",
    "  c_{t} + k_{t+1} \\leq r_{t}k_{t} + \\pi_{t}, k_{0} \\text{ given.}\n",
    "$$"
   ]
  },
  {
   "cell_type": "markdown",
   "metadata": {
    "slideshow": {
     "slide_type": "subslide"
    }
   },
   "source": [
    "- Solving this problem by using dynamic Lagrangean, we have\n",
    "<!-- - この問題を、同じように動的ラグランジュアンを用いて解くと -->\n",
    "\n",
    "$$\n",
    "  \\mathcal{L}_{0} \\equiv \\max_{\\{c_{t},k_{t+1}\\}_{t=0}^{\\infty}} \\sum_{t=0}^{\\infty} \\beta^{t} \\big\\{u(c_{t}) + \\lambda_{t}\\big(r_{t}k_{t}+\\pi_{t}-k_{t+1}-c_{t}\\big)\\big\\}\n",
    "$$"
   ]
  },
  {
   "cell_type": "markdown",
   "metadata": {
    "slideshow": {
     "slide_type": "fragment"
    }
   },
   "source": [
    "- The first order conditions for $(c_{t},k_{t+1},\\lambda_{t})$ are\n",
    "<!-- - $(c_{t},k_{t+1},\\lambda_{t})$のそれぞれについて一階条件を求めると -->\n",
    "\n",
    "\\begin{align*}\n",
    "  \\frac{\\mathcal{L}_{0}}{c_{t}} &= u'(c_{t}) - \\lambda_{t} = 0 \\\\\n",
    "  \\frac{\\mathcal{L}_{0}}{k_{t+1}} &= -\\lambda_{t}+\\beta\\lambda_{t+1}r_{t+1} = 0 \\\\\n",
    "  \\frac{\\mathcal{L}_{0}}{\\lambda_{t}} &= r_{t}k_{t}+\\pi_{t}-k_{t+1}-c_{t} = 0\n",
    "\\end{align*}"
   ]
  },
  {
   "cell_type": "markdown",
   "metadata": {
    "slideshow": {
     "slide_type": "subslide"
    }
   },
   "source": [
    "- Putting the first two equations together,\n",
    "<!-- - 最初の2つの式をまとめると -->\n",
    "\n",
    "\\begin{align*}\n",
    "  u'(c_{t}) &= \\beta u'(c_{t+1})r_{t+1} \\\\\n",
    "  &= \\beta u'(c_{t+1})f'(k_{t+1})\n",
    "\\end{align*}\n"
   ]
  },
  {
   "cell_type": "markdown",
   "metadata": {
    "slideshow": {
     "slide_type": "fragment"
    }
   },
   "source": [
    "- Also, rearranging the budget constraint (noting that $\\pi_{t} = f(k_{t})-r_{t}k_{t}$),\n",
    "<!-- - また、予算制約式も（$\\pi_{t} = f(k_{t})-r_{t}k_{t}$に注意して）整理してまとめると -->\n",
    "\n",
    "\\begin{align*}\n",
    "  c_{t} + k_{t+1} &= r_{t}k_{t} + \\pi_{t} \\\\\n",
    "  &= f(k_{t})\n",
    "\\end{align*}\n",
    "\n",
    "- These equilibrium conditions are the same as in the social planner's problem\n",
    "<!-- - これらの均衡条件は、社会計画者問題の場合と同じである -->"
   ]
  },
  {
   "cell_type": "markdown",
   "metadata": {
    "slideshow": {
     "slide_type": "subslide"
    }
   },
   "source": [
    "- Here we extend the model further by assuming that Robinson Crusoe pay a part of income from lending land as tax at rate $\\tau$\n",
    "<!-- - ここで、さらにモデルを拡張して、ロビンソン・クルーソーは地代による所得の一部を税率$\\tau$で政府に税金として納めるとする。また政府は税収を元に移転$TR_{t}=\\tau r_{t}k_{t}$を行う。このとき、消費者の動学最適化問題は -->\n",
    "\n",
    "$$\n",
    "  \\max_{\\{c_{t},k_{t+1}\\}_{t=0}^{\\infty}} \\sum_{t=0}^{\\infty} \\beta^{t} u(c_{t})\n",
    "$$\n",
    "\n",
    "subject to\n",
    "\n",
    "$$\n",
    "  c_{t} + k_{t+1} \\leq (1-\\tau)r_{t}k_{t} + \\pi_{t} + TR_{t}, k_{0} \\text{ given.}\n",
    "$$"
   ]
  },
  {
   "cell_type": "markdown",
   "metadata": {
    "slideshow": {
     "slide_type": "subslide"
    }
   },
   "source": [
    "- Now, the necessary condition for the solution using dynamic Lagrangean, namely the Euler equation is\n",
    "<!-- - このとき、動的ラグランジュアンを用いた解の必要条件、すなわちオイラー方程式は -->\n",
    "\n",
    "\\begin{align*}\n",
    "  u'(c_{t}) &= \\beta u'(c_{t+1})(1-\\tau)r_{t+1} \\\\\n",
    "  &= \\beta u'(c_{t+1})(1-\\tau)f'(k_{t+1})\n",
    "\\end{align*}\n",
    "\n",
    "This is different from the case of the social planner's problem. Therefore, the solution to the optimization problem $c_{t}=h(k_{t})$ and the sequence of consumption and capital $\\{c_{t},k_{t+1}\\}_{t=0}^{\\infty}$ also differ\n",
    "<!-- となり、社会計画者問題の場合と異なる。したがって、このオイラー方程式を用いて求めた最適化問題の解$c_{t}=h(k_{t})$あるいは消費と資本の流列$\\{c_{t},k_{t+1}\\}_{t=0}^{\\infty}$も異なることになる -->\n",
    "\n",
    "- In such a case, we need another approach rather than solving the social planner's problem\n",
    "<!-- - このようなケースでは、社会計画者問題の代わりに、別のアプローチが必要になる -->"
   ]
  },
  {
   "cell_type": "markdown",
   "metadata": {
    "slideshow": {
     "slide_type": "fragment"
    }
   },
   "source": [
    "- Also, rearranging the budget constraint (noting that $\\pi_{t} = f(k_{t})-r_{t}k_{t}$),\n",
    "<!-- - また、予算制約式も（$\\pi_{t} = f(k_{t})-r_{t}k_{t}$に注意して）整理してまとめると -->\n",
    "\n",
    "\\begin{align*}\n",
    "  c_{t} + k_{t+1} &= (1-\\tau) r_{t}k_{t} + \\pi_{t} + TR_{t} \\\\\n",
    "  &= f(k_{t})\n",
    "\\end{align*}"
   ]
  },
  {
   "cell_type": "markdown",
   "metadata": {
    "slideshow": {
     "slide_type": "slide"
    }
   },
   "source": [
    "\\begin{align*}\n",
    "  & u'(c_{t}) = \\beta u'(c_{t+1})(1-\\tau)f'(k_{t+1}) \\\\\n",
    "  & c_{t} + k_{t+1} = (1-\\tau)r_{t}k_{t} + \\pi_{t} + TR_{t} \\\\\n",
    "  & \\pi_{t} = f(k_{t})-r_{t}k_{t} \\\\\n",
    "  & TR_{t}=\\tau r_{t}k_{t}\n",
    "\\end{align*}\n"
   ]
  },
  {
   "cell_type": "markdown",
   "metadata": {
    "slideshow": {
     "slide_type": "slide"
    }
   },
   "source": [
    "## Time iteration\n",
    "<!-- ## 時間反復法 -->\n",
    "\n",
    "- Hereafter, for simplicity and comparison purposes, we consider the case of $\\delta=1, \\tau=0$\n",
    "<!-- - 以下では、簡単化と前回との比較のため、$\\delta=1, \\tau=0$のケースを考える -->\n",
    "\n",
    "\n",
    "- As is previously done, we denote the next period's variables $k',c'$ instead of using time subscript $t+1$\n",
    "<!-- - 前回同様、時間をあらわすサブスクリプト$t+1$の代わりに、次期の変数を$k',c'$などと表記する -->"
   ]
  },
  {
   "cell_type": "markdown",
   "metadata": {
    "slideshow": {
     "slide_type": "fragment"
    }
   },
   "source": [
    "- By substituting the next period's policy function $c'=h(k')$ and this period's resource constraint $k'=f(k)-c$, we have\n",
    "<!-- - 次期の政策関数$c'=h(k')$と今期の資源制約式$k'=f(k)-c$を代入することで、以下の式を得る -->\n",
    "\n",
    "\\begin{align*}\n",
    "  u'(c) &= \\beta u'(c')f'(k') \\\\\n",
    "  &= \\beta u'(h(k'))f'(k') \\\\\n",
    "  &= \\beta u'(h(f(k)-c))f'(f(k)-c)\n",
    "\\end{align*}\n",
    "\n",
    "Taking the Euler equation as given, the time iteration (TI) is one of the methods to solve it for the policy function.\n",
    "<!-- オイラー方程式が与えられたとき、それを政策関数$c=h(k)$について解くための方法の一つが、時間反復法(time iteration, TI)と呼ばれる方法である -->"
   ]
  },
  {
   "cell_type": "markdown",
   "metadata": {
    "slideshow": {
     "slide_type": "subslide"
    }
   },
   "source": [
    "- As the value function iteration (VFI), TI generates a sequence of the policy functions and has the convergent function as the solution\n",
    "<!-- - 前回学んだ価値関数反復法(VFI)と同様に、TIは、政策関数の流列を作り最終的に収束した関数を解とする -->\n",
    "\n",
    "- That is, we have an arbitrary guess of the policy function $h^{(0)}(k)$ and solve the following equation for $c$\n",
    "<!-- - すなわち、任意に政策関数$h^{(0)}(k)$を推測して、以下の式を$c$について解く -->\n",
    "\n",
    "$$\n",
    "  u'(c) = \\beta u'(h^{(0)}(f(k)-c))f'(f(k)-c)\n",
    "$$\n",
    "\n",
    "Let the solution obtained here be $c=h^{(1)}(k)$\n",
    "<!-- ここで求めた解を、$c=h^{(1)}(k)$とする -->\n"
   ]
  },
  {
   "cell_type": "markdown",
   "metadata": {
    "slideshow": {
     "slide_type": "subslide"
    }
   },
   "source": [
    "- After that, using the obtained $h^{(1)}(k)$, we solve the following equation for $c=h^{(2)}(k)$\n",
    "<!-- - その後、得られた$h^{(1)}(k)$を用いて、以下の式を$c=h^{(2)}(k)$について解く -->\n",
    "\n",
    "$$\n",
    "  u'(c) = \\beta u'(h^{(1)}(f(k)-c))f'(f(k)-c)\n",
    "$$\n",
    "\n",
    "- And, until the sequence of the function converges, namely until $h^{(n-1)}(k)$ and $h^{(n)}(k)$ get sufficiently close, we iterate calculation\n",
    "<!-- - そして、関数の流列が収束するまで、つまり$h^{(n-1)}(k)$と$h^{(n)}(k)$が十分近くなるまで、計算を繰り返す -->"
   ]
  },
  {
   "cell_type": "markdown",
   "metadata": {
    "slideshow": {
     "slide_type": "subslide"
    }
   },
   "source": [
    "- This is very similar to calculating $V^{(n)}(k)$ by solving the Bellman equation taking $V^{(n-1)}(k)$ as given\n",
    "<!-- - これは、VFIにおいて、$V^{(n-1)}(k)$を所与としてベルマン方程式を解くことで$V^{(n)}(k)$を計算することとよく似ている -->\n",
    "\n",
    "\n",
    "- Here, instead of solving the maximization problem on the right-hand side of the Bellman equation, we solve the root-finding problem for $c$ satisfying the Euler equation\n",
    "<!-- - ここでは、ベルマン方程式の右辺における最大化問題を解く代わりに、オイラー方程式を満たすような$c$を求める求根問題(root-finding problem)を解くのである -->\n",
    "\n",
    "- Also, we need to approximate the value of $h^{(n-1)}(k')$ which is not on the grid\n",
    "<!-- - またそのとき、グリッド上にない$h^{(n-1)}(k')$の値について近似する必要がある -->"
   ]
  },
  {
   "cell_type": "markdown",
   "metadata": {
    "slideshow": {
     "slide_type": "subslide"
    }
   },
   "source": [
    "## Numerical computation for time iteration\n",
    "<!-- ## 時間反復法の数値計算 -->\n",
    "\n",
    "- Algorithm\n",
    "<!-- - アルゴリズム -->\n",
    "\n",
    "1. Make the grid: Discretize the state variables by the grid with $I=21$ points. Also, make an initial guess of the policy function function $h^{(0)}(k^{i})$ on the grid. The initial guess is more important in TI than in VFI, as the convergence of the policy function is not guaranteed in TI\n",
    "<!-- 1. グリッド生成：状態空間の評価点を$I=21$個のグリッドに区切る。また、グリッド上における政策関数$h^{(0)}(k^{i})$の初期値を当て推量(initial guess)する。VFIと異なり、政策関数の収束は必ずしも保証されていないため、初期値はより重要になる -->\n",
    "\n",
    "2. Convergence criteria: Set the parameter $\\varepsilon=10^{-5}$ for the criteria of convergence\n",
    "<!-- 2. 収束の基準：収束の基準になるパラメータ$\\varepsilon=10^{-5}$を与える -->\n",
    "\n",
    "3. Approximation and evaluation: Values of the policy function not on $k^{i}$ must be approximated. Let $h(k;\\mathbb{b})$ be the value of the policy function on $k$ approximated by the parameter $\\mathbb{b}$\n",
    "<!-- 3. 近似・評価：$k^{i}$上にない政策関数の値については近似する必要がある。$h(k;\\mathbb{b})$をパラメータ$\\mathbb{b}$を使って近似した時の、$k$上での政策関数の値とする -->"
   ]
  },
  {
   "cell_type": "markdown",
   "metadata": {
    "slideshow": {
     "slide_type": "subslide"
    }
   },
   "source": [
    "4. Optimization: taking the old policy function $h^{(n-1)}(k^{i})$ as given, for each $k^{i}$, solve\n",
    "<!-- 4. 最適化：古い政策関数$h^{(n-1)}(k^{i})$を所与として、各$k^{i}$について、 -->\n",
    "\n",
    "$$\n",
    "  u'(c) = \\beta u'(h^{(n-1)}(f(k^{i})-c))f'(f(k^{i})-c)\n",
    "$$\n",
    "\n",
    "for $c$. To find $c$ such that solves the Euler equation, use optimization routines in each programming language. It is important especially in TI to consider this point carefully, as it may improve the speed and stability of the convergence. In this step, we obtain the new policy function $h^{(n)}(k^{i})$\n",
    "<!-- を$c$について解く。オイラー方程式の解である$c$を探すためには、各言語の最適化関数を利用する。特にTIでは、ここをどう工夫するかで収束のスピードや安定性が変わってくる。このステップで新しい政策関数$h^{(n)}(k^{i})$を得る -->\n",
    "\n",
    "5. If $\\|h^{(0)}(k^{i})-h^{(1)}(k^{i})\\|<\\varepsilon$ holds for all the $k^{i}$s, stop the algorithm. Otherwise, substitute $h^{(1)}(k^{i})$ into $h^{(0)}(k^{i})$ and iterate the steps 3-4\n",
    "<!-- 5. 全ての$k^{i}$について$\\|V^{(0)}(k^{i})-V^{(1)}(k^{i})\\|<\\varepsilon$であればストップ。そうでなければ、$V^{(1)}(k^{i})$を$V^{(0)}(k^{i})$に代入して、ステップ3-4を繰り返す -->\n",
    "<!-- 5. 全ての$k^{i}$について$\\|h^{(0)}(k^{i})-h^{(1)}(k^{i})\\|<\\varepsilon$であればストップ。そうでなければ、$h^{(1)}(k^{i})$を$h^{(0)}(k^{i})$に代入して、ステップ3-4を繰り返す -->"
   ]
  },
  {
   "cell_type": "markdown",
   "metadata": {
    "slideshow": {
     "slide_type": "subslide"
    }
   },
   "source": [
    "- There is no guarantee that iterations by TI lead to the convegence to the true policy function\n",
    "<!-- - VFIと異なり、TIによる繰り返し計算が真の政策関数に収束する保証はない -->\n",
    "\n",
    "\n",
    "- Therefore, the solution by TI needs a careful consideration on whether the solution is appropriate or not by simulation results and numerical errors\n",
    "<!-- - このため、TIによって計算した解は、それが適切な解であるかどうか、シミュレーションの結果や計算誤差によってよく吟味する必要がある -->"
   ]
  },
  {
   "cell_type": "markdown",
   "metadata": {
    "slideshow": {
     "slide_type": "fragment"
    }
   },
   "source": [
    "- The initial values of the policy function use the values of capital on the grid\n",
    "<!-- - 政策関数の初期値は、ここでは資本のグリッド上の値を用いている -->\n",
    "\n",
    "\n",
    "- For optimization, we use the function xxx based on Newton's method\n",
    "<!-- - 最適化には、MATLABであれば、ニュートン法をベースとする関数fsolveを用いる -->"
   ]
  },
  {
   "cell_type": "code",
   "execution_count": 1,
   "metadata": {},
   "outputs": [],
   "source": [
    "# Load packages \n",
    "using LinearAlgebra\n",
    "using NLsolve\n",
    "using Statistics\n",
    "using Plots\n",
    "using Interpolations\n",
    "using DelimitedFiles\n",
    "using Printf"
   ]
  },
  {
   "cell_type": "code",
   "execution_count": 2,
   "metadata": {},
   "outputs": [],
   "source": [
    "struct Model{TI<:Integer, TF<:AbstractFloat}\n",
    "    # parameters\n",
    "    beta::TF           # Discount factor\n",
    "    gamma::TF          # Relative risk aversion\n",
    "    alpha::TF          # capital share\n",
    "    delta::TF          # capital depreciation\n",
    "\n",
    "    # steady state values\n",
    "    ykss::TF\n",
    "    kss::TF\n",
    "    yss::TF\n",
    "    css::TF \n",
    "\n",
    "    # grid\n",
    "    kmax::TF           # maximum value of grid points on capital\n",
    "    kmin::TF           # minimum value of grid points on capital\n",
    "    nk::TI             # the number of grid points\n",
    "    kgrid::Array{TF,1} # grid points on capital\n",
    "\n",
    "    # iterations\n",
    "    maxiter::TI        # maximum number of iterations\n",
    "    tol::TF            # tolerance of errors for iterations\n",
    "\n",
    "end"
   ]
  },
  {
   "cell_type": "code",
   "execution_count": 3,
   "metadata": {},
   "outputs": [
    {
     "data": {
      "text/plain": [
       "mu_CRRA (generic function with 1 method)"
      ]
     },
     "execution_count": 3,
     "metadata": {},
     "output_type": "execute_result"
    }
   ],
   "source": [
    "function mu_CRRA(cons,gamma)\n",
    "\n",
    "    mu = cons^(-gamma)\n",
    "\n",
    "    return mu\n",
    "    \n",
    "end"
   ]
  },
  {
   "cell_type": "code",
   "execution_count": 4,
   "metadata": {
    "slideshow": {
     "slide_type": "subslide"
    }
   },
   "outputs": [
    {
     "data": {
      "text/plain": [
       "Euler_Eq (generic function with 1 method)"
      ]
     },
     "execution_count": 4,
     "metadata": {},
     "output_type": "execute_result"
    }
   ],
   "source": [
    "function Euler_Eq(m,x,capital,cfcn)\n",
    "\n",
    "    cons = x[1]\n",
    "    wealth = capital^m.alpha + (1-m.delta)*capital;\n",
    "    kprime = wealth - cons;\n",
    "    \n",
    "    # Trick: k' takes positive values only\n",
    "    kprime = max(m.kgrid[1],kprime);\n",
    "\n",
    "    # linear interpolation of the next period's policy function\n",
    "    c_interp = LinearInterpolation(m.kgrid,cfcn);\n",
    "    cnext = c_interp(kprime);\n",
    "\n",
    "    # obtain the residual of the Euler equation (compute u'(c) by using the function mu_CRRA)\n",
    "    res = mu_CRRA(cons,m.gamma) - m.beta*mu_CRRA(cnext,m.gamma)*(m.alpha*kprime^(m.alpha-1) + (1 - m.delta));\n",
    "\n",
    "    return res\n",
    "end"
   ]
  },
  {
   "cell_type": "code",
   "execution_count": 5,
   "metadata": {
    "slideshow": {
     "slide_type": "subslide"
    }
   },
   "outputs": [],
   "source": [
    "# calibration\n",
    "beta = 0.96;  # discount factor\n",
    "gamma = 1.0;  # relative risk aversion\n",
    "alpha = 0.40; # capital share\n",
    "delta = 1.0;  # depreciation of fixed capital (analytical solution exists when delta=1.0)\n",
    "\n",
    "# steady state values\n",
    "ykss = (1.0/beta-1.0+delta)/alpha;\n",
    "kss = ykss^(1.0/(alpha-1.0));\n",
    "yss = ykss*kss;\n",
    "css = yss-delta*kss;\n",
    "\n",
    "# parameters for the grid\n",
    "kmax = 0.5;   # the maximum value of the grid on capital\n",
    "kmin = 0.05;  # the minimum value of the grid on capital\n",
    "\n",
    "# STEP 1(a): generating the grid \n",
    "nk = 21;      # number of grid points\n",
    "kgrid = collect(range(kmin,kmax,length=nk)); \n",
    "\n",
    "# parameters for time iteration\n",
    "maxiter = 1000; # maximum number of iterations\n",
    "tol = 1e-8;     # the tolerance of errors for iterations"
   ]
  },
  {
   "cell_type": "code",
   "execution_count": 6,
   "metadata": {
    "slideshow": {
     "slide_type": "subslide"
    }
   },
   "outputs": [
    {
     "name": "stdout",
     "output_type": "stream",
     "text": [
      "-+- Solve a neoclassical growth model with time iteration -+-\n",
      "iteration index: 1 \n",
      "policy function iteration error: 0.09823124 \n",
      "iteration index: 2 \n",
      "policy function iteration error: 0.03163744 \n",
      "iteration index: 3 \n",
      "policy function iteration error: 0.01135434 \n",
      "iteration index: 4 \n",
      "policy function iteration error: 0.00551848 \n",
      "iteration index: 5 \n",
      "policy function iteration error: 0.00231934 \n",
      "iteration index: 6 \n",
      "policy function iteration error: 0.00092346 \n",
      "iteration index: 7 \n",
      "policy function iteration error: 0.00036240 \n",
      "iteration index: 8 \n",
      "policy function iteration error: 0.00013966 \n",
      "iteration index: 9 \n",
      "policy function iteration error: 0.00005345 \n",
      "iteration index: 10 \n",
      "policy function iteration error: 0.00002042 \n",
      "iteration index: 11 \n",
      "policy function iteration error: 0.00000780 \n",
      "iteration index: 12 \n",
      "policy function iteration error: 0.00000298 \n",
      "iteration index: 13 \n",
      "policy function iteration error: 0.00000114 \n",
      "iteration index: 14 \n",
      "policy function iteration error: 0.00000043 \n",
      "iteration index: 15 \n",
      "policy function iteration error: 0.00000017 \n",
      "iteration index: 16 \n",
      "policy function iteration error: 0.00000006 \n",
      "iteration index: 17 \n",
      "policy function iteration error: 0.00000002 \n",
      "iteration index: 18 \n",
      "policy function iteration error: 0.00000001 \n",
      "  7.813612 seconds (13.88 M allocations: 702.032 MiB, 3.70% gc time, 99.19% compilation time)\n"
     ]
    }
   ],
   "source": [
    "# parameters for convergence criteria\n",
    "it = 1;         # loop counter\n",
    "dif2 = 1.0;     # error of the policy function in iterataions\n",
    "tolfun = 1e-10; # the tolerance of errors for optimization\n",
    "\n",
    "# put parameters into the structure \n",
    "m = Model(beta,gamma,alpha,delta,ykss,kss,yss,css,kmax,kmin,nk,kgrid,maxiter,tol);\n",
    "\n",
    "println(\"-+- Solve a neoclassical growth model with time iteration -+-\")\n",
    "\n",
    "# STEP 1(b): make an initial guess for the policy function\n",
    "# initialize the policy function\n",
    "cfcn0 = copy(m.kgrid);\n",
    "cfcn1 = zeros(m.nk);\n",
    "\n",
    "# set a variable to save iterative errors\n",
    "dif = zeros(2,m.maxiter);\n",
    "\n",
    "# STEP4: iteratively compute the policy function\n",
    "@time while (it < m.maxiter) && (dif2 > m.tol)\n",
    "\n",
    "    for i in 1:m.nk\n",
    "\n",
    "        capital = m.kgrid[i];\n",
    "        wealth = capital^m.alpha + (1-m.delta)*capital;\n",
    "\n",
    "        # look for the value of the policy function on each grid point by using Julia's optimization function (nlsolve)\n",
    "        # The initial value for optimization is from the old policy function\n",
    "        res = nlsolve(x-> Euler_Eq(m,x,capital,cfcn0),[cfcn0[i]],ftol=tolfun);\n",
    "        cons = res.zero[1];\n",
    "        cfcn1[i] = cons;\n",
    "        kprime = wealth-cons;\n",
    "    \n",
    "    end\n",
    "\n",
    "    # check the error of the policy function in iterations\n",
    "    dif2 = maximum(abs.(cfcn1-cfcn0));\n",
    "\n",
    "    # save the error in iterations in the middle of convergence\n",
    "    dif[2,it] = copy(dif2);\n",
    "\n",
    "    # update the policy function\n",
    "    cfcn0 = copy(cfcn1);\n",
    "\n",
    "    @printf \"iteration index: %1d \\n\" it  \n",
    "    @printf \"policy function iteration error: %1.8f \\n\" dif2 \n",
    "    flush(stdout)\n",
    "\n",
    "    it += 1\n",
    "end"
   ]
  },
  {
   "cell_type": "code",
   "execution_count": 7,
   "metadata": {
    "slideshow": {
     "slide_type": "subslide"
    }
   },
   "outputs": [],
   "source": [
    "# calculate the saving function after obtaining the policy function\n",
    "pfcn0 = m.kgrid .^ m.alpha + (1-m.delta)*m.kgrid - cfcn0;\n",
    "\n",
    "# analytical solution\n",
    "p_true = m.beta*m.alpha*(m.kgrid.^m.alpha);"
   ]
  },
  {
   "cell_type": "code",
   "execution_count": 8,
   "metadata": {
    "slideshow": {
     "slide_type": "fragment"
    }
   },
   "outputs": [
    {
     "data": {
      "image/svg+xml": [
       "<?xml version=\"1.0\" encoding=\"utf-8\"?>\n",
       "<svg xmlns=\"http://www.w3.org/2000/svg\" xmlns:xlink=\"http://www.w3.org/1999/xlink\" width=\"600\" height=\"400\" viewBox=\"0 0 2400 1600\">\n",
       "<defs>\n",
       "  <clipPath id=\"clip160\">\n",
       "    <rect x=\"0\" y=\"0\" width=\"2400\" height=\"1600\"/>\n",
       "  </clipPath>\n",
       "</defs>\n",
       "<path clip-path=\"url(#clip160)\" d=\"M0 1600 L2400 1600 L2400 0 L0 0  Z\" fill=\"#ffffff\" fill-rule=\"evenodd\" fill-opacity=\"1\"/>\n",
       "<defs>\n",
       "  <clipPath id=\"clip161\">\n",
       "    <rect x=\"480\" y=\"0\" width=\"1681\" height=\"1600\"/>\n",
       "  </clipPath>\n",
       "</defs>\n",
       "<path clip-path=\"url(#clip160)\" d=\"M219.866 1423.18 L2352.76 1423.18 L2352.76 47.2441 L219.866 47.2441  Z\" fill=\"#ffffff\" fill-rule=\"evenodd\" fill-opacity=\"1\"/>\n",
       "<defs>\n",
       "  <clipPath id=\"clip162\">\n",
       "    <rect x=\"219\" y=\"47\" width=\"2134\" height=\"1377\"/>\n",
       "  </clipPath>\n",
       "</defs>\n",
       "<polyline clip-path=\"url(#clip162)\" style=\"stroke:#000000; stroke-linecap:round; stroke-linejoin:round; stroke-width:2; stroke-opacity:0.1; fill:none\" points=\"503.804,1423.18 503.804,47.2441 \"/>\n",
       "<polyline clip-path=\"url(#clip162)\" style=\"stroke:#000000; stroke-linecap:round; stroke-linejoin:round; stroke-width:2; stroke-opacity:0.1; fill:none\" points=\"950.951,1423.18 950.951,47.2441 \"/>\n",
       "<polyline clip-path=\"url(#clip162)\" style=\"stroke:#000000; stroke-linecap:round; stroke-linejoin:round; stroke-width:2; stroke-opacity:0.1; fill:none\" points=\"1398.1,1423.18 1398.1,47.2441 \"/>\n",
       "<polyline clip-path=\"url(#clip162)\" style=\"stroke:#000000; stroke-linecap:round; stroke-linejoin:round; stroke-width:2; stroke-opacity:0.1; fill:none\" points=\"1845.24,1423.18 1845.24,47.2441 \"/>\n",
       "<polyline clip-path=\"url(#clip162)\" style=\"stroke:#000000; stroke-linecap:round; stroke-linejoin:round; stroke-width:2; stroke-opacity:0.1; fill:none\" points=\"2292.39,1423.18 2292.39,47.2441 \"/>\n",
       "<polyline clip-path=\"url(#clip160)\" style=\"stroke:#000000; stroke-linecap:round; stroke-linejoin:round; stroke-width:4; stroke-opacity:1; fill:none\" points=\"219.866,1423.18 2352.76,1423.18 \"/>\n",
       "<polyline clip-path=\"url(#clip160)\" style=\"stroke:#000000; stroke-linecap:round; stroke-linejoin:round; stroke-width:4; stroke-opacity:1; fill:none\" points=\"503.804,1423.18 503.804,1404.28 \"/>\n",
       "<polyline clip-path=\"url(#clip160)\" style=\"stroke:#000000; stroke-linecap:round; stroke-linejoin:round; stroke-width:4; stroke-opacity:1; fill:none\" points=\"950.951,1423.18 950.951,1404.28 \"/>\n",
       "<polyline clip-path=\"url(#clip160)\" style=\"stroke:#000000; stroke-linecap:round; stroke-linejoin:round; stroke-width:4; stroke-opacity:1; fill:none\" points=\"1398.1,1423.18 1398.1,1404.28 \"/>\n",
       "<polyline clip-path=\"url(#clip160)\" style=\"stroke:#000000; stroke-linecap:round; stroke-linejoin:round; stroke-width:4; stroke-opacity:1; fill:none\" points=\"1845.24,1423.18 1845.24,1404.28 \"/>\n",
       "<polyline clip-path=\"url(#clip160)\" style=\"stroke:#000000; stroke-linecap:round; stroke-linejoin:round; stroke-width:4; stroke-opacity:1; fill:none\" points=\"2292.39,1423.18 2292.39,1404.28 \"/>\n",
       "<path clip-path=\"url(#clip160)\" d=\"M481.802 1454.1 Q478.191 1454.1 476.362 1457.66 Q474.557 1461.2 474.557 1468.33 Q474.557 1475.44 476.362 1479.01 Q478.191 1482.55 481.802 1482.55 Q485.436 1482.55 487.242 1479.01 Q489.071 1475.44 489.071 1468.33 Q489.071 1461.2 487.242 1457.66 Q485.436 1454.1 481.802 1454.1 M481.802 1450.39 Q487.612 1450.39 490.668 1455 Q493.747 1459.58 493.747 1468.33 Q493.747 1477.06 490.668 1481.67 Q487.612 1486.25 481.802 1486.25 Q475.992 1486.25 472.913 1481.67 Q469.858 1477.06 469.858 1468.33 Q469.858 1459.58 472.913 1455 Q475.992 1450.39 481.802 1450.39 Z\" fill=\"#000000\" fill-rule=\"nonzero\" fill-opacity=\"1\" /><path clip-path=\"url(#clip160)\" d=\"M501.964 1479.7 L506.848 1479.7 L506.848 1485.58 L501.964 1485.58 L501.964 1479.7 Z\" fill=\"#000000\" fill-rule=\"nonzero\" fill-opacity=\"1\" /><path clip-path=\"url(#clip160)\" d=\"M517.844 1481.64 L525.483 1481.64 L525.483 1455.28 L517.172 1456.95 L517.172 1452.69 L525.436 1451.02 L530.112 1451.02 L530.112 1481.64 L537.751 1481.64 L537.751 1485.58 L517.844 1485.58 L517.844 1481.64 Z\" fill=\"#000000\" fill-rule=\"nonzero\" fill-opacity=\"1\" /><path clip-path=\"url(#clip160)\" d=\"M929.134 1454.1 Q925.523 1454.1 923.694 1457.66 Q921.889 1461.2 921.889 1468.33 Q921.889 1475.44 923.694 1479.01 Q925.523 1482.55 929.134 1482.55 Q932.768 1482.55 934.574 1479.01 Q936.403 1475.44 936.403 1468.33 Q936.403 1461.2 934.574 1457.66 Q932.768 1454.1 929.134 1454.1 M929.134 1450.39 Q934.944 1450.39 938 1455 Q941.078 1459.58 941.078 1468.33 Q941.078 1477.06 938 1481.67 Q934.944 1486.25 929.134 1486.25 Q923.324 1486.25 920.245 1481.67 Q917.19 1477.06 917.19 1468.33 Q917.19 1459.58 920.245 1455 Q923.324 1450.39 929.134 1450.39 Z\" fill=\"#000000\" fill-rule=\"nonzero\" fill-opacity=\"1\" /><path clip-path=\"url(#clip160)\" d=\"M949.296 1479.7 L954.18 1479.7 L954.18 1485.58 L949.296 1485.58 L949.296 1479.7 Z\" fill=\"#000000\" fill-rule=\"nonzero\" fill-opacity=\"1\" /><path clip-path=\"url(#clip160)\" d=\"M968.393 1481.64 L984.712 1481.64 L984.712 1485.58 L962.768 1485.58 L962.768 1481.64 Q965.43 1478.89 970.013 1474.26 Q974.62 1469.61 975.8 1468.27 Q978.046 1465.74 978.925 1464.01 Q979.828 1462.25 979.828 1460.56 Q979.828 1457.8 977.884 1456.07 Q975.963 1454.33 972.861 1454.33 Q970.662 1454.33 968.208 1455.09 Q965.777 1455.86 963 1457.41 L963 1452.69 Q965.824 1451.55 968.277 1450.97 Q970.731 1450.39 972.768 1450.39 Q978.138 1450.39 981.333 1453.08 Q984.527 1455.77 984.527 1460.26 Q984.527 1462.39 983.717 1464.31 Q982.93 1466.2 980.824 1468.8 Q980.245 1469.47 977.143 1472.69 Q974.041 1475.88 968.393 1481.64 Z\" fill=\"#000000\" fill-rule=\"nonzero\" fill-opacity=\"1\" /><path clip-path=\"url(#clip160)\" d=\"M1375.81 1454.1 Q1372.2 1454.1 1370.37 1457.66 Q1368.56 1461.2 1368.56 1468.33 Q1368.56 1475.44 1370.37 1479.01 Q1372.2 1482.55 1375.81 1482.55 Q1379.44 1482.55 1381.25 1479.01 Q1383.07 1475.44 1383.07 1468.33 Q1383.07 1461.2 1381.25 1457.66 Q1379.44 1454.1 1375.81 1454.1 M1375.81 1450.39 Q1381.62 1450.39 1384.67 1455 Q1387.75 1459.58 1387.75 1468.33 Q1387.75 1477.06 1384.67 1481.67 Q1381.62 1486.25 1375.81 1486.25 Q1370 1486.25 1366.92 1481.67 Q1363.86 1477.06 1363.86 1468.33 Q1363.86 1459.58 1366.92 1455 Q1370 1450.39 1375.81 1450.39 Z\" fill=\"#000000\" fill-rule=\"nonzero\" fill-opacity=\"1\" /><path clip-path=\"url(#clip160)\" d=\"M1395.97 1479.7 L1400.85 1479.7 L1400.85 1485.58 L1395.97 1485.58 L1395.97 1479.7 Z\" fill=\"#000000\" fill-rule=\"nonzero\" fill-opacity=\"1\" /><path clip-path=\"url(#clip160)\" d=\"M1425.2 1466.95 Q1428.56 1467.66 1430.44 1469.93 Q1432.33 1472.2 1432.33 1475.53 Q1432.33 1480.65 1428.82 1483.45 Q1425.3 1486.25 1418.82 1486.25 Q1416.64 1486.25 1414.32 1485.81 Q1412.03 1485.39 1409.58 1484.54 L1409.58 1480.02 Q1411.52 1481.16 1413.84 1481.74 Q1416.15 1482.32 1418.68 1482.32 Q1423.07 1482.32 1425.37 1480.58 Q1427.68 1478.84 1427.68 1475.53 Q1427.68 1472.48 1425.53 1470.77 Q1423.4 1469.03 1419.58 1469.03 L1415.55 1469.03 L1415.55 1465.19 L1419.76 1465.19 Q1423.21 1465.19 1425.04 1463.82 Q1426.87 1462.43 1426.87 1459.84 Q1426.87 1457.18 1424.97 1455.77 Q1423.1 1454.33 1419.58 1454.33 Q1417.66 1454.33 1415.46 1454.75 Q1413.26 1455.16 1410.62 1456.04 L1410.62 1451.88 Q1413.28 1451.14 1415.6 1450.77 Q1417.94 1450.39 1420 1450.39 Q1425.32 1450.39 1428.42 1452.83 Q1431.52 1455.23 1431.52 1459.35 Q1431.52 1462.22 1429.88 1464.21 Q1428.24 1466.18 1425.2 1466.95 Z\" fill=\"#000000\" fill-rule=\"nonzero\" fill-opacity=\"1\" /><path clip-path=\"url(#clip160)\" d=\"M1822.39 1454.1 Q1818.77 1454.1 1816.95 1457.66 Q1815.14 1461.2 1815.14 1468.33 Q1815.14 1475.44 1816.95 1479.01 Q1818.77 1482.55 1822.39 1482.55 Q1826.02 1482.55 1827.83 1479.01 Q1829.65 1475.44 1829.65 1468.33 Q1829.65 1461.2 1827.83 1457.66 Q1826.02 1454.1 1822.39 1454.1 M1822.39 1450.39 Q1828.2 1450.39 1831.25 1455 Q1834.33 1459.58 1834.33 1468.33 Q1834.33 1477.06 1831.25 1481.67 Q1828.2 1486.25 1822.39 1486.25 Q1816.58 1486.25 1813.5 1481.67 Q1810.44 1477.06 1810.44 1468.33 Q1810.44 1459.58 1813.5 1455 Q1816.58 1450.39 1822.39 1450.39 Z\" fill=\"#000000\" fill-rule=\"nonzero\" fill-opacity=\"1\" /><path clip-path=\"url(#clip160)\" d=\"M1842.55 1479.7 L1847.43 1479.7 L1847.43 1485.58 L1842.55 1485.58 L1842.55 1479.7 Z\" fill=\"#000000\" fill-rule=\"nonzero\" fill-opacity=\"1\" /><path clip-path=\"url(#clip160)\" d=\"M1870.46 1455.09 L1858.66 1473.54 L1870.46 1473.54 L1870.46 1455.09 M1869.24 1451.02 L1875.12 1451.02 L1875.12 1473.54 L1880.05 1473.54 L1880.05 1477.43 L1875.12 1477.43 L1875.12 1485.58 L1870.46 1485.58 L1870.46 1477.43 L1854.86 1477.43 L1854.86 1472.92 L1869.24 1451.02 Z\" fill=\"#000000\" fill-rule=\"nonzero\" fill-opacity=\"1\" /><path clip-path=\"url(#clip160)\" d=\"M2270.27 1454.1 Q2266.66 1454.1 2264.83 1457.66 Q2263.03 1461.2 2263.03 1468.33 Q2263.03 1475.44 2264.83 1479.01 Q2266.66 1482.55 2270.27 1482.55 Q2273.91 1482.55 2275.71 1479.01 Q2277.54 1475.44 2277.54 1468.33 Q2277.54 1461.2 2275.71 1457.66 Q2273.91 1454.1 2270.27 1454.1 M2270.27 1450.39 Q2276.08 1450.39 2279.14 1455 Q2282.22 1459.58 2282.22 1468.33 Q2282.22 1477.06 2279.14 1481.67 Q2276.08 1486.25 2270.27 1486.25 Q2264.46 1486.25 2261.38 1481.67 Q2258.33 1477.06 2258.33 1468.33 Q2258.33 1459.58 2261.38 1455 Q2264.46 1450.39 2270.27 1450.39 Z\" fill=\"#000000\" fill-rule=\"nonzero\" fill-opacity=\"1\" /><path clip-path=\"url(#clip160)\" d=\"M2290.44 1479.7 L2295.32 1479.7 L2295.32 1485.58 L2290.44 1485.58 L2290.44 1479.7 Z\" fill=\"#000000\" fill-rule=\"nonzero\" fill-opacity=\"1\" /><path clip-path=\"url(#clip160)\" d=\"M2305.55 1451.02 L2323.91 1451.02 L2323.91 1454.96 L2309.83 1454.96 L2309.83 1463.43 Q2310.85 1463.08 2311.87 1462.92 Q2312.89 1462.73 2313.91 1462.73 Q2319.69 1462.73 2323.07 1465.9 Q2326.45 1469.08 2326.45 1474.49 Q2326.45 1480.07 2322.98 1483.17 Q2319.51 1486.25 2313.19 1486.25 Q2311.01 1486.25 2308.75 1485.88 Q2306.5 1485.51 2304.09 1484.77 L2304.09 1480.07 Q2306.18 1481.2 2308.4 1481.76 Q2310.62 1482.32 2313.1 1482.32 Q2317.1 1482.32 2319.44 1480.21 Q2321.78 1478.1 2321.78 1474.49 Q2321.78 1470.88 2319.44 1468.77 Q2317.1 1466.67 2313.1 1466.67 Q2311.22 1466.67 2309.35 1467.08 Q2307.5 1467.5 2305.55 1468.38 L2305.55 1451.02 Z\" fill=\"#000000\" fill-rule=\"nonzero\" fill-opacity=\"1\" /><path clip-path=\"url(#clip160)\" d=\"M995.112 1526.86 L986.391 1550.51 L1003.86 1550.51 L995.112 1526.86 M991.483 1520.52 L998.772 1520.52 L1016.88 1568.04 L1010.2 1568.04 L1005.87 1555.85 L984.449 1555.85 L980.121 1568.04 L973.341 1568.04 L991.483 1520.52 Z\" fill=\"#000000\" fill-rule=\"nonzero\" fill-opacity=\"1\" /><path clip-path=\"url(#clip160)\" d=\"M1046.29 1533.45 L1046.29 1538.98 Q1043.81 1537.71 1041.14 1537.07 Q1038.46 1536.44 1035.6 1536.44 Q1031.24 1536.44 1029.04 1537.77 Q1026.88 1539.11 1026.88 1541.79 Q1026.88 1543.82 1028.44 1545 Q1030 1546.15 1034.71 1547.2 L1036.71 1547.64 Q1042.95 1548.98 1045.56 1551.43 Q1048.2 1553.85 1048.2 1558.21 Q1048.2 1563.17 1044.26 1566.07 Q1040.34 1568.97 1033.47 1568.97 Q1030.6 1568.97 1027.48 1568.39 Q1024.39 1567.85 1020.96 1566.74 L1020.96 1560.69 Q1024.2 1562.38 1027.35 1563.24 Q1030.51 1564.07 1033.59 1564.07 Q1037.73 1564.07 1039.96 1562.66 Q1042.19 1561.23 1042.19 1558.65 Q1042.19 1556.27 1040.56 1554.99 Q1038.97 1553.72 1033.53 1552.54 L1031.49 1552.07 Q1026.05 1550.92 1023.63 1548.56 Q1021.21 1546.18 1021.21 1542.04 Q1021.21 1537.01 1024.78 1534.27 Q1028.34 1531.54 1034.9 1531.54 Q1038.14 1531.54 1041.01 1532.01 Q1043.87 1532.49 1046.29 1533.45 Z\" fill=\"#000000\" fill-rule=\"nonzero\" fill-opacity=\"1\" /><path clip-path=\"url(#clip160)\" d=\"M1080.25 1533.45 L1080.25 1538.98 Q1077.77 1537.71 1075.1 1537.07 Q1072.42 1536.44 1069.56 1536.44 Q1065.2 1536.44 1063 1537.77 Q1060.84 1539.11 1060.84 1541.79 Q1060.84 1543.82 1062.4 1545 Q1063.96 1546.15 1068.67 1547.2 L1070.67 1547.64 Q1076.91 1548.98 1079.52 1551.43 Q1082.16 1553.85 1082.16 1558.21 Q1082.16 1563.17 1078.22 1566.07 Q1074.3 1568.97 1067.43 1568.97 Q1064.56 1568.97 1061.44 1568.39 Q1058.36 1567.85 1054.92 1566.74 L1054.92 1560.69 Q1058.16 1562.38 1061.32 1563.24 Q1064.47 1564.07 1067.55 1564.07 Q1071.69 1564.07 1073.92 1562.66 Q1076.15 1561.23 1076.15 1558.65 Q1076.15 1556.27 1074.52 1554.99 Q1072.93 1553.72 1067.49 1552.54 L1065.45 1552.07 Q1060.01 1550.92 1057.59 1548.56 Q1055.17 1546.18 1055.17 1542.04 Q1055.17 1537.01 1058.74 1534.27 Q1062.3 1531.54 1068.86 1531.54 Q1072.11 1531.54 1074.97 1532.01 Q1077.83 1532.49 1080.25 1533.45 Z\" fill=\"#000000\" fill-rule=\"nonzero\" fill-opacity=\"1\" /><path clip-path=\"url(#clip160)\" d=\"M1121.98 1548.76 L1121.98 1551.62 L1095.05 1551.62 Q1095.44 1557.67 1098.68 1560.85 Q1101.96 1564 1107.78 1564 Q1111.16 1564 1114.31 1563.17 Q1117.49 1562.35 1120.61 1560.69 L1120.61 1566.23 Q1117.46 1567.57 1114.15 1568.27 Q1110.84 1568.97 1107.43 1568.97 Q1098.9 1568.97 1093.91 1564 Q1088.94 1559.04 1088.94 1550.57 Q1088.94 1541.82 1093.65 1536.69 Q1098.4 1531.54 1106.42 1531.54 Q1113.61 1531.54 1117.78 1536.18 Q1121.98 1540.8 1121.98 1548.76 M1116.12 1547.04 Q1116.06 1542.23 1113.42 1539.37 Q1110.81 1536.5 1106.48 1536.5 Q1101.58 1536.5 1098.62 1539.27 Q1095.69 1542.04 1095.24 1547.07 L1116.12 1547.04 Z\" fill=\"#000000\" fill-rule=\"nonzero\" fill-opacity=\"1\" /><path clip-path=\"url(#clip160)\" d=\"M1137.39 1522.27 L1137.39 1532.4 L1149.45 1532.4 L1149.45 1536.95 L1137.39 1536.95 L1137.39 1556.3 Q1137.39 1560.66 1138.56 1561.9 Q1139.77 1563.14 1143.43 1563.14 L1149.45 1563.14 L1149.45 1568.04 L1143.43 1568.04 Q1136.65 1568.04 1134.08 1565.53 Q1131.5 1562.98 1131.5 1556.3 L1131.5 1536.95 L1127.2 1536.95 L1127.2 1532.4 L1131.5 1532.4 L1131.5 1522.27 L1137.39 1522.27 Z\" fill=\"#000000\" fill-rule=\"nonzero\" fill-opacity=\"1\" /><path clip-path=\"url(#clip160)\" d=\"M1183.66 1522.27 L1183.66 1532.4 L1195.73 1532.4 L1195.73 1536.95 L1183.66 1536.95 L1183.66 1556.3 Q1183.66 1560.66 1184.84 1561.9 Q1186.05 1563.14 1189.71 1563.14 L1195.73 1563.14 L1195.73 1568.04 L1189.71 1568.04 Q1182.93 1568.04 1180.35 1565.53 Q1177.78 1562.98 1177.78 1556.3 L1177.78 1536.95 L1173.48 1536.95 L1173.48 1532.4 L1177.78 1532.4 L1177.78 1522.27 L1183.66 1522.27 Z\" fill=\"#000000\" fill-rule=\"nonzero\" fill-opacity=\"1\" /><path clip-path=\"url(#clip160)\" d=\"M1233.06 1546.53 L1233.06 1568.04 L1227.21 1568.04 L1227.21 1546.72 Q1227.21 1541.66 1225.23 1539.14 Q1223.26 1536.63 1219.31 1536.63 Q1214.57 1536.63 1211.83 1539.65 Q1209.1 1542.68 1209.1 1547.9 L1209.1 1568.04 L1203.21 1568.04 L1203.21 1518.52 L1209.1 1518.52 L1209.1 1537.93 Q1211.2 1534.72 1214.03 1533.13 Q1216.89 1531.54 1220.62 1531.54 Q1226.76 1531.54 1229.91 1535.36 Q1233.06 1539.14 1233.06 1546.53 Z\" fill=\"#000000\" fill-rule=\"nonzero\" fill-opacity=\"1\" /><path clip-path=\"url(#clip160)\" d=\"M1244.74 1532.4 L1250.6 1532.4 L1250.6 1568.04 L1244.74 1568.04 L1244.74 1532.4 M1244.74 1518.52 L1250.6 1518.52 L1250.6 1525.93 L1244.74 1525.93 L1244.74 1518.52 Z\" fill=\"#000000\" fill-rule=\"nonzero\" fill-opacity=\"1\" /><path clip-path=\"url(#clip160)\" d=\"M1285.58 1533.45 L1285.58 1538.98 Q1283.1 1537.71 1280.42 1537.07 Q1277.75 1536.44 1274.88 1536.44 Q1270.52 1536.44 1268.33 1537.77 Q1266.16 1539.11 1266.16 1541.79 Q1266.16 1543.82 1267.72 1545 Q1269.28 1546.15 1273.99 1547.2 L1276 1547.64 Q1282.24 1548.98 1284.85 1551.43 Q1287.49 1553.85 1287.49 1558.21 Q1287.49 1563.17 1283.54 1566.07 Q1279.63 1568.97 1272.75 1568.97 Q1269.89 1568.97 1266.77 1568.39 Q1263.68 1567.85 1260.24 1566.74 L1260.24 1560.69 Q1263.49 1562.38 1266.64 1563.24 Q1269.79 1564.07 1272.88 1564.07 Q1277.02 1564.07 1279.25 1562.66 Q1281.47 1561.23 1281.47 1558.65 Q1281.47 1556.27 1279.85 1554.99 Q1278.26 1553.72 1272.82 1552.54 L1270.78 1552.07 Q1265.34 1550.92 1262.92 1548.56 Q1260.5 1546.18 1260.5 1542.04 Q1260.5 1537.01 1264.06 1534.27 Q1267.63 1531.54 1274.18 1531.54 Q1277.43 1531.54 1280.3 1532.01 Q1283.16 1532.49 1285.58 1533.45 Z\" fill=\"#000000\" fill-rule=\"nonzero\" fill-opacity=\"1\" /><path clip-path=\"url(#clip160)\" d=\"M1323.2 1562.7 L1323.2 1581.6 L1317.31 1581.6 L1317.31 1532.4 L1323.2 1532.4 L1323.2 1537.81 Q1325.05 1534.62 1327.85 1533.1 Q1330.68 1531.54 1334.59 1531.54 Q1341.09 1531.54 1345.13 1536.69 Q1349.2 1541.85 1349.2 1550.25 Q1349.2 1558.65 1345.13 1563.81 Q1341.09 1568.97 1334.59 1568.97 Q1330.68 1568.97 1327.85 1567.44 Q1325.05 1565.88 1323.2 1562.7 M1343.13 1550.25 Q1343.13 1543.79 1340.45 1540.13 Q1337.81 1536.44 1333.16 1536.44 Q1328.52 1536.44 1325.84 1540.13 Q1323.2 1543.79 1323.2 1550.25 Q1323.2 1556.71 1325.84 1560.4 Q1328.52 1564.07 1333.16 1564.07 Q1337.81 1564.07 1340.45 1560.4 Q1343.13 1556.71 1343.13 1550.25 Z\" fill=\"#000000\" fill-rule=\"nonzero\" fill-opacity=\"1\" /><path clip-path=\"url(#clip160)\" d=\"M1389.4 1548.76 L1389.4 1551.62 L1362.48 1551.62 Q1362.86 1557.67 1366.11 1560.85 Q1369.38 1564 1375.21 1564 Q1378.58 1564 1381.73 1563.17 Q1384.92 1562.35 1388.04 1560.69 L1388.04 1566.23 Q1384.88 1567.57 1381.57 1568.27 Q1378.26 1568.97 1374.86 1568.97 Q1366.33 1568.97 1361.33 1564 Q1356.37 1559.04 1356.37 1550.57 Q1356.37 1541.82 1361.08 1536.69 Q1365.82 1531.54 1373.84 1531.54 Q1381.03 1531.54 1385.2 1536.18 Q1389.4 1540.8 1389.4 1548.76 M1383.55 1547.04 Q1383.48 1542.23 1380.84 1539.37 Q1378.23 1536.5 1373.9 1536.5 Q1369 1536.5 1366.04 1539.27 Q1363.11 1542.04 1362.67 1547.07 L1383.55 1547.04 Z\" fill=\"#000000\" fill-rule=\"nonzero\" fill-opacity=\"1\" /><path clip-path=\"url(#clip160)\" d=\"M1419.67 1537.87 Q1418.69 1537.3 1417.51 1537.04 Q1416.36 1536.76 1414.96 1536.76 Q1410 1536.76 1407.32 1540 Q1404.68 1543.22 1404.68 1549.27 L1404.68 1568.04 L1398.79 1568.04 L1398.79 1532.4 L1404.68 1532.4 L1404.68 1537.93 Q1406.53 1534.69 1409.49 1533.13 Q1412.45 1531.54 1416.68 1531.54 Q1417.29 1531.54 1418.02 1531.63 Q1418.75 1531.7 1419.64 1531.85 L1419.67 1537.87 Z\" fill=\"#000000\" fill-rule=\"nonzero\" fill-opacity=\"1\" /><path clip-path=\"url(#clip160)\" d=\"M1425.82 1532.4 L1431.67 1532.4 L1431.67 1568.04 L1425.82 1568.04 L1425.82 1532.4 M1425.82 1518.52 L1431.67 1518.52 L1431.67 1525.93 L1425.82 1525.93 L1425.82 1518.52 Z\" fill=\"#000000\" fill-rule=\"nonzero\" fill-opacity=\"1\" /><path clip-path=\"url(#clip160)\" d=\"M1457.74 1536.5 Q1453.03 1536.5 1450.29 1540.19 Q1447.55 1543.85 1447.55 1550.25 Q1447.55 1556.65 1450.26 1560.34 Q1453 1564 1457.74 1564 Q1462.42 1564 1465.16 1560.31 Q1467.89 1556.62 1467.89 1550.25 Q1467.89 1543.92 1465.16 1540.23 Q1462.42 1536.5 1457.74 1536.5 M1457.74 1531.54 Q1465.38 1531.54 1469.74 1536.5 Q1474.1 1541.47 1474.1 1550.25 Q1474.1 1559 1469.74 1564 Q1465.38 1568.97 1457.74 1568.97 Q1450.07 1568.97 1445.71 1564 Q1441.38 1559 1441.38 1550.25 Q1441.38 1541.47 1445.71 1536.5 Q1450.07 1531.54 1457.74 1531.54 Z\" fill=\"#000000\" fill-rule=\"nonzero\" fill-opacity=\"1\" /><path clip-path=\"url(#clip160)\" d=\"M1507.26 1537.81 L1507.26 1518.52 L1513.12 1518.52 L1513.12 1568.04 L1507.26 1568.04 L1507.26 1562.7 Q1505.42 1565.88 1502.59 1567.44 Q1499.79 1568.97 1495.84 1568.97 Q1489.38 1568.97 1485.3 1563.81 Q1481.26 1558.65 1481.26 1550.25 Q1481.26 1541.85 1485.3 1536.69 Q1489.38 1531.54 1495.84 1531.54 Q1499.79 1531.54 1502.59 1533.1 Q1505.42 1534.62 1507.26 1537.81 M1487.31 1550.25 Q1487.31 1556.71 1489.95 1560.4 Q1492.62 1564.07 1497.27 1564.07 Q1501.92 1564.07 1504.59 1560.4 Q1507.26 1556.71 1507.26 1550.25 Q1507.26 1543.79 1504.59 1540.13 Q1501.92 1536.44 1497.27 1536.44 Q1492.62 1536.44 1489.95 1540.13 Q1487.31 1543.79 1487.31 1550.25 Z\" fill=\"#000000\" fill-rule=\"nonzero\" fill-opacity=\"1\" /><path clip-path=\"url(#clip160)\" d=\"M1526.68 1559.96 L1533.4 1559.96 L1533.4 1568.04 L1526.68 1568.04 L1526.68 1559.96 M1526.68 1534.34 L1533.4 1534.34 L1533.4 1542.42 L1526.68 1542.42 L1526.68 1534.34 Z\" fill=\"#000000\" fill-rule=\"nonzero\" fill-opacity=\"1\" /><path clip-path=\"url(#clip160)\" d=\"M1567.64 1518.52 L1573.53 1518.52 L1573.53 1547.77 L1591.01 1532.4 L1598.49 1532.4 L1579.58 1549.07 L1599.28 1568.04 L1591.64 1568.04 L1573.53 1550.63 L1573.53 1568.04 L1567.64 1568.04 L1567.64 1518.52 Z\" fill=\"#000000\" fill-rule=\"nonzero\" fill-opacity=\"1\" /><polyline clip-path=\"url(#clip162)\" style=\"stroke:#000000; stroke-linecap:round; stroke-linejoin:round; stroke-width:2; stroke-opacity:0.1; fill:none\" points=\"219.866,1240.01 2352.76,1240.01 \"/>\n",
       "<polyline clip-path=\"url(#clip162)\" style=\"stroke:#000000; stroke-linecap:round; stroke-linejoin:round; stroke-width:2; stroke-opacity:0.1; fill:none\" points=\"219.866,951.554 2352.76,951.554 \"/>\n",
       "<polyline clip-path=\"url(#clip162)\" style=\"stroke:#000000; stroke-linecap:round; stroke-linejoin:round; stroke-width:2; stroke-opacity:0.1; fill:none\" points=\"219.866,663.098 2352.76,663.098 \"/>\n",
       "<polyline clip-path=\"url(#clip162)\" style=\"stroke:#000000; stroke-linecap:round; stroke-linejoin:round; stroke-width:2; stroke-opacity:0.1; fill:none\" points=\"219.866,374.642 2352.76,374.642 \"/>\n",
       "<polyline clip-path=\"url(#clip162)\" style=\"stroke:#000000; stroke-linecap:round; stroke-linejoin:round; stroke-width:2; stroke-opacity:0.1; fill:none\" points=\"219.866,86.1857 2352.76,86.1857 \"/>\n",
       "<polyline clip-path=\"url(#clip160)\" style=\"stroke:#000000; stroke-linecap:round; stroke-linejoin:round; stroke-width:4; stroke-opacity:1; fill:none\" points=\"219.866,1423.18 219.866,47.2441 \"/>\n",
       "<polyline clip-path=\"url(#clip160)\" style=\"stroke:#000000; stroke-linecap:round; stroke-linejoin:round; stroke-width:4; stroke-opacity:1; fill:none\" points=\"219.866,1240.01 238.764,1240.01 \"/>\n",
       "<polyline clip-path=\"url(#clip160)\" style=\"stroke:#000000; stroke-linecap:round; stroke-linejoin:round; stroke-width:4; stroke-opacity:1; fill:none\" points=\"219.866,951.554 238.764,951.554 \"/>\n",
       "<polyline clip-path=\"url(#clip160)\" style=\"stroke:#000000; stroke-linecap:round; stroke-linejoin:round; stroke-width:4; stroke-opacity:1; fill:none\" points=\"219.866,663.098 238.764,663.098 \"/>\n",
       "<polyline clip-path=\"url(#clip160)\" style=\"stroke:#000000; stroke-linecap:round; stroke-linejoin:round; stroke-width:4; stroke-opacity:1; fill:none\" points=\"219.866,374.642 238.764,374.642 \"/>\n",
       "<polyline clip-path=\"url(#clip160)\" style=\"stroke:#000000; stroke-linecap:round; stroke-linejoin:round; stroke-width:4; stroke-opacity:1; fill:none\" points=\"219.866,86.1857 238.764,86.1857 \"/>\n",
       "<path clip-path=\"url(#clip160)\" d=\"M127.917 1225.81 Q124.306 1225.81 122.478 1229.37 Q120.672 1232.92 120.672 1240.04 Q120.672 1247.15 122.478 1250.72 Q124.306 1254.26 127.917 1254.26 Q131.552 1254.26 133.357 1250.72 Q135.186 1247.15 135.186 1240.04 Q135.186 1232.92 133.357 1229.37 Q131.552 1225.81 127.917 1225.81 M127.917 1222.11 Q133.728 1222.11 136.783 1226.71 Q139.862 1231.29 139.862 1240.04 Q139.862 1248.77 136.783 1253.38 Q133.728 1257.96 127.917 1257.96 Q122.107 1257.96 119.029 1253.38 Q115.973 1248.77 115.973 1240.04 Q115.973 1231.29 119.029 1226.71 Q122.107 1222.11 127.917 1222.11 Z\" fill=\"#000000\" fill-rule=\"nonzero\" fill-opacity=\"1\" /><path clip-path=\"url(#clip160)\" d=\"M148.079 1251.41 L152.964 1251.41 L152.964 1257.29 L148.079 1257.29 L148.079 1251.41 Z\" fill=\"#000000\" fill-rule=\"nonzero\" fill-opacity=\"1\" /><path clip-path=\"url(#clip160)\" d=\"M163.959 1253.36 L171.598 1253.36 L171.598 1226.99 L163.288 1228.66 L163.288 1224.4 L171.552 1222.73 L176.227 1222.73 L176.227 1253.36 L183.866 1253.36 L183.866 1257.29 L163.959 1257.29 L163.959 1253.36 Z\" fill=\"#000000\" fill-rule=\"nonzero\" fill-opacity=\"1\" /><path clip-path=\"url(#clip160)\" d=\"M128.288 937.353 Q124.677 937.353 122.848 940.918 Q121.043 944.459 121.043 951.589 Q121.043 958.695 122.848 962.26 Q124.677 965.802 128.288 965.802 Q131.922 965.802 133.728 962.26 Q135.556 958.695 135.556 951.589 Q135.556 944.459 133.728 940.918 Q131.922 937.353 128.288 937.353 M128.288 933.649 Q134.098 933.649 137.154 938.256 Q140.232 942.839 140.232 951.589 Q140.232 960.316 137.154 964.922 Q134.098 969.505 128.288 969.505 Q122.478 969.505 119.399 964.922 Q116.343 960.316 116.343 951.589 Q116.343 942.839 119.399 938.256 Q122.478 933.649 128.288 933.649 Z\" fill=\"#000000\" fill-rule=\"nonzero\" fill-opacity=\"1\" /><path clip-path=\"url(#clip160)\" d=\"M148.45 962.954 L153.334 962.954 L153.334 968.834 L148.45 968.834 L148.45 962.954 Z\" fill=\"#000000\" fill-rule=\"nonzero\" fill-opacity=\"1\" /><path clip-path=\"url(#clip160)\" d=\"M167.547 964.899 L183.866 964.899 L183.866 968.834 L161.922 968.834 L161.922 964.899 Q164.584 962.144 169.167 957.515 Q173.774 952.862 174.954 951.519 Q177.2 948.996 178.079 947.26 Q178.982 945.501 178.982 943.811 Q178.982 941.056 177.038 939.32 Q175.116 937.584 172.014 937.584 Q169.815 937.584 167.362 938.348 Q164.931 939.112 162.153 940.663 L162.153 935.941 Q164.977 934.806 167.431 934.228 Q169.885 933.649 171.922 933.649 Q177.292 933.649 180.487 936.334 Q183.681 939.019 183.681 943.51 Q183.681 945.64 182.871 947.561 Q182.084 949.459 179.977 952.052 Q179.399 952.723 176.297 955.941 Q173.195 959.135 167.547 964.899 Z\" fill=\"#000000\" fill-rule=\"nonzero\" fill-opacity=\"1\" /><path clip-path=\"url(#clip160)\" d=\"M127.339 648.897 Q123.728 648.897 121.899 652.461 Q120.093 656.003 120.093 663.133 Q120.093 670.239 121.899 673.804 Q123.728 677.346 127.339 677.346 Q130.973 677.346 132.779 673.804 Q134.607 670.239 134.607 663.133 Q134.607 656.003 132.779 652.461 Q130.973 648.897 127.339 648.897 M127.339 645.193 Q133.149 645.193 136.204 649.799 Q139.283 654.383 139.283 663.133 Q139.283 671.859 136.204 676.466 Q133.149 681.049 127.339 681.049 Q121.529 681.049 118.45 676.466 Q115.394 671.859 115.394 663.133 Q115.394 654.383 118.45 649.799 Q121.529 645.193 127.339 645.193 Z\" fill=\"#000000\" fill-rule=\"nonzero\" fill-opacity=\"1\" /><path clip-path=\"url(#clip160)\" d=\"M147.501 674.498 L152.385 674.498 L152.385 680.378 L147.501 680.378 L147.501 674.498 Z\" fill=\"#000000\" fill-rule=\"nonzero\" fill-opacity=\"1\" /><path clip-path=\"url(#clip160)\" d=\"M176.737 661.744 Q180.093 662.461 181.968 664.73 Q183.866 666.998 183.866 670.332 Q183.866 675.447 180.348 678.248 Q176.829 681.049 170.348 681.049 Q168.172 681.049 165.857 680.609 Q163.565 680.193 161.112 679.336 L161.112 674.822 Q163.056 675.957 165.371 676.535 Q167.686 677.114 170.209 677.114 Q174.607 677.114 176.899 675.378 Q179.214 673.642 179.214 670.332 Q179.214 667.276 177.061 665.563 Q174.931 663.827 171.112 663.827 L167.084 663.827 L167.084 659.985 L171.297 659.985 Q174.746 659.985 176.575 658.619 Q178.403 657.23 178.403 654.637 Q178.403 651.975 176.505 650.563 Q174.63 649.128 171.112 649.128 Q169.19 649.128 166.991 649.545 Q164.792 649.961 162.153 650.841 L162.153 646.674 Q164.815 645.934 167.13 645.563 Q169.468 645.193 171.528 645.193 Q176.852 645.193 179.954 647.623 Q183.056 650.031 183.056 654.151 Q183.056 657.022 181.413 659.012 Q179.769 660.98 176.737 661.744 Z\" fill=\"#000000\" fill-rule=\"nonzero\" fill-opacity=\"1\" /><path clip-path=\"url(#clip160)\" d=\"M126.205 360.44 Q122.593 360.44 120.765 364.005 Q118.959 367.547 118.959 374.677 Q118.959 381.783 120.765 385.348 Q122.593 388.889 126.205 388.889 Q129.839 388.889 131.644 385.348 Q133.473 381.783 133.473 374.677 Q133.473 367.547 131.644 364.005 Q129.839 360.44 126.205 360.44 M126.205 356.737 Q132.015 356.737 135.07 361.343 Q138.149 365.927 138.149 374.677 Q138.149 383.403 135.07 388.01 Q132.015 392.593 126.205 392.593 Q120.394 392.593 117.316 388.01 Q114.26 383.403 114.26 374.677 Q114.26 365.927 117.316 361.343 Q120.394 356.737 126.205 356.737 Z\" fill=\"#000000\" fill-rule=\"nonzero\" fill-opacity=\"1\" /><path clip-path=\"url(#clip160)\" d=\"M146.366 386.042 L151.251 386.042 L151.251 391.922 L146.366 391.922 L146.366 386.042 Z\" fill=\"#000000\" fill-rule=\"nonzero\" fill-opacity=\"1\" /><path clip-path=\"url(#clip160)\" d=\"M174.283 361.436 L162.477 379.885 L174.283 379.885 L174.283 361.436 M173.056 357.362 L178.936 357.362 L178.936 379.885 L183.866 379.885 L183.866 383.774 L178.936 383.774 L178.936 391.922 L174.283 391.922 L174.283 383.774 L158.681 383.774 L158.681 379.26 L173.056 357.362 Z\" fill=\"#000000\" fill-rule=\"nonzero\" fill-opacity=\"1\" /><path clip-path=\"url(#clip160)\" d=\"M127.686 71.9844 Q124.075 71.9844 122.246 75.5492 Q120.441 79.0908 120.441 86.2204 Q120.441 93.3268 122.246 96.8916 Q124.075 100.433 127.686 100.433 Q131.32 100.433 133.126 96.8916 Q134.954 93.3268 134.954 86.2204 Q134.954 79.0908 133.126 75.5492 Q131.32 71.9844 127.686 71.9844 M127.686 68.2807 Q133.496 68.2807 136.552 72.8871 Q139.63 77.4704 139.63 86.2204 Q139.63 94.9472 136.552 99.5537 Q133.496 104.137 127.686 104.137 Q121.876 104.137 118.797 99.5537 Q115.742 94.9472 115.742 86.2204 Q115.742 77.4704 118.797 72.8871 Q121.876 68.2807 127.686 68.2807 Z\" fill=\"#000000\" fill-rule=\"nonzero\" fill-opacity=\"1\" /><path clip-path=\"url(#clip160)\" d=\"M147.848 97.5861 L152.732 97.5861 L152.732 103.466 L147.848 103.466 L147.848 97.5861 Z\" fill=\"#000000\" fill-rule=\"nonzero\" fill-opacity=\"1\" /><path clip-path=\"url(#clip160)\" d=\"M162.964 68.9057 L181.32 68.9057 L181.32 72.8408 L167.246 72.8408 L167.246 81.313 Q168.264 80.9658 169.283 80.8038 Q170.302 80.6186 171.32 80.6186 Q177.107 80.6186 180.487 83.7899 Q183.866 86.9611 183.866 92.3778 Q183.866 97.9564 180.394 101.058 Q176.922 104.137 170.602 104.137 Q168.427 104.137 166.158 103.767 Q163.913 103.396 161.505 102.655 L161.505 97.9564 Q163.589 99.0907 165.811 99.6462 Q168.033 100.202 170.51 100.202 Q174.514 100.202 176.852 98.0953 Q179.19 95.9889 179.19 92.3778 Q179.19 88.7667 176.852 86.6602 Q174.514 84.5537 170.51 84.5537 Q168.635 84.5537 166.76 84.9704 Q164.908 85.3871 162.964 86.2667 L162.964 68.9057 Z\" fill=\"#000000\" fill-rule=\"nonzero\" fill-opacity=\"1\" /><path clip-path=\"url(#clip160)\" d=\"M22.818 1034.72 L46.4666 1043.44 L46.4666 1025.97 L22.818 1034.72 M16.4842 1038.35 L16.4842 1031.06 L64.0042 1012.95 L64.0042 1019.63 L51.8138 1023.96 L51.8138 1045.38 L64.0042 1049.71 L64.0042 1056.49 L16.4842 1038.35 Z\" fill=\"#000000\" fill-rule=\"nonzero\" fill-opacity=\"1\" /><path clip-path=\"url(#clip160)\" d=\"M29.4065 983.538 L34.9447 983.538 Q33.6716 986.021 33.035 988.694 Q32.3984 991.368 32.3984 994.233 Q32.3984 998.593 33.7352 1000.79 Q35.072 1002.95 37.7456 1002.95 Q39.7826 1002.95 40.9603 1001.39 Q42.1061 999.834 43.1565 995.124 L43.6021 993.119 Q44.9389 986.88 47.3897 984.27 Q49.8086 981.628 54.1691 981.628 Q59.1344 981.628 62.0308 985.575 Q64.9272 989.49 64.9272 996.365 Q64.9272 999.23 64.3543 1002.35 Q63.8132 1005.44 62.6992 1008.87 L56.6518 1008.87 Q58.3387 1005.63 59.198 1002.48 Q60.0256 999.325 60.0256 996.238 Q60.0256 992.1 58.6251 989.872 Q57.1929 987.644 54.6147 987.644 Q52.2276 987.644 50.9545 989.267 Q49.6813 990.859 48.5037 996.301 L48.0262 998.338 Q46.8804 1003.78 44.5251 1006.2 Q42.138 1008.62 38.0002 1008.62 Q32.9713 1008.62 30.2341 1005.05 Q27.4968 1001.49 27.4968 994.933 Q27.4968 991.686 27.9743 988.822 Q28.4517 985.957 29.4065 983.538 Z\" fill=\"#000000\" fill-rule=\"nonzero\" fill-opacity=\"1\" /><path clip-path=\"url(#clip160)\" d=\"M29.4065 949.577 L34.9447 949.577 Q33.6716 952.06 33.035 954.733 Q32.3984 957.407 32.3984 960.272 Q32.3984 964.632 33.7352 966.828 Q35.072 968.993 37.7456 968.993 Q39.7826 968.993 40.9603 967.433 Q42.1061 965.873 43.1565 961.163 L43.6021 959.158 Q44.9389 952.919 47.3897 950.309 Q49.8086 947.667 54.1691 947.667 Q59.1344 947.667 62.0308 951.614 Q64.9272 955.529 64.9272 962.404 Q64.9272 965.269 64.3543 968.388 Q63.8132 971.475 62.6992 974.913 L56.6518 974.913 Q58.3387 971.666 59.198 968.515 Q60.0256 965.364 60.0256 962.277 Q60.0256 958.139 58.6251 955.911 Q57.1929 953.683 54.6147 953.683 Q52.2276 953.683 50.9545 955.306 Q49.6813 956.898 48.5037 962.34 L48.0262 964.377 Q46.8804 969.82 44.5251 972.239 Q42.138 974.658 38.0002 974.658 Q32.9713 974.658 30.2341 971.093 Q27.4968 967.528 27.4968 960.972 Q27.4968 957.725 27.9743 954.861 Q28.4517 951.996 29.4065 949.577 Z\" fill=\"#000000\" fill-rule=\"nonzero\" fill-opacity=\"1\" /><path clip-path=\"url(#clip160)\" d=\"M44.7161 907.85 L47.5806 907.85 L47.5806 934.777 Q53.6281 934.395 56.8109 931.148 Q59.9619 927.87 59.9619 922.045 Q59.9619 918.672 59.1344 915.521 Q58.3069 912.338 56.6518 909.219 L62.1899 909.219 Q63.5267 912.37 64.227 915.68 Q64.9272 918.99 64.9272 922.396 Q64.9272 930.926 59.9619 935.923 Q54.9967 940.888 46.5303 940.888 Q37.7774 940.888 32.6531 936.177 Q27.4968 931.435 27.4968 923.414 Q27.4968 916.221 32.1438 912.051 Q36.7589 907.85 44.7161 907.85 M42.9973 913.706 Q38.1912 913.77 35.3266 916.412 Q32.4621 919.022 32.4621 923.35 Q32.4621 928.252 35.2312 931.212 Q38.0002 934.14 43.0292 934.586 L42.9973 913.706 Z\" fill=\"#000000\" fill-rule=\"nonzero\" fill-opacity=\"1\" /><path clip-path=\"url(#clip160)\" d=\"M18.2347 892.445 L28.3562 892.445 L28.3562 880.382 L32.9077 880.382 L32.9077 892.445 L52.2594 892.445 Q56.6199 892.445 57.8613 891.267 Q59.1026 890.058 59.1026 886.398 L59.1026 880.382 L64.0042 880.382 L64.0042 886.398 Q64.0042 893.177 61.4897 895.755 Q58.9434 898.333 52.2594 898.333 L32.9077 898.333 L32.9077 902.63 L28.3562 902.63 L28.3562 898.333 L18.2347 898.333 L18.2347 892.445 Z\" fill=\"#000000\" fill-rule=\"nonzero\" fill-opacity=\"1\" /><path clip-path=\"url(#clip160)\" d=\"M42.4881 822.327 L64.0042 822.327 L64.0042 828.183 L42.679 828.183 Q37.6183 828.183 35.1038 830.156 Q32.5894 832.13 32.5894 836.077 Q32.5894 840.819 35.6131 843.556 Q38.6368 846.294 43.8567 846.294 L64.0042 846.294 L64.0042 852.182 L28.3562 852.182 L28.3562 846.294 L33.8944 846.294 Q30.6797 844.193 29.0883 841.36 Q27.4968 838.496 27.4968 834.772 Q27.4968 828.629 31.3163 825.478 Q35.1038 822.327 42.4881 822.327 Z\" fill=\"#000000\" fill-rule=\"nonzero\" fill-opacity=\"1\" /><path clip-path=\"url(#clip160)\" d=\"M44.7161 780.154 L47.5806 780.154 L47.5806 807.081 Q53.6281 806.699 56.8109 803.452 Q59.9619 800.174 59.9619 794.349 Q59.9619 790.976 59.1344 787.825 Q58.3069 784.642 56.6518 781.522 L62.1899 781.522 Q63.5267 784.674 64.227 787.984 Q64.9272 791.294 64.9272 794.699 Q64.9272 803.23 59.9619 808.227 Q54.9967 813.192 46.5303 813.192 Q37.7774 813.192 32.6531 808.481 Q27.4968 803.739 27.4968 795.718 Q27.4968 788.525 32.1438 784.355 Q36.7589 780.154 44.7161 780.154 M42.9973 786.01 Q38.1912 786.074 35.3266 788.716 Q32.4621 791.326 32.4621 795.654 Q32.4621 800.556 35.2312 803.516 Q38.0002 806.444 43.0292 806.89 L42.9973 786.01 Z\" fill=\"#000000\" fill-rule=\"nonzero\" fill-opacity=\"1\" /><path clip-path=\"url(#clip160)\" d=\"M28.3562 742.055 L45.7028 754.946 L64.0042 741.387 L64.0042 748.293 L49.9996 758.67 L64.0042 769.046 L64.0042 775.952 L45.3526 762.107 L28.3562 774.775 L28.3562 767.868 L41.0558 758.415 L28.3562 748.962 L28.3562 742.055 Z\" fill=\"#000000\" fill-rule=\"nonzero\" fill-opacity=\"1\" /><path clip-path=\"url(#clip160)\" d=\"M18.2347 727.318 L28.3562 727.318 L28.3562 715.255 L32.9077 715.255 L32.9077 727.318 L52.2594 727.318 Q56.6199 727.318 57.8613 726.141 Q59.1026 724.931 59.1026 721.271 L59.1026 715.255 L64.0042 715.255 L64.0042 721.271 Q64.0042 728.051 61.4897 730.629 Q58.9434 733.207 52.2594 733.207 L32.9077 733.207 L32.9077 737.504 L28.3562 737.504 L28.3562 733.207 L18.2347 733.207 L18.2347 727.318 Z\" fill=\"#000000\" fill-rule=\"nonzero\" fill-opacity=\"1\" /><path clip-path=\"url(#clip160)\" d=\"M58.657 681.167 L77.5631 681.167 L77.5631 687.055 L28.3562 687.055 L28.3562 681.167 L33.7671 681.167 Q30.5842 679.321 29.0564 676.52 Q27.4968 673.687 27.4968 669.773 Q27.4968 663.279 32.6531 659.237 Q37.8093 655.163 46.212 655.163 Q54.6147 655.163 59.771 659.237 Q64.9272 663.279 64.9272 669.773 Q64.9272 673.687 63.3994 676.52 Q61.8398 679.321 58.657 681.167 M46.212 661.242 Q39.7508 661.242 36.0905 663.916 Q32.3984 666.558 32.3984 671.205 Q32.3984 675.852 36.0905 678.525 Q39.7508 681.167 46.212 681.167 Q52.6732 681.167 56.3653 678.525 Q60.0256 675.852 60.0256 671.205 Q60.0256 666.558 56.3653 663.916 Q52.6732 661.242 46.212 661.242 Z\" fill=\"#000000\" fill-rule=\"nonzero\" fill-opacity=\"1\" /><path clip-path=\"url(#clip160)\" d=\"M44.7161 614.964 L47.5806 614.964 L47.5806 641.891 Q53.6281 641.509 56.8109 638.262 Q59.9619 634.984 59.9619 629.159 Q59.9619 625.785 59.1344 622.634 Q58.3069 619.452 56.6518 616.332 L62.1899 616.332 Q63.5267 619.483 64.227 622.794 Q64.9272 626.104 64.9272 629.509 Q64.9272 638.039 59.9619 643.037 Q54.9967 648.002 46.5303 648.002 Q37.7774 648.002 32.6531 643.291 Q27.4968 638.549 27.4968 630.528 Q27.4968 623.335 32.1438 619.165 Q36.7589 614.964 44.7161 614.964 M42.9973 620.82 Q38.1912 620.884 35.3266 623.526 Q32.4621 626.136 32.4621 630.464 Q32.4621 635.366 35.2312 638.326 Q38.0002 641.254 43.0292 641.7 L42.9973 620.82 Z\" fill=\"#000000\" fill-rule=\"nonzero\" fill-opacity=\"1\" /><path clip-path=\"url(#clip160)\" d=\"M33.8307 584.695 Q33.2578 585.682 33.0032 586.859 Q32.7167 588.005 32.7167 589.405 Q32.7167 594.371 35.9632 597.044 Q39.1779 599.686 45.2253 599.686 L64.0042 599.686 L64.0042 605.574 L28.3562 605.574 L28.3562 599.686 L33.8944 599.686 Q30.6479 597.84 29.0883 594.88 Q27.4968 591.92 27.4968 587.687 Q27.4968 587.082 27.5923 586.35 Q27.656 585.618 27.8151 584.727 L33.8307 584.695 Z\" fill=\"#000000\" fill-rule=\"nonzero\" fill-opacity=\"1\" /><path clip-path=\"url(#clip160)\" d=\"M28.3562 578.552 L28.3562 572.695 L64.0042 572.695 L64.0042 578.552 L28.3562 578.552 M14.479 578.552 L14.479 572.695 L21.895 572.695 L21.895 578.552 L14.479 578.552 Z\" fill=\"#000000\" fill-rule=\"nonzero\" fill-opacity=\"1\" /><path clip-path=\"url(#clip160)\" d=\"M32.4621 546.628 Q32.4621 551.339 36.1542 554.076 Q39.8145 556.813 46.212 556.813 Q52.6095 556.813 56.3017 554.108 Q59.9619 551.37 59.9619 546.628 Q59.9619 541.949 56.2698 539.212 Q52.5777 536.475 46.212 536.475 Q39.8781 536.475 36.186 539.212 Q32.4621 541.949 32.4621 546.628 M27.4968 546.628 Q27.4968 538.989 32.4621 534.629 Q37.4273 530.268 46.212 530.268 Q54.9649 530.268 59.9619 534.629 Q64.9272 538.989 64.9272 546.628 Q64.9272 554.299 59.9619 558.659 Q54.9649 562.988 46.212 562.988 Q37.4273 562.988 32.4621 558.659 Q27.4968 554.299 27.4968 546.628 Z\" fill=\"#000000\" fill-rule=\"nonzero\" fill-opacity=\"1\" /><path clip-path=\"url(#clip160)\" d=\"M33.7671 497.103 L14.479 497.103 L14.479 491.246 L64.0042 491.246 L64.0042 497.103 L58.657 497.103 Q61.8398 498.949 63.3994 501.782 Q64.9272 504.582 64.9272 508.529 Q64.9272 514.99 59.771 519.064 Q54.6147 523.107 46.212 523.107 Q37.8093 523.107 32.6531 519.064 Q27.4968 514.99 27.4968 508.529 Q27.4968 504.582 29.0564 501.782 Q30.5842 498.949 33.7671 497.103 M46.212 517.059 Q52.6732 517.059 56.3653 514.417 Q60.0256 511.744 60.0256 507.097 Q60.0256 502.45 56.3653 499.776 Q52.6732 497.103 46.212 497.103 Q39.7508 497.103 36.0905 499.776 Q32.3984 502.45 32.3984 507.097 Q32.3984 511.744 36.0905 514.417 Q39.7508 517.059 46.212 517.059 Z\" fill=\"#000000\" fill-rule=\"nonzero\" fill-opacity=\"1\" /><path clip-path=\"url(#clip160)\" d=\"M55.9197 477.687 L55.9197 470.971 L64.0042 470.971 L64.0042 477.687 L55.9197 477.687 M30.2977 477.687 L30.2977 470.971 L38.3822 470.971 L38.3822 477.687 L30.2977 477.687 Z\" fill=\"#000000\" fill-rule=\"nonzero\" fill-opacity=\"1\" /><path clip-path=\"url(#clip160)\" d=\"M14.479 457.444 L14.479 451.556 L43.7294 451.556 L28.3562 434.082 L28.3562 426.603 L45.0344 445.509 L64.0042 425.807 L64.0042 433.446 L46.5939 451.556 L64.0042 451.556 L64.0042 457.444 L14.479 457.444 Z\" fill=\"#000000\" fill-rule=\"nonzero\" fill-opacity=\"1\" /><path clip-path=\"url(#clip160)\" d=\"M16.4842 413.935 L34.149 413.935 L34.149 419.346 L16.4842 419.346 L16.4842 413.935 Z\" fill=\"#000000\" fill-rule=\"nonzero\" fill-opacity=\"1\" /><polyline clip-path=\"url(#clip162)\" style=\"stroke:#0000ff; stroke-linecap:round; stroke-linejoin:round; stroke-width:12; stroke-opacity:1; fill:none\" points=\"280.231,1194.19 380.839,1140.52 481.447,1096.22 582.055,1058.07 682.663,1023.76 783.271,992.89 883.879,964.271 984.487,937.865 1085.1,913.005 1185.7,889.572 1286.31,867.478 1386.92,846.279 1487.53,826.075 1588.14,806.789 1688.74,788.174 1789.35,770.22 1889.96,752.941 1990.57,736.278 2091.18,719.975 2191.78,704.18 2292.39,688.868 \"/>\n",
       "<polyline clip-path=\"url(#clip162)\" style=\"stroke:#ff0000; stroke-linecap:round; stroke-linejoin:round; stroke-width:12; stroke-opacity:1; fill:none\" stroke-dasharray=\"48, 30\" points=\"280.231,1194.27 380.839,1140.72 481.447,1096.45 582.055,1058.11 682.663,1023.97 783.271,992.975 883.879,964.466 984.487,937.969 1085.1,913.145 1185.7,889.739 1286.31,867.554 1386.92,846.433 1487.53,826.25 1588.14,806.902 1688.74,788.302 1789.35,770.378 1889.96,753.069 1990.57,736.32 2091.18,720.086 2191.78,704.328 2292.39,689.008 \"/>\n",
       "<polyline clip-path=\"url(#clip162)\" style=\"stroke:#000000; stroke-linecap:round; stroke-linejoin:round; stroke-width:8; stroke-opacity:1; fill:none\" stroke-dasharray=\"4, 8\" points=\"280.231,1384.24 380.839,1319.34 481.447,1254.43 582.055,1189.53 682.663,1124.63 783.271,1059.73 883.879,994.822 984.487,929.92 1085.1,865.017 1185.7,800.115 1286.31,735.212 1386.92,670.309 1487.53,605.407 1588.14,540.504 1688.74,475.601 1789.35,410.699 1889.96,345.796 1990.57,280.894 2091.18,215.991 2191.78,151.088 2292.39,86.1857 \"/>\n",
       "<path clip-path=\"url(#clip160)\" d=\"M290.963 300.469 L999.619 300.469 L999.619 93.1086 L290.963 93.1086  Z\" fill=\"#ffffff\" fill-rule=\"evenodd\" fill-opacity=\"1\"/>\n",
       "<polyline clip-path=\"url(#clip160)\" style=\"stroke:#000000; stroke-linecap:round; stroke-linejoin:round; stroke-width:4; stroke-opacity:1; fill:none\" points=\"290.963,300.469 999.619,300.469 999.619,93.1086 290.963,93.1086 290.963,300.469 \"/>\n",
       "<polyline clip-path=\"url(#clip160)\" style=\"stroke:#0000ff; stroke-linecap:round; stroke-linejoin:round; stroke-width:12; stroke-opacity:1; fill:none\" points=\"314.661,144.949 456.854,144.949 \"/>\n",
       "<path clip-path=\"url(#clip160)\" d=\"M493.955 149.196 Q488.793 149.196 486.803 150.377 Q484.812 151.557 484.812 154.405 Q484.812 156.673 486.293 158.016 Q487.798 159.335 490.368 159.335 Q493.909 159.335 496.039 156.835 Q498.192 154.312 498.192 150.145 L498.192 149.196 L493.955 149.196 M502.451 147.437 L502.451 162.229 L498.192 162.229 L498.192 158.293 Q496.733 160.655 494.557 161.789 Q492.381 162.9 489.233 162.9 Q485.252 162.9 482.891 160.678 Q480.553 158.432 480.553 154.682 Q480.553 150.307 483.469 148.085 Q486.409 145.863 492.219 145.863 L498.192 145.863 L498.192 145.446 Q498.192 142.507 496.247 140.909 Q494.326 139.289 490.831 139.289 Q488.608 139.289 486.502 139.821 Q484.395 140.354 482.451 141.419 L482.451 137.483 Q484.789 136.581 486.988 136.141 Q489.187 135.678 491.27 135.678 Q496.895 135.678 499.673 138.594 Q502.451 141.511 502.451 147.437 Z\" fill=\"#000000\" fill-rule=\"nonzero\" fill-opacity=\"1\" /><path clip-path=\"url(#clip160)\" d=\"M515.344 158.34 L515.344 172.09 L511.062 172.09 L511.062 136.303 L515.344 136.303 L515.344 140.238 Q516.687 137.923 518.724 136.812 Q520.784 135.678 523.631 135.678 Q528.353 135.678 531.293 139.428 Q534.256 143.178 534.256 149.289 Q534.256 155.4 531.293 159.15 Q528.353 162.9 523.631 162.9 Q520.784 162.9 518.724 161.789 Q516.687 160.655 515.344 158.34 M529.835 149.289 Q529.835 144.59 527.89 141.928 Q525.969 139.243 522.59 139.243 Q519.21 139.243 517.266 141.928 Q515.344 144.59 515.344 149.289 Q515.344 153.988 517.266 156.673 Q519.21 159.335 522.59 159.335 Q525.969 159.335 527.89 156.673 Q529.835 153.988 529.835 149.289 Z\" fill=\"#000000\" fill-rule=\"nonzero\" fill-opacity=\"1\" /><path clip-path=\"url(#clip160)\" d=\"M545.437 158.34 L545.437 172.09 L541.154 172.09 L541.154 136.303 L545.437 136.303 L545.437 140.238 Q546.779 137.923 548.816 136.812 Q550.876 135.678 553.724 135.678 Q558.446 135.678 561.386 139.428 Q564.349 143.178 564.349 149.289 Q564.349 155.4 561.386 159.15 Q558.446 162.9 553.724 162.9 Q550.876 162.9 548.816 161.789 Q546.779 160.655 545.437 158.34 M559.927 149.289 Q559.927 144.59 557.983 141.928 Q556.062 139.243 552.682 139.243 Q549.302 139.243 547.358 141.928 Q545.437 144.59 545.437 149.289 Q545.437 153.988 547.358 156.673 Q549.302 159.335 552.682 159.335 Q556.062 159.335 557.983 156.673 Q559.927 153.988 559.927 149.289 Z\" fill=\"#000000\" fill-rule=\"nonzero\" fill-opacity=\"1\" /><path clip-path=\"url(#clip160)\" d=\"M586.432 140.284 Q585.714 139.868 584.858 139.682 Q584.024 139.474 583.006 139.474 Q579.395 139.474 577.45 141.835 Q575.529 144.173 575.529 148.571 L575.529 162.229 L571.247 162.229 L571.247 136.303 L575.529 136.303 L575.529 140.331 Q576.872 137.969 579.024 136.835 Q581.177 135.678 584.256 135.678 Q584.696 135.678 585.228 135.747 Q585.761 135.794 586.409 135.909 L586.432 140.284 Z\" fill=\"#000000\" fill-rule=\"nonzero\" fill-opacity=\"1\" /><path clip-path=\"url(#clip160)\" d=\"M599.904 139.289 Q596.478 139.289 594.487 141.974 Q592.497 144.636 592.497 149.289 Q592.497 153.942 594.464 156.627 Q596.455 159.289 599.904 159.289 Q603.307 159.289 605.297 156.604 Q607.288 153.918 607.288 149.289 Q607.288 144.682 605.297 141.997 Q603.307 139.289 599.904 139.289 M599.904 135.678 Q605.46 135.678 608.631 139.289 Q611.802 142.9 611.802 149.289 Q611.802 155.655 608.631 159.289 Q605.46 162.9 599.904 162.9 Q594.325 162.9 591.154 159.289 Q588.006 155.655 588.006 149.289 Q588.006 142.9 591.154 139.289 Q594.325 135.678 599.904 135.678 Z\" fill=\"#000000\" fill-rule=\"nonzero\" fill-opacity=\"1\" /><path clip-path=\"url(#clip160)\" d=\"M638.955 136.303 L629.58 148.919 L639.441 162.229 L634.418 162.229 L626.871 152.043 L619.325 162.229 L614.302 162.229 L624.371 148.664 L615.159 136.303 L620.182 136.303 L627.057 145.539 L633.932 136.303 L638.955 136.303 Z\" fill=\"#000000\" fill-rule=\"nonzero\" fill-opacity=\"1\" /><path clip-path=\"url(#clip160)\" d=\"M645.459 136.303 L649.719 136.303 L649.719 162.229 L645.459 162.229 L645.459 136.303 M645.459 126.21 L649.719 126.21 L649.719 131.604 L645.459 131.604 L645.459 126.21 Z\" fill=\"#000000\" fill-rule=\"nonzero\" fill-opacity=\"1\" /><path clip-path=\"url(#clip160)\" d=\"M678.816 141.28 Q680.413 138.409 682.635 137.044 Q684.857 135.678 687.866 135.678 Q691.917 135.678 694.116 138.525 Q696.316 141.349 696.316 146.581 L696.316 162.229 L692.033 162.229 L692.033 146.719 Q692.033 142.993 690.714 141.187 Q689.394 139.382 686.686 139.382 Q683.376 139.382 681.454 141.581 Q679.533 143.78 679.533 147.576 L679.533 162.229 L675.251 162.229 L675.251 146.719 Q675.251 142.969 673.931 141.187 Q672.612 139.382 669.857 139.382 Q666.593 139.382 664.672 141.604 Q662.751 143.803 662.751 147.576 L662.751 162.229 L658.468 162.229 L658.468 136.303 L662.751 136.303 L662.751 140.331 Q664.209 137.946 666.246 136.812 Q668.283 135.678 671.084 135.678 Q673.908 135.678 675.876 137.113 Q677.867 138.548 678.816 141.28 Z\" fill=\"#000000\" fill-rule=\"nonzero\" fill-opacity=\"1\" /><path clip-path=\"url(#clip160)\" d=\"M716.593 149.196 Q711.431 149.196 709.44 150.377 Q707.45 151.557 707.45 154.405 Q707.45 156.673 708.931 158.016 Q710.436 159.335 713.005 159.335 Q716.547 159.335 718.677 156.835 Q720.829 154.312 720.829 150.145 L720.829 149.196 L716.593 149.196 M725.089 147.437 L725.089 162.229 L720.829 162.229 L720.829 158.293 Q719.371 160.655 717.195 161.789 Q715.019 162.9 711.871 162.9 Q707.89 162.9 705.528 160.678 Q703.19 158.432 703.19 154.682 Q703.19 150.307 706.107 148.085 Q709.047 145.863 714.857 145.863 L720.829 145.863 L720.829 145.446 Q720.829 142.507 718.885 140.909 Q716.964 139.289 713.468 139.289 Q711.246 139.289 709.14 139.821 Q707.033 140.354 705.089 141.419 L705.089 137.483 Q707.427 136.581 709.626 136.141 Q711.825 135.678 713.908 135.678 Q719.533 135.678 722.311 138.594 Q725.089 141.511 725.089 147.437 Z\" fill=\"#000000\" fill-rule=\"nonzero\" fill-opacity=\"1\" /><path clip-path=\"url(#clip160)\" d=\"M738.075 128.942 L738.075 136.303 L746.848 136.303 L746.848 139.613 L738.075 139.613 L738.075 153.687 Q738.075 156.858 738.931 157.761 Q739.811 158.664 742.473 158.664 L746.848 158.664 L746.848 162.229 L742.473 162.229 Q737.542 162.229 735.667 160.4 Q733.792 158.548 733.792 153.687 L733.792 139.613 L730.667 139.613 L730.667 136.303 L733.792 136.303 L733.792 128.942 L738.075 128.942 Z\" fill=\"#000000\" fill-rule=\"nonzero\" fill-opacity=\"1\" /><path clip-path=\"url(#clip160)\" d=\"M774.625 148.201 L774.625 150.284 L755.042 150.284 Q755.32 154.682 757.681 156.997 Q760.065 159.289 764.301 159.289 Q766.755 159.289 769.047 158.687 Q771.361 158.085 773.63 156.881 L773.63 160.909 Q771.338 161.881 768.931 162.391 Q766.523 162.9 764.047 162.9 Q757.843 162.9 754.209 159.289 Q750.598 155.678 750.598 149.52 Q750.598 143.155 754.024 139.428 Q757.473 135.678 763.306 135.678 Q768.537 135.678 771.57 139.057 Q774.625 142.414 774.625 148.201 M770.366 146.951 Q770.32 143.456 768.398 141.372 Q766.5 139.289 763.352 139.289 Q759.787 139.289 757.635 141.303 Q755.505 143.317 755.181 146.974 L770.366 146.951 Z\" fill=\"#000000\" fill-rule=\"nonzero\" fill-opacity=\"1\" /><path clip-path=\"url(#clip160)\" d=\"M813.213 137.067 L813.213 141.094 Q811.407 140.169 809.463 139.706 Q807.519 139.243 805.435 139.243 Q802.264 139.243 800.667 140.215 Q799.093 141.187 799.093 143.131 Q799.093 144.613 800.227 145.469 Q801.361 146.303 804.787 147.067 L806.245 147.391 Q810.782 148.363 812.681 150.145 Q814.602 151.905 814.602 155.076 Q814.602 158.687 811.732 160.793 Q808.884 162.9 803.884 162.9 Q801.801 162.9 799.533 162.483 Q797.287 162.09 794.787 161.28 L794.787 156.881 Q797.148 158.108 799.44 158.733 Q801.732 159.335 803.977 159.335 Q806.986 159.335 808.607 158.317 Q810.227 157.275 810.227 155.4 Q810.227 153.664 809.046 152.738 Q807.889 151.812 803.931 150.956 L802.449 150.608 Q798.491 149.775 796.732 148.062 Q794.972 146.326 794.972 143.317 Q794.972 139.659 797.565 137.669 Q800.158 135.678 804.926 135.678 Q807.287 135.678 809.37 136.025 Q811.454 136.372 813.213 137.067 Z\" fill=\"#000000\" fill-rule=\"nonzero\" fill-opacity=\"1\" /><path clip-path=\"url(#clip160)\" d=\"M831.431 139.289 Q828.005 139.289 826.014 141.974 Q824.023 144.636 824.023 149.289 Q824.023 153.942 825.991 156.627 Q827.981 159.289 831.431 159.289 Q834.833 159.289 836.824 156.604 Q838.815 153.918 838.815 149.289 Q838.815 144.682 836.824 141.997 Q834.833 139.289 831.431 139.289 M831.431 135.678 Q836.986 135.678 840.157 139.289 Q843.329 142.9 843.329 149.289 Q843.329 155.655 840.157 159.289 Q836.986 162.9 831.431 162.9 Q825.852 162.9 822.681 159.289 Q819.532 155.655 819.532 149.289 Q819.532 142.9 822.681 139.289 Q825.852 135.678 831.431 135.678 Z\" fill=\"#000000\" fill-rule=\"nonzero\" fill-opacity=\"1\" /><path clip-path=\"url(#clip160)\" d=\"M850.389 126.21 L854.648 126.21 L854.648 162.229 L850.389 162.229 L850.389 126.21 Z\" fill=\"#000000\" fill-rule=\"nonzero\" fill-opacity=\"1\" /><path clip-path=\"url(#clip160)\" d=\"M863.12 151.997 L863.12 136.303 L867.379 136.303 L867.379 151.835 Q867.379 155.516 868.815 157.368 Q870.25 159.196 873.12 159.196 Q876.569 159.196 878.56 156.997 Q880.574 154.798 880.574 151.002 L880.574 136.303 L884.833 136.303 L884.833 162.229 L880.574 162.229 L880.574 158.247 Q879.023 160.608 876.963 161.766 Q874.926 162.9 872.217 162.9 Q867.75 162.9 865.435 160.122 Q863.12 157.344 863.12 151.997 M873.838 135.678 L873.838 135.678 Z\" fill=\"#000000\" fill-rule=\"nonzero\" fill-opacity=\"1\" /><path clip-path=\"url(#clip160)\" d=\"M897.819 128.942 L897.819 136.303 L906.592 136.303 L906.592 139.613 L897.819 139.613 L897.819 153.687 Q897.819 156.858 898.676 157.761 Q899.555 158.664 902.217 158.664 L906.592 158.664 L906.592 162.229 L902.217 162.229 Q897.287 162.229 895.412 160.4 Q893.537 158.548 893.537 153.687 L893.537 139.613 L890.412 139.613 L890.412 136.303 L893.537 136.303 L893.537 128.942 L897.819 128.942 Z\" fill=\"#000000\" fill-rule=\"nonzero\" fill-opacity=\"1\" /><path clip-path=\"url(#clip160)\" d=\"M912.194 136.303 L916.453 136.303 L916.453 162.229 L912.194 162.229 L912.194 136.303 M912.194 126.21 L916.453 126.21 L916.453 131.604 L912.194 131.604 L912.194 126.21 Z\" fill=\"#000000\" fill-rule=\"nonzero\" fill-opacity=\"1\" /><path clip-path=\"url(#clip160)\" d=\"M935.411 139.289 Q931.986 139.289 929.995 141.974 Q928.004 144.636 928.004 149.289 Q928.004 153.942 929.972 156.627 Q931.962 159.289 935.411 159.289 Q938.814 159.289 940.805 156.604 Q942.796 153.918 942.796 149.289 Q942.796 144.682 940.805 141.997 Q938.814 139.289 935.411 139.289 M935.411 135.678 Q940.967 135.678 944.138 139.289 Q947.31 142.9 947.31 149.289 Q947.31 155.655 944.138 159.289 Q940.967 162.9 935.411 162.9 Q929.833 162.9 926.661 159.289 Q923.513 155.655 923.513 149.289 Q923.513 142.9 926.661 139.289 Q929.833 135.678 935.411 135.678 Z\" fill=\"#000000\" fill-rule=\"nonzero\" fill-opacity=\"1\" /><path clip-path=\"url(#clip160)\" d=\"M975.92 146.581 L975.92 162.229 L971.661 162.229 L971.661 146.719 Q971.661 143.039 970.226 141.21 Q968.791 139.382 965.921 139.382 Q962.471 139.382 960.481 141.581 Q958.49 143.78 958.49 147.576 L958.49 162.229 L954.208 162.229 L954.208 136.303 L958.49 136.303 L958.49 140.331 Q960.018 137.993 962.078 136.835 Q964.161 135.678 966.87 135.678 Q971.337 135.678 973.629 138.456 Q975.92 141.21 975.92 146.581 Z\" fill=\"#000000\" fill-rule=\"nonzero\" fill-opacity=\"1\" /><polyline clip-path=\"url(#clip160)\" style=\"stroke:#ff0000; stroke-linecap:round; stroke-linejoin:round; stroke-width:12; stroke-opacity:1; fill:none\" stroke-dasharray=\"48, 30\" points=\"314.661,196.789 456.854,196.789 \"/>\n",
       "<path clip-path=\"url(#clip160)\" d=\"M493.955 201.036 Q488.793 201.036 486.803 202.217 Q484.812 203.397 484.812 206.245 Q484.812 208.513 486.293 209.856 Q487.798 211.175 490.368 211.175 Q493.909 211.175 496.039 208.675 Q498.192 206.152 498.192 201.985 L498.192 201.036 L493.955 201.036 M502.451 199.277 L502.451 214.069 L498.192 214.069 L498.192 210.133 Q496.733 212.495 494.557 213.629 Q492.381 214.74 489.233 214.74 Q485.252 214.74 482.891 212.518 Q480.553 210.272 480.553 206.522 Q480.553 202.147 483.469 199.925 Q486.409 197.703 492.219 197.703 L498.192 197.703 L498.192 197.286 Q498.192 194.347 496.247 192.749 Q494.326 191.129 490.831 191.129 Q488.608 191.129 486.502 191.661 Q484.395 192.194 482.451 193.259 L482.451 189.323 Q484.789 188.421 486.988 187.981 Q489.187 187.518 491.27 187.518 Q496.895 187.518 499.673 190.434 Q502.451 193.351 502.451 199.277 Z\" fill=\"#000000\" fill-rule=\"nonzero\" fill-opacity=\"1\" /><path clip-path=\"url(#clip160)\" d=\"M532.775 198.421 L532.775 214.069 L528.515 214.069 L528.515 198.559 Q528.515 194.879 527.08 193.05 Q525.645 191.222 522.775 191.222 Q519.326 191.222 517.335 193.421 Q515.344 195.62 515.344 199.416 L515.344 214.069 L511.062 214.069 L511.062 188.143 L515.344 188.143 L515.344 192.171 Q516.872 189.833 518.932 188.675 Q521.016 187.518 523.724 187.518 Q528.191 187.518 530.483 190.296 Q532.775 193.05 532.775 198.421 Z\" fill=\"#000000\" fill-rule=\"nonzero\" fill-opacity=\"1\" /><path clip-path=\"url(#clip160)\" d=\"M553.052 201.036 Q547.89 201.036 545.9 202.217 Q543.909 203.397 543.909 206.245 Q543.909 208.513 545.39 209.856 Q546.895 211.175 549.464 211.175 Q553.006 211.175 555.136 208.675 Q557.288 206.152 557.288 201.985 L557.288 201.036 L553.052 201.036 M561.548 199.277 L561.548 214.069 L557.288 214.069 L557.288 210.133 Q555.83 212.495 553.654 213.629 Q551.478 214.74 548.33 214.74 Q544.349 214.74 541.988 212.518 Q539.65 210.272 539.65 206.522 Q539.65 202.147 542.566 199.925 Q545.506 197.703 551.316 197.703 L557.288 197.703 L557.288 197.286 Q557.288 194.347 555.344 192.749 Q553.423 191.129 549.927 191.129 Q547.705 191.129 545.599 191.661 Q543.492 192.194 541.548 193.259 L541.548 189.323 Q543.886 188.421 546.085 187.981 Q548.284 187.518 550.367 187.518 Q555.992 187.518 558.77 190.434 Q561.548 193.351 561.548 199.277 Z\" fill=\"#000000\" fill-rule=\"nonzero\" fill-opacity=\"1\" /><path clip-path=\"url(#clip160)\" d=\"M570.321 178.05 L574.58 178.05 L574.58 214.069 L570.321 214.069 L570.321 178.05 Z\" fill=\"#000000\" fill-rule=\"nonzero\" fill-opacity=\"1\" /><path clip-path=\"url(#clip160)\" d=\"M594.279 216.476 Q592.473 221.106 590.761 222.518 Q589.048 223.93 586.177 223.93 L582.774 223.93 L582.774 220.365 L585.274 220.365 Q587.034 220.365 588.006 219.532 Q588.978 218.698 590.159 215.596 L590.923 213.652 L580.437 188.143 L584.95 188.143 L593.052 208.421 L601.154 188.143 L605.668 188.143 L594.279 216.476 Z\" fill=\"#000000\" fill-rule=\"nonzero\" fill-opacity=\"1\" /><path clip-path=\"url(#clip160)\" d=\"M615.76 180.782 L615.76 188.143 L624.533 188.143 L624.533 191.453 L615.76 191.453 L615.76 205.527 Q615.76 208.698 616.617 209.601 Q617.496 210.504 620.159 210.504 L624.533 210.504 L624.533 214.069 L620.159 214.069 Q615.228 214.069 613.353 212.24 Q611.478 210.388 611.478 205.527 L611.478 191.453 L608.353 191.453 L608.353 188.143 L611.478 188.143 L611.478 180.782 L615.76 180.782 Z\" fill=\"#000000\" fill-rule=\"nonzero\" fill-opacity=\"1\" /><path clip-path=\"url(#clip160)\" d=\"M630.135 188.143 L634.395 188.143 L634.395 214.069 L630.135 214.069 L630.135 188.143 M630.135 178.05 L634.395 178.05 L634.395 183.444 L630.135 183.444 L630.135 178.05 Z\" fill=\"#000000\" fill-rule=\"nonzero\" fill-opacity=\"1\" /><path clip-path=\"url(#clip160)\" d=\"M661.964 189.138 L661.964 193.12 Q660.158 192.124 658.33 191.638 Q656.524 191.129 654.672 191.129 Q650.529 191.129 648.237 193.768 Q645.945 196.384 645.945 201.129 Q645.945 205.874 648.237 208.513 Q650.529 211.129 654.672 211.129 Q656.524 211.129 658.33 210.643 Q660.158 210.133 661.964 209.138 L661.964 213.073 Q660.181 213.907 658.26 214.323 Q656.362 214.74 654.209 214.74 Q648.353 214.74 644.904 211.059 Q641.455 207.379 641.455 201.129 Q641.455 194.786 644.927 191.152 Q648.422 187.518 654.487 187.518 Q656.455 187.518 658.33 187.935 Q660.205 188.328 661.964 189.138 Z\" fill=\"#000000\" fill-rule=\"nonzero\" fill-opacity=\"1\" /><path clip-path=\"url(#clip160)\" d=\"M681.154 201.036 Q675.992 201.036 674.001 202.217 Q672.01 203.397 672.01 206.245 Q672.01 208.513 673.492 209.856 Q674.996 211.175 677.566 211.175 Q681.107 211.175 683.237 208.675 Q685.39 206.152 685.39 201.985 L685.39 201.036 L681.154 201.036 M689.649 199.277 L689.649 214.069 L685.39 214.069 L685.39 210.133 Q683.931 212.495 681.755 213.629 Q679.579 214.74 676.431 214.74 Q672.45 214.74 670.089 212.518 Q667.751 210.272 667.751 206.522 Q667.751 202.147 670.667 199.925 Q673.607 197.703 679.417 197.703 L685.39 197.703 L685.39 197.286 Q685.39 194.347 683.445 192.749 Q681.524 191.129 678.029 191.129 Q675.806 191.129 673.7 191.661 Q671.593 192.194 669.649 193.259 L669.649 189.323 Q671.987 188.421 674.186 187.981 Q676.385 187.518 678.468 187.518 Q684.093 187.518 686.871 190.434 Q689.649 193.351 689.649 199.277 Z\" fill=\"#000000\" fill-rule=\"nonzero\" fill-opacity=\"1\" /><path clip-path=\"url(#clip160)\" d=\"M698.422 178.05 L702.681 178.05 L702.681 214.069 L698.422 214.069 L698.422 178.05 Z\" fill=\"#000000\" fill-rule=\"nonzero\" fill-opacity=\"1\" /><path clip-path=\"url(#clip160)\" d=\"M743.19 188.907 L743.19 192.934 Q741.385 192.009 739.44 191.546 Q737.496 191.083 735.413 191.083 Q732.241 191.083 730.644 192.055 Q729.07 193.027 729.07 194.971 Q729.07 196.453 730.204 197.309 Q731.338 198.143 734.764 198.907 L736.223 199.231 Q740.76 200.203 742.658 201.985 Q744.579 203.745 744.579 206.916 Q744.579 210.527 741.709 212.633 Q738.862 214.74 733.862 214.74 Q731.778 214.74 729.51 214.323 Q727.264 213.93 724.764 213.12 L724.764 208.721 Q727.126 209.948 729.417 210.573 Q731.709 211.175 733.954 211.175 Q736.963 211.175 738.584 210.157 Q740.204 209.115 740.204 207.24 Q740.204 205.504 739.024 204.578 Q737.866 203.652 733.908 202.796 L732.426 202.448 Q728.468 201.615 726.709 199.902 Q724.95 198.166 724.95 195.157 Q724.95 191.499 727.542 189.509 Q730.135 187.518 734.903 187.518 Q737.264 187.518 739.348 187.865 Q741.431 188.212 743.19 188.907 Z\" fill=\"#000000\" fill-rule=\"nonzero\" fill-opacity=\"1\" /><path clip-path=\"url(#clip160)\" d=\"M761.408 191.129 Q757.982 191.129 755.991 193.814 Q754 196.476 754 201.129 Q754 205.782 755.968 208.467 Q757.959 211.129 761.408 211.129 Q764.811 211.129 766.801 208.444 Q768.792 205.758 768.792 201.129 Q768.792 196.522 766.801 193.837 Q764.811 191.129 761.408 191.129 M761.408 187.518 Q766.963 187.518 770.135 191.129 Q773.306 194.74 773.306 201.129 Q773.306 207.495 770.135 211.129 Q766.963 214.74 761.408 214.74 Q755.829 214.74 752.658 211.129 Q749.51 207.495 749.51 201.129 Q749.51 194.74 752.658 191.129 Q755.829 187.518 761.408 187.518 Z\" fill=\"#000000\" fill-rule=\"nonzero\" fill-opacity=\"1\" /><path clip-path=\"url(#clip160)\" d=\"M780.366 178.05 L784.625 178.05 L784.625 214.069 L780.366 214.069 L780.366 178.05 Z\" fill=\"#000000\" fill-rule=\"nonzero\" fill-opacity=\"1\" /><path clip-path=\"url(#clip160)\" d=\"M793.097 203.837 L793.097 188.143 L797.357 188.143 L797.357 203.675 Q797.357 207.356 798.792 209.208 Q800.227 211.036 803.097 211.036 Q806.546 211.036 808.537 208.837 Q810.551 206.638 810.551 202.842 L810.551 188.143 L814.81 188.143 L814.81 214.069 L810.551 214.069 L810.551 210.087 Q809 212.448 806.94 213.606 Q804.903 214.74 802.195 214.74 Q797.727 214.74 795.412 211.962 Q793.097 209.184 793.097 203.837 M803.815 187.518 L803.815 187.518 Z\" fill=\"#000000\" fill-rule=\"nonzero\" fill-opacity=\"1\" /><path clip-path=\"url(#clip160)\" d=\"M827.796 180.782 L827.796 188.143 L836.569 188.143 L836.569 191.453 L827.796 191.453 L827.796 205.527 Q827.796 208.698 828.653 209.601 Q829.532 210.504 832.194 210.504 L836.569 210.504 L836.569 214.069 L832.194 214.069 Q827.264 214.069 825.389 212.24 Q823.514 210.388 823.514 205.527 L823.514 191.453 L820.389 191.453 L820.389 188.143 L823.514 188.143 L823.514 180.782 L827.796 180.782 Z\" fill=\"#000000\" fill-rule=\"nonzero\" fill-opacity=\"1\" /><path clip-path=\"url(#clip160)\" d=\"M842.171 188.143 L846.43 188.143 L846.43 214.069 L842.171 214.069 L842.171 188.143 M842.171 178.05 L846.43 178.05 L846.43 183.444 L842.171 183.444 L842.171 178.05 Z\" fill=\"#000000\" fill-rule=\"nonzero\" fill-opacity=\"1\" /><path clip-path=\"url(#clip160)\" d=\"M865.389 191.129 Q861.963 191.129 859.972 193.814 Q857.981 196.476 857.981 201.129 Q857.981 205.782 859.949 208.467 Q861.94 211.129 865.389 211.129 Q868.791 211.129 870.782 208.444 Q872.773 205.758 872.773 201.129 Q872.773 196.522 870.782 193.837 Q868.791 191.129 865.389 191.129 M865.389 187.518 Q870.944 187.518 874.115 191.129 Q877.287 194.74 877.287 201.129 Q877.287 207.495 874.115 211.129 Q870.944 214.74 865.389 214.74 Q859.81 214.74 856.639 211.129 Q853.491 207.495 853.491 201.129 Q853.491 194.74 856.639 191.129 Q859.81 187.518 865.389 187.518 Z\" fill=\"#000000\" fill-rule=\"nonzero\" fill-opacity=\"1\" /><path clip-path=\"url(#clip160)\" d=\"M905.898 198.421 L905.898 214.069 L901.638 214.069 L901.638 198.559 Q901.638 194.879 900.203 193.05 Q898.768 191.222 895.898 191.222 Q892.449 191.222 890.458 193.421 Q888.467 195.62 888.467 199.416 L888.467 214.069 L884.185 214.069 L884.185 188.143 L888.467 188.143 L888.467 192.171 Q889.995 189.833 892.055 188.675 Q894.139 187.518 896.847 187.518 Q901.314 187.518 903.606 190.296 Q905.898 193.05 905.898 198.421 Z\" fill=\"#000000\" fill-rule=\"nonzero\" fill-opacity=\"1\" /><polyline clip-path=\"url(#clip160)\" style=\"stroke:#000000; stroke-linecap:round; stroke-linejoin:round; stroke-width:8; stroke-opacity:1; fill:none\" stroke-dasharray=\"4, 8\" points=\"314.661,248.629 456.854,248.629 \"/>\n",
       "<path clip-path=\"url(#clip160)\" d=\"M496.155 235.423 L484.349 253.872 L496.155 253.872 L496.155 235.423 M494.928 231.349 L500.807 231.349 L500.807 253.872 L505.738 253.872 L505.738 257.761 L500.807 257.761 L500.807 265.909 L496.155 265.909 L496.155 257.761 L480.553 257.761 L480.553 253.247 L494.928 231.349 Z\" fill=\"#000000\" fill-rule=\"nonzero\" fill-opacity=\"1\" /><path clip-path=\"url(#clip160)\" d=\"M513.516 231.349 L531.872 231.349 L531.872 235.284 L517.798 235.284 L517.798 243.756 Q518.816 243.409 519.835 243.247 Q520.853 243.062 521.872 243.062 Q527.659 243.062 531.039 246.233 Q534.418 249.404 534.418 254.821 Q534.418 260.399 530.946 263.501 Q527.474 266.58 521.154 266.58 Q518.978 266.58 516.71 266.21 Q514.465 265.839 512.057 265.098 L512.057 260.399 Q514.141 261.534 516.363 262.089 Q518.585 262.645 521.062 262.645 Q525.066 262.645 527.404 260.538 Q529.742 258.432 529.742 254.821 Q529.742 251.21 527.404 249.103 Q525.066 246.997 521.062 246.997 Q519.187 246.997 517.312 247.413 Q515.46 247.83 513.516 248.71 L513.516 231.349 Z\" fill=\"#000000\" fill-rule=\"nonzero\" fill-opacity=\"1\" /><path clip-path=\"url(#clip160)\" d=\"M575.159 243.918 L575.159 229.89 L579.418 229.89 L579.418 265.909 L575.159 265.909 L575.159 262.02 Q573.816 264.335 571.756 265.469 Q569.719 266.58 566.849 266.58 Q562.15 266.58 559.187 262.83 Q556.247 259.08 556.247 252.969 Q556.247 246.858 559.187 243.108 Q562.15 239.358 566.849 239.358 Q569.719 239.358 571.756 240.492 Q573.816 241.603 575.159 243.918 M560.645 252.969 Q560.645 257.668 562.566 260.353 Q564.511 263.015 567.89 263.015 Q571.27 263.015 573.214 260.353 Q575.159 257.668 575.159 252.969 Q575.159 248.27 573.214 245.608 Q571.27 242.923 567.89 242.923 Q564.511 242.923 562.566 245.608 Q560.645 248.27 560.645 252.969 Z\" fill=\"#000000\" fill-rule=\"nonzero\" fill-opacity=\"1\" /><path clip-path=\"url(#clip160)\" d=\"M610.367 251.881 L610.367 253.964 L590.784 253.964 Q591.061 258.362 593.423 260.677 Q595.807 262.969 600.043 262.969 Q602.497 262.969 604.788 262.367 Q607.103 261.765 609.372 260.561 L609.372 264.589 Q607.08 265.561 604.672 266.071 Q602.265 266.58 599.788 266.58 Q593.585 266.58 589.95 262.969 Q586.339 259.358 586.339 253.2 Q586.339 246.835 589.765 243.108 Q593.214 239.358 599.048 239.358 Q604.279 239.358 607.311 242.737 Q610.367 246.094 610.367 251.881 M606.108 250.631 Q606.061 247.136 604.14 245.052 Q602.242 242.969 599.094 242.969 Q595.529 242.969 593.376 244.983 Q591.247 246.997 590.923 250.654 L606.108 250.631 Z\" fill=\"#000000\" fill-rule=\"nonzero\" fill-opacity=\"1\" /><path clip-path=\"url(#clip160)\" d=\"M634.418 252.645 Q634.418 248.015 632.496 245.469 Q630.598 242.923 627.149 242.923 Q623.723 242.923 621.802 245.469 Q619.904 248.015 619.904 252.645 Q619.904 257.251 621.802 259.798 Q623.723 262.344 627.149 262.344 Q630.598 262.344 632.496 259.798 Q634.418 257.251 634.418 252.645 M638.677 262.691 Q638.677 269.311 635.737 272.529 Q632.797 275.77 626.733 275.77 Q624.487 275.77 622.496 275.422 Q620.506 275.098 618.631 274.404 L618.631 270.26 Q620.506 271.279 622.334 271.765 Q624.163 272.251 626.061 272.251 Q630.251 272.251 632.334 270.052 Q634.418 267.876 634.418 263.455 L634.418 261.348 Q633.098 263.64 631.038 264.774 Q628.978 265.909 626.108 265.909 Q621.339 265.909 618.422 262.274 Q615.506 258.64 615.506 252.645 Q615.506 246.626 618.422 242.992 Q621.339 239.358 626.108 239.358 Q628.978 239.358 631.038 240.492 Q633.098 241.626 634.418 243.918 L634.418 239.983 L638.677 239.983 L638.677 262.691 Z\" fill=\"#000000\" fill-rule=\"nonzero\" fill-opacity=\"1\" /><path clip-path=\"url(#clip160)\" d=\"M662.473 243.964 Q661.756 243.548 660.899 243.362 Q660.066 243.154 659.047 243.154 Q655.436 243.154 653.492 245.515 Q651.57 247.853 651.57 252.251 L651.57 265.909 L647.288 265.909 L647.288 239.983 L651.57 239.983 L651.57 244.011 Q652.913 241.649 655.066 240.515 Q657.218 239.358 660.297 239.358 Q660.737 239.358 661.269 239.427 Q661.802 239.474 662.45 239.589 L662.473 243.964 Z\" fill=\"#000000\" fill-rule=\"nonzero\" fill-opacity=\"1\" /><path clip-path=\"url(#clip160)\" d=\"M688.075 251.881 L688.075 253.964 L668.492 253.964 Q668.769 258.362 671.13 260.677 Q673.515 262.969 677.751 262.969 Q680.204 262.969 682.496 262.367 Q684.811 261.765 687.079 260.561 L687.079 264.589 Q684.788 265.561 682.38 266.071 Q679.973 266.58 677.496 266.58 Q671.292 266.58 667.658 262.969 Q664.047 259.358 664.047 253.2 Q664.047 246.835 667.473 243.108 Q670.922 239.358 676.755 239.358 Q681.987 239.358 685.019 242.737 Q688.075 246.094 688.075 251.881 M683.816 250.631 Q683.769 247.136 681.848 245.052 Q679.95 242.969 676.802 242.969 Q673.237 242.969 671.084 244.983 Q668.955 246.997 668.63 250.654 L683.816 250.631 Z\" fill=\"#000000\" fill-rule=\"nonzero\" fill-opacity=\"1\" /><path clip-path=\"url(#clip160)\" d=\"M717.241 251.881 L717.241 253.964 L697.658 253.964 Q697.936 258.362 700.297 260.677 Q702.681 262.969 706.917 262.969 Q709.371 262.969 711.663 262.367 Q713.977 261.765 716.246 260.561 L716.246 264.589 Q713.954 265.561 711.547 266.071 Q709.14 266.58 706.663 266.58 Q700.459 266.58 696.825 262.969 Q693.214 259.358 693.214 253.2 Q693.214 246.835 696.64 243.108 Q700.089 239.358 705.922 239.358 Q711.153 239.358 714.186 242.737 Q717.241 246.094 717.241 251.881 M712.982 250.631 Q712.936 247.136 711.015 245.052 Q709.116 242.969 705.968 242.969 Q702.403 242.969 700.251 244.983 Q698.121 246.997 697.797 250.654 L712.982 250.631 Z\" fill=\"#000000\" fill-rule=\"nonzero\" fill-opacity=\"1\" /><path clip-path=\"url(#clip160)\" d=\"M739.301 229.89 L743.561 229.89 L743.561 265.909 L739.301 265.909 L739.301 229.89 Z\" fill=\"#000000\" fill-rule=\"nonzero\" fill-opacity=\"1\" /><path clip-path=\"url(#clip160)\" d=\"M752.473 239.983 L756.732 239.983 L756.732 265.909 L752.473 265.909 L752.473 239.983 M752.473 229.89 L756.732 229.89 L756.732 235.284 L752.473 235.284 L752.473 229.89 Z\" fill=\"#000000\" fill-rule=\"nonzero\" fill-opacity=\"1\" /><path clip-path=\"url(#clip160)\" d=\"M787.195 250.261 L787.195 265.909 L782.935 265.909 L782.935 250.399 Q782.935 246.719 781.5 244.89 Q780.065 243.062 777.195 243.062 Q773.746 243.062 771.755 245.261 Q769.764 247.46 769.764 251.256 L769.764 265.909 L765.482 265.909 L765.482 239.983 L769.764 239.983 L769.764 244.011 Q771.292 241.673 773.352 240.515 Q775.435 239.358 778.144 239.358 Q782.611 239.358 784.903 242.136 Q787.195 244.89 787.195 250.261 Z\" fill=\"#000000\" fill-rule=\"nonzero\" fill-opacity=\"1\" /><path clip-path=\"url(#clip160)\" d=\"M817.866 251.881 L817.866 253.964 L798.283 253.964 Q798.56 258.362 800.921 260.677 Q803.306 262.969 807.542 262.969 Q809.995 262.969 812.287 262.367 Q814.602 261.765 816.87 260.561 L816.87 264.589 Q814.579 265.561 812.171 266.071 Q809.764 266.58 807.287 266.58 Q801.083 266.58 797.449 262.969 Q793.838 259.358 793.838 253.2 Q793.838 246.835 797.264 243.108 Q800.713 239.358 806.546 239.358 Q811.778 239.358 814.81 242.737 Q817.866 246.094 817.866 251.881 M813.607 250.631 Q813.56 247.136 811.639 245.052 Q809.741 242.969 806.593 242.969 Q803.028 242.969 800.875 244.983 Q798.746 246.997 798.421 250.654 L813.607 250.631 Z\" fill=\"#000000\" fill-rule=\"nonzero\" fill-opacity=\"1\" /></svg>\n"
      ]
     },
     "execution_count": 8,
     "metadata": {},
     "output_type": "execute_result"
    }
   ],
   "source": [
    "plot(m.kgrid,pfcn0,c=:blue,lw=3,label=\"approximate solution\",legend=:topleft);\n",
    "plot!(m.kgrid,p_true,ls=:dash,c=:red,lw=3,label=\"analytical solution\");\n",
    "plot!(m.kgrid,kgrid,ls=:dot,c=:black,lw=2,label=\"45 degree line\");\n",
    "xlabel!(\"Asset this period: k\")\n",
    "ylabel!(\"Asset next period:k'\")"
   ]
  },
  {
   "cell_type": "markdown",
   "metadata": {
    "slideshow": {
     "slide_type": "subslide"
    }
   },
   "source": [
    "- As in VFI, we approximate the true function at high precision\n",
    "<!-- - VFIと同様、高い精度で真の関数を近似できている -->\n",
    "\n",
    "- As we use the policy function as the measure of convergence, the speed of convergence is faster than VFI\n",
    "<!-- - 政策関数を収束基準としていることから、収束のスピードはVFIと比べて速い -->\n",
    "\n",
    "- However, we can faster the convergence in VFI by using the policy function as the measure of convergence\n",
    "<!-- - もっとも、VFIにおいても政策関数を収束基準とすることで収束を速めることはできる -->"
   ]
  },
  {
   "cell_type": "markdown",
   "metadata": {
    "slideshow": {
     "slide_type": "subslide"
    }
   },
   "source": [
    "- The numerical error in the Euler equation is obtained by the following equation\n",
    "<!-- - オイラー方程式における計算誤差は、以下の式で得られる -->\n",
    "\n",
    "$$\n",
    "  \\frac{\\beta u'\\big([g(k^{i})]^{\\alpha}-g(g(k^{i}))\\big)f'(g(k^{i}))}{u'\\big([k^{i}]^{\\alpha}-g(k^{i})\\big)}-1\n",
    "$$\n",
    "\n",
    "where $k'=g(k)=f(k)-h(k)$\n",
    "% ここで、$k'=g(k)=f(k)-h(k)$である\n",
    "\n",
    "- As we solve for $c$ so that the numerical error is zero at each grid point in TI, the numerical error almost coincides with the criteria of convergence \n",
    "<!-- - TIにおいては、この計算誤差が各グリッドでゼロとなるように$c$を求めているため、計算誤差は繰り返し計算誤差とほぼ一致する -->\n",
    "\n",
    "- We will have finer grid points to look at the numerical error between the grid points used in TI\n",
    "<!-- - ここでは、グリッドをさらに細かく取り、TIで使用したグリッドの間でも計算誤差をみることにする -->"
   ]
  },
  {
   "cell_type": "code",
   "execution_count": 11,
   "metadata": {
    "slideshow": {
     "slide_type": "subslide"
    }
   },
   "outputs": [],
   "source": [
    "# calculate the errors from the Euler equation\n",
    "# as the errors are zero on the original grid, use finer grid\n",
    "\n",
    "# finer grid\n",
    "kgrid_err = collect(range(m.kmin, m.kmax, (m.nk-1)*10+1));\n",
    "# linear interpolation of c=h(k;b)\n",
    "cons_interp = LinearInterpolation(m.kgrid,cfcn0);\n",
    "cons = cons_interp.(kgrid_err);\n",
    "LHS = mu_CRRA.(cons,m.gamma)\n",
    "\n",
    "# k'=f(k)-c\n",
    "kp = kgrid_err.^m.alpha + (1-m.delta)*kgrid_err - cons;\n",
    "\n",
    "# linear interpolation of c'=h(k';b)\n",
    "cnext = cons_interp.(kp);\n",
    "rent = m.alpha.*kp.^(m.alpha-1.0) .- m.delta;\n",
    "RHS = m.beta.*(1 .+rent).*mu_CRRA.(cnext,m.gamma);\n",
    "\n",
    "err  = RHS./LHS .- 1.0;"
   ]
  },
  {
   "cell_type": "code",
   "execution_count": 12,
   "metadata": {
    "slideshow": {
     "slide_type": "subslide"
    }
   },
   "outputs": [
    {
     "data": {
      "image/svg+xml": [
       "<?xml version=\"1.0\" encoding=\"utf-8\"?>\n",
       "<svg xmlns=\"http://www.w3.org/2000/svg\" xmlns:xlink=\"http://www.w3.org/1999/xlink\" width=\"600\" height=\"400\" viewBox=\"0 0 2400 1600\">\n",
       "<defs>\n",
       "  <clipPath id=\"clip200\">\n",
       "    <rect x=\"0\" y=\"0\" width=\"2400\" height=\"1600\"/>\n",
       "  </clipPath>\n",
       "</defs>\n",
       "<path clip-path=\"url(#clip200)\" d=\"M0 1600 L2400 1600 L2400 0 L0 0  Z\" fill=\"#ffffff\" fill-rule=\"evenodd\" fill-opacity=\"1\"/>\n",
       "<defs>\n",
       "  <clipPath id=\"clip201\">\n",
       "    <rect x=\"480\" y=\"0\" width=\"1681\" height=\"1600\"/>\n",
       "  </clipPath>\n",
       "</defs>\n",
       "<path clip-path=\"url(#clip200)\" d=\"M280.19 1423.18 L2352.76 1423.18 L2352.76 47.2441 L280.19 47.2441  Z\" fill=\"#ffffff\" fill-rule=\"evenodd\" fill-opacity=\"1\"/>\n",
       "<defs>\n",
       "  <clipPath id=\"clip202\">\n",
       "    <rect x=\"280\" y=\"47\" width=\"2074\" height=\"1377\"/>\n",
       "  </clipPath>\n",
       "</defs>\n",
       "<polyline clip-path=\"url(#clip202)\" style=\"stroke:#000000; stroke-linecap:round; stroke-linejoin:round; stroke-width:2; stroke-opacity:0.1; fill:none\" points=\"280.19,1423.18 280.19,47.2441 \"/>\n",
       "<polyline clip-path=\"url(#clip202)\" style=\"stroke:#000000; stroke-linecap:round; stroke-linejoin:round; stroke-width:2; stroke-opacity:0.1; fill:none\" points=\"510.475,1423.18 510.475,47.2441 \"/>\n",
       "<polyline clip-path=\"url(#clip202)\" style=\"stroke:#000000; stroke-linecap:round; stroke-linejoin:round; stroke-width:2; stroke-opacity:0.1; fill:none\" points=\"971.045,1423.18 971.045,47.2441 \"/>\n",
       "<polyline clip-path=\"url(#clip202)\" style=\"stroke:#000000; stroke-linecap:round; stroke-linejoin:round; stroke-width:2; stroke-opacity:0.1; fill:none\" points=\"1431.62,1423.18 1431.62,47.2441 \"/>\n",
       "<polyline clip-path=\"url(#clip202)\" style=\"stroke:#000000; stroke-linecap:round; stroke-linejoin:round; stroke-width:2; stroke-opacity:0.1; fill:none\" points=\"1892.19,1423.18 1892.19,47.2441 \"/>\n",
       "<polyline clip-path=\"url(#clip202)\" style=\"stroke:#000000; stroke-linecap:round; stroke-linejoin:round; stroke-width:2; stroke-opacity:0.1; fill:none\" points=\"2352.76,1423.18 2352.76,47.2441 \"/>\n",
       "<polyline clip-path=\"url(#clip200)\" style=\"stroke:#000000; stroke-linecap:round; stroke-linejoin:round; stroke-width:4; stroke-opacity:1; fill:none\" points=\"280.19,1423.18 2352.76,1423.18 \"/>\n",
       "<polyline clip-path=\"url(#clip200)\" style=\"stroke:#000000; stroke-linecap:round; stroke-linejoin:round; stroke-width:4; stroke-opacity:1; fill:none\" points=\"280.19,1423.18 280.19,1404.28 \"/>\n",
       "<polyline clip-path=\"url(#clip200)\" style=\"stroke:#000000; stroke-linecap:round; stroke-linejoin:round; stroke-width:4; stroke-opacity:1; fill:none\" points=\"510.475,1423.18 510.475,1404.28 \"/>\n",
       "<polyline clip-path=\"url(#clip200)\" style=\"stroke:#000000; stroke-linecap:round; stroke-linejoin:round; stroke-width:4; stroke-opacity:1; fill:none\" points=\"971.045,1423.18 971.045,1404.28 \"/>\n",
       "<polyline clip-path=\"url(#clip200)\" style=\"stroke:#000000; stroke-linecap:round; stroke-linejoin:round; stroke-width:4; stroke-opacity:1; fill:none\" points=\"1431.62,1423.18 1431.62,1404.28 \"/>\n",
       "<polyline clip-path=\"url(#clip200)\" style=\"stroke:#000000; stroke-linecap:round; stroke-linejoin:round; stroke-width:4; stroke-opacity:1; fill:none\" points=\"1892.19,1423.18 1892.19,1404.28 \"/>\n",
       "<polyline clip-path=\"url(#clip200)\" style=\"stroke:#000000; stroke-linecap:round; stroke-linejoin:round; stroke-width:4; stroke-opacity:1; fill:none\" points=\"2352.76,1423.18 2352.76,1404.28 \"/>\n",
       "<path clip-path=\"url(#clip200)\" d=\"M242.991 1454.1 Q239.38 1454.1 237.551 1457.66 Q235.746 1461.2 235.746 1468.33 Q235.746 1475.44 237.551 1479.01 Q239.38 1482.55 242.991 1482.55 Q246.625 1482.55 248.431 1479.01 Q250.26 1475.44 250.26 1468.33 Q250.26 1461.2 248.431 1457.66 Q246.625 1454.1 242.991 1454.1 M242.991 1450.39 Q248.801 1450.39 251.857 1455 Q254.936 1459.58 254.936 1468.33 Q254.936 1477.06 251.857 1481.67 Q248.801 1486.25 242.991 1486.25 Q237.181 1486.25 234.102 1481.67 Q231.047 1477.06 231.047 1468.33 Q231.047 1459.58 234.102 1455 Q237.181 1450.39 242.991 1450.39 Z\" fill=\"#000000\" fill-rule=\"nonzero\" fill-opacity=\"1\" /><path clip-path=\"url(#clip200)\" d=\"M263.153 1479.7 L268.037 1479.7 L268.037 1485.58 L263.153 1485.58 L263.153 1479.7 Z\" fill=\"#000000\" fill-rule=\"nonzero\" fill-opacity=\"1\" /><path clip-path=\"url(#clip200)\" d=\"M288.222 1454.1 Q284.611 1454.1 282.783 1457.66 Q280.977 1461.2 280.977 1468.33 Q280.977 1475.44 282.783 1479.01 Q284.611 1482.55 288.222 1482.55 Q291.857 1482.55 293.662 1479.01 Q295.491 1475.44 295.491 1468.33 Q295.491 1461.2 293.662 1457.66 Q291.857 1454.1 288.222 1454.1 M288.222 1450.39 Q294.033 1450.39 297.088 1455 Q300.167 1459.58 300.167 1468.33 Q300.167 1477.06 297.088 1481.67 Q294.033 1486.25 288.222 1486.25 Q282.412 1486.25 279.334 1481.67 Q276.278 1477.06 276.278 1468.33 Q276.278 1459.58 279.334 1455 Q282.412 1450.39 288.222 1450.39 Z\" fill=\"#000000\" fill-rule=\"nonzero\" fill-opacity=\"1\" /><path clip-path=\"url(#clip200)\" d=\"M308.431 1451.02 L326.787 1451.02 L326.787 1454.96 L312.713 1454.96 L312.713 1463.43 Q313.732 1463.08 314.75 1462.92 Q315.769 1462.73 316.787 1462.73 Q322.574 1462.73 325.954 1465.9 Q329.333 1469.08 329.333 1474.49 Q329.333 1480.07 325.861 1483.17 Q322.389 1486.25 316.069 1486.25 Q313.894 1486.25 311.625 1485.88 Q309.38 1485.51 306.972 1484.77 L306.972 1480.07 Q309.056 1481.2 311.278 1481.76 Q313.5 1482.32 315.977 1482.32 Q319.981 1482.32 322.319 1480.21 Q324.657 1478.1 324.657 1474.49 Q324.657 1470.88 322.319 1468.77 Q319.981 1466.67 315.977 1466.67 Q314.102 1466.67 312.227 1467.08 Q310.375 1467.5 308.431 1468.38 L308.431 1451.02 Z\" fill=\"#000000\" fill-rule=\"nonzero\" fill-opacity=\"1\" /><path clip-path=\"url(#clip200)\" d=\"M472.779 1454.1 Q469.167 1454.1 467.339 1457.66 Q465.533 1461.2 465.533 1468.33 Q465.533 1475.44 467.339 1479.01 Q469.167 1482.55 472.779 1482.55 Q476.413 1482.55 478.218 1479.01 Q480.047 1475.44 480.047 1468.33 Q480.047 1461.2 478.218 1457.66 Q476.413 1454.1 472.779 1454.1 M472.779 1450.39 Q478.589 1450.39 481.644 1455 Q484.723 1459.58 484.723 1468.33 Q484.723 1477.06 481.644 1481.67 Q478.589 1486.25 472.779 1486.25 Q466.968 1486.25 463.89 1481.67 Q460.834 1477.06 460.834 1468.33 Q460.834 1459.58 463.89 1455 Q466.968 1450.39 472.779 1450.39 Z\" fill=\"#000000\" fill-rule=\"nonzero\" fill-opacity=\"1\" /><path clip-path=\"url(#clip200)\" d=\"M492.94 1479.7 L497.825 1479.7 L497.825 1485.58 L492.94 1485.58 L492.94 1479.7 Z\" fill=\"#000000\" fill-rule=\"nonzero\" fill-opacity=\"1\" /><path clip-path=\"url(#clip200)\" d=\"M508.82 1481.64 L516.459 1481.64 L516.459 1455.28 L508.149 1456.95 L508.149 1452.69 L516.413 1451.02 L521.088 1451.02 L521.088 1481.64 L528.727 1481.64 L528.727 1485.58 L508.82 1485.58 L508.82 1481.64 Z\" fill=\"#000000\" fill-rule=\"nonzero\" fill-opacity=\"1\" /><path clip-path=\"url(#clip200)\" d=\"M548.172 1454.1 Q544.561 1454.1 542.732 1457.66 Q540.926 1461.2 540.926 1468.33 Q540.926 1475.44 542.732 1479.01 Q544.561 1482.55 548.172 1482.55 Q551.806 1482.55 553.611 1479.01 Q555.44 1475.44 555.44 1468.33 Q555.44 1461.2 553.611 1457.66 Q551.806 1454.1 548.172 1454.1 M548.172 1450.39 Q553.982 1450.39 557.037 1455 Q560.116 1459.58 560.116 1468.33 Q560.116 1477.06 557.037 1481.67 Q553.982 1486.25 548.172 1486.25 Q542.362 1486.25 539.283 1481.67 Q536.227 1477.06 536.227 1468.33 Q536.227 1459.58 539.283 1455 Q542.362 1450.39 548.172 1450.39 Z\" fill=\"#000000\" fill-rule=\"nonzero\" fill-opacity=\"1\" /><path clip-path=\"url(#clip200)\" d=\"M933.349 1454.1 Q929.738 1454.1 927.909 1457.66 Q926.103 1461.2 926.103 1468.33 Q926.103 1475.44 927.909 1479.01 Q929.738 1482.55 933.349 1482.55 Q936.983 1482.55 938.789 1479.01 Q940.617 1475.44 940.617 1468.33 Q940.617 1461.2 938.789 1457.66 Q936.983 1454.1 933.349 1454.1 M933.349 1450.39 Q939.159 1450.39 942.214 1455 Q945.293 1459.58 945.293 1468.33 Q945.293 1477.06 942.214 1481.67 Q939.159 1486.25 933.349 1486.25 Q927.539 1486.25 924.46 1481.67 Q921.404 1477.06 921.404 1468.33 Q921.404 1459.58 924.46 1455 Q927.539 1450.39 933.349 1450.39 Z\" fill=\"#000000\" fill-rule=\"nonzero\" fill-opacity=\"1\" /><path clip-path=\"url(#clip200)\" d=\"M953.511 1479.7 L958.395 1479.7 L958.395 1485.58 L953.511 1485.58 L953.511 1479.7 Z\" fill=\"#000000\" fill-rule=\"nonzero\" fill-opacity=\"1\" /><path clip-path=\"url(#clip200)\" d=\"M972.608 1481.64 L988.927 1481.64 L988.927 1485.58 L966.983 1485.58 L966.983 1481.64 Q969.645 1478.89 974.228 1474.26 Q978.835 1469.61 980.015 1468.27 Q982.261 1465.74 983.14 1464.01 Q984.043 1462.25 984.043 1460.56 Q984.043 1457.8 982.098 1456.07 Q980.177 1454.33 977.075 1454.33 Q974.876 1454.33 972.423 1455.09 Q969.992 1455.86 967.214 1457.41 L967.214 1452.69 Q970.038 1451.55 972.492 1450.97 Q974.946 1450.39 976.983 1450.39 Q982.353 1450.39 985.548 1453.08 Q988.742 1455.77 988.742 1460.26 Q988.742 1462.39 987.932 1464.31 Q987.145 1466.2 985.038 1468.8 Q984.46 1469.47 981.358 1472.69 Q978.256 1475.88 972.608 1481.64 Z\" fill=\"#000000\" fill-rule=\"nonzero\" fill-opacity=\"1\" /><path clip-path=\"url(#clip200)\" d=\"M1008.74 1454.1 Q1005.13 1454.1 1003.3 1457.66 Q1001.5 1461.2 1001.5 1468.33 Q1001.5 1475.44 1003.3 1479.01 Q1005.13 1482.55 1008.74 1482.55 Q1012.38 1482.55 1014.18 1479.01 Q1016.01 1475.44 1016.01 1468.33 Q1016.01 1461.2 1014.18 1457.66 Q1012.38 1454.1 1008.74 1454.1 M1008.74 1450.39 Q1014.55 1450.39 1017.61 1455 Q1020.69 1459.58 1020.69 1468.33 Q1020.69 1477.06 1017.61 1481.67 Q1014.55 1486.25 1008.74 1486.25 Q1002.93 1486.25 999.853 1481.67 Q996.797 1477.06 996.797 1468.33 Q996.797 1459.58 999.853 1455 Q1002.93 1450.39 1008.74 1450.39 Z\" fill=\"#000000\" fill-rule=\"nonzero\" fill-opacity=\"1\" /><path clip-path=\"url(#clip200)\" d=\"M1393.92 1454.1 Q1390.31 1454.1 1388.48 1457.66 Q1386.67 1461.2 1386.67 1468.33 Q1386.67 1475.44 1388.48 1479.01 Q1390.31 1482.55 1393.92 1482.55 Q1397.55 1482.55 1399.36 1479.01 Q1401.19 1475.44 1401.19 1468.33 Q1401.19 1461.2 1399.36 1457.66 Q1397.55 1454.1 1393.92 1454.1 M1393.92 1450.39 Q1399.73 1450.39 1402.78 1455 Q1405.86 1459.58 1405.86 1468.33 Q1405.86 1477.06 1402.78 1481.67 Q1399.73 1486.25 1393.92 1486.25 Q1388.11 1486.25 1385.03 1481.67 Q1381.97 1477.06 1381.97 1468.33 Q1381.97 1459.58 1385.03 1455 Q1388.11 1450.39 1393.92 1450.39 Z\" fill=\"#000000\" fill-rule=\"nonzero\" fill-opacity=\"1\" /><path clip-path=\"url(#clip200)\" d=\"M1414.08 1479.7 L1418.97 1479.7 L1418.97 1485.58 L1414.08 1485.58 L1414.08 1479.7 Z\" fill=\"#000000\" fill-rule=\"nonzero\" fill-opacity=\"1\" /><path clip-path=\"url(#clip200)\" d=\"M1443.32 1466.95 Q1446.67 1467.66 1448.55 1469.93 Q1450.45 1472.2 1450.45 1475.53 Q1450.45 1480.65 1446.93 1483.45 Q1443.41 1486.25 1436.93 1486.25 Q1434.75 1486.25 1432.44 1485.81 Q1430.15 1485.39 1427.69 1484.54 L1427.69 1480.02 Q1429.64 1481.16 1431.95 1481.74 Q1434.27 1482.32 1436.79 1482.32 Q1441.19 1482.32 1443.48 1480.58 Q1445.79 1478.84 1445.79 1475.53 Q1445.79 1472.48 1443.64 1470.77 Q1441.51 1469.03 1437.69 1469.03 L1433.66 1469.03 L1433.66 1465.19 L1437.88 1465.19 Q1441.33 1465.19 1443.15 1463.82 Q1444.98 1462.43 1444.98 1459.84 Q1444.98 1457.18 1443.09 1455.77 Q1441.21 1454.33 1437.69 1454.33 Q1435.77 1454.33 1433.57 1454.75 Q1431.37 1455.16 1428.73 1456.04 L1428.73 1451.88 Q1431.4 1451.14 1433.71 1450.77 Q1436.05 1450.39 1438.11 1450.39 Q1443.43 1450.39 1446.53 1452.83 Q1449.64 1455.23 1449.64 1459.35 Q1449.64 1462.22 1447.99 1464.21 Q1446.35 1466.18 1443.32 1466.95 Z\" fill=\"#000000\" fill-rule=\"nonzero\" fill-opacity=\"1\" /><path clip-path=\"url(#clip200)\" d=\"M1469.31 1454.1 Q1465.7 1454.1 1463.87 1457.66 Q1462.07 1461.2 1462.07 1468.33 Q1462.07 1475.44 1463.87 1479.01 Q1465.7 1482.55 1469.31 1482.55 Q1472.95 1482.55 1474.75 1479.01 Q1476.58 1475.44 1476.58 1468.33 Q1476.58 1461.2 1474.75 1457.66 Q1472.95 1454.1 1469.31 1454.1 M1469.31 1450.39 Q1475.12 1450.39 1478.18 1455 Q1481.26 1459.58 1481.26 1468.33 Q1481.26 1477.06 1478.18 1481.67 Q1475.12 1486.25 1469.31 1486.25 Q1463.5 1486.25 1460.42 1481.67 Q1457.37 1477.06 1457.37 1468.33 Q1457.37 1459.58 1460.42 1455 Q1463.5 1450.39 1469.31 1450.39 Z\" fill=\"#000000\" fill-rule=\"nonzero\" fill-opacity=\"1\" /><path clip-path=\"url(#clip200)\" d=\"M1854.49 1454.1 Q1850.88 1454.1 1849.05 1457.66 Q1847.24 1461.2 1847.24 1468.33 Q1847.24 1475.44 1849.05 1479.01 Q1850.88 1482.55 1854.49 1482.55 Q1858.12 1482.55 1859.93 1479.01 Q1861.76 1475.44 1861.76 1468.33 Q1861.76 1461.2 1859.93 1457.66 Q1858.12 1454.1 1854.49 1454.1 M1854.49 1450.39 Q1860.3 1450.39 1863.35 1455 Q1866.43 1459.58 1866.43 1468.33 Q1866.43 1477.06 1863.35 1481.67 Q1860.3 1486.25 1854.49 1486.25 Q1848.68 1486.25 1845.6 1481.67 Q1842.54 1477.06 1842.54 1468.33 Q1842.54 1459.58 1845.6 1455 Q1848.68 1450.39 1854.49 1450.39 Z\" fill=\"#000000\" fill-rule=\"nonzero\" fill-opacity=\"1\" /><path clip-path=\"url(#clip200)\" d=\"M1874.65 1479.7 L1879.54 1479.7 L1879.54 1485.58 L1874.65 1485.58 L1874.65 1479.7 Z\" fill=\"#000000\" fill-rule=\"nonzero\" fill-opacity=\"1\" /><path clip-path=\"url(#clip200)\" d=\"M1902.57 1455.09 L1890.76 1473.54 L1902.57 1473.54 L1902.57 1455.09 M1901.34 1451.02 L1907.22 1451.02 L1907.22 1473.54 L1912.15 1473.54 L1912.15 1477.43 L1907.22 1477.43 L1907.22 1485.58 L1902.57 1485.58 L1902.57 1477.43 L1886.97 1477.43 L1886.97 1472.92 L1901.34 1451.02 Z\" fill=\"#000000\" fill-rule=\"nonzero\" fill-opacity=\"1\" /><path clip-path=\"url(#clip200)\" d=\"M1929.88 1454.1 Q1926.27 1454.1 1924.44 1457.66 Q1922.64 1461.2 1922.64 1468.33 Q1922.64 1475.44 1924.44 1479.01 Q1926.27 1482.55 1929.88 1482.55 Q1933.52 1482.55 1935.32 1479.01 Q1937.15 1475.44 1937.15 1468.33 Q1937.15 1461.2 1935.32 1457.66 Q1933.52 1454.1 1929.88 1454.1 M1929.88 1450.39 Q1935.69 1450.39 1938.75 1455 Q1941.83 1459.58 1941.83 1468.33 Q1941.83 1477.06 1938.75 1481.67 Q1935.69 1486.25 1929.88 1486.25 Q1924.07 1486.25 1920.99 1481.67 Q1917.94 1477.06 1917.94 1468.33 Q1917.94 1459.58 1920.99 1455 Q1924.07 1450.39 1929.88 1450.39 Z\" fill=\"#000000\" fill-rule=\"nonzero\" fill-opacity=\"1\" /><path clip-path=\"url(#clip200)\" d=\"M2315.06 1454.1 Q2311.45 1454.1 2309.62 1457.66 Q2307.81 1461.2 2307.81 1468.33 Q2307.81 1475.44 2309.62 1479.01 Q2311.45 1482.55 2315.06 1482.55 Q2318.69 1482.55 2320.5 1479.01 Q2322.33 1475.44 2322.33 1468.33 Q2322.33 1461.2 2320.5 1457.66 Q2318.69 1454.1 2315.06 1454.1 M2315.06 1450.39 Q2320.87 1450.39 2323.93 1455 Q2327 1459.58 2327 1468.33 Q2327 1477.06 2323.93 1481.67 Q2320.87 1486.25 2315.06 1486.25 Q2309.25 1486.25 2306.17 1481.67 Q2303.11 1477.06 2303.11 1468.33 Q2303.11 1459.58 2306.17 1455 Q2309.25 1450.39 2315.06 1450.39 Z\" fill=\"#000000\" fill-rule=\"nonzero\" fill-opacity=\"1\" /><path clip-path=\"url(#clip200)\" d=\"M2335.22 1479.7 L2340.11 1479.7 L2340.11 1485.58 L2335.22 1485.58 L2335.22 1479.7 Z\" fill=\"#000000\" fill-rule=\"nonzero\" fill-opacity=\"1\" /><path clip-path=\"url(#clip200)\" d=\"M2350.34 1451.02 L2368.69 1451.02 L2368.69 1454.96 L2354.62 1454.96 L2354.62 1463.43 Q2355.64 1463.08 2356.66 1462.92 Q2357.67 1462.73 2358.69 1462.73 Q2364.48 1462.73 2367.86 1465.9 Q2371.24 1469.08 2371.24 1474.49 Q2371.24 1480.07 2367.77 1483.17 Q2364.3 1486.25 2357.98 1486.25 Q2355.8 1486.25 2353.53 1485.88 Q2351.29 1485.51 2348.88 1484.77 L2348.88 1480.07 Q2350.96 1481.2 2353.18 1481.76 Q2355.41 1482.32 2357.88 1482.32 Q2361.89 1482.32 2364.23 1480.21 Q2366.56 1478.1 2366.56 1474.49 Q2366.56 1470.88 2364.23 1468.77 Q2361.89 1466.67 2357.88 1466.67 Q2356.01 1466.67 2354.13 1467.08 Q2352.28 1467.5 2350.34 1468.38 L2350.34 1451.02 Z\" fill=\"#000000\" fill-rule=\"nonzero\" fill-opacity=\"1\" /><path clip-path=\"url(#clip200)\" d=\"M2390.45 1454.1 Q2386.84 1454.1 2385.01 1457.66 Q2383.21 1461.2 2383.21 1468.33 Q2383.21 1475.44 2385.01 1479.01 Q2386.84 1482.55 2390.45 1482.55 Q2394.09 1482.55 2395.89 1479.01 Q2397.72 1475.44 2397.72 1468.33 Q2397.72 1461.2 2395.89 1457.66 Q2394.09 1454.1 2390.45 1454.1 M2390.45 1450.39 Q2396.26 1450.39 2399.32 1455 Q2402.4 1459.58 2402.4 1468.33 Q2402.4 1477.06 2399.32 1481.67 Q2396.26 1486.25 2390.45 1486.25 Q2384.64 1486.25 2381.56 1481.67 Q2378.51 1477.06 2378.51 1468.33 Q2378.51 1459.58 2381.56 1455 Q2384.64 1450.39 2390.45 1450.39 Z\" fill=\"#000000\" fill-rule=\"nonzero\" fill-opacity=\"1\" /><path clip-path=\"url(#clip200)\" d=\"M1025.27 1526.86 L1016.55 1550.51 L1034.03 1550.51 L1025.27 1526.86 M1021.65 1520.52 L1028.93 1520.52 L1047.04 1568.04 L1040.36 1568.04 L1036.03 1555.85 L1014.61 1555.85 L1010.28 1568.04 L1003.5 1568.04 L1021.65 1520.52 Z\" fill=\"#000000\" fill-rule=\"nonzero\" fill-opacity=\"1\" /><path clip-path=\"url(#clip200)\" d=\"M1076.45 1533.45 L1076.45 1538.98 Q1073.97 1537.71 1071.3 1537.07 Q1068.62 1536.44 1065.76 1536.44 Q1061.4 1536.44 1059.2 1537.77 Q1057.04 1539.11 1057.04 1541.79 Q1057.04 1543.82 1058.6 1545 Q1060.16 1546.15 1064.87 1547.2 L1066.87 1547.64 Q1073.11 1548.98 1075.72 1551.43 Q1078.36 1553.85 1078.36 1558.21 Q1078.36 1563.17 1074.42 1566.07 Q1070.5 1568.97 1063.63 1568.97 Q1060.76 1568.97 1057.64 1568.39 Q1054.56 1567.85 1051.12 1566.74 L1051.12 1560.69 Q1054.36 1562.38 1057.52 1563.24 Q1060.67 1564.07 1063.75 1564.07 Q1067.89 1564.07 1070.12 1562.66 Q1072.35 1561.23 1072.35 1558.65 Q1072.35 1556.27 1070.72 1554.99 Q1069.13 1553.72 1063.69 1552.54 L1061.65 1552.07 Q1056.21 1550.92 1053.79 1548.56 Q1051.37 1546.18 1051.37 1542.04 Q1051.37 1537.01 1054.94 1534.27 Q1058.5 1531.54 1065.06 1531.54 Q1068.31 1531.54 1071.17 1532.01 Q1074.04 1532.49 1076.45 1533.45 Z\" fill=\"#000000\" fill-rule=\"nonzero\" fill-opacity=\"1\" /><path clip-path=\"url(#clip200)\" d=\"M1110.42 1533.45 L1110.42 1538.98 Q1107.93 1537.71 1105.26 1537.07 Q1102.59 1536.44 1099.72 1536.44 Q1095.36 1536.44 1093.16 1537.77 Q1091 1539.11 1091 1541.79 Q1091 1543.82 1092.56 1545 Q1094.12 1546.15 1098.83 1547.2 L1100.83 1547.64 Q1107.07 1548.98 1109.68 1551.43 Q1112.32 1553.85 1112.32 1558.21 Q1112.32 1563.17 1108.38 1566.07 Q1104.46 1568.97 1097.59 1568.97 Q1094.72 1568.97 1091.6 1568.39 Q1088.52 1567.85 1085.08 1566.74 L1085.08 1560.69 Q1088.33 1562.38 1091.48 1563.24 Q1094.63 1564.07 1097.72 1564.07 Q1101.85 1564.07 1104.08 1562.66 Q1106.31 1561.23 1106.31 1558.65 Q1106.31 1556.27 1104.69 1554.99 Q1103.09 1553.72 1097.65 1552.54 L1095.61 1552.07 Q1090.17 1550.92 1087.75 1548.56 Q1085.33 1546.18 1085.33 1542.04 Q1085.33 1537.01 1088.9 1534.27 Q1092.46 1531.54 1099.02 1531.54 Q1102.27 1531.54 1105.13 1532.01 Q1108 1532.49 1110.42 1533.45 Z\" fill=\"#000000\" fill-rule=\"nonzero\" fill-opacity=\"1\" /><path clip-path=\"url(#clip200)\" d=\"M1152.14 1548.76 L1152.14 1551.62 L1125.22 1551.62 Q1125.6 1557.67 1128.84 1560.85 Q1132.12 1564 1137.95 1564 Q1141.32 1564 1144.47 1563.17 Q1147.65 1562.35 1150.77 1560.69 L1150.77 1566.23 Q1147.62 1567.57 1144.31 1568.27 Q1141 1568.97 1137.6 1568.97 Q1129.07 1568.97 1124.07 1564 Q1119.1 1559.04 1119.1 1550.57 Q1119.1 1541.82 1123.81 1536.69 Q1128.56 1531.54 1136.58 1531.54 Q1143.77 1531.54 1147.94 1536.18 Q1152.14 1540.8 1152.14 1548.76 M1146.29 1547.04 Q1146.22 1542.23 1143.58 1539.37 Q1140.97 1536.5 1136.64 1536.5 Q1131.74 1536.5 1128.78 1539.27 Q1125.85 1542.04 1125.41 1547.07 L1146.29 1547.04 Z\" fill=\"#000000\" fill-rule=\"nonzero\" fill-opacity=\"1\" /><path clip-path=\"url(#clip200)\" d=\"M1167.55 1522.27 L1167.55 1532.4 L1179.61 1532.4 L1179.61 1536.95 L1167.55 1536.95 L1167.55 1556.3 Q1167.55 1560.66 1168.72 1561.9 Q1169.93 1563.14 1173.59 1563.14 L1179.61 1563.14 L1179.61 1568.04 L1173.59 1568.04 Q1166.82 1568.04 1164.24 1565.53 Q1161.66 1562.98 1161.66 1556.3 L1161.66 1536.95 L1157.36 1536.95 L1157.36 1532.4 L1161.66 1532.4 L1161.66 1522.27 L1167.55 1522.27 Z\" fill=\"#000000\" fill-rule=\"nonzero\" fill-opacity=\"1\" /><path clip-path=\"url(#clip200)\" d=\"M1213.83 1522.27 L1213.83 1532.4 L1225.89 1532.4 L1225.89 1536.95 L1213.83 1536.95 L1213.83 1556.3 Q1213.83 1560.66 1215 1561.9 Q1216.21 1563.14 1219.87 1563.14 L1225.89 1563.14 L1225.89 1568.04 L1219.87 1568.04 Q1213.09 1568.04 1210.52 1565.53 Q1207.94 1562.98 1207.94 1556.3 L1207.94 1536.95 L1203.64 1536.95 L1203.64 1532.4 L1207.94 1532.4 L1207.94 1522.27 L1213.83 1522.27 Z\" fill=\"#000000\" fill-rule=\"nonzero\" fill-opacity=\"1\" /><path clip-path=\"url(#clip200)\" d=\"M1263.22 1546.53 L1263.22 1568.04 L1257.37 1568.04 L1257.37 1546.72 Q1257.37 1541.66 1255.39 1539.14 Q1253.42 1536.63 1249.47 1536.63 Q1244.73 1536.63 1241.99 1539.65 Q1239.26 1542.68 1239.26 1547.9 L1239.26 1568.04 L1233.37 1568.04 L1233.37 1518.52 L1239.26 1518.52 L1239.26 1537.93 Q1241.36 1534.72 1244.19 1533.13 Q1247.05 1531.54 1250.78 1531.54 Q1256.92 1531.54 1260.07 1535.36 Q1263.22 1539.14 1263.22 1546.53 Z\" fill=\"#000000\" fill-rule=\"nonzero\" fill-opacity=\"1\" /><path clip-path=\"url(#clip200)\" d=\"M1274.9 1532.4 L1280.76 1532.4 L1280.76 1568.04 L1274.9 1568.04 L1274.9 1532.4 M1274.9 1518.52 L1280.76 1518.52 L1280.76 1525.93 L1274.9 1525.93 L1274.9 1518.52 Z\" fill=\"#000000\" fill-rule=\"nonzero\" fill-opacity=\"1\" /><path clip-path=\"url(#clip200)\" d=\"M1315.74 1533.45 L1315.74 1538.98 Q1313.26 1537.71 1310.58 1537.07 Q1307.91 1536.44 1305.05 1536.44 Q1300.69 1536.44 1298.49 1537.77 Q1296.33 1539.11 1296.33 1541.79 Q1296.33 1543.82 1297.89 1545 Q1299.44 1546.15 1304.16 1547.2 L1306.16 1547.64 Q1312.4 1548.98 1315.01 1551.43 Q1317.65 1553.85 1317.65 1558.21 Q1317.65 1563.17 1313.7 1566.07 Q1309.79 1568.97 1302.91 1568.97 Q1300.05 1568.97 1296.93 1568.39 Q1293.84 1567.85 1290.41 1566.74 L1290.41 1560.69 Q1293.65 1562.38 1296.8 1563.24 Q1299.95 1564.07 1303.04 1564.07 Q1307.18 1564.07 1309.41 1562.66 Q1311.64 1561.23 1311.64 1558.65 Q1311.64 1556.27 1310.01 1554.99 Q1308.42 1553.72 1302.98 1552.54 L1300.94 1552.07 Q1295.5 1550.92 1293.08 1548.56 Q1290.66 1546.18 1290.66 1542.04 Q1290.66 1537.01 1294.22 1534.27 Q1297.79 1531.54 1304.35 1531.54 Q1307.59 1531.54 1310.46 1532.01 Q1313.32 1532.49 1315.74 1533.45 Z\" fill=\"#000000\" fill-rule=\"nonzero\" fill-opacity=\"1\" /><path clip-path=\"url(#clip200)\" d=\"M1353.36 1562.7 L1353.36 1581.6 L1347.47 1581.6 L1347.47 1532.4 L1353.36 1532.4 L1353.36 1537.81 Q1355.21 1534.62 1358.01 1533.1 Q1360.84 1531.54 1364.76 1531.54 Q1371.25 1531.54 1375.29 1536.69 Q1379.37 1541.85 1379.37 1550.25 Q1379.37 1558.65 1375.29 1563.81 Q1371.25 1568.97 1364.76 1568.97 Q1360.84 1568.97 1358.01 1567.44 Q1355.21 1565.88 1353.36 1562.7 M1373.29 1550.25 Q1373.29 1543.79 1370.61 1540.13 Q1367.97 1536.44 1363.32 1536.44 Q1358.68 1536.44 1356 1540.13 Q1353.36 1543.79 1353.36 1550.25 Q1353.36 1556.71 1356 1560.4 Q1358.68 1564.07 1363.32 1564.07 Q1367.97 1564.07 1370.61 1560.4 Q1373.29 1556.71 1373.29 1550.25 Z\" fill=\"#000000\" fill-rule=\"nonzero\" fill-opacity=\"1\" /><path clip-path=\"url(#clip200)\" d=\"M1419.57 1548.76 L1419.57 1551.62 L1392.64 1551.62 Q1393.02 1557.67 1396.27 1560.85 Q1399.55 1564 1405.37 1564 Q1408.74 1564 1411.89 1563.17 Q1415.08 1562.35 1418.2 1560.69 L1418.2 1566.23 Q1415.05 1567.57 1411.74 1568.27 Q1408.43 1568.97 1405.02 1568.97 Q1396.49 1568.97 1391.49 1564 Q1386.53 1559.04 1386.53 1550.57 Q1386.53 1541.82 1391.24 1536.69 Q1395.98 1531.54 1404 1531.54 Q1411.19 1531.54 1415.36 1536.18 Q1419.57 1540.8 1419.57 1548.76 M1413.71 1547.04 Q1413.65 1542.23 1411 1539.37 Q1408.39 1536.5 1404.07 1536.5 Q1399.16 1536.5 1396.2 1539.27 Q1393.28 1542.04 1392.83 1547.07 L1413.71 1547.04 Z\" fill=\"#000000\" fill-rule=\"nonzero\" fill-opacity=\"1\" /><path clip-path=\"url(#clip200)\" d=\"M1449.83 1537.87 Q1448.85 1537.3 1447.67 1537.04 Q1446.52 1536.76 1445.12 1536.76 Q1440.16 1536.76 1437.49 1540 Q1434.84 1543.22 1434.84 1549.27 L1434.84 1568.04 L1428.95 1568.04 L1428.95 1532.4 L1434.84 1532.4 L1434.84 1537.93 Q1436.69 1534.69 1439.65 1533.13 Q1442.61 1531.54 1446.84 1531.54 Q1447.45 1531.54 1448.18 1531.63 Q1448.91 1531.7 1449.8 1531.85 L1449.83 1537.87 Z\" fill=\"#000000\" fill-rule=\"nonzero\" fill-opacity=\"1\" /><path clip-path=\"url(#clip200)\" d=\"M1455.98 1532.4 L1461.83 1532.4 L1461.83 1568.04 L1455.98 1568.04 L1455.98 1532.4 M1455.98 1518.52 L1461.83 1518.52 L1461.83 1525.93 L1455.98 1525.93 L1455.98 1518.52 Z\" fill=\"#000000\" fill-rule=\"nonzero\" fill-opacity=\"1\" /><path clip-path=\"url(#clip200)\" d=\"M1487.9 1536.5 Q1483.19 1536.5 1480.45 1540.19 Q1477.72 1543.85 1477.72 1550.25 Q1477.72 1556.65 1480.42 1560.34 Q1483.16 1564 1487.9 1564 Q1492.58 1564 1495.32 1560.31 Q1498.05 1556.62 1498.05 1550.25 Q1498.05 1543.92 1495.32 1540.23 Q1492.58 1536.5 1487.9 1536.5 M1487.9 1531.54 Q1495.54 1531.54 1499.9 1536.5 Q1504.26 1541.47 1504.26 1550.25 Q1504.26 1559 1499.9 1564 Q1495.54 1568.97 1487.9 1568.97 Q1480.23 1568.97 1475.87 1564 Q1471.54 1559 1471.54 1550.25 Q1471.54 1541.47 1475.87 1536.5 Q1480.23 1531.54 1487.9 1531.54 Z\" fill=\"#000000\" fill-rule=\"nonzero\" fill-opacity=\"1\" /><path clip-path=\"url(#clip200)\" d=\"M1537.43 1537.81 L1537.43 1518.52 L1543.28 1518.52 L1543.28 1568.04 L1537.43 1568.04 L1537.43 1562.7 Q1535.58 1565.88 1532.75 1567.44 Q1529.95 1568.97 1526 1568.97 Q1519.54 1568.97 1515.46 1563.81 Q1511.42 1558.65 1511.42 1550.25 Q1511.42 1541.85 1515.46 1536.69 Q1519.54 1531.54 1526 1531.54 Q1529.95 1531.54 1532.75 1533.1 Q1535.58 1534.62 1537.43 1537.81 M1517.47 1550.25 Q1517.47 1556.71 1520.11 1560.4 Q1522.79 1564.07 1527.43 1564.07 Q1532.08 1564.07 1534.75 1560.4 Q1537.43 1556.71 1537.43 1550.25 Q1537.43 1543.79 1534.75 1540.13 Q1532.08 1536.44 1527.43 1536.44 Q1522.79 1536.44 1520.11 1540.13 Q1517.47 1543.79 1517.47 1550.25 Z\" fill=\"#000000\" fill-rule=\"nonzero\" fill-opacity=\"1\" /><path clip-path=\"url(#clip200)\" d=\"M1556.84 1559.96 L1563.56 1559.96 L1563.56 1568.04 L1556.84 1568.04 L1556.84 1559.96 M1556.84 1534.34 L1563.56 1534.34 L1563.56 1542.42 L1556.84 1542.42 L1556.84 1534.34 Z\" fill=\"#000000\" fill-rule=\"nonzero\" fill-opacity=\"1\" /><path clip-path=\"url(#clip200)\" d=\"M1597.81 1518.52 L1603.69 1518.52 L1603.69 1547.77 L1621.17 1532.4 L1628.65 1532.4 L1609.74 1549.07 L1629.44 1568.04 L1621.8 1568.04 L1603.69 1550.63 L1603.69 1568.04 L1597.81 1568.04 L1597.81 1518.52 Z\" fill=\"#000000\" fill-rule=\"nonzero\" fill-opacity=\"1\" /><polyline clip-path=\"url(#clip202)\" style=\"stroke:#000000; stroke-linecap:round; stroke-linejoin:round; stroke-width:2; stroke-opacity:0.1; fill:none\" points=\"280.19,1423.18 2352.76,1423.18 \"/>\n",
       "<polyline clip-path=\"url(#clip202)\" style=\"stroke:#000000; stroke-linecap:round; stroke-linejoin:round; stroke-width:2; stroke-opacity:0.1; fill:none\" points=\"280.19,1193.86 2352.76,1193.86 \"/>\n",
       "<polyline clip-path=\"url(#clip202)\" style=\"stroke:#000000; stroke-linecap:round; stroke-linejoin:round; stroke-width:2; stroke-opacity:0.1; fill:none\" points=\"280.19,964.535 2352.76,964.535 \"/>\n",
       "<polyline clip-path=\"url(#clip202)\" style=\"stroke:#000000; stroke-linecap:round; stroke-linejoin:round; stroke-width:2; stroke-opacity:0.1; fill:none\" points=\"280.19,735.212 2352.76,735.212 \"/>\n",
       "<polyline clip-path=\"url(#clip202)\" style=\"stroke:#000000; stroke-linecap:round; stroke-linejoin:round; stroke-width:2; stroke-opacity:0.1; fill:none\" points=\"280.19,505.889 2352.76,505.889 \"/>\n",
       "<polyline clip-path=\"url(#clip202)\" style=\"stroke:#000000; stroke-linecap:round; stroke-linejoin:round; stroke-width:2; stroke-opacity:0.1; fill:none\" points=\"280.19,276.567 2352.76,276.567 \"/>\n",
       "<polyline clip-path=\"url(#clip202)\" style=\"stroke:#000000; stroke-linecap:round; stroke-linejoin:round; stroke-width:2; stroke-opacity:0.1; fill:none\" points=\"280.19,47.2441 2352.76,47.2441 \"/>\n",
       "<polyline clip-path=\"url(#clip200)\" style=\"stroke:#000000; stroke-linecap:round; stroke-linejoin:round; stroke-width:4; stroke-opacity:1; fill:none\" points=\"280.19,1423.18 280.19,47.2441 \"/>\n",
       "<polyline clip-path=\"url(#clip200)\" style=\"stroke:#000000; stroke-linecap:round; stroke-linejoin:round; stroke-width:4; stroke-opacity:1; fill:none\" points=\"280.19,1423.18 299.088,1423.18 \"/>\n",
       "<polyline clip-path=\"url(#clip200)\" style=\"stroke:#000000; stroke-linecap:round; stroke-linejoin:round; stroke-width:4; stroke-opacity:1; fill:none\" points=\"280.19,1193.86 299.088,1193.86 \"/>\n",
       "<polyline clip-path=\"url(#clip200)\" style=\"stroke:#000000; stroke-linecap:round; stroke-linejoin:round; stroke-width:4; stroke-opacity:1; fill:none\" points=\"280.19,964.535 299.088,964.535 \"/>\n",
       "<polyline clip-path=\"url(#clip200)\" style=\"stroke:#000000; stroke-linecap:round; stroke-linejoin:round; stroke-width:4; stroke-opacity:1; fill:none\" points=\"280.19,735.212 299.088,735.212 \"/>\n",
       "<polyline clip-path=\"url(#clip200)\" style=\"stroke:#000000; stroke-linecap:round; stroke-linejoin:round; stroke-width:4; stroke-opacity:1; fill:none\" points=\"280.19,505.889 299.088,505.889 \"/>\n",
       "<polyline clip-path=\"url(#clip200)\" style=\"stroke:#000000; stroke-linecap:round; stroke-linejoin:round; stroke-width:4; stroke-opacity:1; fill:none\" points=\"280.19,276.567 299.088,276.567 \"/>\n",
       "<polyline clip-path=\"url(#clip200)\" style=\"stroke:#000000; stroke-linecap:round; stroke-linejoin:round; stroke-width:4; stroke-opacity:1; fill:none\" points=\"280.19,47.2441 299.088,47.2441 \"/>\n",
       "<path clip-path=\"url(#clip200)\" d=\"M126.691 1408.98 Q123.08 1408.98 121.251 1412.54 Q119.445 1416.08 119.445 1423.21 Q119.445 1430.32 121.251 1433.89 Q123.08 1437.43 126.691 1437.43 Q130.325 1437.43 132.13 1433.89 Q133.959 1430.32 133.959 1423.21 Q133.959 1416.08 132.13 1412.54 Q130.325 1408.98 126.691 1408.98 M126.691 1405.27 Q132.501 1405.27 135.556 1409.88 Q138.635 1414.46 138.635 1423.21 Q138.635 1431.94 135.556 1436.55 Q132.501 1441.13 126.691 1441.13 Q120.88 1441.13 117.802 1436.55 Q114.746 1431.94 114.746 1423.21 Q114.746 1414.46 117.802 1409.88 Q120.88 1405.27 126.691 1405.27 Z\" fill=\"#000000\" fill-rule=\"nonzero\" fill-opacity=\"1\" /><path clip-path=\"url(#clip200)\" d=\"M146.853 1434.58 L151.737 1434.58 L151.737 1440.46 L146.853 1440.46 L146.853 1434.58 Z\" fill=\"#000000\" fill-rule=\"nonzero\" fill-opacity=\"1\" /><path clip-path=\"url(#clip200)\" d=\"M171.922 1408.98 Q168.311 1408.98 166.482 1412.54 Q164.677 1416.08 164.677 1423.21 Q164.677 1430.32 166.482 1433.89 Q168.311 1437.43 171.922 1437.43 Q175.556 1437.43 177.362 1433.89 Q179.19 1430.32 179.19 1423.21 Q179.19 1416.08 177.362 1412.54 Q175.556 1408.98 171.922 1408.98 M171.922 1405.27 Q177.732 1405.27 180.788 1409.88 Q183.866 1414.46 183.866 1423.21 Q183.866 1431.94 180.788 1436.55 Q177.732 1441.13 171.922 1441.13 Q166.112 1441.13 163.033 1436.55 Q159.978 1431.94 159.978 1423.21 Q159.978 1414.46 163.033 1409.88 Q166.112 1405.27 171.922 1405.27 Z\" fill=\"#000000\" fill-rule=\"nonzero\" fill-opacity=\"1\" /><path clip-path=\"url(#clip200)\" d=\"M202.084 1408.98 Q198.473 1408.98 196.644 1412.54 Q194.838 1416.08 194.838 1423.21 Q194.838 1430.32 196.644 1433.89 Q198.473 1437.43 202.084 1437.43 Q205.718 1437.43 207.524 1433.89 Q209.352 1430.32 209.352 1423.21 Q209.352 1416.08 207.524 1412.54 Q205.718 1408.98 202.084 1408.98 M202.084 1405.27 Q207.894 1405.27 210.949 1409.88 Q214.028 1414.46 214.028 1423.21 Q214.028 1431.94 210.949 1436.55 Q207.894 1441.13 202.084 1441.13 Q196.274 1441.13 193.195 1436.55 Q190.139 1431.94 190.139 1423.21 Q190.139 1414.46 193.195 1409.88 Q196.274 1405.27 202.084 1405.27 Z\" fill=\"#000000\" fill-rule=\"nonzero\" fill-opacity=\"1\" /><path clip-path=\"url(#clip200)\" d=\"M232.246 1408.98 Q228.635 1408.98 226.806 1412.54 Q225 1416.08 225 1423.21 Q225 1430.32 226.806 1433.89 Q228.635 1437.43 232.246 1437.43 Q235.88 1437.43 237.685 1433.89 Q239.514 1430.32 239.514 1423.21 Q239.514 1416.08 237.685 1412.54 Q235.88 1408.98 232.246 1408.98 M232.246 1405.27 Q238.056 1405.27 241.111 1409.88 Q244.19 1414.46 244.19 1423.21 Q244.19 1431.94 241.111 1436.55 Q238.056 1441.13 232.246 1441.13 Q226.435 1441.13 223.357 1436.55 Q220.301 1431.94 220.301 1423.21 Q220.301 1414.46 223.357 1409.88 Q226.435 1405.27 232.246 1405.27 Z\" fill=\"#000000\" fill-rule=\"nonzero\" fill-opacity=\"1\" /><path clip-path=\"url(#clip200)\" d=\"M128.288 1179.66 Q124.677 1179.66 122.848 1183.22 Q121.043 1186.76 121.043 1193.89 Q121.043 1201 122.848 1204.56 Q124.677 1208.1 128.288 1208.1 Q131.922 1208.1 133.728 1204.56 Q135.556 1201 135.556 1193.89 Q135.556 1186.76 133.728 1183.22 Q131.922 1179.66 128.288 1179.66 M128.288 1175.95 Q134.098 1175.95 137.154 1180.56 Q140.232 1185.14 140.232 1193.89 Q140.232 1202.62 137.154 1207.23 Q134.098 1211.81 128.288 1211.81 Q122.478 1211.81 119.399 1207.23 Q116.343 1202.62 116.343 1193.89 Q116.343 1185.14 119.399 1180.56 Q122.478 1175.95 128.288 1175.95 Z\" fill=\"#000000\" fill-rule=\"nonzero\" fill-opacity=\"1\" /><path clip-path=\"url(#clip200)\" d=\"M148.45 1205.26 L153.334 1205.26 L153.334 1211.14 L148.45 1211.14 L148.45 1205.26 Z\" fill=\"#000000\" fill-rule=\"nonzero\" fill-opacity=\"1\" /><path clip-path=\"url(#clip200)\" d=\"M173.519 1179.66 Q169.908 1179.66 168.079 1183.22 Q166.274 1186.76 166.274 1193.89 Q166.274 1201 168.079 1204.56 Q169.908 1208.1 173.519 1208.1 Q177.153 1208.1 178.959 1204.56 Q180.788 1201 180.788 1193.89 Q180.788 1186.76 178.959 1183.22 Q177.153 1179.66 173.519 1179.66 M173.519 1175.95 Q179.329 1175.95 182.385 1180.56 Q185.463 1185.14 185.463 1193.89 Q185.463 1202.62 182.385 1207.23 Q179.329 1211.81 173.519 1211.81 Q167.709 1211.81 164.63 1207.23 Q161.575 1202.62 161.575 1193.89 Q161.575 1185.14 164.63 1180.56 Q167.709 1175.95 173.519 1175.95 Z\" fill=\"#000000\" fill-rule=\"nonzero\" fill-opacity=\"1\" /><path clip-path=\"url(#clip200)\" d=\"M203.681 1179.66 Q200.07 1179.66 198.241 1183.22 Q196.436 1186.76 196.436 1193.89 Q196.436 1201 198.241 1204.56 Q200.07 1208.1 203.681 1208.1 Q207.315 1208.1 209.121 1204.56 Q210.949 1201 210.949 1193.89 Q210.949 1186.76 209.121 1183.22 Q207.315 1179.66 203.681 1179.66 M203.681 1175.95 Q209.491 1175.95 212.547 1180.56 Q215.625 1185.14 215.625 1193.89 Q215.625 1202.62 212.547 1207.23 Q209.491 1211.81 203.681 1211.81 Q197.871 1211.81 194.792 1207.23 Q191.737 1202.62 191.737 1193.89 Q191.737 1185.14 194.792 1180.56 Q197.871 1175.95 203.681 1175.95 Z\" fill=\"#000000\" fill-rule=\"nonzero\" fill-opacity=\"1\" /><path clip-path=\"url(#clip200)\" d=\"M227.871 1207.2 L244.19 1207.2 L244.19 1211.14 L222.246 1211.14 L222.246 1207.2 Q224.908 1204.45 229.491 1199.82 Q234.097 1195.17 235.278 1193.82 Q237.523 1191.3 238.403 1189.56 Q239.306 1187.8 239.306 1186.11 Q239.306 1183.36 237.361 1181.62 Q235.44 1179.89 232.338 1179.89 Q230.139 1179.89 227.685 1180.65 Q225.255 1181.42 222.477 1182.97 L222.477 1178.24 Q225.301 1177.11 227.755 1176.53 Q230.209 1175.95 232.246 1175.95 Q237.616 1175.95 240.81 1178.64 Q244.005 1181.32 244.005 1185.81 Q244.005 1187.94 243.195 1189.86 Q242.408 1191.76 240.301 1194.35 Q239.722 1195.03 236.621 1198.24 Q233.519 1201.44 227.871 1207.2 Z\" fill=\"#000000\" fill-rule=\"nonzero\" fill-opacity=\"1\" /><path clip-path=\"url(#clip200)\" d=\"M126.205 950.333 Q122.593 950.333 120.765 953.898 Q118.959 957.44 118.959 964.569 Q118.959 971.676 120.765 975.241 Q122.593 978.782 126.205 978.782 Q129.839 978.782 131.644 975.241 Q133.473 971.676 133.473 964.569 Q133.473 957.44 131.644 953.898 Q129.839 950.333 126.205 950.333 M126.205 946.63 Q132.015 946.63 135.07 951.236 Q138.149 955.819 138.149 964.569 Q138.149 973.296 135.07 977.903 Q132.015 982.486 126.205 982.486 Q120.394 982.486 117.316 977.903 Q114.26 973.296 114.26 964.569 Q114.26 955.819 117.316 951.236 Q120.394 946.63 126.205 946.63 Z\" fill=\"#000000\" fill-rule=\"nonzero\" fill-opacity=\"1\" /><path clip-path=\"url(#clip200)\" d=\"M146.366 975.935 L151.251 975.935 L151.251 981.815 L146.366 981.815 L146.366 975.935 Z\" fill=\"#000000\" fill-rule=\"nonzero\" fill-opacity=\"1\" /><path clip-path=\"url(#clip200)\" d=\"M171.436 950.333 Q167.825 950.333 165.996 953.898 Q164.19 957.44 164.19 964.569 Q164.19 971.676 165.996 975.241 Q167.825 978.782 171.436 978.782 Q175.07 978.782 176.876 975.241 Q178.704 971.676 178.704 964.569 Q178.704 957.44 176.876 953.898 Q175.07 950.333 171.436 950.333 M171.436 946.63 Q177.246 946.63 180.301 951.236 Q183.38 955.819 183.38 964.569 Q183.38 973.296 180.301 977.903 Q177.246 982.486 171.436 982.486 Q165.626 982.486 162.547 977.903 Q159.491 973.296 159.491 964.569 Q159.491 955.819 162.547 951.236 Q165.626 946.63 171.436 946.63 Z\" fill=\"#000000\" fill-rule=\"nonzero\" fill-opacity=\"1\" /><path clip-path=\"url(#clip200)\" d=\"M201.598 950.333 Q197.987 950.333 196.158 953.898 Q194.352 957.44 194.352 964.569 Q194.352 971.676 196.158 975.241 Q197.987 978.782 201.598 978.782 Q205.232 978.782 207.037 975.241 Q208.866 971.676 208.866 964.569 Q208.866 957.44 207.037 953.898 Q205.232 950.333 201.598 950.333 M201.598 946.63 Q207.408 946.63 210.463 951.236 Q213.542 955.819 213.542 964.569 Q213.542 973.296 210.463 977.903 Q207.408 982.486 201.598 982.486 Q195.787 982.486 192.709 977.903 Q189.653 973.296 189.653 964.569 Q189.653 955.819 192.709 951.236 Q195.787 946.63 201.598 946.63 Z\" fill=\"#000000\" fill-rule=\"nonzero\" fill-opacity=\"1\" /><path clip-path=\"url(#clip200)\" d=\"M234.607 951.329 L222.801 969.778 L234.607 969.778 L234.607 951.329 M233.38 947.255 L239.259 947.255 L239.259 969.778 L244.19 969.778 L244.19 973.666 L239.259 973.666 L239.259 981.815 L234.607 981.815 L234.607 973.666 L219.005 973.666 L219.005 969.153 L233.38 947.255 Z\" fill=\"#000000\" fill-rule=\"nonzero\" fill-opacity=\"1\" /><path clip-path=\"url(#clip200)\" d=\"M126.529 721.011 Q122.918 721.011 121.089 724.575 Q119.283 728.117 119.283 735.247 Q119.283 742.353 121.089 745.918 Q122.918 749.46 126.529 749.46 Q130.163 749.46 131.968 745.918 Q133.797 742.353 133.797 735.247 Q133.797 728.117 131.968 724.575 Q130.163 721.011 126.529 721.011 M126.529 717.307 Q132.339 717.307 135.394 721.913 Q138.473 726.497 138.473 735.247 Q138.473 743.973 135.394 748.58 Q132.339 753.163 126.529 753.163 Q120.718 753.163 117.64 748.58 Q114.584 743.973 114.584 735.247 Q114.584 726.497 117.64 721.913 Q120.718 717.307 126.529 717.307 Z\" fill=\"#000000\" fill-rule=\"nonzero\" fill-opacity=\"1\" /><path clip-path=\"url(#clip200)\" d=\"M146.691 746.612 L151.575 746.612 L151.575 752.492 L146.691 752.492 L146.691 746.612 Z\" fill=\"#000000\" fill-rule=\"nonzero\" fill-opacity=\"1\" /><path clip-path=\"url(#clip200)\" d=\"M171.76 721.011 Q168.149 721.011 166.32 724.575 Q164.515 728.117 164.515 735.247 Q164.515 742.353 166.32 745.918 Q168.149 749.46 171.76 749.46 Q175.394 749.46 177.2 745.918 Q179.028 742.353 179.028 735.247 Q179.028 728.117 177.2 724.575 Q175.394 721.011 171.76 721.011 M171.76 717.307 Q177.57 717.307 180.626 721.913 Q183.704 726.497 183.704 735.247 Q183.704 743.973 180.626 748.58 Q177.57 753.163 171.76 753.163 Q165.95 753.163 162.871 748.58 Q159.815 743.973 159.815 735.247 Q159.815 726.497 162.871 721.913 Q165.95 717.307 171.76 717.307 Z\" fill=\"#000000\" fill-rule=\"nonzero\" fill-opacity=\"1\" /><path clip-path=\"url(#clip200)\" d=\"M201.922 721.011 Q198.311 721.011 196.482 724.575 Q194.676 728.117 194.676 735.247 Q194.676 742.353 196.482 745.918 Q198.311 749.46 201.922 749.46 Q205.556 749.46 207.362 745.918 Q209.19 742.353 209.19 735.247 Q209.19 728.117 207.362 724.575 Q205.556 721.011 201.922 721.011 M201.922 717.307 Q207.732 717.307 210.787 721.913 Q213.866 726.497 213.866 735.247 Q213.866 743.973 210.787 748.58 Q207.732 753.163 201.922 753.163 Q196.112 753.163 193.033 748.58 Q189.977 743.973 189.977 735.247 Q189.977 726.497 193.033 721.913 Q196.112 717.307 201.922 717.307 Z\" fill=\"#000000\" fill-rule=\"nonzero\" fill-opacity=\"1\" /><path clip-path=\"url(#clip200)\" d=\"M232.662 733.349 Q229.514 733.349 227.662 735.501 Q225.834 737.654 225.834 741.404 Q225.834 745.131 227.662 747.307 Q229.514 749.46 232.662 749.46 Q235.81 749.46 237.639 747.307 Q239.491 745.131 239.491 741.404 Q239.491 737.654 237.639 735.501 Q235.81 733.349 232.662 733.349 M241.945 718.696 L241.945 722.955 Q240.185 722.122 238.38 721.682 Q236.597 721.242 234.838 721.242 Q230.209 721.242 227.755 724.367 Q225.324 727.492 224.977 733.812 Q226.343 731.798 228.403 730.733 Q230.463 729.645 232.94 729.645 Q238.148 729.645 241.158 732.816 Q244.19 735.964 244.19 741.404 Q244.19 746.728 241.042 749.946 Q237.894 753.163 232.662 753.163 Q226.667 753.163 223.496 748.58 Q220.324 743.973 220.324 735.247 Q220.324 727.052 224.213 722.191 Q228.102 717.307 234.653 717.307 Q236.412 717.307 238.195 717.654 Q240 718.001 241.945 718.696 Z\" fill=\"#000000\" fill-rule=\"nonzero\" fill-opacity=\"1\" /><path clip-path=\"url(#clip200)\" d=\"M126.783 491.688 Q123.172 491.688 121.343 495.253 Q119.538 498.794 119.538 505.924 Q119.538 513.031 121.343 516.595 Q123.172 520.137 126.783 520.137 Q130.417 520.137 132.223 516.595 Q134.052 513.031 134.052 505.924 Q134.052 498.794 132.223 495.253 Q130.417 491.688 126.783 491.688 M126.783 487.984 Q132.593 487.984 135.649 492.591 Q138.728 497.174 138.728 505.924 Q138.728 514.651 135.649 519.257 Q132.593 523.841 126.783 523.841 Q120.973 523.841 117.894 519.257 Q114.839 514.651 114.839 505.924 Q114.839 497.174 117.894 492.591 Q120.973 487.984 126.783 487.984 Z\" fill=\"#000000\" fill-rule=\"nonzero\" fill-opacity=\"1\" /><path clip-path=\"url(#clip200)\" d=\"M146.945 517.29 L151.829 517.29 L151.829 523.169 L146.945 523.169 L146.945 517.29 Z\" fill=\"#000000\" fill-rule=\"nonzero\" fill-opacity=\"1\" /><path clip-path=\"url(#clip200)\" d=\"M172.014 491.688 Q168.403 491.688 166.575 495.253 Q164.769 498.794 164.769 505.924 Q164.769 513.031 166.575 516.595 Q168.403 520.137 172.014 520.137 Q175.649 520.137 177.454 516.595 Q179.283 513.031 179.283 505.924 Q179.283 498.794 177.454 495.253 Q175.649 491.688 172.014 491.688 M172.014 487.984 Q177.825 487.984 180.88 492.591 Q183.959 497.174 183.959 505.924 Q183.959 514.651 180.88 519.257 Q177.825 523.841 172.014 523.841 Q166.204 523.841 163.126 519.257 Q160.07 514.651 160.07 505.924 Q160.07 497.174 163.126 492.591 Q166.204 487.984 172.014 487.984 Z\" fill=\"#000000\" fill-rule=\"nonzero\" fill-opacity=\"1\" /><path clip-path=\"url(#clip200)\" d=\"M202.176 491.688 Q198.565 491.688 196.737 495.253 Q194.931 498.794 194.931 505.924 Q194.931 513.031 196.737 516.595 Q198.565 520.137 202.176 520.137 Q205.811 520.137 207.616 516.595 Q209.445 513.031 209.445 505.924 Q209.445 498.794 207.616 495.253 Q205.811 491.688 202.176 491.688 M202.176 487.984 Q207.987 487.984 211.042 492.591 Q214.121 497.174 214.121 505.924 Q214.121 514.651 211.042 519.257 Q207.987 523.841 202.176 523.841 Q196.366 523.841 193.288 519.257 Q190.232 514.651 190.232 505.924 Q190.232 497.174 193.288 492.591 Q196.366 487.984 202.176 487.984 Z\" fill=\"#000000\" fill-rule=\"nonzero\" fill-opacity=\"1\" /><path clip-path=\"url(#clip200)\" d=\"M232.338 506.757 Q229.005 506.757 227.084 508.54 Q225.185 510.322 225.185 513.447 Q225.185 516.572 227.084 518.355 Q229.005 520.137 232.338 520.137 Q235.672 520.137 237.593 518.355 Q239.514 516.549 239.514 513.447 Q239.514 510.322 237.593 508.54 Q235.695 506.757 232.338 506.757 M227.662 504.767 Q224.653 504.026 222.963 501.966 Q221.297 499.906 221.297 496.943 Q221.297 492.799 224.236 490.392 Q227.199 487.984 232.338 487.984 Q237.5 487.984 240.44 490.392 Q243.38 492.799 243.38 496.943 Q243.38 499.906 241.69 501.966 Q240.023 504.026 237.037 504.767 Q240.417 505.554 242.292 507.845 Q244.19 510.137 244.19 513.447 Q244.19 518.47 241.111 521.155 Q238.056 523.841 232.338 523.841 Q226.621 523.841 223.542 521.155 Q220.486 518.47 220.486 513.447 Q220.486 510.137 222.385 507.845 Q224.283 505.554 227.662 504.767 M225.949 497.382 Q225.949 500.068 227.616 501.572 Q229.306 503.077 232.338 503.077 Q235.347 503.077 237.037 501.572 Q238.75 500.068 238.75 497.382 Q238.75 494.697 237.037 493.193 Q235.347 491.688 232.338 491.688 Q229.306 491.688 227.616 493.193 Q225.949 494.697 225.949 497.382 Z\" fill=\"#000000\" fill-rule=\"nonzero\" fill-opacity=\"1\" /><path clip-path=\"url(#clip200)\" d=\"M126.691 262.365 Q123.08 262.365 121.251 265.93 Q119.445 269.472 119.445 276.601 Q119.445 283.708 121.251 287.273 Q123.08 290.814 126.691 290.814 Q130.325 290.814 132.13 287.273 Q133.959 283.708 133.959 276.601 Q133.959 269.472 132.13 265.93 Q130.325 262.365 126.691 262.365 M126.691 258.662 Q132.501 258.662 135.556 263.268 Q138.635 267.851 138.635 276.601 Q138.635 285.328 135.556 289.935 Q132.501 294.518 126.691 294.518 Q120.88 294.518 117.802 289.935 Q114.746 285.328 114.746 276.601 Q114.746 267.851 117.802 263.268 Q120.88 258.662 126.691 258.662 Z\" fill=\"#000000\" fill-rule=\"nonzero\" fill-opacity=\"1\" /><path clip-path=\"url(#clip200)\" d=\"M146.853 287.967 L151.737 287.967 L151.737 293.847 L146.853 293.847 L146.853 287.967 Z\" fill=\"#000000\" fill-rule=\"nonzero\" fill-opacity=\"1\" /><path clip-path=\"url(#clip200)\" d=\"M171.922 262.365 Q168.311 262.365 166.482 265.93 Q164.677 269.472 164.677 276.601 Q164.677 283.708 166.482 287.273 Q168.311 290.814 171.922 290.814 Q175.556 290.814 177.362 287.273 Q179.19 283.708 179.19 276.601 Q179.19 269.472 177.362 265.93 Q175.556 262.365 171.922 262.365 M171.922 258.662 Q177.732 258.662 180.788 263.268 Q183.866 267.851 183.866 276.601 Q183.866 285.328 180.788 289.935 Q177.732 294.518 171.922 294.518 Q166.112 294.518 163.033 289.935 Q159.978 285.328 159.978 276.601 Q159.978 267.851 163.033 263.268 Q166.112 258.662 171.922 258.662 Z\" fill=\"#000000\" fill-rule=\"nonzero\" fill-opacity=\"1\" /><path clip-path=\"url(#clip200)\" d=\"M192.894 289.912 L200.533 289.912 L200.533 263.546 L192.223 265.213 L192.223 260.953 L200.487 259.287 L205.162 259.287 L205.162 289.912 L212.801 289.912 L212.801 293.847 L192.894 293.847 L192.894 289.912 Z\" fill=\"#000000\" fill-rule=\"nonzero\" fill-opacity=\"1\" /><path clip-path=\"url(#clip200)\" d=\"M232.246 262.365 Q228.635 262.365 226.806 265.93 Q225 269.472 225 276.601 Q225 283.708 226.806 287.273 Q228.635 290.814 232.246 290.814 Q235.88 290.814 237.685 287.273 Q239.514 283.708 239.514 276.601 Q239.514 269.472 237.685 265.93 Q235.88 262.365 232.246 262.365 M232.246 258.662 Q238.056 258.662 241.111 263.268 Q244.19 267.851 244.19 276.601 Q244.19 285.328 241.111 289.935 Q238.056 294.518 232.246 294.518 Q226.435 294.518 223.357 289.935 Q220.301 285.328 220.301 276.601 Q220.301 267.851 223.357 263.268 Q226.435 258.662 232.246 258.662 Z\" fill=\"#000000\" fill-rule=\"nonzero\" fill-opacity=\"1\" /><path clip-path=\"url(#clip200)\" d=\"M128.288 33.0428 Q124.677 33.0428 122.848 36.6076 Q121.043 40.1492 121.043 47.2788 Q121.043 54.3853 122.848 57.9501 Q124.677 61.4917 128.288 61.4917 Q131.922 61.4917 133.728 57.9501 Q135.556 54.3853 135.556 47.2788 Q135.556 40.1492 133.728 36.6076 Q131.922 33.0428 128.288 33.0428 M128.288 29.3391 Q134.098 29.3391 137.154 33.9456 Q140.232 38.5289 140.232 47.2788 Q140.232 56.0056 137.154 60.6121 Q134.098 65.1954 128.288 65.1954 Q122.478 65.1954 119.399 60.6121 Q116.343 56.0056 116.343 47.2788 Q116.343 38.5289 119.399 33.9456 Q122.478 29.3391 128.288 29.3391 Z\" fill=\"#000000\" fill-rule=\"nonzero\" fill-opacity=\"1\" /><path clip-path=\"url(#clip200)\" d=\"M148.45 58.6445 L153.334 58.6445 L153.334 64.5241 L148.45 64.5241 L148.45 58.6445 Z\" fill=\"#000000\" fill-rule=\"nonzero\" fill-opacity=\"1\" /><path clip-path=\"url(#clip200)\" d=\"M173.519 33.0428 Q169.908 33.0428 168.079 36.6076 Q166.274 40.1492 166.274 47.2788 Q166.274 54.3853 168.079 57.9501 Q169.908 61.4917 173.519 61.4917 Q177.153 61.4917 178.959 57.9501 Q180.788 54.3853 180.788 47.2788 Q180.788 40.1492 178.959 36.6076 Q177.153 33.0428 173.519 33.0428 M173.519 29.3391 Q179.329 29.3391 182.385 33.9456 Q185.463 38.5289 185.463 47.2788 Q185.463 56.0056 182.385 60.6121 Q179.329 65.1954 173.519 65.1954 Q167.709 65.1954 164.63 60.6121 Q161.575 56.0056 161.575 47.2788 Q161.575 38.5289 164.63 33.9456 Q167.709 29.3391 173.519 29.3391 Z\" fill=\"#000000\" fill-rule=\"nonzero\" fill-opacity=\"1\" /><path clip-path=\"url(#clip200)\" d=\"M194.491 60.5889 L202.13 60.5889 L202.13 34.2233 L193.82 35.89 L193.82 31.6308 L202.084 29.9641 L206.76 29.9641 L206.76 60.5889 L214.399 60.5889 L214.399 64.5241 L194.491 64.5241 L194.491 60.5889 Z\" fill=\"#000000\" fill-rule=\"nonzero\" fill-opacity=\"1\" /><path clip-path=\"url(#clip200)\" d=\"M227.871 60.5889 L244.19 60.5889 L244.19 64.5241 L222.246 64.5241 L222.246 60.5889 Q224.908 57.8343 229.491 53.2047 Q234.097 48.552 235.278 47.2094 Q237.523 44.6862 238.403 42.9501 Q239.306 41.1909 239.306 39.5011 Q239.306 36.7465 237.361 35.0104 Q235.44 33.2743 232.338 33.2743 Q230.139 33.2743 227.685 34.0381 Q225.255 34.802 222.477 36.3529 L222.477 31.6308 Q225.301 30.4965 227.755 29.9178 Q230.209 29.3391 232.246 29.3391 Q237.616 29.3391 240.81 32.0243 Q244.005 34.7094 244.005 39.2002 Q244.005 41.3298 243.195 43.2511 Q242.408 45.1492 240.301 47.7418 Q239.722 48.4131 236.621 51.6306 Q233.519 54.8251 227.871 60.5889 Z\" fill=\"#000000\" fill-rule=\"nonzero\" fill-opacity=\"1\" /><path clip-path=\"url(#clip200)\" d=\"M16.4842 1221.95 L16.4842 1191.9 L21.895 1191.9 L21.895 1215.52 L35.9632 1215.52 L35.9632 1192.89 L41.3741 1192.89 L41.3741 1215.52 L58.5933 1215.52 L58.5933 1191.33 L64.0042 1191.33 L64.0042 1221.95 L16.4842 1221.95 Z\" fill=\"#000000\" fill-rule=\"nonzero\" fill-opacity=\"1\" /><path clip-path=\"url(#clip200)\" d=\"M49.9359 1181.62 L28.3562 1181.62 L28.3562 1175.77 L49.7131 1175.77 Q54.7739 1175.77 57.3202 1173.79 Q59.8346 1171.82 59.8346 1167.87 Q59.8346 1163.13 56.8109 1160.39 Q53.7872 1157.62 48.5673 1157.62 L28.3562 1157.62 L28.3562 1151.77 L64.0042 1151.77 L64.0042 1157.62 L58.5296 1157.62 Q61.7762 1159.76 63.3676 1162.59 Q64.9272 1165.39 64.9272 1169.11 Q64.9272 1175.26 61.1078 1178.44 Q57.2883 1181.62 49.9359 1181.62 M27.4968 1166.89 L27.4968 1166.89 Z\" fill=\"#000000\" fill-rule=\"nonzero\" fill-opacity=\"1\" /><path clip-path=\"url(#clip200)\" d=\"M14.479 1139.7 L14.479 1133.85 L64.0042 1133.85 L64.0042 1139.7 L14.479 1139.7 Z\" fill=\"#000000\" fill-rule=\"nonzero\" fill-opacity=\"1\" /><path clip-path=\"url(#clip200)\" d=\"M44.7161 1091.1 L47.5806 1091.1 L47.5806 1118.03 Q53.6281 1117.65 56.8109 1114.4 Q59.9619 1111.12 59.9619 1105.3 Q59.9619 1101.92 59.1344 1098.77 Q58.3069 1095.59 56.6518 1092.47 L62.1899 1092.47 Q63.5267 1095.62 64.227 1098.93 Q64.9272 1102.24 64.9272 1105.65 Q64.9272 1114.18 59.9619 1119.18 Q54.9967 1124.14 46.5303 1124.14 Q37.7774 1124.14 32.6531 1119.43 Q27.4968 1114.69 27.4968 1106.67 Q27.4968 1099.47 32.1438 1095.3 Q36.7589 1091.1 44.7161 1091.1 M42.9973 1096.96 Q38.1912 1097.02 35.3266 1099.66 Q32.4621 1102.27 32.4621 1106.6 Q32.4621 1111.5 35.2312 1114.46 Q38.0002 1117.39 43.0292 1117.84 L42.9973 1096.96 Z\" fill=\"#000000\" fill-rule=\"nonzero\" fill-opacity=\"1\" /><path clip-path=\"url(#clip200)\" d=\"M33.8307 1060.83 Q33.2578 1061.82 33.0032 1063 Q32.7167 1064.14 32.7167 1065.54 Q32.7167 1070.51 35.9632 1073.18 Q39.1779 1075.83 45.2253 1075.83 L64.0042 1075.83 L64.0042 1081.71 L28.3562 1081.71 L28.3562 1075.83 L33.8944 1075.83 Q30.6479 1073.98 29.0883 1071.02 Q27.4968 1068.06 27.4968 1063.83 Q27.4968 1063.22 27.5923 1062.49 Q27.656 1061.76 27.8151 1060.87 L33.8307 1060.83 Z\" fill=\"#000000\" fill-rule=\"nonzero\" fill-opacity=\"1\" /><path clip-path=\"url(#clip200)\" d=\"M44.7161 1003.48 L47.5806 1003.48 L47.5806 1030.41 Q53.6281 1030.02 56.8109 1026.78 Q59.9619 1023.5 59.9619 1017.67 Q59.9619 1014.3 59.1344 1011.15 Q58.3069 1007.97 56.6518 1004.85 L62.1899 1004.85 Q63.5267 1008 64.227 1011.31 Q64.9272 1014.62 64.9272 1018.02 Q64.9272 1026.55 59.9619 1031.55 Q54.9967 1036.52 46.5303 1036.52 Q37.7774 1036.52 32.6531 1031.81 Q27.4968 1027.06 27.4968 1019.04 Q27.4968 1011.85 32.1438 1007.68 Q36.7589 1003.48 44.7161 1003.48 M42.9973 1009.34 Q38.1912 1009.4 35.3266 1012.04 Q32.4621 1014.65 32.4621 1018.98 Q32.4621 1023.88 35.2312 1026.84 Q38.0002 1029.77 43.0292 1030.21 L42.9973 1009.34 Z\" fill=\"#000000\" fill-rule=\"nonzero\" fill-opacity=\"1\" /><path clip-path=\"url(#clip200)\" d=\"M46.212 990.365 Q52.6732 990.365 56.3653 987.724 Q60.0256 985.05 60.0256 980.403 Q60.0256 975.756 56.3653 973.083 Q52.6732 970.409 46.212 970.409 Q39.7508 970.409 36.0905 973.083 Q32.3984 975.756 32.3984 980.403 Q32.3984 985.05 36.0905 987.724 Q39.7508 990.365 46.212 990.365 M58.657 970.409 Q61.8398 972.255 63.3994 975.088 Q64.9272 977.889 64.9272 981.835 Q64.9272 988.297 59.771 992.371 Q54.6147 996.413 46.212 996.413 Q37.8093 996.413 32.6531 992.371 Q27.4968 988.297 27.4968 981.835 Q27.4968 977.889 29.0564 975.088 Q30.5842 972.255 33.7671 970.409 L28.3562 970.409 L28.3562 964.552 L77.5631 964.552 L77.5631 970.409 L58.657 970.409 Z\" fill=\"#000000\" fill-rule=\"nonzero\" fill-opacity=\"1\" /><path clip-path=\"url(#clip200)\" d=\"M49.9359 953.094 L28.3562 953.094 L28.3562 947.238 L49.7131 947.238 Q54.7739 947.238 57.3202 945.264 Q59.8346 943.291 59.8346 939.344 Q59.8346 934.602 56.8109 931.865 Q53.7872 929.095 48.5673 929.095 L28.3562 929.095 L28.3562 923.239 L64.0042 923.239 L64.0042 929.095 L58.5296 929.095 Q61.7762 931.228 63.3676 934.061 Q64.9272 936.862 64.9272 940.586 Q64.9272 946.728 61.1078 949.911 Q57.2883 953.094 49.9359 953.094 M27.4968 938.358 L27.4968 938.358 Z\" fill=\"#000000\" fill-rule=\"nonzero\" fill-opacity=\"1\" /><path clip-path=\"url(#clip200)\" d=\"M46.0847 894.975 Q46.0847 902.073 47.7079 904.81 Q49.3312 907.548 53.2461 907.548 Q56.3653 907.548 58.2114 905.511 Q60.0256 903.442 60.0256 899.909 Q60.0256 895.039 56.5881 892.111 Q53.1188 889.151 47.3897 889.151 L46.0847 889.151 L46.0847 894.975 M43.6657 883.294 L64.0042 883.294 L64.0042 889.151 L58.5933 889.151 Q61.8398 891.156 63.3994 894.148 Q64.9272 897.14 64.9272 901.468 Q64.9272 906.943 61.8716 910.189 Q58.7843 913.404 53.6281 913.404 Q47.6125 913.404 44.5569 909.394 Q41.5014 905.351 41.5014 897.362 L41.5014 889.151 L40.9285 889.151 Q36.8862 889.151 34.6901 891.824 Q32.4621 894.466 32.4621 899.272 Q32.4621 902.328 33.1941 905.224 Q33.9262 908.12 35.3903 910.794 L29.9795 910.794 Q28.7381 907.579 28.1334 904.556 Q27.4968 901.532 27.4968 898.667 Q27.4968 890.933 31.5072 887.114 Q35.5176 883.294 43.6657 883.294 Z\" fill=\"#000000\" fill-rule=\"nonzero\" fill-opacity=\"1\" /><path clip-path=\"url(#clip200)\" d=\"M18.2347 865.438 L28.3562 865.438 L28.3562 853.375 L32.9077 853.375 L32.9077 865.438 L52.2594 865.438 Q56.6199 865.438 57.8613 864.261 Q59.1026 863.051 59.1026 859.391 L59.1026 853.375 L64.0042 853.375 L64.0042 859.391 Q64.0042 866.17 61.4897 868.749 Q58.9434 871.327 52.2594 871.327 L32.9077 871.327 L32.9077 875.624 L28.3562 875.624 L28.3562 871.327 L18.2347 871.327 L18.2347 865.438 Z\" fill=\"#000000\" fill-rule=\"nonzero\" fill-opacity=\"1\" /><path clip-path=\"url(#clip200)\" d=\"M28.3562 845.673 L28.3562 839.816 L64.0042 839.816 L64.0042 845.673 L28.3562 845.673 M14.479 845.673 L14.479 839.816 L21.895 839.816 L21.895 845.673 L14.479 845.673 Z\" fill=\"#000000\" fill-rule=\"nonzero\" fill-opacity=\"1\" /><path clip-path=\"url(#clip200)\" d=\"M32.4621 813.749 Q32.4621 818.459 36.1542 821.197 Q39.8145 823.934 46.212 823.934 Q52.6095 823.934 56.3017 821.229 Q59.9619 818.491 59.9619 813.749 Q59.9619 809.07 56.2698 806.333 Q52.5777 803.596 46.212 803.596 Q39.8781 803.596 36.186 806.333 Q32.4621 809.07 32.4621 813.749 M27.4968 813.749 Q27.4968 806.11 32.4621 801.75 Q37.4273 797.389 46.212 797.389 Q54.9649 797.389 59.9619 801.75 Q64.9272 806.11 64.9272 813.749 Q64.9272 821.42 59.9619 825.78 Q54.9649 830.109 46.212 830.109 Q37.4273 830.109 32.4621 825.78 Q27.4968 821.42 27.4968 813.749 Z\" fill=\"#000000\" fill-rule=\"nonzero\" fill-opacity=\"1\" /><path clip-path=\"url(#clip200)\" d=\"M42.4881 758.049 L64.0042 758.049 L64.0042 763.905 L42.679 763.905 Q37.6183 763.905 35.1038 765.879 Q32.5894 767.852 32.5894 771.799 Q32.5894 776.541 35.6131 779.279 Q38.6368 782.016 43.8567 782.016 L64.0042 782.016 L64.0042 787.904 L28.3562 787.904 L28.3562 782.016 L33.8944 782.016 Q30.6797 779.915 29.0883 777.082 Q27.4968 774.218 27.4968 770.494 Q27.4968 764.351 31.3163 761.2 Q35.1038 758.049 42.4881 758.049 Z\" fill=\"#000000\" fill-rule=\"nonzero\" fill-opacity=\"1\" /><path clip-path=\"url(#clip200)\" d=\"M44.7161 695.156 L47.5806 695.156 L47.5806 722.083 Q53.6281 721.701 56.8109 718.454 Q59.9619 715.176 59.9619 709.351 Q59.9619 705.977 59.1344 702.826 Q58.3069 699.644 56.6518 696.524 L62.1899 696.524 Q63.5267 699.675 64.227 702.986 Q64.9272 706.296 64.9272 709.701 Q64.9272 718.231 59.9619 723.229 Q54.9967 728.194 46.5303 728.194 Q37.7774 728.194 32.6531 723.483 Q27.4968 718.741 27.4968 710.72 Q27.4968 703.527 32.1438 699.357 Q36.7589 695.156 44.7161 695.156 M42.9973 701.012 Q38.1912 701.076 35.3266 703.718 Q32.4621 706.328 32.4621 710.656 Q32.4621 715.558 35.2312 718.518 Q38.0002 721.446 43.0292 721.892 L42.9973 701.012 Z\" fill=\"#000000\" fill-rule=\"nonzero\" fill-opacity=\"1\" /><path clip-path=\"url(#clip200)\" d=\"M33.8307 664.887 Q33.2578 665.874 33.0032 667.051 Q32.7167 668.197 32.7167 669.597 Q32.7167 674.563 35.9632 677.236 Q39.1779 679.878 45.2253 679.878 L64.0042 679.878 L64.0042 685.766 L28.3562 685.766 L28.3562 679.878 L33.8944 679.878 Q30.6479 678.032 29.0883 675.072 Q27.4968 672.112 27.4968 667.879 Q27.4968 667.274 27.5923 666.542 Q27.656 665.81 27.8151 664.919 L33.8307 664.887 Z\" fill=\"#000000\" fill-rule=\"nonzero\" fill-opacity=\"1\" /><path clip-path=\"url(#clip200)\" d=\"M33.8307 639.233 Q33.2578 640.22 33.0032 641.397 Q32.7167 642.543 32.7167 643.944 Q32.7167 648.909 35.9632 651.582 Q39.1779 654.224 45.2253 654.224 L64.0042 654.224 L64.0042 660.113 L28.3562 660.113 L28.3562 654.224 L33.8944 654.224 Q30.6479 652.378 29.0883 649.418 Q27.4968 646.458 27.4968 642.225 Q27.4968 641.62 27.5923 640.888 Q27.656 640.156 27.8151 639.265 L33.8307 639.233 Z\" fill=\"#000000\" fill-rule=\"nonzero\" fill-opacity=\"1\" /><path clip-path=\"url(#clip200)\" d=\"M32.4621 620.709 Q32.4621 625.419 36.1542 628.157 Q39.8145 630.894 46.212 630.894 Q52.6095 630.894 56.3017 628.189 Q59.9619 625.451 59.9619 620.709 Q59.9619 616.03 56.2698 613.293 Q52.5777 610.556 46.212 610.556 Q39.8781 610.556 36.186 613.293 Q32.4621 616.03 32.4621 620.709 M27.4968 620.709 Q27.4968 613.07 32.4621 608.709 Q37.4273 604.349 46.212 604.349 Q54.9649 604.349 59.9619 608.709 Q64.9272 613.07 64.9272 620.709 Q64.9272 628.379 59.9619 632.74 Q54.9649 637.069 46.212 637.069 Q37.4273 637.069 32.4621 632.74 Q27.4968 628.379 27.4968 620.709 Z\" fill=\"#000000\" fill-rule=\"nonzero\" fill-opacity=\"1\" /><path clip-path=\"url(#clip200)\" d=\"M33.8307 573.985 Q33.2578 574.971 33.0032 576.149 Q32.7167 577.295 32.7167 578.695 Q32.7167 583.66 35.9632 586.334 Q39.1779 588.976 45.2253 588.976 L64.0042 588.976 L64.0042 594.864 L28.3562 594.864 L28.3562 588.976 L33.8944 588.976 Q30.6479 587.13 29.0883 584.17 Q27.4968 581.21 27.4968 576.976 Q27.4968 576.372 27.5923 575.64 Q27.656 574.908 27.8151 574.016 L33.8307 573.985 Z\" fill=\"#000000\" fill-rule=\"nonzero\" fill-opacity=\"1\" /><path clip-path=\"url(#clip200)\" d=\"M14.5426 553.773 Q21.8632 558.038 29.0246 560.107 Q36.186 562.176 43.5384 562.176 Q50.8908 562.176 58.1159 560.107 Q65.3091 558.007 72.5979 553.773 L72.5979 558.866 Q65.1182 563.64 57.8931 566.027 Q50.668 568.383 43.5384 568.383 Q36.4406 568.383 29.2474 566.027 Q22.0542 563.672 14.5426 558.866 L14.5426 553.773 Z\" fill=\"#000000\" fill-rule=\"nonzero\" fill-opacity=\"1\" /><path clip-path=\"url(#clip200)\" d=\"M46.0847 526.21 Q46.0847 533.308 47.7079 536.045 Q49.3312 538.782 53.2461 538.782 Q56.3653 538.782 58.2114 536.745 Q60.0256 534.676 60.0256 531.143 Q60.0256 526.274 56.5881 523.345 Q53.1188 520.385 47.3897 520.385 L46.0847 520.385 L46.0847 526.21 M43.6657 514.529 L64.0042 514.529 L64.0042 520.385 L58.5933 520.385 Q61.8398 522.39 63.3994 525.382 Q64.9272 528.374 64.9272 532.703 Q64.9272 538.177 61.8716 541.424 Q58.7843 544.639 53.6281 544.639 Q47.6125 544.639 44.5569 540.628 Q41.5014 536.586 41.5014 528.597 L41.5014 520.385 L40.9285 520.385 Q36.8862 520.385 34.6901 523.059 Q32.4621 525.701 32.4621 530.507 Q32.4621 533.562 33.1941 536.459 Q33.9262 539.355 35.3903 542.029 L29.9795 542.029 Q28.7381 538.814 28.1334 535.79 Q27.4968 532.767 27.4968 529.902 Q27.4968 522.168 31.5072 518.348 Q35.5176 514.529 43.6657 514.529 Z\" fill=\"#000000\" fill-rule=\"nonzero\" fill-opacity=\"1\" /><path clip-path=\"url(#clip200)\" d=\"M46.212 476.876 Q39.7508 476.876 36.0905 479.549 Q32.3984 482.191 32.3984 486.838 Q32.3984 491.485 36.0905 494.159 Q39.7508 496.8 46.212 496.8 Q52.6732 496.8 56.3653 494.159 Q60.0256 491.485 60.0256 486.838 Q60.0256 482.191 56.3653 479.549 Q52.6732 476.876 46.212 476.876 M33.7671 496.8 Q30.5842 494.954 29.0564 492.153 Q27.4968 489.321 27.4968 485.406 Q27.4968 478.913 32.6531 474.87 Q37.8093 470.796 46.212 470.796 Q54.6147 470.796 59.771 474.87 Q64.9272 478.913 64.9272 485.406 Q64.9272 489.321 63.3994 492.153 Q61.8398 494.954 58.657 496.8 L64.0042 496.8 L64.0042 502.689 L14.479 502.689 L14.479 496.8 L33.7671 496.8 Z\" fill=\"#000000\" fill-rule=\"nonzero\" fill-opacity=\"1\" /><path clip-path=\"url(#clip200)\" d=\"M29.4065 438.363 L34.9447 438.363 Q33.6716 440.846 33.035 443.519 Q32.3984 446.193 32.3984 449.058 Q32.3984 453.418 33.7352 455.614 Q35.072 457.779 37.7456 457.779 Q39.7826 457.779 40.9603 456.219 Q42.1061 454.659 43.1565 449.949 L43.6021 447.944 Q44.9389 441.705 47.3897 439.095 Q49.8086 436.453 54.1691 436.453 Q59.1344 436.453 62.0308 440.4 Q64.9272 444.315 64.9272 451.19 Q64.9272 454.055 64.3543 457.174 Q63.8132 460.261 62.6992 463.699 L56.6518 463.699 Q58.3387 460.452 59.198 457.301 Q60.0256 454.15 60.0256 451.063 Q60.0256 446.925 58.6251 444.697 Q57.1929 442.469 54.6147 442.469 Q52.2276 442.469 50.9545 444.092 Q49.6813 445.684 48.5037 451.126 L48.0262 453.163 Q46.8804 458.606 44.5251 461.025 Q42.138 463.444 38.0002 463.444 Q32.9713 463.444 30.2341 459.879 Q27.4968 456.314 27.4968 449.758 Q27.4968 446.511 27.9743 443.647 Q28.4517 440.782 29.4065 438.363 Z\" fill=\"#000000\" fill-rule=\"nonzero\" fill-opacity=\"1\" /><path clip-path=\"url(#clip200)\" d=\"M32.4621 413.314 Q32.4621 418.025 36.1542 420.762 Q39.8145 423.499 46.212 423.499 Q52.6095 423.499 56.3017 420.794 Q59.9619 418.057 59.9619 413.314 Q59.9619 408.635 56.2698 405.898 Q52.5777 403.161 46.212 403.161 Q39.8781 403.161 36.186 405.898 Q32.4621 408.635 32.4621 413.314 M27.4968 413.314 Q27.4968 405.675 32.4621 401.315 Q37.4273 396.954 46.212 396.954 Q54.9649 396.954 59.9619 401.315 Q64.9272 405.675 64.9272 413.314 Q64.9272 420.985 59.9619 425.345 Q54.9649 429.674 46.212 429.674 Q37.4273 429.674 32.4621 425.345 Q27.4968 420.985 27.4968 413.314 Z\" fill=\"#000000\" fill-rule=\"nonzero\" fill-opacity=\"1\" /><path clip-path=\"url(#clip200)\" d=\"M14.479 387.247 L14.479 381.39 L64.0042 381.39 L64.0042 387.247 L14.479 387.247 Z\" fill=\"#000000\" fill-rule=\"nonzero\" fill-opacity=\"1\" /><path clip-path=\"url(#clip200)\" d=\"M49.9359 369.741 L28.3562 369.741 L28.3562 363.884 L49.7131 363.884 Q54.7739 363.884 57.3202 361.911 Q59.8346 359.938 59.8346 355.991 Q59.8346 351.248 56.8109 348.511 Q53.7872 345.742 48.5673 345.742 L28.3562 345.742 L28.3562 339.886 L64.0042 339.886 L64.0042 345.742 L58.5296 345.742 Q61.7762 347.875 63.3676 350.707 Q64.9272 353.508 64.9272 357.232 Q64.9272 363.375 61.1078 366.558 Q57.2883 369.741 49.9359 369.741 M27.4968 355.004 L27.4968 355.004 Z\" fill=\"#000000\" fill-rule=\"nonzero\" fill-opacity=\"1\" /><path clip-path=\"url(#clip200)\" d=\"M18.2347 322.03 L28.3562 322.03 L28.3562 309.967 L32.9077 309.967 L32.9077 322.03 L52.2594 322.03 Q56.6199 322.03 57.8613 320.852 Q59.1026 319.643 59.1026 315.982 L59.1026 309.967 L64.0042 309.967 L64.0042 315.982 Q64.0042 322.762 61.4897 325.34 Q58.9434 327.918 52.2594 327.918 L32.9077 327.918 L32.9077 332.215 L28.3562 332.215 L28.3562 327.918 L18.2347 327.918 L18.2347 322.03 Z\" fill=\"#000000\" fill-rule=\"nonzero\" fill-opacity=\"1\" /><path clip-path=\"url(#clip200)\" d=\"M44.7161 271.773 L47.5806 271.773 L47.5806 298.7 Q53.6281 298.318 56.8109 295.071 Q59.9619 291.793 59.9619 285.968 Q59.9619 282.594 59.1344 279.443 Q58.3069 276.26 56.6518 273.141 L62.1899 273.141 Q63.5267 276.292 64.227 279.602 Q64.9272 282.913 64.9272 286.318 Q64.9272 294.848 59.9619 299.845 Q54.9967 304.811 46.5303 304.811 Q37.7774 304.811 32.6531 300.1 Q27.4968 295.358 27.4968 287.337 Q27.4968 280.144 32.1438 275.974 Q36.7589 271.773 44.7161 271.773 M42.9973 277.629 Q38.1912 277.693 35.3266 280.334 Q32.4621 282.944 32.4621 287.273 Q32.4621 292.175 35.2312 295.135 Q38.0002 298.063 43.0292 298.509 L42.9973 277.629 Z\" fill=\"#000000\" fill-rule=\"nonzero\" fill-opacity=\"1\" /><path clip-path=\"url(#clip200)\" d=\"M14.5426 263.083 L14.5426 257.991 Q22.0542 253.217 29.2474 250.861 Q36.4406 248.474 43.5384 248.474 Q50.668 248.474 57.8931 250.861 Q65.1182 253.217 72.5979 257.991 L72.5979 263.083 Q65.3091 258.85 58.1159 256.781 Q50.8908 254.681 43.5384 254.681 Q36.186 254.681 29.0246 256.781 Q21.8632 258.85 14.5426 263.083 Z\" fill=\"#000000\" fill-rule=\"nonzero\" fill-opacity=\"1\" /><polyline clip-path=\"url(#clip202)\" style=\"stroke:#0000ff; stroke-linecap:round; stroke-linejoin:round; stroke-width:12; stroke-opacity:1; fill:none\" points=\"280.19,1423.18 290.553,884.637 300.916,558.54 311.279,352.491 321.641,253.949 332.004,252.31 342.367,338.556 352.73,504.968 363.093,744.906 373.455,1052.64 383.818,1423.18 394.181,1145.04 404.544,933.893 414.907,784.472 425.27,734.503 435.632,741.135 445.995,794.834 456.358,892.512 466.721,1031.41 477.084,1209.04 487.447,1423.18 497.809,1273.54 508.172,1162.1 518.535,1086.56 528.898,1044.84 539.261,1035.03 549.624,1055.39 559.986,1104.35 570.349,1180.44 580.712,1282.35 591.075,1423.18 601.438,1325.13 611.801,1251.71 622.163,1201.71 632.526,1174.01 642.889,1167.58 653.252,1181.46 663.615,1214.76 673.978,1266.65 684.34,1336.36 694.703,1423.18 705.066,1350.77 715.429,1295.93 725.792,1257.95 736.155,1236.12 746.517,1229.84 756.88,1238.49 767.243,1261.51 777.606,1298.39 787.969,1348.63 798.331,1423.18 808.694,1370.23 819.057,1330.16 829.42,1302.51 839.783,1286.85 850.146,1282.77 860.508,1289.88 870.871,1307.82 881.234,1336.23 891.597,1374.79 901.96,1423.18 912.323,1381.51 922.685,1349.87 933.048,1327.95 943.411,1315.45 953.774,1312.08 964.137,1317.57 974.5,1331.66 984.862,1354.12 995.225,1384.7 1005.59,1423.18 1015.95,1380.45 1026.31,1345.83 1036.68,1319.1 1047.04,1313 1057.4,1314.44 1067.77,1322.88 1078.13,1338.15 1088.49,1360.06 1098.85,1388.46 1109.22,1423.18 1119.58,1395.99 1129.94,1375.25 1140.3,1360.8 1150.67,1352.47 1161.03,1350.12 1171.39,1353.61 1181.76,1362.79 1192.12,1377.53 1202.48,1397.7 1212.84,1423.18 1223.21,1400.34 1233.57,1382.89 1243.93,1370.7 1254.3,1363.65 1264.66,1361.63 1275.02,1364.52 1285.38,1372.23 1295.75,1384.64 1306.11,1401.65 1316.47,1423.18 1326.84,1396.01 1337.2,1381.51 1347.56,1372.3 1357.92,1367.38 1368.29,1366.66 1378.65,1370.05 1389.01,1377.48 1399.38,1388.86 1409.74,1404.12 1420.1,1423.18 1430.46,1406.7 1440.83,1394.08 1451.19,1385.23 1461.55,1380.08 1471.92,1378.57 1482.28,1380.63 1492.64,1386.18 1503,1395.16 1513.37,1407.51 1523.73,1423.18 1534.09,1408.81 1544.46,1397.79 1554.82,1390.06 1565.18,1385.55 1575.54,1384.21 1585.91,1385.99 1596.27,1390.83 1606.63,1398.67 1617,1409.47 1627.36,1423.18 1637.72,1406.7 1648.08,1393.17 1658.45,1382.55 1668.81,1377.94 1679.17,1378.89 1689.53,1382.54 1699.9,1388.84 1710.26,1397.73 1720.62,1409.19 1730.99,1423.18 1741.35,1412.15 1751.71,1403.67 1762.07,1397.71 1772.44,1394.22 1782.8,1393.17 1793.16,1394.52 1803.53,1398.23 1813.89,1404.27 1824.25,1412.59 1834.61,1423.18 1844.98,1413.32 1855.34,1405.74 1865.7,1400.41 1876.07,1397.29 1886.43,1396.34 1896.79,1397.54 1907.15,1400.85 1917.52,1406.25 1927.88,1413.7 1938.24,1423.18 1948.61,1414.32 1958.97,1407.5 1969.33,1402.7 1979.69,1399.88 1990.06,1399.02 2000.42,1400.1 2010.78,1403.07 2021.15,1407.93 2031.51,1414.64 2041.87,1423.18 2052.23,1412.31 2062.6,1406.59 2072.96,1402.66 2083.32,1400.49 2093.69,1400.05 2104.05,1401.33 2114.41,1404.31 2124.77,1408.96 2135.14,1415.25 2145.5,1423.18 2155.86,1416.03 2166.22,1410.52 2176.59,1406.64 2186.95,1404.36 2197.31,1403.65 2207.68,1404.51 2218.04,1406.91 2228.4,1410.84 2238.76,1416.26 2249.13,1423.18 2259.49,1416.65 2269.85,1411.63 2280.22,1408.08 2290.58,1405.99 2300.94,1405.35 2311.3,1406.13 2321.67,1408.32 2332.03,1411.9 2342.39,1416.86 2352.76,1423.18 \"/>\n",
       "<path clip-path=\"url(#clip200)\" d=\"M2037.99 196.789 L2283.67 196.789 L2283.67 93.1086 L2037.99 93.1086  Z\" fill=\"#ffffff\" fill-rule=\"evenodd\" fill-opacity=\"1\"/>\n",
       "<polyline clip-path=\"url(#clip200)\" style=\"stroke:#000000; stroke-linecap:round; stroke-linejoin:round; stroke-width:4; stroke-opacity:1; fill:none\" points=\"2037.99,196.789 2283.67,196.789 2283.67,93.1086 2037.99,93.1086 2037.99,196.789 \"/>\n",
       "<polyline clip-path=\"url(#clip200)\" style=\"stroke:#0000ff; stroke-linecap:round; stroke-linejoin:round; stroke-width:12; stroke-opacity:1; fill:none\" points=\"2061.02,144.949 2199.19,144.949 \"/>\n",
       "<path clip-path=\"url(#clip200)\" d=\"M2222.22 127.669 L2251.45 127.669 L2251.45 131.604 L2239.18 131.604 L2239.18 162.229 L2234.48 162.229 L2234.48 131.604 L2222.22 131.604 L2222.22 127.669 Z\" fill=\"#000000\" fill-rule=\"nonzero\" fill-opacity=\"1\" /><path clip-path=\"url(#clip200)\" d=\"M2255.97 127.669 L2260.64 127.669 L2260.64 162.229 L2255.97 162.229 L2255.97 127.669 Z\" fill=\"#000000\" fill-rule=\"nonzero\" fill-opacity=\"1\" /></svg>\n"
      ]
     },
     "execution_count": 12,
     "metadata": {},
     "output_type": "execute_result"
    }
   ],
   "source": [
    "# err2 = readdlm(\"err_ndp.csv\");\n",
    "\n",
    "plot(kgrid_err,abs.(err),c=:blue,lw=3,label=\"TI\")\n",
    "# plot!(kgrid_err,abs.(err2),ls=:dash,c=:red,lw=3,label=\"VFI\")\n",
    "xlabel!(\"Asset this period: k\")\n",
    "ylabel!(\"Euler equation error(absolute)\")\n",
    "xlims!(m.kmin,m.kmax)\n",
    "ylims!(0,0.012)\n",
    "xticks!([0.05,0.1,0.2,0.3,0.4,0.5])\n",
    "yticks!([0,0.002,0.004,0.006,0.008,0.01,0.012])"
   ]
  }
 ],
 "metadata": {
  "celltoolbar": "Slideshow",
  "kernelspec": {
   "display_name": "Julia 1.8.3",
   "language": "julia",
   "name": "julia-1.8"
  },
  "language_info": {
   "file_extension": ".jl",
   "mimetype": "application/julia",
   "name": "julia",
   "version": "1.8.3"
  },
  "vscode": {
   "interpreter": {
    "hash": "a407c4a5571f00fca8e41cb393148e04cd848f865da47001b38d4cd9a4314d58"
   }
  }
 },
 "nbformat": 4,
 "nbformat_minor": 4
}

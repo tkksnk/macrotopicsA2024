{
 "cells": [
  {
   "cell_type": "markdown",
   "metadata": {
    "slideshow": {
     "slide_type": "slide"
    }
   },
   "source": [
    "# Using Julia for Economic Analysis\n",
    "\n",
    "June 2021, revised September 2024, Takeki Sunakawa"
   ]
  },
  {
   "cell_type": "markdown",
   "metadata": {
    "slideshow": {
     "slide_type": "slide"
    }
   },
   "source": [
    "# Computer programming in Economics\n",
    "\n",
    "- Necessary?"
   ]
  },
  {
   "cell_type": "markdown",
   "metadata": {
    "slideshow": {
     "slide_type": "fragment"
    }
   },
   "source": [
    "- Yes, especially for Macro (also for Econometrics, IO, etc.)"
   ]
  },
  {
   "cell_type": "markdown",
   "metadata": {
    "slideshow": {
     "slide_type": "fragment"
    }
   },
   "source": [
    "- People have used Matlab, R, and Fortran."
   ]
  },
  {
   "cell_type": "markdown",
   "metadata": {
    "slideshow": {
     "slide_type": "fragment"
    }
   },
   "source": [
    "- Recently other alternatives, such as Python and Julia, are available."
   ]
  },
  {
   "cell_type": "markdown",
   "metadata": {
    "slideshow": {
     "slide_type": "subslide"
    }
   },
   "source": [
    "# Necessity for Julia\n",
    "\n",
    "<!-- - ... partly due to COVID-19. -->\n",
    "<!--- Hitotsubashi University has an enterprise license for Matlab, but it cannot be used remotely.-->"
   ]
  },
  {
   "cell_type": "markdown",
   "metadata": {
    "slideshow": {
     "slide_type": "fragment"
    }
   },
   "source": [
    "- __Julia__ is free, and remotely accessible."
   ]
  },
  {
   "cell_type": "markdown",
   "metadata": {
    "slideshow": {
     "slide_type": "fragment"
    }
   },
   "source": [
    "- My talk below is based on lecture notes by John Stachurski, one of the founders of QuantEcon [https://quantecon.org/](https://quantecon.org/)."
   ]
  },
  {
   "cell_type": "markdown",
   "metadata": {
    "slideshow": {
     "slide_type": "subslide"
    }
   },
   "source": [
    "# Scientific programming environments\n",
    "\n",
    "- Low-level languages: More programming, less running time\n",
    "  - C, C++\n",
    "  - Fortran"
   ]
  },
  {
   "cell_type": "markdown",
   "metadata": {
    "slideshow": {
     "slide_type": "fragment"
    }
   },
   "source": [
    "- High-level languages: Less programming, more running time\n",
    "  - MATLAB\n",
    "  - R\n",
    "  - Python\n",
    "  - Julia\n",
    "  - etc."
   ]
  },
  {
   "cell_type": "markdown",
   "metadata": {
    "slideshow": {
     "slide_type": "fragment"
    }
   },
   "source": [
    "- In Macro, MATLAB is popular. If you need speed, Fortran is alternative."
   ]
  },
  {
   "cell_type": "markdown",
   "metadata": {
    "slideshow": {
     "slide_type": "subslide"
    }
   },
   "source": [
    "# What is Julia?\n",
    "\n",
    "- A high-level, general purpose programming language"
   ]
  },
  {
   "cell_type": "markdown",
   "metadata": {
    "slideshow": {
     "slide_type": "skip"
    }
   },
   "source": [
    "- Used extensively by tech firms, finance industy, government, and academia. Also became very popular in Data Science (See [https://pypl.github.io/PYPL.html](https://pypl.github.io/PYPL.html))"
   ]
  },
  {
   "cell_type": "markdown",
   "metadata": {
    "slideshow": {
     "slide_type": "fragment"
    }
   },
   "source": [
    "- Free and open source"
   ]
  },
  {
   "cell_type": "markdown",
   "metadata": {
    "slideshow": {
     "slide_type": "fragment"
    }
   },
   "source": [
    "- A lot of **packages** for particular purposes"
   ]
  },
  {
   "cell_type": "markdown",
   "metadata": {
    "slideshow": {
     "slide_type": "subslide"
    }
   },
   "source": [
    "# Packages\n",
    "\n",
    "- We use the following packages for Julia <!--(by typing e.g. `import numpy`).-->\n",
    "\n",
    "- Packages can be installed by `import Pkg; Pkgs.add(\"$name\")` or press `]` and `add $name`"
   ]
  },
  {
   "cell_type": "markdown",
   "metadata": {
    "slideshow": {
     "slide_type": "fragment"
    }
   },
   "source": [
    "- Examples of packages:\n",
    "    - `Printf` format output (c.f., sprintf in MATLAB)\n",
    "\n",
    "    - `Random` pseudo random number generators\n",
    "\n",
    "    - `Statistics` calculate mean, standard deviation, etc.\n",
    "    \n",
    "    - `Plots` 2D and 3D figures\n",
    "    \n",
    "    - ... and more"
   ]
  },
  {
   "cell_type": "markdown",
   "metadata": {
    "slideshow": {
     "slide_type": "subslide"
    }
   },
   "source": [
    "Example: Mean and std. dev. of an array"
   ]
  },
  {
   "cell_type": "code",
   "execution_count": 1,
   "metadata": {
    "slideshow": {
     "slide_type": "fragment"
    }
   },
   "outputs": [
    {
     "name": "stdout",
     "output_type": "stream",
     "text": [
      "[-1.4230180479712229, 2.1815340578969407, -0.6957297454725299, -1.5548400439371273, 1.1600256860569935]\n",
      "-7.570519057233316e-5\n",
      "0.9999212848190758\n",
      "The 1234th element of a is 0.3860\n"
     ]
    }
   ],
   "source": [
    "using Printf\n",
    "using Random\n",
    "using Statistics\n",
    "\n",
    "a = randn(100000000) # std. normal\n",
    "println(a[1:5])\n",
    "# print(np.shape(a))\n",
    "println(mean(a))\n",
    "println(std(a))  \n",
    "println(@sprintf(\"The 1234th element of a is %1.4f\",a[1234]))"
   ]
  },
  {
   "cell_type": "markdown",
   "metadata": {
    "slideshow": {
     "slide_type": "subslide"
    }
   },
   "source": [
    "# Why Julia?\n",
    "\n",
    "1. Open source (free!)"
   ]
  },
  {
   "cell_type": "markdown",
   "metadata": {
    "slideshow": {
     "slide_type": "fragment"
    }
   },
   "source": [
    "2. General purpose"
   ]
  },
  {
   "cell_type": "markdown",
   "metadata": {
    "slideshow": {
     "slide_type": "fragment"
    }
   },
   "source": [
    "3. Easy to use, well designed"
   ]
  },
  {
   "cell_type": "markdown",
   "metadata": {
    "slideshow": {
     "slide_type": "fragment"
    }
   },
   "source": [
    "4. Remotely accessible"
   ]
  },
  {
   "cell_type": "markdown",
   "metadata": {
    "slideshow": {
     "slide_type": "subslide"
    }
   },
   "source": [
    "# Interacting with Julia\n",
    "\n",
    "We will interact with Julia using Jupyter Notebook\n",
    "- A browser-based front end to Python, Julia, R, etc.\n",
    "\n",
    "- Stores output as well as input\n",
    "\n",
    "- Allows for rich text, graphics, etc.\n",
    "\n",
    "- Easy to run remotely in cloud (Google Colab, Azure Notebook)\n",
    "\n",
    "This slide deck is also based on Jupyter Notebook!"
   ]
  },
  {
   "cell_type": "markdown",
   "metadata": {
    "slideshow": {
     "slide_type": "slide"
    }
   },
   "source": [
    "# Julia 101\n",
    "\n",
    "- If you are already familiar with Matlab (or Python), just look at https://cheatsheets.quantecon.org/.\n",
    "\n",
    "## Number manipulation\n",
    "\n",
    "- `+`: addition, `-`: substruction, `*`: multiplication, `/`: division\n",
    "- `println` shows the results with starting a new line."
   ]
  },
  {
   "cell_type": "code",
   "execution_count": 1,
   "metadata": {
    "slideshow": {
     "slide_type": "fragment"
    }
   },
   "outputs": [
    {
     "name": "stdout",
     "output_type": "stream",
     "text": [
      "3\n",
      "-1\n",
      "2\n",
      "0.5\n"
     ]
    }
   ],
   "source": [
    "println(1+2)\n",
    "println(1-2)\n",
    "println(1*2)\n",
    "println(1/2)"
   ]
  },
  {
   "cell_type": "markdown",
   "metadata": {
    "slideshow": {
     "slide_type": "subslide"
    }
   },
   "source": [
    "## Variables\n",
    "\n",
    "- `=` for substitution"
   ]
  },
  {
   "cell_type": "code",
   "execution_count": 2,
   "metadata": {
    "slideshow": {
     "slide_type": "fragment"
    }
   },
   "outputs": [
    {
     "data": {
      "text/plain": [
       "0.5"
      ]
     },
     "execution_count": 2,
     "metadata": {},
     "output_type": "execute_result"
    }
   ],
   "source": [
    "a = 1.0\n",
    "b = 2.0\n",
    "a/b"
   ]
  },
  {
   "cell_type": "markdown",
   "metadata": {
    "slideshow": {
     "slide_type": "subslide"
    }
   },
   "source": [
    "## Arrays\n",
    "\n",
    "- Arrays can be made by `[]`. Commas are used to add elements.\n",
    "<!-- - Arrays are handled by NumPy package. Type `import numpy as np` prior to use. `np` is called alias. -->"
   ]
  },
  {
   "cell_type": "markdown",
   "metadata": {
    "slideshow": {
     "slide_type": "skip"
    }
   },
   "source": [
    "- Each NumPy function can be used with `np`. \n",
    "  - For example, `np.array([1,2])`makes a $(2\\times1)$ vector $[1,2]'$.\n",
    "  - `np.shape` returns the shape of the array."
   ]
  },
  {
   "cell_type": "code",
   "execution_count": 1,
   "metadata": {
    "slideshow": {
     "slide_type": "fragment"
    }
   },
   "outputs": [
    {
     "name": "stdout",
     "output_type": "stream",
     "text": [
      "[1, 2]\n",
      "(2,)\n"
     ]
    }
   ],
   "source": [
    "# An array is made by\n",
    "b = [1,2]\n",
    "println(b)\n",
    "println(size(b))"
   ]
  },
  {
   "cell_type": "markdown",
   "metadata": {
    "slideshow": {
     "slide_type": "subslide"
    }
   },
   "source": [
    "- The index for a n-size array starts from 1 to n (not from 0 to n-1).\n",
    "<!-- Arrays with size n are column vectors. Row vectors are (1xn) matrices.-->"
   ]
  },
  {
   "cell_type": "code",
   "execution_count": 7,
   "metadata": {
    "slideshow": {
     "slide_type": "fragment"
    }
   },
   "outputs": [
    {
     "name": "stdout",
     "output_type": "stream",
     "text": [
      "1\n",
      "2\n"
     ]
    },
    {
     "ename": "LoadError",
     "evalue": "BoundsError: attempt to access 2-element Vector{Int64} at index [0]",
     "output_type": "error",
     "traceback": [
      "BoundsError: attempt to access 2-element Vector{Int64} at index [0]",
      "",
      "Stacktrace:",
      " [1] getindex(A::Vector{Int64}, i1::Int64)",
      "   @ Base .\\array.jl:801",
      " [2] top-level scope",
      "   @ In[7]:4",
      " [3] eval",
      "   @ .\\boot.jl:360 [inlined]",
      " [4] include_string(mapexpr::typeof(REPL.softscope), mod::Module, code::String, filename::String)",
      "   @ Base .\\loading.jl:1094"
     ]
    }
   ],
   "source": [
    "# index in n-size array starts from 1 to n\n",
    "println(b[1])\n",
    "println(b[2])\n",
    "println(b[0])"
   ]
  },
  {
   "cell_type": "markdown",
   "metadata": {
    "slideshow": {
     "slide_type": "subslide"
    }
   },
   "source": [
    "- `collect(range(i,stop=j,step=k))` returns a vector start from i to j with increment size k.\n",
    "\n",
    "\n",
    "- `collect(LinRange(1,10,10))` returns the same vector as what `collect(range(1.0,stop=10.0,10.0))` returns (with some rounding errors) "
   ]
  },
  {
   "cell_type": "code",
   "execution_count": 85,
   "metadata": {
    "slideshow": {
     "slide_type": "fragment"
    }
   },
   "outputs": [
    {
     "name": "stdout",
     "output_type": "stream",
     "text": [
      "[1.0, 2.0, 3.0, 4.0, 5.0, 6.0, 7.0, 8.0, 9.0, 10.0]\n",
      "[1.0, 3.0, 5.0, 7.0, 9.0]\n"
     ]
    }
   ],
   "source": [
    "b = collect(range(1.0,stop=10.0,step=1.0)) # 1:10 in matlab\n",
    "println(b)\n",
    "\n",
    "b = collect(range(1.0,stop=9.0,step=2.0)) # 1:2:9 in matlab\n",
    "println(b)\n",
    "\n",
    "# b = collect(LinRange(1,10,10))\n",
    "# println(b)"
   ]
  },
  {
   "cell_type": "markdown",
   "metadata": {
    "slideshow": {
     "slide_type": "subslide"
    }
   },
   "source": [
    "- Broadcast: element-by-element manipulation by `.`."
   ]
  },
  {
   "cell_type": "code",
   "execution_count": 87,
   "metadata": {
    "slideshow": {
     "slide_type": "fragment"
    }
   },
   "outputs": [
    {
     "name": "stdout",
     "output_type": "stream",
     "text": [
      "[1.0, 3.0, 5.0, 7.0, 9.0]\n",
      "[1.0, 9.0, 25.0, 49.0, 81.0]\n"
     ]
    }
   ],
   "source": [
    "# broadcast\n",
    "println(b)\n",
    "buf = b.^2\n",
    "println(buf)"
   ]
  },
  {
   "cell_type": "markdown",
   "metadata": {
    "slideshow": {
     "slide_type": "subslide"
    }
   },
   "source": [
    "# Vectors and matrices\n",
    "\n",
    "- Subsets of arrays.\n",
    "- `reshape(b,n,m)` reshapes an array `b`."
   ]
  },
  {
   "cell_type": "code",
   "execution_count": 9,
   "metadata": {
    "slideshow": {
     "slide_type": "fragment"
    }
   },
   "outputs": [
    {
     "name": "stdout",
     "output_type": "stream",
     "text": [
      "(2,)\n",
      "(2, 1)\n",
      "(1, 2)\n",
      "[1 0; 2 3]\n",
      "(2, 2)\n"
     ]
    }
   ],
   "source": [
    "# array ((2x1) col vector )\n",
    "b = [1,2]\n",
    "# b = [2;1]\n",
    "println(size(b))\n",
    "\n",
    "# (2x1) col vector\n",
    "colb = reshape(b,2,1)\n",
    "println(size(colb))\n",
    "\n",
    "# (1x2) row vector\n",
    "rowb = reshape(b,1,2)\n",
    "# rowb = [1 2]\n",
    "println(size(rowb))\n",
    "\n",
    "# matrix\n",
    "A = [1 0; 2 3]\n",
    "println(A)\n",
    "println(size(A))"
   ]
  },
  {
   "cell_type": "markdown",
   "metadata": {
    "slideshow": {
     "slide_type": "subslide"
    }
   },
   "source": [
    "- `*` is also used for matrix multiplication."
   ]
  },
  {
   "cell_type": "code",
   "execution_count": 46,
   "metadata": {
    "slideshow": {
     "slide_type": "fragment"
    }
   },
   "outputs": [
    {
     "name": "stdout",
     "output_type": "stream",
     "text": [
      "[1 0; 2 3]\n",
      "[1; 2]\n",
      "[1; 8]\n",
      "(2, 1)\n"
     ]
    }
   ],
   "source": [
    "# mutiplication\n",
    "A = [1 0; 2 3] # (2x2) matrix\n",
    "println(A)\n",
    "b = reshape([1,2],2,1)         # 2-element array is (2x1) column vector\n",
    "println(b)\n",
    "\n",
    "println(A*b)                  # (2x2) times (2x1)\n",
    "println(size(A*b))"
   ]
  },
  {
   "cell_type": "markdown",
   "metadata": {
    "slideshow": {
     "slide_type": "subslide"
    }
   },
   "source": [
    "- Slicing arrays: `b[i:j]` slices elements of b from i to j.\n",
    "\n",
    "\n",
    "- Can be applied to matrices (or arrays with higher dimensions)\n"
   ]
  },
  {
   "cell_type": "code",
   "execution_count": 48,
   "metadata": {
    "slideshow": {
     "slide_type": "fragment"
    }
   },
   "outputs": [
    {
     "name": "stdout",
     "output_type": "stream",
     "text": [
      "[1.0, 2.0, 3.0, 4.0, 5.0, 6.0, 7.0, 8.0, 9.0, 10.0]\n",
      "[1.0, 2.0]\n",
      "[1 0; 2 3; 4 5]\n",
      "[1 0; 2 3]\n"
     ]
    }
   ],
   "source": [
    "b = collect(range(1.0,stop=10.0,step=1.0)) # 1:10 in Matlab\n",
    "println(b)\n",
    "println(b[1:2])         # b(1:2) in Matlab\n",
    "\n",
    "A = [1 0; 2 3; 4 5]\n",
    "println(A)\n",
    "println(A[1:2,:])       # A(1:2,:) in Matlab "
   ]
  },
  {
   "cell_type": "markdown",
   "metadata": {
    "slideshow": {
     "slide_type": "subslide"
    }
   },
   "source": [
    "- Other useful commands: `zeros`, `transpose`, `inv`, etc."
   ]
  },
  {
   "cell_type": "code",
   "execution_count": 55,
   "metadata": {
    "slideshow": {
     "slide_type": "fragment"
    }
   },
   "outputs": [
    {
     "name": "stdout",
     "output_type": "stream",
     "text": [
      "[0.0, 0.0]\n",
      "[0.0 0.0; 0.0 0.0]\n",
      "[1 0; 0 1]\n",
      "[1 2; 0 3]\n",
      "[1.0 0.0; -0.6666666666666666 0.3333333333333333]\n"
     ]
    }
   ],
   "source": [
    "# zeros\n",
    "println(zeros(2))\n",
    "println(zeros((2,2)))\n",
    "\n",
    "# identity\n",
    "println([1 0; 0 1]) # eyes(2)\n",
    "\n",
    "# transpose\n",
    "A = [1 0; 2 3] # (2x2) matrix\n",
    "trA = transpose(A)\n",
    "# trA = A'\n",
    "println(trA)\n",
    "\n",
    "# inverse\n",
    "invA = inv(A)\n",
    "println(invA)"
   ]
  },
  {
   "cell_type": "code",
   "execution_count": null,
   "metadata": {
    "slideshow": {
     "slide_type": "skip"
    }
   },
   "outputs": [],
   "source": [
    "# An array is made by\n",
    "b = np.array([1,2])\n",
    "print(b)\n",
    "\n",
    "# which is different from row vector (1x2)\n",
    "rowb = np.array([1,2]).reshape(1,2)\n",
    "print(np.shape(rowb))\n",
    "\n",
    "# NOTE: transposing an array is ...\n",
    "trb = b.T # still array\n",
    "print(np.shape(trb))\n",
    "\n",
    "trrowb = rowb.T # transposing a row vector makes a column vector\n",
    "print(np.shape(trrowb))\n"
   ]
  },
  {
   "cell_type": "markdown",
   "metadata": {
    "slideshow": {
     "slide_type": "subslide"
    }
   },
   "source": [
    "## Loops\n",
    "### For loops:\n",
    "\n",
    "- A code block that iterates a procedure for a certain number of times.\n",
    "\n",
    "- The following code calculates 0+1+2+3+4=10.\n",
    "\n",
    "- The sum is equal to 0+0=0, 0+1=1, 1+2=3, 3+3=6, 6+4=10 in each loop."
   ]
  },
  {
   "cell_type": "code",
   "execution_count": 56,
   "metadata": {
    "slideshow": {
     "slide_type": "fragment"
    }
   },
   "outputs": [
    {
     "name": "stdout",
     "output_type": "stream",
     "text": [
      "1\n",
      "3\n",
      "6\n",
      "10\n",
      "15\n",
      "15\n"
     ]
    }
   ],
   "source": [
    "sum = 0 # initial value\n",
    "for i in 1:5 # i=0,1,2,3,4\n",
    "    sum = sum + i        # add i to the previous sum\n",
    "    println(sum)\n",
    "end\n",
    "println(sum)"
   ]
  },
  {
   "cell_type": "markdown",
   "metadata": {
    "slideshow": {
     "slide_type": "skip"
    }
   },
   "source": [
    "- Code blocks are preceded with colon `:` and delimited by indentations (= __4 spaces__)."
   ]
  },
  {
   "cell_type": "markdown",
   "metadata": {
    "slideshow": {
     "slide_type": "skip"
    }
   },
   "source": [
    "- NOTE: Tabs and spaces are different."
   ]
  },
  {
   "cell_type": "markdown",
   "metadata": {
    "slideshow": {
     "slide_type": "subslide"
    }
   },
   "source": [
    "### While loops: \n",
    "\n",
    "- A code block that iterates a procedure until a certain conditon is met.\n",
    "\n",
    "- The following code, again, calculates 0+1+2+3+4=10."
   ]
  },
  {
   "cell_type": "code",
   "execution_count": 57,
   "metadata": {
    "slideshow": {
     "slide_type": "fragment"
    }
   },
   "outputs": [
    {
     "name": "stdout",
     "output_type": "stream",
     "text": [
      "[0, 0]\n",
      "[1, 1]\n",
      "[2, 3]\n",
      "[3, 6]\n",
      "[4, 10]\n",
      "10\n"
     ]
    }
   ],
   "source": [
    "sum = 0 # initial value of sum\n",
    "i = 0   # initial value of i\n",
    "while i<5 # i=0,1,2,3,4\n",
    "    sum = sum + i # add i to the previous sum\n",
    "    println([i,sum])\n",
    "    i = i + 1 # i is increased here\n",
    "end\n",
    "println(sum)"
   ]
  },
  {
   "cell_type": "markdown",
   "metadata": {
    "slideshow": {
     "slide_type": "subslide"
    }
   },
   "source": [
    "## If clause\n",
    "\n",
    "- If the condition is true, we execute a certain procedure. Otherwise, we do nothing or execute another procedure."
   ]
  },
  {
   "cell_type": "code",
   "execution_count": 62,
   "metadata": {
    "slideshow": {
     "slide_type": "fragment"
    }
   },
   "outputs": [
    {
     "name": "stdout",
     "output_type": "stream",
     "text": [
      "a is greater than b.\n"
     ]
    }
   ],
   "source": [
    "a = 3; b = 4;\n",
    "if (a<b)\n",
    "    println(\"a is greater than b.\")\n",
    "else\n",
    "    println(\"b is greater than or equal to a.\")\n",
    "end"
   ]
  },
  {
   "cell_type": "markdown",
   "metadata": {
    "slideshow": {
     "slide_type": "subslide"
    }
   },
   "source": [
    "# Displaying results\n",
    "\n",
    "- `println` shows the results.\n",
    "\n",
    "- `@sprintf` with a certain format can be used to substitute numbers into strings (like sprintf in Matlab).\n",
    "  - For example, `%1.4f` prints a number with the float type.\n",
    "  - You need to install `Printf` package. Need to load the package by `using Printf`."
   ]
  },
  {
   "cell_type": "code",
   "execution_count": 63,
   "metadata": {
    "slideshow": {
     "slide_type": "fragment"
    }
   },
   "outputs": [
    {
     "name": "stdout",
     "output_type": "stream",
     "text": [
      "[1, 2]\n",
      "x is equal to 1.5000"
     ]
    }
   ],
   "source": [
    "using Printf\n",
    "\n",
    "a = [1,2]\n",
    "println(a)\n",
    "\n",
    "x = 1.5\n",
    "buf = @sprintf(\"x is equal to %1.4f\",x) \n",
    "print(buf)"
   ]
  },
  {
   "cell_type": "markdown",
   "metadata": {
    "slideshow": {
     "slide_type": "subslide"
    }
   },
   "source": [
    "# Figures\n",
    "\n",
    "- `Plot` package is used to plot figures. Need to load the package by `using Plot`.\n",
    "  - A format for line and dots can be specified."
   ]
  },
  {
   "cell_type": "code",
   "execution_count": 10,
   "metadata": {
    "slideshow": {
     "slide_type": "fragment"
    }
   },
   "outputs": [
    {
     "data": {
      "image/svg+xml": [
       "<?xml version=\"1.0\" encoding=\"utf-8\"?>\n",
       "<svg xmlns=\"http://www.w3.org/2000/svg\" xmlns:xlink=\"http://www.w3.org/1999/xlink\" width=\"3000\" height=\"2000\" viewBox=\"0 0 12000 8000\">\n",
       "<defs>\n",
       "  <clipPath id=\"clip320\">\n",
       "    <rect x=\"0\" y=\"0\" width=\"12000\" height=\"8000\"/>\n",
       "  </clipPath>\n",
       "</defs>\n",
       "<path clip-path=\"url(#clip320)\" d=\"M0 8000 L12000 8000 L12000 0 L0 0  Z\" fill=\"#ffffff\" fill-rule=\"evenodd\" fill-opacity=\"1\"/>\n",
       "<defs>\n",
       "  <clipPath id=\"clip321\">\n",
       "    <rect x=\"2400\" y=\"0\" width=\"8401\" height=\"8000\"/>\n",
       "  </clipPath>\n",
       "</defs>\n",
       "<path clip-path=\"url(#clip320)\" d=\"M236.696 7822.45 L11952.8 7822.45 L11952.8 123.472 L236.696 123.472  Z\" fill=\"#ffffff\" fill-rule=\"evenodd\" fill-opacity=\"1\"/>\n",
       "<defs>\n",
       "  <clipPath id=\"clip322\">\n",
       "    <rect x=\"236\" y=\"123\" width=\"11717\" height=\"7700\"/>\n",
       "  </clipPath>\n",
       "</defs>\n",
       "<polyline clip-path=\"url(#clip322)\" style=\"stroke:#000000; stroke-linecap:round; stroke-linejoin:round; stroke-width:2; stroke-opacity:0.1; fill:none\" points=\"1673.57,7822.45 1673.57,123.472 \"/>\n",
       "<polyline clip-path=\"url(#clip322)\" style=\"stroke:#000000; stroke-linecap:round; stroke-linejoin:round; stroke-width:2; stroke-opacity:0.1; fill:none\" points=\"3884.15,7822.45 3884.15,123.472 \"/>\n",
       "<polyline clip-path=\"url(#clip322)\" style=\"stroke:#000000; stroke-linecap:round; stroke-linejoin:round; stroke-width:2; stroke-opacity:0.1; fill:none\" points=\"6094.73,7822.45 6094.73,123.472 \"/>\n",
       "<polyline clip-path=\"url(#clip322)\" style=\"stroke:#000000; stroke-linecap:round; stroke-linejoin:round; stroke-width:2; stroke-opacity:0.1; fill:none\" points=\"8305.3,7822.45 8305.3,123.472 \"/>\n",
       "<polyline clip-path=\"url(#clip322)\" style=\"stroke:#000000; stroke-linecap:round; stroke-linejoin:round; stroke-width:2; stroke-opacity:0.1; fill:none\" points=\"10515.9,7822.45 10515.9,123.472 \"/>\n",
       "<polyline clip-path=\"url(#clip320)\" style=\"stroke:#000000; stroke-linecap:round; stroke-linejoin:round; stroke-width:4; stroke-opacity:1; fill:none\" points=\"236.696,7822.45 11952.8,7822.45 \"/>\n",
       "<polyline clip-path=\"url(#clip320)\" style=\"stroke:#000000; stroke-linecap:round; stroke-linejoin:round; stroke-width:4; stroke-opacity:1; fill:none\" points=\"1673.57,7822.45 1673.57,7803.55 \"/>\n",
       "<polyline clip-path=\"url(#clip320)\" style=\"stroke:#000000; stroke-linecap:round; stroke-linejoin:round; stroke-width:4; stroke-opacity:1; fill:none\" points=\"3884.15,7822.45 3884.15,7803.55 \"/>\n",
       "<polyline clip-path=\"url(#clip320)\" style=\"stroke:#000000; stroke-linecap:round; stroke-linejoin:round; stroke-width:4; stroke-opacity:1; fill:none\" points=\"6094.73,7822.45 6094.73,7803.55 \"/>\n",
       "<polyline clip-path=\"url(#clip320)\" style=\"stroke:#000000; stroke-linecap:round; stroke-linejoin:round; stroke-width:4; stroke-opacity:1; fill:none\" points=\"8305.3,7822.45 8305.3,7803.55 \"/>\n",
       "<polyline clip-path=\"url(#clip320)\" style=\"stroke:#000000; stroke-linecap:round; stroke-linejoin:round; stroke-width:4; stroke-opacity:1; fill:none\" points=\"10515.9,7822.45 10515.9,7803.55 \"/>\n",
       "<path clip-path=\"url(#clip320)\" d=\"M1642.47 7944.82 L1672.15 7944.82 L1672.15 7948.75 L1642.47 7948.75 L1642.47 7944.82 Z\" fill=\"#000000\" fill-rule=\"nonzero\" fill-opacity=\"1\" /><path clip-path=\"url(#clip320)\" d=\"M1695.09 7931.16 L1683.28 7949.61 L1695.09 7949.61 L1695.09 7931.16 M1693.86 7927.09 L1699.74 7927.09 L1699.74 7949.61 L1704.67 7949.61 L1704.67 7953.5 L1699.74 7953.5 L1699.74 7961.65 L1695.09 7961.65 L1695.09 7953.5 L1679.49 7953.5 L1679.49 7948.99 L1693.86 7927.09 Z\" fill=\"#000000\" fill-rule=\"nonzero\" fill-opacity=\"1\" /><path clip-path=\"url(#clip320)\" d=\"M3854.09 7944.82 L3883.77 7944.82 L3883.77 7948.75 L3854.09 7948.75 L3854.09 7944.82 Z\" fill=\"#000000\" fill-rule=\"nonzero\" fill-opacity=\"1\" /><path clip-path=\"url(#clip320)\" d=\"M3897.89 7957.71 L3914.21 7957.71 L3914.21 7961.65 L3892.26 7961.65 L3892.26 7957.71 Q3894.92 7954.96 3899.51 7950.33 Q3904.11 7945.68 3905.29 7944.33 Q3907.54 7941.81 3908.42 7940.07 Q3909.32 7938.31 3909.32 7936.62 Q3909.32 7933.87 3907.38 7932.13 Q3905.46 7930.4 3902.35 7930.4 Q3900.16 7930.4 3897.7 7931.16 Q3895.27 7931.93 3892.49 7933.48 L3892.49 7928.75 Q3895.32 7927.62 3897.77 7927.04 Q3900.22 7926.46 3902.26 7926.46 Q3907.63 7926.46 3910.83 7929.15 Q3914.02 7931.83 3914.02 7936.32 Q3914.02 7938.45 3913.21 7940.37 Q3912.42 7942.27 3910.32 7944.87 Q3909.74 7945.54 3906.64 7948.75 Q3903.53 7951.95 3897.89 7957.71 Z\" fill=\"#000000\" fill-rule=\"nonzero\" fill-opacity=\"1\" /><path clip-path=\"url(#clip320)\" d=\"M6094.73 7930.17 Q6091.11 7930.17 6089.29 7933.73 Q6087.48 7937.27 6087.48 7944.4 Q6087.48 7951.51 6089.29 7955.07 Q6091.11 7958.62 6094.73 7958.62 Q6098.36 7958.62 6100.17 7955.07 Q6101.99 7951.51 6101.99 7944.4 Q6101.99 7937.27 6100.17 7933.73 Q6098.36 7930.17 6094.73 7930.17 M6094.73 7926.46 Q6100.54 7926.46 6103.59 7931.07 Q6106.67 7935.65 6106.67 7944.4 Q6106.67 7953.13 6103.59 7957.74 Q6100.54 7962.32 6094.73 7962.32 Q6088.92 7962.32 6085.84 7957.74 Q6082.78 7953.13 6082.78 7944.4 Q6082.78 7935.65 6085.84 7931.07 Q6088.92 7926.46 6094.73 7926.46 Z\" fill=\"#000000\" fill-rule=\"nonzero\" fill-opacity=\"1\" /><path clip-path=\"url(#clip320)\" d=\"M8299.96 7957.71 L8316.28 7957.71 L8316.28 7961.65 L8294.33 7961.65 L8294.33 7957.71 Q8296.99 7954.96 8301.58 7950.33 Q8306.18 7945.68 8307.36 7944.33 Q8309.61 7941.81 8310.49 7940.07 Q8311.39 7938.31 8311.39 7936.62 Q8311.39 7933.87 8309.45 7932.13 Q8307.53 7930.4 8304.42 7930.4 Q8302.22 7930.4 8299.77 7931.16 Q8297.34 7931.93 8294.56 7933.48 L8294.56 7928.75 Q8297.39 7927.62 8299.84 7927.04 Q8302.29 7926.46 8304.33 7926.46 Q8309.7 7926.46 8312.9 7929.15 Q8316.09 7931.83 8316.09 7936.32 Q8316.09 7938.45 8315.28 7940.37 Q8314.49 7942.27 8312.39 7944.87 Q8311.81 7945.54 8308.71 7948.75 Q8305.6 7951.95 8299.96 7957.71 Z\" fill=\"#000000\" fill-rule=\"nonzero\" fill-opacity=\"1\" /><path clip-path=\"url(#clip320)\" d=\"M10518.9 7931.16 L10507.1 7949.61 L10518.9 7949.61 L10518.9 7931.16 M10517.7 7927.09 L10523.5 7927.09 L10523.5 7949.61 L10528.5 7949.61 L10528.5 7953.5 L10523.5 7953.5 L10523.5 7961.65 L10518.9 7961.65 L10518.9 7953.5 L10503.3 7953.5 L10503.3 7948.99 L10517.7 7927.09 Z\" fill=\"#000000\" fill-rule=\"nonzero\" fill-opacity=\"1\" /><polyline clip-path=\"url(#clip322)\" style=\"stroke:#000000; stroke-linecap:round; stroke-linejoin:round; stroke-width:2; stroke-opacity:0.1; fill:none\" points=\"236.696,7604.55 11952.8,7604.55 \"/>\n",
       "<polyline clip-path=\"url(#clip322)\" style=\"stroke:#000000; stroke-linecap:round; stroke-linejoin:round; stroke-width:2; stroke-opacity:0.1; fill:none\" points=\"236.696,6151.92 11952.8,6151.92 \"/>\n",
       "<polyline clip-path=\"url(#clip322)\" style=\"stroke:#000000; stroke-linecap:round; stroke-linejoin:round; stroke-width:2; stroke-opacity:0.1; fill:none\" points=\"236.696,4699.28 11952.8,4699.28 \"/>\n",
       "<polyline clip-path=\"url(#clip322)\" style=\"stroke:#000000; stroke-linecap:round; stroke-linejoin:round; stroke-width:2; stroke-opacity:0.1; fill:none\" points=\"236.696,3246.64 11952.8,3246.64 \"/>\n",
       "<polyline clip-path=\"url(#clip322)\" style=\"stroke:#000000; stroke-linecap:round; stroke-linejoin:round; stroke-width:2; stroke-opacity:0.1; fill:none\" points=\"236.696,1794 11952.8,1794 \"/>\n",
       "<polyline clip-path=\"url(#clip322)\" style=\"stroke:#000000; stroke-linecap:round; stroke-linejoin:round; stroke-width:2; stroke-opacity:0.1; fill:none\" points=\"236.696,341.368 11952.8,341.368 \"/>\n",
       "<polyline clip-path=\"url(#clip320)\" style=\"stroke:#000000; stroke-linecap:round; stroke-linejoin:round; stroke-width:4; stroke-opacity:1; fill:none\" points=\"236.696,7822.45 236.696,123.472 \"/>\n",
       "<polyline clip-path=\"url(#clip320)\" style=\"stroke:#000000; stroke-linecap:round; stroke-linejoin:round; stroke-width:4; stroke-opacity:1; fill:none\" points=\"236.696,7604.55 255.593,7604.55 \"/>\n",
       "<polyline clip-path=\"url(#clip320)\" style=\"stroke:#000000; stroke-linecap:round; stroke-linejoin:round; stroke-width:4; stroke-opacity:1; fill:none\" points=\"236.696,6151.92 255.593,6151.92 \"/>\n",
       "<polyline clip-path=\"url(#clip320)\" style=\"stroke:#000000; stroke-linecap:round; stroke-linejoin:round; stroke-width:4; stroke-opacity:1; fill:none\" points=\"236.696,4699.28 255.593,4699.28 \"/>\n",
       "<polyline clip-path=\"url(#clip320)\" style=\"stroke:#000000; stroke-linecap:round; stroke-linejoin:round; stroke-width:4; stroke-opacity:1; fill:none\" points=\"236.696,3246.64 255.593,3246.64 \"/>\n",
       "<polyline clip-path=\"url(#clip320)\" style=\"stroke:#000000; stroke-linecap:round; stroke-linejoin:round; stroke-width:4; stroke-opacity:1; fill:none\" points=\"236.696,1794 255.593,1794 \"/>\n",
       "<polyline clip-path=\"url(#clip320)\" style=\"stroke:#000000; stroke-linecap:round; stroke-linejoin:round; stroke-width:4; stroke-opacity:1; fill:none\" points=\"236.696,341.368 255.593,341.368 \"/>\n",
       "<path clip-path=\"url(#clip320)\" d=\"M44.7512 7590.35 Q41.1401 7590.35 39.3114 7593.92 Q37.5058 7597.46 37.5058 7604.59 Q37.5058 7611.69 39.3114 7615.26 Q41.1401 7618.8 44.7512 7618.8 Q48.3854 7618.8 50.1909 7615.26 Q52.0196 7611.69 52.0196 7604.59 Q52.0196 7597.46 50.1909 7593.92 Q48.3854 7590.35 44.7512 7590.35 M44.7512 7586.65 Q50.5613 7586.65 53.6169 7591.25 Q56.6955 7595.84 56.6955 7604.59 Q56.6955 7613.31 53.6169 7617.92 Q50.5613 7622.5 44.7512 7622.5 Q38.941 7622.5 35.8623 7617.92 Q32.8068 7613.31 32.8068 7604.59 Q32.8068 7595.84 35.8623 7591.25 Q38.941 7586.65 44.7512 7586.65 Z\" fill=\"#000000\" fill-rule=\"nonzero\" fill-opacity=\"1\" /><path clip-path=\"url(#clip320)\" d=\"M35.7929 6134.64 L54.1493 6134.64 L54.1493 6138.57 L40.0753 6138.57 L40.0753 6147.04 Q41.0938 6146.7 42.1123 6146.53 Q43.1308 6146.35 44.1493 6146.35 Q49.9363 6146.35 53.3159 6149.52 Q56.6955 6152.69 56.6955 6158.11 Q56.6955 6163.69 53.2233 6166.79 Q49.7511 6169.87 43.4317 6169.87 Q41.2558 6169.87 38.9873 6169.5 Q36.7419 6169.13 34.3346 6168.39 L34.3346 6163.69 Q36.4179 6164.82 38.6401 6165.38 Q40.8623 6165.93 43.3391 6165.93 Q47.3437 6165.93 49.6817 6163.83 Q52.0196 6161.72 52.0196 6158.11 Q52.0196 6154.5 49.6817 6152.39 Q47.3437 6150.28 43.3391 6150.28 Q41.4641 6150.28 39.5892 6150.7 Q37.7373 6151.12 35.7929 6152 L35.7929 6134.64 Z\" fill=\"#000000\" fill-rule=\"nonzero\" fill-opacity=\"1\" /><path clip-path=\"url(#clip320)\" d=\"M5.39952 4712.62 L13.0384 4712.62 L13.0384 4686.26 L4.72823 4687.92 L4.72823 4683.67 L12.9921 4682 L17.668 4682 L17.668 4712.62 L25.3068 4712.62 L25.3068 4716.56 L5.39952 4716.56 L5.39952 4712.62 Z\" fill=\"#000000\" fill-rule=\"nonzero\" fill-opacity=\"1\" /><path clip-path=\"url(#clip320)\" d=\"M44.7512 4685.08 Q41.1401 4685.08 39.3114 4688.64 Q37.5058 4692.18 37.5058 4699.31 Q37.5058 4706.42 39.3114 4709.98 Q41.1401 4713.53 44.7512 4713.53 Q48.3854 4713.53 50.1909 4709.98 Q52.0196 4706.42 52.0196 4699.31 Q52.0196 4692.18 50.1909 4688.64 Q48.3854 4685.08 44.7512 4685.08 M44.7512 4681.37 Q50.5613 4681.37 53.6169 4685.98 Q56.6955 4690.56 56.6955 4699.31 Q56.6955 4708.04 53.6169 4712.65 Q50.5613 4717.23 44.7512 4717.23 Q38.941 4717.23 35.8623 4712.65 Q32.8068 4708.04 32.8068 4699.31 Q32.8068 4690.56 35.8623 4685.98 Q38.941 4681.37 44.7512 4681.37 Z\" fill=\"#000000\" fill-rule=\"nonzero\" fill-opacity=\"1\" /><path clip-path=\"url(#clip320)\" d=\"M6.39489 3259.99 L14.0337 3259.99 L14.0337 3233.62 L5.72359 3235.29 L5.72359 3231.03 L13.9874 3229.36 L18.6633 3229.36 L18.6633 3259.99 L26.3022 3259.99 L26.3022 3263.92 L6.39489 3263.92 L6.39489 3259.99 Z\" fill=\"#000000\" fill-rule=\"nonzero\" fill-opacity=\"1\" /><path clip-path=\"url(#clip320)\" d=\"M35.7929 3229.36 L54.1493 3229.36 L54.1493 3233.3 L40.0753 3233.3 L40.0753 3241.77 Q41.0938 3241.42 42.1123 3241.26 Q43.1308 3241.07 44.1493 3241.07 Q49.9363 3241.07 53.3159 3244.25 Q56.6955 3247.42 56.6955 3252.83 Q56.6955 3258.41 53.2233 3261.51 Q49.7511 3264.59 43.4317 3264.59 Q41.2558 3264.59 38.9873 3264.22 Q36.7419 3263.85 34.3346 3263.11 L34.3346 3258.41 Q36.4179 3259.55 38.6401 3260.1 Q40.8623 3260.66 43.3391 3260.66 Q47.3437 3260.66 49.6817 3258.55 Q52.0196 3256.44 52.0196 3252.83 Q52.0196 3249.22 49.6817 3247.12 Q47.3437 3245.01 43.3391 3245.01 Q41.4641 3245.01 39.5892 3245.43 Q37.7373 3245.84 35.7929 3246.72 L35.7929 3229.36 Z\" fill=\"#000000\" fill-rule=\"nonzero\" fill-opacity=\"1\" /><path clip-path=\"url(#clip320)\" d=\"M8.6171 1807.35 L24.9365 1807.35 L24.9365 1811.28 L2.99213 1811.28 L2.99213 1807.35 Q5.65415 1804.59 10.2375 1799.97 Q14.8439 1795.31 16.0245 1793.97 Q18.2698 1791.45 19.1494 1789.71 Q20.0522 1787.95 20.0522 1786.26 Q20.0522 1783.51 18.1078 1781.77 Q16.1865 1780.03 13.0847 1780.03 Q10.8856 1780.03 8.43191 1780.8 Q6.00137 1781.56 3.22361 1783.11 L3.22361 1778.39 Q6.04767 1777.26 8.50136 1776.68 Q10.955 1776.1 12.9921 1776.1 Q18.3624 1776.1 21.5568 1778.78 Q24.7513 1781.47 24.7513 1785.96 Q24.7513 1788.09 23.9411 1790.01 Q23.1541 1791.91 21.0476 1794.5 Q20.4689 1795.17 17.367 1798.39 Q14.2652 1801.59 8.6171 1807.35 Z\" fill=\"#000000\" fill-rule=\"nonzero\" fill-opacity=\"1\" /><path clip-path=\"url(#clip320)\" d=\"M44.7512 1779.8 Q41.1401 1779.8 39.3114 1783.37 Q37.5058 1786.91 37.5058 1794.04 Q37.5058 1801.15 39.3114 1804.71 Q41.1401 1808.25 44.7512 1808.25 Q48.3854 1808.25 50.1909 1804.71 Q52.0196 1801.15 52.0196 1794.04 Q52.0196 1786.91 50.1909 1783.37 Q48.3854 1779.8 44.7512 1779.8 M44.7512 1776.1 Q50.5613 1776.1 53.6169 1780.71 Q56.6955 1785.29 56.6955 1794.04 Q56.6955 1802.77 53.6169 1807.37 Q50.5613 1811.96 44.7512 1811.96 Q38.941 1811.96 35.8623 1807.37 Q32.8068 1802.77 32.8068 1794.04 Q32.8068 1785.29 35.8623 1780.71 Q38.941 1776.1 44.7512 1776.1 Z\" fill=\"#000000\" fill-rule=\"nonzero\" fill-opacity=\"1\" /><path clip-path=\"url(#clip320)\" d=\"M9.61246 354.713 L25.9318 354.713 L25.9318 358.648 L3.98749 358.648 L3.98749 354.713 Q6.64951 351.958 11.2328 347.328 Q15.8393 342.676 17.0198 341.333 Q19.2652 338.81 20.1448 337.074 Q21.0476 335.314 21.0476 333.625 Q21.0476 330.87 19.1032 329.134 Q17.1819 327.398 14.08 327.398 Q11.881 327.398 9.42728 328.162 Q6.99673 328.926 4.21897 330.477 L4.21897 325.754 Q7.04303 324.62 9.49672 324.041 Q11.9504 323.463 13.9874 323.463 Q19.3578 323.463 22.5522 326.148 Q25.7466 328.833 25.7466 333.324 Q25.7466 335.453 24.9365 337.375 Q24.1494 339.273 22.0429 341.865 Q21.4642 342.537 18.3624 345.754 Q15.2606 348.949 9.61246 354.713 Z\" fill=\"#000000\" fill-rule=\"nonzero\" fill-opacity=\"1\" /><path clip-path=\"url(#clip320)\" d=\"M35.7929 324.088 L54.1493 324.088 L54.1493 328.023 L40.0753 328.023 L40.0753 336.495 Q41.0938 336.148 42.1123 335.986 Q43.1308 335.801 44.1493 335.801 Q49.9363 335.801 53.3159 338.972 Q56.6955 342.143 56.6955 347.56 Q56.6955 353.138 53.2233 356.24 Q49.7511 359.319 43.4317 359.319 Q41.2558 359.319 38.9873 358.949 Q36.7419 358.578 34.3346 357.837 L34.3346 353.138 Q36.4179 354.273 38.6401 354.828 Q40.8623 355.384 43.3391 355.384 Q47.3437 355.384 49.6817 353.277 Q52.0196 351.171 52.0196 347.56 Q52.0196 343.949 49.6817 341.842 Q47.3437 339.736 43.3391 339.736 Q41.4641 339.736 39.5892 340.152 Q37.7373 340.569 35.7929 341.449 L35.7929 324.088 Z\" fill=\"#000000\" fill-rule=\"nonzero\" fill-opacity=\"1\" /><path clip-path=\"url(#clip320)\" d=\"M6057.52 27.2059 L6041.11 49.2833 L6058.37 72.576 L6049.58 72.576 L6036.37 54.752 L6023.17 72.576 L6014.38 72.576 L6032 48.8377 L6015.87 27.2059 L6024.67 27.2059 L6036.7 43.369 L6048.73 27.2059 L6057.52 27.2059 Z\" fill=\"#000000\" fill-rule=\"nonzero\" fill-opacity=\"1\" /><path clip-path=\"url(#clip320)\" d=\"M6099.81 12.096 L6121.81 34.6595 L6113.66 34.6595 L6095.84 18.6585 L6078.02 34.6595 L6069.87 34.6595 L6091.87 12.096 L6099.81 12.096 Z\" fill=\"#000000\" fill-rule=\"nonzero\" fill-opacity=\"1\" /><path clip-path=\"url(#clip320)\" d=\"M6146.52 65.6895 L6175.08 65.6895 L6175.08 72.576 L6136.67 72.576 L6136.67 65.6895 Q6141.33 60.8689 6149.35 52.7671 Q6157.41 44.6248 6159.48 42.2752 Q6163.41 37.8598 6164.95 34.8216 Q6166.53 31.7429 6166.53 28.7857 Q6166.53 23.9651 6163.13 20.927 Q6159.76 17.8888 6154.33 17.8888 Q6150.49 17.8888 6146.19 19.2256 Q6141.94 20.5624 6137.08 23.2765 L6137.08 15.0127 Q6142.02 13.0277 6146.31 12.015 Q6150.61 11.0023 6154.17 11.0023 Q6163.57 11.0023 6169.16 15.7013 Q6174.75 20.4004 6174.75 28.2591 Q6174.75 31.9859 6173.33 35.3482 Q6171.96 38.6699 6168.27 43.2069 Q6167.26 44.3817 6161.83 50.0125 Q6156.4 55.6027 6146.52 65.6895 Z\" fill=\"#000000\" fill-rule=\"nonzero\" fill-opacity=\"1\" /><polyline clip-path=\"url(#clip322)\" style=\"stroke:#009af9; stroke-linecap:round; stroke-linejoin:round; stroke-width:4; stroke-opacity:1; fill:none\" stroke-dasharray=\"16, 10\" points=\"568.282,341.368 1673.57,2956.11 2778.86,4989.81 3884.15,6442.44 4989.44,7314.02 6094.73,7604.55 7200.01,7314.02 8305.3,6442.44 9410.59,4989.81 10515.9,2956.11 11621.2,341.368 \"/>\n",
       "<circle clip-path=\"url(#clip322)\" cx=\"568.282\" cy=\"341.368\" r=\"14.4\" fill=\"#009af9\" fill-rule=\"evenodd\" fill-opacity=\"1\" stroke=\"#000000\" stroke-opacity=\"1\" stroke-width=\"16\"/>\n",
       "<circle clip-path=\"url(#clip322)\" cx=\"1673.57\" cy=\"2956.11\" r=\"14.4\" fill=\"#009af9\" fill-rule=\"evenodd\" fill-opacity=\"1\" stroke=\"#000000\" stroke-opacity=\"1\" stroke-width=\"16\"/>\n",
       "<circle clip-path=\"url(#clip322)\" cx=\"2778.86\" cy=\"4989.81\" r=\"14.4\" fill=\"#009af9\" fill-rule=\"evenodd\" fill-opacity=\"1\" stroke=\"#000000\" stroke-opacity=\"1\" stroke-width=\"16\"/>\n",
       "<circle clip-path=\"url(#clip322)\" cx=\"3884.15\" cy=\"6442.44\" r=\"14.4\" fill=\"#009af9\" fill-rule=\"evenodd\" fill-opacity=\"1\" stroke=\"#000000\" stroke-opacity=\"1\" stroke-width=\"16\"/>\n",
       "<circle clip-path=\"url(#clip322)\" cx=\"4989.44\" cy=\"7314.02\" r=\"14.4\" fill=\"#009af9\" fill-rule=\"evenodd\" fill-opacity=\"1\" stroke=\"#000000\" stroke-opacity=\"1\" stroke-width=\"16\"/>\n",
       "<circle clip-path=\"url(#clip322)\" cx=\"6094.73\" cy=\"7604.55\" r=\"14.4\" fill=\"#009af9\" fill-rule=\"evenodd\" fill-opacity=\"1\" stroke=\"#000000\" stroke-opacity=\"1\" stroke-width=\"16\"/>\n",
       "<circle clip-path=\"url(#clip322)\" cx=\"7200.01\" cy=\"7314.02\" r=\"14.4\" fill=\"#009af9\" fill-rule=\"evenodd\" fill-opacity=\"1\" stroke=\"#000000\" stroke-opacity=\"1\" stroke-width=\"16\"/>\n",
       "<circle clip-path=\"url(#clip322)\" cx=\"8305.3\" cy=\"6442.44\" r=\"14.4\" fill=\"#009af9\" fill-rule=\"evenodd\" fill-opacity=\"1\" stroke=\"#000000\" stroke-opacity=\"1\" stroke-width=\"16\"/>\n",
       "<circle clip-path=\"url(#clip322)\" cx=\"9410.59\" cy=\"4989.81\" r=\"14.4\" fill=\"#009af9\" fill-rule=\"evenodd\" fill-opacity=\"1\" stroke=\"#000000\" stroke-opacity=\"1\" stroke-width=\"16\"/>\n",
       "<circle clip-path=\"url(#clip322)\" cx=\"10515.9\" cy=\"2956.11\" r=\"14.4\" fill=\"#009af9\" fill-rule=\"evenodd\" fill-opacity=\"1\" stroke=\"#000000\" stroke-opacity=\"1\" stroke-width=\"16\"/>\n",
       "<circle clip-path=\"url(#clip322)\" cx=\"11621.2\" cy=\"341.368\" r=\"14.4\" fill=\"#009af9\" fill-rule=\"evenodd\" fill-opacity=\"1\" stroke=\"#000000\" stroke-opacity=\"1\" stroke-width=\"16\"/>\n",
       "<path clip-path=\"url(#clip320)\" d=\"M10338.2 7565.82 L11562.2 7565.82 L11562.2 7462.14 L10338.2 7462.14  Z\" fill=\"#ffffff\" fill-rule=\"evenodd\" fill-opacity=\"1\"/>\n",
       "<polyline clip-path=\"url(#clip320)\" style=\"stroke:#000000; stroke-linecap:round; stroke-linejoin:round; stroke-width:4; stroke-opacity:1; fill:none\" points=\"10338.2,7565.82 11562.2,7565.82 11562.2,7462.14 10338.2,7462.14 10338.2,7565.82 \"/>\n",
       "<polyline clip-path=\"url(#clip320)\" style=\"stroke:#009af9; stroke-linecap:round; stroke-linejoin:round; stroke-width:4; stroke-opacity:1; fill:none\" stroke-dasharray=\"16, 10\" points=\"10468.4,7513.98 11249.4,7513.98 \"/>\n",
       "<circle clip-path=\"url(#clip320)\" cx=\"10858.9\" cy=\"7513.98\" r=\"20.48\" fill=\"#009af9\" fill-rule=\"evenodd\" fill-opacity=\"1\" stroke=\"#000000\" stroke-opacity=\"1\" stroke-width=\"22.7556\"/>\n",
       "<path clip-path=\"url(#clip320)\" d=\"M11393.5 7533.66 Q11391.6 7538.29 11389.9 7539.7 Q11388.2 7541.12 11385.4 7541.12 L11381.9 7541.12 L11381.9 7537.55 L11384.4 7537.55 Q11386.2 7537.55 11387.2 7536.72 Q11388.2 7535.88 11389.3 7532.78 L11390.1 7530.84 L11379.6 7505.33 L11384.1 7505.33 L11392.2 7525.61 L11400.3 7505.33 L11404.8 7505.33 L11393.5 7533.66 Z\" fill=\"#000000\" fill-rule=\"nonzero\" fill-opacity=\"1\" /><path clip-path=\"url(#clip320)\" d=\"M11412.1 7527.32 L11419.8 7527.32 L11419.8 7500.95 L11411.5 7502.62 L11411.5 7498.36 L11419.7 7496.7 L11424.4 7496.7 L11424.4 7527.32 L11432 7527.32 L11432 7531.26 L11412.1 7531.26 L11412.1 7527.32 Z\" fill=\"#000000\" fill-rule=\"nonzero\" fill-opacity=\"1\" /></svg>\n"
      ]
     },
     "execution_count": 10,
     "metadata": {},
     "output_type": "execute_result"
    }
   ],
   "source": [
    "using Plots\n",
    "\n",
    "# x = [-5,-4,-3,-2,-1,0,1,2,3,4,5]\n",
    "x = collect(range(-5.0,stop=5.0,step=1.0)) \n",
    "y = x.^2\n",
    "\n",
    "plot(x,y,title=\"x^2\",linestyle=:dash,markershape=:circle,size=(3000,2000))"
   ]
  },
  {
   "cell_type": "markdown",
   "metadata": {
    "slideshow": {
     "slide_type": "skip"
    }
   },
   "source": [
    "## Types and Lists\n",
    "\n",
    "- Types: a data property for variables (objects), such as `int`, `float`, `str`, `bool`, etc.\n",
    "\n",
    "- Lists: a data structure to group (any) variables/objects\n",
    "\n",
    "- Index for a N-size list starts from 0 to N-1.\n",
    "\n",
    "NOTE: A NumPy array can group numbers only and has its own type `numpy.ndarray`."
   ]
  },
  {
   "cell_type": "code",
   "execution_count": null,
   "metadata": {
    "slideshow": {
     "slide_type": "skip"
    }
   },
   "outputs": [],
   "source": [
    "x = [10.0, 'foo', False] # 0: float, 1: str, 2: bool\n",
    "print(type(x[0]))\n",
    "print(type(x))\n",
    "\n",
    "y = np.zeros(3) # A numpy array accepts numbers (float64) only\n",
    "y[0] = 10\n",
    "# y[1] = 'foo'  # error\n",
    "print(type(y[0]))\n",
    "print(type(y))"
   ]
  },
  {
   "cell_type": "markdown",
   "metadata": {
    "slideshow": {
     "slide_type": "subslide"
    }
   },
   "source": [
    "# Exercise\n",
    "\n",
    "- Suppose we want to simulate $\\varepsilon_t \\sim N(0,\\sigma^2)$ for $t=1,2,...,T$, and plot the sequence of $\\{\\varepsilon_t\\}$."
   ]
  },
  {
   "cell_type": "code",
   "execution_count": 3,
   "metadata": {
    "slideshow": {
     "slide_type": "skip"
    }
   },
   "outputs": [
    {
     "data": {
      "image/svg+xml": [
       "<?xml version=\"1.0\" encoding=\"utf-8\"?>\n",
       "<svg xmlns=\"http://www.w3.org/2000/svg\" xmlns:xlink=\"http://www.w3.org/1999/xlink\" width=\"150\" height=\"100\" viewBox=\"0 0 600 400\">\n",
       "<defs>\n",
       "  <clipPath id=\"clip300\">\n",
       "    <rect x=\"0\" y=\"0\" width=\"600\" height=\"400\"/>\n",
       "  </clipPath>\n",
       "</defs>\n",
       "<path clip-path=\"url(#clip300)\" d=\"\n",
       "M0 400 L600 400 L600 0 L0 0  Z\n",
       "  \" fill=\"#ffffff\" fill-rule=\"evenodd\" fill-opacity=\"1\"/>\n",
       "<defs>\n",
       "  <clipPath id=\"clip301\">\n",
       "    <rect x=\"120\" y=\"0\" width=\"421\" height=\"400\"/>\n",
       "  </clipPath>\n",
       "</defs>\n",
       "<path clip-path=\"url(#clip300)\" d=\"\n",
       "M35.6137 371.612 L588.189 371.612 L588.189 11.811 L35.6137 11.811  Z\n",
       "  \" fill=\"#ffffff\" fill-rule=\"evenodd\" fill-opacity=\"1\"/>\n",
       "<defs>\n",
       "  <clipPath id=\"clip302\">\n",
       "    <rect x=\"35\" y=\"11\" width=\"554\" height=\"361\"/>\n",
       "  </clipPath>\n",
       "</defs>\n",
       "<polyline clip-path=\"url(#clip302)\" style=\"stroke:#000000; stroke-width:0.5; stroke-opacity:0.1; fill:none\" points=\"\n",
       "  45.987,371.612 45.987,11.811 \n",
       "  \"/>\n",
       "<polyline clip-path=\"url(#clip302)\" style=\"stroke:#000000; stroke-width:0.5; stroke-opacity:0.1; fill:none\" points=\"\n",
       "  177.628,371.612 177.628,11.811 \n",
       "  \"/>\n",
       "<polyline clip-path=\"url(#clip302)\" style=\"stroke:#000000; stroke-width:0.5; stroke-opacity:0.1; fill:none\" points=\"\n",
       "  309.269,371.612 309.269,11.811 \n",
       "  \"/>\n",
       "<polyline clip-path=\"url(#clip302)\" style=\"stroke:#000000; stroke-width:0.5; stroke-opacity:0.1; fill:none\" points=\"\n",
       "  440.909,371.612 440.909,11.811 \n",
       "  \"/>\n",
       "<polyline clip-path=\"url(#clip302)\" style=\"stroke:#000000; stroke-width:0.5; stroke-opacity:0.1; fill:none\" points=\"\n",
       "  572.55,371.612 572.55,11.811 \n",
       "  \"/>\n",
       "<polyline clip-path=\"url(#clip300)\" style=\"stroke:#000000; stroke-width:1; stroke-opacity:1; fill:none\" points=\"\n",
       "  35.6137,371.612 588.189,371.612 \n",
       "  \"/>\n",
       "<polyline clip-path=\"url(#clip300)\" style=\"stroke:#000000; stroke-width:1; stroke-opacity:1; fill:none\" points=\"\n",
       "  45.987,371.612 45.987,367.294 \n",
       "  \"/>\n",
       "<polyline clip-path=\"url(#clip300)\" style=\"stroke:#000000; stroke-width:1; stroke-opacity:1; fill:none\" points=\"\n",
       "  177.628,371.612 177.628,367.294 \n",
       "  \"/>\n",
       "<polyline clip-path=\"url(#clip300)\" style=\"stroke:#000000; stroke-width:1; stroke-opacity:1; fill:none\" points=\"\n",
       "  309.269,371.612 309.269,367.294 \n",
       "  \"/>\n",
       "<polyline clip-path=\"url(#clip300)\" style=\"stroke:#000000; stroke-width:1; stroke-opacity:1; fill:none\" points=\"\n",
       "  440.909,371.612 440.909,367.294 \n",
       "  \"/>\n",
       "<polyline clip-path=\"url(#clip300)\" style=\"stroke:#000000; stroke-width:1; stroke-opacity:1; fill:none\" points=\"\n",
       "  572.55,371.612 572.55,367.294 \n",
       "  \"/>\n",
       "<path clip-path=\"url(#clip300)\" d=\"M 0 0 M45.987 378.91 Q45.0842 378.91 44.627 379.801 Q44.1757 380.686 44.1757 382.469 Q44.1757 384.245 44.627 385.136 Q45.0842 386.022 45.987 386.022 Q46.8956 386.022 47.3469 385.136 Q47.8041 384.245 47.8041 382.469 Q47.8041 380.686 47.3469 379.801 Q46.8956 378.91 45.987 378.91 M45.987 377.984 Q47.4395 377.984 48.2034 379.135 Q48.9731 380.281 48.9731 382.469 Q48.9731 384.65 48.2034 385.802 Q47.4395 386.948 45.987 386.948 Q44.5345 386.948 43.7648 385.802 Q43.0009 384.65 43.0009 382.469 Q43.0009 380.281 43.7648 379.135 Q44.5345 377.984 45.987 377.984 Z\" fill=\"#000000\" fill-rule=\"evenodd\" fill-opacity=\"1\" /><path clip-path=\"url(#clip300)\" d=\"M 0 0 M173.039 385.796 L177.118 385.796 L177.118 386.78 L171.632 386.78 L171.632 385.796 Q172.298 385.108 173.444 383.95 Q174.595 382.787 174.891 382.451 Q175.452 381.821 175.672 381.386 Q175.897 380.947 175.897 380.524 Q175.897 379.836 175.411 379.402 Q174.931 378.968 174.156 378.968 Q173.606 378.968 172.992 379.158 Q172.385 379.349 171.69 379.737 L171.69 378.557 Q172.396 378.273 173.01 378.128 Q173.623 377.984 174.132 377.984 Q175.475 377.984 176.274 378.655 Q177.072 379.326 177.072 380.449 Q177.072 380.981 176.87 381.462 Q176.673 381.936 176.146 382.584 Q176.002 382.752 175.226 383.557 Q174.451 384.355 173.039 385.796 Z\" fill=\"#000000\" fill-rule=\"evenodd\" fill-opacity=\"1\" /><path clip-path=\"url(#clip300)\" d=\"M 0 0 M178.397 378.14 L182.987 378.14 L182.987 379.124 L179.468 379.124 L179.468 381.242 Q179.723 381.155 179.977 381.114 Q180.232 381.068 180.487 381.068 Q181.933 381.068 182.778 381.861 Q183.623 382.654 183.623 384.008 Q183.623 385.403 182.755 386.178 Q181.887 386.948 180.307 386.948 Q179.763 386.948 179.196 386.855 Q178.635 386.763 178.033 386.577 L178.033 385.403 Q178.554 385.686 179.109 385.825 Q179.665 385.964 180.284 385.964 Q181.285 385.964 181.87 385.437 Q182.454 384.911 182.454 384.008 Q182.454 383.105 181.87 382.579 Q181.285 382.052 180.284 382.052 Q179.815 382.052 179.346 382.156 Q178.884 382.26 178.397 382.48 L178.397 378.14 Z\" fill=\"#000000\" fill-rule=\"evenodd\" fill-opacity=\"1\" /><path clip-path=\"url(#clip300)\" d=\"M 0 0 M303.461 378.14 L308.05 378.14 L308.05 379.124 L304.532 379.124 L304.532 381.242 Q304.786 381.155 305.041 381.114 Q305.296 381.068 305.55 381.068 Q306.997 381.068 307.842 381.861 Q308.687 382.654 308.687 384.008 Q308.687 385.403 307.819 386.178 Q306.951 386.948 305.371 386.948 Q304.827 386.948 304.26 386.855 Q303.699 386.763 303.097 386.577 L303.097 385.403 Q303.618 385.686 304.173 385.825 Q304.729 385.964 305.348 385.964 Q306.349 385.964 306.933 385.437 Q307.518 384.911 307.518 384.008 Q307.518 383.105 306.933 382.579 Q306.349 382.052 305.348 382.052 Q304.879 382.052 304.41 382.156 Q303.947 382.26 303.461 382.48 L303.461 378.14 Z\" fill=\"#000000\" fill-rule=\"evenodd\" fill-opacity=\"1\" /><path clip-path=\"url(#clip300)\" d=\"M 0 0 M312.454 378.91 Q311.551 378.91 311.094 379.801 Q310.643 380.686 310.643 382.469 Q310.643 384.245 311.094 385.136 Q311.551 386.022 312.454 386.022 Q313.363 386.022 313.814 385.136 Q314.271 384.245 314.271 382.469 Q314.271 380.686 313.814 379.801 Q313.363 378.91 312.454 378.91 M312.454 377.984 Q313.907 377.984 314.671 379.135 Q315.44 380.281 315.44 382.469 Q315.44 384.65 314.671 385.802 Q313.907 386.948 312.454 386.948 Q311.002 386.948 310.232 385.802 Q309.468 384.65 309.468 382.469 Q309.468 380.281 310.232 379.135 Q311.002 377.984 312.454 377.984 Z\" fill=\"#000000\" fill-rule=\"evenodd\" fill-opacity=\"1\" /><path clip-path=\"url(#clip300)\" d=\"M 0 0 M434.879 378.14 L440.435 378.14 L440.435 378.638 L437.298 386.78 L436.077 386.78 L439.029 379.124 L434.879 379.124 L434.879 378.14 Z\" fill=\"#000000\" fill-rule=\"evenodd\" fill-opacity=\"1\" /><path clip-path=\"url(#clip300)\" d=\"M 0 0 M441.714 378.14 L446.303 378.14 L446.303 379.124 L442.784 379.124 L442.784 381.242 Q443.039 381.155 443.294 381.114 Q443.548 381.068 443.803 381.068 Q445.25 381.068 446.094 381.861 Q446.939 382.654 446.939 384.008 Q446.939 385.403 446.071 386.178 Q445.203 386.948 443.623 386.948 Q443.079 386.948 442.512 386.855 Q441.951 386.763 441.349 386.577 L441.349 385.403 Q441.87 385.686 442.425 385.825 Q442.981 385.964 443.6 385.964 Q444.601 385.964 445.186 385.437 Q445.77 384.911 445.77 384.008 Q445.77 383.105 445.186 382.579 Q444.601 382.052 443.6 382.052 Q443.131 382.052 442.663 382.156 Q442.2 382.26 441.714 382.48 L441.714 378.14 Z\" fill=\"#000000\" fill-rule=\"evenodd\" fill-opacity=\"1\" /><path clip-path=\"url(#clip300)\" d=\"M 0 0 M563.392 385.796 L565.302 385.796 L565.302 379.205 L563.224 379.621 L563.224 378.557 L565.29 378.14 L566.459 378.14 L566.459 385.796 L568.369 385.796 L568.369 386.78 L563.392 386.78 L563.392 385.796 Z\" fill=\"#000000\" fill-rule=\"evenodd\" fill-opacity=\"1\" /><path clip-path=\"url(#clip300)\" d=\"M 0 0 M572.136 378.91 Q571.234 378.91 570.776 379.801 Q570.325 380.686 570.325 382.469 Q570.325 384.245 570.776 385.136 Q571.234 386.022 572.136 386.022 Q573.045 386.022 573.496 385.136 Q573.953 384.245 573.953 382.469 Q573.953 380.686 573.496 379.801 Q573.045 378.91 572.136 378.91 M572.136 377.984 Q573.589 377.984 574.353 379.135 Q575.122 380.281 575.122 382.469 Q575.122 384.65 574.353 385.802 Q573.589 386.948 572.136 386.948 Q570.684 386.948 569.914 385.802 Q569.15 384.65 569.15 382.469 Q569.15 380.281 569.914 379.135 Q570.684 377.984 572.136 377.984 Z\" fill=\"#000000\" fill-rule=\"evenodd\" fill-opacity=\"1\" /><path clip-path=\"url(#clip300)\" d=\"M 0 0 M578.89 378.91 Q577.987 378.91 577.53 379.801 Q577.078 380.686 577.078 382.469 Q577.078 384.245 577.53 385.136 Q577.987 386.022 578.89 386.022 Q579.798 386.022 580.25 385.136 Q580.707 384.245 580.707 382.469 Q580.707 380.686 580.25 379.801 Q579.798 378.91 578.89 378.91 M578.89 377.984 Q580.342 377.984 581.106 379.135 Q581.876 380.281 581.876 382.469 Q581.876 384.65 581.106 385.802 Q580.342 386.948 578.89 386.948 Q577.437 386.948 576.668 385.802 Q575.904 384.65 575.904 382.469 Q575.904 380.281 576.668 379.135 Q577.437 377.984 578.89 377.984 Z\" fill=\"#000000\" fill-rule=\"evenodd\" fill-opacity=\"1\" /><polyline clip-path=\"url(#clip302)\" style=\"stroke:#000000; stroke-width:0.5; stroke-opacity:0.1; fill:none\" points=\"\n",
       "  35.6137,313.014 588.189,313.014 \n",
       "  \"/>\n",
       "<polyline clip-path=\"url(#clip302)\" style=\"stroke:#000000; stroke-width:0.5; stroke-opacity:0.1; fill:none\" points=\"\n",
       "  35.6137,241.801 588.189,241.801 \n",
       "  \"/>\n",
       "<polyline clip-path=\"url(#clip302)\" style=\"stroke:#000000; stroke-width:0.5; stroke-opacity:0.1; fill:none\" points=\"\n",
       "  35.6137,170.588 588.189,170.588 \n",
       "  \"/>\n",
       "<polyline clip-path=\"url(#clip302)\" style=\"stroke:#000000; stroke-width:0.5; stroke-opacity:0.1; fill:none\" points=\"\n",
       "  35.6137,99.3757 588.189,99.3757 \n",
       "  \"/>\n",
       "<polyline clip-path=\"url(#clip302)\" style=\"stroke:#000000; stroke-width:0.5; stroke-opacity:0.1; fill:none\" points=\"\n",
       "  35.6137,28.163 588.189,28.163 \n",
       "  \"/>\n",
       "<polyline clip-path=\"url(#clip300)\" style=\"stroke:#000000; stroke-width:1; stroke-opacity:1; fill:none\" points=\"\n",
       "  35.6137,371.612 35.6137,11.811 \n",
       "  \"/>\n",
       "<polyline clip-path=\"url(#clip300)\" style=\"stroke:#000000; stroke-width:1; stroke-opacity:1; fill:none\" points=\"\n",
       "  35.6137,313.014 42.2446,313.014 \n",
       "  \"/>\n",
       "<polyline clip-path=\"url(#clip300)\" style=\"stroke:#000000; stroke-width:1; stroke-opacity:1; fill:none\" points=\"\n",
       "  35.6137,241.801 42.2446,241.801 \n",
       "  \"/>\n",
       "<polyline clip-path=\"url(#clip300)\" style=\"stroke:#000000; stroke-width:1; stroke-opacity:1; fill:none\" points=\"\n",
       "  35.6137,170.588 42.2446,170.588 \n",
       "  \"/>\n",
       "<polyline clip-path=\"url(#clip300)\" style=\"stroke:#000000; stroke-width:1; stroke-opacity:1; fill:none\" points=\"\n",
       "  35.6137,99.3757 42.2446,99.3757 \n",
       "  \"/>\n",
       "<polyline clip-path=\"url(#clip300)\" style=\"stroke:#000000; stroke-width:1; stroke-opacity:1; fill:none\" points=\"\n",
       "  35.6137,28.163 42.2446,28.163 \n",
       "  \"/>\n",
       "<path clip-path=\"url(#clip300)\" d=\"M 0 0 M12.748 313.126 L20.167 313.126 L20.167 314.11 L12.748 314.11 L12.748 313.126 Z\" fill=\"#000000\" fill-rule=\"evenodd\" fill-opacity=\"1\" /><path clip-path=\"url(#clip300)\" d=\"M 0 0 M21.6369 316.35 L23.5466 316.35 L23.5466 309.758 L21.469 310.175 L21.469 309.11 L23.535 308.694 L24.704 308.694 L24.704 316.35 L26.6137 316.35 L26.6137 317.334 L21.6369 317.334 L21.6369 316.35 Z\" fill=\"#000000\" fill-rule=\"evenodd\" fill-opacity=\"1\" /><path clip-path=\"url(#clip300)\" d=\"M 0 0 M23.6276 238.251 Q22.7248 238.251 22.2677 239.142 Q21.8163 240.027 21.8163 241.81 Q21.8163 243.586 22.2677 244.477 Q22.7248 245.363 23.6276 245.363 Q24.5362 245.363 24.9875 244.477 Q25.4447 243.586 25.4447 241.81 Q25.4447 240.027 24.9875 239.142 Q24.5362 238.251 23.6276 238.251 M23.6276 237.325 Q25.0801 237.325 25.844 238.476 Q26.6137 239.622 26.6137 241.81 Q26.6137 243.991 25.844 245.143 Q25.0801 246.289 23.6276 246.289 Q22.1751 246.289 21.4054 245.143 Q20.6415 243.991 20.6415 241.81 Q20.6415 239.622 21.4054 238.476 Q22.1751 237.325 23.6276 237.325 Z\" fill=\"#000000\" fill-rule=\"evenodd\" fill-opacity=\"1\" /><path clip-path=\"url(#clip300)\" d=\"M 0 0 M21.6369 173.925 L23.5466 173.925 L23.5466 167.333 L21.469 167.75 L21.469 166.685 L23.535 166.268 L24.704 166.268 L24.704 173.925 L26.6137 173.925 L26.6137 174.908 L21.6369 174.908 L21.6369 173.925 Z\" fill=\"#000000\" fill-rule=\"evenodd\" fill-opacity=\"1\" /><path clip-path=\"url(#clip300)\" d=\"M 0 0 M22.5339 102.712 L26.6137 102.712 L26.6137 103.696 L21.1276 103.696 L21.1276 102.712 Q21.7931 102.023 22.9389 100.866 Q24.0906 99.7026 24.3857 99.367 Q24.947 98.7362 25.1669 98.3022 Q25.3926 97.8624 25.3926 97.4399 Q25.3926 96.7513 24.9065 96.3172 Q24.4262 95.8832 23.6508 95.8832 Q23.101 95.8832 22.4876 96.0742 Q21.8799 96.2652 21.1855 96.6529 L21.1855 95.4723 Q21.8915 95.1888 22.5049 95.0441 Q23.1183 94.8994 23.6276 94.8994 Q24.9702 94.8994 25.7688 95.5707 Q26.5674 96.242 26.5674 97.3647 Q26.5674 97.8971 26.3649 98.3774 Q26.1681 98.852 25.6415 99.5001 Q25.4968 99.6679 24.7213 100.472 Q23.9459 101.271 22.5339 102.712 Z\" fill=\"#000000\" fill-rule=\"evenodd\" fill-opacity=\"1\" /><path clip-path=\"url(#clip300)\" d=\"M 0 0 M24.8313 27.8245 Q25.6704 28.0039 26.1392 28.571 Q26.6137 29.1381 26.6137 29.9715 Q26.6137 31.2504 25.7341 31.9506 Q24.8544 32.6508 23.2341 32.6508 Q22.6901 32.6508 22.1114 32.5409 Q21.5385 32.4367 20.9251 32.2226 L20.9251 31.0941 Q21.4112 31.3777 21.9899 31.5224 Q22.5686 31.6671 23.1994 31.6671 Q24.2989 31.6671 24.8718 31.233 Q25.4505 30.799 25.4505 29.9715 Q25.4505 29.2076 24.9123 28.7793 Q24.3799 28.3453 23.4251 28.3453 L22.4181 28.3453 L22.4181 27.3847 L23.4714 27.3847 Q24.3336 27.3847 24.7908 27.0432 Q25.248 26.696 25.248 26.0479 Q25.248 25.3824 24.7734 25.0294 Q24.3047 24.6706 23.4251 24.6706 Q22.9447 24.6706 22.395 24.7747 Q21.8452 24.8789 21.1855 25.0988 L21.1855 24.0571 Q21.851 23.872 22.4297 23.7794 Q23.0142 23.6868 23.5292 23.6868 Q24.8602 23.6868 25.6357 24.2944 Q26.4112 24.8963 26.4112 25.9263 Q26.4112 26.6439 26.0003 27.1416 Q25.5894 27.6335 24.8313 27.8245 Z\" fill=\"#000000\" fill-rule=\"evenodd\" fill-opacity=\"1\" /><polyline clip-path=\"url(#clip302)\" style=\"stroke:#009af9; stroke-width:1; stroke-opacity:1; fill:none\" points=\"\n",
       "  51.2526,225.492 56.5183,164.451 61.7839,245.955 67.0495,274.913 72.3151,242.827 77.5808,301.114 82.8464,227.267 88.112,166.954 93.3777,178.182 98.6433,175.653 \n",
       "  103.909,248.397 109.175,55.1845 114.44,244.767 119.706,225.043 124.971,201.167 130.237,361.429 135.503,305.278 140.768,266.25 146.034,318.127 151.3,169.292 \n",
       "  156.565,304.684 161.831,143.735 167.096,266.605 172.362,158.725 177.628,321.568 182.893,141.297 188.159,329.947 193.425,200.003 198.69,348.502 203.956,332.166 \n",
       "  209.222,101.223 214.487,296.106 219.753,240.04 225.018,331.729 230.284,145.368 235.55,294.776 240.815,285.279 246.081,121.703 251.347,316.321 256.612,298.484 \n",
       "  261.878,305.074 267.143,258.854 272.409,229.911 277.675,340.11 282.94,268.116 288.206,202.377 293.472,239.732 298.737,216.321 304.003,290.044 309.269,349.226 \n",
       "  314.534,214.867 319.8,275.449 325.065,280.636 330.331,311.302 335.597,337.74 340.862,257.951 346.128,289.65 351.394,247.696 356.659,297.444 361.925,244.362 \n",
       "  367.19,301.346 372.456,342.641 377.722,304.527 382.987,214.265 388.253,283.445 393.519,152.973 398.784,283.897 404.05,244.84 409.316,181.488 414.581,88.0616 \n",
       "  419.847,323.91 425.112,321.762 430.378,127.394 435.644,202.283 440.909,257.413 446.175,157.093 451.441,208.195 456.706,213.06 461.972,287.831 467.237,263.598 \n",
       "  472.503,273.806 477.769,334.87 483.034,233.986 488.3,211.31 493.566,228.749 498.831,225.29 504.097,279.872 509.362,143.654 514.628,334.717 519.894,251.978 \n",
       "  525.159,297.161 530.425,236.79 535.691,259.933 540.956,139.485 546.222,294.128 551.488,255.224 556.753,263.336 562.019,21.9941 567.284,285.179 572.55,333.676 \n",
       "  \n",
       "  \"/>\n",
       "<path clip-path=\"url(#clip300)\" d=\"\n",
       "M495.618 54.0444 L569.77 54.0444 L569.77 23.8044 L495.618 23.8044  Z\n",
       "  \" fill=\"#ffffff\" fill-rule=\"evenodd\" fill-opacity=\"1\"/>\n",
       "<polyline clip-path=\"url(#clip300)\" style=\"stroke:#000000; stroke-width:1; stroke-opacity:1; fill:none\" points=\"\n",
       "  495.618,54.0444 569.77,54.0444 569.77,23.8044 495.618,23.8044 495.618,54.0444 \n",
       "  \"/>\n",
       "<polyline clip-path=\"url(#clip300)\" style=\"stroke:#009af9; stroke-width:1; stroke-opacity:1; fill:none\" points=\"\n",
       "  501.758,38.9244 538.596,38.9244 \n",
       "  \"/>\n",
       "<path clip-path=\"url(#clip300)\" d=\"M 0 0 M548.196 43.8462 Q547.745 45.0036 547.317 45.3566 Q546.889 45.7097 546.171 45.7097 L545.32 45.7097 L545.32 44.8185 L545.945 44.8185 Q546.385 44.8185 546.628 44.6101 Q546.871 44.4018 547.166 43.6263 L547.357 43.1402 L544.736 36.7629 L545.864 36.7629 L547.89 41.8324 L549.915 36.7629 L551.044 36.7629 L548.196 43.8462 Z\" fill=\"#000000\" fill-rule=\"evenodd\" fill-opacity=\"1\" /><path clip-path=\"url(#clip300)\" d=\"M 0 0 M552.514 42.2606 L554.423 42.2606 L554.423 35.6692 L552.346 36.0859 L552.346 35.0211 L554.412 34.6044 L555.581 34.6044 L555.581 42.2606 L557.49 42.2606 L557.49 43.2444 L552.514 43.2444 L552.514 42.2606 Z\" fill=\"#000000\" fill-rule=\"evenodd\" fill-opacity=\"1\" /></svg>\n"
      ]
     },
     "execution_count": 3,
     "metadata": {},
     "output_type": "execute_result"
    }
   ],
   "source": [
    "using Random\n",
    "using Plots\n",
    "\n",
    "T = 100\n",
    "epsilon_vec = randn(T)\n",
    "    \n",
    "plot(epsilon_vec)"
   ]
  },
  {
   "cell_type": "markdown",
   "metadata": {
    "slideshow": {
     "slide_type": "skip"
    }
   },
   "source": [
    "- More exercises are found at [https://python-programming.quantecon.org/python_by_example.html](https://python-programming.quantecon.org/python_by_example.html)."
   ]
  }
 ],
 "metadata": {
  "celltoolbar": "Slideshow",
  "kernelspec": {
   "display_name": "Julia 1.8.3",
   "language": "julia",
   "name": "julia-1.8"
  },
  "language_info": {
   "file_extension": ".jl",
   "mimetype": "application/julia",
   "name": "julia",
   "version": "1.8.3"
  }
 },
 "nbformat": 4,
 "nbformat_minor": 4
}

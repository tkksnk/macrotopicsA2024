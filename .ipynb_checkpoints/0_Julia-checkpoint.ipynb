{
 "cells": [
  {
   "cell_type": "markdown",
   "metadata": {
    "slideshow": {
     "slide_type": "slide"
    }
   },
   "source": [
    "# Using Julia for Economic Analysis\n",
    "\n",
    "June 2021, revised September 2024, Takeki Sunakawa"
   ]
  },
  {
   "cell_type": "markdown",
   "metadata": {
    "slideshow": {
     "slide_type": "slide"
    }
   },
   "source": [
    "# Computer programming in Economics\n",
    "\n",
    "- Necessary?"
   ]
  },
  {
   "cell_type": "markdown",
   "metadata": {
    "slideshow": {
     "slide_type": "fragment"
    }
   },
   "source": [
    "- Yes, especially for Macro (also for Econometrics, IO, etc.)"
   ]
  },
  {
   "cell_type": "markdown",
   "metadata": {
    "slideshow": {
     "slide_type": "fragment"
    }
   },
   "source": [
    "- People have used Matlab, R, and Fortran."
   ]
  },
  {
   "cell_type": "markdown",
   "metadata": {
    "slideshow": {
     "slide_type": "fragment"
    }
   },
   "source": [
    "- Recently other alternatives, such as Python and Julia, are available."
   ]
  },
  {
   "cell_type": "markdown",
   "metadata": {
    "slideshow": {
     "slide_type": "subslide"
    }
   },
   "source": [
    "# Necessity for Julia\n",
    "\n",
    "<!-- - ... partly due to COVID-19. -->\n",
    "<!--- Hitotsubashi University has an enterprise license for Matlab, but it cannot be used remotely.-->"
   ]
  },
  {
   "cell_type": "markdown",
   "metadata": {
    "slideshow": {
     "slide_type": "fragment"
    }
   },
   "source": [
    "- __Julia__ is free, and remotely accessible."
   ]
  },
  {
   "cell_type": "markdown",
   "metadata": {
    "slideshow": {
     "slide_type": "fragment"
    }
   },
   "source": [
    "- My talk below is based on lecture notes by John Stachurski, one of the founders of QuantEcon [https://quantecon.org/](https://quantecon.org/)."
   ]
  },
  {
   "cell_type": "markdown",
   "metadata": {
    "slideshow": {
     "slide_type": "subslide"
    }
   },
   "source": [
    "# Scientific programming environments\n",
    "\n",
    "- Low-level languages: More programming, less running time\n",
    "  - C, C++\n",
    "  - Fortran"
   ]
  },
  {
   "cell_type": "markdown",
   "metadata": {
    "slideshow": {
     "slide_type": "fragment"
    }
   },
   "source": [
    "- High-level languages: Less programming, more running time\n",
    "  - MATLAB\n",
    "  - R\n",
    "  - Python\n",
    "  - Julia\n",
    "  - etc."
   ]
  },
  {
   "cell_type": "markdown",
   "metadata": {
    "slideshow": {
     "slide_type": "fragment"
    }
   },
   "source": [
    "- In Macro, MATLAB is popular. If you need speed, Fortran is alternative."
   ]
  },
  {
   "cell_type": "markdown",
   "metadata": {
    "slideshow": {
     "slide_type": "subslide"
    }
   },
   "source": [
    "# What is Julia?\n",
    "\n",
    "- A high-level, general purpose programming language"
   ]
  },
  {
   "cell_type": "markdown",
   "metadata": {
    "slideshow": {
     "slide_type": "skip"
    }
   },
   "source": [
    "- Used extensively by tech firms, finance industy, government, and academia. Also became very popular in Data Science (See [https://pypl.github.io/PYPL.html](https://pypl.github.io/PYPL.html))"
   ]
  },
  {
   "cell_type": "markdown",
   "metadata": {
    "slideshow": {
     "slide_type": "fragment"
    }
   },
   "source": [
    "- Free and open source"
   ]
  },
  {
   "cell_type": "markdown",
   "metadata": {
    "slideshow": {
     "slide_type": "fragment"
    }
   },
   "source": [
    "- A lot of **packages** for particular purposes"
   ]
  },
  {
   "cell_type": "markdown",
   "metadata": {
    "slideshow": {
     "slide_type": "subslide"
    }
   },
   "source": [
    "# Packages\n",
    "\n",
    "- We use the following packages for Julia <!--(by typing e.g. `import numpy`).-->\n",
    "\n",
    "- Packages can be installed by `import Pkg; Pkgs.add(\"$name\")` or press `]` and `add $name`"
   ]
  },
  {
   "cell_type": "markdown",
   "metadata": {
    "slideshow": {
     "slide_type": "fragment"
    }
   },
   "source": [
    "- Examples of packages:\n",
    "    - `Printf` format output (c.f., sprintf in MATLAB)\n",
    "\n",
    "    - `Random` pseudo random number generators\n",
    "\n",
    "    - `Statistics` calculate mean, standard deviation, etc.\n",
    "    \n",
    "    - `Plots` 2D and 3D figures\n",
    "    \n",
    "    - ... and more"
   ]
  },
  {
   "cell_type": "markdown",
   "metadata": {
    "slideshow": {
     "slide_type": "subslide"
    }
   },
   "source": [
    "Example: Mean and std. dev. of an array"
   ]
  },
  {
   "cell_type": "code",
   "execution_count": 1,
   "metadata": {
    "slideshow": {
     "slide_type": "fragment"
    }
   },
   "outputs": [
    {
     "name": "stdout",
     "output_type": "stream",
     "text": [
      "[0.15344234659017586, -0.020382182947976016, -0.8014782303054582, -1.0900243148708413, 0.5120478377314422]\n",
      "4.7694170474213726e-5\n",
      "1.0000604792736154\n",
      "The 1234th element of a is 0.9728\n"
     ]
    }
   ],
   "source": [
    "using Printf\n",
    "using Random\n",
    "using Statistics\n",
    "\n",
    "a = randn(100000000) # std. normal\n",
    "println(a[1:5])\n",
    "# print(np.shape(a))\n",
    "println(mean(a))\n",
    "println(std(a))  \n",
    "println(@sprintf(\"The 1234th element of a is %1.4f\",a[1234]))"
   ]
  },
  {
   "cell_type": "markdown",
   "metadata": {
    "slideshow": {
     "slide_type": "subslide"
    }
   },
   "source": [
    "# Why Julia?\n",
    "\n",
    "1. Open source (free!)"
   ]
  },
  {
   "cell_type": "markdown",
   "metadata": {
    "slideshow": {
     "slide_type": "fragment"
    }
   },
   "source": [
    "2. General purpose"
   ]
  },
  {
   "cell_type": "markdown",
   "metadata": {
    "slideshow": {
     "slide_type": "fragment"
    }
   },
   "source": [
    "3. Easy to use, well designed"
   ]
  },
  {
   "cell_type": "markdown",
   "metadata": {
    "slideshow": {
     "slide_type": "fragment"
    }
   },
   "source": [
    "4. Remotely accessible"
   ]
  },
  {
   "cell_type": "markdown",
   "metadata": {
    "slideshow": {
     "slide_type": "subslide"
    }
   },
   "source": [
    "# Interacting with Julia\n",
    "\n",
    "We will interact with Julia using Jupyter Notebook\n",
    "- A browser-based front end to Python, Julia, R, etc.\n",
    "\n",
    "- Stores output as well as input\n",
    "\n",
    "- Allows for rich text, graphics, etc.\n",
    "\n",
    "- Easy to run remotely in cloud (Google Colab, Azure Notebook)\n",
    "\n",
    "This slide deck is also based on Jupyter Notebook!"
   ]
  },
  {
   "cell_type": "markdown",
   "metadata": {
    "slideshow": {
     "slide_type": "slide"
    }
   },
   "source": [
    "# Julia 101\n",
    "\n",
    "- If you are already familiar with Matlab (or Python), just look at https://cheatsheets.quantecon.org/.\n",
    "\n",
    "## Number manipulation\n",
    "\n",
    "- `+`: addition, `-`: substruction, `*`: multiplication, `/`: division\n",
    "- `println` shows the results with starting a new line."
   ]
  },
  {
   "cell_type": "code",
   "execution_count": 1,
   "metadata": {
    "slideshow": {
     "slide_type": "fragment"
    }
   },
   "outputs": [
    {
     "name": "stdout",
     "output_type": "stream",
     "text": [
      "3\n",
      "-1\n",
      "2\n",
      "0.5\n"
     ]
    }
   ],
   "source": [
    "println(1+2)\n",
    "println(1-2)\n",
    "println(1*2)\n",
    "println(1/2)"
   ]
  },
  {
   "cell_type": "markdown",
   "metadata": {
    "slideshow": {
     "slide_type": "subslide"
    }
   },
   "source": [
    "## Variables\n",
    "\n",
    "- `=` for substitution"
   ]
  },
  {
   "cell_type": "code",
   "execution_count": 2,
   "metadata": {
    "slideshow": {
     "slide_type": "fragment"
    }
   },
   "outputs": [
    {
     "data": {
      "text/plain": [
       "0.5"
      ]
     },
     "execution_count": 2,
     "metadata": {},
     "output_type": "execute_result"
    }
   ],
   "source": [
    "a = 1.0\n",
    "b = 2.0\n",
    "a/b"
   ]
  },
  {
   "cell_type": "markdown",
   "metadata": {
    "slideshow": {
     "slide_type": "subslide"
    }
   },
   "source": [
    "## Arrays\n",
    "\n",
    "- Arrays can be made by `[]`. Commas are used to add elements.\n",
    "<!-- - Arrays are handled by NumPy package. Type `import numpy as np` prior to use. `np` is called alias. -->"
   ]
  },
  {
   "cell_type": "markdown",
   "metadata": {
    "slideshow": {
     "slide_type": "skip"
    }
   },
   "source": [
    "- Each NumPy function can be used with `np`. \n",
    "  - For example, `np.array([1,2])`makes a $(2\\times1)$ vector $[1,2]'$.\n",
    "  - `np.shape` returns the shape of the array."
   ]
  },
  {
   "cell_type": "code",
   "execution_count": 1,
   "metadata": {
    "slideshow": {
     "slide_type": "fragment"
    }
   },
   "outputs": [
    {
     "name": "stdout",
     "output_type": "stream",
     "text": [
      "[1, 2]\n",
      "(2,)\n"
     ]
    }
   ],
   "source": [
    "# An array is made by\n",
    "b = [1,2]\n",
    "println(b)\n",
    "println(size(b))"
   ]
  },
  {
   "cell_type": "markdown",
   "metadata": {
    "slideshow": {
     "slide_type": "subslide"
    }
   },
   "source": [
    "- The index for a n-size array starts from 1 to n (not from 0 to n-1).\n",
    "<!-- Arrays with size n are column vectors. Row vectors are (1xn) matrices.-->"
   ]
  },
  {
   "cell_type": "code",
   "execution_count": 7,
   "metadata": {
    "slideshow": {
     "slide_type": "fragment"
    }
   },
   "outputs": [
    {
     "name": "stdout",
     "output_type": "stream",
     "text": [
      "1\n",
      "2\n"
     ]
    },
    {
     "ename": "LoadError",
     "evalue": "BoundsError: attempt to access 2-element Vector{Int64} at index [0]",
     "output_type": "error",
     "traceback": [
      "BoundsError: attempt to access 2-element Vector{Int64} at index [0]",
      "",
      "Stacktrace:",
      " [1] getindex(A::Vector{Int64}, i1::Int64)",
      "   @ Base .\\array.jl:801",
      " [2] top-level scope",
      "   @ In[7]:4",
      " [3] eval",
      "   @ .\\boot.jl:360 [inlined]",
      " [4] include_string(mapexpr::typeof(REPL.softscope), mod::Module, code::String, filename::String)",
      "   @ Base .\\loading.jl:1094"
     ]
    }
   ],
   "source": [
    "# index in n-size array starts from 1 to n\n",
    "println(b[1])\n",
    "println(b[2])\n",
    "println(b[0])"
   ]
  },
  {
   "cell_type": "markdown",
   "metadata": {
    "slideshow": {
     "slide_type": "subslide"
    }
   },
   "source": [
    "- `collect(range(i,stop=j,step=k))` returns a vector start from i to j with increment size k.\n",
    "\n",
    "\n",
    "- `collect(LinRange(1,10,10))` returns the same vector as what `collect(range(1.0,stop=10.0,10.0))` returns (with some rounding errors) "
   ]
  },
  {
   "cell_type": "code",
   "execution_count": 3,
   "metadata": {
    "slideshow": {
     "slide_type": "fragment"
    }
   },
   "outputs": [
    {
     "name": "stdout",
     "output_type": "stream",
     "text": [
      "[1.0, 2.0, 3.0, 4.0, 5.0, 6.0, 7.0, 8.0, 9.0, 10.0]\n",
      "[1.0, 3.0, 5.0, 7.0, 9.0]\n",
      "[1.0, 2.0, 3.0, 4.0, 5.0, 6.0, 6.999999999999999, 8.0, 9.0, 10.0]\n"
     ]
    }
   ],
   "source": [
    "b = collect(range(1.0,stop=10.0,step=1.0)) # 1:10 in matlab\n",
    "println(b)\n",
    "\n",
    "b = collect(range(1.0,stop=9.0,step=2.0)) # 1:2:9 in matlab\n",
    "println(b)\n",
    "\n",
    "b = collect(LinRange(1,10,10))\n",
    "println(b)"
   ]
  },
  {
   "cell_type": "markdown",
   "metadata": {
    "slideshow": {
     "slide_type": "subslide"
    }
   },
   "source": [
    "- Broadcast: element-by-element manipulation by `.`."
   ]
  },
  {
   "cell_type": "code",
   "execution_count": 87,
   "metadata": {
    "slideshow": {
     "slide_type": "fragment"
    }
   },
   "outputs": [
    {
     "name": "stdout",
     "output_type": "stream",
     "text": [
      "[1.0, 3.0, 5.0, 7.0, 9.0]\n",
      "[1.0, 9.0, 25.0, 49.0, 81.0]\n"
     ]
    }
   ],
   "source": [
    "# broadcast\n",
    "println(b)\n",
    "buf = b.^2\n",
    "println(buf)"
   ]
  },
  {
   "cell_type": "markdown",
   "metadata": {
    "slideshow": {
     "slide_type": "subslide"
    }
   },
   "source": [
    "# Vectors and matrices\n",
    "\n",
    "- Subsets of arrays.\n",
    "- `reshape(b,n,m)` reshapes an array `b`."
   ]
  },
  {
   "cell_type": "code",
   "execution_count": 9,
   "metadata": {
    "slideshow": {
     "slide_type": "fragment"
    }
   },
   "outputs": [
    {
     "name": "stdout",
     "output_type": "stream",
     "text": [
      "(2,)\n",
      "(2, 1)\n",
      "(1, 2)\n",
      "[1 0; 2 3]\n",
      "(2, 2)\n"
     ]
    }
   ],
   "source": [
    "# array ((2x1) col vector )\n",
    "b = [1,2]\n",
    "# b = [2;1]\n",
    "println(size(b))\n",
    "\n",
    "# (2x1) col vector\n",
    "colb = reshape(b,2,1)\n",
    "println(size(colb))\n",
    "\n",
    "# (1x2) row vector\n",
    "rowb = reshape(b,1,2)\n",
    "# rowb = [1 2]\n",
    "println(size(rowb))\n",
    "\n",
    "# matrix\n",
    "A = [1 0; 2 3]\n",
    "println(A)\n",
    "println(size(A))"
   ]
  },
  {
   "cell_type": "markdown",
   "metadata": {
    "slideshow": {
     "slide_type": "subslide"
    }
   },
   "source": [
    "- `*` is also used for matrix multiplication."
   ]
  },
  {
   "cell_type": "code",
   "execution_count": 5,
   "metadata": {
    "slideshow": {
     "slide_type": "fragment"
    }
   },
   "outputs": [
    {
     "name": "stdout",
     "output_type": "stream",
     "text": [
      "[1 0; 2 3]\n",
      "[1 2]\n"
     ]
    },
    {
     "ename": "LoadError",
     "evalue": "DimensionMismatch: matrix A has dimensions (2,2), matrix B has dimensions (1,2)",
     "output_type": "error",
     "traceback": [
      "DimensionMismatch: matrix A has dimensions (2,2), matrix B has dimensions (1,2)",
      "",
      "Stacktrace:",
      " [1] _generic_matmatmul!(C::Matrix{Int64}, tA::Char, tB::Char, A::Matrix{Int64}, B::Matrix{Int64}, _add::LinearAlgebra.MulAddMul{true, true, Bool, Bool})",
      "   @ LinearAlgebra C:\\Users\\takeki\\AppData\\Local\\Programs\\Julia-1.8.3\\share\\julia\\stdlib\\v1.8\\LinearAlgebra\\src\\matmul.jl:856",
      " [2] generic_matmatmul!(C::Matrix{Int64}, tA::Char, tB::Char, A::Matrix{Int64}, B::Matrix{Int64}, _add::LinearAlgebra.MulAddMul{true, true, Bool, Bool})",
      "   @ LinearAlgebra C:\\Users\\takeki\\AppData\\Local\\Programs\\Julia-1.8.3\\share\\julia\\stdlib\\v1.8\\LinearAlgebra\\src\\matmul.jl:844",
      " [3] mul!",
      "   @ C:\\Users\\takeki\\AppData\\Local\\Programs\\Julia-1.8.3\\share\\julia\\stdlib\\v1.8\\LinearAlgebra\\src\\matmul.jl:303 [inlined]",
      " [4] mul!",
      "   @ C:\\Users\\takeki\\AppData\\Local\\Programs\\Julia-1.8.3\\share\\julia\\stdlib\\v1.8\\LinearAlgebra\\src\\matmul.jl:276 [inlined]",
      " [5] *(A::Matrix{Int64}, B::Matrix{Int64})",
      "   @ LinearAlgebra C:\\Users\\takeki\\AppData\\Local\\Programs\\Julia-1.8.3\\share\\julia\\stdlib\\v1.8\\LinearAlgebra\\src\\matmul.jl:141",
      " [6] top-level scope",
      "   @ In[5]:8"
     ]
    }
   ],
   "source": [
    "# mutiplication\n",
    "A = [1 0; 2 3] # (2x2) matrix\n",
    "println(A)\n",
    "# b = reshape([1,2],2,1)         # 2-element array is (2x1) column vector\n",
    "b = reshape([1,2],1,2)         # 2-element array is (2x1) column vector\n",
    "println(b)\n",
    "\n",
    "println(A*b)                  # (2x2) times (2x1)\n",
    "println(size(A*b))"
   ]
  },
  {
   "cell_type": "markdown",
   "metadata": {
    "slideshow": {
     "slide_type": "subslide"
    }
   },
   "source": [
    "- Slicing arrays: `b[i:j]` slices elements of b from i to j.\n",
    "\n",
    "\n",
    "- Can be applied to matrices (or arrays with higher dimensions)\n"
   ]
  },
  {
   "cell_type": "code",
   "execution_count": 48,
   "metadata": {
    "slideshow": {
     "slide_type": "fragment"
    }
   },
   "outputs": [
    {
     "name": "stdout",
     "output_type": "stream",
     "text": [
      "[1.0, 2.0, 3.0, 4.0, 5.0, 6.0, 7.0, 8.0, 9.0, 10.0]\n",
      "[1.0, 2.0]\n",
      "[1 0; 2 3; 4 5]\n",
      "[1 0; 2 3]\n"
     ]
    }
   ],
   "source": [
    "b = collect(range(1.0,stop=10.0,step=1.0)) # 1:10 in Matlab\n",
    "println(b)\n",
    "println(b[1:2])         # b(1:2) in Matlab\n",
    "\n",
    "A = [1 0; 2 3; 4 5]\n",
    "println(A)\n",
    "println(A[1:2,:])       # A(1:2,:) in Matlab "
   ]
  },
  {
   "cell_type": "markdown",
   "metadata": {
    "slideshow": {
     "slide_type": "subslide"
    }
   },
   "source": [
    "- Other useful commands: `zeros`, `transpose`, `inv`, etc."
   ]
  },
  {
   "cell_type": "code",
   "execution_count": 55,
   "metadata": {
    "slideshow": {
     "slide_type": "fragment"
    }
   },
   "outputs": [
    {
     "name": "stdout",
     "output_type": "stream",
     "text": [
      "[0.0, 0.0]\n",
      "[0.0 0.0; 0.0 0.0]\n",
      "[1 0; 0 1]\n",
      "[1 2; 0 3]\n",
      "[1.0 0.0; -0.6666666666666666 0.3333333333333333]\n"
     ]
    }
   ],
   "source": [
    "# zeros\n",
    "println(zeros(2))\n",
    "println(zeros((2,2)))\n",
    "\n",
    "# identity\n",
    "println([1 0; 0 1]) # eyes(2)\n",
    "\n",
    "# transpose\n",
    "A = [1 0; 2 3] # (2x2) matrix\n",
    "trA = transpose(A)\n",
    "# trA = A'\n",
    "println(trA)\n",
    "\n",
    "# inverse\n",
    "invA = inv(A)\n",
    "println(invA)"
   ]
  },
  {
   "cell_type": "code",
   "execution_count": null,
   "metadata": {
    "slideshow": {
     "slide_type": "skip"
    }
   },
   "outputs": [],
   "source": [
    "# An array is made by\n",
    "b = np.array([1,2])\n",
    "print(b)\n",
    "\n",
    "# which is different from row vector (1x2)\n",
    "rowb = np.array([1,2]).reshape(1,2)\n",
    "print(np.shape(rowb))\n",
    "\n",
    "# NOTE: transposing an array is ...\n",
    "trb = b.T # still array\n",
    "print(np.shape(trb))\n",
    "\n",
    "trrowb = rowb.T # transposing a row vector makes a column vector\n",
    "print(np.shape(trrowb))\n"
   ]
  },
  {
   "cell_type": "markdown",
   "metadata": {
    "slideshow": {
     "slide_type": "subslide"
    }
   },
   "source": [
    "## Loops\n",
    "### For loops:\n",
    "\n",
    "- A code block that iterates a procedure for a certain number of times.\n",
    "\n",
    "- The following code calculates 0+1+2+3+4=10.\n",
    "\n",
    "- The sum is equal to 0+0=0, 0+1=1, 1+2=3, 3+3=6, 6+4=10 in each loop."
   ]
  },
  {
   "cell_type": "code",
   "execution_count": 6,
   "metadata": {
    "slideshow": {
     "slide_type": "fragment"
    }
   },
   "outputs": [
    {
     "name": "stdout",
     "output_type": "stream",
     "text": [
      "0\n",
      "1\n",
      "3\n",
      "6\n",
      "10\n",
      "10\n"
     ]
    }
   ],
   "source": [
    "sum = 0 # initial value\n",
    "for i in 0:4 # i=0,1,2,3,4\n",
    "    sum = sum + i        # add i to the previous sum\n",
    "    println(sum)\n",
    "end\n",
    "println(sum)"
   ]
  },
  {
   "cell_type": "markdown",
   "metadata": {
    "slideshow": {
     "slide_type": "skip"
    }
   },
   "source": [
    "- Code blocks are preceded with colon `:` and delimited by indentations (= __4 spaces__)."
   ]
  },
  {
   "cell_type": "markdown",
   "metadata": {
    "slideshow": {
     "slide_type": "skip"
    }
   },
   "source": [
    "- NOTE: Tabs and spaces are different."
   ]
  },
  {
   "cell_type": "markdown",
   "metadata": {
    "slideshow": {
     "slide_type": "subslide"
    }
   },
   "source": [
    "### While loops: \n",
    "\n",
    "- A code block that iterates a procedure until a certain conditon is met.\n",
    "\n",
    "- The following code, again, calculates 0+1+2+3+4=10."
   ]
  },
  {
   "cell_type": "code",
   "execution_count": 57,
   "metadata": {
    "slideshow": {
     "slide_type": "fragment"
    }
   },
   "outputs": [
    {
     "name": "stdout",
     "output_type": "stream",
     "text": [
      "[0, 0]\n",
      "[1, 1]\n",
      "[2, 3]\n",
      "[3, 6]\n",
      "[4, 10]\n",
      "10\n"
     ]
    }
   ],
   "source": [
    "sum = 0 # initial value of sum\n",
    "i = 0   # initial value of i\n",
    "while i<5 # i=0,1,2,3,4\n",
    "    sum = sum + i # add i to the previous sum\n",
    "    println([i,sum])\n",
    "    i = i + 1 # i is increased here\n",
    "end\n",
    "println(sum)"
   ]
  },
  {
   "cell_type": "markdown",
   "metadata": {
    "slideshow": {
     "slide_type": "subslide"
    }
   },
   "source": [
    "## If clause\n",
    "\n",
    "- If the condition is true, we execute a certain procedure. Otherwise, we do nothing or execute another procedure."
   ]
  },
  {
   "cell_type": "code",
   "execution_count": 62,
   "metadata": {
    "slideshow": {
     "slide_type": "fragment"
    }
   },
   "outputs": [
    {
     "name": "stdout",
     "output_type": "stream",
     "text": [
      "a is greater than b.\n"
     ]
    }
   ],
   "source": [
    "a = 3; b = 4;\n",
    "if (a<b)\n",
    "    println(\"a is greater than b.\")\n",
    "else\n",
    "    println(\"b is greater than or equal to a.\")\n",
    "end"
   ]
  },
  {
   "cell_type": "markdown",
   "metadata": {
    "slideshow": {
     "slide_type": "subslide"
    }
   },
   "source": [
    "# Displaying results\n",
    "\n",
    "- `println` shows the results.\n",
    "\n",
    "- `@sprintf` with a certain format can be used to substitute numbers into strings (like sprintf in Matlab).\n",
    "  - For example, `%1.4f` prints a number with the float type.\n",
    "  - You need to install `Printf` package. Need to load the package by `using Printf`."
   ]
  },
  {
   "cell_type": "code",
   "execution_count": 63,
   "metadata": {
    "slideshow": {
     "slide_type": "fragment"
    }
   },
   "outputs": [
    {
     "name": "stdout",
     "output_type": "stream",
     "text": [
      "[1, 2]\n",
      "x is equal to 1.5000"
     ]
    }
   ],
   "source": [
    "using Printf\n",
    "\n",
    "a = [1,2]\n",
    "println(a)\n",
    "\n",
    "x = 1.5\n",
    "buf = @sprintf(\"x is equal to %1.4f\",x) \n",
    "print(buf)"
   ]
  },
  {
   "cell_type": "markdown",
   "metadata": {
    "slideshow": {
     "slide_type": "subslide"
    }
   },
   "source": [
    "# Figures\n",
    "\n",
    "- `Plot` package is used to plot figures. Need to load the package by `using Plot`.\n",
    "  - A format for line and dots can be specified."
   ]
  },
  {
   "cell_type": "code",
   "execution_count": null,
   "metadata": {
    "slideshow": {
     "slide_type": "fragment"
    }
   },
   "outputs": [],
   "source": [
    "using Plots\n",
    "\n",
    "# x = [-5,-4,-3,-2,-1,0,1,2,3,4,5]\n",
    "x = collect(range(-5.0,stop=5.0,step=1.0)) _"
   ]
  },
  {
   "cell_type": "code",
   "execution_count": null,
   "metadata": {
    "slideshow": {
     "slide_type": "fragment"
    }
   },
   "outputs": [],
   "source": []
  },
  {
   "cell_type": "code",
   "execution_count": 8,
   "metadata": {
    "slideshow": {
     "slide_type": "fragment"
    }
   },
   "outputs": [
    {
     "data": {
      "image/svg+xml": [
       "<?xml version=\"1.0\" encoding=\"utf-8\"?>\n",
       "<svg xmlns=\"http://www.w3.org/2000/svg\" xmlns:xlink=\"http://www.w3.org/1999/xlink\" width=\"300\" height=\"200\" viewBox=\"0 0 1200 800\">\n",
       "<defs>\n",
       "  <clipPath id=\"clip790\">\n",
       "    <rect x=\"0\" y=\"0\" width=\"1200\" height=\"800\"/>\n",
       "  </clipPath>\n",
       "</defs>\n",
       "<path clip-path=\"url(#clip790)\" d=\"M0 800 L1200 800 L1200 0 L0 0  Z\" fill=\"#ffffff\" fill-rule=\"evenodd\" fill-opacity=\"1\"/>\n",
       "<defs>\n",
       "  <clipPath id=\"clip791\">\n",
       "    <rect x=\"240\" y=\"0\" width=\"841\" height=\"800\"/>\n",
       "  </clipPath>\n",
       "</defs>\n",
       "<path clip-path=\"url(#clip790)\" d=\"M128.696 694.448 L1152.76 694.448 L1152.76 123.472 L128.696 123.472  Z\" fill=\"#ffffff\" fill-rule=\"evenodd\" fill-opacity=\"1\"/>\n",
       "<defs>\n",
       "  <clipPath id=\"clip792\">\n",
       "    <rect x=\"128\" y=\"123\" width=\"1025\" height=\"572\"/>\n",
       "  </clipPath>\n",
       "</defs>\n",
       "<polyline clip-path=\"url(#clip792)\" style=\"stroke:#000000; stroke-linecap:round; stroke-linejoin:round; stroke-width:2; stroke-opacity:0.1; fill:none\" points=\"254.288,694.448 254.288,123.472 \"/>\n",
       "<polyline clip-path=\"url(#clip792)\" style=\"stroke:#000000; stroke-linecap:round; stroke-linejoin:round; stroke-width:2; stroke-opacity:0.1; fill:none\" points=\"447.507,694.448 447.507,123.472 \"/>\n",
       "<polyline clip-path=\"url(#clip792)\" style=\"stroke:#000000; stroke-linecap:round; stroke-linejoin:round; stroke-width:2; stroke-opacity:0.1; fill:none\" points=\"640.726,694.448 640.726,123.472 \"/>\n",
       "<polyline clip-path=\"url(#clip792)\" style=\"stroke:#000000; stroke-linecap:round; stroke-linejoin:round; stroke-width:2; stroke-opacity:0.1; fill:none\" points=\"833.945,694.448 833.945,123.472 \"/>\n",
       "<polyline clip-path=\"url(#clip792)\" style=\"stroke:#000000; stroke-linecap:round; stroke-linejoin:round; stroke-width:2; stroke-opacity:0.1; fill:none\" points=\"1027.16,694.448 1027.16,123.472 \"/>\n",
       "<polyline clip-path=\"url(#clip790)\" style=\"stroke:#000000; stroke-linecap:round; stroke-linejoin:round; stroke-width:4; stroke-opacity:1; fill:none\" points=\"128.696,694.448 1152.76,694.448 \"/>\n",
       "<polyline clip-path=\"url(#clip790)\" style=\"stroke:#000000; stroke-linecap:round; stroke-linejoin:round; stroke-width:4; stroke-opacity:1; fill:none\" points=\"254.288,694.448 254.288,675.55 \"/>\n",
       "<polyline clip-path=\"url(#clip790)\" style=\"stroke:#000000; stroke-linecap:round; stroke-linejoin:round; stroke-width:4; stroke-opacity:1; fill:none\" points=\"447.507,694.448 447.507,675.55 \"/>\n",
       "<polyline clip-path=\"url(#clip790)\" style=\"stroke:#000000; stroke-linecap:round; stroke-linejoin:round; stroke-width:4; stroke-opacity:1; fill:none\" points=\"640.726,694.448 640.726,675.55 \"/>\n",
       "<polyline clip-path=\"url(#clip790)\" style=\"stroke:#000000; stroke-linecap:round; stroke-linejoin:round; stroke-width:4; stroke-opacity:1; fill:none\" points=\"833.945,694.448 833.945,675.55 \"/>\n",
       "<polyline clip-path=\"url(#clip790)\" style=\"stroke:#000000; stroke-linecap:round; stroke-linejoin:round; stroke-width:4; stroke-opacity:1; fill:none\" points=\"1027.16,694.448 1027.16,675.55 \"/>\n",
       "<path clip-path=\"url(#clip790)\" d=\"M223.188 730.419 L252.864 730.419 L252.864 734.354 L223.188 734.354 L223.188 730.419 Z\" fill=\"#000000\" fill-rule=\"nonzero\" fill-opacity=\"1\" /><path clip-path=\"url(#clip790)\" d=\"M275.804 716.762 L263.998 735.211 L275.804 735.211 L275.804 716.762 M274.577 712.688 L280.457 712.688 L280.457 735.211 L285.387 735.211 L285.387 739.1 L280.457 739.1 L280.457 747.248 L275.804 747.248 L275.804 739.1 L260.202 739.1 L260.202 734.586 L274.577 712.688 Z\" fill=\"#000000\" fill-rule=\"nonzero\" fill-opacity=\"1\" /><path clip-path=\"url(#clip790)\" d=\"M417.449 730.419 L447.125 730.419 L447.125 734.354 L417.449 734.354 L417.449 730.419 Z\" fill=\"#000000\" fill-rule=\"nonzero\" fill-opacity=\"1\" /><path clip-path=\"url(#clip790)\" d=\"M461.245 743.313 L477.564 743.313 L477.564 747.248 L455.62 747.248 L455.62 743.313 Q458.282 740.558 462.866 735.928 Q467.472 731.276 468.653 729.933 Q470.898 727.41 471.777 725.674 Q472.68 723.915 472.68 722.225 Q472.68 719.47 470.736 717.734 Q468.815 715.998 465.713 715.998 Q463.514 715.998 461.06 716.762 Q458.629 717.526 455.852 719.077 L455.852 714.355 Q458.676 713.22 461.129 712.642 Q463.583 712.063 465.62 712.063 Q470.99 712.063 474.185 714.748 Q477.379 717.433 477.379 721.924 Q477.379 724.054 476.569 725.975 Q475.782 727.873 473.676 730.466 Q473.097 731.137 469.995 734.354 Q466.893 737.549 461.245 743.313 Z\" fill=\"#000000\" fill-rule=\"nonzero\" fill-opacity=\"1\" /><path clip-path=\"url(#clip790)\" d=\"M640.726 715.767 Q637.115 715.767 635.286 719.331 Q633.48 722.873 633.48 730.003 Q633.48 737.109 635.286 740.674 Q637.115 744.215 640.726 744.215 Q644.36 744.215 646.166 740.674 Q647.994 737.109 647.994 730.003 Q647.994 722.873 646.166 719.331 Q644.36 715.767 640.726 715.767 M640.726 712.063 Q646.536 712.063 649.591 716.669 Q652.67 721.253 652.67 730.003 Q652.67 738.729 649.591 743.336 Q646.536 747.919 640.726 747.919 Q634.916 747.919 631.837 743.336 Q628.781 738.729 628.781 730.003 Q628.781 721.253 631.837 716.669 Q634.916 712.063 640.726 712.063 Z\" fill=\"#000000\" fill-rule=\"nonzero\" fill-opacity=\"1\" /><path clip-path=\"url(#clip790)\" d=\"M828.597 743.313 L844.917 743.313 L844.917 747.248 L822.972 747.248 L822.972 743.313 Q825.635 740.558 830.218 735.928 Q834.824 731.276 836.005 729.933 Q838.25 727.41 839.13 725.674 Q840.033 723.915 840.033 722.225 Q840.033 719.47 838.088 717.734 Q836.167 715.998 833.065 715.998 Q830.866 715.998 828.412 716.762 Q825.982 717.526 823.204 719.077 L823.204 714.355 Q826.028 713.22 828.482 712.642 Q830.935 712.063 832.972 712.063 Q838.343 712.063 841.537 714.748 Q844.732 717.433 844.732 721.924 Q844.732 724.054 843.921 725.975 Q843.134 727.873 841.028 730.466 Q840.449 731.137 837.347 734.354 Q834.246 737.549 828.597 743.313 Z\" fill=\"#000000\" fill-rule=\"nonzero\" fill-opacity=\"1\" /><path clip-path=\"url(#clip790)\" d=\"M1030.17 716.762 L1018.37 735.211 L1030.17 735.211 L1030.17 716.762 M1028.95 712.688 L1034.83 712.688 L1034.83 735.211 L1039.76 735.211 L1039.76 739.1 L1034.83 739.1 L1034.83 747.248 L1030.17 747.248 L1030.17 739.1 L1014.57 739.1 L1014.57 734.586 L1028.95 712.688 Z\" fill=\"#000000\" fill-rule=\"nonzero\" fill-opacity=\"1\" /><polyline clip-path=\"url(#clip792)\" style=\"stroke:#000000; stroke-linecap:round; stroke-linejoin:round; stroke-width:2; stroke-opacity:0.1; fill:none\" points=\"128.696,678.288 1152.76,678.288 \"/>\n",
       "<polyline clip-path=\"url(#clip792)\" style=\"stroke:#000000; stroke-linecap:round; stroke-linejoin:round; stroke-width:2; stroke-opacity:0.1; fill:none\" points=\"128.696,570.557 1152.76,570.557 \"/>\n",
       "<polyline clip-path=\"url(#clip792)\" style=\"stroke:#000000; stroke-linecap:round; stroke-linejoin:round; stroke-width:2; stroke-opacity:0.1; fill:none\" points=\"128.696,462.826 1152.76,462.826 \"/>\n",
       "<polyline clip-path=\"url(#clip792)\" style=\"stroke:#000000; stroke-linecap:round; stroke-linejoin:round; stroke-width:2; stroke-opacity:0.1; fill:none\" points=\"128.696,355.094 1152.76,355.094 \"/>\n",
       "<polyline clip-path=\"url(#clip792)\" style=\"stroke:#000000; stroke-linecap:round; stroke-linejoin:round; stroke-width:2; stroke-opacity:0.1; fill:none\" points=\"128.696,247.363 1152.76,247.363 \"/>\n",
       "<polyline clip-path=\"url(#clip792)\" style=\"stroke:#000000; stroke-linecap:round; stroke-linejoin:round; stroke-width:2; stroke-opacity:0.1; fill:none\" points=\"128.696,139.632 1152.76,139.632 \"/>\n",
       "<polyline clip-path=\"url(#clip790)\" style=\"stroke:#000000; stroke-linecap:round; stroke-linejoin:round; stroke-width:4; stroke-opacity:1; fill:none\" points=\"128.696,694.448 128.696,123.472 \"/>\n",
       "<polyline clip-path=\"url(#clip790)\" style=\"stroke:#000000; stroke-linecap:round; stroke-linejoin:round; stroke-width:4; stroke-opacity:1; fill:none\" points=\"128.696,678.288 147.593,678.288 \"/>\n",
       "<polyline clip-path=\"url(#clip790)\" style=\"stroke:#000000; stroke-linecap:round; stroke-linejoin:round; stroke-width:4; stroke-opacity:1; fill:none\" points=\"128.696,570.557 147.593,570.557 \"/>\n",
       "<polyline clip-path=\"url(#clip790)\" style=\"stroke:#000000; stroke-linecap:round; stroke-linejoin:round; stroke-width:4; stroke-opacity:1; fill:none\" points=\"128.696,462.826 147.593,462.826 \"/>\n",
       "<polyline clip-path=\"url(#clip790)\" style=\"stroke:#000000; stroke-linecap:round; stroke-linejoin:round; stroke-width:4; stroke-opacity:1; fill:none\" points=\"128.696,355.094 147.593,355.094 \"/>\n",
       "<polyline clip-path=\"url(#clip790)\" style=\"stroke:#000000; stroke-linecap:round; stroke-linejoin:round; stroke-width:4; stroke-opacity:1; fill:none\" points=\"128.696,247.363 147.593,247.363 \"/>\n",
       "<polyline clip-path=\"url(#clip790)\" style=\"stroke:#000000; stroke-linecap:round; stroke-linejoin:round; stroke-width:4; stroke-opacity:1; fill:none\" points=\"128.696,139.632 147.593,139.632 \"/>\n",
       "<path clip-path=\"url(#clip790)\" d=\"M98.7512 664.087 Q95.1401 664.087 93.3114 667.652 Q91.5058 671.193 91.5058 678.323 Q91.5058 685.429 93.3114 688.994 Q95.1401 692.536 98.7512 692.536 Q102.385 692.536 104.191 688.994 Q106.02 685.429 106.02 678.323 Q106.02 671.193 104.191 667.652 Q102.385 664.087 98.7512 664.087 M98.7512 660.383 Q104.561 660.383 107.617 664.99 Q110.696 669.573 110.696 678.323 Q110.696 687.05 107.617 691.656 Q104.561 696.239 98.7512 696.239 Q92.941 696.239 89.8623 691.656 Q86.8068 687.05 86.8068 678.323 Q86.8068 669.573 89.8623 664.99 Q92.941 660.383 98.7512 660.383 Z\" fill=\"#000000\" fill-rule=\"nonzero\" fill-opacity=\"1\" /><path clip-path=\"url(#clip790)\" d=\"M89.7929 553.277 L108.149 553.277 L108.149 557.212 L94.0753 557.212 L94.0753 565.684 Q95.0938 565.337 96.1123 565.175 Q97.1308 564.99 98.1493 564.99 Q103.936 564.99 107.316 568.161 Q110.696 571.332 110.696 576.749 Q110.696 582.328 107.223 585.43 Q103.751 588.508 97.4317 588.508 Q95.2558 588.508 92.9873 588.138 Q90.7419 587.767 88.3346 587.027 L88.3346 582.328 Q90.4179 583.462 92.6401 584.017 Q94.8623 584.573 97.3391 584.573 Q101.344 584.573 103.682 582.467 Q106.02 580.36 106.02 576.749 Q106.02 573.138 103.682 571.031 Q101.344 568.925 97.3391 568.925 Q95.4641 568.925 93.5892 569.342 Q91.7373 569.758 89.7929 570.638 L89.7929 553.277 Z\" fill=\"#000000\" fill-rule=\"nonzero\" fill-opacity=\"1\" /><path clip-path=\"url(#clip790)\" d=\"M59.3995 476.17 L67.0384 476.17 L67.0384 449.805 L58.7282 451.472 L58.7282 447.212 L66.9921 445.546 L71.668 445.546 L71.668 476.17 L79.3068 476.17 L79.3068 480.106 L59.3995 480.106 L59.3995 476.17 Z\" fill=\"#000000\" fill-rule=\"nonzero\" fill-opacity=\"1\" /><path clip-path=\"url(#clip790)\" d=\"M98.7512 448.624 Q95.1401 448.624 93.3114 452.189 Q91.5058 455.731 91.5058 462.86 Q91.5058 469.967 93.3114 473.532 Q95.1401 477.073 98.7512 477.073 Q102.385 477.073 104.191 473.532 Q106.02 469.967 106.02 462.86 Q106.02 455.731 104.191 452.189 Q102.385 448.624 98.7512 448.624 M98.7512 444.921 Q104.561 444.921 107.617 449.527 Q110.696 454.11 110.696 462.86 Q110.696 471.587 107.617 476.194 Q104.561 480.777 98.7512 480.777 Q92.941 480.777 89.8623 476.194 Q86.8068 471.587 86.8068 462.86 Q86.8068 454.11 89.8623 449.527 Q92.941 444.921 98.7512 444.921 Z\" fill=\"#000000\" fill-rule=\"nonzero\" fill-opacity=\"1\" /><path clip-path=\"url(#clip790)\" d=\"M60.3949 368.439 L68.0337 368.439 L68.0337 342.074 L59.7236 343.74 L59.7236 339.481 L67.9874 337.814 L72.6633 337.814 L72.6633 368.439 L80.3022 368.439 L80.3022 372.374 L60.3949 372.374 L60.3949 368.439 Z\" fill=\"#000000\" fill-rule=\"nonzero\" fill-opacity=\"1\" /><path clip-path=\"url(#clip790)\" d=\"M89.7929 337.814 L108.149 337.814 L108.149 341.75 L94.0753 341.75 L94.0753 350.222 Q95.0938 349.874 96.1123 349.712 Q97.1308 349.527 98.1493 349.527 Q103.936 349.527 107.316 352.699 Q110.696 355.87 110.696 361.286 Q110.696 366.865 107.223 369.967 Q103.751 373.046 97.4317 373.046 Q95.2558 373.046 92.9873 372.675 Q90.7419 372.305 88.3346 371.564 L88.3346 366.865 Q90.4179 367.999 92.6401 368.555 Q94.8623 369.11 97.3391 369.11 Q101.344 369.11 103.682 367.004 Q106.02 364.898 106.02 361.286 Q106.02 357.675 103.682 355.569 Q101.344 353.462 97.3391 353.462 Q95.4641 353.462 93.5892 353.879 Q91.7373 354.296 89.7929 355.175 L89.7929 337.814 Z\" fill=\"#000000\" fill-rule=\"nonzero\" fill-opacity=\"1\" /><path clip-path=\"url(#clip790)\" d=\"M62.6171 260.708 L78.9365 260.708 L78.9365 264.643 L56.9921 264.643 L56.9921 260.708 Q59.6541 257.953 64.2375 253.324 Q68.8439 248.671 70.0245 247.328 Q72.2698 244.805 73.1494 243.069 Q74.0522 241.31 74.0522 239.62 Q74.0522 236.865 72.1078 235.129 Q70.1865 233.393 67.0847 233.393 Q64.8856 233.393 62.4319 234.157 Q60.0014 234.921 57.2236 236.472 L57.2236 231.75 Q60.0477 230.615 62.5014 230.037 Q64.955 229.458 66.9921 229.458 Q72.3624 229.458 75.5568 232.143 Q78.7513 234.828 78.7513 239.319 Q78.7513 241.449 77.9411 243.37 Q77.1541 245.268 75.0476 247.861 Q74.4689 248.532 71.367 251.75 Q68.2652 254.944 62.6171 260.708 Z\" fill=\"#000000\" fill-rule=\"nonzero\" fill-opacity=\"1\" /><path clip-path=\"url(#clip790)\" d=\"M98.7512 233.162 Q95.1401 233.162 93.3114 236.727 Q91.5058 240.268 91.5058 247.398 Q91.5058 254.504 93.3114 258.069 Q95.1401 261.611 98.7512 261.611 Q102.385 261.611 104.191 258.069 Q106.02 254.504 106.02 247.398 Q106.02 240.268 104.191 236.727 Q102.385 233.162 98.7512 233.162 M98.7512 229.458 Q104.561 229.458 107.617 234.065 Q110.696 238.648 110.696 247.398 Q110.696 256.125 107.617 260.731 Q104.561 265.314 98.7512 265.314 Q92.941 265.314 89.8623 260.731 Q86.8068 256.125 86.8068 247.398 Q86.8068 238.648 89.8623 234.065 Q92.941 229.458 98.7512 229.458 Z\" fill=\"#000000\" fill-rule=\"nonzero\" fill-opacity=\"1\" /><path clip-path=\"url(#clip790)\" d=\"M63.6125 152.977 L79.9318 152.977 L79.9318 156.912 L57.9875 156.912 L57.9875 152.977 Q60.6495 150.222 65.2328 145.592 Q69.8393 140.94 71.0198 139.597 Q73.2652 137.074 74.1448 135.338 Q75.0476 133.579 75.0476 131.889 Q75.0476 129.134 73.1032 127.398 Q71.1819 125.662 68.08 125.662 Q65.881 125.662 63.4273 126.426 Q60.9967 127.19 58.219 128.741 L58.219 124.018 Q61.043 122.884 63.4967 122.306 Q65.9504 121.727 67.9874 121.727 Q73.3578 121.727 76.5522 124.412 Q79.7466 127.097 79.7466 131.588 Q79.7466 133.717 78.9365 135.639 Q78.1494 137.537 76.0429 140.129 Q75.4642 140.801 72.3624 144.018 Q69.2606 147.213 63.6125 152.977 Z\" fill=\"#000000\" fill-rule=\"nonzero\" fill-opacity=\"1\" /><path clip-path=\"url(#clip790)\" d=\"M89.7929 122.352 L108.149 122.352 L108.149 126.287 L94.0753 126.287 L94.0753 134.759 Q95.0938 134.412 96.1123 134.25 Q97.1308 134.065 98.1493 134.065 Q103.936 134.065 107.316 137.236 Q110.696 140.407 110.696 145.824 Q110.696 151.403 107.223 154.504 Q103.751 157.583 97.4317 157.583 Q95.2558 157.583 92.9873 157.213 Q90.7419 156.842 88.3346 156.102 L88.3346 151.403 Q90.4179 152.537 92.6401 153.092 Q94.8623 153.648 97.3391 153.648 Q101.344 153.648 103.682 151.541 Q106.02 149.435 106.02 145.824 Q106.02 142.213 103.682 140.106 Q101.344 138 97.3391 138 Q95.4641 138 93.5892 138.417 Q91.7373 138.833 89.7929 139.713 L89.7929 122.352 Z\" fill=\"#000000\" fill-rule=\"nonzero\" fill-opacity=\"1\" /><path clip-path=\"url(#clip790)\" d=\"M603.518 27.2059 L587.112 49.2833 L604.369 72.576 L595.578 72.576 L582.372 54.752 L569.167 72.576 L560.376 72.576 L577.997 48.8377 L561.875 27.2059 L570.665 27.2059 L582.697 43.369 L594.728 27.2059 L603.518 27.2059 Z\" fill=\"#000000\" fill-rule=\"nonzero\" fill-opacity=\"1\" /><path clip-path=\"url(#clip790)\" d=\"M645.81 12.096 L667.806 34.6595 L659.664 34.6595 L641.84 18.6585 L624.016 34.6595 L615.873 34.6595 L637.87 12.096 L645.81 12.096 Z\" fill=\"#000000\" fill-rule=\"nonzero\" fill-opacity=\"1\" /><path clip-path=\"url(#clip790)\" d=\"M692.517 65.6895 L721.075 65.6895 L721.075 72.576 L682.673 72.576 L682.673 65.6895 Q687.331 60.8689 695.352 52.7671 Q703.413 44.6248 705.479 42.2752 Q709.409 37.8598 710.948 34.8216 Q712.528 31.7429 712.528 28.7857 Q712.528 23.9651 709.125 20.927 Q705.763 17.8888 700.335 17.8888 Q696.486 17.8888 692.192 19.2256 Q687.939 20.5624 683.078 23.2765 L683.078 15.0127 Q688.02 13.0277 692.314 12.015 Q696.608 11.0023 700.173 11.0023 Q709.571 11.0023 715.161 15.7013 Q720.751 20.4004 720.751 28.2591 Q720.751 31.9859 719.334 35.3482 Q717.956 38.6699 714.27 43.2069 Q713.257 44.3817 707.829 50.0125 Q702.401 55.6027 692.517 65.6895 Z\" fill=\"#000000\" fill-rule=\"nonzero\" fill-opacity=\"1\" /><polyline clip-path=\"url(#clip792)\" style=\"stroke:#009af9; stroke-linecap:round; stroke-linejoin:round; stroke-width:4; stroke-opacity:1; fill:none\" stroke-dasharray=\"16, 10\" points=\"157.678,139.632 254.288,333.548 350.897,484.372 447.507,592.103 544.116,656.742 640.726,678.288 737.335,656.742 833.945,592.103 930.554,484.372 1027.16,333.548 1123.77,139.632 \"/>\n",
       "<circle clip-path=\"url(#clip792)\" cx=\"157.678\" cy=\"139.632\" r=\"14.4\" fill=\"#009af9\" fill-rule=\"evenodd\" fill-opacity=\"1\" stroke=\"#000000\" stroke-opacity=\"1\" stroke-width=\"1.6\"/>\n",
       "<circle clip-path=\"url(#clip792)\" cx=\"254.288\" cy=\"333.548\" r=\"14.4\" fill=\"#009af9\" fill-rule=\"evenodd\" fill-opacity=\"1\" stroke=\"#000000\" stroke-opacity=\"1\" stroke-width=\"1.6\"/>\n",
       "<circle clip-path=\"url(#clip792)\" cx=\"350.897\" cy=\"484.372\" r=\"14.4\" fill=\"#009af9\" fill-rule=\"evenodd\" fill-opacity=\"1\" stroke=\"#000000\" stroke-opacity=\"1\" stroke-width=\"1.6\"/>\n",
       "<circle clip-path=\"url(#clip792)\" cx=\"447.507\" cy=\"592.103\" r=\"14.4\" fill=\"#009af9\" fill-rule=\"evenodd\" fill-opacity=\"1\" stroke=\"#000000\" stroke-opacity=\"1\" stroke-width=\"1.6\"/>\n",
       "<circle clip-path=\"url(#clip792)\" cx=\"544.116\" cy=\"656.742\" r=\"14.4\" fill=\"#009af9\" fill-rule=\"evenodd\" fill-opacity=\"1\" stroke=\"#000000\" stroke-opacity=\"1\" stroke-width=\"1.6\"/>\n",
       "<circle clip-path=\"url(#clip792)\" cx=\"640.726\" cy=\"678.288\" r=\"14.4\" fill=\"#009af9\" fill-rule=\"evenodd\" fill-opacity=\"1\" stroke=\"#000000\" stroke-opacity=\"1\" stroke-width=\"1.6\"/>\n",
       "<circle clip-path=\"url(#clip792)\" cx=\"737.335\" cy=\"656.742\" r=\"14.4\" fill=\"#009af9\" fill-rule=\"evenodd\" fill-opacity=\"1\" stroke=\"#000000\" stroke-opacity=\"1\" stroke-width=\"1.6\"/>\n",
       "<circle clip-path=\"url(#clip792)\" cx=\"833.945\" cy=\"592.103\" r=\"14.4\" fill=\"#009af9\" fill-rule=\"evenodd\" fill-opacity=\"1\" stroke=\"#000000\" stroke-opacity=\"1\" stroke-width=\"1.6\"/>\n",
       "<circle clip-path=\"url(#clip792)\" cx=\"930.554\" cy=\"484.372\" r=\"14.4\" fill=\"#009af9\" fill-rule=\"evenodd\" fill-opacity=\"1\" stroke=\"#000000\" stroke-opacity=\"1\" stroke-width=\"1.6\"/>\n",
       "<circle clip-path=\"url(#clip792)\" cx=\"1027.16\" cy=\"333.548\" r=\"14.4\" fill=\"#009af9\" fill-rule=\"evenodd\" fill-opacity=\"1\" stroke=\"#000000\" stroke-opacity=\"1\" stroke-width=\"1.6\"/>\n",
       "<circle clip-path=\"url(#clip792)\" cx=\"1123.77\" cy=\"139.632\" r=\"14.4\" fill=\"#009af9\" fill-rule=\"evenodd\" fill-opacity=\"1\" stroke=\"#000000\" stroke-opacity=\"1\" stroke-width=\"1.6\"/>\n",
       "<path clip-path=\"url(#clip790)\" d=\"M963.784 675.415 L1118.62 675.415 L1118.62 571.735 L963.784 571.735  Z\" fill=\"#ffffff\" fill-rule=\"evenodd\" fill-opacity=\"1\"/>\n",
       "<polyline clip-path=\"url(#clip790)\" style=\"stroke:#000000; stroke-linecap:round; stroke-linejoin:round; stroke-width:4; stroke-opacity:1; fill:none\" points=\"963.784,675.415 1118.62,675.415 1118.62,571.735 963.784,571.735 963.784,675.415 \"/>\n",
       "<polyline clip-path=\"url(#clip790)\" style=\"stroke:#009af9; stroke-linecap:round; stroke-linejoin:round; stroke-width:4; stroke-opacity:1; fill:none\" stroke-dasharray=\"16, 10\" points=\"975.163,623.575 1043.43,623.575 \"/>\n",
       "<circle clip-path=\"url(#clip790)\" cx=\"1009.3\" cy=\"623.575\" r=\"9.48204\" fill=\"#009af9\" fill-rule=\"evenodd\" fill-opacity=\"1\" stroke=\"#000000\" stroke-opacity=\"1\" stroke-width=\"2.27556\"/>\n",
       "<path clip-path=\"url(#clip790)\" d=\"M1068.65 643.263 Q1066.85 647.892 1065.14 649.304 Q1063.42 650.716 1060.55 650.716 L1057.15 650.716 L1057.15 647.152 L1059.65 647.152 Q1061.41 647.152 1062.38 646.318 Q1063.35 645.485 1064.53 642.383 L1065.3 640.439 L1054.81 614.93 L1059.33 614.93 L1067.43 635.207 L1075.53 614.93 L1080.04 614.93 L1068.65 643.263 Z\" fill=\"#000000\" fill-rule=\"nonzero\" fill-opacity=\"1\" /><path clip-path=\"url(#clip790)\" d=\"M1087.33 636.92 L1094.97 636.92 L1094.97 610.555 L1086.66 612.221 L1086.66 607.962 L1094.93 606.295 L1099.6 606.295 L1099.6 636.92 L1107.24 636.92 L1107.24 640.855 L1087.33 640.855 L1087.33 636.92 Z\" fill=\"#000000\" fill-rule=\"nonzero\" fill-opacity=\"1\" /></svg>\n"
      ]
     },
     "execution_count": 8,
     "metadata": {},
     "output_type": "execute_result"
    }
   ],
   "source": [
    "y = x.^2\n",
    "\n",
    "plot(x,y,title=\"x^2\",linestyle=:dash,markershape=:circle,size=(300,200))"
   ]
  },
  {
   "cell_type": "markdown",
   "metadata": {
    "slideshow": {
     "slide_type": "skip"
    }
   },
   "source": [
    "## Types and Lists\n",
    "\n",
    "- Types: a data property for variables (objects), such as `int`, `float`, `str`, `bool`, etc.\n",
    "\n",
    "- Lists: a data structure to group (any) variables/objects\n",
    "\n",
    "- Index for a N-size list starts from 0 to N-1.\n",
    "\n",
    "NOTE: A NumPy array can group numbers only and has its own type `numpy.ndarray`."
   ]
  },
  {
   "cell_type": "code",
   "execution_count": null,
   "metadata": {
    "slideshow": {
     "slide_type": "skip"
    }
   },
   "outputs": [],
   "source": [
    "x = [10.0, 'foo', False] # 0: float, 1: str, 2: bool\n",
    "print(type(x[0]))\n",
    "print(type(x))\n",
    "\n",
    "y = np.zeros(3) # A numpy array accepts numbers (float64) only\n",
    "y[0] = 10\n",
    "# y[1] = 'foo'  # error\n",
    "print(type(y[0]))\n",
    "print(type(y))"
   ]
  },
  {
   "cell_type": "markdown",
   "metadata": {
    "slideshow": {
     "slide_type": "subslide"
    }
   },
   "source": [
    "# Exercise\n",
    "\n",
    "- Suppose we want to simulate $\\varepsilon_t \\sim N(0,\\sigma^2)$ for $t=1,2,...,T$, and plot the sequence of $\\{\\varepsilon_t\\}$."
   ]
  },
  {
   "cell_type": "code",
   "execution_count": 11,
   "metadata": {
    "slideshow": {
     "slide_type": "skip"
    }
   },
   "outputs": [
    {
     "data": {
      "image/svg+xml": [
       "<?xml version=\"1.0\" encoding=\"utf-8\"?>\n",
       "<svg xmlns=\"http://www.w3.org/2000/svg\" xmlns:xlink=\"http://www.w3.org/1999/xlink\" width=\"600\" height=\"400\" viewBox=\"0 0 2400 1600\">\n",
       "<defs>\n",
       "  <clipPath id=\"clip910\">\n",
       "    <rect x=\"0\" y=\"0\" width=\"2400\" height=\"1600\"/>\n",
       "  </clipPath>\n",
       "</defs>\n",
       "<path clip-path=\"url(#clip910)\" d=\"M0 1600 L2400 1600 L2400 0 L0 0  Z\" fill=\"#ffffff\" fill-rule=\"evenodd\" fill-opacity=\"1\"/>\n",
       "<defs>\n",
       "  <clipPath id=\"clip911\">\n",
       "    <rect x=\"480\" y=\"0\" width=\"1681\" height=\"1600\"/>\n",
       "  </clipPath>\n",
       "</defs>\n",
       "<path clip-path=\"url(#clip910)\" d=\"M178.867 1486.45 L2352.76 1486.45 L2352.76 47.2441 L178.867 47.2441  Z\" fill=\"#ffffff\" fill-rule=\"evenodd\" fill-opacity=\"1\"/>\n",
       "<defs>\n",
       "  <clipPath id=\"clip912\">\n",
       "    <rect x=\"178\" y=\"47\" width=\"2175\" height=\"1440\"/>\n",
       "  </clipPath>\n",
       "</defs>\n",
       "<polyline clip-path=\"url(#clip912)\" style=\"stroke:#000000; stroke-linecap:round; stroke-linejoin:round; stroke-width:2; stroke-opacity:0.1; fill:none\" points=\"219.676,1486.45 219.676,47.2441 \"/>\n",
       "<polyline clip-path=\"url(#clip912)\" style=\"stroke:#000000; stroke-linecap:round; stroke-linejoin:round; stroke-width:2; stroke-opacity:0.1; fill:none\" points=\"737.565,1486.45 737.565,47.2441 \"/>\n",
       "<polyline clip-path=\"url(#clip912)\" style=\"stroke:#000000; stroke-linecap:round; stroke-linejoin:round; stroke-width:2; stroke-opacity:0.1; fill:none\" points=\"1255.45,1486.45 1255.45,47.2441 \"/>\n",
       "<polyline clip-path=\"url(#clip912)\" style=\"stroke:#000000; stroke-linecap:round; stroke-linejoin:round; stroke-width:2; stroke-opacity:0.1; fill:none\" points=\"1773.34,1486.45 1773.34,47.2441 \"/>\n",
       "<polyline clip-path=\"url(#clip912)\" style=\"stroke:#000000; stroke-linecap:round; stroke-linejoin:round; stroke-width:2; stroke-opacity:0.1; fill:none\" points=\"2291.23,1486.45 2291.23,47.2441 \"/>\n",
       "<polyline clip-path=\"url(#clip910)\" style=\"stroke:#000000; stroke-linecap:round; stroke-linejoin:round; stroke-width:4; stroke-opacity:1; fill:none\" points=\"178.867,1486.45 2352.76,1486.45 \"/>\n",
       "<polyline clip-path=\"url(#clip910)\" style=\"stroke:#000000; stroke-linecap:round; stroke-linejoin:round; stroke-width:4; stroke-opacity:1; fill:none\" points=\"219.676,1486.45 219.676,1467.55 \"/>\n",
       "<polyline clip-path=\"url(#clip910)\" style=\"stroke:#000000; stroke-linecap:round; stroke-linejoin:round; stroke-width:4; stroke-opacity:1; fill:none\" points=\"737.565,1486.45 737.565,1467.55 \"/>\n",
       "<polyline clip-path=\"url(#clip910)\" style=\"stroke:#000000; stroke-linecap:round; stroke-linejoin:round; stroke-width:4; stroke-opacity:1; fill:none\" points=\"1255.45,1486.45 1255.45,1467.55 \"/>\n",
       "<polyline clip-path=\"url(#clip910)\" style=\"stroke:#000000; stroke-linecap:round; stroke-linejoin:round; stroke-width:4; stroke-opacity:1; fill:none\" points=\"1773.34,1486.45 1773.34,1467.55 \"/>\n",
       "<polyline clip-path=\"url(#clip910)\" style=\"stroke:#000000; stroke-linecap:round; stroke-linejoin:round; stroke-width:4; stroke-opacity:1; fill:none\" points=\"2291.23,1486.45 2291.23,1467.55 \"/>\n",
       "<path clip-path=\"url(#clip910)\" d=\"M219.676 1517.37 Q216.065 1517.37 214.236 1520.93 Q212.431 1524.47 212.431 1531.6 Q212.431 1538.71 214.236 1542.27 Q216.065 1545.82 219.676 1545.82 Q223.31 1545.82 225.116 1542.27 Q226.945 1538.71 226.945 1531.6 Q226.945 1524.47 225.116 1520.93 Q223.31 1517.37 219.676 1517.37 M219.676 1513.66 Q225.486 1513.66 228.542 1518.27 Q231.621 1522.85 231.621 1531.6 Q231.621 1540.33 228.542 1544.94 Q225.486 1549.52 219.676 1549.52 Q213.866 1549.52 210.787 1544.94 Q207.732 1540.33 207.732 1531.6 Q207.732 1522.85 210.787 1518.27 Q213.866 1513.66 219.676 1513.66 Z\" fill=\"#000000\" fill-rule=\"nonzero\" fill-opacity=\"1\" /><path clip-path=\"url(#clip910)\" d=\"M716.836 1544.91 L733.155 1544.91 L733.155 1548.85 L711.211 1548.85 L711.211 1544.91 Q713.873 1542.16 718.456 1537.53 Q723.063 1532.88 724.243 1531.53 Q726.489 1529.01 727.368 1527.27 Q728.271 1525.51 728.271 1523.82 Q728.271 1521.07 726.327 1519.33 Q724.405 1517.6 721.303 1517.6 Q719.104 1517.6 716.651 1518.36 Q714.22 1519.13 711.442 1520.68 L711.442 1515.95 Q714.266 1514.82 716.72 1514.24 Q719.174 1513.66 721.211 1513.66 Q726.581 1513.66 729.776 1516.35 Q732.97 1519.03 732.97 1523.52 Q732.97 1525.65 732.16 1527.57 Q731.373 1529.47 729.266 1532.07 Q728.688 1532.74 725.586 1535.95 Q722.484 1539.15 716.836 1544.91 Z\" fill=\"#000000\" fill-rule=\"nonzero\" fill-opacity=\"1\" /><path clip-path=\"url(#clip910)\" d=\"M743.016 1514.29 L761.373 1514.29 L761.373 1518.22 L747.299 1518.22 L747.299 1526.7 Q748.317 1526.35 749.336 1526.19 Q750.354 1526 751.373 1526 Q757.16 1526 760.539 1529.17 Q763.919 1532.34 763.919 1537.76 Q763.919 1543.34 760.447 1546.44 Q756.974 1549.52 750.655 1549.52 Q748.479 1549.52 746.211 1549.15 Q743.965 1548.78 741.558 1548.04 L741.558 1543.34 Q743.641 1544.47 745.863 1545.03 Q748.086 1545.58 750.562 1545.58 Q754.567 1545.58 756.905 1543.48 Q759.243 1541.37 759.243 1537.76 Q759.243 1534.15 756.905 1532.04 Q754.567 1529.94 750.562 1529.94 Q748.688 1529.94 746.813 1530.35 Q744.961 1530.77 743.016 1531.65 L743.016 1514.29 Z\" fill=\"#000000\" fill-rule=\"nonzero\" fill-opacity=\"1\" /><path clip-path=\"url(#clip910)\" d=\"M1230.15 1514.29 L1248.51 1514.29 L1248.51 1518.22 L1234.44 1518.22 L1234.44 1526.7 Q1235.45 1526.35 1236.47 1526.19 Q1237.49 1526 1238.51 1526 Q1244.3 1526 1247.68 1529.17 Q1251.06 1532.34 1251.06 1537.76 Q1251.06 1543.34 1247.58 1546.44 Q1244.11 1549.52 1237.79 1549.52 Q1235.62 1549.52 1233.35 1549.15 Q1231.1 1548.78 1228.69 1548.04 L1228.69 1543.34 Q1230.78 1544.47 1233 1545.03 Q1235.22 1545.58 1237.7 1545.58 Q1241.7 1545.58 1244.04 1543.48 Q1246.38 1541.37 1246.38 1537.76 Q1246.38 1534.15 1244.04 1532.04 Q1241.7 1529.94 1237.7 1529.94 Q1235.82 1529.94 1233.95 1530.35 Q1232.1 1530.77 1230.15 1531.65 L1230.15 1514.29 Z\" fill=\"#000000\" fill-rule=\"nonzero\" fill-opacity=\"1\" /><path clip-path=\"url(#clip910)\" d=\"M1270.27 1517.37 Q1266.66 1517.37 1264.83 1520.93 Q1263.02 1524.47 1263.02 1531.6 Q1263.02 1538.71 1264.83 1542.27 Q1266.66 1545.82 1270.27 1545.82 Q1273.9 1545.82 1275.71 1542.27 Q1277.54 1538.71 1277.54 1531.6 Q1277.54 1524.47 1275.71 1520.93 Q1273.9 1517.37 1270.27 1517.37 M1270.27 1513.66 Q1276.08 1513.66 1279.13 1518.27 Q1282.21 1522.85 1282.21 1531.6 Q1282.21 1540.33 1279.13 1544.94 Q1276.08 1549.52 1270.27 1549.52 Q1264.46 1549.52 1261.38 1544.94 Q1258.32 1540.33 1258.32 1531.6 Q1258.32 1522.85 1261.38 1518.27 Q1264.46 1513.66 1270.27 1513.66 Z\" fill=\"#000000\" fill-rule=\"nonzero\" fill-opacity=\"1\" /><path clip-path=\"url(#clip910)\" d=\"M1747.2 1514.29 L1769.42 1514.29 L1769.42 1516.28 L1756.87 1548.85 L1751.99 1548.85 L1763.79 1518.22 L1747.2 1518.22 L1747.2 1514.29 Z\" fill=\"#000000\" fill-rule=\"nonzero\" fill-opacity=\"1\" /><path clip-path=\"url(#clip910)\" d=\"M1778.59 1514.29 L1796.94 1514.29 L1796.94 1518.22 L1782.87 1518.22 L1782.87 1526.7 Q1783.89 1526.35 1784.9 1526.19 Q1785.92 1526 1786.94 1526 Q1792.73 1526 1796.11 1529.17 Q1799.49 1532.34 1799.49 1537.76 Q1799.49 1543.34 1796.02 1546.44 Q1792.54 1549.52 1786.22 1549.52 Q1784.05 1549.52 1781.78 1549.15 Q1779.53 1548.78 1777.13 1548.04 L1777.13 1543.34 Q1779.21 1544.47 1781.43 1545.03 Q1783.65 1545.58 1786.13 1545.58 Q1790.14 1545.58 1792.47 1543.48 Q1794.81 1541.37 1794.81 1537.76 Q1794.81 1534.15 1792.47 1532.04 Q1790.14 1529.94 1786.13 1529.94 Q1784.26 1529.94 1782.38 1530.35 Q1780.53 1530.77 1778.59 1531.65 L1778.59 1514.29 Z\" fill=\"#000000\" fill-rule=\"nonzero\" fill-opacity=\"1\" /><path clip-path=\"url(#clip910)\" d=\"M2250.84 1544.91 L2258.48 1544.91 L2258.48 1518.55 L2250.17 1520.21 L2250.17 1515.95 L2258.43 1514.29 L2263.11 1514.29 L2263.11 1544.91 L2270.74 1544.91 L2270.74 1548.85 L2250.84 1548.85 L2250.84 1544.91 Z\" fill=\"#000000\" fill-rule=\"nonzero\" fill-opacity=\"1\" /><path clip-path=\"url(#clip910)\" d=\"M2290.19 1517.37 Q2286.58 1517.37 2284.75 1520.93 Q2282.94 1524.47 2282.94 1531.6 Q2282.94 1538.71 2284.75 1542.27 Q2286.58 1545.82 2290.19 1545.82 Q2293.82 1545.82 2295.63 1542.27 Q2297.46 1538.71 2297.46 1531.6 Q2297.46 1524.47 2295.63 1520.93 Q2293.82 1517.37 2290.19 1517.37 M2290.19 1513.66 Q2296 1513.66 2299.05 1518.27 Q2302.13 1522.85 2302.13 1531.6 Q2302.13 1540.33 2299.05 1544.94 Q2296 1549.52 2290.19 1549.52 Q2284.38 1549.52 2281.3 1544.94 Q2278.24 1540.33 2278.24 1531.6 Q2278.24 1522.85 2281.3 1518.27 Q2284.38 1513.66 2290.19 1513.66 Z\" fill=\"#000000\" fill-rule=\"nonzero\" fill-opacity=\"1\" /><path clip-path=\"url(#clip910)\" d=\"M2320.35 1517.37 Q2316.74 1517.37 2314.91 1520.93 Q2313.11 1524.47 2313.11 1531.6 Q2313.11 1538.71 2314.91 1542.27 Q2316.74 1545.82 2320.35 1545.82 Q2323.99 1545.82 2325.79 1542.27 Q2327.62 1538.71 2327.62 1531.6 Q2327.62 1524.47 2325.79 1520.93 Q2323.99 1517.37 2320.35 1517.37 M2320.35 1513.66 Q2326.16 1513.66 2329.22 1518.27 Q2332.3 1522.85 2332.3 1531.6 Q2332.3 1540.33 2329.22 1544.94 Q2326.16 1549.52 2320.35 1549.52 Q2314.54 1549.52 2311.46 1544.94 Q2308.41 1540.33 2308.41 1531.6 Q2308.41 1522.85 2311.46 1518.27 Q2314.54 1513.66 2320.35 1513.66 Z\" fill=\"#000000\" fill-rule=\"nonzero\" fill-opacity=\"1\" /><polyline clip-path=\"url(#clip912)\" style=\"stroke:#000000; stroke-linecap:round; stroke-linejoin:round; stroke-width:2; stroke-opacity:0.1; fill:none\" points=\"178.867,1443.09 2352.76,1443.09 \"/>\n",
       "<polyline clip-path=\"url(#clip912)\" style=\"stroke:#000000; stroke-linecap:round; stroke-linejoin:round; stroke-width:2; stroke-opacity:0.1; fill:none\" points=\"178.867,1194.87 2352.76,1194.87 \"/>\n",
       "<polyline clip-path=\"url(#clip912)\" style=\"stroke:#000000; stroke-linecap:round; stroke-linejoin:round; stroke-width:2; stroke-opacity:0.1; fill:none\" points=\"178.867,946.654 2352.76,946.654 \"/>\n",
       "<polyline clip-path=\"url(#clip912)\" style=\"stroke:#000000; stroke-linecap:round; stroke-linejoin:round; stroke-width:2; stroke-opacity:0.1; fill:none\" points=\"178.867,698.437 2352.76,698.437 \"/>\n",
       "<polyline clip-path=\"url(#clip912)\" style=\"stroke:#000000; stroke-linecap:round; stroke-linejoin:round; stroke-width:2; stroke-opacity:0.1; fill:none\" points=\"178.867,450.219 2352.76,450.219 \"/>\n",
       "<polyline clip-path=\"url(#clip912)\" style=\"stroke:#000000; stroke-linecap:round; stroke-linejoin:round; stroke-width:2; stroke-opacity:0.1; fill:none\" points=\"178.867,202.002 2352.76,202.002 \"/>\n",
       "<polyline clip-path=\"url(#clip910)\" style=\"stroke:#000000; stroke-linecap:round; stroke-linejoin:round; stroke-width:4; stroke-opacity:1; fill:none\" points=\"178.867,1486.45 178.867,47.2441 \"/>\n",
       "<polyline clip-path=\"url(#clip910)\" style=\"stroke:#000000; stroke-linecap:round; stroke-linejoin:round; stroke-width:4; stroke-opacity:1; fill:none\" points=\"178.867,1443.09 197.764,1443.09 \"/>\n",
       "<polyline clip-path=\"url(#clip910)\" style=\"stroke:#000000; stroke-linecap:round; stroke-linejoin:round; stroke-width:4; stroke-opacity:1; fill:none\" points=\"178.867,1194.87 197.764,1194.87 \"/>\n",
       "<polyline clip-path=\"url(#clip910)\" style=\"stroke:#000000; stroke-linecap:round; stroke-linejoin:round; stroke-width:4; stroke-opacity:1; fill:none\" points=\"178.867,946.654 197.764,946.654 \"/>\n",
       "<polyline clip-path=\"url(#clip910)\" style=\"stroke:#000000; stroke-linecap:round; stroke-linejoin:round; stroke-width:4; stroke-opacity:1; fill:none\" points=\"178.867,698.437 197.764,698.437 \"/>\n",
       "<polyline clip-path=\"url(#clip910)\" style=\"stroke:#000000; stroke-linecap:round; stroke-linejoin:round; stroke-width:4; stroke-opacity:1; fill:none\" points=\"178.867,450.219 197.764,450.219 \"/>\n",
       "<polyline clip-path=\"url(#clip910)\" style=\"stroke:#000000; stroke-linecap:round; stroke-linejoin:round; stroke-width:4; stroke-opacity:1; fill:none\" points=\"178.867,202.002 197.764,202.002 \"/>\n",
       "<path clip-path=\"url(#clip910)\" d=\"M51.9875 1443.54 L81.6633 1443.54 L81.6633 1447.48 L51.9875 1447.48 L51.9875 1443.54 Z\" fill=\"#000000\" fill-rule=\"nonzero\" fill-opacity=\"1\" /><path clip-path=\"url(#clip910)\" d=\"M92.566 1456.43 L100.205 1456.43 L100.205 1430.07 L91.8947 1431.73 L91.8947 1427.48 L100.159 1425.81 L104.834 1425.81 L104.834 1456.43 L112.473 1456.43 L112.473 1460.37 L92.566 1460.37 L92.566 1456.43 Z\" fill=\"#000000\" fill-rule=\"nonzero\" fill-opacity=\"1\" /><path clip-path=\"url(#clip910)\" d=\"M121.964 1425.81 L140.32 1425.81 L140.32 1429.74 L126.246 1429.74 L126.246 1438.22 Q127.265 1437.87 128.283 1437.71 Q129.302 1437.52 130.32 1437.52 Q136.107 1437.52 139.487 1440.69 Q142.867 1443.86 142.867 1449.28 Q142.867 1454.86 139.394 1457.96 Q135.922 1461.04 129.603 1461.04 Q127.427 1461.04 125.158 1460.67 Q122.913 1460.3 120.506 1459.56 L120.506 1454.86 Q122.589 1455.99 124.811 1456.55 Q127.033 1457.1 129.51 1457.1 Q133.515 1457.1 135.853 1455 Q138.191 1452.89 138.191 1449.28 Q138.191 1445.67 135.853 1443.56 Q133.515 1441.46 129.51 1441.46 Q127.635 1441.46 125.76 1441.87 Q123.908 1442.29 121.964 1443.17 L121.964 1425.81 Z\" fill=\"#000000\" fill-rule=\"nonzero\" fill-opacity=\"1\" /><path clip-path=\"url(#clip910)\" d=\"M50.9921 1195.32 L80.6679 1195.32 L80.6679 1199.26 L50.9921 1199.26 L50.9921 1195.32 Z\" fill=\"#000000\" fill-rule=\"nonzero\" fill-opacity=\"1\" /><path clip-path=\"url(#clip910)\" d=\"M91.5706 1208.22 L99.2095 1208.22 L99.2095 1181.85 L90.8993 1183.52 L90.8993 1179.26 L99.1632 1177.59 L103.839 1177.59 L103.839 1208.22 L111.478 1208.22 L111.478 1212.15 L91.5706 1212.15 L91.5706 1208.22 Z\" fill=\"#000000\" fill-rule=\"nonzero\" fill-opacity=\"1\" /><path clip-path=\"url(#clip910)\" d=\"M130.922 1180.67 Q127.311 1180.67 125.482 1184.23 Q123.677 1187.78 123.677 1194.91 Q123.677 1202.01 125.482 1205.58 Q127.311 1209.12 130.922 1209.12 Q134.556 1209.12 136.362 1205.58 Q138.191 1202.01 138.191 1194.91 Q138.191 1187.78 136.362 1184.23 Q134.556 1180.67 130.922 1180.67 M130.922 1176.97 Q136.732 1176.97 139.788 1181.57 Q142.867 1186.16 142.867 1194.91 Q142.867 1203.63 139.788 1208.24 Q136.732 1212.82 130.922 1212.82 Q125.112 1212.82 122.033 1208.24 Q118.978 1203.63 118.978 1194.91 Q118.978 1186.16 122.033 1181.57 Q125.112 1176.97 130.922 1176.97 Z\" fill=\"#000000\" fill-rule=\"nonzero\" fill-opacity=\"1\" /><path clip-path=\"url(#clip910)\" d=\"M82.1494 947.105 L111.825 947.105 L111.825 951.041 L82.1494 951.041 L82.1494 947.105 Z\" fill=\"#000000\" fill-rule=\"nonzero\" fill-opacity=\"1\" /><path clip-path=\"url(#clip910)\" d=\"M121.964 929.374 L140.32 929.374 L140.32 933.309 L126.246 933.309 L126.246 941.781 Q127.265 941.434 128.283 941.272 Q129.302 941.087 130.32 941.087 Q136.107 941.087 139.487 944.258 Q142.867 947.429 142.867 952.846 Q142.867 958.425 139.394 961.527 Q135.922 964.605 129.603 964.605 Q127.427 964.605 125.158 964.235 Q122.913 963.865 120.506 963.124 L120.506 958.425 Q122.589 959.559 124.811 960.115 Q127.033 960.67 129.51 960.67 Q133.515 960.67 135.853 958.564 Q138.191 956.457 138.191 952.846 Q138.191 949.235 135.853 947.128 Q133.515 945.022 129.51 945.022 Q127.635 945.022 125.76 945.439 Q123.908 945.855 121.964 946.735 L121.964 929.374 Z\" fill=\"#000000\" fill-rule=\"nonzero\" fill-opacity=\"1\" /><path clip-path=\"url(#clip910)\" d=\"M130.922 684.235 Q127.311 684.235 125.482 687.8 Q123.677 691.342 123.677 698.471 Q123.677 705.578 125.482 709.142 Q127.311 712.684 130.922 712.684 Q134.556 712.684 136.362 709.142 Q138.191 705.578 138.191 698.471 Q138.191 691.342 136.362 687.8 Q134.556 684.235 130.922 684.235 M130.922 680.532 Q136.732 680.532 139.788 685.138 Q142.867 689.721 142.867 698.471 Q142.867 707.198 139.788 711.805 Q136.732 716.388 130.922 716.388 Q125.112 716.388 122.033 711.805 Q118.978 707.198 118.978 698.471 Q118.978 689.721 122.033 685.138 Q125.112 680.532 130.922 680.532 Z\" fill=\"#000000\" fill-rule=\"nonzero\" fill-opacity=\"1\" /><path clip-path=\"url(#clip910)\" d=\"M121.964 432.939 L140.32 432.939 L140.32 436.874 L126.246 436.874 L126.246 445.346 Q127.265 444.999 128.283 444.837 Q129.302 444.652 130.32 444.652 Q136.107 444.652 139.487 447.823 Q142.867 450.995 142.867 456.411 Q142.867 461.99 139.394 465.092 Q135.922 468.17 129.603 468.17 Q127.427 468.17 125.158 467.8 Q122.913 467.43 120.506 466.689 L120.506 461.99 Q122.589 463.124 124.811 463.68 Q127.033 464.235 129.51 464.235 Q133.515 464.235 135.853 462.129 Q138.191 460.022 138.191 456.411 Q138.191 452.8 135.853 450.694 Q133.515 448.587 129.51 448.587 Q127.635 448.587 125.76 449.004 Q123.908 449.42 121.964 450.3 L121.964 432.939 Z\" fill=\"#000000\" fill-rule=\"nonzero\" fill-opacity=\"1\" /><path clip-path=\"url(#clip910)\" d=\"M91.5706 215.346 L99.2095 215.346 L99.2095 188.981 L90.8993 190.648 L90.8993 186.388 L99.1632 184.722 L103.839 184.722 L103.839 215.346 L111.478 215.346 L111.478 219.282 L91.5706 219.282 L91.5706 215.346 Z\" fill=\"#000000\" fill-rule=\"nonzero\" fill-opacity=\"1\" /><path clip-path=\"url(#clip910)\" d=\"M130.922 187.8 Q127.311 187.8 125.482 191.365 Q123.677 194.907 123.677 202.036 Q123.677 209.143 125.482 212.708 Q127.311 216.249 130.922 216.249 Q134.556 216.249 136.362 212.708 Q138.191 209.143 138.191 202.036 Q138.191 194.907 136.362 191.365 Q134.556 187.8 130.922 187.8 M130.922 184.097 Q136.732 184.097 139.788 188.703 Q142.867 193.286 142.867 202.036 Q142.867 210.763 139.788 215.37 Q136.732 219.953 130.922 219.953 Q125.112 219.953 122.033 215.37 Q118.978 210.763 118.978 202.036 Q118.978 193.286 122.033 188.703 Q125.112 184.097 130.922 184.097 Z\" fill=\"#000000\" fill-rule=\"nonzero\" fill-opacity=\"1\" /><polyline clip-path=\"url(#clip912)\" style=\"stroke:#009af9; stroke-linecap:round; stroke-linejoin:round; stroke-width:4; stroke-opacity:1; fill:none\" points=\"240.392,609.619 261.107,724.796 281.823,763.073 302.538,580.435 323.254,556.291 343.97,808.945 364.685,1290.61 385.401,566.383 406.116,1445.72 426.832,494.856 447.547,677.386 468.263,830.22 488.978,586.771 509.694,711.288 530.409,681.534 551.125,1056.15 571.841,806.346 592.556,602.6 613.272,917.557 633.987,807.073 654.703,467.043 675.418,885.714 696.134,1072 716.849,236.991 737.565,730.924 758.28,704.696 778.996,1026.66 799.712,770.076 820.427,773.688 841.143,718.693 861.858,592.867 882.574,553.766 903.289,804.616 924.005,87.9763 944.72,668.108 965.436,1202.34 986.151,287.781 1006.87,662.569 1027.58,954.05 1048.3,1025.86 1069.01,1280.6 1089.73,1169.25 1110.44,488.762 1131.16,1068.59 1151.88,389.966 1172.59,490.561 1193.31,487.594 1214.02,329.261 1234.74,981.671 1255.45,853.341 1276.17,825.695 1296.88,280.029 1317.6,1010.91 1338.32,623.207 1359.03,865.287 1379.75,421.284 1400.46,642.505 1421.18,1402.82 1441.89,653.627 1462.61,592.306 1483.32,1101.08 1504.04,593.485 1524.76,543.388 1545.47,673.941 1566.19,669.982 1586.9,445.184 1607.62,697.463 1628.33,329.559 1649.05,741.279 1669.76,442.306 1690.48,533.034 1711.2,629.994 1731.91,811.409 1752.63,753.144 1773.34,811.372 1794.06,372.822 1814.77,885.859 1835.49,845.33 1856.2,434.385 1876.92,767.485 1897.64,700.979 1918.35,410.093 1939.07,702.382 1959.78,1122.94 1980.5,867.375 2001.21,275.14 2021.93,268.251 2042.64,1212.97 2063.36,984.775 2084.08,646.877 2104.79,447.125 2125.51,805.779 2146.22,491.9 2166.94,1090.3 2187.65,779.489 2208.37,939.185 2229.08,741.06 2249.8,1012.04 2270.52,727.277 2291.23,421.187 \"/>\n",
       "<path clip-path=\"url(#clip910)\" d=\"M251.33 198.898 L521.149 198.898 L521.149 95.2176 L251.33 95.2176  Z\" fill=\"#ffffff\" fill-rule=\"evenodd\" fill-opacity=\"1\"/>\n",
       "<polyline clip-path=\"url(#clip910)\" style=\"stroke:#000000; stroke-linecap:round; stroke-linejoin:round; stroke-width:4; stroke-opacity:1; fill:none\" points=\"251.33,198.898 521.149,198.898 521.149,95.2176 251.33,95.2176 251.33,198.898 \"/>\n",
       "<polyline clip-path=\"url(#clip910)\" style=\"stroke:#009af9; stroke-linecap:round; stroke-linejoin:round; stroke-width:4; stroke-opacity:1; fill:none\" points=\"275.484,147.058 420.41,147.058 \"/>\n",
       "<path clip-path=\"url(#clip910)\" d=\"M458.407 166.745 Q456.601 171.375 454.888 172.787 Q453.175 174.199 450.305 174.199 L446.902 174.199 L446.902 170.634 L449.402 170.634 Q451.161 170.634 452.134 169.8 Q453.106 168.967 454.286 165.865 L455.05 163.921 L444.564 138.412 L449.078 138.412 L457.18 158.689 L465.282 138.412 L469.796 138.412 L458.407 166.745 Z\" fill=\"#000000\" fill-rule=\"nonzero\" fill-opacity=\"1\" /><path clip-path=\"url(#clip910)\" d=\"M477.087 160.402 L484.726 160.402 L484.726 134.037 L476.416 135.703 L476.416 131.444 L484.68 129.778 L489.356 129.778 L489.356 160.402 L496.994 160.402 L496.994 164.338 L477.087 164.338 L477.087 160.402 Z\" fill=\"#000000\" fill-rule=\"nonzero\" fill-opacity=\"1\" /></svg>\n"
      ]
     },
     "execution_count": 11,
     "metadata": {},
     "output_type": "execute_result"
    }
   ],
   "source": [
    "using Random\n",
    "using Plots\n",
    "\n",
    "T = 100\n",
    "sigma = 5.0;\n",
    "epsilon_vec = sigma*randn(T)\n",
    "    \n",
    "plot(epsilon_vec)"
   ]
  },
  {
   "cell_type": "markdown",
   "metadata": {
    "slideshow": {
     "slide_type": "skip"
    }
   },
   "source": [
    "- More exercises are found at [https://python-programming.quantecon.org/python_by_example.html](https://python-programming.quantecon.org/python_by_example.html)."
   ]
  }
 ],
 "metadata": {
  "celltoolbar": "Slideshow",
  "kernelspec": {
   "display_name": "Julia 1.8.3",
   "language": "julia",
   "name": "julia-1.8"
  },
  "language_info": {
   "file_extension": ".jl",
   "mimetype": "application/julia",
   "name": "julia",
   "version": "1.8.3"
  }
 },
 "nbformat": 4,
 "nbformat_minor": 4
}

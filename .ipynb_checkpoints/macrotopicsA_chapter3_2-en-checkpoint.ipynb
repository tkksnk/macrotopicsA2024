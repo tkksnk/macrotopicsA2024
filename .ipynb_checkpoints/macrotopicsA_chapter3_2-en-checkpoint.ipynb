{
 "cells": [
  {
   "cell_type": "markdown",
   "metadata": {
    "slideshow": {
     "slide_type": "slide"
    }
   },
   "source": [
    "# Infinite period model (neoclassical growth model)\n",
    "<!-- # 無限期間モデル（新古典派成長モデル） -->\n",
    "\n",
    "- In contrast to Robinson Crusoe's life on the deserted island, there is no clear last period in the society we live in\n",
    "<!-- - ロビンソン・クルーソーの無人島生活と違って、われわれが生活する社会では明確な最終期は存在しない -->\n",
    "\n",
    "- Instead we consider the economic behavior that continues from our generation to our child, grandchild, and their child  \n",
    "<!-- - あるいは、自分の世代から子供、孫、またその子供と続く王朝的な経済活動を考える -->\n",
    "\n",
    "- We consider such a permanent economic behavior in the infinite horizon model\n",
    "<!-- - 無限期間モデル(infinite horizon model)では、そのような永続的な経済活動を考える -->"
   ]
  },
  {
   "cell_type": "markdown",
   "metadata": {
    "slideshow": {
     "slide_type": "subslide"
    }
   },
   "source": [
    "- We extend the economy with the representative agent to the one with infinite periods\n",
    "<!-- - 代表的個人が存在する経済を無限期間に拡張する -->\n",
    "\n",
    "- Robinson Crusoe chooses consumption and saving so as to maximize the discounted present value of the utility from consumption in infinite periods\n",
    "<!-- - ロビンソン・クルーソーは無限期間の消費から得られる効用の割引現在価値を最大化するように、消費と貯蓄を選択する -->\n",
    "\n",
    "$$\n",
    "  \\max_{\\{c_{t},k_{t+1}\\}_{t=0}^{\\infty}} \\sum_{t=0}^{\\infty} \\beta^{t} u(c_{t})\n",
    "$$\n",
    "\n",
    "subject to\n",
    "\n",
    "$$\n",
    "  c_{t} + k_{t+1} \\leq f(k_{t}) + (1-\\delta)k_{t}, k_{0} \\text{ given.}\n",
    "$$\n",
    "\n",
    "where capital $k_{t}$ produces goods $f(k_{t})$ but depreciates at the rate of $\\delta$\n",
    "<!-- ここで、資本$k_{t}$は財$f(k_{t})$を生み出すが、$\\delta$の割合で減耗する -->"
   ]
  },
  {
   "cell_type": "markdown",
   "metadata": {
    "slideshow": {
     "slide_type": "subslide"
    }
   },
   "source": [
    "- This can be rewritten in the form of the Bellman equation \n",
    "<!-- - これをベルマン方程式の形で書き換えると -->\n",
    "\n",
    "$$\n",
    "  V(k_{t}) = \\max\\{u(f(k_{t})+(1-\\delta)k_{t}-k_{t+1}) + \\beta V(k_{t+1})\\}\n",
    "$$\n",
    "\n",
    "Or, the decision making by the economic agent is rewritten recursively\n",
    "<!-- あるいは、経済主体の意思決定を再帰的(recursive)に書き直すと -->\n",
    "\n",
    "$$\n",
    "  V(k) = \\max\\{u(f(k)+(1-\\delta)k-k') + \\beta V(k')\\} \\tag{6}\n",
    "$$\n",
    "\n",
    "- Instead of using the subscript denoting time $t+1$, we denote the next period's variable by $k'$: In the finite period model, time is one of the state variables, whereas we don't need to write time explicitly here\n",
    "<!-- - 時間をあらわすサブスクリプト$t+1$の代わりに、次期の変数を$k'$と表記している：有限期間モデルでは、時間が状態変数の一つとなっていたが、ここでは時間を明示的に書く必要がない -->"
   ]
  },
  {
   "cell_type": "markdown",
   "metadata": {
    "slideshow": {
     "slide_type": "slide"
    }
   },
   "source": [
    "# Solution for the infinite period model\n",
    "## Characterization of the Bellman equation\n",
    "<!-- # 無限期間モデルの解法 -->\n",
    "<!-- ## ベルマン方程式の特徴付け -->\n",
    "\n",
    "- To use the dynamic programming and its numerical methods properly, it is important to understand its theory\n",
    "<!-- - 動的計画法及びその数値計算を正しく使うためには、理論的な理解が重要になってくる -->\n",
    "\n",
    "- We introduce some intuitive results without proofs from the important characteristics of the Bellman equation\n",
    "  - If you want to understand the dynamic programming in detail, take your time to work on Stokey et al.(1989)\n",
    "<!-- - ここではベルマン方程式の重要な性質について、直観的な結果だけ証明なしで紹介する -->\n",
    "<!--   - 動的計画法について詳細な理解が得たいのであれば、Stokey et al.(1989)にじっくりと取り組むこと -->"
   ]
  },
  {
   "cell_type": "markdown",
   "metadata": {
    "slideshow": {
     "slide_type": "subslide"
    }
   },
   "source": [
    "- The solution method for Eq. (6) is similar to backward induction in the finite period model\n",
    "<!-- - (6)式の解法は、有限期間モデルの後ろ向き帰納法と似ている -->\n",
    "\n",
    "- Many studies of value function iteration, VFI, have been accumulated for long time, and its pros and cons are clear\n",
    "<!-- - 価値関数反復法(value function iteration, VFI)には昔から多くの研究の蓄積があり、その長所と短所もはっきりしている -->"
   ]
  },
  {
   "cell_type": "markdown",
   "metadata": {
    "slideshow": {
     "slide_type": "subslide"
    }
   },
   "source": [
    "- In the case of the finite period model, we can calculate the value functions for all the periods by computing backward from $V_{T}(k)$ to $V_{T-1}(k),V_{T-2}(k),...,V_{0}(k)$\n",
    "<!-- % - 有限期間モデルの場合には、$V_{T}(k)$から始まって後ろ向きに$V_{T-1}(k),V_{T-2}(k),...,V_{0}(k)$と計算することで、全期間の価値関数を計算することができた -->"
   ]
  },
  {
   "cell_type": "markdown",
   "metadata": {
    "slideshow": {
     "slide_type": "fragment"
    }
   },
   "source": [
    "- In the case of the infinite period model, we guess the initial value function $V^{(0)}(k)$ arbitralily, and compute\n",
    "<!-- - 無限期間モデルの場合には、任意に価値関数$V^{(0)}(k)$を推測して、有限期間モデルの場合と同じように -->\n",
    "\n",
    "$$\n",
    "  V^{(1)}(k) = \\max_{k'} u(c) + \\beta V^{(0)}(k')\n",
    "$$\n",
    "\n",
    "as in the finite period model\n",
    "<!-- を計算する -->"
   ]
  },
  {
   "cell_type": "markdown",
   "metadata": {
    "slideshow": {
     "slide_type": "subslide"
    }
   },
   "source": [
    "- After that, substitute the obtained $V^{(1)}(k)$ into the right-hand side to compute\n",
    "<!-- - その後、得られた$V^{(1)}(k)$を右辺に代入して、 -->\n",
    "\n",
    "$$\n",
    "  V^{(2)}(k) = \\max_{k'} u(c) + \\beta V^{(1)}(k')\n",
    "$$\n",
    "\n",
    "likewise\n",
    "<!-- を同じように計算する -->\n",
    "\n",
    "- By contraction mapping property, under some conditions, the obtained $V^{(0)}(k),V^{(1)}(k),...$ by the iterative computation will converge to the true value function\n",
    "<!-- - 縮小写像の性質(contraction mapping property)により、「一定の条件下において」、この繰り返し計算により得られた$V^{(0)}(k),V^{(1)}(k),...$は真の価値関数に収束(converge)する -->"
   ]
  },
  {
   "cell_type": "markdown",
   "metadata": {
    "slideshow": {
     "slide_type": "subslide"
    }
   },
   "source": [
    "- In many numerical methods, it is often the case that we cannot theoretically check if the value function converges to the true one even when a reasonable one is obtained \n",
    "<!-- - 多くの数値計算手法では、もっともらしい値が得られていても本当に真の値に収束しているのか、理論的にきちんと確認できないことが多い -->\n",
    "\n",
    "- The characteristics of the contraction mapping property of VFI is very strong in the sense that it is possible to analyze the model numerically when the model is in the form of the Bellman equation and satisfies some conditions\n",
    "<!-- - VFIの縮小写像の性質は、モデルをベルマン方程式の形にして一定の条件を満たすことができれば、数値的に分析可能にしてくれるという意味で極めて強い性質である -->"
   ]
  },
  {
   "cell_type": "markdown",
   "metadata": {
    "slideshow": {
     "slide_type": "subslide"
    }
   },
   "source": [
    "## Numerical computation\n",
    "### Discretizing the control and state variables\n",
    "<!-- ## 数値計算 -->\n",
    "<!-- ### 状態変数と操作変数を離散化する -->\n",
    "\n",
    "- When we specify $u(c)=\\ln c, f(k)=k^{\\alpha}, \\delta=1$, there exists the analytical solution as follows\n",
    "<!-- - $u(c)=\\ln c, f(k)=k^{\\alpha}, \\delta=1$と特定化した場合、次のような解析的解が存在する -->\n",
    "\n",
    "\\begin{align*}\n",
    "  V(k) &= A + B\\ln k, \\\\\n",
    "  A &= (1-\\beta)^{-1}\\big[\\ln(1-\\alpha\\beta) + \\frac{\\alpha\\beta}{1-\\alpha\\beta}\\ln\\alpha\\beta\\big], \\quad B = \\frac{\\alpha}{1-\\alpha\\beta}, \\\\\n",
    "  k' &= \\alpha\\beta k^{\\alpha}\n",
    "\\end{align*}\n",
    "\n",
    "- We will check how close the numerical solutions by approximation and the analytical solution are \n",
    "<!-- - 近似的な計算によって得られた数値解と解析的解がどの程度近いかを確認する -->"
   ]
  },
  {
   "cell_type": "markdown",
   "metadata": {
    "slideshow": {
     "slide_type": "subslide"
    }
   },
   "source": [
    "- The state variable $k$ and the control vairable $k'$ are discretized by $I$ grid points $k^{i}\\in\\{k^{1},...,k^{I}\\}$\n",
    "  - The lower bound of the grid is positive: $k^{1}>0$\n",
    "  - Regarding the upper bound, sometimes try and error is needed: set it somewhere in the right side of the point where the policy function and the 45 degree line intersects (capital decreases) \n",
    "\n",
    "<!-- - 状態変数$k$および操作変数$k'$を$I$個のグリッド$k^{i}\\in\\{k^{1},...,k^{I}\\}$で離散化する -->\n",
    "<!--   - グリッドの下限については、正値とする：$k^{1}>0$ -->\n",
    "<!--   - 上限については、場合によっては試行錯誤が必要になる：政策関数と45度線が交わる点の右側（資本が減少していく）に設定 -->"
   ]
  },
  {
   "cell_type": "markdown",
   "metadata": {
    "slideshow": {
     "slide_type": "subslide"
    }
   },
   "source": [
    "- Algorithm\n",
    "<!-- - アルゴリズム -->\n",
    "\n",
    "\n",
    "1. Make the grid: Discretize the state and control variables by the grid with $I=J=10000$ points for each. Also, make an initial guess of the value function $V^{(0)}(k^{i})$ on the grid\n",
    "<!-- 1. グリッド生成：状態変数および操作変数をそれぞれ$I=J=10000$個のグリッドに区切る。また、グリッド上における価値関数$V^{(0)}(k^{i})$の初期値を当て推量(initial guess)する -->\n",
    "\n",
    "2. Convergence criteria: Set the parameter $\\varepsilon=10^{-5}$ for the criteria of convergence\n",
    "<!-- 2. 収束の基準：収束の基準になるパラメータ$\\varepsilon=10^{-5}$を与える -->\n",
    "\n",
    "3. Set the utility function: Evaluate the utility function $u([k^{i}]^{\\alpha}+(1-\\delta)k^{i}-k^{j})$ on all the grid points of the state and control variables ($I \\times J$ points)\n",
    "<!-- 3. 効用関数を設定：効用関数$u([k^{i}]^{\\alpha}+(1-\\delta)k^{i}-k^{j})$を状態変数と操作変数の全てのグリッド($I \\times J$個)上で評価する -->\n",
    "\n",
    "4. Calculate the combination of the value function: for each of the state variable $k^{i}$, calculate a vector of $J \\times 1$\n",
    "<!-- 4. 価値関数の組み合わせを計算：各状態変数$k^{i}$について、 -->\n",
    "\n",
    "$$\n",
    "  \\tilde{V}(k^{i},k^{j}) = u([k^{i}]^{\\alpha}+(1-\\delta)k^{i}-k^{j}) + \\beta V^{(0)}(k^{j})\n",
    "$$\n",
    "\n",
    "<!-- を計算する -->\n",
    "\n",
    "5. Find the saving to maximize the value function: for each $k^{i}$, calculate $V^{(1)}(k^{i})=\\max_{k^{j}}\\tilde{V}(k^{i},k^{j})$\n",
    "<!-- 5. 価値関数を最大にする貯蓄を探す：各$k^{i}$について、$V^{(1)}(k^{i})=\\max_{k^{j}}\\tilde{V}(k^{i},k^{j})$を計算する -->\n",
    "\n",
    "6. If $\\|V^{(0)}(k^{i})-V^{(1)}(k^{i})\\|<\\varepsilon$ holds for all the $k^{i}$s, stop the algorithm. Otherwise, substitute $V^{(1)}(k^{i})$ into $V^{(0)}(k^{i})$ and iterate the steps 4-5\n",
    "<!-- 6. 全ての$k^{i}$について$\\|V^{(0)}(k^{i})-V^{(1)}(k^{i})\\|<\\varepsilon$であればストップ。そうでなければ、$V^{(1)}(k^{i})$を$V^{(0)}(k^{i})$に代入して、ステップ4-5を繰り返す -->"
   ]
  },
  {
   "cell_type": "code",
   "execution_count": 1,
   "metadata": {
    "slideshow": {
     "slide_type": "skip"
    }
   },
   "outputs": [],
   "source": [
    "using Plots"
   ]
  },
  {
   "cell_type": "code",
   "execution_count": 2,
   "metadata": {
    "slideshow": {
     "slide_type": "skip"
    }
   },
   "outputs": [
    {
     "data": {
      "text/plain": [
       "Main.MyEconFcn"
      ]
     },
     "execution_count": 2,
     "metadata": {},
     "output_type": "execute_result"
    }
   ],
   "source": [
    "include(\"GenerateGrid.jl\")\n",
    "include(\"MyEconFcn.jl\")"
   ]
  },
  {
   "cell_type": "code",
   "execution_count": 3,
   "metadata": {
    "slideshow": {
     "slide_type": "skip"
    }
   },
   "outputs": [],
   "source": [
    "struct Params\n",
    "    # parameters\n",
    "    β::Float64 # Discount factor (\\beta)\n",
    "    γ::Float64 # Relative risk aversion (\\gamma)\n",
    "    α::Float64 # capital share (\\alpha)\n",
    "    δ::Float64 # capital depreciation \\delta)\n",
    "\n",
    "    # grid\n",
    "    nk::Int64 # the number of grid points for capital\n",
    "    kmax::Float64 # the maximum value of the grid for capital\n",
    "    kmin::Float64 # the minimum value of the grid for capital\n",
    "    kgrid::Vector{Float64} # the grid for capital\n",
    "\n",
    "    # iterations\n",
    "    maxit::Int64 # the maximum number of iterations\n",
    "    tol::Float64 # the tolerance of errors\n",
    "end"
   ]
  },
  {
   "cell_type": "code",
   "execution_count": 4,
   "metadata": {
    "slideshow": {
     "slide_type": "skip"
    }
   },
   "outputs": [
    {
     "data": {
      "text/plain": [
       "calibration (generic function with 1 method)"
      ]
     },
     "execution_count": 4,
     "metadata": {},
     "output_type": "execute_result"
    }
   ],
   "source": [
    "function calibration()\n",
    "    β = 0.96\n",
    "    γ = 1.0\n",
    "    α = 0.4\n",
    "    δ = 1.0 # 0.08\n",
    "\n",
    "    nk = 101\n",
    "    kmax = 0.5 # If \\delta is 0.08, make it 10.0\n",
    "    kmin = 0.05\n",
    "\n",
    "    # Make equally distanced grid by own code\n",
    "    kgrid = GenerateGrid.grid_uni(kmin, kmax, nk)\n",
    "    # Or use it as before\n",
    "    # kgrid = collect(LinRange(kmin, kmax, nk))\n",
    "\n",
    "    maxit = 1000\n",
    "    tol = 1e-5 # set the tolerance of errors\n",
    "\n",
    "    return Params(β, γ, α, δ, nk, kmax, kmin, kgrid, maxit, tol)\n",
    "end"
   ]
  },
  {
   "cell_type": "code",
   "execution_count": 18,
   "metadata": {
    "slideshow": {
     "slide_type": "subslide"
    }
   },
   "outputs": [],
   "source": [
    "params = calibration();\n",
    "\n",
    "# Define variables\n",
    "vfcn = zeros(params.nk) # intial guess of value function\n",
    "pfcn = zeros(Int64,params.nk)\n",
    "Tvfcn = zeros(params.nk)\n",
    "Tpfcn = zeros(Int64,params.nk)\n",
    "\n",
    "# Variables for plot\n",
    "val_tmp = zeros(params.nk, 4)\n",
    "dif = zeros(2, params.maxit);"
   ]
  },
  {
   "cell_type": "code",
   "execution_count": 19,
   "metadata": {
    "slideshow": {
     "slide_type": "fragment"
    }
   },
   "outputs": [],
   "source": [
    "# Initial values of the utility function (put penalty for negative consumption)\n",
    "util = -10000.0*ones(params.nk, params.nk)\n",
    "\n",
    "# Maximum of available assets\n",
    "wealth = params.kgrid.^params.α + (1-params.δ)*params.kgrid\n",
    "\n",
    "# Compute the utility for combinations of (k,k') such that consumption is positive\n",
    "for i = 1:params.nk, j = 1:params.nk\n",
    "    cons = wealth[i] - params.kgrid[j]\n",
    "    if cons > 0.0\n",
    "        util[j, i] = MyEconFcn.crra(cons, params.γ)\n",
    "    end\n",
    "end"
   ]
  },
  {
   "cell_type": "code",
   "execution_count": 20,
   "metadata": {
    "slideshow": {
     "slide_type": "subslide"
    }
   },
   "outputs": [
    {
     "name": "stdout",
     "output_type": "stream",
     "text": [
      "[1.0, Inf]\n",
      "[2.0, 2.7442518620987317]\n",
      "[3.0, 0.7753373589685102]\n",
      "[4.0, 0.431601626856922]\n",
      "[5.0, 0.2924695427381826]\n",
      "[6.0, 0.21809500541102828]\n",
      "[7.0, 0.17217938063175117]\n",
      "[8.0, 0.14109638277275696]\n",
      "[9.0, 0.11872723784013657]\n",
      "[10.0, 0.10190159176638784]\n",
      "[11.0, 0.08877882455811141]\n",
      "[12.0, 0.07827822295347941]\n",
      "[13.0, 0.06969174785845808]\n",
      "[14.0, 0.06254519405058781]\n",
      "[15.0, 0.056509018745517954]\n",
      "[16.0, 0.0513470846279294]\n",
      "[17.0, 0.0468857544416526]\n",
      "[18.0, 0.042994494932250125]\n",
      "[19.0, 0.03957328186822442]\n",
      "[20.0, 0.03654417755448892]\n",
      "[21.0, 0.03384555256977003]\n",
      "[22.0, 0.03142803137878398]\n",
      "[23.0, 0.029251590228065734]\n",
      "[24.0, 0.02728344253781624]\n",
      "[25.0, 0.025496473272846456]\n",
      "[26.0, 0.023868062913777355]\n",
      "[27.0, 0.022379192424478833]\n",
      "[28.0, 0.021013753885730416]\n",
      "[29.0, 0.019758013693279952]\n",
      "[30.0, 0.018600190330304793]\n",
      "[31.0, 0.017530119164126848]\n",
      "[32.0, 0.016538984036547775]\n",
      "[33.0, 0.015619100619278127]\n",
      "[34.0, 0.014763740250025012]\n",
      "[35.0, 0.013966985691203396]\n",
      "[36.0, 0.013223612260329152]\n",
      "[37.0, 0.012528989273746278]\n",
      "[38.0, 0.011878997865950702]\n",
      "[39.0, 0.011269962095629839]\n",
      "[40.0, 0.010698590897908217]\n",
      "[41.0, 0.010161928941513054]\n",
      "[42.0, 0.009657314836716113]\n",
      "[43.0, 0.009182345442370905]\n",
      "[44.0, 0.008734845258130368]\n",
      "[45.0, 0.008312840076084916]\n",
      "[46.0, 0.007914534215828758]\n",
      "[47.0, 0.0075382907868340645]\n",
      "[48.0, 0.007182614518510605]\n",
      "[49.0, 0.00684613677636461]\n",
      "[50.0, 0.006527602446142029]\n",
      "[51.0, 0.006225858419646568]\n",
      "[52.0, 0.005939843458453801]\n",
      "[53.0, 0.005668579246758184]\n",
      "[54.0, 0.005411162473589038]\n",
      "[55.0, 0.005166757808681013]\n",
      "[56.0, 0.004934591656360724]\n",
      "[57.0, 0.004713946588601634]\n",
      "[58.0, 0.004504156372490914]\n",
      "[59.0, 0.004304601519227289]\n",
      "[60.0, 0.004114705291808125]\n",
      "[61.0, 0.003933930117065337]\n",
      "[62.0, 0.003761774354954335]\n",
      "[63.0, 0.00359776938415165]\n",
      "[64.0, 0.0034414769683128997]\n",
      "[65.0, 0.003292486871842359]\n",
      "[66.0, 0.003150414697934788]\n",
      "[67.0, 0.0030148999249812285]\n",
      "[68.0, 0.002885604120335587]\n",
      "[69.0, 0.002762209312947858]\n",
      "[70.0, 0.002644416508522607]\n",
      "[71.0, 0.0025319443327892987]\n",
      "[72.0, 0.00242452779008013]\n",
      "[73.0, 0.00232191712587899]\n",
      "[74.0, 0.0022238767832549735]\n",
      "[75.0, 0.0021301844441951744]\n",
      "[76.0, 0.0020406301478301204]\n",
      "[77.0, 0.001955015478392169]\n",
      "[78.0, 0.0018731528165070663]\n",
      "[79.0, 0.0017948646480759262]\n",
      "[80.0, 0.0017199829256040985]\n",
      "[81.0, 0.0016483484773437006]\n",
      "[82.0, 0.001579810460083808]\n",
      "[83.0, 0.0015142258518403536]\n",
      "[84.0, 0.0014514589810550565]\n",
      "[85.0, 0.0013913810892346751]\n",
      "[86.0, 0.00133386992427707]\n",
      "[87.0, 0.0012788093619595328]\n",
      "[88.0, 0.001226089053320843]\n",
      "[89.0, 0.0011756040958750818]\n",
      "[90.0, 0.0011272547267662347]\n",
      "[91.0, 0.0010809460361669158]\n",
      "[92.0, 0.001036587699355598]\n",
      "[93.0, 0.000994093726052676]\n",
      "[94.0, 0.0009533822257216929]\n",
      "[95.0, 0.0009143751876411177]\n",
      "[96.0, 0.0008769982746736237]\n",
      "[97.0, 0.0008411806297257363]\n",
      "[98.0, 0.0008068546939970234]\n",
      "[99.0, 0.0007739560361763641]\n",
      "[100.0, 0.0007424231918186885]\n",
      "[101.0, 0.0007121975121959734]\n",
      "[102.0, 0.0006832230219712168]\n",
      "[103.0, 0.0006554462851008637]\n",
      "[104.0, 0.0006288162784032124]\n",
      "[105.0, 0.000603284272296023]\n",
      "[106.0, 0.0005788037182244145]\n",
      "[107.0, 0.00055533014234384]\n",
      "[108.0, 0.0005328210450636177]\n",
      "[109.0, 0.0005112358060646117]\n",
      "[110.0, 0.0004905355944617483]\n",
      "[111.0, 0.00047068328377909696]\n",
      "[112.0, 0.00045164337144264503]\n",
      "[113.0, 0.0004333819025213257]\n",
      "[114.0, 0.0004158663974500869]\n",
      "[115.0, 0.00039906578350242585]\n",
      "[116.0, 0.0003829503297886106]\n",
      "[117.0, 0.0003674915855734165]\n",
      "[118.0, 0.00035266232171474784]\n",
      "[119.0, 0.00033843647505291455]\n",
      "[120.0, 0.00032478909557431265]\n",
      "[121.0, 0.000311696296193362]\n",
      "[122.0, 0.0002991352050097897]\n",
      "[123.0, 0.00028708391990232986]\n",
      "[124.0, 0.000275521465323975]\n",
      "[125.0, 0.0002644277511895724]\n",
      "[126.0, 0.0002537835337329068]\n",
      "[127.0, 0.00024357037823201434]\n",
      "[128.0, 0.00023377062350376596]\n",
      "[129.0, 0.0002243673480687478]\n",
      "[130.0, 0.00021534433790805263]\n",
      "[131.0, 0.00020668605571966237]\n",
      "[132.0, 0.00019837761160482659]\n",
      "[133.0, 0.00019040473510440386]\n",
      "[134.0, 0.00018275374852085507]\n",
      "[135.0, 0.00017541154146329504]\n",
      "[136.0, 0.00016836554654466778]\n",
      "[137.0, 0.0001616037161851]\n",
      "[138.0, 0.00015511450045783206]\n",
      "[139.0, 0.00014888682593372838]\n",
      "[140.0, 0.0001429100754691861]\n",
      "[141.0, 0.00013717406889367305]\n",
      "[142.0, 0.00013166904455948184]\n",
      "[143.0, 0.0001263856417000922]\n",
      "[144.0, 0.0001213148835730435]\n",
      "[145.0, 0.00011644816133490413]\n",
      "[146.0, 0.00011177721862979492]\n",
      "[147.0, 0.00010729413684471731]\n",
      "[148.0, 0.00010299132100569139]\n",
      "[149.0, 9.886148629045631e-5]\n",
      "[150.0, 9.489764511677262e-5]\n",
      "[151.0, 9.109309479176925e-5]\n",
      "[152.0, 8.744140569186697e-5]\n",
      "[153.0, 8.393640994643493e-5]\n",
      "[154.0, 8.057219060826519e-5]\n",
      "[155.0, 7.734307128323736e-5]\n",
      "[156.0, 7.42436062033447e-5]\n",
      "[157.0, 7.126857071945475e-5]\n",
      "[158.0, 6.841295219763967e-5]\n",
      "[159.0, 6.567194129803733e-5]\n",
      "[160.0, 6.304092362636813e-5]\n",
      "[161.0, 6.0515471730232065e-5]\n",
      "[162.0, 5.809133743612204e-5]\n",
      "[163.0, 5.576444450763862e-5]\n",
      "[164.0, 5.353088160753909e-5]\n",
      "[165.0, 5.138689555705797e-5]\n",
      "[166.0, 4.9328884876784625e-5]\n",
      "[167.0, 4.735339359173132e-5]\n",
      "[168.0, 4.5457105299682055e-5]\n",
      "[169.0, 4.3636837483404234e-5]\n",
      "[170.0, 4.188953605713911e-5]\n",
      "[171.0, 4.02122701417827e-5]\n",
      "[172.0, 3.860222705265989e-5]\n",
      "[173.0, 3.705670749916337e-5]\n",
      "[174.0, 3.557312097659256e-5]\n",
      "[175.0, 3.414898135144592e-5]\n",
      "[176.0, 3.278190262894111e-5]\n",
      "[177.0, 3.146959489070186e-5]\n",
      "[178.0, 3.0209860402777476e-5]\n",
      "[179.0, 2.9000589882961694e-5]\n",
      "[180.0, 2.783975891837283e-5]\n",
      "[181.0, 2.6725424531941098e-5]\n",
      "[182.0, 2.565572189093027e-5]\n",
      "[183.0, 2.4628861144065533e-5]\n",
      "[184.0, 2.364312439483714e-5]\n",
      "[185.0, 2.2696862794520915e-5]\n",
      "[186.0, 2.1788493752074734e-5]\n",
      "[187.0, 2.0916498263144903e-5]\n",
      "[188.0, 2.0079418341557158e-5]\n",
      "[189.0, 1.9275854559719616e-5]\n",
      "[190.0, 1.8504463688088727e-5]\n",
      "[191.0, 1.7763956428140583e-5]\n",
      "[192.0, 1.7053095240553448e-5]\n",
      "[193.0, 1.6370692259977743e-5]\n",
      "[194.0, 1.5715607294125162e-5]\n",
      "[195.0, 1.5086745904924085e-5]\n",
      "[196.0, 1.4483057566657372e-5]\n",
      "[197.0, 1.3903533898469621e-5]\n",
      "[198.0, 1.334720696890176e-5]\n",
      "[199.0, 1.28131476705101e-5]\n",
      "[200.0, 1.2300464156041568e-5]\n",
      "[201.0, 1.1808300342261015e-5]\n",
      "[202.0, 1.1335834471627329e-5]\n",
      "[203.0, 1.0882277733016623e-5]\n",
      "[204.0, 1.0446872938042184e-5]\n",
      "[205.0, 1.0028893249786646e-5]\n",
      "[206.0, 9.627640965165138e-6]\n"
     ]
    }
   ],
   "source": [
    "count = 1\n",
    "\n",
    "# Iterations for maxit times at the maximum\n",
    "for it = 1:params.maxit\n",
    "\n",
    "    vkp = zeros(params.nk, params.nk)\n",
    "\n",
    "    # Compute combinations of the value function\n",
    "    for i = 1:params.nk\n",
    "        vkp[:, i] = util[:, i] + params.β*vfcn\n",
    "    end\n",
    "\n",
    "    # Look for savings to maximize the value function\n",
    "    for i = 1:params.nk\n",
    "        Tvfcn[i] = maximum(vkp[:, i])\n",
    "        Tpfcn[i] = argmax(vkp[:, i])\n",
    "    end\n",
    "\n",
    "    # Check the convergence: Check errors in interations\n",
    "    dif1 = maximum(abs.((Tvfcn-vfcn)./vfcn))\n",
    "    dif2 = maximum(abs.(Tpfcn-pfcn)./pfcn)\n",
    "\n",
    "    # Save errors in interations before the convergence\n",
    "    # Usually unnessesary as they are for the purpose of showing the iteration process\n",
    "    dif[1, it] = dif1\n",
    "    dif[2, it] = dif2\n",
    "\n",
    "    # Usually unnessesary as they are for the purpose of showing the convergence of the value function\n",
    "    if it==1 || it==3 || it==5\n",
    "        val_tmp[:, count] = vfcn\n",
    "        count = count + 1\n",
    "    end\n",
    "\n",
    "    # Update the value and policy functions\n",
    "    vfcn = deepcopy(Tvfcn)\n",
    "    pfcn = deepcopy(Tpfcn)\n",
    "\n",
    "    println([it,dif1,dif2])\n",
    "    \n",
    "    # Check if converged\n",
    "    if dif1 < params.tol\n",
    "        val_tmp[:, end] = vfcn\n",
    "        break\n",
    "    end\n",
    "    \n",
    "    if it == params.maxit\n",
    "        println(\"The model does not converge\")\n",
    "    end\n",
    "end"
   ]
  },
  {
   "cell_type": "code",
   "execution_count": 8,
   "metadata": {
    "slideshow": {
     "slide_type": "skip"
    }
   },
   "outputs": [],
   "source": [
    "policy = zeros(params.nk)\n",
    "for i = 1:params.nk\n",
    "    policy[i] = params.kgrid[pfcn[i]]\n",
    "end"
   ]
  },
  {
   "cell_type": "code",
   "execution_count": 9,
   "metadata": {
    "slideshow": {
     "slide_type": "skip"
    }
   },
   "outputs": [],
   "source": [
    "# compute the converged value function by using the policy function\n",
    "util = zeros(params.nk)\n",
    "valfn = zeros(params.nk)\n",
    "\n",
    "for i = 1:params.nk\n",
    "    cons = params.kgrid[i]^params.α + (1-params.δ)*params.kgrid[i] - policy[i]\n",
    "    util[i] = MyEconFcn.crra(cons, params.γ)\n",
    "    valfn[i] = util[i] / (1-params.β)\n",
    "end"
   ]
  },
  {
   "cell_type": "code",
   "execution_count": 10,
   "metadata": {
    "slideshow": {
     "slide_type": "skip"
    }
   },
   "outputs": [],
   "source": [
    "# Analytical solution\n",
    "AA = (1-params.β)^(-1) * (log(1-params.α*params.β) + ((params.α*params.β)/(1-params.α*params.β))*log(params.α*params.β))\n",
    "BB = params.α / (1 - params.α*params.β)\n",
    "v_true = AA .+ BB*log.(params.kgrid)\n",
    "p_true = params.α*params.β*(params.kgrid.^params.α);"
   ]
  },
  {
   "cell_type": "code",
   "execution_count": 11,
   "metadata": {
    "slideshow": {
     "slide_type": "subslide"
    }
   },
   "outputs": [
    {
     "data": {
      "image/svg+xml": [
       "<?xml version=\"1.0\" encoding=\"utf-8\"?>\n",
       "<svg xmlns=\"http://www.w3.org/2000/svg\" xmlns:xlink=\"http://www.w3.org/1999/xlink\" width=\"600\" height=\"400\" viewBox=\"0 0 2400 1600\">\n",
       "<defs>\n",
       "  <clipPath id=\"clip560\">\n",
       "    <rect x=\"0\" y=\"0\" width=\"2400\" height=\"1600\"/>\n",
       "  </clipPath>\n",
       "</defs>\n",
       "<path clip-path=\"url(#clip560)\" d=\"M0 1600 L2400 1600 L2400 0 L0 0  Z\" fill=\"#ffffff\" fill-rule=\"evenodd\" fill-opacity=\"1\"/>\n",
       "<defs>\n",
       "  <clipPath id=\"clip561\">\n",
       "    <rect x=\"480\" y=\"0\" width=\"1681\" height=\"1600\"/>\n",
       "  </clipPath>\n",
       "</defs>\n",
       "<path clip-path=\"url(#clip560)\" d=\"M242.135 1423.18 L2352.76 1423.18 L2352.76 47.2441 L242.135 47.2441  Z\" fill=\"#ffffff\" fill-rule=\"evenodd\" fill-opacity=\"1\"/>\n",
       "<defs>\n",
       "  <clipPath id=\"clip562\">\n",
       "    <rect x=\"242\" y=\"47\" width=\"2112\" height=\"1377\"/>\n",
       "  </clipPath>\n",
       "</defs>\n",
       "<polyline clip-path=\"url(#clip562)\" style=\"stroke:#000000; stroke-linecap:round; stroke-linejoin:round; stroke-width:2; stroke-opacity:0.1; fill:none\" points=\"523.108,1423.18 523.108,47.2441 \"/>\n",
       "<polyline clip-path=\"url(#clip562)\" style=\"stroke:#000000; stroke-linecap:round; stroke-linejoin:round; stroke-width:2; stroke-opacity:0.1; fill:none\" points=\"965.587,1423.18 965.587,47.2441 \"/>\n",
       "<polyline clip-path=\"url(#clip562)\" style=\"stroke:#000000; stroke-linecap:round; stroke-linejoin:round; stroke-width:2; stroke-opacity:0.1; fill:none\" points=\"1408.06,1423.18 1408.06,47.2441 \"/>\n",
       "<polyline clip-path=\"url(#clip562)\" style=\"stroke:#000000; stroke-linecap:round; stroke-linejoin:round; stroke-width:2; stroke-opacity:0.1; fill:none\" points=\"1850.54,1423.18 1850.54,47.2441 \"/>\n",
       "<polyline clip-path=\"url(#clip562)\" style=\"stroke:#000000; stroke-linecap:round; stroke-linejoin:round; stroke-width:2; stroke-opacity:0.1; fill:none\" points=\"2293.02,1423.18 2293.02,47.2441 \"/>\n",
       "<polyline clip-path=\"url(#clip560)\" style=\"stroke:#000000; stroke-linecap:round; stroke-linejoin:round; stroke-width:4; stroke-opacity:1; fill:none\" points=\"242.135,1423.18 2352.76,1423.18 \"/>\n",
       "<polyline clip-path=\"url(#clip560)\" style=\"stroke:#000000; stroke-linecap:round; stroke-linejoin:round; stroke-width:2; stroke-opacity:0.5; fill:none\" points=\"242.135,47.2441 2352.76,47.2441 \"/>\n",
       "<polyline clip-path=\"url(#clip560)\" style=\"stroke:#000000; stroke-linecap:round; stroke-linejoin:round; stroke-width:4; stroke-opacity:1; fill:none\" points=\"523.108,1423.18 523.108,1404.28 \"/>\n",
       "<polyline clip-path=\"url(#clip560)\" style=\"stroke:#000000; stroke-linecap:round; stroke-linejoin:round; stroke-width:4; stroke-opacity:1; fill:none\" points=\"965.587,1423.18 965.587,1404.28 \"/>\n",
       "<polyline clip-path=\"url(#clip560)\" style=\"stroke:#000000; stroke-linecap:round; stroke-linejoin:round; stroke-width:4; stroke-opacity:1; fill:none\" points=\"1408.06,1423.18 1408.06,1404.28 \"/>\n",
       "<polyline clip-path=\"url(#clip560)\" style=\"stroke:#000000; stroke-linecap:round; stroke-linejoin:round; stroke-width:4; stroke-opacity:1; fill:none\" points=\"1850.54,1423.18 1850.54,1404.28 \"/>\n",
       "<polyline clip-path=\"url(#clip560)\" style=\"stroke:#000000; stroke-linecap:round; stroke-linejoin:round; stroke-width:4; stroke-opacity:1; fill:none\" points=\"2293.02,1423.18 2293.02,1404.28 \"/>\n",
       "<path clip-path=\"url(#clip560)\" d=\"M501.106 1454.1 Q497.495 1454.1 495.666 1457.66 Q493.861 1461.2 493.861 1468.33 Q493.861 1475.44 495.666 1479.01 Q497.495 1482.55 501.106 1482.55 Q504.74 1482.55 506.546 1479.01 Q508.375 1475.44 508.375 1468.33 Q508.375 1461.2 506.546 1457.66 Q504.74 1454.1 501.106 1454.1 M501.106 1450.39 Q506.916 1450.39 509.972 1455 Q513.051 1459.58 513.051 1468.33 Q513.051 1477.06 509.972 1481.67 Q506.916 1486.25 501.106 1486.25 Q495.296 1486.25 492.217 1481.67 Q489.162 1477.06 489.162 1468.33 Q489.162 1459.58 492.217 1455 Q495.296 1450.39 501.106 1450.39 Z\" fill=\"#000000\" fill-rule=\"nonzero\" fill-opacity=\"1\" /><path clip-path=\"url(#clip560)\" d=\"M521.268 1479.7 L526.152 1479.7 L526.152 1485.58 L521.268 1485.58 L521.268 1479.7 Z\" fill=\"#000000\" fill-rule=\"nonzero\" fill-opacity=\"1\" /><path clip-path=\"url(#clip560)\" d=\"M537.148 1481.64 L544.786 1481.64 L544.786 1455.28 L536.476 1456.95 L536.476 1452.69 L544.74 1451.02 L549.416 1451.02 L549.416 1481.64 L557.055 1481.64 L557.055 1485.58 L537.148 1485.58 L537.148 1481.64 Z\" fill=\"#000000\" fill-rule=\"nonzero\" fill-opacity=\"1\" /><path clip-path=\"url(#clip560)\" d=\"M943.77 1454.1 Q940.158 1454.1 938.33 1457.66 Q936.524 1461.2 936.524 1468.33 Q936.524 1475.44 938.33 1479.01 Q940.158 1482.55 943.77 1482.55 Q947.404 1482.55 949.209 1479.01 Q951.038 1475.44 951.038 1468.33 Q951.038 1461.2 949.209 1457.66 Q947.404 1454.1 943.77 1454.1 M943.77 1450.39 Q949.58 1450.39 952.635 1455 Q955.714 1459.58 955.714 1468.33 Q955.714 1477.06 952.635 1481.67 Q949.58 1486.25 943.77 1486.25 Q937.959 1486.25 934.881 1481.67 Q931.825 1477.06 931.825 1468.33 Q931.825 1459.58 934.881 1455 Q937.959 1450.39 943.77 1450.39 Z\" fill=\"#000000\" fill-rule=\"nonzero\" fill-opacity=\"1\" /><path clip-path=\"url(#clip560)\" d=\"M963.932 1479.7 L968.816 1479.7 L968.816 1485.58 L963.932 1485.58 L963.932 1479.7 Z\" fill=\"#000000\" fill-rule=\"nonzero\" fill-opacity=\"1\" /><path clip-path=\"url(#clip560)\" d=\"M983.029 1481.64 L999.348 1481.64 L999.348 1485.58 L977.404 1485.58 L977.404 1481.64 Q980.066 1478.89 984.649 1474.26 Q989.255 1469.61 990.436 1468.27 Q992.681 1465.74 993.561 1464.01 Q994.464 1462.25 994.464 1460.56 Q994.464 1457.8 992.519 1456.07 Q990.598 1454.33 987.496 1454.33 Q985.297 1454.33 982.843 1455.09 Q980.413 1455.86 977.635 1457.41 L977.635 1452.69 Q980.459 1451.55 982.913 1450.97 Q985.367 1450.39 987.404 1450.39 Q992.774 1450.39 995.968 1453.08 Q999.163 1455.77 999.163 1460.26 Q999.163 1462.39 998.353 1464.31 Q997.566 1466.2 995.459 1468.8 Q994.88 1469.47 991.779 1472.69 Q988.677 1475.88 983.029 1481.64 Z\" fill=\"#000000\" fill-rule=\"nonzero\" fill-opacity=\"1\" /><path clip-path=\"url(#clip560)\" d=\"M1385.77 1454.1 Q1382.16 1454.1 1380.33 1457.66 Q1378.53 1461.2 1378.53 1468.33 Q1378.53 1475.44 1380.33 1479.01 Q1382.16 1482.55 1385.77 1482.55 Q1389.41 1482.55 1391.21 1479.01 Q1393.04 1475.44 1393.04 1468.33 Q1393.04 1461.2 1391.21 1457.66 Q1389.41 1454.1 1385.77 1454.1 M1385.77 1450.39 Q1391.58 1450.39 1394.64 1455 Q1397.72 1459.58 1397.72 1468.33 Q1397.72 1477.06 1394.64 1481.67 Q1391.58 1486.25 1385.77 1486.25 Q1379.96 1486.25 1376.88 1481.67 Q1373.83 1477.06 1373.83 1468.33 Q1373.83 1459.58 1376.88 1455 Q1379.96 1450.39 1385.77 1450.39 Z\" fill=\"#000000\" fill-rule=\"nonzero\" fill-opacity=\"1\" /><path clip-path=\"url(#clip560)\" d=\"M1405.94 1479.7 L1410.82 1479.7 L1410.82 1485.58 L1405.94 1485.58 L1405.94 1479.7 Z\" fill=\"#000000\" fill-rule=\"nonzero\" fill-opacity=\"1\" /><path clip-path=\"url(#clip560)\" d=\"M1435.17 1466.95 Q1438.53 1467.66 1440.4 1469.93 Q1442.3 1472.2 1442.3 1475.53 Q1442.3 1480.65 1438.78 1483.45 Q1435.26 1486.25 1428.78 1486.25 Q1426.61 1486.25 1424.29 1485.81 Q1422 1485.39 1419.55 1484.54 L1419.55 1480.02 Q1421.49 1481.16 1423.81 1481.74 Q1426.12 1482.32 1428.64 1482.32 Q1433.04 1482.32 1435.33 1480.58 Q1437.65 1478.84 1437.65 1475.53 Q1437.65 1472.48 1435.5 1470.77 Q1433.37 1469.03 1429.55 1469.03 L1425.52 1469.03 L1425.52 1465.19 L1429.73 1465.19 Q1433.18 1465.19 1435.01 1463.82 Q1436.84 1462.43 1436.84 1459.84 Q1436.84 1457.18 1434.94 1455.77 Q1433.06 1454.33 1429.55 1454.33 Q1427.62 1454.33 1425.43 1454.75 Q1423.23 1455.16 1420.59 1456.04 L1420.59 1451.88 Q1423.25 1451.14 1425.56 1450.77 Q1427.9 1450.39 1429.96 1450.39 Q1435.29 1450.39 1438.39 1452.83 Q1441.49 1455.23 1441.49 1459.35 Q1441.49 1462.22 1439.85 1464.21 Q1438.2 1466.18 1435.17 1466.95 Z\" fill=\"#000000\" fill-rule=\"nonzero\" fill-opacity=\"1\" /><path clip-path=\"url(#clip560)\" d=\"M1827.68 1454.1 Q1824.07 1454.1 1822.24 1457.66 Q1820.44 1461.2 1820.44 1468.33 Q1820.44 1475.44 1822.24 1479.01 Q1824.07 1482.55 1827.68 1482.55 Q1831.32 1482.55 1833.12 1479.01 Q1834.95 1475.44 1834.95 1468.33 Q1834.95 1461.2 1833.12 1457.66 Q1831.32 1454.1 1827.68 1454.1 M1827.68 1450.39 Q1833.49 1450.39 1836.55 1455 Q1839.63 1459.58 1839.63 1468.33 Q1839.63 1477.06 1836.55 1481.67 Q1833.49 1486.25 1827.68 1486.25 Q1821.87 1486.25 1818.8 1481.67 Q1815.74 1477.06 1815.74 1468.33 Q1815.74 1459.58 1818.8 1455 Q1821.87 1450.39 1827.68 1450.39 Z\" fill=\"#000000\" fill-rule=\"nonzero\" fill-opacity=\"1\" /><path clip-path=\"url(#clip560)\" d=\"M1847.85 1479.7 L1852.73 1479.7 L1852.73 1485.58 L1847.85 1485.58 L1847.85 1479.7 Z\" fill=\"#000000\" fill-rule=\"nonzero\" fill-opacity=\"1\" /><path clip-path=\"url(#clip560)\" d=\"M1875.76 1455.09 L1863.96 1473.54 L1875.76 1473.54 L1875.76 1455.09 M1874.54 1451.02 L1880.42 1451.02 L1880.42 1473.54 L1885.35 1473.54 L1885.35 1477.43 L1880.42 1477.43 L1880.42 1485.58 L1875.76 1485.58 L1875.76 1477.43 L1860.16 1477.43 L1860.16 1472.92 L1874.54 1451.02 Z\" fill=\"#000000\" fill-rule=\"nonzero\" fill-opacity=\"1\" /><path clip-path=\"url(#clip560)\" d=\"M2270.9 1454.1 Q2267.29 1454.1 2265.46 1457.66 Q2263.66 1461.2 2263.66 1468.33 Q2263.66 1475.44 2265.46 1479.01 Q2267.29 1482.55 2270.9 1482.55 Q2274.54 1482.55 2276.34 1479.01 Q2278.17 1475.44 2278.17 1468.33 Q2278.17 1461.2 2276.34 1457.66 Q2274.54 1454.1 2270.9 1454.1 M2270.9 1450.39 Q2276.71 1450.39 2279.77 1455 Q2282.85 1459.58 2282.85 1468.33 Q2282.85 1477.06 2279.77 1481.67 Q2276.71 1486.25 2270.9 1486.25 Q2265.09 1486.25 2262.01 1481.67 Q2258.96 1477.06 2258.96 1468.33 Q2258.96 1459.58 2262.01 1455 Q2265.09 1450.39 2270.9 1450.39 Z\" fill=\"#000000\" fill-rule=\"nonzero\" fill-opacity=\"1\" /><path clip-path=\"url(#clip560)\" d=\"M2291.07 1479.7 L2295.95 1479.7 L2295.95 1485.58 L2291.07 1485.58 L2291.07 1479.7 Z\" fill=\"#000000\" fill-rule=\"nonzero\" fill-opacity=\"1\" /><path clip-path=\"url(#clip560)\" d=\"M2306.18 1451.02 L2324.54 1451.02 L2324.54 1454.96 L2310.46 1454.96 L2310.46 1463.43 Q2311.48 1463.08 2312.5 1462.92 Q2313.52 1462.73 2314.54 1462.73 Q2320.32 1462.73 2323.7 1465.9 Q2327.08 1469.08 2327.08 1474.49 Q2327.08 1480.07 2323.61 1483.17 Q2320.14 1486.25 2313.82 1486.25 Q2311.64 1486.25 2309.38 1485.88 Q2307.13 1485.51 2304.72 1484.77 L2304.72 1480.07 Q2306.81 1481.2 2309.03 1481.76 Q2311.25 1482.32 2313.73 1482.32 Q2317.73 1482.32 2320.07 1480.21 Q2322.41 1478.1 2322.41 1474.49 Q2322.41 1470.88 2320.07 1468.77 Q2317.73 1466.67 2313.73 1466.67 Q2311.85 1466.67 2309.98 1467.08 Q2308.13 1467.5 2306.18 1468.38 L2306.18 1451.02 Z\" fill=\"#000000\" fill-rule=\"nonzero\" fill-opacity=\"1\" /><path clip-path=\"url(#clip560)\" d=\"M1055.26 1524.18 L1055.26 1530.96 Q1052.02 1527.94 1048.32 1526.44 Q1044.66 1524.95 1040.53 1524.95 Q1032.38 1524.95 1028.05 1529.95 Q1023.72 1534.91 1023.72 1544.33 Q1023.72 1553.72 1028.05 1558.72 Q1032.38 1563.68 1040.53 1563.68 Q1044.66 1563.68 1048.32 1562.19 Q1052.02 1560.69 1055.26 1557.67 L1055.26 1564.38 Q1051.89 1566.68 1048.1 1567.82 Q1044.34 1568.97 1040.14 1568.97 Q1029.35 1568.97 1023.15 1562.38 Q1016.94 1555.76 1016.94 1544.33 Q1016.94 1532.87 1023.15 1526.28 Q1029.35 1519.66 1040.14 1519.66 Q1044.41 1519.66 1048.16 1520.81 Q1051.95 1521.92 1055.26 1524.18 Z\" fill=\"#000000\" fill-rule=\"nonzero\" fill-opacity=\"1\" /><path clip-path=\"url(#clip560)\" d=\"M1064.33 1553.98 L1064.33 1532.4 L1070.19 1532.4 L1070.19 1553.75 Q1070.19 1558.81 1072.16 1561.36 Q1074.14 1563.87 1078.08 1563.87 Q1082.83 1563.87 1085.56 1560.85 Q1088.33 1557.83 1088.33 1552.61 L1088.33 1532.4 L1094.19 1532.4 L1094.19 1568.04 L1088.33 1568.04 L1088.33 1562.57 Q1086.2 1565.82 1083.37 1567.41 Q1080.57 1568.97 1076.84 1568.97 Q1070.7 1568.97 1067.52 1565.15 Q1064.33 1561.33 1064.33 1553.98 M1079.07 1531.54 L1079.07 1531.54 Z\" fill=\"#000000\" fill-rule=\"nonzero\" fill-opacity=\"1\" /><path clip-path=\"url(#clip560)\" d=\"M1126.91 1537.87 Q1125.92 1537.3 1124.74 1537.04 Q1123.6 1536.76 1122.2 1536.76 Q1117.23 1536.76 1114.56 1540 Q1111.92 1543.22 1111.92 1549.27 L1111.92 1568.04 L1106.03 1568.04 L1106.03 1532.4 L1111.92 1532.4 L1111.92 1537.93 Q1113.76 1534.69 1116.72 1533.13 Q1119.68 1531.54 1123.92 1531.54 Q1124.52 1531.54 1125.25 1531.63 Q1125.98 1531.7 1126.88 1531.85 L1126.91 1537.87 Z\" fill=\"#000000\" fill-rule=\"nonzero\" fill-opacity=\"1\" /><path clip-path=\"url(#clip560)\" d=\"M1152.56 1537.87 Q1151.58 1537.3 1150.4 1537.04 Q1149.25 1536.76 1147.85 1536.76 Q1142.89 1536.76 1140.21 1540 Q1137.57 1543.22 1137.57 1549.27 L1137.57 1568.04 L1131.68 1568.04 L1131.68 1532.4 L1137.57 1532.4 L1137.57 1537.93 Q1139.42 1534.69 1142.38 1533.13 Q1145.34 1531.54 1149.57 1531.54 Q1150.17 1531.54 1150.91 1531.63 Q1151.64 1531.7 1152.53 1531.85 L1152.56 1537.87 Z\" fill=\"#000000\" fill-rule=\"nonzero\" fill-opacity=\"1\" /><path clip-path=\"url(#clip560)\" d=\"M1187.76 1548.76 L1187.76 1551.62 L1160.84 1551.62 Q1161.22 1557.67 1164.47 1560.85 Q1167.74 1564 1173.57 1564 Q1176.94 1564 1180.09 1563.17 Q1183.28 1562.35 1186.4 1560.69 L1186.4 1566.23 Q1183.24 1567.57 1179.93 1568.27 Q1176.62 1568.97 1173.22 1568.97 Q1164.69 1568.97 1159.69 1564 Q1154.73 1559.04 1154.73 1550.57 Q1154.73 1541.82 1159.44 1536.69 Q1164.18 1531.54 1172.2 1531.54 Q1179.39 1531.54 1183.56 1536.18 Q1187.76 1540.8 1187.76 1548.76 M1181.91 1547.04 Q1181.84 1542.23 1179.2 1539.37 Q1176.59 1536.5 1172.26 1536.5 Q1167.36 1536.5 1164.4 1539.27 Q1161.47 1542.04 1161.03 1547.07 L1181.91 1547.04 Z\" fill=\"#000000\" fill-rule=\"nonzero\" fill-opacity=\"1\" /><path clip-path=\"url(#clip560)\" d=\"M1227.01 1546.53 L1227.01 1568.04 L1221.15 1568.04 L1221.15 1546.72 Q1221.15 1541.66 1219.18 1539.14 Q1217.21 1536.63 1213.26 1536.63 Q1208.52 1536.63 1205.78 1539.65 Q1203.04 1542.68 1203.04 1547.9 L1203.04 1568.04 L1197.15 1568.04 L1197.15 1532.4 L1203.04 1532.4 L1203.04 1537.93 Q1205.14 1534.72 1207.98 1533.13 Q1210.84 1531.54 1214.56 1531.54 Q1220.71 1531.54 1223.86 1535.36 Q1227.01 1539.14 1227.01 1546.53 Z\" fill=\"#000000\" fill-rule=\"nonzero\" fill-opacity=\"1\" /><path clip-path=\"url(#clip560)\" d=\"M1244.48 1522.27 L1244.48 1532.4 L1256.55 1532.4 L1256.55 1536.95 L1244.48 1536.95 L1244.48 1556.3 Q1244.48 1560.66 1245.66 1561.9 Q1246.87 1563.14 1250.53 1563.14 L1256.55 1563.14 L1256.55 1568.04 L1250.53 1568.04 Q1243.75 1568.04 1241.17 1565.53 Q1238.59 1562.98 1238.59 1556.3 L1238.59 1536.95 L1234.3 1536.95 L1234.3 1532.4 L1238.59 1532.4 L1238.59 1522.27 L1244.48 1522.27 Z\" fill=\"#000000\" fill-rule=\"nonzero\" fill-opacity=\"1\" /><path clip-path=\"url(#clip560)\" d=\"M1310.62 1533.76 L1310.62 1539.24 Q1308.14 1537.87 1305.63 1537.2 Q1303.14 1536.5 1300.6 1536.5 Q1294.9 1536.5 1291.75 1540.13 Q1288.6 1543.73 1288.6 1550.25 Q1288.6 1556.78 1291.75 1560.4 Q1294.9 1564 1300.6 1564 Q1303.14 1564 1305.63 1563.33 Q1308.14 1562.63 1310.62 1561.26 L1310.62 1566.68 Q1308.17 1567.82 1305.53 1568.39 Q1302.92 1568.97 1299.96 1568.97 Q1291.91 1568.97 1287.16 1563.91 Q1282.42 1558.85 1282.42 1550.25 Q1282.42 1541.53 1287.2 1536.53 Q1292 1531.54 1300.34 1531.54 Q1303.05 1531.54 1305.63 1532.11 Q1308.2 1532.65 1310.62 1533.76 Z\" fill=\"#000000\" fill-rule=\"nonzero\" fill-opacity=\"1\" /><path clip-path=\"url(#clip560)\" d=\"M1337.01 1550.12 Q1329.91 1550.12 1327.17 1551.75 Q1324.44 1553.37 1324.44 1557.29 Q1324.44 1560.4 1326.47 1562.25 Q1328.54 1564.07 1332.07 1564.07 Q1336.94 1564.07 1339.87 1560.63 Q1342.83 1557.16 1342.83 1551.43 L1342.83 1550.12 L1337.01 1550.12 M1348.69 1547.71 L1348.69 1568.04 L1342.83 1568.04 L1342.83 1562.63 Q1340.83 1565.88 1337.84 1567.44 Q1334.84 1568.97 1330.52 1568.97 Q1325.04 1568.97 1321.79 1565.91 Q1318.58 1562.82 1318.58 1557.67 Q1318.58 1551.65 1322.59 1548.6 Q1326.63 1545.54 1334.62 1545.54 L1342.83 1545.54 L1342.83 1544.97 Q1342.83 1540.93 1340.16 1538.73 Q1337.52 1536.5 1332.71 1536.5 Q1329.66 1536.5 1326.76 1537.23 Q1323.86 1537.97 1321.19 1539.43 L1321.19 1534.02 Q1324.4 1532.78 1327.43 1532.17 Q1330.45 1531.54 1333.32 1531.54 Q1341.05 1531.54 1344.87 1535.55 Q1348.69 1539.56 1348.69 1547.71 Z\" fill=\"#000000\" fill-rule=\"nonzero\" fill-opacity=\"1\" /><path clip-path=\"url(#clip560)\" d=\"M1366.42 1562.7 L1366.42 1581.6 L1360.53 1581.6 L1360.53 1532.4 L1366.42 1532.4 L1366.42 1537.81 Q1368.26 1534.62 1371.06 1533.1 Q1373.9 1531.54 1377.81 1531.54 Q1384.31 1531.54 1388.35 1536.69 Q1392.42 1541.85 1392.42 1550.25 Q1392.42 1558.65 1388.35 1563.81 Q1384.31 1568.97 1377.81 1568.97 Q1373.9 1568.97 1371.06 1567.44 Q1368.26 1565.88 1366.42 1562.7 M1386.34 1550.25 Q1386.34 1543.79 1383.67 1540.13 Q1381.03 1536.44 1376.38 1536.44 Q1371.73 1536.44 1369.06 1540.13 Q1366.42 1543.79 1366.42 1550.25 Q1366.42 1556.71 1369.06 1560.4 Q1371.73 1564.07 1376.38 1564.07 Q1381.03 1564.07 1383.67 1560.4 Q1386.34 1556.71 1386.34 1550.25 Z\" fill=\"#000000\" fill-rule=\"nonzero\" fill-opacity=\"1\" /><path clip-path=\"url(#clip560)\" d=\"M1402.13 1532.4 L1407.99 1532.4 L1407.99 1568.04 L1402.13 1568.04 L1402.13 1532.4 M1402.13 1518.52 L1407.99 1518.52 L1407.99 1525.93 L1402.13 1525.93 L1402.13 1518.52 Z\" fill=\"#000000\" fill-rule=\"nonzero\" fill-opacity=\"1\" /><path clip-path=\"url(#clip560)\" d=\"M1426.03 1522.27 L1426.03 1532.4 L1438.1 1532.4 L1438.1 1536.95 L1426.03 1536.95 L1426.03 1556.3 Q1426.03 1560.66 1427.21 1561.9 Q1428.42 1563.14 1432.08 1563.14 L1438.1 1563.14 L1438.1 1568.04 L1432.08 1568.04 Q1425.3 1568.04 1422.72 1565.53 Q1420.14 1562.98 1420.14 1556.3 L1420.14 1536.95 L1415.85 1536.95 L1415.85 1532.4 L1420.14 1532.4 L1420.14 1522.27 L1426.03 1522.27 Z\" fill=\"#000000\" fill-rule=\"nonzero\" fill-opacity=\"1\" /><path clip-path=\"url(#clip560)\" d=\"M1462 1550.12 Q1454.9 1550.12 1452.16 1551.75 Q1449.43 1553.37 1449.43 1557.29 Q1449.43 1560.4 1451.46 1562.25 Q1453.53 1564.07 1457.07 1564.07 Q1461.94 1564.07 1464.86 1560.63 Q1467.82 1557.16 1467.82 1551.43 L1467.82 1550.12 L1462 1550.12 M1473.68 1547.71 L1473.68 1568.04 L1467.82 1568.04 L1467.82 1562.63 Q1465.82 1565.88 1462.83 1567.44 Q1459.83 1568.97 1455.51 1568.97 Q1450.03 1568.97 1446.78 1565.91 Q1443.57 1562.82 1443.57 1557.67 Q1443.57 1551.65 1447.58 1548.6 Q1451.62 1545.54 1459.61 1545.54 L1467.82 1545.54 L1467.82 1544.97 Q1467.82 1540.93 1465.15 1538.73 Q1462.51 1536.5 1457.7 1536.5 Q1454.65 1536.5 1451.75 1537.23 Q1448.85 1537.97 1446.18 1539.43 L1446.18 1534.02 Q1449.39 1532.78 1452.42 1532.17 Q1455.44 1531.54 1458.31 1531.54 Q1466.04 1531.54 1469.86 1535.55 Q1473.68 1539.56 1473.68 1547.71 Z\" fill=\"#000000\" fill-rule=\"nonzero\" fill-opacity=\"1\" /><path clip-path=\"url(#clip560)\" d=\"M1485.74 1518.52 L1491.6 1518.52 L1491.6 1568.04 L1485.74 1568.04 L1485.74 1518.52 Z\" fill=\"#000000\" fill-rule=\"nonzero\" fill-opacity=\"1\" /><path clip-path=\"url(#clip560)\" d=\"M1505.35 1559.96 L1512.07 1559.96 L1512.07 1568.04 L1505.35 1568.04 L1505.35 1559.96 M1505.35 1534.34 L1512.07 1534.34 L1512.07 1542.42 L1505.35 1542.42 L1505.35 1534.34 Z\" fill=\"#000000\" fill-rule=\"nonzero\" fill-opacity=\"1\" /><path clip-path=\"url(#clip560)\" d=\"M1546.31 1518.52 L1552.2 1518.52 L1552.2 1547.77 L1569.67 1532.4 L1577.15 1532.4 L1558.25 1549.07 L1577.95 1568.04 L1570.31 1568.04 L1552.2 1550.63 L1552.2 1568.04 L1546.31 1568.04 L1546.31 1518.52 Z\" fill=\"#000000\" fill-rule=\"nonzero\" fill-opacity=\"1\" /><polyline clip-path=\"url(#clip562)\" style=\"stroke:#000000; stroke-linecap:round; stroke-linejoin:round; stroke-width:2; stroke-opacity:0.1; fill:none\" points=\"242.135,1256.19 2352.76,1256.19 \"/>\n",
       "<polyline clip-path=\"url(#clip562)\" style=\"stroke:#000000; stroke-linecap:round; stroke-linejoin:round; stroke-width:2; stroke-opacity:0.1; fill:none\" points=\"242.135,976.876 2352.76,976.876 \"/>\n",
       "<polyline clip-path=\"url(#clip562)\" style=\"stroke:#000000; stroke-linecap:round; stroke-linejoin:round; stroke-width:2; stroke-opacity:0.1; fill:none\" points=\"242.135,697.56 2352.76,697.56 \"/>\n",
       "<polyline clip-path=\"url(#clip562)\" style=\"stroke:#000000; stroke-linecap:round; stroke-linejoin:round; stroke-width:2; stroke-opacity:0.1; fill:none\" points=\"242.135,418.244 2352.76,418.244 \"/>\n",
       "<polyline clip-path=\"url(#clip562)\" style=\"stroke:#000000; stroke-linecap:round; stroke-linejoin:round; stroke-width:2; stroke-opacity:0.1; fill:none\" points=\"242.135,138.928 2352.76,138.928 \"/>\n",
       "<polyline clip-path=\"url(#clip560)\" style=\"stroke:#000000; stroke-linecap:round; stroke-linejoin:round; stroke-width:4; stroke-opacity:1; fill:none\" points=\"242.135,1423.18 242.135,47.2441 \"/>\n",
       "<polyline clip-path=\"url(#clip560)\" style=\"stroke:#000000; stroke-linecap:round; stroke-linejoin:round; stroke-width:2; stroke-opacity:0.5; fill:none\" points=\"2352.76,1423.18 2352.76,47.2441 \"/>\n",
       "<polyline clip-path=\"url(#clip560)\" style=\"stroke:#000000; stroke-linecap:round; stroke-linejoin:round; stroke-width:4; stroke-opacity:1; fill:none\" points=\"242.135,1256.19 261.032,1256.19 \"/>\n",
       "<polyline clip-path=\"url(#clip560)\" style=\"stroke:#000000; stroke-linecap:round; stroke-linejoin:round; stroke-width:4; stroke-opacity:1; fill:none\" points=\"242.135,976.876 261.032,976.876 \"/>\n",
       "<polyline clip-path=\"url(#clip560)\" style=\"stroke:#000000; stroke-linecap:round; stroke-linejoin:round; stroke-width:4; stroke-opacity:1; fill:none\" points=\"242.135,697.56 261.032,697.56 \"/>\n",
       "<polyline clip-path=\"url(#clip560)\" style=\"stroke:#000000; stroke-linecap:round; stroke-linejoin:round; stroke-width:4; stroke-opacity:1; fill:none\" points=\"242.135,418.244 261.032,418.244 \"/>\n",
       "<polyline clip-path=\"url(#clip560)\" style=\"stroke:#000000; stroke-linecap:round; stroke-linejoin:round; stroke-width:4; stroke-opacity:1; fill:none\" points=\"242.135,138.928 261.032,138.928 \"/>\n",
       "<path clip-path=\"url(#clip560)\" d=\"M114.26 1256.64 L143.936 1256.64 L143.936 1260.58 L114.26 1260.58 L114.26 1256.64 Z\" fill=\"#000000\" fill-rule=\"nonzero\" fill-opacity=\"1\" /><path clip-path=\"url(#clip560)\" d=\"M166.876 1242.99 L155.07 1261.44 L166.876 1261.44 L166.876 1242.99 M165.649 1238.91 L171.528 1238.91 L171.528 1261.44 L176.459 1261.44 L176.459 1265.32 L171.528 1265.32 L171.528 1273.47 L166.876 1273.47 L166.876 1265.32 L151.274 1265.32 L151.274 1260.81 L165.649 1238.91 Z\" fill=\"#000000\" fill-rule=\"nonzero\" fill-opacity=\"1\" /><path clip-path=\"url(#clip560)\" d=\"M194.19 1241.99 Q190.579 1241.99 188.75 1245.56 Q186.945 1249.1 186.945 1256.23 Q186.945 1263.33 188.75 1266.9 Q190.579 1270.44 194.19 1270.44 Q197.825 1270.44 199.63 1266.9 Q201.459 1263.33 201.459 1256.23 Q201.459 1249.1 199.63 1245.56 Q197.825 1241.99 194.19 1241.99 M194.19 1238.29 Q200 1238.29 203.056 1242.89 Q206.135 1247.48 206.135 1256.23 Q206.135 1264.95 203.056 1269.56 Q200 1274.14 194.19 1274.14 Q188.38 1274.14 185.301 1269.56 Q182.246 1264.95 182.246 1256.23 Q182.246 1247.48 185.301 1242.89 Q188.38 1238.29 194.19 1238.29 Z\" fill=\"#000000\" fill-rule=\"nonzero\" fill-opacity=\"1\" /><path clip-path=\"url(#clip560)\" d=\"M115.256 977.328 L144.931 977.328 L144.931 981.263 L115.256 981.263 L115.256 977.328 Z\" fill=\"#000000\" fill-rule=\"nonzero\" fill-opacity=\"1\" /><path clip-path=\"url(#clip560)\" d=\"M169.19 975.522 Q172.547 976.24 174.422 978.508 Q176.32 980.777 176.32 984.11 Q176.32 989.226 172.802 992.027 Q169.283 994.828 162.802 994.828 Q160.626 994.828 158.311 994.388 Q156.019 993.971 153.566 993.115 L153.566 988.601 Q155.51 989.735 157.825 990.314 Q160.14 990.892 162.663 990.892 Q167.061 990.892 169.352 989.156 Q171.667 987.42 171.667 984.11 Q171.667 981.055 169.514 979.342 Q167.385 977.606 163.565 977.606 L159.538 977.606 L159.538 973.763 L163.751 973.763 Q167.2 973.763 169.028 972.397 Q170.857 971.008 170.857 968.416 Q170.857 965.754 168.959 964.342 Q167.084 962.907 163.565 962.907 Q161.644 962.907 159.445 963.323 Q157.246 963.74 154.607 964.619 L154.607 960.453 Q157.269 959.712 159.584 959.342 Q161.922 958.971 163.982 958.971 Q169.306 958.971 172.408 961.402 Q175.51 963.809 175.51 967.93 Q175.51 970.8 173.866 972.791 Q172.223 974.758 169.19 975.522 Z\" fill=\"#000000\" fill-rule=\"nonzero\" fill-opacity=\"1\" /><path clip-path=\"url(#clip560)\" d=\"M185.232 959.596 L203.588 959.596 L203.588 963.532 L189.514 963.532 L189.514 972.004 Q190.533 971.656 191.551 971.494 Q192.57 971.309 193.588 971.309 Q199.375 971.309 202.755 974.481 Q206.135 977.652 206.135 983.068 Q206.135 988.647 202.662 991.749 Q199.19 994.828 192.871 994.828 Q190.695 994.828 188.426 994.457 Q186.181 994.087 183.774 993.346 L183.774 988.647 Q185.857 989.781 188.079 990.337 Q190.301 990.892 192.778 990.892 Q196.783 990.892 199.121 988.786 Q201.459 986.68 201.459 983.068 Q201.459 979.457 199.121 977.351 Q196.783 975.244 192.778 975.244 Q190.903 975.244 189.028 975.661 Q187.176 976.078 185.232 976.957 L185.232 959.596 Z\" fill=\"#000000\" fill-rule=\"nonzero\" fill-opacity=\"1\" /><path clip-path=\"url(#clip560)\" d=\"M114.26 698.012 L143.936 698.012 L143.936 701.947 L114.26 701.947 L114.26 698.012 Z\" fill=\"#000000\" fill-rule=\"nonzero\" fill-opacity=\"1\" /><path clip-path=\"url(#clip560)\" d=\"M168.195 696.206 Q171.552 696.924 173.427 699.192 Q175.325 701.461 175.325 704.794 Q175.325 709.91 171.806 712.711 Q168.288 715.512 161.806 715.512 Q159.63 715.512 157.315 715.072 Q155.024 714.655 152.57 713.799 L152.57 709.285 Q154.515 710.419 156.829 710.998 Q159.144 711.576 161.667 711.576 Q166.065 711.576 168.357 709.84 Q170.672 708.104 170.672 704.794 Q170.672 701.739 168.519 700.026 Q166.39 698.289 162.57 698.289 L158.542 698.289 L158.542 694.447 L162.755 694.447 Q166.204 694.447 168.033 693.081 Q169.862 691.692 169.862 689.1 Q169.862 686.438 167.964 685.026 Q166.089 683.59 162.57 683.59 Q160.649 683.59 158.45 684.007 Q156.251 684.424 153.612 685.303 L153.612 681.137 Q156.274 680.396 158.589 680.026 Q160.927 679.655 162.987 679.655 Q168.311 679.655 171.413 682.086 Q174.514 684.493 174.514 688.614 Q174.514 691.484 172.871 693.475 Q171.227 695.442 168.195 696.206 Z\" fill=\"#000000\" fill-rule=\"nonzero\" fill-opacity=\"1\" /><path clip-path=\"url(#clip560)\" d=\"M194.19 683.359 Q190.579 683.359 188.75 686.924 Q186.945 690.465 186.945 697.595 Q186.945 704.701 188.75 708.266 Q190.579 711.808 194.19 711.808 Q197.825 711.808 199.63 708.266 Q201.459 704.701 201.459 697.595 Q201.459 690.465 199.63 686.924 Q197.825 683.359 194.19 683.359 M194.19 679.655 Q200 679.655 203.056 684.262 Q206.135 688.845 206.135 697.595 Q206.135 706.322 203.056 710.928 Q200 715.512 194.19 715.512 Q188.38 715.512 185.301 710.928 Q182.246 706.322 182.246 697.595 Q182.246 688.845 185.301 684.262 Q188.38 679.655 194.19 679.655 Z\" fill=\"#000000\" fill-rule=\"nonzero\" fill-opacity=\"1\" /><path clip-path=\"url(#clip560)\" d=\"M115.256 418.696 L144.931 418.696 L144.931 422.631 L115.256 422.631 L115.256 418.696 Z\" fill=\"#000000\" fill-rule=\"nonzero\" fill-opacity=\"1\" /><path clip-path=\"url(#clip560)\" d=\"M159.052 431.589 L175.371 431.589 L175.371 435.524 L153.427 435.524 L153.427 431.589 Q156.089 428.834 160.672 424.205 Q165.278 419.552 166.459 418.21 Q168.704 415.686 169.584 413.95 Q170.487 412.191 170.487 410.501 Q170.487 407.747 168.542 406.011 Q166.621 404.274 163.519 404.274 Q161.32 404.274 158.866 405.038 Q156.436 405.802 153.658 407.353 L153.658 402.631 Q156.482 401.497 158.936 400.918 Q161.39 400.339 163.427 400.339 Q168.797 400.339 171.991 403.024 Q175.186 405.71 175.186 410.2 Q175.186 412.33 174.376 414.251 Q173.589 416.149 171.482 418.742 Q170.903 419.413 167.802 422.631 Q164.7 425.825 159.052 431.589 Z\" fill=\"#000000\" fill-rule=\"nonzero\" fill-opacity=\"1\" /><path clip-path=\"url(#clip560)\" d=\"M185.232 400.964 L203.588 400.964 L203.588 404.899 L189.514 404.899 L189.514 413.372 Q190.533 413.024 191.551 412.862 Q192.57 412.677 193.588 412.677 Q199.375 412.677 202.755 415.848 Q206.135 419.02 206.135 424.436 Q206.135 430.015 202.662 433.117 Q199.19 436.196 192.871 436.196 Q190.695 436.196 188.426 435.825 Q186.181 435.455 183.774 434.714 L183.774 430.015 Q185.857 431.149 188.079 431.705 Q190.301 432.26 192.778 432.26 Q196.783 432.26 199.121 430.154 Q201.459 428.047 201.459 424.436 Q201.459 420.825 199.121 418.719 Q196.783 416.612 192.778 416.612 Q190.903 416.612 189.028 417.029 Q187.176 417.446 185.232 418.325 L185.232 400.964 Z\" fill=\"#000000\" fill-rule=\"nonzero\" fill-opacity=\"1\" /><path clip-path=\"url(#clip560)\" d=\"M114.26 139.38 L143.936 139.38 L143.936 143.315 L114.26 143.315 L114.26 139.38 Z\" fill=\"#000000\" fill-rule=\"nonzero\" fill-opacity=\"1\" /><path clip-path=\"url(#clip560)\" d=\"M158.056 152.273 L174.376 152.273 L174.376 156.208 L152.431 156.208 L152.431 152.273 Q155.093 149.518 159.677 144.889 Q164.283 140.236 165.464 138.893 Q167.709 136.37 168.589 134.634 Q169.491 132.875 169.491 131.185 Q169.491 128.431 167.547 126.694 Q165.626 124.958 162.524 124.958 Q160.325 124.958 157.871 125.722 Q155.44 126.486 152.663 128.037 L152.663 123.315 Q155.487 122.181 157.94 121.602 Q160.394 121.023 162.431 121.023 Q167.802 121.023 170.996 123.708 Q174.19 126.394 174.19 130.884 Q174.19 133.014 173.38 134.935 Q172.593 136.833 170.487 139.426 Q169.908 140.097 166.806 143.315 Q163.704 146.509 158.056 152.273 Z\" fill=\"#000000\" fill-rule=\"nonzero\" fill-opacity=\"1\" /><path clip-path=\"url(#clip560)\" d=\"M194.19 124.727 Q190.579 124.727 188.75 128.292 Q186.945 131.833 186.945 138.963 Q186.945 146.069 188.75 149.634 Q190.579 153.176 194.19 153.176 Q197.825 153.176 199.63 149.634 Q201.459 146.069 201.459 138.963 Q201.459 131.833 199.63 128.292 Q197.825 124.727 194.19 124.727 M194.19 121.023 Q200 121.023 203.056 125.63 Q206.135 130.213 206.135 138.963 Q206.135 147.69 203.056 152.296 Q200 156.88 194.19 156.88 Q188.38 156.88 185.301 152.296 Q182.246 147.69 182.246 138.963 Q182.246 130.213 185.301 125.63 Q188.38 121.023 194.19 121.023 Z\" fill=\"#000000\" fill-rule=\"nonzero\" fill-opacity=\"1\" /><path clip-path=\"url(#clip560)\" d=\"M64.0042 1034.96 L16.4842 1053.1 L16.4842 1046.38 L56.4926 1031.33 L16.4842 1016.24 L16.4842 1009.56 L64.0042 1027.67 L64.0042 1034.96 Z\" fill=\"#000000\" fill-rule=\"nonzero\" fill-opacity=\"1\" /><path clip-path=\"url(#clip560)\" d=\"M46.0847 991.734 Q46.0847 998.832 47.7079 1001.57 Q49.3312 1004.31 53.2461 1004.31 Q56.3653 1004.31 58.2114 1002.27 Q60.0256 1000.2 60.0256 996.667 Q60.0256 991.798 56.5881 988.869 Q53.1188 985.909 47.3897 985.909 L46.0847 985.909 L46.0847 991.734 M43.6657 980.053 L64.0042 980.053 L64.0042 985.909 L58.5933 985.909 Q61.8398 987.915 63.3994 990.906 Q64.9272 993.898 64.9272 998.227 Q64.9272 1003.7 61.8716 1006.95 Q58.7843 1010.16 53.6281 1010.16 Q47.6125 1010.16 44.5569 1006.15 Q41.5014 1002.11 41.5014 994.121 L41.5014 985.909 L40.9285 985.909 Q36.8862 985.909 34.6901 988.583 Q32.4621 991.225 32.4621 996.031 Q32.4621 999.086 33.1941 1001.98 Q33.9262 1004.88 35.3903 1007.55 L29.9795 1007.55 Q28.7381 1004.34 28.1334 1001.31 Q27.4968 998.291 27.4968 995.426 Q27.4968 987.692 31.5072 983.872 Q35.5176 980.053 43.6657 980.053 Z\" fill=\"#000000\" fill-rule=\"nonzero\" fill-opacity=\"1\" /><path clip-path=\"url(#clip560)\" d=\"M14.479 967.99 L14.479 962.133 L64.0042 962.133 L64.0042 967.99 L14.479 967.99 Z\" fill=\"#000000\" fill-rule=\"nonzero\" fill-opacity=\"1\" /><path clip-path=\"url(#clip560)\" d=\"M49.9359 950.484 L28.3562 950.484 L28.3562 944.628 L49.7131 944.628 Q54.7739 944.628 57.3202 942.654 Q59.8346 940.681 59.8346 936.734 Q59.8346 931.992 56.8109 929.255 Q53.7872 926.486 48.5673 926.486 L28.3562 926.486 L28.3562 920.629 L64.0042 920.629 L64.0042 926.486 L58.5296 926.486 Q61.7762 928.618 63.3676 931.451 Q64.9272 934.252 64.9272 937.976 Q64.9272 944.119 61.1078 947.301 Q57.2883 950.484 49.9359 950.484 M27.4968 935.748 L27.4968 935.748 Z\" fill=\"#000000\" fill-rule=\"nonzero\" fill-opacity=\"1\" /><path clip-path=\"url(#clip560)\" d=\"M44.7161 878.074 L47.5806 878.074 L47.5806 905.001 Q53.6281 904.619 56.8109 901.373 Q59.9619 898.094 59.9619 892.27 Q59.9619 888.896 59.1344 885.745 Q58.3069 882.562 56.6518 879.443 L62.1899 879.443 Q63.5267 882.594 64.227 885.904 Q64.9272 889.214 64.9272 892.62 Q64.9272 901.15 59.9619 906.147 Q54.9967 911.112 46.5303 911.112 Q37.7774 911.112 32.6531 906.402 Q27.4968 901.659 27.4968 893.638 Q27.4968 886.445 32.1438 882.276 Q36.7589 878.074 44.7161 878.074 M42.9973 883.931 Q38.1912 883.994 35.3266 886.636 Q32.4621 889.246 32.4621 893.575 Q32.4621 898.476 35.2312 901.436 Q38.0002 904.365 43.0292 904.81 L42.9973 883.931 Z\" fill=\"#000000\" fill-rule=\"nonzero\" fill-opacity=\"1\" /><path clip-path=\"url(#clip560)\" d=\"M14.479 829.695 L19.3487 829.695 L19.3487 835.297 Q19.3487 838.448 20.6219 839.689 Q21.895 840.899 25.2052 840.899 L28.3562 840.899 L28.3562 831.255 L32.9077 831.255 L32.9077 840.899 L64.0042 840.899 L64.0042 846.787 L32.9077 846.787 L32.9077 852.389 L28.3562 852.389 L28.3562 846.787 L25.8736 846.787 Q19.9216 846.787 17.2162 844.018 Q14.479 841.249 14.479 835.233 L14.479 829.695 Z\" fill=\"#000000\" fill-rule=\"nonzero\" fill-opacity=\"1\" /><path clip-path=\"url(#clip560)\" d=\"M49.9359 825.398 L28.3562 825.398 L28.3562 819.542 L49.7131 819.542 Q54.7739 819.542 57.3202 817.568 Q59.8346 815.595 59.8346 811.648 Q59.8346 806.906 56.8109 804.168 Q53.7872 801.399 48.5673 801.399 L28.3562 801.399 L28.3562 795.543 L64.0042 795.543 L64.0042 801.399 L58.5296 801.399 Q61.7762 803.532 63.3676 806.365 Q64.9272 809.166 64.9272 812.89 Q64.9272 819.032 61.1078 822.215 Q57.2883 825.398 49.9359 825.398 M27.4968 810.662 L27.4968 810.662 Z\" fill=\"#000000\" fill-rule=\"nonzero\" fill-opacity=\"1\" /><path clip-path=\"url(#clip560)\" d=\"M42.4881 753.848 L64.0042 753.848 L64.0042 759.704 L42.679 759.704 Q37.6183 759.704 35.1038 761.677 Q32.5894 763.651 32.5894 767.598 Q32.5894 772.34 35.6131 775.077 Q38.6368 777.814 43.8567 777.814 L64.0042 777.814 L64.0042 783.703 L28.3562 783.703 L28.3562 777.814 L33.8944 777.814 Q30.6797 775.714 29.0883 772.881 Q27.4968 770.016 27.4968 766.293 Q27.4968 760.15 31.3163 756.999 Q35.1038 753.848 42.4881 753.848 Z\" fill=\"#000000\" fill-rule=\"nonzero\" fill-opacity=\"1\" /><path clip-path=\"url(#clip560)\" d=\"M29.7248 716.513 L35.1993 716.513 Q33.8307 718.995 33.1623 721.51 Q32.4621 723.992 32.4621 726.539 Q32.4621 732.236 36.0905 735.387 Q39.6872 738.538 46.212 738.538 Q52.7369 738.538 56.3653 735.387 Q59.9619 732.236 59.9619 726.539 Q59.9619 723.992 59.2935 721.51 Q58.5933 718.995 57.2247 716.513 L62.6355 716.513 Q63.7814 718.964 64.3543 721.605 Q64.9272 724.215 64.9272 727.175 Q64.9272 735.228 59.8664 739.97 Q54.8057 744.713 46.212 744.713 Q37.491 744.713 32.4939 739.939 Q27.4968 735.132 27.4968 726.793 Q27.4968 724.088 28.0697 721.51 Q28.6108 718.932 29.7248 716.513 Z\" fill=\"#000000\" fill-rule=\"nonzero\" fill-opacity=\"1\" /><path clip-path=\"url(#clip560)\" d=\"M18.2347 700.535 L28.3562 700.535 L28.3562 688.472 L32.9077 688.472 L32.9077 700.535 L52.2594 700.535 Q56.6199 700.535 57.8613 699.357 Q59.1026 698.148 59.1026 694.487 L59.1026 688.472 L64.0042 688.472 L64.0042 694.487 Q64.0042 701.267 61.4897 703.845 Q58.9434 706.423 52.2594 706.423 L32.9077 706.423 L32.9077 710.72 L28.3562 710.72 L28.3562 706.423 L18.2347 706.423 L18.2347 700.535 Z\" fill=\"#000000\" fill-rule=\"nonzero\" fill-opacity=\"1\" /><path clip-path=\"url(#clip560)\" d=\"M28.3562 680.769 L28.3562 674.913 L64.0042 674.913 L64.0042 680.769 L28.3562 680.769 M14.479 680.769 L14.479 674.913 L21.895 674.913 L21.895 680.769 L14.479 680.769 Z\" fill=\"#000000\" fill-rule=\"nonzero\" fill-opacity=\"1\" /><path clip-path=\"url(#clip560)\" d=\"M32.4621 648.845 Q32.4621 653.556 36.1542 656.293 Q39.8145 659.03 46.212 659.03 Q52.6095 659.03 56.3017 656.325 Q59.9619 653.588 59.9619 648.845 Q59.9619 644.166 56.2698 641.429 Q52.5777 638.692 46.212 638.692 Q39.8781 638.692 36.186 641.429 Q32.4621 644.166 32.4621 648.845 M27.4968 648.845 Q27.4968 641.206 32.4621 636.846 Q37.4273 632.485 46.212 632.485 Q54.9649 632.485 59.9619 636.846 Q64.9272 641.206 64.9272 648.845 Q64.9272 656.516 59.9619 660.876 Q54.9649 665.205 46.212 665.205 Q37.4273 665.205 32.4621 660.876 Q27.4968 656.516 27.4968 648.845 Z\" fill=\"#000000\" fill-rule=\"nonzero\" fill-opacity=\"1\" /><path clip-path=\"url(#clip560)\" d=\"M42.4881 593.145 L64.0042 593.145 L64.0042 599.002 L42.679 599.002 Q37.6183 599.002 35.1038 600.975 Q32.5894 602.948 32.5894 606.895 Q32.5894 611.638 35.6131 614.375 Q38.6368 617.112 43.8567 617.112 L64.0042 617.112 L64.0042 623 L28.3562 623 L28.3562 617.112 L33.8944 617.112 Q30.6797 615.012 29.0883 612.179 Q27.4968 609.314 27.4968 605.59 Q27.4968 599.447 31.3163 596.296 Q35.1038 593.145 42.4881 593.145 Z\" fill=\"#000000\" fill-rule=\"nonzero\" fill-opacity=\"1\" /><path clip-path=\"url(#clip560)\" d=\"M55.9197 579.968 L55.9197 573.252 L64.0042 573.252 L64.0042 579.968 L55.9197 579.968 M30.2977 579.968 L30.2977 573.252 L38.3822 573.252 L38.3822 579.968 L30.2977 579.968 Z\" fill=\"#000000\" fill-rule=\"nonzero\" fill-opacity=\"1\" /><path clip-path=\"url(#clip560)\" d=\"M64.0042 526.274 L16.4842 544.416 L16.4842 537.7 L56.4926 522.645 L16.4842 507.558 L16.4842 500.874 L64.0042 518.985 L64.0042 526.274 Z\" fill=\"#000000\" fill-rule=\"nonzero\" fill-opacity=\"1\" /><path clip-path=\"url(#clip560)\" d=\"M14.5426 480.122 Q21.8632 484.387 29.0246 486.456 Q36.186 488.525 43.5384 488.525 Q50.8908 488.525 58.1159 486.456 Q65.3091 484.355 72.5979 480.122 L72.5979 485.215 Q65.1182 489.989 57.8931 492.376 Q50.668 494.731 43.5384 494.731 Q36.4406 494.731 29.2474 492.376 Q22.0542 490.021 14.5426 485.215 L14.5426 480.122 Z\" fill=\"#000000\" fill-rule=\"nonzero\" fill-opacity=\"1\" /><path clip-path=\"url(#clip560)\" d=\"M14.479 468.982 L14.479 463.094 L43.7294 463.094 L28.3562 445.62 L28.3562 438.14 L45.0344 457.047 L64.0042 437.345 L64.0042 444.983 L46.5939 463.094 L64.0042 463.094 L64.0042 468.982 L14.479 468.982 Z\" fill=\"#000000\" fill-rule=\"nonzero\" fill-opacity=\"1\" /><path clip-path=\"url(#clip560)\" d=\"M14.5426 431.934 L14.5426 426.841 Q22.0542 422.067 29.2474 419.712 Q36.4406 417.324 43.5384 417.324 Q50.668 417.324 57.8931 419.712 Q65.1182 422.067 72.5979 426.841 L72.5979 431.934 Q65.3091 427.701 58.1159 425.632 Q50.8908 423.531 43.5384 423.531 Q36.186 423.531 29.0246 425.632 Q21.8632 427.701 14.5426 431.934 Z\" fill=\"#000000\" fill-rule=\"nonzero\" fill-opacity=\"1\" /><polyline clip-path=\"url(#clip562)\" style=\"stroke:#0000ff; stroke-linecap:round; stroke-linejoin:round; stroke-width:16; stroke-opacity:1; fill:none\" points=\"301.869,1384.24 321.781,1338.88 341.692,1266.86 361.604,1231.63 381.515,1199.93 401.427,1171.27 421.338,1116.8 441.25,1093.58 461.161,1072.37 481.073,1052.94 500.984,1008.81 520.896,992.751 540.807,952.705 560.719,939.352 580.631,927.054 600.542,891.543 620.454,881.288 640.365,848.407 660.277,839.868 680.188,809.235 700.1,802.154 720.011,773.463 739.923,767.635 759.834,740.64 779.746,735.898 799.657,710.396 819.569,706.605 839.48,682.427 859.392,659.028 879.303,656.477 899.215,634.185 919.126,632.332 939.038,611.038 958.949,609.81 978.861,589.419 998.772,569.585 1018.68,569.184 1038.6,550.127 1058.51,550.209 1078.42,531.863 1098.33,513.968 1118.24,514.691 1138.15,497.418 1158.06,480.547 1177.98,481.825 1197.89,465.5 1217.8,467.116 1237.71,451.298 1257.62,435.817 1277.53,420.66 1297.45,422.849 1317.36,408.124 1337.27,393.692 1357.18,396.258 1377.09,382.214 1397,368.436 1416.91,371.338 1436.83,357.91 1456.74,344.725 1476.65,347.928 1496.56,335.059 1516.47,322.415 1536.38,309.988 1556.3,313.531 1576.21,301.381 1596.12,305.097 1616.03,293.209 1635.94,281.513 1655.85,270.002 1675.76,273.994 1695.68,262.715 1715.59,251.609 1735.5,255.795 1755.41,244.903 1775.32,234.171 1795.23,223.595 1815.14,228 1835.06,217.616 1854.97,207.377 1874.88,197.281 1894.79,187.324 1914.7,191.955 1934.61,182.164 1954.53,172.504 1974.44,177.273 1994.35,167.767 2014.26,158.384 2034.17,149.121 2054.08,154.043 2073.99,144.92 2093.91,135.91 2113.82,127.01 2133.73,132.068 2153.64,123.296 2173.55,114.629 2193.46,119.792 2213.38,111.244 2233.29,102.795 2253.2,94.4426 2273.11,86.1857 2293.02,91.4762 \"/>\n",
       "</svg>\n"
      ]
     },
     "execution_count": 11,
     "metadata": {},
     "output_type": "execute_result"
    }
   ],
   "source": [
    "plt = plot(params.kgrid, valfn,\n",
    "    color = :blue,\n",
    "    legend = :none,\n",
    "    label = (\"Convergence\"),\n",
    "    xlabel = (\"Current capital: k\"),\n",
    "    ylabel = (\"Value function: V(k)\"),\n",
    "    linewidth = 4,\n",
    "    legendfontsize = 12,\n",
    "    framestyle = :semi\n",
    ")"
   ]
  },
  {
   "cell_type": "code",
   "execution_count": 21,
   "metadata": {
    "slideshow": {
     "slide_type": "subslide"
    }
   },
   "outputs": [
    {
     "data": {
      "image/svg+xml": [
       "<?xml version=\"1.0\" encoding=\"utf-8\"?>\n",
       "<svg xmlns=\"http://www.w3.org/2000/svg\" xmlns:xlink=\"http://www.w3.org/1999/xlink\" width=\"600\" height=\"400\" viewBox=\"0 0 2400 1600\">\n",
       "<defs>\n",
       "  <clipPath id=\"clip300\">\n",
       "    <rect x=\"0\" y=\"0\" width=\"2400\" height=\"1600\"/>\n",
       "  </clipPath>\n",
       "</defs>\n",
       "<path clip-path=\"url(#clip300)\" d=\"M0 1600 L2400 1600 L2400 0 L0 0  Z\" fill=\"#ffffff\" fill-rule=\"evenodd\" fill-opacity=\"1\"/>\n",
       "<defs>\n",
       "  <clipPath id=\"clip301\">\n",
       "    <rect x=\"480\" y=\"0\" width=\"1681\" height=\"1600\"/>\n",
       "  </clipPath>\n",
       "</defs>\n",
       "<path clip-path=\"url(#clip300)\" d=\"M212.459 1423.18 L2352.76 1423.18 L2352.76 47.2441 L212.459 47.2441  Z\" fill=\"#ffffff\" fill-rule=\"evenodd\" fill-opacity=\"1\"/>\n",
       "<defs>\n",
       "  <clipPath id=\"clip302\">\n",
       "    <rect x=\"212\" y=\"47\" width=\"2141\" height=\"1377\"/>\n",
       "  </clipPath>\n",
       "</defs>\n",
       "<polyline clip-path=\"url(#clip302)\" style=\"stroke:#000000; stroke-linecap:round; stroke-linejoin:round; stroke-width:2; stroke-opacity:0.1; fill:none\" points=\"497.383,1423.18 497.383,47.2441 \"/>\n",
       "<polyline clip-path=\"url(#clip302)\" style=\"stroke:#000000; stroke-linecap:round; stroke-linejoin:round; stroke-width:2; stroke-opacity:0.1; fill:none\" points=\"946.083,1423.18 946.083,47.2441 \"/>\n",
       "<polyline clip-path=\"url(#clip302)\" style=\"stroke:#000000; stroke-linecap:round; stroke-linejoin:round; stroke-width:2; stroke-opacity:0.1; fill:none\" points=\"1394.78,1423.18 1394.78,47.2441 \"/>\n",
       "<polyline clip-path=\"url(#clip302)\" style=\"stroke:#000000; stroke-linecap:round; stroke-linejoin:round; stroke-width:2; stroke-opacity:0.1; fill:none\" points=\"1843.48,1423.18 1843.48,47.2441 \"/>\n",
       "<polyline clip-path=\"url(#clip302)\" style=\"stroke:#000000; stroke-linecap:round; stroke-linejoin:round; stroke-width:2; stroke-opacity:0.1; fill:none\" points=\"2292.18,1423.18 2292.18,47.2441 \"/>\n",
       "<polyline clip-path=\"url(#clip300)\" style=\"stroke:#000000; stroke-linecap:round; stroke-linejoin:round; stroke-width:4; stroke-opacity:1; fill:none\" points=\"212.459,1423.18 2352.76,1423.18 \"/>\n",
       "<polyline clip-path=\"url(#clip300)\" style=\"stroke:#000000; stroke-linecap:round; stroke-linejoin:round; stroke-width:2; stroke-opacity:0.5; fill:none\" points=\"212.459,47.2441 2352.76,47.2441 \"/>\n",
       "<polyline clip-path=\"url(#clip300)\" style=\"stroke:#000000; stroke-linecap:round; stroke-linejoin:round; stroke-width:4; stroke-opacity:1; fill:none\" points=\"497.383,1423.18 497.383,1404.28 \"/>\n",
       "<polyline clip-path=\"url(#clip300)\" style=\"stroke:#000000; stroke-linecap:round; stroke-linejoin:round; stroke-width:4; stroke-opacity:1; fill:none\" points=\"946.083,1423.18 946.083,1404.28 \"/>\n",
       "<polyline clip-path=\"url(#clip300)\" style=\"stroke:#000000; stroke-linecap:round; stroke-linejoin:round; stroke-width:4; stroke-opacity:1; fill:none\" points=\"1394.78,1423.18 1394.78,1404.28 \"/>\n",
       "<polyline clip-path=\"url(#clip300)\" style=\"stroke:#000000; stroke-linecap:round; stroke-linejoin:round; stroke-width:4; stroke-opacity:1; fill:none\" points=\"1843.48,1423.18 1843.48,1404.28 \"/>\n",
       "<polyline clip-path=\"url(#clip300)\" style=\"stroke:#000000; stroke-linecap:round; stroke-linejoin:round; stroke-width:4; stroke-opacity:1; fill:none\" points=\"2292.18,1423.18 2292.18,1404.28 \"/>\n",
       "<path clip-path=\"url(#clip300)\" d=\"M475.381 1454.1 Q471.77 1454.1 469.941 1457.66 Q468.136 1461.2 468.136 1468.33 Q468.136 1475.44 469.941 1479.01 Q471.77 1482.55 475.381 1482.55 Q479.015 1482.55 480.821 1479.01 Q482.649 1475.44 482.649 1468.33 Q482.649 1461.2 480.821 1457.66 Q479.015 1454.1 475.381 1454.1 M475.381 1450.39 Q481.191 1450.39 484.247 1455 Q487.325 1459.58 487.325 1468.33 Q487.325 1477.06 484.247 1481.67 Q481.191 1486.25 475.381 1486.25 Q469.571 1486.25 466.492 1481.67 Q463.437 1477.06 463.437 1468.33 Q463.437 1459.58 466.492 1455 Q469.571 1450.39 475.381 1450.39 Z\" fill=\"#000000\" fill-rule=\"nonzero\" fill-opacity=\"1\" /><path clip-path=\"url(#clip300)\" d=\"M495.543 1479.7 L500.427 1479.7 L500.427 1485.58 L495.543 1485.58 L495.543 1479.7 Z\" fill=\"#000000\" fill-rule=\"nonzero\" fill-opacity=\"1\" /><path clip-path=\"url(#clip300)\" d=\"M511.422 1481.64 L519.061 1481.64 L519.061 1455.28 L510.751 1456.95 L510.751 1452.69 L519.015 1451.02 L523.691 1451.02 L523.691 1481.64 L531.33 1481.64 L531.33 1485.58 L511.422 1485.58 L511.422 1481.64 Z\" fill=\"#000000\" fill-rule=\"nonzero\" fill-opacity=\"1\" /><path clip-path=\"url(#clip300)\" d=\"M924.266 1454.1 Q920.655 1454.1 918.826 1457.66 Q917.02 1461.2 917.02 1468.33 Q917.02 1475.44 918.826 1479.01 Q920.655 1482.55 924.266 1482.55 Q927.9 1482.55 929.705 1479.01 Q931.534 1475.44 931.534 1468.33 Q931.534 1461.2 929.705 1457.66 Q927.9 1454.1 924.266 1454.1 M924.266 1450.39 Q930.076 1450.39 933.131 1455 Q936.21 1459.58 936.21 1468.33 Q936.21 1477.06 933.131 1481.67 Q930.076 1486.25 924.266 1486.25 Q918.456 1486.25 915.377 1481.67 Q912.321 1477.06 912.321 1468.33 Q912.321 1459.58 915.377 1455 Q918.456 1450.39 924.266 1450.39 Z\" fill=\"#000000\" fill-rule=\"nonzero\" fill-opacity=\"1\" /><path clip-path=\"url(#clip300)\" d=\"M944.428 1479.7 L949.312 1479.7 L949.312 1485.58 L944.428 1485.58 L944.428 1479.7 Z\" fill=\"#000000\" fill-rule=\"nonzero\" fill-opacity=\"1\" /><path clip-path=\"url(#clip300)\" d=\"M963.525 1481.64 L979.844 1481.64 L979.844 1485.58 L957.9 1485.58 L957.9 1481.64 Q960.562 1478.89 965.145 1474.26 Q969.752 1469.61 970.932 1468.27 Q973.177 1465.74 974.057 1464.01 Q974.96 1462.25 974.96 1460.56 Q974.96 1457.8 973.015 1456.07 Q971.094 1454.33 967.992 1454.33 Q965.793 1454.33 963.34 1455.09 Q960.909 1455.86 958.131 1457.41 L958.131 1452.69 Q960.955 1451.55 963.409 1450.97 Q965.863 1450.39 967.9 1450.39 Q973.27 1450.39 976.464 1453.08 Q979.659 1455.77 979.659 1460.26 Q979.659 1462.39 978.849 1464.31 Q978.062 1466.2 975.955 1468.8 Q975.377 1469.47 972.275 1472.69 Q969.173 1475.88 963.525 1481.64 Z\" fill=\"#000000\" fill-rule=\"nonzero\" fill-opacity=\"1\" /><path clip-path=\"url(#clip300)\" d=\"M1372.49 1454.1 Q1368.88 1454.1 1367.05 1457.66 Q1365.25 1461.2 1365.25 1468.33 Q1365.25 1475.44 1367.05 1479.01 Q1368.88 1482.55 1372.49 1482.55 Q1376.12 1482.55 1377.93 1479.01 Q1379.76 1475.44 1379.76 1468.33 Q1379.76 1461.2 1377.93 1457.66 Q1376.12 1454.1 1372.49 1454.1 M1372.49 1450.39 Q1378.3 1450.39 1381.36 1455 Q1384.44 1459.58 1384.44 1468.33 Q1384.44 1477.06 1381.36 1481.67 Q1378.3 1486.25 1372.49 1486.25 Q1366.68 1486.25 1363.6 1481.67 Q1360.55 1477.06 1360.55 1468.33 Q1360.55 1459.58 1363.6 1455 Q1366.68 1450.39 1372.49 1450.39 Z\" fill=\"#000000\" fill-rule=\"nonzero\" fill-opacity=\"1\" /><path clip-path=\"url(#clip300)\" d=\"M1392.65 1479.7 L1397.54 1479.7 L1397.54 1485.58 L1392.65 1485.58 L1392.65 1479.7 Z\" fill=\"#000000\" fill-rule=\"nonzero\" fill-opacity=\"1\" /><path clip-path=\"url(#clip300)\" d=\"M1421.89 1466.95 Q1425.25 1467.66 1427.12 1469.93 Q1429.02 1472.2 1429.02 1475.53 Q1429.02 1480.65 1425.5 1483.45 Q1421.98 1486.25 1415.5 1486.25 Q1413.32 1486.25 1411.01 1485.81 Q1408.72 1485.39 1406.26 1484.54 L1406.26 1480.02 Q1408.21 1481.16 1410.52 1481.74 Q1412.84 1482.32 1415.36 1482.32 Q1419.76 1482.32 1422.05 1480.58 Q1424.37 1478.84 1424.37 1475.53 Q1424.37 1472.48 1422.21 1470.77 Q1420.08 1469.03 1416.26 1469.03 L1412.24 1469.03 L1412.24 1465.19 L1416.45 1465.19 Q1419.9 1465.19 1421.73 1463.82 Q1423.56 1462.43 1423.56 1459.84 Q1423.56 1457.18 1421.66 1455.77 Q1419.78 1454.33 1416.26 1454.33 Q1414.34 1454.33 1412.14 1454.75 Q1409.94 1455.16 1407.31 1456.04 L1407.31 1451.88 Q1409.97 1451.14 1412.28 1450.77 Q1414.62 1450.39 1416.68 1450.39 Q1422 1450.39 1425.11 1452.83 Q1428.21 1455.23 1428.21 1459.35 Q1428.21 1462.22 1426.56 1464.21 Q1424.92 1466.18 1421.89 1466.95 Z\" fill=\"#000000\" fill-rule=\"nonzero\" fill-opacity=\"1\" /><path clip-path=\"url(#clip300)\" d=\"M1820.62 1454.1 Q1817.01 1454.1 1815.18 1457.66 Q1813.38 1461.2 1813.38 1468.33 Q1813.38 1475.44 1815.18 1479.01 Q1817.01 1482.55 1820.62 1482.55 Q1824.26 1482.55 1826.06 1479.01 Q1827.89 1475.44 1827.89 1468.33 Q1827.89 1461.2 1826.06 1457.66 Q1824.26 1454.1 1820.62 1454.1 M1820.62 1450.39 Q1826.43 1450.39 1829.49 1455 Q1832.57 1459.58 1832.57 1468.33 Q1832.57 1477.06 1829.49 1481.67 Q1826.43 1486.25 1820.62 1486.25 Q1814.81 1486.25 1811.73 1481.67 Q1808.68 1477.06 1808.68 1468.33 Q1808.68 1459.58 1811.73 1455 Q1814.81 1450.39 1820.62 1450.39 Z\" fill=\"#000000\" fill-rule=\"nonzero\" fill-opacity=\"1\" /><path clip-path=\"url(#clip300)\" d=\"M1840.79 1479.7 L1845.67 1479.7 L1845.67 1485.58 L1840.79 1485.58 L1840.79 1479.7 Z\" fill=\"#000000\" fill-rule=\"nonzero\" fill-opacity=\"1\" /><path clip-path=\"url(#clip300)\" d=\"M1868.7 1455.09 L1856.9 1473.54 L1868.7 1473.54 L1868.7 1455.09 M1867.47 1451.02 L1873.35 1451.02 L1873.35 1473.54 L1878.28 1473.54 L1878.28 1477.43 L1873.35 1477.43 L1873.35 1485.58 L1868.7 1485.58 L1868.7 1477.43 L1853.1 1477.43 L1853.1 1472.92 L1867.47 1451.02 Z\" fill=\"#000000\" fill-rule=\"nonzero\" fill-opacity=\"1\" /><path clip-path=\"url(#clip300)\" d=\"M2270.06 1454.1 Q2266.45 1454.1 2264.62 1457.66 Q2262.82 1461.2 2262.82 1468.33 Q2262.82 1475.44 2264.62 1479.01 Q2266.45 1482.55 2270.06 1482.55 Q2273.7 1482.55 2275.5 1479.01 Q2277.33 1475.44 2277.33 1468.33 Q2277.33 1461.2 2275.5 1457.66 Q2273.7 1454.1 2270.06 1454.1 M2270.06 1450.39 Q2275.87 1450.39 2278.93 1455 Q2282.01 1459.58 2282.01 1468.33 Q2282.01 1477.06 2278.93 1481.67 Q2275.87 1486.25 2270.06 1486.25 Q2264.25 1486.25 2261.17 1481.67 Q2258.12 1477.06 2258.12 1468.33 Q2258.12 1459.58 2261.17 1455 Q2264.25 1450.39 2270.06 1450.39 Z\" fill=\"#000000\" fill-rule=\"nonzero\" fill-opacity=\"1\" /><path clip-path=\"url(#clip300)\" d=\"M2290.23 1479.7 L2295.11 1479.7 L2295.11 1485.58 L2290.23 1485.58 L2290.23 1479.7 Z\" fill=\"#000000\" fill-rule=\"nonzero\" fill-opacity=\"1\" /><path clip-path=\"url(#clip300)\" d=\"M2305.34 1451.02 L2323.7 1451.02 L2323.7 1454.96 L2309.62 1454.96 L2309.62 1463.43 Q2310.64 1463.08 2311.66 1462.92 Q2312.68 1462.73 2313.7 1462.73 Q2319.48 1462.73 2322.86 1465.9 Q2326.24 1469.08 2326.24 1474.49 Q2326.24 1480.07 2322.77 1483.17 Q2319.3 1486.25 2312.98 1486.25 Q2310.8 1486.25 2308.54 1485.88 Q2306.29 1485.51 2303.88 1484.77 L2303.88 1480.07 Q2305.97 1481.2 2308.19 1481.76 Q2310.41 1482.32 2312.89 1482.32 Q2316.89 1482.32 2319.23 1480.21 Q2321.57 1478.1 2321.57 1474.49 Q2321.57 1470.88 2319.23 1468.77 Q2316.89 1466.67 2312.89 1466.67 Q2311.01 1466.67 2309.14 1467.08 Q2307.29 1467.5 2305.34 1468.38 L2305.34 1451.02 Z\" fill=\"#000000\" fill-rule=\"nonzero\" fill-opacity=\"1\" /><path clip-path=\"url(#clip300)\" d=\"M1040.42 1524.18 L1040.42 1530.96 Q1037.18 1527.94 1033.49 1526.44 Q1029.83 1524.95 1025.69 1524.95 Q1017.54 1524.95 1013.21 1529.95 Q1008.88 1534.91 1008.88 1544.33 Q1008.88 1553.72 1013.21 1558.72 Q1017.54 1563.68 1025.69 1563.68 Q1029.83 1563.68 1033.49 1562.19 Q1037.18 1560.69 1040.42 1557.67 L1040.42 1564.38 Q1037.05 1566.68 1033.26 1567.82 Q1029.51 1568.97 1025.31 1568.97 Q1014.52 1568.97 1008.31 1562.38 Q1002.1 1555.76 1002.1 1544.33 Q1002.1 1532.87 1008.31 1526.28 Q1014.52 1519.66 1025.31 1519.66 Q1029.57 1519.66 1033.33 1520.81 Q1037.11 1521.92 1040.42 1524.18 Z\" fill=\"#000000\" fill-rule=\"nonzero\" fill-opacity=\"1\" /><path clip-path=\"url(#clip300)\" d=\"M1049.5 1553.98 L1049.5 1532.4 L1055.35 1532.4 L1055.35 1553.75 Q1055.35 1558.81 1057.33 1561.36 Q1059.3 1563.87 1063.25 1563.87 Q1067.99 1563.87 1070.72 1560.85 Q1073.49 1557.83 1073.49 1552.61 L1073.49 1532.4 L1079.35 1532.4 L1079.35 1568.04 L1073.49 1568.04 L1073.49 1562.57 Q1071.36 1565.82 1068.53 1567.41 Q1065.73 1568.97 1062 1568.97 Q1055.86 1568.97 1052.68 1565.15 Q1049.5 1561.33 1049.5 1553.98 M1064.23 1531.54 L1064.23 1531.54 Z\" fill=\"#000000\" fill-rule=\"nonzero\" fill-opacity=\"1\" /><path clip-path=\"url(#clip300)\" d=\"M1112.07 1537.87 Q1111.08 1537.3 1109.91 1537.04 Q1108.76 1536.76 1107.36 1536.76 Q1102.39 1536.76 1099.72 1540 Q1097.08 1543.22 1097.08 1549.27 L1097.08 1568.04 L1091.19 1568.04 L1091.19 1532.4 L1097.08 1532.4 L1097.08 1537.93 Q1098.92 1534.69 1101.88 1533.13 Q1104.85 1531.54 1109.08 1531.54 Q1109.68 1531.54 1110.42 1531.63 Q1111.15 1531.7 1112.04 1531.85 L1112.07 1537.87 Z\" fill=\"#000000\" fill-rule=\"nonzero\" fill-opacity=\"1\" /><path clip-path=\"url(#clip300)\" d=\"M1137.72 1537.87 Q1136.74 1537.3 1135.56 1537.04 Q1134.41 1536.76 1133.01 1536.76 Q1128.05 1536.76 1125.37 1540 Q1122.73 1543.22 1122.73 1549.27 L1122.73 1568.04 L1116.84 1568.04 L1116.84 1532.4 L1122.73 1532.4 L1122.73 1537.93 Q1124.58 1534.69 1127.54 1533.13 Q1130.5 1531.54 1134.73 1531.54 Q1135.34 1531.54 1136.07 1531.63 Q1136.8 1531.7 1137.69 1531.85 L1137.72 1537.87 Z\" fill=\"#000000\" fill-rule=\"nonzero\" fill-opacity=\"1\" /><path clip-path=\"url(#clip300)\" d=\"M1172.93 1548.76 L1172.93 1551.62 L1146 1551.62 Q1146.38 1557.67 1149.63 1560.85 Q1152.91 1564 1158.73 1564 Q1162.1 1564 1165.26 1563.17 Q1168.44 1562.35 1171.56 1560.69 L1171.56 1566.23 Q1168.41 1567.57 1165.1 1568.27 Q1161.79 1568.97 1158.38 1568.97 Q1149.85 1568.97 1144.85 1564 Q1139.89 1559.04 1139.89 1550.57 Q1139.89 1541.82 1144.6 1536.69 Q1149.34 1531.54 1157.36 1531.54 Q1164.56 1531.54 1168.72 1536.18 Q1172.93 1540.8 1172.93 1548.76 M1167.07 1547.04 Q1167.01 1542.23 1164.36 1539.37 Q1161.75 1536.5 1157.43 1536.5 Q1152.52 1536.5 1149.56 1539.27 Q1146.64 1542.04 1146.19 1547.07 L1167.07 1547.04 Z\" fill=\"#000000\" fill-rule=\"nonzero\" fill-opacity=\"1\" /><path clip-path=\"url(#clip300)\" d=\"M1212.17 1546.53 L1212.17 1568.04 L1206.31 1568.04 L1206.31 1546.72 Q1206.31 1541.66 1204.34 1539.14 Q1202.37 1536.63 1198.42 1536.63 Q1193.68 1536.63 1190.94 1539.65 Q1188.2 1542.68 1188.2 1547.9 L1188.2 1568.04 L1182.32 1568.04 L1182.32 1532.4 L1188.2 1532.4 L1188.2 1537.93 Q1190.3 1534.72 1193.14 1533.13 Q1196 1531.54 1199.73 1531.54 Q1205.87 1531.54 1209.02 1535.36 Q1212.17 1539.14 1212.17 1546.53 Z\" fill=\"#000000\" fill-rule=\"nonzero\" fill-opacity=\"1\" /><path clip-path=\"url(#clip300)\" d=\"M1229.64 1522.27 L1229.64 1532.4 L1241.71 1532.4 L1241.71 1536.95 L1229.64 1536.95 L1229.64 1556.3 Q1229.64 1560.66 1230.82 1561.9 Q1232.03 1563.14 1235.69 1563.14 L1241.71 1563.14 L1241.71 1568.04 L1235.69 1568.04 Q1228.91 1568.04 1226.33 1565.53 Q1223.76 1562.98 1223.76 1556.3 L1223.76 1536.95 L1219.46 1536.95 L1219.46 1532.4 L1223.76 1532.4 L1223.76 1522.27 L1229.64 1522.27 Z\" fill=\"#000000\" fill-rule=\"nonzero\" fill-opacity=\"1\" /><path clip-path=\"url(#clip300)\" d=\"M1295.78 1533.76 L1295.78 1539.24 Q1293.3 1537.87 1290.79 1537.2 Q1288.3 1536.5 1285.76 1536.5 Q1280.06 1536.5 1276.91 1540.13 Q1273.76 1543.73 1273.76 1550.25 Q1273.76 1556.78 1276.91 1560.4 Q1280.06 1564 1285.76 1564 Q1288.3 1564 1290.79 1563.33 Q1293.3 1562.63 1295.78 1561.26 L1295.78 1566.68 Q1293.33 1567.82 1290.69 1568.39 Q1288.08 1568.97 1285.12 1568.97 Q1277.07 1568.97 1272.33 1563.91 Q1267.58 1558.85 1267.58 1550.25 Q1267.58 1541.53 1272.36 1536.53 Q1277.16 1531.54 1285.5 1531.54 Q1288.21 1531.54 1290.79 1532.11 Q1293.37 1532.65 1295.78 1533.76 Z\" fill=\"#000000\" fill-rule=\"nonzero\" fill-opacity=\"1\" /><path clip-path=\"url(#clip300)\" d=\"M1322.17 1550.12 Q1315.07 1550.12 1312.34 1551.75 Q1309.6 1553.37 1309.6 1557.29 Q1309.6 1560.4 1311.64 1562.25 Q1313.7 1564.07 1317.24 1564.07 Q1322.11 1564.07 1325.03 1560.63 Q1327.99 1557.16 1327.99 1551.43 L1327.99 1550.12 L1322.17 1550.12 M1333.85 1547.71 L1333.85 1568.04 L1327.99 1568.04 L1327.99 1562.63 Q1325.99 1565.88 1323 1567.44 Q1320.01 1568.97 1315.68 1568.97 Q1310.2 1568.97 1306.96 1565.91 Q1303.74 1562.82 1303.74 1557.67 Q1303.74 1551.65 1307.75 1548.6 Q1311.79 1545.54 1319.78 1545.54 L1327.99 1545.54 L1327.99 1544.97 Q1327.99 1540.93 1325.32 1538.73 Q1322.68 1536.5 1317.87 1536.5 Q1314.82 1536.5 1311.92 1537.23 Q1309.03 1537.97 1306.35 1539.43 L1306.35 1534.02 Q1309.57 1532.78 1312.59 1532.17 Q1315.61 1531.54 1318.48 1531.54 Q1326.21 1531.54 1330.03 1535.55 Q1333.85 1539.56 1333.85 1547.71 Z\" fill=\"#000000\" fill-rule=\"nonzero\" fill-opacity=\"1\" /><path clip-path=\"url(#clip300)\" d=\"M1351.58 1562.7 L1351.58 1581.6 L1345.69 1581.6 L1345.69 1532.4 L1351.58 1532.4 L1351.58 1537.81 Q1353.43 1534.62 1356.23 1533.1 Q1359.06 1531.54 1362.97 1531.54 Q1369.47 1531.54 1373.51 1536.69 Q1377.58 1541.85 1377.58 1550.25 Q1377.58 1558.65 1373.51 1563.81 Q1369.47 1568.97 1362.97 1568.97 Q1359.06 1568.97 1356.23 1567.44 Q1353.43 1565.88 1351.58 1562.7 M1371.5 1550.25 Q1371.5 1543.79 1368.83 1540.13 Q1366.19 1536.44 1361.54 1536.44 Q1356.9 1536.44 1354.22 1540.13 Q1351.58 1543.79 1351.58 1550.25 Q1351.58 1556.71 1354.22 1560.4 Q1356.9 1564.07 1361.54 1564.07 Q1366.19 1564.07 1368.83 1560.4 Q1371.5 1556.71 1371.5 1550.25 Z\" fill=\"#000000\" fill-rule=\"nonzero\" fill-opacity=\"1\" /><path clip-path=\"url(#clip300)\" d=\"M1387.29 1532.4 L1393.15 1532.4 L1393.15 1568.04 L1387.29 1568.04 L1387.29 1532.4 M1387.29 1518.52 L1393.15 1518.52 L1393.15 1525.93 L1387.29 1525.93 L1387.29 1518.52 Z\" fill=\"#000000\" fill-rule=\"nonzero\" fill-opacity=\"1\" /><path clip-path=\"url(#clip300)\" d=\"M1411.19 1522.27 L1411.19 1532.4 L1423.26 1532.4 L1423.26 1536.95 L1411.19 1536.95 L1411.19 1556.3 Q1411.19 1560.66 1412.37 1561.9 Q1413.58 1563.14 1417.24 1563.14 L1423.26 1563.14 L1423.26 1568.04 L1417.24 1568.04 Q1410.46 1568.04 1407.88 1565.53 Q1405.31 1562.98 1405.31 1556.3 L1405.31 1536.95 L1401.01 1536.95 L1401.01 1532.4 L1405.31 1532.4 L1405.31 1522.27 L1411.19 1522.27 Z\" fill=\"#000000\" fill-rule=\"nonzero\" fill-opacity=\"1\" /><path clip-path=\"url(#clip300)\" d=\"M1447.16 1550.12 Q1440.06 1550.12 1437.33 1551.75 Q1434.59 1553.37 1434.59 1557.29 Q1434.59 1560.4 1436.63 1562.25 Q1438.69 1564.07 1442.23 1564.07 Q1447.1 1564.07 1450.03 1560.63 Q1452.99 1557.16 1452.99 1551.43 L1452.99 1550.12 L1447.16 1550.12 M1458.84 1547.71 L1458.84 1568.04 L1452.99 1568.04 L1452.99 1562.63 Q1450.98 1565.88 1447.99 1567.44 Q1445 1568.97 1440.67 1568.97 Q1435.19 1568.97 1431.95 1565.91 Q1428.73 1562.82 1428.73 1557.67 Q1428.73 1551.65 1432.74 1548.6 Q1436.78 1545.54 1444.77 1545.54 L1452.99 1545.54 L1452.99 1544.97 Q1452.99 1540.93 1450.31 1538.73 Q1447.67 1536.5 1442.86 1536.5 Q1439.81 1536.5 1436.91 1537.23 Q1434.02 1537.97 1431.34 1539.43 L1431.34 1534.02 Q1434.56 1532.78 1437.58 1532.17 Q1440.6 1531.54 1443.47 1531.54 Q1451.2 1531.54 1455.02 1535.55 Q1458.84 1539.56 1458.84 1547.71 Z\" fill=\"#000000\" fill-rule=\"nonzero\" fill-opacity=\"1\" /><path clip-path=\"url(#clip300)\" d=\"M1470.91 1518.52 L1476.76 1518.52 L1476.76 1568.04 L1470.91 1568.04 L1470.91 1518.52 Z\" fill=\"#000000\" fill-rule=\"nonzero\" fill-opacity=\"1\" /><path clip-path=\"url(#clip300)\" d=\"M1490.51 1559.96 L1497.23 1559.96 L1497.23 1568.04 L1490.51 1568.04 L1490.51 1559.96 M1490.51 1534.34 L1497.23 1534.34 L1497.23 1542.42 L1490.51 1542.42 L1490.51 1534.34 Z\" fill=\"#000000\" fill-rule=\"nonzero\" fill-opacity=\"1\" /><path clip-path=\"url(#clip300)\" d=\"M1531.47 1518.52 L1537.36 1518.52 L1537.36 1547.77 L1554.84 1532.4 L1562.32 1532.4 L1543.41 1549.07 L1563.11 1568.04 L1555.47 1568.04 L1537.36 1550.63 L1537.36 1568.04 L1531.47 1568.04 L1531.47 1518.52 Z\" fill=\"#000000\" fill-rule=\"nonzero\" fill-opacity=\"1\" /><polyline clip-path=\"url(#clip302)\" style=\"stroke:#000000; stroke-linecap:round; stroke-linejoin:round; stroke-width:2; stroke-opacity:0.1; fill:none\" points=\"212.459,1177.71 2352.76,1177.71 \"/>\n",
       "<polyline clip-path=\"url(#clip302)\" style=\"stroke:#000000; stroke-linecap:round; stroke-linejoin:round; stroke-width:2; stroke-opacity:0.1; fill:none\" points=\"212.459,904.828 2352.76,904.828 \"/>\n",
       "<polyline clip-path=\"url(#clip302)\" style=\"stroke:#000000; stroke-linecap:round; stroke-linejoin:round; stroke-width:2; stroke-opacity:0.1; fill:none\" points=\"212.459,631.947 2352.76,631.947 \"/>\n",
       "<polyline clip-path=\"url(#clip302)\" style=\"stroke:#000000; stroke-linecap:round; stroke-linejoin:round; stroke-width:2; stroke-opacity:0.1; fill:none\" points=\"212.459,359.066 2352.76,359.066 \"/>\n",
       "<polyline clip-path=\"url(#clip302)\" style=\"stroke:#000000; stroke-linecap:round; stroke-linejoin:round; stroke-width:2; stroke-opacity:0.1; fill:none\" points=\"212.459,86.1857 2352.76,86.1857 \"/>\n",
       "<polyline clip-path=\"url(#clip300)\" style=\"stroke:#000000; stroke-linecap:round; stroke-linejoin:round; stroke-width:4; stroke-opacity:1; fill:none\" points=\"212.459,1423.18 212.459,47.2441 \"/>\n",
       "<polyline clip-path=\"url(#clip300)\" style=\"stroke:#000000; stroke-linecap:round; stroke-linejoin:round; stroke-width:2; stroke-opacity:0.5; fill:none\" points=\"2352.76,1423.18 2352.76,47.2441 \"/>\n",
       "<polyline clip-path=\"url(#clip300)\" style=\"stroke:#000000; stroke-linecap:round; stroke-linejoin:round; stroke-width:4; stroke-opacity:1; fill:none\" points=\"212.459,1177.71 231.357,1177.71 \"/>\n",
       "<polyline clip-path=\"url(#clip300)\" style=\"stroke:#000000; stroke-linecap:round; stroke-linejoin:round; stroke-width:4; stroke-opacity:1; fill:none\" points=\"212.459,904.828 231.357,904.828 \"/>\n",
       "<polyline clip-path=\"url(#clip300)\" style=\"stroke:#000000; stroke-linecap:round; stroke-linejoin:round; stroke-width:4; stroke-opacity:1; fill:none\" points=\"212.459,631.947 231.357,631.947 \"/>\n",
       "<polyline clip-path=\"url(#clip300)\" style=\"stroke:#000000; stroke-linecap:round; stroke-linejoin:round; stroke-width:4; stroke-opacity:1; fill:none\" points=\"212.459,359.066 231.357,359.066 \"/>\n",
       "<polyline clip-path=\"url(#clip300)\" style=\"stroke:#000000; stroke-linecap:round; stroke-linejoin:round; stroke-width:4; stroke-opacity:1; fill:none\" points=\"212.459,86.1857 231.357,86.1857 \"/>\n",
       "<path clip-path=\"url(#clip300)\" d=\"M114.26 1178.16 L143.936 1178.16 L143.936 1182.1 L114.26 1182.1 L114.26 1178.16 Z\" fill=\"#000000\" fill-rule=\"nonzero\" fill-opacity=\"1\" /><path clip-path=\"url(#clip300)\" d=\"M166.876 1164.5 L155.07 1182.95 L166.876 1182.95 L166.876 1164.5 M165.649 1160.43 L171.528 1160.43 L171.528 1182.95 L176.459 1182.95 L176.459 1186.84 L171.528 1186.84 L171.528 1194.99 L166.876 1194.99 L166.876 1186.84 L151.274 1186.84 L151.274 1182.33 L165.649 1160.43 Z\" fill=\"#000000\" fill-rule=\"nonzero\" fill-opacity=\"1\" /><path clip-path=\"url(#clip300)\" d=\"M115.394 905.279 L145.07 905.279 L145.07 909.214 L115.394 909.214 L115.394 905.279 Z\" fill=\"#000000\" fill-rule=\"nonzero\" fill-opacity=\"1\" /><path clip-path=\"url(#clip300)\" d=\"M169.329 903.474 Q172.686 904.191 174.561 906.46 Q176.459 908.728 176.459 912.062 Q176.459 917.177 172.94 919.978 Q169.422 922.779 162.94 922.779 Q160.765 922.779 158.45 922.339 Q156.158 921.923 153.704 921.066 L153.704 916.552 Q155.649 917.687 157.964 918.265 Q160.278 918.844 162.802 918.844 Q167.2 918.844 169.491 917.108 Q171.806 915.372 171.806 912.062 Q171.806 909.006 169.653 907.293 Q167.524 905.557 163.704 905.557 L159.677 905.557 L159.677 901.714 L163.89 901.714 Q167.339 901.714 169.167 900.349 Q170.996 898.96 170.996 896.367 Q170.996 893.705 169.098 892.293 Q167.223 890.858 163.704 890.858 Q161.783 890.858 159.584 891.275 Q157.385 891.691 154.746 892.571 L154.746 888.404 Q157.408 887.664 159.723 887.293 Q162.061 886.923 164.121 886.923 Q169.445 886.923 172.547 889.353 Q175.649 891.761 175.649 895.881 Q175.649 898.752 174.005 900.742 Q172.362 902.71 169.329 903.474 Z\" fill=\"#000000\" fill-rule=\"nonzero\" fill-opacity=\"1\" /><path clip-path=\"url(#clip300)\" d=\"M116.343 632.399 L146.019 632.399 L146.019 636.334 L116.343 636.334 L116.343 632.399 Z\" fill=\"#000000\" fill-rule=\"nonzero\" fill-opacity=\"1\" /><path clip-path=\"url(#clip300)\" d=\"M160.14 645.292 L176.459 645.292 L176.459 649.227 L154.515 649.227 L154.515 645.292 Q157.177 642.537 161.76 637.908 Q166.366 633.255 167.547 631.912 Q169.792 629.389 170.672 627.653 Q171.575 625.894 171.575 624.204 Q171.575 621.45 169.63 619.713 Q167.709 617.977 164.607 617.977 Q162.408 617.977 159.954 618.741 Q157.524 619.505 154.746 621.056 L154.746 616.334 Q157.57 615.2 160.024 614.621 Q162.477 614.042 164.515 614.042 Q169.885 614.042 173.079 616.727 Q176.274 619.412 176.274 623.903 Q176.274 626.033 175.464 627.954 Q174.677 629.852 172.57 632.445 Q171.991 633.116 168.889 636.334 Q165.788 639.528 160.14 645.292 Z\" fill=\"#000000\" fill-rule=\"nonzero\" fill-opacity=\"1\" /><path clip-path=\"url(#clip300)\" d=\"M115.973 359.518 L145.649 359.518 L145.649 363.453 L115.973 363.453 L115.973 359.518 Z\" fill=\"#000000\" fill-rule=\"nonzero\" fill-opacity=\"1\" /><path clip-path=\"url(#clip300)\" d=\"M156.552 372.411 L164.19 372.411 L164.19 346.046 L155.88 347.712 L155.88 343.453 L164.144 341.786 L168.82 341.786 L168.82 372.411 L176.459 372.411 L176.459 376.346 L156.552 376.346 L156.552 372.411 Z\" fill=\"#000000\" fill-rule=\"nonzero\" fill-opacity=\"1\" /><path clip-path=\"url(#clip300)\" d=\"M164.515 71.9844 Q160.903 71.9844 159.075 75.5492 Q157.269 79.0908 157.269 86.2204 Q157.269 93.3268 159.075 96.8916 Q160.903 100.433 164.515 100.433 Q168.149 100.433 169.954 96.8916 Q171.783 93.3268 171.783 86.2204 Q171.783 79.0908 169.954 75.5492 Q168.149 71.9844 164.515 71.9844 M164.515 68.2807 Q170.325 68.2807 173.38 72.8871 Q176.459 77.4704 176.459 86.2204 Q176.459 94.9472 173.38 99.5537 Q170.325 104.137 164.515 104.137 Q158.704 104.137 155.626 99.5537 Q152.57 94.9472 152.57 86.2204 Q152.57 77.4704 155.626 72.8871 Q158.704 68.2807 164.515 68.2807 Z\" fill=\"#000000\" fill-rule=\"nonzero\" fill-opacity=\"1\" /><path clip-path=\"url(#clip300)\" d=\"M64.0042 1034.96 L16.4842 1053.1 L16.4842 1046.38 L56.4926 1031.33 L16.4842 1016.24 L16.4842 1009.56 L64.0042 1027.67 L64.0042 1034.96 Z\" fill=\"#000000\" fill-rule=\"nonzero\" fill-opacity=\"1\" /><path clip-path=\"url(#clip300)\" d=\"M46.0847 991.734 Q46.0847 998.832 47.7079 1001.57 Q49.3312 1004.31 53.2461 1004.31 Q56.3653 1004.31 58.2114 1002.27 Q60.0256 1000.2 60.0256 996.667 Q60.0256 991.798 56.5881 988.869 Q53.1188 985.909 47.3897 985.909 L46.0847 985.909 L46.0847 991.734 M43.6657 980.053 L64.0042 980.053 L64.0042 985.909 L58.5933 985.909 Q61.8398 987.915 63.3994 990.906 Q64.9272 993.898 64.9272 998.227 Q64.9272 1003.7 61.8716 1006.95 Q58.7843 1010.16 53.6281 1010.16 Q47.6125 1010.16 44.5569 1006.15 Q41.5014 1002.11 41.5014 994.121 L41.5014 985.909 L40.9285 985.909 Q36.8862 985.909 34.6901 988.583 Q32.4621 991.225 32.4621 996.031 Q32.4621 999.086 33.1941 1001.98 Q33.9262 1004.88 35.3903 1007.55 L29.9795 1007.55 Q28.7381 1004.34 28.1334 1001.31 Q27.4968 998.291 27.4968 995.426 Q27.4968 987.692 31.5072 983.872 Q35.5176 980.053 43.6657 980.053 Z\" fill=\"#000000\" fill-rule=\"nonzero\" fill-opacity=\"1\" /><path clip-path=\"url(#clip300)\" d=\"M14.479 967.99 L14.479 962.133 L64.0042 962.133 L64.0042 967.99 L14.479 967.99 Z\" fill=\"#000000\" fill-rule=\"nonzero\" fill-opacity=\"1\" /><path clip-path=\"url(#clip300)\" d=\"M49.9359 950.484 L28.3562 950.484 L28.3562 944.628 L49.7131 944.628 Q54.7739 944.628 57.3202 942.654 Q59.8346 940.681 59.8346 936.734 Q59.8346 931.992 56.8109 929.255 Q53.7872 926.486 48.5673 926.486 L28.3562 926.486 L28.3562 920.629 L64.0042 920.629 L64.0042 926.486 L58.5296 926.486 Q61.7762 928.618 63.3676 931.451 Q64.9272 934.252 64.9272 937.976 Q64.9272 944.119 61.1078 947.301 Q57.2883 950.484 49.9359 950.484 M27.4968 935.748 L27.4968 935.748 Z\" fill=\"#000000\" fill-rule=\"nonzero\" fill-opacity=\"1\" /><path clip-path=\"url(#clip300)\" d=\"M44.7161 878.074 L47.5806 878.074 L47.5806 905.001 Q53.6281 904.619 56.8109 901.373 Q59.9619 898.094 59.9619 892.27 Q59.9619 888.896 59.1344 885.745 Q58.3069 882.562 56.6518 879.443 L62.1899 879.443 Q63.5267 882.594 64.227 885.904 Q64.9272 889.214 64.9272 892.62 Q64.9272 901.15 59.9619 906.147 Q54.9967 911.112 46.5303 911.112 Q37.7774 911.112 32.6531 906.402 Q27.4968 901.659 27.4968 893.638 Q27.4968 886.445 32.1438 882.276 Q36.7589 878.074 44.7161 878.074 M42.9973 883.931 Q38.1912 883.994 35.3266 886.636 Q32.4621 889.246 32.4621 893.575 Q32.4621 898.476 35.2312 901.436 Q38.0002 904.365 43.0292 904.81 L42.9973 883.931 Z\" fill=\"#000000\" fill-rule=\"nonzero\" fill-opacity=\"1\" /><path clip-path=\"url(#clip300)\" d=\"M14.479 829.695 L19.3487 829.695 L19.3487 835.297 Q19.3487 838.448 20.6219 839.689 Q21.895 840.899 25.2052 840.899 L28.3562 840.899 L28.3562 831.255 L32.9077 831.255 L32.9077 840.899 L64.0042 840.899 L64.0042 846.787 L32.9077 846.787 L32.9077 852.389 L28.3562 852.389 L28.3562 846.787 L25.8736 846.787 Q19.9216 846.787 17.2162 844.018 Q14.479 841.249 14.479 835.233 L14.479 829.695 Z\" fill=\"#000000\" fill-rule=\"nonzero\" fill-opacity=\"1\" /><path clip-path=\"url(#clip300)\" d=\"M49.9359 825.398 L28.3562 825.398 L28.3562 819.542 L49.7131 819.542 Q54.7739 819.542 57.3202 817.568 Q59.8346 815.595 59.8346 811.648 Q59.8346 806.906 56.8109 804.168 Q53.7872 801.399 48.5673 801.399 L28.3562 801.399 L28.3562 795.543 L64.0042 795.543 L64.0042 801.399 L58.5296 801.399 Q61.7762 803.532 63.3676 806.365 Q64.9272 809.166 64.9272 812.89 Q64.9272 819.032 61.1078 822.215 Q57.2883 825.398 49.9359 825.398 M27.4968 810.662 L27.4968 810.662 Z\" fill=\"#000000\" fill-rule=\"nonzero\" fill-opacity=\"1\" /><path clip-path=\"url(#clip300)\" d=\"M42.4881 753.848 L64.0042 753.848 L64.0042 759.704 L42.679 759.704 Q37.6183 759.704 35.1038 761.677 Q32.5894 763.651 32.5894 767.598 Q32.5894 772.34 35.6131 775.077 Q38.6368 777.814 43.8567 777.814 L64.0042 777.814 L64.0042 783.703 L28.3562 783.703 L28.3562 777.814 L33.8944 777.814 Q30.6797 775.714 29.0883 772.881 Q27.4968 770.016 27.4968 766.293 Q27.4968 760.15 31.3163 756.999 Q35.1038 753.848 42.4881 753.848 Z\" fill=\"#000000\" fill-rule=\"nonzero\" fill-opacity=\"1\" /><path clip-path=\"url(#clip300)\" d=\"M29.7248 716.513 L35.1993 716.513 Q33.8307 718.995 33.1623 721.51 Q32.4621 723.992 32.4621 726.539 Q32.4621 732.236 36.0905 735.387 Q39.6872 738.538 46.212 738.538 Q52.7369 738.538 56.3653 735.387 Q59.9619 732.236 59.9619 726.539 Q59.9619 723.992 59.2935 721.51 Q58.5933 718.995 57.2247 716.513 L62.6355 716.513 Q63.7814 718.964 64.3543 721.605 Q64.9272 724.215 64.9272 727.175 Q64.9272 735.228 59.8664 739.97 Q54.8057 744.713 46.212 744.713 Q37.491 744.713 32.4939 739.939 Q27.4968 735.132 27.4968 726.793 Q27.4968 724.088 28.0697 721.51 Q28.6108 718.932 29.7248 716.513 Z\" fill=\"#000000\" fill-rule=\"nonzero\" fill-opacity=\"1\" /><path clip-path=\"url(#clip300)\" d=\"M18.2347 700.535 L28.3562 700.535 L28.3562 688.472 L32.9077 688.472 L32.9077 700.535 L52.2594 700.535 Q56.6199 700.535 57.8613 699.357 Q59.1026 698.148 59.1026 694.487 L59.1026 688.472 L64.0042 688.472 L64.0042 694.487 Q64.0042 701.267 61.4897 703.845 Q58.9434 706.423 52.2594 706.423 L32.9077 706.423 L32.9077 710.72 L28.3562 710.72 L28.3562 706.423 L18.2347 706.423 L18.2347 700.535 Z\" fill=\"#000000\" fill-rule=\"nonzero\" fill-opacity=\"1\" /><path clip-path=\"url(#clip300)\" d=\"M28.3562 680.769 L28.3562 674.913 L64.0042 674.913 L64.0042 680.769 L28.3562 680.769 M14.479 680.769 L14.479 674.913 L21.895 674.913 L21.895 680.769 L14.479 680.769 Z\" fill=\"#000000\" fill-rule=\"nonzero\" fill-opacity=\"1\" /><path clip-path=\"url(#clip300)\" d=\"M32.4621 648.845 Q32.4621 653.556 36.1542 656.293 Q39.8145 659.03 46.212 659.03 Q52.6095 659.03 56.3017 656.325 Q59.9619 653.588 59.9619 648.845 Q59.9619 644.166 56.2698 641.429 Q52.5777 638.692 46.212 638.692 Q39.8781 638.692 36.186 641.429 Q32.4621 644.166 32.4621 648.845 M27.4968 648.845 Q27.4968 641.206 32.4621 636.846 Q37.4273 632.485 46.212 632.485 Q54.9649 632.485 59.9619 636.846 Q64.9272 641.206 64.9272 648.845 Q64.9272 656.516 59.9619 660.876 Q54.9649 665.205 46.212 665.205 Q37.4273 665.205 32.4621 660.876 Q27.4968 656.516 27.4968 648.845 Z\" fill=\"#000000\" fill-rule=\"nonzero\" fill-opacity=\"1\" /><path clip-path=\"url(#clip300)\" d=\"M42.4881 593.145 L64.0042 593.145 L64.0042 599.002 L42.679 599.002 Q37.6183 599.002 35.1038 600.975 Q32.5894 602.948 32.5894 606.895 Q32.5894 611.638 35.6131 614.375 Q38.6368 617.112 43.8567 617.112 L64.0042 617.112 L64.0042 623 L28.3562 623 L28.3562 617.112 L33.8944 617.112 Q30.6797 615.012 29.0883 612.179 Q27.4968 609.314 27.4968 605.59 Q27.4968 599.447 31.3163 596.296 Q35.1038 593.145 42.4881 593.145 Z\" fill=\"#000000\" fill-rule=\"nonzero\" fill-opacity=\"1\" /><path clip-path=\"url(#clip300)\" d=\"M55.9197 579.968 L55.9197 573.252 L64.0042 573.252 L64.0042 579.968 L55.9197 579.968 M30.2977 579.968 L30.2977 573.252 L38.3822 573.252 L38.3822 579.968 L30.2977 579.968 Z\" fill=\"#000000\" fill-rule=\"nonzero\" fill-opacity=\"1\" /><path clip-path=\"url(#clip300)\" d=\"M64.0042 526.274 L16.4842 544.416 L16.4842 537.7 L56.4926 522.645 L16.4842 507.558 L16.4842 500.874 L64.0042 518.985 L64.0042 526.274 Z\" fill=\"#000000\" fill-rule=\"nonzero\" fill-opacity=\"1\" /><path clip-path=\"url(#clip300)\" d=\"M14.5426 480.122 Q21.8632 484.387 29.0246 486.456 Q36.186 488.525 43.5384 488.525 Q50.8908 488.525 58.1159 486.456 Q65.3091 484.355 72.5979 480.122 L72.5979 485.215 Q65.1182 489.989 57.8931 492.376 Q50.668 494.731 43.5384 494.731 Q36.4406 494.731 29.2474 492.376 Q22.0542 490.021 14.5426 485.215 L14.5426 480.122 Z\" fill=\"#000000\" fill-rule=\"nonzero\" fill-opacity=\"1\" /><path clip-path=\"url(#clip300)\" d=\"M14.479 468.982 L14.479 463.094 L43.7294 463.094 L28.3562 445.62 L28.3562 438.14 L45.0344 457.047 L64.0042 437.345 L64.0042 444.983 L46.5939 463.094 L64.0042 463.094 L64.0042 468.982 L14.479 468.982 Z\" fill=\"#000000\" fill-rule=\"nonzero\" fill-opacity=\"1\" /><path clip-path=\"url(#clip300)\" d=\"M14.5426 431.934 L14.5426 426.841 Q22.0542 422.067 29.2474 419.712 Q36.4406 417.324 43.5384 417.324 Q50.668 417.324 57.8931 419.712 Q65.1182 422.067 72.5979 426.841 L72.5979 431.934 Q65.3091 427.701 58.1159 425.632 Q50.8908 423.531 43.5384 423.531 Q36.186 423.531 29.0246 425.632 Q21.8632 427.701 14.5426 431.934 Z\" fill=\"#000000\" fill-rule=\"nonzero\" fill-opacity=\"1\" /><polyline clip-path=\"url(#clip302)\" style=\"stroke:#0000ff; stroke-linecap:round; stroke-linejoin:round; stroke-width:16; stroke-opacity:1; fill:none\" points=\"273.033,86.1857 293.225,86.1857 313.416,86.1857 333.608,86.1857 353.799,86.1857 373.991,86.1857 394.182,86.1857 414.374,86.1857 434.565,86.1857 454.757,86.1857 474.948,86.1857 495.14,86.1857 515.331,86.1857 535.523,86.1857 555.714,86.1857 575.906,86.1857 596.097,86.1857 616.289,86.1857 636.48,86.1857 656.671,86.1857 676.863,86.1857 697.054,86.1857 717.246,86.1857 737.437,86.1857 757.629,86.1857 777.82,86.1857 798.012,86.1857 818.203,86.1857 838.395,86.1857 858.586,86.1857 878.778,86.1857 898.969,86.1857 919.161,86.1857 939.352,86.1857 959.544,86.1857 979.735,86.1857 999.927,86.1857 1020.12,86.1857 1040.31,86.1857 1060.5,86.1857 1080.69,86.1857 1100.88,86.1857 1121.08,86.1857 1141.27,86.1857 1161.46,86.1857 1181.65,86.1857 1201.84,86.1857 1222.03,86.1857 1242.22,86.1857 1262.42,86.1857 1282.61,86.1857 1302.8,86.1857 1322.99,86.1857 1343.18,86.1857 1363.37,86.1857 1383.56,86.1857 1403.76,86.1857 1423.95,86.1857 1444.14,86.1857 1464.33,86.1857 1484.52,86.1857 1504.71,86.1857 1524.91,86.1857 1545.1,86.1857 1565.29,86.1857 1585.48,86.1857 1605.67,86.1857 1625.86,86.1857 1646.05,86.1857 1666.25,86.1857 1686.44,86.1857 1706.63,86.1857 1726.82,86.1857 1747.01,86.1857 1767.2,86.1857 1787.39,86.1857 1807.59,86.1857 1827.78,86.1857 1847.97,86.1857 1868.16,86.1857 1888.35,86.1857 1908.54,86.1857 1928.73,86.1857 1948.93,86.1857 1969.12,86.1857 1989.31,86.1857 2009.5,86.1857 2029.69,86.1857 2049.88,86.1857 2070.08,86.1857 2090.27,86.1857 2110.46,86.1857 2130.65,86.1857 2150.84,86.1857 2171.03,86.1857 2191.22,86.1857 2211.42,86.1857 2231.61,86.1857 2251.8,86.1857 2271.99,86.1857 2292.18,86.1857 \"/>\n",
       "<polyline clip-path=\"url(#clip302)\" style=\"stroke:#e26f46; stroke-linecap:round; stroke-linejoin:round; stroke-width:16; stroke-opacity:1; fill:none\" points=\"273.033,798.925 293.225,785.337 313.416,772.876 333.608,761.346 353.799,750.568 373.991,740.541 394.182,731.066 414.374,722.173 434.565,713.736 454.757,705.752 474.948,698.139 495.14,690.903 515.331,683.962 535.523,677.353 555.714,670.971 575.906,664.879 596.097,658.985 616.289,653.323 636.48,647.865 656.671,642.572 676.863,637.482 697.054,632.526 717.246,627.733 737.437,623.103 757.629,618.571 777.82,614.188 798.012,609.935 818.203,605.769 838.395,601.73 858.586,597.8 878.778,593.944 898.969,590.196 919.161,586.549 939.352,582.957 959.544,579.46 979.735,576.052 999.927,572.699 1020.12,569.419 1040.31,566.219 1060.5,563.081 1080.69,559.992 1100.88,556.973 1121.08,554.021 1141.27,551.108 1161.46,548.25 1181.65,545.452 1201.84,542.711 1222.03,539.996 1242.22,537.336 1262.42,534.728 1282.61,532.167 1302.8,529.63 1322.99,527.141 1343.18,524.698 1363.37,522.296 1383.56,519.915 1403.76,517.575 1423.95,515.276 1444.14,513.016 1464.33,510.774 1484.52,508.567 1504.71,506.395 1524.91,504.259 1545.1,502.145 1565.29,500.055 1585.48,497.996 1605.67,495.97 1625.86,493.973 1646.05,491.988 1666.25,490.031 1686.44,488.103 1706.63,486.202 1726.82,484.323 1747.01,482.458 1767.2,480.618 1787.39,478.804 1807.59,477.014 1827.78,475.241 1847.97,473.482 1868.16,471.745 1888.35,470.032 1908.54,468.34 1928.73,466.663 1948.93,464.999 1969.12,463.354 1989.31,461.73 2009.5,460.126 2029.69,458.538 2049.88,456.957 2070.08,455.395 2090.27,453.852 2110.46,452.326 2130.65,450.817 2150.84,449.315 2171.03,447.827 2191.22,446.355 2211.42,444.9 2231.61,443.46 2251.8,442.033 2271.99,440.612 2292.18,439.206 \"/>\n",
       "<polyline clip-path=\"url(#clip302)\" style=\"stroke:#3da44d; stroke-linecap:round; stroke-linejoin:round; stroke-width:16; stroke-opacity:1; fill:none\" points=\"273.033,1384.24 293.225,1369.25 313.416,1355.46 333.608,1342.67 353.799,1330.73 373.991,1319.55 394.182,1309.09 414.374,1299.19 434.565,1289.82 454.757,1280.96 474.948,1272.5 495.14,1264.46 515.331,1256.77 535.523,1249.37 555.714,1242.32 575.906,1235.5 596.097,1228.96 616.289,1222.64 636.48,1216.57 656.671,1210.68 676.863,1205 697.054,1199.48 717.246,1194.16 737.437,1188.96 757.629,1183.95 777.82,1179.06 798.012,1174.32 818.203,1169.67 838.395,1165.16 858.586,1160.78 878.778,1156.49 898.969,1152.3 919.161,1148.2 939.352,1144.21 959.544,1140.31 979.735,1136.49 999.927,1132.76 1020.12,1129.11 1040.31,1125.53 1060.5,1122.02 1080.69,1118.57 1100.88,1115.2 1121.08,1111.9 1141.27,1108.64 1161.46,1105.46 1181.65,1102.35 1201.84,1099.27 1222.03,1096.25 1242.22,1093.27 1262.42,1090.35 1282.61,1087.48 1302.8,1084.66 1322.99,1081.87 1343.18,1079.14 1363.37,1076.44 1383.56,1073.78 1403.76,1071.17 1423.95,1068.59 1444.14,1066.05 1464.33,1063.55 1484.52,1061.09 1504.71,1058.66 1524.91,1056.26 1545.1,1053.9 1565.29,1051.57 1585.48,1049.26 1605.67,1046.99 1625.86,1044.75 1646.05,1042.53 1666.25,1040.34 1686.44,1038.18 1706.63,1036.06 1726.82,1033.94 1747.01,1031.86 1767.2,1029.81 1787.39,1027.78 1807.59,1025.77 1827.78,1023.79 1847.97,1021.83 1868.16,1019.88 1888.35,1017.95 1908.54,1016.05 1928.73,1014.18 1948.93,1012.32 1969.12,1010.48 1989.31,1008.66 2009.5,1006.86 2029.69,1005.08 2049.88,1003.31 2070.08,1001.56 2090.27,999.833 2110.46,998.111 2130.65,996.41 2150.84,994.729 2171.03,993.069 2191.22,991.425 2211.42,989.787 2231.61,988.167 2251.8,986.567 2271.99,984.984 2292.18,983.415 \"/>\n",
       "<path clip-path=\"url(#clip300)\" d=\"M1942.28 1377.32 L2281.41 1377.32 L2281.41 1066.28 L1942.28 1066.28  Z\" fill=\"#ffffff\" fill-rule=\"evenodd\" fill-opacity=\"1\"/>\n",
       "<polyline clip-path=\"url(#clip300)\" style=\"stroke:#000000; stroke-linecap:round; stroke-linejoin:round; stroke-width:4; stroke-opacity:1; fill:none\" points=\"1942.28,1377.32 2281.41,1377.32 2281.41,1066.28 1942.28,1066.28 1942.28,1377.32 \"/>\n",
       "<polyline clip-path=\"url(#clip300)\" style=\"stroke:#0000ff; stroke-linecap:round; stroke-linejoin:round; stroke-width:24; stroke-opacity:1; fill:none\" points=\"1966.06,1144.04 2108.75,1144.04 \"/>\n",
       "<path clip-path=\"url(#clip300)\" d=\"M2143.64 1120.03 L2143.64 1131.07 L2156.8 1131.07 L2156.8 1136.03 L2143.64 1136.03 L2143.64 1157.14 Q2143.64 1161.9 2144.92 1163.25 Q2146.24 1164.61 2150.24 1164.61 L2156.8 1164.61 L2156.8 1169.96 L2150.24 1169.96 Q2142.84 1169.96 2140.03 1167.21 Q2137.22 1164.43 2137.22 1157.14 L2137.22 1136.03 L2132.53 1136.03 L2132.53 1131.07 L2137.22 1131.07 L2137.22 1120.03 L2143.64 1120.03 Z\" fill=\"#000000\" fill-rule=\"nonzero\" fill-opacity=\"1\" /><path clip-path=\"url(#clip300)\" d=\"M2166.03 1137.66 L2210.55 1137.66 L2210.55 1143.5 L2166.03 1143.5 L2166.03 1137.66 M2166.03 1151.83 L2210.55 1151.83 L2210.55 1157.73 L2166.03 1157.73 L2166.03 1151.83 Z\" fill=\"#000000\" fill-rule=\"nonzero\" fill-opacity=\"1\" /><path clip-path=\"url(#clip300)\" d=\"M2226.9 1164.05 L2238.36 1164.05 L2238.36 1124.5 L2225.9 1127 L2225.9 1120.62 L2238.29 1118.12 L2245.31 1118.12 L2245.31 1164.05 L2256.76 1164.05 L2256.76 1169.96 L2226.9 1169.96 L2226.9 1164.05 Z\" fill=\"#000000\" fill-rule=\"nonzero\" fill-opacity=\"1\" /><polyline clip-path=\"url(#clip300)\" style=\"stroke:#e26f46; stroke-linecap:round; stroke-linejoin:round; stroke-width:24; stroke-opacity:1; fill:none\" points=\"1966.06,1221.8 2108.75,1221.8 \"/>\n",
       "<path clip-path=\"url(#clip300)\" d=\"M2143.64 1197.79 L2143.64 1208.83 L2156.8 1208.83 L2156.8 1213.79 L2143.64 1213.79 L2143.64 1234.9 Q2143.64 1239.66 2144.92 1241.01 Q2146.24 1242.37 2150.24 1242.37 L2156.8 1242.37 L2156.8 1247.72 L2150.24 1247.72 Q2142.84 1247.72 2140.03 1244.97 Q2137.22 1242.19 2137.22 1234.9 L2137.22 1213.79 L2132.53 1213.79 L2132.53 1208.83 L2137.22 1208.83 L2137.22 1197.79 L2143.64 1197.79 Z\" fill=\"#000000\" fill-rule=\"nonzero\" fill-opacity=\"1\" /><path clip-path=\"url(#clip300)\" d=\"M2166.03 1215.42 L2210.55 1215.42 L2210.55 1221.26 L2166.03 1221.26 L2166.03 1215.42 M2166.03 1229.59 L2210.55 1229.59 L2210.55 1235.49 L2166.03 1235.49 L2166.03 1229.59 Z\" fill=\"#000000\" fill-rule=\"nonzero\" fill-opacity=\"1\" /><path clip-path=\"url(#clip300)\" d=\"M2246.94 1219.76 Q2251.97 1220.84 2254.78 1224.24 Q2257.63 1227.65 2257.63 1232.65 Q2257.63 1240.32 2252.35 1244.52 Q2247.08 1248.72 2237.35 1248.72 Q2234.09 1248.72 2230.62 1248.06 Q2227.18 1247.44 2223.5 1246.15 L2223.5 1239.38 Q2226.42 1241.08 2229.89 1241.95 Q2233.36 1242.82 2237.15 1242.82 Q2243.74 1242.82 2247.18 1240.22 Q2250.65 1237.61 2250.65 1232.65 Q2250.65 1228.06 2247.42 1225.49 Q2244.23 1222.89 2238.5 1222.89 L2232.46 1222.89 L2232.46 1217.13 L2238.78 1217.13 Q2243.95 1217.13 2246.69 1215.08 Q2249.44 1212.99 2249.44 1209.1 Q2249.44 1205.11 2246.59 1202.99 Q2243.78 1200.84 2238.5 1200.84 Q2235.62 1200.84 2232.32 1201.47 Q2229.02 1202.09 2225.06 1203.41 L2225.06 1197.16 Q2229.06 1196.05 2232.53 1195.49 Q2236.03 1194.94 2239.12 1194.94 Q2247.11 1194.94 2251.76 1198.58 Q2256.42 1202.19 2256.42 1208.38 Q2256.42 1212.68 2253.95 1215.67 Q2251.49 1218.62 2246.94 1219.76 Z\" fill=\"#000000\" fill-rule=\"nonzero\" fill-opacity=\"1\" /><polyline clip-path=\"url(#clip300)\" style=\"stroke:#3da44d; stroke-linecap:round; stroke-linejoin:round; stroke-width:24; stroke-opacity:1; fill:none\" points=\"1966.06,1299.56 2108.75,1299.56 \"/>\n",
       "<path clip-path=\"url(#clip300)\" d=\"M2143.64 1275.55 L2143.64 1286.59 L2156.8 1286.59 L2156.8 1291.55 L2143.64 1291.55 L2143.64 1312.66 Q2143.64 1317.42 2144.92 1318.77 Q2146.24 1320.13 2150.24 1320.13 L2156.8 1320.13 L2156.8 1325.48 L2150.24 1325.48 Q2142.84 1325.48 2140.03 1322.73 Q2137.22 1319.95 2137.22 1312.66 L2137.22 1291.55 L2132.53 1291.55 L2132.53 1286.59 L2137.22 1286.59 L2137.22 1275.55 L2143.64 1275.55 Z\" fill=\"#000000\" fill-rule=\"nonzero\" fill-opacity=\"1\" /><path clip-path=\"url(#clip300)\" d=\"M2166.03 1293.18 L2210.55 1293.18 L2210.55 1299.02 L2166.03 1299.02 L2166.03 1293.18 M2166.03 1307.35 L2210.55 1307.35 L2210.55 1313.25 L2166.03 1313.25 L2166.03 1307.35 Z\" fill=\"#000000\" fill-rule=\"nonzero\" fill-opacity=\"1\" /><path clip-path=\"url(#clip300)\" d=\"M2225.76 1273.64 L2253.29 1273.64 L2253.29 1279.54 L2232.18 1279.54 L2232.18 1292.25 Q2233.71 1291.73 2235.24 1291.48 Q2236.76 1291.2 2238.29 1291.2 Q2246.97 1291.2 2252.04 1295.96 Q2257.11 1300.72 2257.11 1308.84 Q2257.11 1317.21 2251.9 1321.86 Q2246.69 1326.48 2237.22 1326.48 Q2233.95 1326.48 2230.55 1325.93 Q2227.18 1325.37 2223.57 1324.26 L2223.57 1317.21 Q2226.69 1318.91 2230.03 1319.75 Q2233.36 1320.58 2237.08 1320.58 Q2243.08 1320.58 2246.59 1317.42 Q2250.1 1314.26 2250.1 1308.84 Q2250.1 1303.43 2246.59 1300.27 Q2243.08 1297.11 2237.08 1297.11 Q2234.26 1297.11 2231.45 1297.73 Q2228.67 1298.36 2225.76 1299.68 L2225.76 1273.64 Z\" fill=\"#000000\" fill-rule=\"nonzero\" fill-opacity=\"1\" /></svg>\n"
      ]
     },
     "execution_count": 21,
     "metadata": {},
     "output_type": "execute_result"
    }
   ],
   "source": [
    "plt = plot(params.kgrid, val_tmp[:, 1],\n",
    "    color = :blue,\n",
    "    legend = :bottomright,\n",
    "    label = (\"t=1\"),\n",
    "    xlabel = (\"Current capital: k\"),\n",
    "    ylabel = (\"Value function: V(k)\"),\n",
    "    linewidth = 4,\n",
    "    legendfontsize = 12,\n",
    "    framestyle = :semi\n",
    ")\n",
    "plot!(params.kgrid, val_tmp[:, 2], linewidth =4, label=\"t=3\")\n",
    "plot!(params.kgrid, val_tmp[:, 3], linewidth =4, label=\"t=5\")"
   ]
  },
  {
   "cell_type": "code",
   "execution_count": 31,
   "metadata": {
    "slideshow": {
     "slide_type": "subslide"
    }
   },
   "outputs": [
    {
     "data": {
      "image/svg+xml": [
       "<?xml version=\"1.0\" encoding=\"utf-8\"?>\n",
       "<svg xmlns=\"http://www.w3.org/2000/svg\" xmlns:xlink=\"http://www.w3.org/1999/xlink\" width=\"600\" height=\"400\" viewBox=\"0 0 2400 1600\">\n",
       "<defs>\n",
       "  <clipPath id=\"clip540\">\n",
       "    <rect x=\"0\" y=\"0\" width=\"2400\" height=\"1600\"/>\n",
       "  </clipPath>\n",
       "</defs>\n",
       "<path clip-path=\"url(#clip540)\" d=\"M0 1600 L2400 1600 L2400 0 L0 0  Z\" fill=\"#ffffff\" fill-rule=\"evenodd\" fill-opacity=\"1\"/>\n",
       "<defs>\n",
       "  <clipPath id=\"clip541\">\n",
       "    <rect x=\"480\" y=\"0\" width=\"1681\" height=\"1600\"/>\n",
       "  </clipPath>\n",
       "</defs>\n",
       "<path clip-path=\"url(#clip540)\" d=\"M219.866 1423.18 L2352.76 1423.18 L2352.76 47.2441 L219.866 47.2441  Z\" fill=\"#ffffff\" fill-rule=\"evenodd\" fill-opacity=\"1\"/>\n",
       "<defs>\n",
       "  <clipPath id=\"clip542\">\n",
       "    <rect x=\"219\" y=\"47\" width=\"2134\" height=\"1377\"/>\n",
       "  </clipPath>\n",
       "</defs>\n",
       "<polyline clip-path=\"url(#clip542)\" style=\"stroke:#000000; stroke-linecap:round; stroke-linejoin:round; stroke-width:2; stroke-opacity:0.1; fill:none\" points=\"503.804,1423.18 503.804,47.2441 \"/>\n",
       "<polyline clip-path=\"url(#clip542)\" style=\"stroke:#000000; stroke-linecap:round; stroke-linejoin:round; stroke-width:2; stroke-opacity:0.1; fill:none\" points=\"950.951,1423.18 950.951,47.2441 \"/>\n",
       "<polyline clip-path=\"url(#clip542)\" style=\"stroke:#000000; stroke-linecap:round; stroke-linejoin:round; stroke-width:2; stroke-opacity:0.1; fill:none\" points=\"1398.1,1423.18 1398.1,47.2441 \"/>\n",
       "<polyline clip-path=\"url(#clip542)\" style=\"stroke:#000000; stroke-linecap:round; stroke-linejoin:round; stroke-width:2; stroke-opacity:0.1; fill:none\" points=\"1845.24,1423.18 1845.24,47.2441 \"/>\n",
       "<polyline clip-path=\"url(#clip542)\" style=\"stroke:#000000; stroke-linecap:round; stroke-linejoin:round; stroke-width:2; stroke-opacity:0.1; fill:none\" points=\"2292.39,1423.18 2292.39,47.2441 \"/>\n",
       "<polyline clip-path=\"url(#clip540)\" style=\"stroke:#000000; stroke-linecap:round; stroke-linejoin:round; stroke-width:4; stroke-opacity:1; fill:none\" points=\"219.866,1423.18 2352.76,1423.18 \"/>\n",
       "<polyline clip-path=\"url(#clip540)\" style=\"stroke:#000000; stroke-linecap:round; stroke-linejoin:round; stroke-width:2; stroke-opacity:0.5; fill:none\" points=\"219.866,47.2441 2352.76,47.2441 \"/>\n",
       "<polyline clip-path=\"url(#clip540)\" style=\"stroke:#000000; stroke-linecap:round; stroke-linejoin:round; stroke-width:4; stroke-opacity:1; fill:none\" points=\"503.804,1423.18 503.804,1404.28 \"/>\n",
       "<polyline clip-path=\"url(#clip540)\" style=\"stroke:#000000; stroke-linecap:round; stroke-linejoin:round; stroke-width:4; stroke-opacity:1; fill:none\" points=\"950.951,1423.18 950.951,1404.28 \"/>\n",
       "<polyline clip-path=\"url(#clip540)\" style=\"stroke:#000000; stroke-linecap:round; stroke-linejoin:round; stroke-width:4; stroke-opacity:1; fill:none\" points=\"1398.1,1423.18 1398.1,1404.28 \"/>\n",
       "<polyline clip-path=\"url(#clip540)\" style=\"stroke:#000000; stroke-linecap:round; stroke-linejoin:round; stroke-width:4; stroke-opacity:1; fill:none\" points=\"1845.24,1423.18 1845.24,1404.28 \"/>\n",
       "<polyline clip-path=\"url(#clip540)\" style=\"stroke:#000000; stroke-linecap:round; stroke-linejoin:round; stroke-width:4; stroke-opacity:1; fill:none\" points=\"2292.39,1423.18 2292.39,1404.28 \"/>\n",
       "<path clip-path=\"url(#clip540)\" d=\"M481.802 1454.1 Q478.191 1454.1 476.362 1457.66 Q474.557 1461.2 474.557 1468.33 Q474.557 1475.44 476.362 1479.01 Q478.191 1482.55 481.802 1482.55 Q485.436 1482.55 487.242 1479.01 Q489.071 1475.44 489.071 1468.33 Q489.071 1461.2 487.242 1457.66 Q485.436 1454.1 481.802 1454.1 M481.802 1450.39 Q487.612 1450.39 490.668 1455 Q493.747 1459.58 493.747 1468.33 Q493.747 1477.06 490.668 1481.67 Q487.612 1486.25 481.802 1486.25 Q475.992 1486.25 472.913 1481.67 Q469.858 1477.06 469.858 1468.33 Q469.858 1459.58 472.913 1455 Q475.992 1450.39 481.802 1450.39 Z\" fill=\"#000000\" fill-rule=\"nonzero\" fill-opacity=\"1\" /><path clip-path=\"url(#clip540)\" d=\"M501.964 1479.7 L506.848 1479.7 L506.848 1485.58 L501.964 1485.58 L501.964 1479.7 Z\" fill=\"#000000\" fill-rule=\"nonzero\" fill-opacity=\"1\" /><path clip-path=\"url(#clip540)\" d=\"M517.844 1481.64 L525.483 1481.64 L525.483 1455.28 L517.172 1456.95 L517.172 1452.69 L525.436 1451.02 L530.112 1451.02 L530.112 1481.64 L537.751 1481.64 L537.751 1485.58 L517.844 1485.58 L517.844 1481.64 Z\" fill=\"#000000\" fill-rule=\"nonzero\" fill-opacity=\"1\" /><path clip-path=\"url(#clip540)\" d=\"M929.134 1454.1 Q925.523 1454.1 923.694 1457.66 Q921.889 1461.2 921.889 1468.33 Q921.889 1475.44 923.694 1479.01 Q925.523 1482.55 929.134 1482.55 Q932.768 1482.55 934.574 1479.01 Q936.403 1475.44 936.403 1468.33 Q936.403 1461.2 934.574 1457.66 Q932.768 1454.1 929.134 1454.1 M929.134 1450.39 Q934.944 1450.39 938 1455 Q941.078 1459.58 941.078 1468.33 Q941.078 1477.06 938 1481.67 Q934.944 1486.25 929.134 1486.25 Q923.324 1486.25 920.245 1481.67 Q917.19 1477.06 917.19 1468.33 Q917.19 1459.58 920.245 1455 Q923.324 1450.39 929.134 1450.39 Z\" fill=\"#000000\" fill-rule=\"nonzero\" fill-opacity=\"1\" /><path clip-path=\"url(#clip540)\" d=\"M949.296 1479.7 L954.18 1479.7 L954.18 1485.58 L949.296 1485.58 L949.296 1479.7 Z\" fill=\"#000000\" fill-rule=\"nonzero\" fill-opacity=\"1\" /><path clip-path=\"url(#clip540)\" d=\"M968.393 1481.64 L984.712 1481.64 L984.712 1485.58 L962.768 1485.58 L962.768 1481.64 Q965.43 1478.89 970.013 1474.26 Q974.62 1469.61 975.8 1468.27 Q978.046 1465.74 978.925 1464.01 Q979.828 1462.25 979.828 1460.56 Q979.828 1457.8 977.884 1456.07 Q975.963 1454.33 972.861 1454.33 Q970.662 1454.33 968.208 1455.09 Q965.777 1455.86 963 1457.41 L963 1452.69 Q965.824 1451.55 968.277 1450.97 Q970.731 1450.39 972.768 1450.39 Q978.138 1450.39 981.333 1453.08 Q984.527 1455.77 984.527 1460.26 Q984.527 1462.39 983.717 1464.31 Q982.93 1466.2 980.824 1468.8 Q980.245 1469.47 977.143 1472.69 Q974.041 1475.88 968.393 1481.64 Z\" fill=\"#000000\" fill-rule=\"nonzero\" fill-opacity=\"1\" /><path clip-path=\"url(#clip540)\" d=\"M1375.81 1454.1 Q1372.2 1454.1 1370.37 1457.66 Q1368.56 1461.2 1368.56 1468.33 Q1368.56 1475.44 1370.37 1479.01 Q1372.2 1482.55 1375.81 1482.55 Q1379.44 1482.55 1381.25 1479.01 Q1383.07 1475.44 1383.07 1468.33 Q1383.07 1461.2 1381.25 1457.66 Q1379.44 1454.1 1375.81 1454.1 M1375.81 1450.39 Q1381.62 1450.39 1384.67 1455 Q1387.75 1459.58 1387.75 1468.33 Q1387.75 1477.06 1384.67 1481.67 Q1381.62 1486.25 1375.81 1486.25 Q1370 1486.25 1366.92 1481.67 Q1363.86 1477.06 1363.86 1468.33 Q1363.86 1459.58 1366.92 1455 Q1370 1450.39 1375.81 1450.39 Z\" fill=\"#000000\" fill-rule=\"nonzero\" fill-opacity=\"1\" /><path clip-path=\"url(#clip540)\" d=\"M1395.97 1479.7 L1400.85 1479.7 L1400.85 1485.58 L1395.97 1485.58 L1395.97 1479.7 Z\" fill=\"#000000\" fill-rule=\"nonzero\" fill-opacity=\"1\" /><path clip-path=\"url(#clip540)\" d=\"M1425.2 1466.95 Q1428.56 1467.66 1430.44 1469.93 Q1432.33 1472.2 1432.33 1475.53 Q1432.33 1480.65 1428.82 1483.45 Q1425.3 1486.25 1418.82 1486.25 Q1416.64 1486.25 1414.32 1485.81 Q1412.03 1485.39 1409.58 1484.54 L1409.58 1480.02 Q1411.52 1481.16 1413.84 1481.74 Q1416.15 1482.32 1418.68 1482.32 Q1423.07 1482.32 1425.37 1480.58 Q1427.68 1478.84 1427.68 1475.53 Q1427.68 1472.48 1425.53 1470.77 Q1423.4 1469.03 1419.58 1469.03 L1415.55 1469.03 L1415.55 1465.19 L1419.76 1465.19 Q1423.21 1465.19 1425.04 1463.82 Q1426.87 1462.43 1426.87 1459.84 Q1426.87 1457.18 1424.97 1455.77 Q1423.1 1454.33 1419.58 1454.33 Q1417.66 1454.33 1415.46 1454.75 Q1413.26 1455.16 1410.62 1456.04 L1410.62 1451.88 Q1413.28 1451.14 1415.6 1450.77 Q1417.94 1450.39 1420 1450.39 Q1425.32 1450.39 1428.42 1452.83 Q1431.52 1455.23 1431.52 1459.35 Q1431.52 1462.22 1429.88 1464.21 Q1428.24 1466.18 1425.2 1466.95 Z\" fill=\"#000000\" fill-rule=\"nonzero\" fill-opacity=\"1\" /><path clip-path=\"url(#clip540)\" d=\"M1822.39 1454.1 Q1818.77 1454.1 1816.95 1457.66 Q1815.14 1461.2 1815.14 1468.33 Q1815.14 1475.44 1816.95 1479.01 Q1818.77 1482.55 1822.39 1482.55 Q1826.02 1482.55 1827.83 1479.01 Q1829.65 1475.44 1829.65 1468.33 Q1829.65 1461.2 1827.83 1457.66 Q1826.02 1454.1 1822.39 1454.1 M1822.39 1450.39 Q1828.2 1450.39 1831.25 1455 Q1834.33 1459.58 1834.33 1468.33 Q1834.33 1477.06 1831.25 1481.67 Q1828.2 1486.25 1822.39 1486.25 Q1816.58 1486.25 1813.5 1481.67 Q1810.44 1477.06 1810.44 1468.33 Q1810.44 1459.58 1813.5 1455 Q1816.58 1450.39 1822.39 1450.39 Z\" fill=\"#000000\" fill-rule=\"nonzero\" fill-opacity=\"1\" /><path clip-path=\"url(#clip540)\" d=\"M1842.55 1479.7 L1847.43 1479.7 L1847.43 1485.58 L1842.55 1485.58 L1842.55 1479.7 Z\" fill=\"#000000\" fill-rule=\"nonzero\" fill-opacity=\"1\" /><path clip-path=\"url(#clip540)\" d=\"M1870.46 1455.09 L1858.66 1473.54 L1870.46 1473.54 L1870.46 1455.09 M1869.24 1451.02 L1875.12 1451.02 L1875.12 1473.54 L1880.05 1473.54 L1880.05 1477.43 L1875.12 1477.43 L1875.12 1485.58 L1870.46 1485.58 L1870.46 1477.43 L1854.86 1477.43 L1854.86 1472.92 L1869.24 1451.02 Z\" fill=\"#000000\" fill-rule=\"nonzero\" fill-opacity=\"1\" /><path clip-path=\"url(#clip540)\" d=\"M2270.27 1454.1 Q2266.66 1454.1 2264.83 1457.66 Q2263.03 1461.2 2263.03 1468.33 Q2263.03 1475.44 2264.83 1479.01 Q2266.66 1482.55 2270.27 1482.55 Q2273.91 1482.55 2275.71 1479.01 Q2277.54 1475.44 2277.54 1468.33 Q2277.54 1461.2 2275.71 1457.66 Q2273.91 1454.1 2270.27 1454.1 M2270.27 1450.39 Q2276.08 1450.39 2279.14 1455 Q2282.22 1459.58 2282.22 1468.33 Q2282.22 1477.06 2279.14 1481.67 Q2276.08 1486.25 2270.27 1486.25 Q2264.46 1486.25 2261.38 1481.67 Q2258.33 1477.06 2258.33 1468.33 Q2258.33 1459.58 2261.38 1455 Q2264.46 1450.39 2270.27 1450.39 Z\" fill=\"#000000\" fill-rule=\"nonzero\" fill-opacity=\"1\" /><path clip-path=\"url(#clip540)\" d=\"M2290.44 1479.7 L2295.32 1479.7 L2295.32 1485.58 L2290.44 1485.58 L2290.44 1479.7 Z\" fill=\"#000000\" fill-rule=\"nonzero\" fill-opacity=\"1\" /><path clip-path=\"url(#clip540)\" d=\"M2305.55 1451.02 L2323.91 1451.02 L2323.91 1454.96 L2309.83 1454.96 L2309.83 1463.43 Q2310.85 1463.08 2311.87 1462.92 Q2312.89 1462.73 2313.91 1462.73 Q2319.69 1462.73 2323.07 1465.9 Q2326.45 1469.08 2326.45 1474.49 Q2326.45 1480.07 2322.98 1483.17 Q2319.51 1486.25 2313.19 1486.25 Q2311.01 1486.25 2308.75 1485.88 Q2306.5 1485.51 2304.09 1484.77 L2304.09 1480.07 Q2306.18 1481.2 2308.4 1481.76 Q2310.62 1482.32 2313.1 1482.32 Q2317.1 1482.32 2319.44 1480.21 Q2321.78 1478.1 2321.78 1474.49 Q2321.78 1470.88 2319.44 1468.77 Q2317.1 1466.67 2313.1 1466.67 Q2311.22 1466.67 2309.35 1467.08 Q2307.5 1467.5 2305.55 1468.38 L2305.55 1451.02 Z\" fill=\"#000000\" fill-rule=\"nonzero\" fill-opacity=\"1\" /><path clip-path=\"url(#clip540)\" d=\"M1044.13 1524.18 L1044.13 1530.96 Q1040.88 1527.94 1037.19 1526.44 Q1033.53 1524.95 1029.39 1524.95 Q1021.24 1524.95 1016.91 1529.95 Q1012.59 1534.91 1012.59 1544.33 Q1012.59 1553.72 1016.91 1558.72 Q1021.24 1563.68 1029.39 1563.68 Q1033.53 1563.68 1037.19 1562.19 Q1040.88 1560.69 1044.13 1557.67 L1044.13 1564.38 Q1040.75 1566.68 1036.97 1567.82 Q1033.21 1568.97 1029.01 1568.97 Q1018.22 1568.97 1012.01 1562.38 Q1005.81 1555.76 1005.81 1544.33 Q1005.81 1532.87 1012.01 1526.28 Q1018.22 1519.66 1029.01 1519.66 Q1033.27 1519.66 1037.03 1520.81 Q1040.82 1521.92 1044.13 1524.18 Z\" fill=\"#000000\" fill-rule=\"nonzero\" fill-opacity=\"1\" /><path clip-path=\"url(#clip540)\" d=\"M1053.2 1553.98 L1053.2 1532.4 L1059.06 1532.4 L1059.06 1553.75 Q1059.06 1558.81 1061.03 1561.36 Q1063 1563.87 1066.95 1563.87 Q1071.69 1563.87 1074.43 1560.85 Q1077.2 1557.83 1077.2 1552.61 L1077.2 1532.4 L1083.05 1532.4 L1083.05 1568.04 L1077.2 1568.04 L1077.2 1562.57 Q1075.07 1565.82 1072.23 1567.41 Q1069.43 1568.97 1065.71 1568.97 Q1059.56 1568.97 1056.38 1565.15 Q1053.2 1561.33 1053.2 1553.98 M1067.94 1531.54 L1067.94 1531.54 Z\" fill=\"#000000\" fill-rule=\"nonzero\" fill-opacity=\"1\" /><path clip-path=\"url(#clip540)\" d=\"M1115.77 1537.87 Q1114.79 1537.3 1113.61 1537.04 Q1112.46 1536.76 1111.06 1536.76 Q1106.1 1536.76 1103.42 1540 Q1100.78 1543.22 1100.78 1549.27 L1100.78 1568.04 L1094.89 1568.04 L1094.89 1532.4 L1100.78 1532.4 L1100.78 1537.93 Q1102.63 1534.69 1105.59 1533.13 Q1108.55 1531.54 1112.78 1531.54 Q1113.39 1531.54 1114.12 1531.63 Q1114.85 1531.7 1115.74 1531.85 L1115.77 1537.87 Z\" fill=\"#000000\" fill-rule=\"nonzero\" fill-opacity=\"1\" /><path clip-path=\"url(#clip540)\" d=\"M1141.43 1537.87 Q1140.44 1537.3 1139.26 1537.04 Q1138.12 1536.76 1136.72 1536.76 Q1131.75 1536.76 1129.08 1540 Q1126.44 1543.22 1126.44 1549.27 L1126.44 1568.04 L1120.55 1568.04 L1120.55 1532.4 L1126.44 1532.4 L1126.44 1537.93 Q1128.28 1534.69 1131.24 1533.13 Q1134.2 1531.54 1138.44 1531.54 Q1139.04 1531.54 1139.77 1531.63 Q1140.5 1531.7 1141.4 1531.85 L1141.43 1537.87 Z\" fill=\"#000000\" fill-rule=\"nonzero\" fill-opacity=\"1\" /><path clip-path=\"url(#clip540)\" d=\"M1176.63 1548.76 L1176.63 1551.62 L1149.7 1551.62 Q1150.08 1557.67 1153.33 1560.85 Q1156.61 1564 1162.43 1564 Q1165.81 1564 1168.96 1563.17 Q1172.14 1562.35 1175.26 1560.69 L1175.26 1566.23 Q1172.11 1567.57 1168.8 1568.27 Q1165.49 1568.97 1162.08 1568.97 Q1153.55 1568.97 1148.56 1564 Q1143.59 1559.04 1143.59 1550.57 Q1143.59 1541.82 1148.3 1536.69 Q1153.05 1531.54 1161.07 1531.54 Q1168.26 1531.54 1172.43 1536.18 Q1176.63 1540.8 1176.63 1548.76 M1170.77 1547.04 Q1170.71 1542.23 1168.07 1539.37 Q1165.46 1536.5 1161.13 1536.5 Q1156.23 1536.5 1153.27 1539.27 Q1150.34 1542.04 1149.89 1547.07 L1170.77 1547.04 Z\" fill=\"#000000\" fill-rule=\"nonzero\" fill-opacity=\"1\" /><path clip-path=\"url(#clip540)\" d=\"M1215.87 1546.53 L1215.87 1568.04 L1210.02 1568.04 L1210.02 1546.72 Q1210.02 1541.66 1208.04 1539.14 Q1206.07 1536.63 1202.12 1536.63 Q1197.38 1536.63 1194.64 1539.65 Q1191.91 1542.68 1191.91 1547.9 L1191.91 1568.04 L1186.02 1568.04 L1186.02 1532.4 L1191.91 1532.4 L1191.91 1537.93 Q1194.01 1534.72 1196.84 1533.13 Q1199.71 1531.54 1203.43 1531.54 Q1209.57 1531.54 1212.72 1535.36 Q1215.87 1539.14 1215.87 1546.53 Z\" fill=\"#000000\" fill-rule=\"nonzero\" fill-opacity=\"1\" /><path clip-path=\"url(#clip540)\" d=\"M1233.35 1522.27 L1233.35 1532.4 L1245.41 1532.4 L1245.41 1536.95 L1233.35 1536.95 L1233.35 1556.3 Q1233.35 1560.66 1234.53 1561.9 Q1235.74 1563.14 1239.4 1563.14 L1245.41 1563.14 L1245.41 1568.04 L1239.4 1568.04 Q1232.62 1568.04 1230.04 1565.53 Q1227.46 1562.98 1227.46 1556.3 L1227.46 1536.95 L1223.16 1536.95 L1223.16 1532.4 L1227.46 1532.4 L1227.46 1522.27 L1233.35 1522.27 Z\" fill=\"#000000\" fill-rule=\"nonzero\" fill-opacity=\"1\" /><path clip-path=\"url(#clip540)\" d=\"M1299.49 1533.76 L1299.49 1539.24 Q1297.01 1537.87 1294.49 1537.2 Q1292.01 1536.5 1289.46 1536.5 Q1283.76 1536.5 1280.61 1540.13 Q1277.46 1543.73 1277.46 1550.25 Q1277.46 1556.78 1280.61 1560.4 Q1283.76 1564 1289.46 1564 Q1292.01 1564 1294.49 1563.33 Q1297.01 1562.63 1299.49 1561.26 L1299.49 1566.68 Q1297.04 1567.82 1294.4 1568.39 Q1291.79 1568.97 1288.83 1568.97 Q1280.77 1568.97 1276.03 1563.91 Q1271.29 1558.85 1271.29 1550.25 Q1271.29 1541.53 1276.06 1536.53 Q1280.87 1531.54 1289.21 1531.54 Q1291.91 1531.54 1294.49 1532.11 Q1297.07 1532.65 1299.49 1533.76 Z\" fill=\"#000000\" fill-rule=\"nonzero\" fill-opacity=\"1\" /><path clip-path=\"url(#clip540)\" d=\"M1325.87 1550.12 Q1318.78 1550.12 1316.04 1551.75 Q1313.3 1553.37 1313.3 1557.29 Q1313.3 1560.4 1315.34 1562.25 Q1317.41 1564.07 1320.94 1564.07 Q1325.81 1564.07 1328.74 1560.63 Q1331.7 1557.16 1331.7 1551.43 L1331.7 1550.12 L1325.87 1550.12 M1337.56 1547.71 L1337.56 1568.04 L1331.7 1568.04 L1331.7 1562.63 Q1329.69 1565.88 1326.7 1567.44 Q1323.71 1568.97 1319.38 1568.97 Q1313.91 1568.97 1310.66 1565.91 Q1307.45 1562.82 1307.45 1557.67 Q1307.45 1551.65 1311.46 1548.6 Q1315.5 1545.54 1323.49 1545.54 L1331.7 1545.54 L1331.7 1544.97 Q1331.7 1540.93 1329.02 1538.73 Q1326.38 1536.5 1321.58 1536.5 Q1318.52 1536.5 1315.63 1537.23 Q1312.73 1537.97 1310.06 1539.43 L1310.06 1534.02 Q1313.27 1532.78 1316.29 1532.17 Q1319.32 1531.54 1322.18 1531.54 Q1329.92 1531.54 1333.74 1535.55 Q1337.56 1539.56 1337.56 1547.71 Z\" fill=\"#000000\" fill-rule=\"nonzero\" fill-opacity=\"1\" /><path clip-path=\"url(#clip540)\" d=\"M1355.28 1562.7 L1355.28 1581.6 L1349.4 1581.6 L1349.4 1532.4 L1355.28 1532.4 L1355.28 1537.81 Q1357.13 1534.62 1359.93 1533.1 Q1362.76 1531.54 1366.68 1531.54 Q1373.17 1531.54 1377.21 1536.69 Q1381.29 1541.85 1381.29 1550.25 Q1381.29 1558.65 1377.21 1563.81 Q1373.17 1568.97 1366.68 1568.97 Q1362.76 1568.97 1359.93 1567.44 Q1357.13 1565.88 1355.28 1562.7 M1375.21 1550.25 Q1375.21 1543.79 1372.53 1540.13 Q1369.89 1536.44 1365.25 1536.44 Q1360.6 1536.44 1357.93 1540.13 Q1355.28 1543.79 1355.28 1550.25 Q1355.28 1556.71 1357.93 1560.4 Q1360.6 1564.07 1365.25 1564.07 Q1369.89 1564.07 1372.53 1560.4 Q1375.21 1556.71 1375.21 1550.25 Z\" fill=\"#000000\" fill-rule=\"nonzero\" fill-opacity=\"1\" /><path clip-path=\"url(#clip540)\" d=\"M1391 1532.4 L1396.85 1532.4 L1396.85 1568.04 L1391 1568.04 L1391 1532.4 M1391 1518.52 L1396.85 1518.52 L1396.85 1525.93 L1391 1525.93 L1391 1518.52 Z\" fill=\"#000000\" fill-rule=\"nonzero\" fill-opacity=\"1\" /><path clip-path=\"url(#clip540)\" d=\"M1414.9 1522.27 L1414.9 1532.4 L1426.96 1532.4 L1426.96 1536.95 L1414.9 1536.95 L1414.9 1556.3 Q1414.9 1560.66 1416.08 1561.9 Q1417.29 1563.14 1420.95 1563.14 L1426.96 1563.14 L1426.96 1568.04 L1420.95 1568.04 Q1414.17 1568.04 1411.59 1565.53 Q1409.01 1562.98 1409.01 1556.3 L1409.01 1536.95 L1404.71 1536.95 L1404.71 1532.4 L1409.01 1532.4 L1409.01 1522.27 L1414.9 1522.27 Z\" fill=\"#000000\" fill-rule=\"nonzero\" fill-opacity=\"1\" /><path clip-path=\"url(#clip540)\" d=\"M1450.86 1550.12 Q1443.77 1550.12 1441.03 1551.75 Q1438.29 1553.37 1438.29 1557.29 Q1438.29 1560.4 1440.33 1562.25 Q1442.4 1564.07 1445.93 1564.07 Q1450.8 1564.07 1453.73 1560.63 Q1456.69 1557.16 1456.69 1551.43 L1456.69 1550.12 L1450.86 1550.12 M1462.55 1547.71 L1462.55 1568.04 L1456.69 1568.04 L1456.69 1562.63 Q1454.68 1565.88 1451.69 1567.44 Q1448.7 1568.97 1444.37 1568.97 Q1438.9 1568.97 1435.65 1565.91 Q1432.44 1562.82 1432.44 1557.67 Q1432.44 1551.65 1436.45 1548.6 Q1440.49 1545.54 1448.48 1545.54 L1456.69 1545.54 L1456.69 1544.97 Q1456.69 1540.93 1454.02 1538.73 Q1451.37 1536.5 1446.57 1536.5 Q1443.51 1536.5 1440.62 1537.23 Q1437.72 1537.97 1435.05 1539.43 L1435.05 1534.02 Q1438.26 1532.78 1441.28 1532.17 Q1444.31 1531.54 1447.17 1531.54 Q1454.91 1531.54 1458.73 1535.55 Q1462.55 1539.56 1462.55 1547.71 Z\" fill=\"#000000\" fill-rule=\"nonzero\" fill-opacity=\"1\" /><path clip-path=\"url(#clip540)\" d=\"M1474.61 1518.52 L1480.47 1518.52 L1480.47 1568.04 L1474.61 1568.04 L1474.61 1518.52 Z\" fill=\"#000000\" fill-rule=\"nonzero\" fill-opacity=\"1\" /><path clip-path=\"url(#clip540)\" d=\"M1494.22 1559.96 L1500.93 1559.96 L1500.93 1568.04 L1494.22 1568.04 L1494.22 1559.96 M1494.22 1534.34 L1500.93 1534.34 L1500.93 1542.42 L1494.22 1542.42 L1494.22 1534.34 Z\" fill=\"#000000\" fill-rule=\"nonzero\" fill-opacity=\"1\" /><path clip-path=\"url(#clip540)\" d=\"M1535.18 1518.52 L1541.07 1518.52 L1541.07 1547.77 L1558.54 1532.4 L1566.02 1532.4 L1547.11 1549.07 L1566.82 1568.04 L1559.18 1568.04 L1541.07 1550.63 L1541.07 1568.04 L1535.18 1568.04 L1535.18 1518.52 Z\" fill=\"#000000\" fill-rule=\"nonzero\" fill-opacity=\"1\" /><polyline clip-path=\"url(#clip542)\" style=\"stroke:#000000; stroke-linecap:round; stroke-linejoin:round; stroke-width:2; stroke-opacity:0.1; fill:none\" points=\"219.866,1240.01 2352.76,1240.01 \"/>\n",
       "<polyline clip-path=\"url(#clip542)\" style=\"stroke:#000000; stroke-linecap:round; stroke-linejoin:round; stroke-width:2; stroke-opacity:0.1; fill:none\" points=\"219.866,951.554 2352.76,951.554 \"/>\n",
       "<polyline clip-path=\"url(#clip542)\" style=\"stroke:#000000; stroke-linecap:round; stroke-linejoin:round; stroke-width:2; stroke-opacity:0.1; fill:none\" points=\"219.866,663.098 2352.76,663.098 \"/>\n",
       "<polyline clip-path=\"url(#clip542)\" style=\"stroke:#000000; stroke-linecap:round; stroke-linejoin:round; stroke-width:2; stroke-opacity:0.1; fill:none\" points=\"219.866,374.642 2352.76,374.642 \"/>\n",
       "<polyline clip-path=\"url(#clip542)\" style=\"stroke:#000000; stroke-linecap:round; stroke-linejoin:round; stroke-width:2; stroke-opacity:0.1; fill:none\" points=\"219.866,86.1857 2352.76,86.1857 \"/>\n",
       "<polyline clip-path=\"url(#clip540)\" style=\"stroke:#000000; stroke-linecap:round; stroke-linejoin:round; stroke-width:4; stroke-opacity:1; fill:none\" points=\"219.866,1423.18 219.866,47.2441 \"/>\n",
       "<polyline clip-path=\"url(#clip540)\" style=\"stroke:#000000; stroke-linecap:round; stroke-linejoin:round; stroke-width:2; stroke-opacity:0.5; fill:none\" points=\"2352.76,1423.18 2352.76,47.2441 \"/>\n",
       "<polyline clip-path=\"url(#clip540)\" style=\"stroke:#000000; stroke-linecap:round; stroke-linejoin:round; stroke-width:4; stroke-opacity:1; fill:none\" points=\"219.866,1240.01 238.764,1240.01 \"/>\n",
       "<polyline clip-path=\"url(#clip540)\" style=\"stroke:#000000; stroke-linecap:round; stroke-linejoin:round; stroke-width:4; stroke-opacity:1; fill:none\" points=\"219.866,951.554 238.764,951.554 \"/>\n",
       "<polyline clip-path=\"url(#clip540)\" style=\"stroke:#000000; stroke-linecap:round; stroke-linejoin:round; stroke-width:4; stroke-opacity:1; fill:none\" points=\"219.866,663.098 238.764,663.098 \"/>\n",
       "<polyline clip-path=\"url(#clip540)\" style=\"stroke:#000000; stroke-linecap:round; stroke-linejoin:round; stroke-width:4; stroke-opacity:1; fill:none\" points=\"219.866,374.642 238.764,374.642 \"/>\n",
       "<polyline clip-path=\"url(#clip540)\" style=\"stroke:#000000; stroke-linecap:round; stroke-linejoin:round; stroke-width:4; stroke-opacity:1; fill:none\" points=\"219.866,86.1857 238.764,86.1857 \"/>\n",
       "<path clip-path=\"url(#clip540)\" d=\"M127.917 1225.81 Q124.306 1225.81 122.478 1229.37 Q120.672 1232.92 120.672 1240.04 Q120.672 1247.15 122.478 1250.72 Q124.306 1254.26 127.917 1254.26 Q131.552 1254.26 133.357 1250.72 Q135.186 1247.15 135.186 1240.04 Q135.186 1232.92 133.357 1229.37 Q131.552 1225.81 127.917 1225.81 M127.917 1222.11 Q133.728 1222.11 136.783 1226.71 Q139.862 1231.29 139.862 1240.04 Q139.862 1248.77 136.783 1253.38 Q133.728 1257.96 127.917 1257.96 Q122.107 1257.96 119.029 1253.38 Q115.973 1248.77 115.973 1240.04 Q115.973 1231.29 119.029 1226.71 Q122.107 1222.11 127.917 1222.11 Z\" fill=\"#000000\" fill-rule=\"nonzero\" fill-opacity=\"1\" /><path clip-path=\"url(#clip540)\" d=\"M148.079 1251.41 L152.964 1251.41 L152.964 1257.29 L148.079 1257.29 L148.079 1251.41 Z\" fill=\"#000000\" fill-rule=\"nonzero\" fill-opacity=\"1\" /><path clip-path=\"url(#clip540)\" d=\"M163.959 1253.36 L171.598 1253.36 L171.598 1226.99 L163.288 1228.66 L163.288 1224.4 L171.552 1222.73 L176.227 1222.73 L176.227 1253.36 L183.866 1253.36 L183.866 1257.29 L163.959 1257.29 L163.959 1253.36 Z\" fill=\"#000000\" fill-rule=\"nonzero\" fill-opacity=\"1\" /><path clip-path=\"url(#clip540)\" d=\"M128.288 937.353 Q124.677 937.353 122.848 940.918 Q121.043 944.459 121.043 951.589 Q121.043 958.695 122.848 962.26 Q124.677 965.802 128.288 965.802 Q131.922 965.802 133.728 962.26 Q135.556 958.695 135.556 951.589 Q135.556 944.459 133.728 940.918 Q131.922 937.353 128.288 937.353 M128.288 933.649 Q134.098 933.649 137.154 938.256 Q140.232 942.839 140.232 951.589 Q140.232 960.316 137.154 964.922 Q134.098 969.505 128.288 969.505 Q122.478 969.505 119.399 964.922 Q116.343 960.316 116.343 951.589 Q116.343 942.839 119.399 938.256 Q122.478 933.649 128.288 933.649 Z\" fill=\"#000000\" fill-rule=\"nonzero\" fill-opacity=\"1\" /><path clip-path=\"url(#clip540)\" d=\"M148.45 962.954 L153.334 962.954 L153.334 968.834 L148.45 968.834 L148.45 962.954 Z\" fill=\"#000000\" fill-rule=\"nonzero\" fill-opacity=\"1\" /><path clip-path=\"url(#clip540)\" d=\"M167.547 964.899 L183.866 964.899 L183.866 968.834 L161.922 968.834 L161.922 964.899 Q164.584 962.144 169.167 957.515 Q173.774 952.862 174.954 951.519 Q177.2 948.996 178.079 947.26 Q178.982 945.501 178.982 943.811 Q178.982 941.056 177.038 939.32 Q175.116 937.584 172.014 937.584 Q169.815 937.584 167.362 938.348 Q164.931 939.112 162.153 940.663 L162.153 935.941 Q164.977 934.806 167.431 934.228 Q169.885 933.649 171.922 933.649 Q177.292 933.649 180.487 936.334 Q183.681 939.019 183.681 943.51 Q183.681 945.64 182.871 947.561 Q182.084 949.459 179.977 952.052 Q179.399 952.723 176.297 955.941 Q173.195 959.135 167.547 964.899 Z\" fill=\"#000000\" fill-rule=\"nonzero\" fill-opacity=\"1\" /><path clip-path=\"url(#clip540)\" d=\"M127.339 648.897 Q123.728 648.897 121.899 652.461 Q120.093 656.003 120.093 663.133 Q120.093 670.239 121.899 673.804 Q123.728 677.346 127.339 677.346 Q130.973 677.346 132.779 673.804 Q134.607 670.239 134.607 663.133 Q134.607 656.003 132.779 652.461 Q130.973 648.897 127.339 648.897 M127.339 645.193 Q133.149 645.193 136.204 649.799 Q139.283 654.383 139.283 663.133 Q139.283 671.859 136.204 676.466 Q133.149 681.049 127.339 681.049 Q121.529 681.049 118.45 676.466 Q115.394 671.859 115.394 663.133 Q115.394 654.383 118.45 649.799 Q121.529 645.193 127.339 645.193 Z\" fill=\"#000000\" fill-rule=\"nonzero\" fill-opacity=\"1\" /><path clip-path=\"url(#clip540)\" d=\"M147.501 674.498 L152.385 674.498 L152.385 680.378 L147.501 680.378 L147.501 674.498 Z\" fill=\"#000000\" fill-rule=\"nonzero\" fill-opacity=\"1\" /><path clip-path=\"url(#clip540)\" d=\"M176.737 661.744 Q180.093 662.461 181.968 664.73 Q183.866 666.998 183.866 670.332 Q183.866 675.447 180.348 678.248 Q176.829 681.049 170.348 681.049 Q168.172 681.049 165.857 680.609 Q163.565 680.193 161.112 679.336 L161.112 674.822 Q163.056 675.957 165.371 676.535 Q167.686 677.114 170.209 677.114 Q174.607 677.114 176.899 675.378 Q179.214 673.642 179.214 670.332 Q179.214 667.276 177.061 665.563 Q174.931 663.827 171.112 663.827 L167.084 663.827 L167.084 659.985 L171.297 659.985 Q174.746 659.985 176.575 658.619 Q178.403 657.23 178.403 654.637 Q178.403 651.975 176.505 650.563 Q174.63 649.128 171.112 649.128 Q169.19 649.128 166.991 649.545 Q164.792 649.961 162.153 650.841 L162.153 646.674 Q164.815 645.934 167.13 645.563 Q169.468 645.193 171.528 645.193 Q176.852 645.193 179.954 647.623 Q183.056 650.031 183.056 654.151 Q183.056 657.022 181.413 659.012 Q179.769 660.98 176.737 661.744 Z\" fill=\"#000000\" fill-rule=\"nonzero\" fill-opacity=\"1\" /><path clip-path=\"url(#clip540)\" d=\"M126.205 360.44 Q122.593 360.44 120.765 364.005 Q118.959 367.547 118.959 374.677 Q118.959 381.783 120.765 385.348 Q122.593 388.889 126.205 388.889 Q129.839 388.889 131.644 385.348 Q133.473 381.783 133.473 374.677 Q133.473 367.547 131.644 364.005 Q129.839 360.44 126.205 360.44 M126.205 356.737 Q132.015 356.737 135.07 361.343 Q138.149 365.927 138.149 374.677 Q138.149 383.403 135.07 388.01 Q132.015 392.593 126.205 392.593 Q120.394 392.593 117.316 388.01 Q114.26 383.403 114.26 374.677 Q114.26 365.927 117.316 361.343 Q120.394 356.737 126.205 356.737 Z\" fill=\"#000000\" fill-rule=\"nonzero\" fill-opacity=\"1\" /><path clip-path=\"url(#clip540)\" d=\"M146.366 386.042 L151.251 386.042 L151.251 391.922 L146.366 391.922 L146.366 386.042 Z\" fill=\"#000000\" fill-rule=\"nonzero\" fill-opacity=\"1\" /><path clip-path=\"url(#clip540)\" d=\"M174.283 361.436 L162.477 379.885 L174.283 379.885 L174.283 361.436 M173.056 357.362 L178.936 357.362 L178.936 379.885 L183.866 379.885 L183.866 383.774 L178.936 383.774 L178.936 391.922 L174.283 391.922 L174.283 383.774 L158.681 383.774 L158.681 379.26 L173.056 357.362 Z\" fill=\"#000000\" fill-rule=\"nonzero\" fill-opacity=\"1\" /><path clip-path=\"url(#clip540)\" d=\"M127.686 71.9844 Q124.075 71.9844 122.246 75.5492 Q120.441 79.0908 120.441 86.2204 Q120.441 93.3268 122.246 96.8916 Q124.075 100.433 127.686 100.433 Q131.32 100.433 133.126 96.8916 Q134.954 93.3268 134.954 86.2204 Q134.954 79.0908 133.126 75.5492 Q131.32 71.9844 127.686 71.9844 M127.686 68.2807 Q133.496 68.2807 136.552 72.8871 Q139.63 77.4704 139.63 86.2204 Q139.63 94.9472 136.552 99.5537 Q133.496 104.137 127.686 104.137 Q121.876 104.137 118.797 99.5537 Q115.742 94.9472 115.742 86.2204 Q115.742 77.4704 118.797 72.8871 Q121.876 68.2807 127.686 68.2807 Z\" fill=\"#000000\" fill-rule=\"nonzero\" fill-opacity=\"1\" /><path clip-path=\"url(#clip540)\" d=\"M147.848 97.5861 L152.732 97.5861 L152.732 103.466 L147.848 103.466 L147.848 97.5861 Z\" fill=\"#000000\" fill-rule=\"nonzero\" fill-opacity=\"1\" /><path clip-path=\"url(#clip540)\" d=\"M162.964 68.9057 L181.32 68.9057 L181.32 72.8408 L167.246 72.8408 L167.246 81.313 Q168.264 80.9658 169.283 80.8038 Q170.302 80.6186 171.32 80.6186 Q177.107 80.6186 180.487 83.7899 Q183.866 86.9611 183.866 92.3778 Q183.866 97.9564 180.394 101.058 Q176.922 104.137 170.602 104.137 Q168.427 104.137 166.158 103.767 Q163.913 103.396 161.505 102.655 L161.505 97.9564 Q163.589 99.0907 165.811 99.6462 Q168.033 100.202 170.51 100.202 Q174.514 100.202 176.852 98.0953 Q179.19 95.9889 179.19 92.3778 Q179.19 88.7667 176.852 86.6602 Q174.514 84.5537 170.51 84.5537 Q168.635 84.5537 166.76 84.9704 Q164.908 85.3871 162.964 86.2667 L162.964 68.9057 Z\" fill=\"#000000\" fill-rule=\"nonzero\" fill-opacity=\"1\" /><path clip-path=\"url(#clip540)\" d=\"M16.4842 1066.42 L16.4842 1057.76 L56.238 1036.69 L16.4842 1036.69 L16.4842 1030.45 L64.0042 1030.45 L64.0042 1039.11 L24.2503 1060.18 L64.0042 1060.18 L64.0042 1066.42 L16.4842 1066.42 Z\" fill=\"#000000\" fill-rule=\"nonzero\" fill-opacity=\"1\" /><path clip-path=\"url(#clip540)\" d=\"M44.7161 987.421 L47.5806 987.421 L47.5806 1014.35 Q53.6281 1013.97 56.8109 1010.72 Q59.9619 1007.44 59.9619 1001.62 Q59.9619 998.243 59.1344 995.092 Q58.3069 991.909 56.6518 988.79 L62.1899 988.79 Q63.5267 991.941 64.227 995.251 Q64.9272 998.561 64.9272 1001.97 Q64.9272 1010.5 59.9619 1015.49 Q54.9967 1020.46 46.5303 1020.46 Q37.7774 1020.46 32.6531 1015.75 Q27.4968 1011.01 27.4968 1002.99 Q27.4968 995.792 32.1438 991.623 Q36.7589 987.421 44.7161 987.421 M42.9973 993.278 Q38.1912 993.341 35.3266 995.983 Q32.4621 998.593 32.4621 1002.92 Q32.4621 1007.82 35.2312 1010.78 Q38.0002 1013.71 43.0292 1014.16 L42.9973 993.278 Z\" fill=\"#000000\" fill-rule=\"nonzero\" fill-opacity=\"1\" /><path clip-path=\"url(#clip540)\" d=\"M28.3562 949.323 L45.7028 962.213 L64.0042 948.654 L64.0042 955.561 L49.9996 965.937 L64.0042 976.313 L64.0042 983.22 L45.3526 969.374 L28.3562 982.042 L28.3562 975.135 L41.0558 965.682 L28.3562 956.229 L28.3562 949.323 Z\" fill=\"#000000\" fill-rule=\"nonzero\" fill-opacity=\"1\" /><path clip-path=\"url(#clip540)\" d=\"M18.2347 934.586 L28.3562 934.586 L28.3562 922.523 L32.9077 922.523 L32.9077 934.586 L52.2594 934.586 Q56.6199 934.586 57.8613 933.408 Q59.1026 932.199 59.1026 928.538 L59.1026 922.523 L64.0042 922.523 L64.0042 928.538 Q64.0042 935.318 61.4897 937.896 Q58.9434 940.474 52.2594 940.474 L32.9077 940.474 L32.9077 944.771 L28.3562 944.771 L28.3562 940.474 L18.2347 940.474 L18.2347 934.586 Z\" fill=\"#000000\" fill-rule=\"nonzero\" fill-opacity=\"1\" /><path clip-path=\"url(#clip540)\" d=\"M29.7248 868.446 L35.1993 868.446 Q33.8307 870.929 33.1623 873.443 Q32.4621 875.926 32.4621 878.472 Q32.4621 884.17 36.0905 887.321 Q39.6872 890.472 46.212 890.472 Q52.7369 890.472 56.3653 887.321 Q59.9619 884.17 59.9619 878.472 Q59.9619 875.926 59.2935 873.443 Q58.5933 870.929 57.2247 868.446 L62.6355 868.446 Q63.7814 870.897 64.3543 873.539 Q64.9272 876.149 64.9272 879.109 Q64.9272 887.161 59.8664 891.904 Q54.8057 896.646 46.212 896.646 Q37.491 896.646 32.4939 891.872 Q27.4968 887.066 27.4968 878.727 Q27.4968 876.021 28.0697 873.443 Q28.6108 870.865 29.7248 868.446 Z\" fill=\"#000000\" fill-rule=\"nonzero\" fill-opacity=\"1\" /><path clip-path=\"url(#clip540)\" d=\"M46.0847 842.06 Q46.0847 849.158 47.7079 851.895 Q49.3312 854.633 53.2461 854.633 Q56.3653 854.633 58.2114 852.596 Q60.0256 850.527 60.0256 846.994 Q60.0256 842.124 56.5881 839.196 Q53.1188 836.236 47.3897 836.236 L46.0847 836.236 L46.0847 842.06 M43.6657 830.379 L64.0042 830.379 L64.0042 836.236 L58.5933 836.236 Q61.8398 838.241 63.3994 841.233 Q64.9272 844.225 64.9272 848.553 Q64.9272 854.028 61.8716 857.274 Q58.7843 860.489 53.6281 860.489 Q47.6125 860.489 44.5569 856.479 Q41.5014 852.436 41.5014 844.447 L41.5014 836.236 L40.9285 836.236 Q36.8862 836.236 34.6901 838.909 Q32.4621 841.551 32.4621 846.357 Q32.4621 849.413 33.1941 852.309 Q33.9262 855.206 35.3903 857.879 L29.9795 857.879 Q28.7381 854.664 28.1334 851.641 Q27.4968 848.617 27.4968 845.752 Q27.4968 838.018 31.5072 834.199 Q35.5176 830.379 43.6657 830.379 Z\" fill=\"#000000\" fill-rule=\"nonzero\" fill-opacity=\"1\" /><path clip-path=\"url(#clip540)\" d=\"M58.657 812.651 L77.5631 812.651 L77.5631 818.539 L28.3562 818.539 L28.3562 812.651 L33.7671 812.651 Q30.5842 810.805 29.0564 808.004 Q27.4968 805.171 27.4968 801.256 Q27.4968 794.763 32.6531 790.721 Q37.8093 786.647 46.212 786.647 Q54.6147 786.647 59.771 790.721 Q64.9272 794.763 64.9272 801.256 Q64.9272 805.171 63.3994 808.004 Q61.8398 810.805 58.657 812.651 M46.212 792.726 Q39.7508 792.726 36.0905 795.4 Q32.3984 798.041 32.3984 802.688 Q32.3984 807.335 36.0905 810.009 Q39.7508 812.651 46.212 812.651 Q52.6732 812.651 56.3653 810.009 Q60.0256 807.335 60.0256 802.688 Q60.0256 798.041 56.3653 795.4 Q52.6732 792.726 46.212 792.726 Z\" fill=\"#000000\" fill-rule=\"nonzero\" fill-opacity=\"1\" /><path clip-path=\"url(#clip540)\" d=\"M28.3562 776.939 L28.3562 771.083 L64.0042 771.083 L64.0042 776.939 L28.3562 776.939 M14.479 776.939 L14.479 771.083 L21.895 771.083 L21.895 776.939 L14.479 776.939 Z\" fill=\"#000000\" fill-rule=\"nonzero\" fill-opacity=\"1\" /><path clip-path=\"url(#clip540)\" d=\"M18.2347 753.036 L28.3562 753.036 L28.3562 740.973 L32.9077 740.973 L32.9077 753.036 L52.2594 753.036 Q56.6199 753.036 57.8613 751.858 Q59.1026 750.649 59.1026 746.989 L59.1026 740.973 L64.0042 740.973 L64.0042 746.989 Q64.0042 753.768 61.4897 756.346 Q58.9434 758.924 52.2594 758.924 L32.9077 758.924 L32.9077 763.221 L28.3562 763.221 L28.3562 758.924 L18.2347 758.924 L18.2347 753.036 Z\" fill=\"#000000\" fill-rule=\"nonzero\" fill-opacity=\"1\" /><path clip-path=\"url(#clip540)\" d=\"M46.0847 717.07 Q46.0847 724.167 47.7079 726.905 Q49.3312 729.642 53.2461 729.642 Q56.3653 729.642 58.2114 727.605 Q60.0256 725.536 60.0256 722.003 Q60.0256 717.133 56.5881 714.205 Q53.1188 711.245 47.3897 711.245 L46.0847 711.245 L46.0847 717.07 M43.6657 705.389 L64.0042 705.389 L64.0042 711.245 L58.5933 711.245 Q61.8398 713.25 63.3994 716.242 Q64.9272 719.234 64.9272 723.563 Q64.9272 729.037 61.8716 732.284 Q58.7843 735.498 53.6281 735.498 Q47.6125 735.498 44.5569 731.488 Q41.5014 727.446 41.5014 719.457 L41.5014 711.245 L40.9285 711.245 Q36.8862 711.245 34.6901 713.919 Q32.4621 716.56 32.4621 721.367 Q32.4621 724.422 33.1941 727.318 Q33.9262 730.215 35.3903 732.888 L29.9795 732.888 Q28.7381 729.674 28.1334 726.65 Q27.4968 723.626 27.4968 720.762 Q27.4968 713.027 31.5072 709.208 Q35.5176 705.389 43.6657 705.389 Z\" fill=\"#000000\" fill-rule=\"nonzero\" fill-opacity=\"1\" /><path clip-path=\"url(#clip540)\" d=\"M14.479 693.326 L14.479 687.469 L64.0042 687.469 L64.0042 693.326 L14.479 693.326 Z\" fill=\"#000000\" fill-rule=\"nonzero\" fill-opacity=\"1\" /><path clip-path=\"url(#clip540)\" d=\"M55.9197 673.719 L55.9197 667.003 L64.0042 667.003 L64.0042 673.719 L55.9197 673.719 M30.2977 673.719 L30.2977 667.003 L38.3822 667.003 L38.3822 673.719 L30.2977 673.719 Z\" fill=\"#000000\" fill-rule=\"nonzero\" fill-opacity=\"1\" /><path clip-path=\"url(#clip540)\" d=\"M14.479 632.756 L14.479 626.868 L43.7294 626.868 L28.3562 609.394 L28.3562 601.914 L45.0344 620.82 L64.0042 601.118 L64.0042 608.757 L46.5939 626.868 L64.0042 626.868 L64.0042 632.756 L14.479 632.756 Z\" fill=\"#000000\" fill-rule=\"nonzero\" fill-opacity=\"1\" /><path clip-path=\"url(#clip540)\" d=\"M16.4842 589.246 L34.149 589.246 L34.149 594.657 L16.4842 594.657 L16.4842 589.246 Z\" fill=\"#000000\" fill-rule=\"nonzero\" fill-opacity=\"1\" /><path clip-path=\"url(#clip540)\" d=\"M34.4036 576.101 L34.4036 535.297 L39.7508 535.297 L39.7508 576.101 L34.4036 576.101 M47.3897 576.101 L47.3897 535.297 L52.8005 535.297 L52.8005 576.101 L47.3897 576.101 Z\" fill=\"#000000\" fill-rule=\"nonzero\" fill-opacity=\"1\" /><path clip-path=\"url(#clip540)\" d=\"M45.7664 498.79 Q39.4007 498.79 35.8996 501.431 Q32.3984 504.041 32.3984 508.784 Q32.3984 513.494 35.8996 516.136 Q39.4007 518.746 45.7664 518.746 Q52.1003 518.746 55.6014 516.136 Q59.1026 513.494 59.1026 508.784 Q59.1026 504.041 55.6014 501.431 Q52.1003 498.79 45.7664 498.79 M59.58 492.933 Q68.683 492.933 73.1071 496.975 Q77.5631 501.018 77.5631 509.357 Q77.5631 512.444 77.0857 515.181 Q76.6401 517.919 75.6852 520.497 L69.9879 520.497 Q71.3884 517.919 72.0568 515.404 Q72.7252 512.89 72.7252 510.28 Q72.7252 504.519 69.7015 501.654 Q66.7096 498.79 60.6303 498.79 L57.7339 498.79 Q60.885 500.604 62.4446 503.437 Q64.0042 506.269 64.0042 510.216 Q64.0042 516.773 59.0071 520.783 Q54.01 524.794 45.7664 524.794 Q37.491 524.794 32.4939 520.783 Q27.4968 516.773 27.4968 510.216 Q27.4968 506.269 29.0564 503.437 Q30.616 500.604 33.7671 498.79 L28.3562 498.79 L28.3562 492.933 L59.58 492.933 Z\" fill=\"#000000\" fill-rule=\"nonzero\" fill-opacity=\"1\" /><path clip-path=\"url(#clip540)\" d=\"M14.5426 466.802 Q21.8632 471.067 29.0246 473.136 Q36.186 475.205 43.5384 475.205 Q50.8908 475.205 58.1159 473.136 Q65.3091 471.035 72.5979 466.802 L72.5979 471.895 Q65.1182 476.669 57.8931 479.056 Q50.668 481.411 43.5384 481.411 Q36.4406 481.411 29.2474 479.056 Q22.0542 476.701 14.5426 471.895 L14.5426 466.802 Z\" fill=\"#000000\" fill-rule=\"nonzero\" fill-opacity=\"1\" /><path clip-path=\"url(#clip540)\" d=\"M14.479 455.662 L14.479 449.774 L43.7294 449.774 L28.3562 432.3 L28.3562 424.82 L45.0344 443.726 L64.0042 424.024 L64.0042 431.663 L46.5939 449.774 L64.0042 449.774 L64.0042 455.662 L14.479 455.662 Z\" fill=\"#000000\" fill-rule=\"nonzero\" fill-opacity=\"1\" /><path clip-path=\"url(#clip540)\" d=\"M14.5426 418.614 L14.5426 413.521 Q22.0542 408.747 29.2474 406.391 Q36.4406 404.004 43.5384 404.004 Q50.668 404.004 57.8931 406.391 Q65.1182 408.747 72.5979 413.521 L72.5979 418.614 Q65.3091 414.38 58.1159 412.311 Q50.8908 410.211 43.5384 410.211 Q36.186 410.211 29.0246 412.311 Q21.8632 414.38 14.5426 418.614 Z\" fill=\"#000000\" fill-rule=\"nonzero\" fill-opacity=\"1\" /><polyline clip-path=\"url(#clip542)\" style=\"stroke:#0000ff; stroke-linecap:round; stroke-linejoin:round; stroke-width:16; stroke-opacity:1; fill:none\" points=\"280.231,1189.53 300.353,1176.55 320.474,1176.55 340.596,1163.57 360.717,1150.59 380.839,1137.61 400.961,1137.61 421.082,1124.63 441.204,1111.65 461.325,1098.67 481.447,1098.67 501.569,1085.69 521.69,1085.69 541.812,1072.71 561.933,1059.73 582.055,1059.73 602.177,1046.74 622.298,1046.74 642.42,1033.76 662.541,1033.76 682.663,1020.78 702.785,1020.78 722.906,1007.8 743.028,1007.8 763.149,994.822 783.271,994.822 803.393,981.842 823.514,981.842 843.636,981.842 863.757,968.861 883.879,968.861 904.001,955.881 924.122,955.881 944.244,942.9 964.365,942.9 984.487,942.9 1004.61,929.92 1024.73,929.92 1044.85,916.939 1064.97,916.939 1085.1,916.939 1105.22,903.959 1125.34,903.959 1145.46,903.959 1165.58,890.978 1185.7,890.978 1205.82,877.998 1225.95,877.998 1246.07,877.998 1266.19,877.998 1286.31,865.017 1306.43,865.017 1326.55,865.017 1346.68,852.037 1366.8,852.037 1386.92,852.037 1407.04,839.056 1427.16,839.056 1447.28,839.056 1467.41,826.076 1487.53,826.076 1507.65,826.076 1527.77,826.076 1547.89,813.095 1568.01,813.095 1588.14,800.115 1608.26,800.115 1628.38,800.115 1648.5,800.115 1668.62,787.134 1688.74,787.134 1708.86,787.134 1728.99,774.154 1749.11,774.154 1769.23,774.154 1789.35,774.154 1809.47,761.173 1829.59,761.173 1849.72,761.173 1869.84,761.173 1889.96,761.173 1910.08,748.192 1930.2,748.192 1950.32,748.192 1970.45,735.212 1990.57,735.212 2010.69,735.212 2030.81,735.212 2050.93,722.231 2071.05,722.231 2091.18,722.231 2111.3,722.231 2131.42,709.251 2151.54,709.251 2171.66,709.251 2191.78,696.27 2211.9,696.27 2232.03,696.27 2252.15,696.27 2272.27,696.27 2292.39,683.29 \"/>\n",
       "<polyline clip-path=\"url(#clip542)\" style=\"stroke:#e26f46; stroke-linecap:round; stroke-linejoin:round; stroke-width:4; stroke-opacity:1; fill:none\" points=\"280.231,1194.27 300.353,1182.55 320.474,1171.4 340.596,1160.74 360.717,1150.53 380.839,1140.72 400.961,1131.27 421.082,1122.14 441.204,1113.31 461.325,1104.75 481.447,1096.45 501.569,1088.38 521.69,1080.52 541.812,1072.87 561.933,1065.4 582.055,1058.11 602.177,1050.99 622.298,1044.02 642.42,1037.2 662.541,1030.52 682.663,1023.97 702.785,1017.54 722.906,1011.23 743.028,1005.04 763.149,998.957 783.271,992.975 803.393,987.092 823.514,981.303 843.636,975.605 863.757,969.994 883.879,964.466 904.001,959.018 924.122,953.647 944.244,948.35 964.365,943.125 984.487,937.969 1004.61,932.879 1024.73,927.854 1044.85,922.891 1064.97,917.989 1085.1,913.145 1105.22,908.357 1125.34,903.624 1145.46,898.945 1165.58,894.317 1185.7,889.739 1205.82,885.21 1225.95,880.728 1246.07,876.292 1266.19,871.901 1286.31,867.554 1306.43,863.249 1326.55,858.985 1346.68,854.762 1366.8,850.578 1386.92,846.433 1407.04,842.325 1427.16,838.253 1447.28,834.218 1467.41,830.217 1487.53,826.25 1507.65,822.316 1527.77,818.416 1547.89,814.547 1568.01,810.709 1588.14,806.902 1608.26,803.124 1628.38,799.376 1648.5,795.657 1668.62,791.966 1688.74,788.302 1708.86,784.665 1728.99,781.055 1749.11,777.471 1769.23,773.912 1789.35,770.378 1809.47,766.869 1829.59,763.384 1849.72,759.922 1869.84,756.484 1889.96,753.069 1910.08,749.676 1930.2,746.305 1950.32,742.955 1970.45,739.627 1990.57,736.32 2010.69,733.033 2030.81,729.767 2050.93,726.521 2071.05,723.294 2091.18,720.086 2111.3,716.898 2131.42,713.728 2151.54,710.576 2171.66,707.443 2191.78,704.328 2211.9,701.23 2232.03,698.149 2252.15,695.085 2272.27,692.039 2292.39,689.008 \"/>\n",
       "<polyline clip-path=\"url(#clip542)\" style=\"stroke:#000000; stroke-linecap:round; stroke-linejoin:round; stroke-width:12; stroke-opacity:1; fill:none\" stroke-dasharray=\"6, 12\" points=\"280.231,1384.24 300.353,1371.26 320.474,1358.28 340.596,1345.3 360.717,1332.32 380.839,1319.34 400.961,1306.36 421.082,1293.37 441.204,1280.39 461.325,1267.41 481.447,1254.43 501.569,1241.45 521.69,1228.47 541.812,1215.49 561.933,1202.51 582.055,1189.53 602.177,1176.55 622.298,1163.57 642.42,1150.59 662.541,1137.61 682.663,1124.63 702.785,1111.65 722.906,1098.67 743.028,1085.69 763.149,1072.71 783.271,1059.73 803.393,1046.74 823.514,1033.76 843.636,1020.78 863.757,1007.8 883.879,994.822 904.001,981.842 924.122,968.861 944.244,955.881 964.365,942.9 984.487,929.92 1004.61,916.939 1024.73,903.959 1044.85,890.978 1064.97,877.998 1085.1,865.017 1105.22,852.037 1125.34,839.056 1145.46,826.076 1165.58,813.095 1185.7,800.115 1205.82,787.134 1225.95,774.154 1246.07,761.173 1266.19,748.192 1286.31,735.212 1306.43,722.231 1326.55,709.251 1346.68,696.27 1366.8,683.29 1386.92,670.309 1407.04,657.329 1427.16,644.348 1447.28,631.368 1467.41,618.387 1487.53,605.407 1507.65,592.426 1527.77,579.446 1547.89,566.465 1568.01,553.485 1588.14,540.504 1608.26,527.524 1628.38,514.543 1648.5,501.563 1668.62,488.582 1688.74,475.601 1708.86,462.621 1728.99,449.64 1749.11,436.66 1769.23,423.679 1789.35,410.699 1809.47,397.718 1829.59,384.738 1849.72,371.757 1869.84,358.777 1889.96,345.796 1910.08,332.816 1930.2,319.835 1950.32,306.855 1970.45,293.874 1990.57,280.894 2010.69,267.913 2030.81,254.933 2050.93,241.952 2071.05,228.971 2091.18,215.991 2111.3,203.01 2131.42,190.03 2151.54,177.049 2171.66,164.069 2191.78,151.088 2211.9,138.108 2232.03,125.127 2252.15,112.147 2272.27,99.1662 2292.39,86.1857 \"/>\n",
       "<path clip-path=\"url(#clip540)\" d=\"M290.963 404.149 L1016.47 404.149 L1016.47 93.1086 L290.963 93.1086  Z\" fill=\"#ffffff\" fill-rule=\"evenodd\" fill-opacity=\"1\"/>\n",
       "<polyline clip-path=\"url(#clip540)\" style=\"stroke:#000000; stroke-linecap:round; stroke-linejoin:round; stroke-width:4; stroke-opacity:1; fill:none\" points=\"290.963,404.149 1016.47,404.149 1016.47,93.1086 290.963,93.1086 290.963,404.149 \"/>\n",
       "<polyline clip-path=\"url(#clip540)\" style=\"stroke:#0000ff; stroke-linecap:round; stroke-linejoin:round; stroke-width:24; stroke-opacity:1; fill:none\" points=\"314.661,170.869 456.854,170.869 \"/>\n",
       "<path clip-path=\"url(#clip540)\" d=\"M504.303 151.858 L494.789 177.657 L513.851 177.657 L504.303 151.858 M500.344 144.949 L508.296 144.949 L528.053 196.789 L520.761 196.789 L516.039 183.49 L492.671 183.49 L487.949 196.789 L480.553 196.789 L500.344 144.949 Z\" fill=\"#000000\" fill-rule=\"nonzero\" fill-opacity=\"1\" /><path clip-path=\"url(#clip540)\" d=\"M541.525 190.955 L541.525 211.58 L535.101 211.58 L535.101 157.9 L541.525 157.9 L541.525 163.803 Q543.539 160.33 546.594 158.664 Q549.684 156.962 553.955 156.962 Q561.038 156.962 565.448 162.587 Q569.893 168.212 569.893 177.379 Q569.893 186.546 565.448 192.171 Q561.038 197.796 553.955 197.796 Q549.684 197.796 546.594 196.129 Q543.539 194.428 541.525 190.955 M563.261 177.379 Q563.261 170.33 560.344 166.337 Q557.462 162.31 552.393 162.31 Q547.323 162.31 544.407 166.337 Q541.525 170.33 541.525 177.379 Q541.525 184.428 544.407 188.455 Q547.323 192.448 552.393 192.448 Q557.462 192.448 560.344 188.455 Q563.261 184.428 563.261 177.379 Z\" fill=\"#000000\" fill-rule=\"nonzero\" fill-opacity=\"1\" /><path clip-path=\"url(#clip540)\" d=\"M586.663 190.955 L586.663 211.58 L580.24 211.58 L580.24 157.9 L586.663 157.9 L586.663 163.803 Q588.677 160.33 591.733 158.664 Q594.823 156.962 599.094 156.962 Q606.177 156.962 610.587 162.587 Q615.031 168.212 615.031 177.379 Q615.031 186.546 610.587 192.171 Q606.177 197.796 599.094 197.796 Q594.823 197.796 591.733 196.129 Q588.677 194.428 586.663 190.955 M608.399 177.379 Q608.399 170.33 605.483 166.337 Q602.601 162.31 597.531 162.31 Q592.462 162.31 589.545 166.337 Q586.663 170.33 586.663 177.379 Q586.663 184.428 589.545 188.455 Q592.462 192.448 597.531 192.448 Q602.601 192.448 605.483 188.455 Q608.399 184.428 608.399 177.379 Z\" fill=\"#000000\" fill-rule=\"nonzero\" fill-opacity=\"1\" /><path clip-path=\"url(#clip540)\" d=\"M648.156 163.872 Q647.08 163.247 645.795 162.969 Q644.545 162.657 643.017 162.657 Q637.601 162.657 634.684 166.199 Q631.802 169.705 631.802 176.303 L631.802 196.789 L625.378 196.789 L625.378 157.9 L631.802 157.9 L631.802 163.942 Q633.816 160.4 637.045 158.699 Q640.274 156.962 644.892 156.962 Q645.552 156.962 646.351 157.067 Q647.149 157.136 648.121 157.31 L648.156 163.872 Z\" fill=\"#000000\" fill-rule=\"nonzero\" fill-opacity=\"1\" /><path clip-path=\"url(#clip540)\" d=\"M668.364 162.379 Q663.225 162.379 660.239 166.407 Q657.253 170.4 657.253 177.379 Q657.253 184.358 660.205 188.386 Q663.191 192.379 668.364 192.379 Q673.468 192.379 676.455 188.351 Q679.441 184.323 679.441 177.379 Q679.441 170.469 676.455 166.442 Q673.468 162.379 668.364 162.379 M668.364 156.962 Q676.698 156.962 681.454 162.379 Q686.211 167.796 686.211 177.379 Q686.211 186.928 681.454 192.379 Q676.698 197.796 668.364 197.796 Q659.996 197.796 655.239 192.379 Q650.517 186.928 650.517 177.379 Q650.517 167.796 655.239 162.379 Q659.996 156.962 668.364 156.962 Z\" fill=\"#000000\" fill-rule=\"nonzero\" fill-opacity=\"1\" /><path clip-path=\"url(#clip540)\" d=\"M726.94 157.9 L712.878 176.823 L727.67 196.789 L720.135 196.789 L708.815 181.511 L697.496 196.789 L689.961 196.789 L705.065 176.442 L691.246 157.9 L698.781 157.9 L709.093 171.754 L719.406 157.9 L726.94 157.9 Z\" fill=\"#000000\" fill-rule=\"nonzero\" fill-opacity=\"1\" /><path clip-path=\"url(#clip540)\" d=\"M736.697 157.9 L743.086 157.9 L743.086 196.789 L736.697 196.789 L736.697 157.9 M736.697 142.761 L743.086 142.761 L743.086 150.851 L736.697 150.851 L736.697 142.761 Z\" fill=\"#000000\" fill-rule=\"nonzero\" fill-opacity=\"1\" /><path clip-path=\"url(#clip540)\" d=\"M786.732 165.365 Q789.128 161.06 792.461 159.011 Q795.794 156.962 800.308 156.962 Q806.384 156.962 809.683 161.233 Q812.982 165.469 812.982 173.317 L812.982 196.789 L806.558 196.789 L806.558 173.525 Q806.558 167.935 804.579 165.226 Q802.6 162.518 798.537 162.518 Q793.572 162.518 790.69 165.817 Q787.808 169.115 787.808 174.81 L787.808 196.789 L781.384 196.789 L781.384 173.525 Q781.384 167.9 779.405 165.226 Q777.426 162.518 773.294 162.518 Q768.398 162.518 765.517 165.851 Q762.635 169.15 762.635 174.81 L762.635 196.789 L756.211 196.789 L756.211 157.9 L762.635 157.9 L762.635 163.942 Q764.822 160.365 767.878 158.664 Q770.933 156.962 775.135 156.962 Q779.371 156.962 782.322 159.115 Q785.308 161.268 786.732 165.365 Z\" fill=\"#000000\" fill-rule=\"nonzero\" fill-opacity=\"1\" /><path clip-path=\"url(#clip540)\" d=\"M843.398 177.24 Q835.655 177.24 832.669 179.011 Q829.683 180.782 829.683 185.053 Q829.683 188.455 831.905 190.469 Q834.162 192.448 838.016 192.448 Q843.329 192.448 846.523 188.698 Q849.752 184.914 849.752 178.664 L849.752 177.24 L843.398 177.24 M856.141 174.601 L856.141 196.789 L849.752 196.789 L849.752 190.886 Q847.565 194.428 844.301 196.129 Q841.037 197.796 836.315 197.796 Q830.343 197.796 826.801 194.462 Q823.294 191.094 823.294 185.469 Q823.294 178.907 827.669 175.573 Q832.079 172.24 840.794 172.24 L849.752 172.24 L849.752 171.615 Q849.752 167.205 846.836 164.81 Q843.954 162.379 838.711 162.379 Q835.377 162.379 832.218 163.178 Q829.058 163.976 826.141 165.574 L826.141 159.671 Q829.648 158.317 832.947 157.657 Q836.245 156.962 839.37 156.962 Q847.808 156.962 851.974 161.337 Q856.141 165.712 856.141 174.601 Z\" fill=\"#000000\" fill-rule=\"nonzero\" fill-opacity=\"1\" /><path clip-path=\"url(#clip540)\" d=\"M875.62 146.858 L875.62 157.9 L888.78 157.9 L888.78 162.865 L875.62 162.865 L875.62 183.976 Q875.62 188.733 876.905 190.087 Q878.224 191.441 882.217 191.441 L888.78 191.441 L888.78 196.789 L882.217 196.789 Q874.821 196.789 872.009 194.046 Q869.197 191.268 869.197 183.976 L869.197 162.865 L864.509 162.865 L864.509 157.9 L869.197 157.9 L869.197 146.858 L875.62 146.858 Z\" fill=\"#000000\" fill-rule=\"nonzero\" fill-opacity=\"1\" /><path clip-path=\"url(#clip540)\" d=\"M897.182 157.9 L903.571 157.9 L903.571 196.789 L897.182 196.789 L897.182 157.9 M897.182 142.761 L903.571 142.761 L903.571 150.851 L897.182 150.851 L897.182 142.761 Z\" fill=\"#000000\" fill-rule=\"nonzero\" fill-opacity=\"1\" /><path clip-path=\"url(#clip540)\" d=\"M932.009 162.379 Q926.87 162.379 923.884 166.407 Q920.898 170.4 920.898 177.379 Q920.898 184.358 923.849 188.386 Q926.835 192.379 932.009 192.379 Q937.113 192.379 940.099 188.351 Q943.085 184.323 943.085 177.379 Q943.085 170.469 940.099 166.442 Q937.113 162.379 932.009 162.379 M932.009 156.962 Q940.342 156.962 945.099 162.379 Q949.856 167.796 949.856 177.379 Q949.856 186.928 945.099 192.379 Q940.342 197.796 932.009 197.796 Q923.641 197.796 918.884 192.379 Q914.162 186.928 914.162 177.379 Q914.162 167.796 918.884 162.379 Q923.641 156.962 932.009 156.962 Z\" fill=\"#000000\" fill-rule=\"nonzero\" fill-opacity=\"1\" /><path clip-path=\"url(#clip540)\" d=\"M992.772 173.317 L992.772 196.789 L986.383 196.789 L986.383 173.525 Q986.383 168.004 984.231 165.261 Q982.078 162.518 977.772 162.518 Q972.599 162.518 969.613 165.817 Q966.627 169.115 966.627 174.81 L966.627 196.789 L960.203 196.789 L960.203 157.9 L966.627 157.9 L966.627 163.942 Q968.918 160.435 972.008 158.699 Q975.133 156.962 979.196 156.962 Q985.897 156.962 989.335 161.129 Q992.772 165.261 992.772 173.317 Z\" fill=\"#000000\" fill-rule=\"nonzero\" fill-opacity=\"1\" /><polyline clip-path=\"url(#clip540)\" style=\"stroke:#e26f46; stroke-linecap:round; stroke-linejoin:round; stroke-width:6; stroke-opacity:1; fill:none\" points=\"314.661,248.629 456.854,248.629 \"/>\n",
       "<path clip-path=\"url(#clip540)\" d=\"M504.303 229.618 L494.789 255.417 L513.851 255.417 L504.303 229.618 M500.344 222.709 L508.296 222.709 L528.053 274.549 L520.761 274.549 L516.039 261.25 L492.671 261.25 L487.949 274.549 L480.553 274.549 L500.344 222.709 Z\" fill=\"#000000\" fill-rule=\"nonzero\" fill-opacity=\"1\" /><path clip-path=\"url(#clip540)\" d=\"M567.67 251.077 L567.67 274.549 L561.282 274.549 L561.282 251.285 Q561.282 245.764 559.129 243.021 Q556.976 240.278 552.67 240.278 Q547.497 240.278 544.511 243.577 Q541.525 246.875 541.525 252.57 L541.525 274.549 L535.101 274.549 L535.101 235.66 L541.525 235.66 L541.525 241.702 Q543.816 238.195 546.907 236.459 Q550.032 234.722 554.094 234.722 Q560.795 234.722 564.233 238.889 Q567.67 243.021 567.67 251.077 Z\" fill=\"#000000\" fill-rule=\"nonzero\" fill-opacity=\"1\" /><path clip-path=\"url(#clip540)\" d=\"M598.087 255 Q590.344 255 587.358 256.771 Q584.372 258.542 584.372 262.813 Q584.372 266.215 586.594 268.229 Q588.851 270.208 592.705 270.208 Q598.017 270.208 601.212 266.458 Q604.441 262.674 604.441 256.424 L604.441 255 L598.087 255 M610.83 252.361 L610.83 274.549 L604.441 274.549 L604.441 268.646 Q602.254 272.188 598.99 273.889 Q595.726 275.556 591.004 275.556 Q585.031 275.556 581.49 272.222 Q577.983 268.854 577.983 263.229 Q577.983 256.667 582.358 253.333 Q586.767 250 595.483 250 L604.441 250 L604.441 249.375 Q604.441 244.965 601.524 242.57 Q598.642 240.139 593.399 240.139 Q590.066 240.139 586.906 240.938 Q583.747 241.736 580.83 243.334 L580.83 237.431 Q584.337 236.077 587.636 235.417 Q590.934 234.722 594.059 234.722 Q602.497 234.722 606.663 239.097 Q610.83 243.472 610.83 252.361 Z\" fill=\"#000000\" fill-rule=\"nonzero\" fill-opacity=\"1\" /><path clip-path=\"url(#clip540)\" d=\"M623.99 220.521 L630.378 220.521 L630.378 274.549 L623.99 274.549 L623.99 220.521 Z\" fill=\"#000000\" fill-rule=\"nonzero\" fill-opacity=\"1\" /><path clip-path=\"url(#clip540)\" d=\"M659.927 278.16 Q657.218 285.104 654.649 287.222 Q652.08 289.34 647.774 289.34 L642.67 289.34 L642.67 283.993 L646.42 283.993 Q649.059 283.993 650.517 282.743 Q651.975 281.493 653.746 276.84 L654.892 273.924 L639.163 235.66 L645.934 235.66 L658.087 266.076 L670.239 235.66 L677.01 235.66 L659.927 278.16 Z\" fill=\"#000000\" fill-rule=\"nonzero\" fill-opacity=\"1\" /><path clip-path=\"url(#clip540)\" d=\"M692.149 224.618 L692.149 235.66 L705.309 235.66 L705.309 240.625 L692.149 240.625 L692.149 261.736 Q692.149 266.493 693.434 267.847 Q694.753 269.201 698.746 269.201 L705.309 269.201 L705.309 274.549 L698.746 274.549 Q691.35 274.549 688.538 271.806 Q685.725 269.028 685.725 261.736 L685.725 240.625 L681.038 240.625 L681.038 235.66 L685.725 235.66 L685.725 224.618 L692.149 224.618 Z\" fill=\"#000000\" fill-rule=\"nonzero\" fill-opacity=\"1\" /><path clip-path=\"url(#clip540)\" d=\"M713.711 235.66 L720.1 235.66 L720.1 274.549 L713.711 274.549 L713.711 235.66 M713.711 220.521 L720.1 220.521 L720.1 228.611 L713.711 228.611 L713.711 220.521 Z\" fill=\"#000000\" fill-rule=\"nonzero\" fill-opacity=\"1\" /><path clip-path=\"url(#clip540)\" d=\"M761.454 237.153 L761.454 243.125 Q758.746 241.632 756.003 240.903 Q753.294 240.139 750.517 240.139 Q744.301 240.139 740.864 244.097 Q737.426 248.021 737.426 255.139 Q737.426 262.257 740.864 266.215 Q744.301 270.139 750.517 270.139 Q753.294 270.139 756.003 269.41 Q758.746 268.646 761.454 267.153 L761.454 273.056 Q758.78 274.306 755.899 274.931 Q753.051 275.556 749.822 275.556 Q741.037 275.556 735.864 270.035 Q730.69 264.514 730.69 255.139 Q730.69 245.625 735.899 240.174 Q741.142 234.722 750.239 234.722 Q753.19 234.722 756.003 235.347 Q758.815 235.938 761.454 237.153 Z\" fill=\"#000000\" fill-rule=\"nonzero\" fill-opacity=\"1\" /><path clip-path=\"url(#clip540)\" d=\"M790.239 255 Q782.496 255 779.51 256.771 Q776.523 258.542 776.523 262.813 Q776.523 266.215 778.746 268.229 Q781.003 270.208 784.857 270.208 Q790.169 270.208 793.364 266.458 Q796.593 262.674 796.593 256.424 L796.593 255 L790.239 255 M802.982 252.361 L802.982 274.549 L796.593 274.549 L796.593 268.646 Q794.405 272.188 791.141 273.889 Q787.878 275.556 783.155 275.556 Q777.183 275.556 773.641 272.222 Q770.135 268.854 770.135 263.229 Q770.135 256.667 774.51 253.333 Q778.919 250 787.634 250 L796.593 250 L796.593 249.375 Q796.593 244.965 793.676 242.57 Q790.794 240.139 785.551 240.139 Q782.218 240.139 779.058 240.938 Q775.898 241.736 772.982 243.334 L772.982 237.431 Q776.489 236.077 779.787 235.417 Q783.086 234.722 786.211 234.722 Q794.648 234.722 798.815 239.097 Q802.982 243.472 802.982 252.361 Z\" fill=\"#000000\" fill-rule=\"nonzero\" fill-opacity=\"1\" /><path clip-path=\"url(#clip540)\" d=\"M816.141 220.521 L822.53 220.521 L822.53 274.549 L816.141 274.549 L816.141 220.521 Z\" fill=\"#000000\" fill-rule=\"nonzero\" fill-opacity=\"1\" /><polyline clip-path=\"url(#clip540)\" style=\"stroke:#000000; stroke-linecap:round; stroke-linejoin:round; stroke-width:18; stroke-opacity:1; fill:none\" stroke-dasharray=\"9, 18\" points=\"314.661,326.389 456.854,326.389 \"/>\n",
       "<path clip-path=\"url(#clip540)\" d=\"M503.955 306.58 L486.247 334.253 L503.955 334.253 L503.955 306.58 M502.115 300.469 L510.935 300.469 L510.935 334.253 L518.33 334.253 L518.33 340.086 L510.935 340.086 L510.935 352.309 L503.955 352.309 L503.955 340.086 L480.553 340.086 L480.553 333.316 L502.115 300.469 Z\" fill=\"#000000\" fill-rule=\"nonzero\" fill-opacity=\"1\" /><path clip-path=\"url(#clip540)\" d=\"M529.997 300.469 L557.532 300.469 L557.532 306.371 L536.421 306.371 L536.421 319.08 Q537.948 318.559 539.476 318.316 Q541.004 318.038 542.532 318.038 Q551.212 318.038 556.282 322.795 Q561.351 327.552 561.351 335.677 Q561.351 344.045 556.143 348.698 Q550.934 353.316 541.455 353.316 Q538.191 353.316 534.789 352.76 Q531.421 352.204 527.809 351.093 L527.809 344.045 Q530.934 345.746 534.268 346.579 Q537.601 347.413 541.316 347.413 Q547.323 347.413 550.83 344.253 Q554.337 341.093 554.337 335.677 Q554.337 330.26 550.83 327.1 Q547.323 323.941 541.316 323.941 Q538.504 323.941 535.691 324.566 Q532.914 325.191 529.997 326.51 L529.997 300.469 Z\" fill=\"#000000\" fill-rule=\"nonzero\" fill-opacity=\"1\" /><path clip-path=\"url(#clip540)\" d=\"M622.462 319.323 L622.462 298.281 L628.851 298.281 L628.851 352.309 L622.462 352.309 L622.462 346.475 Q620.448 349.948 617.358 351.649 Q614.302 353.316 609.997 353.316 Q602.948 353.316 598.504 347.691 Q594.094 342.066 594.094 332.899 Q594.094 323.732 598.504 318.107 Q602.948 312.482 609.997 312.482 Q614.302 312.482 617.358 314.184 Q620.448 315.85 622.462 319.323 M600.691 332.899 Q600.691 339.948 603.573 343.975 Q606.49 347.968 611.559 347.968 Q616.628 347.968 619.545 343.975 Q622.462 339.948 622.462 332.899 Q622.462 325.85 619.545 321.857 Q616.628 317.83 611.559 317.83 Q606.49 317.83 603.573 321.857 Q600.691 325.85 600.691 332.899 Z\" fill=\"#000000\" fill-rule=\"nonzero\" fill-opacity=\"1\" /><path clip-path=\"url(#clip540)\" d=\"M675.274 331.267 L675.274 334.392 L645.899 334.392 Q646.316 340.989 649.857 344.461 Q653.434 347.899 659.788 347.899 Q663.468 347.899 666.906 346.996 Q670.378 346.093 673.781 344.288 L673.781 350.329 Q670.343 351.788 666.732 352.552 Q663.121 353.316 659.406 353.316 Q650.1 353.316 644.649 347.899 Q639.232 342.482 639.232 333.246 Q639.232 323.698 644.371 318.107 Q649.545 312.482 658.295 312.482 Q666.142 312.482 670.691 317.552 Q675.274 322.587 675.274 331.267 M668.885 329.392 Q668.816 324.149 665.934 321.024 Q663.087 317.899 658.364 317.899 Q653.017 317.899 649.788 320.92 Q646.594 323.941 646.107 329.427 L668.885 329.392 Z\" fill=\"#000000\" fill-rule=\"nonzero\" fill-opacity=\"1\" /><path clip-path=\"url(#clip540)\" d=\"M711.35 332.413 Q711.35 325.468 708.468 321.649 Q705.621 317.83 700.447 317.83 Q695.309 317.83 692.427 321.649 Q689.579 325.468 689.579 332.413 Q689.579 339.323 692.427 343.142 Q695.309 346.961 700.447 346.961 Q705.621 346.961 708.468 343.142 Q711.35 339.323 711.35 332.413 M717.739 347.482 Q717.739 357.413 713.329 362.239 Q708.92 367.1 699.822 367.1 Q696.454 367.1 693.468 366.579 Q690.482 366.093 687.67 365.052 L687.67 358.836 Q690.482 360.364 693.225 361.093 Q695.968 361.822 698.815 361.822 Q705.1 361.822 708.225 358.524 Q711.35 355.26 711.35 348.628 L711.35 345.468 Q709.371 348.906 706.281 350.607 Q703.19 352.309 698.885 352.309 Q691.732 352.309 687.357 346.857 Q682.982 341.406 682.982 332.413 Q682.982 323.385 687.357 317.934 Q691.732 312.482 698.885 312.482 Q703.19 312.482 706.281 314.184 Q709.371 315.885 711.35 319.323 L711.35 313.42 L717.739 313.42 L717.739 347.482 Z\" fill=\"#000000\" fill-rule=\"nonzero\" fill-opacity=\"1\" /><path clip-path=\"url(#clip540)\" d=\"M753.433 319.392 Q752.357 318.767 751.072 318.489 Q749.822 318.177 748.294 318.177 Q742.878 318.177 739.961 321.719 Q737.079 325.225 737.079 331.823 L737.079 352.309 L730.656 352.309 L730.656 313.42 L737.079 313.42 L737.079 319.462 Q739.093 315.92 742.322 314.219 Q745.551 312.482 750.169 312.482 Q750.829 312.482 751.628 312.587 Q752.426 312.656 753.399 312.83 L753.433 319.392 Z\" fill=\"#000000\" fill-rule=\"nonzero\" fill-opacity=\"1\" /><path clip-path=\"url(#clip540)\" d=\"M791.836 331.267 L791.836 334.392 L762.461 334.392 Q762.878 340.989 766.419 344.461 Q769.996 347.899 776.35 347.899 Q780.03 347.899 783.468 346.996 Q786.94 346.093 790.343 344.288 L790.343 350.329 Q786.905 351.788 783.294 352.552 Q779.683 353.316 775.968 353.316 Q766.662 353.316 761.211 347.899 Q755.794 342.482 755.794 333.246 Q755.794 323.698 760.933 318.107 Q766.107 312.482 774.857 312.482 Q782.704 312.482 787.253 317.552 Q791.836 322.587 791.836 331.267 M785.447 329.392 Q785.378 324.149 782.496 321.024 Q779.648 317.899 774.926 317.899 Q769.579 317.899 766.35 320.92 Q763.155 323.941 762.669 329.427 L785.447 329.392 Z\" fill=\"#000000\" fill-rule=\"nonzero\" fill-opacity=\"1\" /><path clip-path=\"url(#clip540)\" d=\"M835.586 331.267 L835.586 334.392 L806.211 334.392 Q806.627 340.989 810.169 344.461 Q813.745 347.899 820.1 347.899 Q823.78 347.899 827.218 346.996 Q830.69 346.093 834.093 344.288 L834.093 350.329 Q830.655 351.788 827.044 352.552 Q823.433 353.316 819.718 353.316 Q810.412 353.316 804.961 347.899 Q799.544 342.482 799.544 333.246 Q799.544 323.698 804.683 318.107 Q809.857 312.482 818.607 312.482 Q826.454 312.482 831.002 317.552 Q835.586 322.587 835.586 331.267 M829.197 329.392 Q829.127 324.149 826.245 321.024 Q823.398 317.899 818.676 317.899 Q813.329 317.899 810.1 320.92 Q806.905 323.941 806.419 329.427 L829.197 329.392 Z\" fill=\"#000000\" fill-rule=\"nonzero\" fill-opacity=\"1\" /><path clip-path=\"url(#clip540)\" d=\"M868.676 298.281 L875.065 298.281 L875.065 352.309 L868.676 352.309 L868.676 298.281 Z\" fill=\"#000000\" fill-rule=\"nonzero\" fill-opacity=\"1\" /><path clip-path=\"url(#clip540)\" d=\"M888.433 313.42 L894.821 313.42 L894.821 352.309 L888.433 352.309 L888.433 313.42 M888.433 298.281 L894.821 298.281 L894.821 306.371 L888.433 306.371 L888.433 298.281 Z\" fill=\"#000000\" fill-rule=\"nonzero\" fill-opacity=\"1\" /><path clip-path=\"url(#clip540)\" d=\"M940.516 328.837 L940.516 352.309 L934.127 352.309 L934.127 329.045 Q934.127 323.524 931.974 320.781 Q929.821 318.038 925.516 318.038 Q920.342 318.038 917.356 321.337 Q914.37 324.635 914.37 330.33 L914.37 352.309 L907.946 352.309 L907.946 313.42 L914.37 313.42 L914.37 319.462 Q916.662 315.955 919.752 314.219 Q922.877 312.482 926.939 312.482 Q933.641 312.482 937.078 316.649 Q940.516 320.781 940.516 328.837 Z\" fill=\"#000000\" fill-rule=\"nonzero\" fill-opacity=\"1\" /><path clip-path=\"url(#clip540)\" d=\"M986.522 331.267 L986.522 334.392 L957.147 334.392 Q957.564 340.989 961.106 344.461 Q964.682 347.899 971.036 347.899 Q974.717 347.899 978.154 346.996 Q981.626 346.093 985.029 344.288 L985.029 350.329 Q981.592 351.788 977.981 352.552 Q974.37 353.316 970.654 353.316 Q961.349 353.316 955.897 347.899 Q950.481 342.482 950.481 333.246 Q950.481 323.698 955.62 318.107 Q960.793 312.482 969.543 312.482 Q977.39 312.482 981.939 317.552 Q986.522 322.587 986.522 331.267 M980.133 329.392 Q980.064 324.149 977.182 321.024 Q974.335 317.899 969.613 317.899 Q964.265 317.899 961.036 320.92 Q957.842 323.941 957.356 329.427 L980.133 329.392 Z\" fill=\"#000000\" fill-rule=\"nonzero\" fill-opacity=\"1\" /></svg>\n"
      ]
     },
     "execution_count": 31,
     "metadata": {},
     "output_type": "execute_result"
    }
   ],
   "source": [
    "plt = plot(params.kgrid, policy,\n",
    "    color = :blue,\n",
    "    legend = :topleft,\n",
    "    label = (\"Approximation\"),\n",
    "    xlabel = (\"Current capital: k\"),\n",
    "    ylabel = (\"Next capital: k'=g(k)\"),\n",
    "    linewidth = 4,\n",
    "    legendfontsize = 12,\n",
    "    framestyle = :semi\n",
    ")\n",
    "plot!(params.kgrid, p_true, linewidth = 1, label=\"Analytical\")\n",
    "plot!(params.kgrid, params.kgrid, linewidth = 3, color = \"black\", linestyle = :dot, label=\"45 degree line\")"
   ]
  },
  {
   "cell_type": "code",
   "execution_count": 26,
   "metadata": {
    "slideshow": {
     "slide_type": "subslide"
    }
   },
   "outputs": [
    {
     "data": {
      "image/svg+xml": [
       "<?xml version=\"1.0\" encoding=\"utf-8\"?>\n",
       "<svg xmlns=\"http://www.w3.org/2000/svg\" xmlns:xlink=\"http://www.w3.org/1999/xlink\" width=\"600\" height=\"400\" viewBox=\"0 0 2400 1600\">\n",
       "<defs>\n",
       "  <clipPath id=\"clip800\">\n",
       "    <rect x=\"0\" y=\"0\" width=\"2400\" height=\"1600\"/>\n",
       "  </clipPath>\n",
       "</defs>\n",
       "<path clip-path=\"url(#clip800)\" d=\"M0 1600 L2400 1600 L2400 0 L0 0  Z\" fill=\"#ffffff\" fill-rule=\"evenodd\" fill-opacity=\"1\"/>\n",
       "<defs>\n",
       "  <clipPath id=\"clip801\">\n",
       "    <rect x=\"480\" y=\"0\" width=\"1681\" height=\"1600\"/>\n",
       "  </clipPath>\n",
       "</defs>\n",
       "<path clip-path=\"url(#clip800)\" d=\"M212.459 1423.18 L2352.76 1423.18 L2352.76 47.2441 L212.459 47.2441  Z\" fill=\"#ffffff\" fill-rule=\"evenodd\" fill-opacity=\"1\"/>\n",
       "<defs>\n",
       "  <clipPath id=\"clip802\">\n",
       "    <rect x=\"212\" y=\"47\" width=\"2141\" height=\"1377\"/>\n",
       "  </clipPath>\n",
       "</defs>\n",
       "<polyline clip-path=\"url(#clip802)\" style=\"stroke:#000000; stroke-linecap:round; stroke-linejoin:round; stroke-width:2; stroke-opacity:0.1; fill:none\" points=\"264.924,1423.18 264.924,47.2441 \"/>\n",
       "<polyline clip-path=\"url(#clip802)\" style=\"stroke:#000000; stroke-linecap:round; stroke-linejoin:round; stroke-width:2; stroke-opacity:0.1; fill:none\" points=\"670.376,1423.18 670.376,47.2441 \"/>\n",
       "<polyline clip-path=\"url(#clip802)\" style=\"stroke:#000000; stroke-linecap:round; stroke-linejoin:round; stroke-width:2; stroke-opacity:0.1; fill:none\" points=\"1075.83,1423.18 1075.83,47.2441 \"/>\n",
       "<polyline clip-path=\"url(#clip802)\" style=\"stroke:#000000; stroke-linecap:round; stroke-linejoin:round; stroke-width:2; stroke-opacity:0.1; fill:none\" points=\"1481.28,1423.18 1481.28,47.2441 \"/>\n",
       "<polyline clip-path=\"url(#clip802)\" style=\"stroke:#000000; stroke-linecap:round; stroke-linejoin:round; stroke-width:2; stroke-opacity:0.1; fill:none\" points=\"1886.73,1423.18 1886.73,47.2441 \"/>\n",
       "<polyline clip-path=\"url(#clip802)\" style=\"stroke:#000000; stroke-linecap:round; stroke-linejoin:round; stroke-width:2; stroke-opacity:0.1; fill:none\" points=\"2292.18,1423.18 2292.18,47.2441 \"/>\n",
       "<polyline clip-path=\"url(#clip800)\" style=\"stroke:#000000; stroke-linecap:round; stroke-linejoin:round; stroke-width:4; stroke-opacity:1; fill:none\" points=\"212.459,1423.18 2352.76,1423.18 \"/>\n",
       "<polyline clip-path=\"url(#clip800)\" style=\"stroke:#000000; stroke-linecap:round; stroke-linejoin:round; stroke-width:2; stroke-opacity:0.5; fill:none\" points=\"212.459,47.2441 2352.76,47.2441 \"/>\n",
       "<polyline clip-path=\"url(#clip800)\" style=\"stroke:#000000; stroke-linecap:round; stroke-linejoin:round; stroke-width:4; stroke-opacity:1; fill:none\" points=\"264.924,1423.18 264.924,1404.28 \"/>\n",
       "<polyline clip-path=\"url(#clip800)\" style=\"stroke:#000000; stroke-linecap:round; stroke-linejoin:round; stroke-width:4; stroke-opacity:1; fill:none\" points=\"670.376,1423.18 670.376,1404.28 \"/>\n",
       "<polyline clip-path=\"url(#clip800)\" style=\"stroke:#000000; stroke-linecap:round; stroke-linejoin:round; stroke-width:4; stroke-opacity:1; fill:none\" points=\"1075.83,1423.18 1075.83,1404.28 \"/>\n",
       "<polyline clip-path=\"url(#clip800)\" style=\"stroke:#000000; stroke-linecap:round; stroke-linejoin:round; stroke-width:4; stroke-opacity:1; fill:none\" points=\"1481.28,1423.18 1481.28,1404.28 \"/>\n",
       "<polyline clip-path=\"url(#clip800)\" style=\"stroke:#000000; stroke-linecap:round; stroke-linejoin:round; stroke-width:4; stroke-opacity:1; fill:none\" points=\"1886.73,1423.18 1886.73,1404.28 \"/>\n",
       "<polyline clip-path=\"url(#clip800)\" style=\"stroke:#000000; stroke-linecap:round; stroke-linejoin:round; stroke-width:4; stroke-opacity:1; fill:none\" points=\"2292.18,1423.18 2292.18,1404.28 \"/>\n",
       "<path clip-path=\"url(#clip800)\" d=\"M264.924 1454.1 Q261.313 1454.1 259.485 1457.66 Q257.679 1461.2 257.679 1468.33 Q257.679 1475.44 259.485 1479.01 Q261.313 1482.55 264.924 1482.55 Q268.559 1482.55 270.364 1479.01 Q272.193 1475.44 272.193 1468.33 Q272.193 1461.2 270.364 1457.66 Q268.559 1454.1 264.924 1454.1 M264.924 1450.39 Q270.734 1450.39 273.79 1455 Q276.869 1459.58 276.869 1468.33 Q276.869 1477.06 273.79 1481.67 Q270.734 1486.25 264.924 1486.25 Q259.114 1486.25 256.035 1481.67 Q252.98 1477.06 252.98 1468.33 Q252.98 1459.58 256.035 1455 Q259.114 1450.39 264.924 1450.39 Z\" fill=\"#000000\" fill-rule=\"nonzero\" fill-opacity=\"1\" /><path clip-path=\"url(#clip800)\" d=\"M645.075 1451.02 L663.431 1451.02 L663.431 1454.96 L649.357 1454.96 L649.357 1463.43 Q650.376 1463.08 651.394 1462.92 Q652.413 1462.73 653.431 1462.73 Q659.218 1462.73 662.598 1465.9 Q665.978 1469.08 665.978 1474.49 Q665.978 1480.07 662.505 1483.17 Q659.033 1486.25 652.714 1486.25 Q650.538 1486.25 648.269 1485.88 Q646.024 1485.51 643.617 1484.77 L643.617 1480.07 Q645.7 1481.2 647.922 1481.76 Q650.144 1482.32 652.621 1482.32 Q656.626 1482.32 658.964 1480.21 Q661.302 1478.1 661.302 1474.49 Q661.302 1470.88 658.964 1468.77 Q656.626 1466.67 652.621 1466.67 Q650.746 1466.67 648.871 1467.08 Q647.019 1467.5 645.075 1468.38 L645.075 1451.02 Z\" fill=\"#000000\" fill-rule=\"nonzero\" fill-opacity=\"1\" /><path clip-path=\"url(#clip800)\" d=\"M685.19 1454.1 Q681.579 1454.1 679.751 1457.66 Q677.945 1461.2 677.945 1468.33 Q677.945 1475.44 679.751 1479.01 Q681.579 1482.55 685.19 1482.55 Q688.825 1482.55 690.63 1479.01 Q692.459 1475.44 692.459 1468.33 Q692.459 1461.2 690.63 1457.66 Q688.825 1454.1 685.19 1454.1 M685.19 1450.39 Q691.001 1450.39 694.056 1455 Q697.135 1459.58 697.135 1468.33 Q697.135 1477.06 694.056 1481.67 Q691.001 1486.25 685.19 1486.25 Q679.38 1486.25 676.302 1481.67 Q673.246 1477.06 673.246 1468.33 Q673.246 1459.58 676.302 1455 Q679.38 1450.39 685.19 1450.39 Z\" fill=\"#000000\" fill-rule=\"nonzero\" fill-opacity=\"1\" /><path clip-path=\"url(#clip800)\" d=\"M1035.43 1481.64 L1043.07 1481.64 L1043.07 1455.28 L1034.76 1456.95 L1034.76 1452.69 L1043.03 1451.02 L1047.7 1451.02 L1047.7 1481.64 L1055.34 1481.64 L1055.34 1485.58 L1035.43 1485.58 L1035.43 1481.64 Z\" fill=\"#000000\" fill-rule=\"nonzero\" fill-opacity=\"1\" /><path clip-path=\"url(#clip800)\" d=\"M1074.79 1454.1 Q1071.17 1454.1 1069.35 1457.66 Q1067.54 1461.2 1067.54 1468.33 Q1067.54 1475.44 1069.35 1479.01 Q1071.17 1482.55 1074.79 1482.55 Q1078.42 1482.55 1080.23 1479.01 Q1082.05 1475.44 1082.05 1468.33 Q1082.05 1461.2 1080.23 1457.66 Q1078.42 1454.1 1074.79 1454.1 M1074.79 1450.39 Q1080.6 1450.39 1083.65 1455 Q1086.73 1459.58 1086.73 1468.33 Q1086.73 1477.06 1083.65 1481.67 Q1080.6 1486.25 1074.79 1486.25 Q1068.98 1486.25 1065.9 1481.67 Q1062.84 1477.06 1062.84 1468.33 Q1062.84 1459.58 1065.9 1455 Q1068.98 1450.39 1074.79 1450.39 Z\" fill=\"#000000\" fill-rule=\"nonzero\" fill-opacity=\"1\" /><path clip-path=\"url(#clip800)\" d=\"M1104.95 1454.1 Q1101.34 1454.1 1099.51 1457.66 Q1097.7 1461.2 1097.7 1468.33 Q1097.7 1475.44 1099.51 1479.01 Q1101.34 1482.55 1104.95 1482.55 Q1108.58 1482.55 1110.39 1479.01 Q1112.22 1475.44 1112.22 1468.33 Q1112.22 1461.2 1110.39 1457.66 Q1108.58 1454.1 1104.95 1454.1 M1104.95 1450.39 Q1110.76 1450.39 1113.81 1455 Q1116.89 1459.58 1116.89 1468.33 Q1116.89 1477.06 1113.81 1481.67 Q1110.76 1486.25 1104.95 1486.25 Q1099.14 1486.25 1096.06 1481.67 Q1093 1477.06 1093 1468.33 Q1093 1459.58 1096.06 1455 Q1099.14 1450.39 1104.95 1450.39 Z\" fill=\"#000000\" fill-rule=\"nonzero\" fill-opacity=\"1\" /><path clip-path=\"url(#clip800)\" d=\"M1440.89 1481.64 L1448.52 1481.64 L1448.52 1455.28 L1440.21 1456.95 L1440.21 1452.69 L1448.48 1451.02 L1453.15 1451.02 L1453.15 1481.64 L1460.79 1481.64 L1460.79 1485.58 L1440.89 1485.58 L1440.89 1481.64 Z\" fill=\"#000000\" fill-rule=\"nonzero\" fill-opacity=\"1\" /><path clip-path=\"url(#clip800)\" d=\"M1470.28 1451.02 L1488.64 1451.02 L1488.64 1454.96 L1474.57 1454.96 L1474.57 1463.43 Q1475.58 1463.08 1476.6 1462.92 Q1477.62 1462.73 1478.64 1462.73 Q1484.43 1462.73 1487.81 1465.9 Q1491.19 1469.08 1491.19 1474.49 Q1491.19 1480.07 1487.71 1483.17 Q1484.24 1486.25 1477.92 1486.25 Q1475.75 1486.25 1473.48 1485.88 Q1471.23 1485.51 1468.82 1484.77 L1468.82 1480.07 Q1470.91 1481.2 1473.13 1481.76 Q1475.35 1482.32 1477.83 1482.32 Q1481.83 1482.32 1484.17 1480.21 Q1486.51 1478.1 1486.51 1474.49 Q1486.51 1470.88 1484.17 1468.77 Q1481.83 1466.67 1477.83 1466.67 Q1475.95 1466.67 1474.08 1467.08 Q1472.23 1467.5 1470.28 1468.38 L1470.28 1451.02 Z\" fill=\"#000000\" fill-rule=\"nonzero\" fill-opacity=\"1\" /><path clip-path=\"url(#clip800)\" d=\"M1510.4 1454.1 Q1506.79 1454.1 1504.96 1457.66 Q1503.15 1461.2 1503.15 1468.33 Q1503.15 1475.44 1504.96 1479.01 Q1506.79 1482.55 1510.4 1482.55 Q1514.03 1482.55 1515.84 1479.01 Q1517.67 1475.44 1517.67 1468.33 Q1517.67 1461.2 1515.84 1457.66 Q1514.03 1454.1 1510.4 1454.1 M1510.4 1450.39 Q1516.21 1450.39 1519.26 1455 Q1522.34 1459.58 1522.34 1468.33 Q1522.34 1477.06 1519.26 1481.67 Q1516.21 1486.25 1510.4 1486.25 Q1504.59 1486.25 1501.51 1481.67 Q1498.45 1477.06 1498.45 1468.33 Q1498.45 1459.58 1501.51 1455 Q1504.59 1450.39 1510.4 1450.39 Z\" fill=\"#000000\" fill-rule=\"nonzero\" fill-opacity=\"1\" /><path clip-path=\"url(#clip800)\" d=\"M1850.42 1481.64 L1866.74 1481.64 L1866.74 1485.58 L1844.8 1485.58 L1844.8 1481.64 Q1847.46 1478.89 1852.04 1474.26 Q1856.65 1469.61 1857.83 1468.27 Q1860.08 1465.74 1860.95 1464.01 Q1861.86 1462.25 1861.86 1460.56 Q1861.86 1457.8 1859.91 1456.07 Q1857.99 1454.33 1854.89 1454.33 Q1852.69 1454.33 1850.24 1455.09 Q1847.81 1455.86 1845.03 1457.41 L1845.03 1452.69 Q1847.85 1451.55 1850.31 1450.97 Q1852.76 1450.39 1854.8 1450.39 Q1860.17 1450.39 1863.36 1453.08 Q1866.56 1455.77 1866.56 1460.26 Q1866.56 1462.39 1865.75 1464.31 Q1864.96 1466.2 1862.85 1468.8 Q1862.27 1469.47 1859.17 1472.69 Q1856.07 1475.88 1850.42 1481.64 Z\" fill=\"#000000\" fill-rule=\"nonzero\" fill-opacity=\"1\" /><path clip-path=\"url(#clip800)\" d=\"M1886.56 1454.1 Q1882.95 1454.1 1881.12 1457.66 Q1879.31 1461.2 1879.31 1468.33 Q1879.31 1475.44 1881.12 1479.01 Q1882.95 1482.55 1886.56 1482.55 Q1890.19 1482.55 1892 1479.01 Q1893.82 1475.44 1893.82 1468.33 Q1893.82 1461.2 1892 1457.66 Q1890.19 1454.1 1886.56 1454.1 M1886.56 1450.39 Q1892.37 1450.39 1895.42 1455 Q1898.5 1459.58 1898.5 1468.33 Q1898.5 1477.06 1895.42 1481.67 Q1892.37 1486.25 1886.56 1486.25 Q1880.75 1486.25 1877.67 1481.67 Q1874.61 1477.06 1874.61 1468.33 Q1874.61 1459.58 1877.67 1455 Q1880.75 1450.39 1886.56 1450.39 Z\" fill=\"#000000\" fill-rule=\"nonzero\" fill-opacity=\"1\" /><path clip-path=\"url(#clip800)\" d=\"M1916.72 1454.1 Q1913.11 1454.1 1911.28 1457.66 Q1909.47 1461.2 1909.47 1468.33 Q1909.47 1475.44 1911.28 1479.01 Q1913.11 1482.55 1916.72 1482.55 Q1920.35 1482.55 1922.16 1479.01 Q1923.99 1475.44 1923.99 1468.33 Q1923.99 1461.2 1922.16 1457.66 Q1920.35 1454.1 1916.72 1454.1 M1916.72 1450.39 Q1922.53 1450.39 1925.58 1455 Q1928.66 1459.58 1928.66 1468.33 Q1928.66 1477.06 1925.58 1481.67 Q1922.53 1486.25 1916.72 1486.25 Q1910.91 1486.25 1907.83 1481.67 Q1904.77 1477.06 1904.77 1468.33 Q1904.77 1459.58 1907.83 1455 Q1910.91 1450.39 1916.72 1450.39 Z\" fill=\"#000000\" fill-rule=\"nonzero\" fill-opacity=\"1\" /><path clip-path=\"url(#clip800)\" d=\"M2255.87 1481.64 L2272.19 1481.64 L2272.19 1485.58 L2250.25 1485.58 L2250.25 1481.64 Q2252.91 1478.89 2257.49 1474.26 Q2262.1 1469.61 2263.28 1468.27 Q2265.53 1465.74 2266.41 1464.01 Q2267.31 1462.25 2267.31 1460.56 Q2267.31 1457.8 2265.36 1456.07 Q2263.44 1454.33 2260.34 1454.33 Q2258.14 1454.33 2255.69 1455.09 Q2253.26 1455.86 2250.48 1457.41 L2250.48 1452.69 Q2253.3 1451.55 2255.76 1450.97 Q2258.21 1450.39 2260.25 1450.39 Q2265.62 1450.39 2268.81 1453.08 Q2272.01 1455.77 2272.01 1460.26 Q2272.01 1462.39 2271.2 1464.31 Q2270.41 1466.2 2268.3 1468.8 Q2267.73 1469.47 2264.62 1472.69 Q2261.52 1475.88 2255.87 1481.64 Z\" fill=\"#000000\" fill-rule=\"nonzero\" fill-opacity=\"1\" /><path clip-path=\"url(#clip800)\" d=\"M2282.05 1451.02 L2300.41 1451.02 L2300.41 1454.96 L2286.34 1454.96 L2286.34 1463.43 Q2287.36 1463.08 2288.37 1462.92 Q2289.39 1462.73 2290.41 1462.73 Q2296.2 1462.73 2299.58 1465.9 Q2302.96 1469.08 2302.96 1474.49 Q2302.96 1480.07 2299.48 1483.17 Q2296.01 1486.25 2289.69 1486.25 Q2287.52 1486.25 2285.25 1485.88 Q2283 1485.51 2280.6 1484.77 L2280.6 1480.07 Q2282.68 1481.2 2284.9 1481.76 Q2287.12 1482.32 2289.6 1482.32 Q2293.61 1482.32 2295.94 1480.21 Q2298.28 1478.1 2298.28 1474.49 Q2298.28 1470.88 2295.94 1468.77 Q2293.61 1466.67 2289.6 1466.67 Q2287.73 1466.67 2285.85 1467.08 Q2284 1467.5 2282.05 1468.38 L2282.05 1451.02 Z\" fill=\"#000000\" fill-rule=\"nonzero\" fill-opacity=\"1\" /><path clip-path=\"url(#clip800)\" d=\"M2322.17 1454.1 Q2318.56 1454.1 2316.73 1457.66 Q2314.92 1461.2 2314.92 1468.33 Q2314.92 1475.44 2316.73 1479.01 Q2318.56 1482.55 2322.17 1482.55 Q2325.8 1482.55 2327.61 1479.01 Q2329.44 1475.44 2329.44 1468.33 Q2329.44 1461.2 2327.61 1457.66 Q2325.8 1454.1 2322.17 1454.1 M2322.17 1450.39 Q2327.98 1450.39 2331.04 1455 Q2334.11 1459.58 2334.11 1468.33 Q2334.11 1477.06 2331.04 1481.67 Q2327.98 1486.25 2322.17 1486.25 Q2316.36 1486.25 2313.28 1481.67 Q2310.23 1477.06 2310.23 1468.33 Q2310.23 1459.58 2313.28 1455 Q2316.36 1450.39 2322.17 1450.39 Z\" fill=\"#000000\" fill-rule=\"nonzero\" fill-opacity=\"1\" /><path clip-path=\"url(#clip800)\" d=\"M1132.17 1520.52 L1138.6 1520.52 L1138.6 1568.04 L1132.17 1568.04 L1132.17 1520.52 Z\" fill=\"#000000\" fill-rule=\"nonzero\" fill-opacity=\"1\" /><path clip-path=\"url(#clip800)\" d=\"M1156.93 1522.27 L1156.93 1532.4 L1169 1532.4 L1169 1536.95 L1156.93 1536.95 L1156.93 1556.3 Q1156.93 1560.66 1158.11 1561.9 Q1159.32 1563.14 1162.98 1563.14 L1169 1563.14 L1169 1568.04 L1162.98 1568.04 Q1156.2 1568.04 1153.62 1565.53 Q1151.04 1562.98 1151.04 1556.3 L1151.04 1536.95 L1146.75 1536.95 L1146.75 1532.4 L1151.04 1532.4 L1151.04 1522.27 L1156.93 1522.27 Z\" fill=\"#000000\" fill-rule=\"nonzero\" fill-opacity=\"1\" /><path clip-path=\"url(#clip800)\" d=\"M1207.19 1548.76 L1207.19 1551.62 L1180.26 1551.62 Q1180.64 1557.67 1183.89 1560.85 Q1187.17 1564 1192.99 1564 Q1196.37 1564 1199.52 1563.17 Q1202.7 1562.35 1205.82 1560.69 L1205.82 1566.23 Q1202.67 1567.57 1199.36 1568.27 Q1196.05 1568.97 1192.64 1568.97 Q1184.11 1568.97 1179.12 1564 Q1174.15 1559.04 1174.15 1550.57 Q1174.15 1541.82 1178.86 1536.69 Q1183.6 1531.54 1191.63 1531.54 Q1198.82 1531.54 1202.99 1536.18 Q1207.19 1540.8 1207.19 1548.76 M1201.33 1547.04 Q1201.27 1542.23 1198.63 1539.37 Q1196.02 1536.5 1191.69 1536.5 Q1186.79 1536.5 1183.83 1539.27 Q1180.9 1542.04 1180.45 1547.07 L1201.33 1547.04 Z\" fill=\"#000000\" fill-rule=\"nonzero\" fill-opacity=\"1\" /><path clip-path=\"url(#clip800)\" d=\"M1237.46 1537.87 Q1236.47 1537.3 1235.29 1537.04 Q1234.15 1536.76 1232.75 1536.76 Q1227.78 1536.76 1225.11 1540 Q1222.47 1543.22 1222.47 1549.27 L1222.47 1568.04 L1216.58 1568.04 L1216.58 1532.4 L1222.47 1532.4 L1222.47 1537.93 Q1224.31 1534.69 1227.27 1533.13 Q1230.23 1531.54 1234.47 1531.54 Q1235.07 1531.54 1235.8 1531.63 Q1236.54 1531.7 1237.43 1531.85 L1237.46 1537.87 Z\" fill=\"#000000\" fill-rule=\"nonzero\" fill-opacity=\"1\" /><path clip-path=\"url(#clip800)\" d=\"M1259.8 1550.12 Q1252.7 1550.12 1249.97 1551.75 Q1247.23 1553.37 1247.23 1557.29 Q1247.23 1560.4 1249.27 1562.25 Q1251.34 1564.07 1254.87 1564.07 Q1259.74 1564.07 1262.67 1560.63 Q1265.63 1557.16 1265.63 1551.43 L1265.63 1550.12 L1259.8 1550.12 M1271.48 1547.71 L1271.48 1568.04 L1265.63 1568.04 L1265.63 1562.63 Q1263.62 1565.88 1260.63 1567.44 Q1257.64 1568.97 1253.31 1568.97 Q1247.83 1568.97 1244.59 1565.91 Q1241.37 1562.82 1241.37 1557.67 Q1241.37 1551.65 1245.38 1548.6 Q1249.43 1545.54 1257.42 1545.54 L1265.63 1545.54 L1265.63 1544.97 Q1265.63 1540.93 1262.95 1538.73 Q1260.31 1536.5 1255.51 1536.5 Q1252.45 1536.5 1249.55 1537.23 Q1246.66 1537.97 1243.98 1539.43 L1243.98 1534.02 Q1247.2 1532.78 1250.22 1532.17 Q1253.25 1531.54 1256.11 1531.54 Q1263.84 1531.54 1267.66 1535.55 Q1271.48 1539.56 1271.48 1547.71 Z\" fill=\"#000000\" fill-rule=\"nonzero\" fill-opacity=\"1\" /><path clip-path=\"url(#clip800)\" d=\"M1289.34 1522.27 L1289.34 1532.4 L1301.4 1532.4 L1301.4 1536.95 L1289.34 1536.95 L1289.34 1556.3 Q1289.34 1560.66 1290.52 1561.9 Q1291.73 1563.14 1295.39 1563.14 L1301.4 1563.14 L1301.4 1568.04 L1295.39 1568.04 Q1288.61 1568.04 1286.03 1565.53 Q1283.45 1562.98 1283.45 1556.3 L1283.45 1536.95 L1279.15 1536.95 L1279.15 1532.4 L1283.45 1532.4 L1283.45 1522.27 L1289.34 1522.27 Z\" fill=\"#000000\" fill-rule=\"nonzero\" fill-opacity=\"1\" /><path clip-path=\"url(#clip800)\" d=\"M1309.1 1532.4 L1314.96 1532.4 L1314.96 1568.04 L1309.1 1568.04 L1309.1 1532.4 M1309.1 1518.52 L1314.96 1518.52 L1314.96 1525.93 L1309.1 1525.93 L1309.1 1518.52 Z\" fill=\"#000000\" fill-rule=\"nonzero\" fill-opacity=\"1\" /><path clip-path=\"url(#clip800)\" d=\"M1341.03 1536.5 Q1336.32 1536.5 1333.58 1540.19 Q1330.84 1543.85 1330.84 1550.25 Q1330.84 1556.65 1333.55 1560.34 Q1336.29 1564 1341.03 1564 Q1345.71 1564 1348.44 1560.31 Q1351.18 1556.62 1351.18 1550.25 Q1351.18 1543.92 1348.44 1540.23 Q1345.71 1536.5 1341.03 1536.5 M1341.03 1531.54 Q1348.67 1531.54 1353.03 1536.5 Q1357.39 1541.47 1357.39 1550.25 Q1357.39 1559 1353.03 1564 Q1348.67 1568.97 1341.03 1568.97 Q1333.36 1568.97 1329 1564 Q1324.67 1559 1324.67 1550.25 Q1324.67 1541.47 1329 1536.5 Q1333.36 1531.54 1341.03 1531.54 Z\" fill=\"#000000\" fill-rule=\"nonzero\" fill-opacity=\"1\" /><path clip-path=\"url(#clip800)\" d=\"M1396.73 1546.53 L1396.73 1568.04 L1390.87 1568.04 L1390.87 1546.72 Q1390.87 1541.66 1388.9 1539.14 Q1386.93 1536.63 1382.98 1536.63 Q1378.24 1536.63 1375.5 1539.65 Q1372.76 1542.68 1372.76 1547.9 L1372.76 1568.04 L1366.87 1568.04 L1366.87 1532.4 L1372.76 1532.4 L1372.76 1537.93 Q1374.86 1534.72 1377.7 1533.13 Q1380.56 1531.54 1384.28 1531.54 Q1390.43 1531.54 1393.58 1535.36 Q1396.73 1539.14 1396.73 1546.53 Z\" fill=\"#000000\" fill-rule=\"nonzero\" fill-opacity=\"1\" /><path clip-path=\"url(#clip800)\" d=\"M1431.14 1533.45 L1431.14 1538.98 Q1428.65 1537.71 1425.98 1537.07 Q1423.31 1536.44 1420.44 1536.44 Q1416.08 1536.44 1413.88 1537.77 Q1411.72 1539.11 1411.72 1541.79 Q1411.72 1543.82 1413.28 1545 Q1414.84 1546.15 1419.55 1547.2 L1421.55 1547.64 Q1427.79 1548.98 1430.4 1551.43 Q1433.04 1553.85 1433.04 1558.21 Q1433.04 1563.17 1429.1 1566.07 Q1425.18 1568.97 1418.31 1568.97 Q1415.44 1568.97 1412.32 1568.39 Q1409.24 1567.85 1405.8 1566.74 L1405.8 1560.69 Q1409.05 1562.38 1412.2 1563.24 Q1415.35 1564.07 1418.44 1564.07 Q1422.57 1564.07 1424.8 1562.66 Q1427.03 1561.23 1427.03 1558.65 Q1427.03 1556.27 1425.41 1554.99 Q1423.81 1553.72 1418.37 1552.54 L1416.33 1552.07 Q1410.89 1550.92 1408.47 1548.56 Q1406.05 1546.18 1406.05 1542.04 Q1406.05 1537.01 1409.62 1534.27 Q1413.18 1531.54 1419.74 1531.54 Q1422.99 1531.54 1425.85 1532.01 Q1428.72 1532.49 1431.14 1533.45 Z\" fill=\"#000000\" fill-rule=\"nonzero\" fill-opacity=\"1\" /><polyline clip-path=\"url(#clip802)\" style=\"stroke:#000000; stroke-linecap:round; stroke-linejoin:round; stroke-width:2; stroke-opacity:0.1; fill:none\" points=\"212.459,1381 2352.76,1381 \"/>\n",
       "<polyline clip-path=\"url(#clip802)\" style=\"stroke:#000000; stroke-linecap:round; stroke-linejoin:round; stroke-width:2; stroke-opacity:0.1; fill:none\" points=\"212.459,1184.55 2352.76,1184.55 \"/>\n",
       "<polyline clip-path=\"url(#clip802)\" style=\"stroke:#000000; stroke-linecap:round; stroke-linejoin:round; stroke-width:2; stroke-opacity:0.1; fill:none\" points=\"212.459,988.101 2352.76,988.101 \"/>\n",
       "<polyline clip-path=\"url(#clip802)\" style=\"stroke:#000000; stroke-linecap:round; stroke-linejoin:round; stroke-width:2; stroke-opacity:0.1; fill:none\" points=\"212.459,791.651 2352.76,791.651 \"/>\n",
       "<polyline clip-path=\"url(#clip802)\" style=\"stroke:#000000; stroke-linecap:round; stroke-linejoin:round; stroke-width:2; stroke-opacity:0.1; fill:none\" points=\"212.459,595.2 2352.76,595.2 \"/>\n",
       "<polyline clip-path=\"url(#clip802)\" style=\"stroke:#000000; stroke-linecap:round; stroke-linejoin:round; stroke-width:2; stroke-opacity:0.1; fill:none\" points=\"212.459,398.75 2352.76,398.75 \"/>\n",
       "<polyline clip-path=\"url(#clip802)\" style=\"stroke:#000000; stroke-linecap:round; stroke-linejoin:round; stroke-width:2; stroke-opacity:0.1; fill:none\" points=\"212.459,202.3 2352.76,202.3 \"/>\n",
       "<polyline clip-path=\"url(#clip800)\" style=\"stroke:#000000; stroke-linecap:round; stroke-linejoin:round; stroke-width:4; stroke-opacity:1; fill:none\" points=\"212.459,1423.18 212.459,47.2441 \"/>\n",
       "<polyline clip-path=\"url(#clip800)\" style=\"stroke:#000000; stroke-linecap:round; stroke-linejoin:round; stroke-width:2; stroke-opacity:0.5; fill:none\" points=\"2352.76,1423.18 2352.76,47.2441 \"/>\n",
       "<polyline clip-path=\"url(#clip800)\" style=\"stroke:#000000; stroke-linecap:round; stroke-linejoin:round; stroke-width:4; stroke-opacity:1; fill:none\" points=\"212.459,1381 231.357,1381 \"/>\n",
       "<polyline clip-path=\"url(#clip800)\" style=\"stroke:#000000; stroke-linecap:round; stroke-linejoin:round; stroke-width:4; stroke-opacity:1; fill:none\" points=\"212.459,1184.55 231.357,1184.55 \"/>\n",
       "<polyline clip-path=\"url(#clip800)\" style=\"stroke:#000000; stroke-linecap:round; stroke-linejoin:round; stroke-width:4; stroke-opacity:1; fill:none\" points=\"212.459,988.101 231.357,988.101 \"/>\n",
       "<polyline clip-path=\"url(#clip800)\" style=\"stroke:#000000; stroke-linecap:round; stroke-linejoin:round; stroke-width:4; stroke-opacity:1; fill:none\" points=\"212.459,791.651 231.357,791.651 \"/>\n",
       "<polyline clip-path=\"url(#clip800)\" style=\"stroke:#000000; stroke-linecap:round; stroke-linejoin:round; stroke-width:4; stroke-opacity:1; fill:none\" points=\"212.459,595.2 231.357,595.2 \"/>\n",
       "<polyline clip-path=\"url(#clip800)\" style=\"stroke:#000000; stroke-linecap:round; stroke-linejoin:round; stroke-width:4; stroke-opacity:1; fill:none\" points=\"212.459,398.75 231.357,398.75 \"/>\n",
       "<polyline clip-path=\"url(#clip800)\" style=\"stroke:#000000; stroke-linecap:round; stroke-linejoin:round; stroke-width:4; stroke-opacity:1; fill:none\" points=\"212.459,202.3 231.357,202.3 \"/>\n",
       "<path clip-path=\"url(#clip800)\" d=\"M115.742 1381.45 L145.417 1381.45 L145.417 1385.39 L115.742 1385.39 L115.742 1381.45 Z\" fill=\"#000000\" fill-rule=\"nonzero\" fill-opacity=\"1\" /><path clip-path=\"url(#clip800)\" d=\"M155.556 1363.72 L173.913 1363.72 L173.913 1367.66 L159.839 1367.66 L159.839 1376.13 Q160.857 1375.78 161.876 1375.62 Q162.894 1375.43 163.913 1375.43 Q169.7 1375.43 173.079 1378.6 Q176.459 1381.78 176.459 1387.19 Q176.459 1392.77 172.987 1395.87 Q169.514 1398.95 163.195 1398.95 Q161.019 1398.95 158.751 1398.58 Q156.505 1398.21 154.098 1397.47 L154.098 1392.77 Q156.181 1393.91 158.403 1394.46 Q160.626 1395.02 163.102 1395.02 Q167.107 1395.02 169.445 1392.91 Q171.783 1390.8 171.783 1387.19 Q171.783 1383.58 169.445 1381.48 Q167.107 1379.37 163.102 1379.37 Q161.227 1379.37 159.353 1379.79 Q157.501 1380.2 155.556 1381.08 L155.556 1363.72 Z\" fill=\"#000000\" fill-rule=\"nonzero\" fill-opacity=\"1\" /><path clip-path=\"url(#clip800)\" d=\"M114.26 1185 L143.936 1185 L143.936 1188.94 L114.26 1188.94 L114.26 1185 Z\" fill=\"#000000\" fill-rule=\"nonzero\" fill-opacity=\"1\" /><path clip-path=\"url(#clip800)\" d=\"M166.876 1171.34 L155.07 1189.79 L166.876 1189.79 L166.876 1171.34 M165.649 1167.27 L171.528 1167.27 L171.528 1189.79 L176.459 1189.79 L176.459 1193.68 L171.528 1193.68 L171.528 1201.83 L166.876 1201.83 L166.876 1193.68 L151.274 1193.68 L151.274 1189.17 L165.649 1167.27 Z\" fill=\"#000000\" fill-rule=\"nonzero\" fill-opacity=\"1\" /><path clip-path=\"url(#clip800)\" d=\"M115.394 988.552 L145.07 988.552 L145.07 992.487 L115.394 992.487 L115.394 988.552 Z\" fill=\"#000000\" fill-rule=\"nonzero\" fill-opacity=\"1\" /><path clip-path=\"url(#clip800)\" d=\"M169.329 986.746 Q172.686 987.464 174.561 989.733 Q176.459 992.001 176.459 995.334 Q176.459 1000.45 172.94 1003.25 Q169.422 1006.05 162.94 1006.05 Q160.765 1006.05 158.45 1005.61 Q156.158 1005.2 153.704 1004.34 L153.704 999.825 Q155.649 1000.96 157.964 1001.54 Q160.278 1002.12 162.802 1002.12 Q167.2 1002.12 169.491 1000.38 Q171.806 998.645 171.806 995.334 Q171.806 992.279 169.653 990.566 Q167.524 988.83 163.704 988.83 L159.677 988.83 L159.677 984.987 L163.89 984.987 Q167.339 984.987 169.167 983.621 Q170.996 982.233 170.996 979.64 Q170.996 976.978 169.098 975.566 Q167.223 974.131 163.704 974.131 Q161.783 974.131 159.584 974.547 Q157.385 974.964 154.746 975.844 L154.746 971.677 Q157.408 970.936 159.723 970.566 Q162.061 970.196 164.121 970.196 Q169.445 970.196 172.547 972.626 Q175.649 975.034 175.649 979.154 Q175.649 982.024 174.005 984.015 Q172.362 985.983 169.329 986.746 Z\" fill=\"#000000\" fill-rule=\"nonzero\" fill-opacity=\"1\" /><path clip-path=\"url(#clip800)\" d=\"M116.343 792.102 L146.019 792.102 L146.019 796.037 L116.343 796.037 L116.343 792.102 Z\" fill=\"#000000\" fill-rule=\"nonzero\" fill-opacity=\"1\" /><path clip-path=\"url(#clip800)\" d=\"M160.14 804.995 L176.459 804.995 L176.459 808.931 L154.515 808.931 L154.515 804.995 Q157.177 802.241 161.76 797.611 Q166.366 792.958 167.547 791.616 Q169.792 789.093 170.672 787.357 Q171.575 785.597 171.575 783.908 Q171.575 781.153 169.63 779.417 Q167.709 777.681 164.607 777.681 Q162.408 777.681 159.954 778.445 Q157.524 779.208 154.746 780.759 L154.746 776.037 Q157.57 774.903 160.024 774.324 Q162.477 773.746 164.515 773.746 Q169.885 773.746 173.079 776.431 Q176.274 779.116 176.274 783.607 Q176.274 785.736 175.464 787.658 Q174.677 789.556 172.57 792.148 Q171.991 792.82 168.889 796.037 Q165.788 799.232 160.14 804.995 Z\" fill=\"#000000\" fill-rule=\"nonzero\" fill-opacity=\"1\" /><path clip-path=\"url(#clip800)\" d=\"M115.973 595.652 L145.649 595.652 L145.649 599.587 L115.973 599.587 L115.973 595.652 Z\" fill=\"#000000\" fill-rule=\"nonzero\" fill-opacity=\"1\" /><path clip-path=\"url(#clip800)\" d=\"M156.552 608.545 L164.19 608.545 L164.19 582.18 L155.88 583.846 L155.88 579.587 L164.144 577.92 L168.82 577.92 L168.82 608.545 L176.459 608.545 L176.459 612.48 L156.552 612.48 L156.552 608.545 Z\" fill=\"#000000\" fill-rule=\"nonzero\" fill-opacity=\"1\" /><path clip-path=\"url(#clip800)\" d=\"M164.515 384.549 Q160.903 384.549 159.075 388.114 Q157.269 391.656 157.269 398.785 Q157.269 405.892 159.075 409.456 Q160.903 412.998 164.515 412.998 Q168.149 412.998 169.954 409.456 Q171.783 405.892 171.783 398.785 Q171.783 391.656 169.954 388.114 Q168.149 384.549 164.515 384.549 M164.515 380.845 Q170.325 380.845 173.38 385.452 Q176.459 390.035 176.459 398.785 Q176.459 407.512 173.38 412.118 Q170.325 416.702 164.515 416.702 Q158.704 416.702 155.626 412.118 Q152.57 407.512 152.57 398.785 Q152.57 390.035 155.626 385.452 Q158.704 380.845 164.515 380.845 Z\" fill=\"#000000\" fill-rule=\"nonzero\" fill-opacity=\"1\" /><path clip-path=\"url(#clip800)\" d=\"M156.552 215.645 L164.19 215.645 L164.19 189.28 L155.88 190.946 L155.88 186.687 L164.144 185.02 L168.82 185.02 L168.82 215.645 L176.459 215.645 L176.459 219.58 L156.552 219.58 L156.552 215.645 Z\" fill=\"#000000\" fill-rule=\"nonzero\" fill-opacity=\"1\" /><path clip-path=\"url(#clip800)\" d=\"M16.4842 826.846 L16.4842 796.8 L21.895 796.8 L21.895 820.417 L35.9632 820.417 L35.9632 797.787 L41.3741 797.787 L41.3741 820.417 L58.5933 820.417 L58.5933 796.227 L64.0042 796.227 L64.0042 826.846 L16.4842 826.846 Z\" fill=\"#000000\" fill-rule=\"nonzero\" fill-opacity=\"1\" /><path clip-path=\"url(#clip800)\" d=\"M33.8307 765.258 Q33.2578 766.245 33.0032 767.422 Q32.7167 768.568 32.7167 769.969 Q32.7167 774.934 35.9632 777.608 Q39.1779 780.249 45.2253 780.249 L64.0042 780.249 L64.0042 786.138 L28.3562 786.138 L28.3562 780.249 L33.8944 780.249 Q30.6479 778.403 29.0883 775.443 Q27.4968 772.483 27.4968 768.25 Q27.4968 767.645 27.5923 766.913 Q27.656 766.181 27.8151 765.29 L33.8307 765.258 Z\" fill=\"#000000\" fill-rule=\"nonzero\" fill-opacity=\"1\" /><path clip-path=\"url(#clip800)\" d=\"M33.8307 739.604 Q33.2578 740.591 33.0032 741.769 Q32.7167 742.914 32.7167 744.315 Q32.7167 749.28 35.9632 751.954 Q39.1779 754.596 45.2253 754.596 L64.0042 754.596 L64.0042 760.484 L28.3562 760.484 L28.3562 754.596 L33.8944 754.596 Q30.6479 752.749 29.0883 749.789 Q27.4968 746.829 27.4968 742.596 Q27.4968 741.991 27.5923 741.259 Q27.656 740.527 27.8151 739.636 L33.8307 739.604 Z\" fill=\"#000000\" fill-rule=\"nonzero\" fill-opacity=\"1\" /><path clip-path=\"url(#clip800)\" d=\"M32.4621 721.08 Q32.4621 725.791 36.1542 728.528 Q39.8145 731.265 46.212 731.265 Q52.6095 731.265 56.3017 728.56 Q59.9619 725.823 59.9619 721.08 Q59.9619 716.401 56.2698 713.664 Q52.5777 710.927 46.212 710.927 Q39.8781 710.927 36.186 713.664 Q32.4621 716.401 32.4621 721.08 M27.4968 721.08 Q27.4968 713.441 32.4621 709.081 Q37.4273 704.72 46.212 704.72 Q54.9649 704.72 59.9619 709.081 Q64.9272 713.441 64.9272 721.08 Q64.9272 728.751 59.9619 733.111 Q54.9649 737.44 46.212 737.44 Q37.4273 737.44 32.4621 733.111 Q27.4968 728.751 27.4968 721.08 Z\" fill=\"#000000\" fill-rule=\"nonzero\" fill-opacity=\"1\" /><path clip-path=\"url(#clip800)\" d=\"M33.8307 674.356 Q33.2578 675.342 33.0032 676.52 Q32.7167 677.666 32.7167 679.066 Q32.7167 684.032 35.9632 686.705 Q39.1779 689.347 45.2253 689.347 L64.0042 689.347 L64.0042 695.235 L28.3562 695.235 L28.3562 689.347 L33.8944 689.347 Q30.6479 687.501 29.0883 684.541 Q27.4968 681.581 27.4968 677.348 Q27.4968 676.743 27.5923 676.011 Q27.656 675.279 27.8151 674.388 L33.8307 674.356 Z\" fill=\"#000000\" fill-rule=\"nonzero\" fill-opacity=\"1\" /><path clip-path=\"url(#clip800)\" d=\"M29.4065 645.487 L34.9447 645.487 Q33.6716 647.97 33.035 650.644 Q32.3984 653.317 32.3984 656.182 Q32.3984 660.542 33.7352 662.738 Q35.072 664.903 37.7456 664.903 Q39.7826 664.903 40.9603 663.343 Q42.1061 661.784 43.1565 657.073 L43.6021 655.068 Q44.9389 648.829 47.3897 646.219 Q49.8086 643.578 54.1691 643.578 Q59.1344 643.578 62.0308 647.524 Q64.9272 651.439 64.9272 658.314 Q64.9272 661.179 64.3543 664.298 Q63.8132 667.385 62.6992 670.823 L56.6518 670.823 Q58.3387 667.576 59.198 664.425 Q60.0256 661.274 60.0256 658.187 Q60.0256 654.049 58.6251 651.821 Q57.1929 649.593 54.6147 649.593 Q52.2276 649.593 50.9545 651.216 Q49.6813 652.808 48.5037 658.251 L48.0262 660.288 Q46.8804 665.73 44.5251 668.149 Q42.138 670.568 38.0002 670.568 Q32.9713 670.568 30.2341 667.003 Q27.4968 663.439 27.4968 656.882 Q27.4968 653.635 27.9743 650.771 Q28.4517 647.906 29.4065 645.487 Z\" fill=\"#000000\" fill-rule=\"nonzero\" fill-opacity=\"1\" /><polyline clip-path=\"url(#clip802)\" style=\"stroke:#0000ff; stroke-linecap:round; stroke-linejoin:round; stroke-width:4; stroke-opacity:1; fill:none\" points=\"281.142,312.622 289.251,420.46 297.36,470.438 305.469,503.639 313.578,528.674 321.688,548.842 329.797,565.828 337.906,580.555 346.015,593.593 354.124,605.355 362.233,616.095 370.342,626.008 378.451,635.238 386.56,643.897 394.669,652.07 402.778,659.825 410.887,667.217 418.996,674.291 427.105,681.085 435.214,687.63 443.323,693.953 451.432,700.075 459.541,706.018 467.65,711.798 475.759,717.428 483.868,722.924 491.977,728.295 500.086,733.552 508.195,738.704 516.304,743.759 524.413,748.724 532.522,753.607 540.631,758.412 548.74,763.145 556.849,767.811 564.958,772.415 573.067,776.96 581.176,781.45 589.285,785.889 597.394,790.28 605.504,794.626 613.613,798.928 621.722,803.191 629.831,807.416 637.94,811.605 646.049,815.76 654.158,819.884 662.267,823.977 670.376,828.042 678.485,832.08 686.594,836.092 694.703,840.081 702.812,844.046 710.921,847.989 719.03,851.911 727.139,855.814 735.248,859.698 743.357,863.564 751.466,867.414 759.575,871.247 767.684,875.065 775.793,878.868 783.902,882.657 792.011,886.433 800.12,890.196 808.229,893.947 816.338,897.687 824.447,901.416 832.556,905.134 840.665,908.842 848.774,912.541 856.883,916.23 864.992,919.911 873.101,923.583 881.21,927.247 889.32,930.904 897.429,934.554 905.538,938.196 913.647,941.832 921.756,945.461 929.865,949.085 937.974,952.702 946.083,956.314 954.192,959.921 962.301,963.522 970.41,967.119 978.519,970.71 986.628,974.298 994.737,977.881 1002.85,981.46 1010.95,985.035 1019.06,988.606 1027.17,992.174 1035.28,995.738 1043.39,999.299 1051.5,1002.86 1059.61,1006.41 1067.72,1009.96 1075.83,1013.51 1083.94,1017.06 1092.05,1020.6 1100.15,1024.14 1108.26,1027.68 1116.37,1031.22 1124.48,1034.75 1132.59,1038.28 1140.7,1041.81 1148.81,1045.34 1156.92,1048.87 1165.03,1052.39 1173.14,1055.92 1181.24,1059.44 1189.35,1062.96 1197.46,1066.48 1205.57,1069.99 1213.68,1073.51 1221.79,1077.02 1229.9,1080.53 1238.01,1084.05 1246.12,1087.56 1254.23,1091.07 1262.33,1094.57 1270.44,1098.08 1278.55,1101.59 1286.66,1105.09 1294.77,1108.6 1302.88,1112.1 1310.99,1115.6 1319.1,1119.11 1327.21,1122.61 1335.32,1126.11 1343.43,1129.61 1351.53,1133.11 1359.64,1136.61 1367.75,1140.1 1375.86,1143.6 1383.97,1147.1 1392.08,1150.59 1400.19,1154.09 1408.3,1157.58 1416.41,1161.08 1424.52,1164.57 1432.62,1168.07 1440.73,1171.56 1448.84,1175.05 1456.95,1178.54 1465.06,1182.04 1473.17,1185.53 1481.28,1189.02 1489.39,1192.51 1497.5,1196 1505.61,1199.49 1513.71,1202.98 1521.82,1206.47 1529.93,1209.96 1538.04,1213.45 1546.15,1216.94 1554.26,1220.43 1562.37,1223.91 1570.48,1227.4 1578.59,1230.89 1586.7,1234.38 1594.81,1237.87 1602.91,1241.35 1611.02,1244.84 1619.13,1248.33 1627.24,1251.81 1635.35,1255.3 1643.46,1258.79 1651.57,1262.27 1659.68,1265.76 1667.79,1269.25 1675.9,1272.73 1684,1276.22 1692.11,1279.7 1700.22,1283.19 1708.33,1286.68 1716.44,1290.16 1724.55,1293.65 1732.66,1297.13 1740.77,1300.62 1748.88,1304.1 1756.99,1307.59 1765.09,1311.07 1773.2,1314.56 1781.31,1318.04 1789.42,1321.53 1797.53,1325.01 1805.64,1328.49 1813.75,1331.98 1821.86,1335.46 1829.97,1338.95 1838.08,1342.43 1846.18,1345.92 1854.29,1349.4 1862.4,1352.88 1870.51,1356.37 1878.62,1359.85 1886.73,1363.34 1894.84,1366.82 1902.95,1370.3 1911.06,1373.79 1919.17,1377.27 1927.28,1380.75 1935.38,1384.24 \"/>\n",
       "<polyline clip-path=\"url(#clip802)\" style=\"stroke:#e26f46; stroke-linecap:round; stroke-linejoin:round; stroke-width:4; stroke-opacity:1; fill:none\" points=\"273.033,398.75 281.142,86.1857 289.251,202.3 297.36,280.476 305.469,339.613 313.578,398.75 321.688,398.75 329.797,398.75 337.906,398.75 346.015,398.75 \"/>\n",
       "</svg>\n"
      ]
     },
     "execution_count": 26,
     "metadata": {},
     "output_type": "execute_result"
    }
   ],
   "source": [
    "time = 1:250 #params.maxit\n",
    "\n",
    "plt = plot(time, log10.(dif[1, :]),\n",
    "    color = :blue,\n",
    "    legend = :none,\n",
    "    xlabel = (\"Iterations\"),\n",
    "    ylabel = (\"Errors\"),\n",
    "    framestyle = :semi\n",
    ")\n",
    "plot!(time, log10.(dif[2, :]))"
   ]
  }
 ],
 "metadata": {
  "celltoolbar": "Slideshow",
  "kernelspec": {
   "display_name": "Julia 1.8.3",
   "language": "julia",
   "name": "julia-1.8"
  },
  "language_info": {
   "file_extension": ".jl",
   "mimetype": "application/julia",
   "name": "julia",
   "version": "1.8.3"
  },
  "vscode": {
   "interpreter": {
    "hash": "a407c4a5571f00fca8e41cb393148e04cd848f865da47001b38d4cd9a4314d58"
   }
  }
 },
 "nbformat": 4,
 "nbformat_minor": 4
}

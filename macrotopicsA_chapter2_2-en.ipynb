{
 "cells": [
  {
   "cell_type": "code",
   "execution_count": 1,
   "metadata": {
    "slideshow": {
     "slide_type": "skip"
    }
   },
   "outputs": [],
   "source": [
    "struct Models\n",
    "    # parameters\n",
    "    β::Float64 # discount factor\n",
    "    γ::Float64 # relative risk aversion\n",
    "    \n",
    "    # factor price\n",
    "    rent::Float64 # net interest rate\n",
    "    \n",
    "    # grid\n",
    "    nw::Int64 # the number of income grid\n",
    "    w_max::Float64 # the maximum value of income grid\n",
    "    w_min::Float64 # the minimum value of income grid\n",
    "    grid_w::Vector{Float64} # income grid\n",
    "end"
   ]
  },
  {
   "cell_type": "code",
   "execution_count": 2,
   "metadata": {
    "slideshow": {
     "slide_type": "skip"
    }
   },
   "outputs": [
    {
     "data": {
      "text/plain": [
       "Calibration (generic function with 1 method)"
      ]
     },
     "execution_count": 2,
     "metadata": {},
     "output_type": "execute_result"
    }
   ],
   "source": [
    "function Calibration()\n",
    "    # set parameters here\n",
    "    β = 0.985^30\n",
    "    γ = 2.0\n",
    "    rent = 1.025^30 - 1.0\n",
    "    nw = 10\n",
    "    w_max = 1.0\n",
    "    w_min = 0.1\n",
    "\n",
    "    grid_w = collect(LinRange(w_min, w_max, nw))\n",
    "\n",
    "    return Models(β, γ, rent, nw, w_max, w_min, grid_w)\n",
    "end"
   ]
  },
  {
   "cell_type": "code",
   "execution_count": 3,
   "metadata": {
    "slideshow": {
     "slide_type": "skip"
    }
   },
   "outputs": [
    {
     "data": {
      "text/plain": [
       "CRRA (generic function with 1 method)"
      ]
     },
     "execution_count": 3,
     "metadata": {},
     "output_type": "execute_result"
    }
   ],
   "source": [
    "function CRRA(cons::Float64, γ::Float64)\n",
    "    if γ != 1.0\n",
    "       return cons^(1.0-γ) / (1.0-γ) \n",
    "    else\n",
    "       return log(cons)\n",
    "    end\n",
    "end"
   ]
  },
  {
   "cell_type": "code",
   "execution_count": 10,
   "metadata": {
    "slideshow": {
     "slide_type": "skip"
    }
   },
   "outputs": [],
   "source": [
    "# Load the required packages\n",
    "using Plots\n",
    "# pyplot()\n",
    "using Optim # A Julia's Optimization Tool: There are many others"
   ]
  },
  {
   "cell_type": "markdown",
   "metadata": {
    "slideshow": {
     "slide_type": "slide"
    }
   },
   "source": [
    "# Control variable is continuous: Optimization\n",
    "<!-- # 操作変数を連続変数にする：最適化 -->\n",
    "\n",
    "- The approach that discretizes both state and control variables has very poor approximation when we save the number of discretized grid points\n",
    "<!-- - 状態変数と操作変数をともに離散化するアプローチは、離散化するグリッドの数を節約すると精度が非常に悪くなる -->\n",
    "\n",
    "- The true solution of Eq. (4) is linear, but the saving function with $J=40$ is not linear\n",
    "<!-- - 本来の解である(4)式は線形であるはずなのに、$J=40$のときの貯蓄関数は直線ではない -->\n",
    "\n",
    "- We consider a little bit more sophisticated approach: The state variable are discretized whereas the control variable takes continuous values\n",
    "<!-- - そこで、もう少し洗練されたアプローチを考える：状態変数は離散化するが、操作変数については連続的な値をとる -->"
   ]
  },
  {
   "cell_type": "markdown",
   "metadata": {
    "slideshow": {
     "slide_type": "subslide"
    }
   },
   "source": [
    "- The utility miaximization problem of an economic agent, regarding each $w_{i}$ for $i=1,\\dots,I$, solves\n",
    "<!-- - 経済主体の最適化問題は、各$w_{i}$ for $i=1,\\dots,I$について、 -->\n",
    "\n",
    "$$\n",
    "  \\max_{a} \\frac{[w_{i}-a]^{1-\\gamma}}{1-\\gamma}+\\beta\\frac{[(1+r)-a]^{1-\\gamma}}{1-\\gamma} \\tag{6}\n",
    "$$\n",
    "\n",
    "where the control variable $a\\in\\mathbb{R}$ can take any real number\n",
    "<!-- となるが、操作変数$a\\in\\mathbb{R}$については任意の実数をとりうる -->"
   ]
  },
  {
   "cell_type": "code",
   "execution_count": 5,
   "metadata": {
    "slideshow": {
     "slide_type": "subslide"
    }
   },
   "outputs": [
    {
     "data": {
      "text/plain": [
       "obj_two_period (generic function with 1 method)"
      ]
     },
     "execution_count": 5,
     "metadata": {},
     "output_type": "execute_result"
    }
   ],
   "source": [
    "function obj_two_period(a::Float64, w_val::Float64, params::Models)\n",
    "\n",
    "    # Utility in the first period\n",
    "    if w_val - a > 0.0 # Note that utility cannot be calculated unless c=w-a>0\n",
    "        util_y = CRRA(w_val - a, params.γ)\n",
    "    else\n",
    "        util_y = -1000000.0 # Penalty for negative consumption\n",
    "    end\n",
    "\n",
    "    # Discounted utility in the second period\n",
    "    util_o = params.β*CRRA((1.0 + params.rent)*a, params.γ)\n",
    "    \n",
    "    # Julia's optimize finds the minimum, so multiply -1.0 to obtain the maximum\n",
    "    return  -1.0*(util_y + util_o)\n",
    "\n",
    "end"
   ]
  },
  {
   "cell_type": "markdown",
   "metadata": {
    "slideshow": {
     "slide_type": "subslide"
    }
   },
   "source": [
    "- How to get the solution of Eq. (6)?\n",
    "<!-- - どうやって(6)式の解を得ればよいのであろうか？ -->\n",
    "\n",
    "- For now, use the library called optimization\n",
    "<!-- - とりあえず、最適化(optimization)と呼ばれるライブラリを使う -->\n",
    "    - For MATLAB, fminsearch and fminbnd in Optimization Toolbox\n",
    "    - For Python, fmin in Scipy\n",
    "    - For Julia, functions in Optim.jl\n",
    "<!--     - MATLABであれば、Optimization Toolboxにある関数fminsearchやfminbnd -->\n",
    "<!--     - Pythonであれば、SciPyにある関数fmin -->\n",
    "<!--     - Juliaであれば、Optim.jlにある関数 -->"
   ]
  },
  {
   "cell_type": "markdown",
   "metadata": {
    "slideshow": {
     "slide_type": "subslide"
    }
   },
   "source": [
    "- Algorithm\n",
    "<!-- - アルゴリズム -->\n",
    "\n",
    "1. Set parameters (calibration)\n",
    "\n",
    "2. Let $w_{i}\\in\\{w_{1},\\dots,w_{I}\\}$ be the discretized income in the young period\n",
    "\n",
    "3. Find $a$ such that maximizes (6) for each $w_{i}$ using optimization function in each language\n",
    "\n",
    "4. The obtained combination of $w_{i}$ and $a$ is the saving function\n",
    "\n",
    "<!-- 1. パラメータを設定する（カリブレーション）。\n",
    "\n",
    "2. $w_{i}\\in\\{w_{1},\\dots,w_{I}\\}$を離散化した若年期の所得とする。\n",
    "\n",
    "3. 各$w_{i}$について、(6)式を最大にするような$a$を探し出す。各言語の最適化関数を利用する。\n",
    "\n",
    "4. 得られた各$w_{i}$と$a$の組み合わせが貯蓄関数である。 -->"
   ]
  },
  {
   "cell_type": "code",
   "execution_count": 11,
   "metadata": {
    "slideshow": {
     "slide_type": "subslide"
    }
   },
   "outputs": [
    {
     "name": "stdout",
     "output_type": "stream",
     "text": [
      "[0.035500888178047925, 0.07100177635609585, 0.10650266453414378, 0.1420035527121917, 0.17750444089023965, 0.21300532906828756, 0.24850621724633548, 0.2840071054243834, 0.3195079857755279, 0.3550088817804793]"
     ]
    }
   ],
   "source": [
    "# Put parameters set beforehand together into a variable params\n",
    "params = Calibration()\n",
    "\n",
    "# Prepare empty variables\n",
    "a_gs = zeros(params.nw)\n",
    "\n",
    "# Find the saving level a such that maximizes the objective function for each w\n",
    "for i = 1:params.nw\n",
    "\n",
    "    w_val = params.grid_w[i]\n",
    "\n",
    "    # \"Redefine\" function obj_two_period\n",
    "    # Make a function which has a as the only argument: Function inside optimize must be the original function with given parameters\n",
    "    obj_two_period!(a) = obj_two_period(a, w_val, params)\n",
    "\n",
    "    # Calculate by Golden Section Search\n",
    "    # Usage: Indicate the range to find the optimal value of a, [w_val*0.01, w_val*2.0]\n",
    "    # An algorithm to find a to minimize (maximize) the function within the range\n",
    "    res = optimize(obj_two_period!, w_val*0.01, w_val*2.0, GoldenSection())\n",
    "\n",
    "    a_gs[i] = res.minimizer\n",
    "end\n",
    "\n",
    "print(a_gs)"
   ]
  },
  {
   "cell_type": "markdown",
   "metadata": {
    "slideshow": {
     "slide_type": "subslide"
    }
   },
   "source": [
    "- Figure shows the saving function plotted by finding the optimal $a$ for each $w_{i}$. This approach has better approximation by making the control variable continuous \n",
    "<!-- - 図は、Pythonの最適化関数scipy.optimize.fminboundを使って、各$w_{i}$における最適な$a$を探してプロットした貯蓄関数。操作変数が取りうる値を連続にすることで、計算精度が大幅に改善された。 -->"
   ]
  },
  {
   "cell_type": "code",
   "execution_count": 12,
   "metadata": {
    "slideshow": {
     "slide_type": "skip"
    }
   },
   "outputs": [
    {
     "data": {
      "text/plain": [
       "10-element Vector{Float64}:\n",
       " 0.03550088777115455\n",
       " 0.0710017755423091\n",
       " 0.10650266331346364\n",
       " 0.1420035510846182\n",
       " 0.17750443885577274\n",
       " 0.21300532662692728\n",
       " 0.24850621439808182\n",
       " 0.2840071021692364\n",
       " 0.3195079899403909\n",
       " 0.3550088777115455"
      ]
     },
     "execution_count": 12,
     "metadata": {},
     "output_type": "execute_result"
    }
   ],
   "source": [
    "# Analytical solution: Eq. (2.4)\n",
    "coef1 = (params.β*(1.0 + params.rent))^(-1.0/params.γ)\n",
    "coef2 = 1.0/(1.0+coef1*(1.0 + params.rent))\n",
    "a_cfs = coef2*params.grid_w"
   ]
  },
  {
   "cell_type": "code",
   "execution_count": 16,
   "metadata": {
    "slideshow": {
     "slide_type": "fragment"
    }
   },
   "outputs": [
    {
     "data": {
      "image/svg+xml": [
       "<?xml version=\"1.0\" encoding=\"utf-8\"?>\n",
       "<svg xmlns=\"http://www.w3.org/2000/svg\" xmlns:xlink=\"http://www.w3.org/1999/xlink\" width=\"600\" height=\"400\" viewBox=\"0 0 2400 1600\">\n",
       "<defs>\n",
       "  <clipPath id=\"clip310\">\n",
       "    <rect x=\"0\" y=\"0\" width=\"2400\" height=\"1600\"/>\n",
       "  </clipPath>\n",
       "</defs>\n",
       "<path clip-path=\"url(#clip310)\" d=\"M0 1600 L2400 1600 L2400 0 L0 0  Z\" fill=\"#ffffff\" fill-rule=\"evenodd\" fill-opacity=\"1\"/>\n",
       "<defs>\n",
       "  <clipPath id=\"clip311\">\n",
       "    <rect x=\"480\" y=\"0\" width=\"1681\" height=\"1600\"/>\n",
       "  </clipPath>\n",
       "</defs>\n",
       "<path clip-path=\"url(#clip310)\" d=\"M219.866 1423.18 L2352.76 1423.18 L2352.76 47.2441 L219.866 47.2441  Z\" fill=\"#ffffff\" fill-rule=\"evenodd\" fill-opacity=\"1\"/>\n",
       "<defs>\n",
       "  <clipPath id=\"clip312\">\n",
       "    <rect x=\"219\" y=\"47\" width=\"2134\" height=\"1377\"/>\n",
       "  </clipPath>\n",
       "</defs>\n",
       "<polyline clip-path=\"url(#clip312)\" style=\"stroke:#000000; stroke-linecap:round; stroke-linejoin:round; stroke-width:2; stroke-opacity:0.1; fill:none\" points=\"219.866,1423.18 219.866,47.2441 \"/>\n",
       "<polyline clip-path=\"url(#clip312)\" style=\"stroke:#000000; stroke-linecap:round; stroke-linejoin:round; stroke-width:2; stroke-opacity:0.1; fill:none\" points=\"646.444,1423.18 646.444,47.2441 \"/>\n",
       "<polyline clip-path=\"url(#clip312)\" style=\"stroke:#000000; stroke-linecap:round; stroke-linejoin:round; stroke-width:2; stroke-opacity:0.1; fill:none\" points=\"1073.02,1423.18 1073.02,47.2441 \"/>\n",
       "<polyline clip-path=\"url(#clip312)\" style=\"stroke:#000000; stroke-linecap:round; stroke-linejoin:round; stroke-width:2; stroke-opacity:0.1; fill:none\" points=\"1499.6,1423.18 1499.6,47.2441 \"/>\n",
       "<polyline clip-path=\"url(#clip312)\" style=\"stroke:#000000; stroke-linecap:round; stroke-linejoin:round; stroke-width:2; stroke-opacity:0.1; fill:none\" points=\"1926.18,1423.18 1926.18,47.2441 \"/>\n",
       "<polyline clip-path=\"url(#clip312)\" style=\"stroke:#000000; stroke-linecap:round; stroke-linejoin:round; stroke-width:2; stroke-opacity:0.1; fill:none\" points=\"2352.76,1423.18 2352.76,47.2441 \"/>\n",
       "<polyline clip-path=\"url(#clip310)\" style=\"stroke:#000000; stroke-linecap:round; stroke-linejoin:round; stroke-width:4; stroke-opacity:1; fill:none\" points=\"219.866,1423.18 2352.76,1423.18 \"/>\n",
       "<polyline clip-path=\"url(#clip310)\" style=\"stroke:#000000; stroke-linecap:round; stroke-linejoin:round; stroke-width:2; stroke-opacity:0.5; fill:none\" points=\"219.866,47.2441 2352.76,47.2441 \"/>\n",
       "<polyline clip-path=\"url(#clip310)\" style=\"stroke:#000000; stroke-linecap:round; stroke-linejoin:round; stroke-width:4; stroke-opacity:1; fill:none\" points=\"219.866,1423.18 219.866,1404.28 \"/>\n",
       "<polyline clip-path=\"url(#clip310)\" style=\"stroke:#000000; stroke-linecap:round; stroke-linejoin:round; stroke-width:4; stroke-opacity:1; fill:none\" points=\"646.444,1423.18 646.444,1404.28 \"/>\n",
       "<polyline clip-path=\"url(#clip310)\" style=\"stroke:#000000; stroke-linecap:round; stroke-linejoin:round; stroke-width:4; stroke-opacity:1; fill:none\" points=\"1073.02,1423.18 1073.02,1404.28 \"/>\n",
       "<polyline clip-path=\"url(#clip310)\" style=\"stroke:#000000; stroke-linecap:round; stroke-linejoin:round; stroke-width:4; stroke-opacity:1; fill:none\" points=\"1499.6,1423.18 1499.6,1404.28 \"/>\n",
       "<polyline clip-path=\"url(#clip310)\" style=\"stroke:#000000; stroke-linecap:round; stroke-linejoin:round; stroke-width:4; stroke-opacity:1; fill:none\" points=\"1926.18,1423.18 1926.18,1404.28 \"/>\n",
       "<polyline clip-path=\"url(#clip310)\" style=\"stroke:#000000; stroke-linecap:round; stroke-linejoin:round; stroke-width:4; stroke-opacity:1; fill:none\" points=\"2352.76,1423.18 2352.76,1404.28 \"/>\n",
       "<path clip-path=\"url(#clip310)\" d=\"M197.251 1454.1 Q193.64 1454.1 191.811 1457.66 Q190.005 1461.2 190.005 1468.33 Q190.005 1475.44 191.811 1479.01 Q193.64 1482.55 197.251 1482.55 Q200.885 1482.55 202.69 1479.01 Q204.519 1475.44 204.519 1468.33 Q204.519 1461.2 202.69 1457.66 Q200.885 1454.1 197.251 1454.1 M197.251 1450.39 Q203.061 1450.39 206.116 1455 Q209.195 1459.58 209.195 1468.33 Q209.195 1477.06 206.116 1481.67 Q203.061 1486.25 197.251 1486.25 Q191.44 1486.25 188.362 1481.67 Q185.306 1477.06 185.306 1468.33 Q185.306 1459.58 188.362 1455 Q191.44 1450.39 197.251 1450.39 Z\" fill=\"#000000\" fill-rule=\"nonzero\" fill-opacity=\"1\" /><path clip-path=\"url(#clip310)\" d=\"M217.413 1479.7 L222.297 1479.7 L222.297 1485.58 L217.413 1485.58 L217.413 1479.7 Z\" fill=\"#000000\" fill-rule=\"nonzero\" fill-opacity=\"1\" /><path clip-path=\"url(#clip310)\" d=\"M242.482 1454.1 Q238.871 1454.1 237.042 1457.66 Q235.237 1461.2 235.237 1468.33 Q235.237 1475.44 237.042 1479.01 Q238.871 1482.55 242.482 1482.55 Q246.116 1482.55 247.922 1479.01 Q249.75 1475.44 249.75 1468.33 Q249.75 1461.2 247.922 1457.66 Q246.116 1454.1 242.482 1454.1 M242.482 1450.39 Q248.292 1450.39 251.348 1455 Q254.426 1459.58 254.426 1468.33 Q254.426 1477.06 251.348 1481.67 Q248.292 1486.25 242.482 1486.25 Q236.672 1486.25 233.593 1481.67 Q230.538 1477.06 230.538 1468.33 Q230.538 1459.58 233.593 1455 Q236.672 1450.39 242.482 1450.39 Z\" fill=\"#000000\" fill-rule=\"nonzero\" fill-opacity=\"1\" /><path clip-path=\"url(#clip310)\" d=\"M624.627 1454.1 Q621.016 1454.1 619.187 1457.66 Q617.382 1461.2 617.382 1468.33 Q617.382 1475.44 619.187 1479.01 Q621.016 1482.55 624.627 1482.55 Q628.261 1482.55 630.067 1479.01 Q631.896 1475.44 631.896 1468.33 Q631.896 1461.2 630.067 1457.66 Q628.261 1454.1 624.627 1454.1 M624.627 1450.39 Q630.437 1450.39 633.493 1455 Q636.572 1459.58 636.572 1468.33 Q636.572 1477.06 633.493 1481.67 Q630.437 1486.25 624.627 1486.25 Q618.817 1486.25 615.738 1481.67 Q612.683 1477.06 612.683 1468.33 Q612.683 1459.58 615.738 1455 Q618.817 1450.39 624.627 1450.39 Z\" fill=\"#000000\" fill-rule=\"nonzero\" fill-opacity=\"1\" /><path clip-path=\"url(#clip310)\" d=\"M644.789 1479.7 L649.673 1479.7 L649.673 1485.58 L644.789 1485.58 L644.789 1479.7 Z\" fill=\"#000000\" fill-rule=\"nonzero\" fill-opacity=\"1\" /><path clip-path=\"url(#clip310)\" d=\"M663.886 1481.64 L680.206 1481.64 L680.206 1485.58 L658.261 1485.58 L658.261 1481.64 Q660.923 1478.89 665.507 1474.26 Q670.113 1469.61 671.294 1468.27 Q673.539 1465.74 674.419 1464.01 Q675.321 1462.25 675.321 1460.56 Q675.321 1457.8 673.377 1456.07 Q671.456 1454.33 668.354 1454.33 Q666.155 1454.33 663.701 1455.09 Q661.271 1455.86 658.493 1457.41 L658.493 1452.69 Q661.317 1451.55 663.77 1450.97 Q666.224 1450.39 668.261 1450.39 Q673.632 1450.39 676.826 1453.08 Q680.02 1455.77 680.02 1460.26 Q680.02 1462.39 679.21 1464.31 Q678.423 1466.2 676.317 1468.8 Q675.738 1469.47 672.636 1472.69 Q669.534 1475.88 663.886 1481.64 Z\" fill=\"#000000\" fill-rule=\"nonzero\" fill-opacity=\"1\" /><path clip-path=\"url(#clip310)\" d=\"M1050.16 1454.1 Q1046.55 1454.1 1044.72 1457.66 Q1042.92 1461.2 1042.92 1468.33 Q1042.92 1475.44 1044.72 1479.01 Q1046.55 1482.55 1050.16 1482.55 Q1053.8 1482.55 1055.6 1479.01 Q1057.43 1475.44 1057.43 1468.33 Q1057.43 1461.2 1055.6 1457.66 Q1053.8 1454.1 1050.16 1454.1 M1050.16 1450.39 Q1055.97 1450.39 1059.03 1455 Q1062.11 1459.58 1062.11 1468.33 Q1062.11 1477.06 1059.03 1481.67 Q1055.97 1486.25 1050.16 1486.25 Q1044.35 1486.25 1041.27 1481.67 Q1038.22 1477.06 1038.22 1468.33 Q1038.22 1459.58 1041.27 1455 Q1044.35 1450.39 1050.16 1450.39 Z\" fill=\"#000000\" fill-rule=\"nonzero\" fill-opacity=\"1\" /><path clip-path=\"url(#clip310)\" d=\"M1070.33 1479.7 L1075.21 1479.7 L1075.21 1485.58 L1070.33 1485.58 L1070.33 1479.7 Z\" fill=\"#000000\" fill-rule=\"nonzero\" fill-opacity=\"1\" /><path clip-path=\"url(#clip310)\" d=\"M1098.24 1455.09 L1086.44 1473.54 L1098.24 1473.54 L1098.24 1455.09 M1097.02 1451.02 L1102.89 1451.02 L1102.89 1473.54 L1107.83 1473.54 L1107.83 1477.43 L1102.89 1477.43 L1102.89 1485.58 L1098.24 1485.58 L1098.24 1477.43 L1082.64 1477.43 L1082.64 1472.92 L1097.02 1451.02 Z\" fill=\"#000000\" fill-rule=\"nonzero\" fill-opacity=\"1\" /><path clip-path=\"url(#clip310)\" d=\"M1476.9 1454.1 Q1473.29 1454.1 1471.46 1457.66 Q1469.66 1461.2 1469.66 1468.33 Q1469.66 1475.44 1471.46 1479.01 Q1473.29 1482.55 1476.9 1482.55 Q1480.54 1482.55 1482.34 1479.01 Q1484.17 1475.44 1484.17 1468.33 Q1484.17 1461.2 1482.34 1457.66 Q1480.54 1454.1 1476.9 1454.1 M1476.9 1450.39 Q1482.71 1450.39 1485.77 1455 Q1488.85 1459.58 1488.85 1468.33 Q1488.85 1477.06 1485.77 1481.67 Q1482.71 1486.25 1476.9 1486.25 Q1471.09 1486.25 1468.01 1481.67 Q1464.96 1477.06 1464.96 1468.33 Q1464.96 1459.58 1468.01 1455 Q1471.09 1450.39 1476.9 1450.39 Z\" fill=\"#000000\" fill-rule=\"nonzero\" fill-opacity=\"1\" /><path clip-path=\"url(#clip310)\" d=\"M1497.07 1479.7 L1501.95 1479.7 L1501.95 1485.58 L1497.07 1485.58 L1497.07 1479.7 Z\" fill=\"#000000\" fill-rule=\"nonzero\" fill-opacity=\"1\" /><path clip-path=\"url(#clip310)\" d=\"M1522.71 1466.44 Q1519.57 1466.44 1517.71 1468.59 Q1515.88 1470.74 1515.88 1474.49 Q1515.88 1478.22 1517.71 1480.39 Q1519.57 1482.55 1522.71 1482.55 Q1525.86 1482.55 1527.69 1480.39 Q1529.54 1478.22 1529.54 1474.49 Q1529.54 1470.74 1527.69 1468.59 Q1525.86 1466.44 1522.71 1466.44 M1532 1451.78 L1532 1456.04 Q1530.24 1455.21 1528.43 1454.77 Q1526.65 1454.33 1524.89 1454.33 Q1520.26 1454.33 1517.81 1457.45 Q1515.38 1460.58 1515.03 1466.9 Q1516.39 1464.89 1518.45 1463.82 Q1520.51 1462.73 1522.99 1462.73 Q1528.2 1462.73 1531.21 1465.9 Q1534.24 1469.05 1534.24 1474.49 Q1534.24 1479.82 1531.09 1483.03 Q1527.94 1486.25 1522.71 1486.25 Q1516.72 1486.25 1513.55 1481.67 Q1510.38 1477.06 1510.38 1468.33 Q1510.38 1460.14 1514.26 1455.28 Q1518.15 1450.39 1524.7 1450.39 Q1526.46 1450.39 1528.25 1450.74 Q1530.05 1451.09 1532 1451.78 Z\" fill=\"#000000\" fill-rule=\"nonzero\" fill-opacity=\"1\" /><path clip-path=\"url(#clip310)\" d=\"M1903.61 1454.1 Q1900 1454.1 1898.17 1457.66 Q1896.36 1461.2 1896.36 1468.33 Q1896.36 1475.44 1898.17 1479.01 Q1900 1482.55 1903.61 1482.55 Q1907.24 1482.55 1909.05 1479.01 Q1910.88 1475.44 1910.88 1468.33 Q1910.88 1461.2 1909.05 1457.66 Q1907.24 1454.1 1903.61 1454.1 M1903.61 1450.39 Q1909.42 1450.39 1912.47 1455 Q1915.55 1459.58 1915.55 1468.33 Q1915.55 1477.06 1912.47 1481.67 Q1909.42 1486.25 1903.61 1486.25 Q1897.8 1486.25 1894.72 1481.67 Q1891.66 1477.06 1891.66 1468.33 Q1891.66 1459.58 1894.72 1455 Q1897.8 1450.39 1903.61 1450.39 Z\" fill=\"#000000\" fill-rule=\"nonzero\" fill-opacity=\"1\" /><path clip-path=\"url(#clip310)\" d=\"M1923.77 1479.7 L1928.65 1479.7 L1928.65 1485.58 L1923.77 1485.58 L1923.77 1479.7 Z\" fill=\"#000000\" fill-rule=\"nonzero\" fill-opacity=\"1\" /><path clip-path=\"url(#clip310)\" d=\"M1948.84 1469.17 Q1945.51 1469.17 1943.59 1470.95 Q1941.69 1472.73 1941.69 1475.86 Q1941.69 1478.98 1943.59 1480.77 Q1945.51 1482.55 1948.84 1482.55 Q1952.17 1482.55 1954.09 1480.77 Q1956.02 1478.96 1956.02 1475.86 Q1956.02 1472.73 1954.09 1470.95 Q1952.2 1469.17 1948.84 1469.17 M1944.16 1467.18 Q1941.15 1466.44 1939.46 1464.38 Q1937.8 1462.32 1937.8 1459.35 Q1937.8 1455.21 1940.74 1452.8 Q1943.7 1450.39 1948.84 1450.39 Q1954 1450.39 1956.94 1452.8 Q1959.88 1455.21 1959.88 1459.35 Q1959.88 1462.32 1958.19 1464.38 Q1956.53 1466.44 1953.54 1467.18 Q1956.92 1467.96 1958.79 1470.26 Q1960.69 1472.55 1960.69 1475.86 Q1960.69 1480.88 1957.61 1483.57 Q1954.56 1486.25 1948.84 1486.25 Q1943.12 1486.25 1940.04 1483.57 Q1936.99 1480.88 1936.99 1475.86 Q1936.99 1472.55 1938.89 1470.26 Q1940.78 1467.96 1944.16 1467.18 M1942.45 1459.79 Q1942.45 1462.48 1944.12 1463.98 Q1945.81 1465.49 1948.84 1465.49 Q1951.85 1465.49 1953.54 1463.98 Q1955.25 1462.48 1955.25 1459.79 Q1955.25 1457.11 1953.54 1455.6 Q1951.85 1454.1 1948.84 1454.1 Q1945.81 1454.1 1944.12 1455.6 Q1942.45 1457.11 1942.45 1459.79 Z\" fill=\"#000000\" fill-rule=\"nonzero\" fill-opacity=\"1\" /><path clip-path=\"url(#clip310)\" d=\"M2319.91 1481.64 L2327.55 1481.64 L2327.55 1455.28 L2319.24 1456.95 L2319.24 1452.69 L2327.5 1451.02 L2332.18 1451.02 L2332.18 1481.64 L2339.82 1481.64 L2339.82 1485.58 L2319.91 1485.58 L2319.91 1481.64 Z\" fill=\"#000000\" fill-rule=\"nonzero\" fill-opacity=\"1\" /><path clip-path=\"url(#clip310)\" d=\"M2349.26 1479.7 L2354.14 1479.7 L2354.14 1485.58 L2349.26 1485.58 L2349.26 1479.7 Z\" fill=\"#000000\" fill-rule=\"nonzero\" fill-opacity=\"1\" /><path clip-path=\"url(#clip310)\" d=\"M2374.33 1454.1 Q2370.72 1454.1 2368.89 1457.66 Q2367.08 1461.2 2367.08 1468.33 Q2367.08 1475.44 2368.89 1479.01 Q2370.72 1482.55 2374.33 1482.55 Q2377.96 1482.55 2379.77 1479.01 Q2381.6 1475.44 2381.6 1468.33 Q2381.6 1461.2 2379.77 1457.66 Q2377.96 1454.1 2374.33 1454.1 M2374.33 1450.39 Q2380.14 1450.39 2383.2 1455 Q2386.27 1459.58 2386.27 1468.33 Q2386.27 1477.06 2383.2 1481.67 Q2380.14 1486.25 2374.33 1486.25 Q2368.52 1486.25 2365.44 1481.67 Q2362.39 1477.06 2362.39 1468.33 Q2362.39 1459.58 2365.44 1455 Q2368.52 1450.39 2374.33 1450.39 Z\" fill=\"#000000\" fill-rule=\"nonzero\" fill-opacity=\"1\" /><path clip-path=\"url(#clip310)\" d=\"M912.978 1520.52 L919.408 1520.52 L919.408 1568.04 L912.978 1568.04 L912.978 1520.52 Z\" fill=\"#000000\" fill-rule=\"nonzero\" fill-opacity=\"1\" /><path clip-path=\"url(#clip310)\" d=\"M961.58 1546.53 L961.58 1568.04 L955.724 1568.04 L955.724 1546.72 Q955.724 1541.66 953.751 1539.14 Q951.777 1536.63 947.831 1536.63 Q943.088 1536.63 940.351 1539.65 Q937.614 1542.68 937.614 1547.9 L937.614 1568.04 L931.725 1568.04 L931.725 1532.4 L937.614 1532.4 L937.614 1537.93 Q939.714 1534.72 942.547 1533.13 Q945.412 1531.54 949.136 1531.54 Q955.278 1531.54 958.429 1535.36 Q961.58 1539.14 961.58 1546.53 Z\" fill=\"#000000\" fill-rule=\"nonzero\" fill-opacity=\"1\" /><path clip-path=\"url(#clip310)\" d=\"M998.915 1533.76 L998.915 1539.24 Q996.433 1537.87 993.918 1537.2 Q991.436 1536.5 988.889 1536.5 Q983.192 1536.5 980.041 1540.13 Q976.89 1543.73 976.89 1550.25 Q976.89 1556.78 980.041 1560.4 Q983.192 1564 988.889 1564 Q991.436 1564 993.918 1563.33 Q996.433 1562.63 998.915 1561.26 L998.915 1566.68 Q996.465 1567.82 993.823 1568.39 Q991.213 1568.97 988.253 1568.97 Q980.2 1568.97 975.458 1563.91 Q970.715 1558.85 970.715 1550.25 Q970.715 1541.53 975.49 1536.53 Q980.296 1531.54 988.635 1531.54 Q991.34 1531.54 993.918 1532.11 Q996.496 1532.65 998.915 1533.76 Z\" fill=\"#000000\" fill-rule=\"nonzero\" fill-opacity=\"1\" /><path clip-path=\"url(#clip310)\" d=\"M1022.91 1536.5 Q1018.2 1536.5 1015.47 1540.19 Q1012.73 1543.85 1012.73 1550.25 Q1012.73 1556.65 1015.43 1560.34 Q1018.17 1564 1022.91 1564 Q1027.59 1564 1030.33 1560.31 Q1033.07 1556.62 1033.07 1550.25 Q1033.07 1543.92 1030.33 1540.23 Q1027.59 1536.5 1022.91 1536.5 M1022.91 1531.54 Q1030.55 1531.54 1034.91 1536.5 Q1039.27 1541.47 1039.27 1550.25 Q1039.27 1559 1034.91 1564 Q1030.55 1568.97 1022.91 1568.97 Q1015.24 1568.97 1010.88 1564 Q1006.55 1559 1006.55 1550.25 Q1006.55 1541.47 1010.88 1536.5 Q1015.24 1531.54 1022.91 1531.54 Z\" fill=\"#000000\" fill-rule=\"nonzero\" fill-opacity=\"1\" /><path clip-path=\"url(#clip310)\" d=\"M1076.74 1539.24 Q1078.93 1535.29 1081.99 1533.41 Q1085.04 1531.54 1089.18 1531.54 Q1094.75 1531.54 1097.77 1535.45 Q1100.8 1539.33 1100.8 1546.53 L1100.8 1568.04 L1094.91 1568.04 L1094.91 1546.72 Q1094.91 1541.59 1093.1 1539.11 Q1091.28 1536.63 1087.56 1536.63 Q1083.01 1536.63 1080.36 1539.65 Q1077.72 1542.68 1077.72 1547.9 L1077.72 1568.04 L1071.83 1568.04 L1071.83 1546.72 Q1071.83 1541.56 1070.02 1539.11 Q1068.21 1536.63 1064.42 1536.63 Q1059.93 1536.63 1057.29 1539.68 Q1054.65 1542.71 1054.65 1547.9 L1054.65 1568.04 L1048.76 1568.04 L1048.76 1532.4 L1054.65 1532.4 L1054.65 1537.93 Q1056.65 1534.66 1059.45 1533.1 Q1062.25 1531.54 1066.11 1531.54 Q1069.99 1531.54 1072.69 1533.51 Q1075.43 1535.48 1076.74 1539.24 Z\" fill=\"#000000\" fill-rule=\"nonzero\" fill-opacity=\"1\" /><path clip-path=\"url(#clip310)\" d=\"M1142.97 1548.76 L1142.97 1551.62 L1116.04 1551.62 Q1116.43 1557.67 1119.67 1560.85 Q1122.95 1564 1128.78 1564 Q1132.15 1564 1135.3 1563.17 Q1138.48 1562.35 1141.6 1560.69 L1141.6 1566.23 Q1138.45 1567.57 1135.14 1568.27 Q1131.83 1568.97 1128.43 1568.97 Q1119.9 1568.97 1114.9 1564 Q1109.93 1559.04 1109.93 1550.57 Q1109.93 1541.82 1114.64 1536.69 Q1119.39 1531.54 1127.41 1531.54 Q1134.6 1531.54 1138.77 1536.18 Q1142.97 1540.8 1142.97 1548.76 M1137.11 1547.04 Q1137.05 1542.23 1134.41 1539.37 Q1131.8 1536.5 1127.47 1536.5 Q1122.57 1536.5 1119.61 1539.27 Q1116.68 1542.04 1116.24 1547.07 L1137.11 1547.04 Z\" fill=\"#000000\" fill-rule=\"nonzero\" fill-opacity=\"1\" /><path clip-path=\"url(#clip310)\" d=\"M1169.9 1532.4 L1175.75 1532.4 L1183.08 1560.21 L1190.36 1532.4 L1197.27 1532.4 L1204.59 1560.21 L1211.88 1532.4 L1217.74 1532.4 L1208.41 1568.04 L1201.5 1568.04 L1193.83 1538.83 L1186.13 1568.04 L1179.22 1568.04 L1169.9 1532.4 Z\" fill=\"#000000\" fill-rule=\"nonzero\" fill-opacity=\"1\" /><path clip-path=\"url(#clip310)\" d=\"M1256.25 1546.53 L1256.25 1568.04 L1250.39 1568.04 L1250.39 1546.72 Q1250.39 1541.66 1248.42 1539.14 Q1246.45 1536.63 1242.5 1536.63 Q1237.76 1536.63 1235.02 1539.65 Q1232.28 1542.68 1232.28 1547.9 L1232.28 1568.04 L1226.39 1568.04 L1226.39 1518.52 L1232.28 1518.52 L1232.28 1537.93 Q1234.38 1534.72 1237.22 1533.13 Q1240.08 1531.54 1243.8 1531.54 Q1249.95 1531.54 1253.1 1535.36 Q1256.25 1539.14 1256.25 1546.53 Z\" fill=\"#000000\" fill-rule=\"nonzero\" fill-opacity=\"1\" /><path clip-path=\"url(#clip310)\" d=\"M1298.42 1548.76 L1298.42 1551.62 L1271.49 1551.62 Q1271.88 1557.67 1275.12 1560.85 Q1278.4 1564 1284.23 1564 Q1287.6 1564 1290.75 1563.17 Q1293.93 1562.35 1297.05 1560.69 L1297.05 1566.23 Q1293.9 1567.57 1290.59 1568.27 Q1287.28 1568.97 1283.88 1568.97 Q1275.35 1568.97 1270.35 1564 Q1265.38 1559.04 1265.38 1550.57 Q1265.38 1541.82 1270.09 1536.69 Q1274.84 1531.54 1282.86 1531.54 Q1290.05 1531.54 1294.22 1536.18 Q1298.42 1540.8 1298.42 1548.76 M1292.57 1547.04 Q1292.5 1542.23 1289.86 1539.37 Q1287.25 1536.5 1282.92 1536.5 Q1278.02 1536.5 1275.06 1539.27 Q1272.13 1542.04 1271.69 1547.07 L1292.57 1547.04 Z\" fill=\"#000000\" fill-rule=\"nonzero\" fill-opacity=\"1\" /><path clip-path=\"url(#clip310)\" d=\"M1337.67 1546.53 L1337.67 1568.04 L1331.81 1568.04 L1331.81 1546.72 Q1331.81 1541.66 1329.84 1539.14 Q1327.86 1536.63 1323.92 1536.63 Q1319.17 1536.63 1316.44 1539.65 Q1313.7 1542.68 1313.7 1547.9 L1313.7 1568.04 L1307.81 1568.04 L1307.81 1532.4 L1313.7 1532.4 L1313.7 1537.93 Q1315.8 1534.72 1318.63 1533.13 Q1321.5 1531.54 1325.22 1531.54 Q1331.36 1531.54 1334.52 1535.36 Q1337.67 1539.14 1337.67 1546.53 Z\" fill=\"#000000\" fill-rule=\"nonzero\" fill-opacity=\"1\" /><path clip-path=\"url(#clip310)\" d=\"M1384.9 1571.35 Q1382.42 1577.72 1380.06 1579.66 Q1377.71 1581.6 1373.76 1581.6 L1369.08 1581.6 L1369.08 1576.7 L1372.52 1576.7 Q1374.94 1576.7 1376.27 1575.56 Q1377.61 1574.41 1379.23 1570.14 L1380.28 1567.47 L1365.87 1532.4 L1372.07 1532.4 L1383.21 1560.28 L1394.35 1532.4 L1400.56 1532.4 L1384.9 1571.35 Z\" fill=\"#000000\" fill-rule=\"nonzero\" fill-opacity=\"1\" /><path clip-path=\"url(#clip310)\" d=\"M1422.46 1536.5 Q1417.75 1536.5 1415.01 1540.19 Q1412.27 1543.85 1412.27 1550.25 Q1412.27 1556.65 1414.98 1560.34 Q1417.72 1564 1422.46 1564 Q1427.14 1564 1429.87 1560.31 Q1432.61 1556.62 1432.61 1550.25 Q1432.61 1543.92 1429.87 1540.23 Q1427.14 1536.5 1422.46 1536.5 M1422.46 1531.54 Q1430.1 1531.54 1434.46 1536.5 Q1438.82 1541.47 1438.82 1550.25 Q1438.82 1559 1434.46 1564 Q1430.1 1568.97 1422.46 1568.97 Q1414.79 1568.97 1410.43 1564 Q1406.1 1559 1406.1 1550.25 Q1406.1 1541.47 1410.43 1536.5 Q1414.79 1531.54 1422.46 1531.54 Z\" fill=\"#000000\" fill-rule=\"nonzero\" fill-opacity=\"1\" /><path clip-path=\"url(#clip310)\" d=\"M1447.92 1553.98 L1447.92 1532.4 L1453.78 1532.4 L1453.78 1553.75 Q1453.78 1558.81 1455.75 1561.36 Q1457.72 1563.87 1461.67 1563.87 Q1466.41 1563.87 1469.15 1560.85 Q1471.92 1557.83 1471.92 1552.61 L1471.92 1532.4 L1477.78 1532.4 L1477.78 1568.04 L1471.92 1568.04 L1471.92 1562.57 Q1469.79 1565.82 1466.95 1567.41 Q1464.15 1568.97 1460.43 1568.97 Q1454.29 1568.97 1451.1 1565.15 Q1447.92 1561.33 1447.92 1553.98 M1462.66 1531.54 L1462.66 1531.54 Z\" fill=\"#000000\" fill-rule=\"nonzero\" fill-opacity=\"1\" /><path clip-path=\"url(#clip310)\" d=\"M1519.47 1546.53 L1519.47 1568.04 L1513.61 1568.04 L1513.61 1546.72 Q1513.61 1541.66 1511.64 1539.14 Q1509.67 1536.63 1505.72 1536.63 Q1500.98 1536.63 1498.24 1539.65 Q1495.5 1542.68 1495.5 1547.9 L1495.5 1568.04 L1489.62 1568.04 L1489.62 1532.4 L1495.5 1532.4 L1495.5 1537.93 Q1497.6 1534.72 1500.44 1533.13 Q1503.3 1531.54 1507.03 1531.54 Q1513.17 1531.54 1516.32 1535.36 Q1519.47 1539.14 1519.47 1546.53 Z\" fill=\"#000000\" fill-rule=\"nonzero\" fill-opacity=\"1\" /><path clip-path=\"url(#clip310)\" d=\"M1554.61 1549.81 Q1554.61 1543.44 1551.97 1539.94 Q1549.36 1536.44 1544.62 1536.44 Q1539.9 1536.44 1537.26 1539.94 Q1534.65 1543.44 1534.65 1549.81 Q1534.65 1556.14 1537.26 1559.64 Q1539.9 1563.14 1544.62 1563.14 Q1549.36 1563.14 1551.97 1559.64 Q1554.61 1556.14 1554.61 1549.81 M1560.47 1563.62 Q1560.47 1572.72 1556.42 1577.15 Q1552.38 1581.6 1544.04 1581.6 Q1540.96 1581.6 1538.22 1581.13 Q1535.48 1580.68 1532.9 1579.72 L1532.9 1574.03 Q1535.48 1575.43 1538 1576.1 Q1540.51 1576.76 1543.12 1576.76 Q1548.88 1576.76 1551.75 1573.74 Q1554.61 1570.75 1554.61 1564.67 L1554.61 1561.77 Q1552.8 1564.92 1549.96 1566.48 Q1547.13 1568.04 1543.18 1568.04 Q1536.63 1568.04 1532.62 1563.05 Q1528.61 1558.05 1528.61 1549.81 Q1528.61 1541.53 1532.62 1536.53 Q1536.63 1531.54 1543.18 1531.54 Q1547.13 1531.54 1549.96 1533.1 Q1552.8 1534.66 1554.61 1537.81 L1554.61 1532.4 L1560.47 1532.4 L1560.47 1563.62 Z\" fill=\"#000000\" fill-rule=\"nonzero\" fill-opacity=\"1\" /><path clip-path=\"url(#clip310)\" d=\"M1574.03 1559.96 L1580.74 1559.96 L1580.74 1568.04 L1574.03 1568.04 L1574.03 1559.96 M1574.03 1534.34 L1580.74 1534.34 L1580.74 1542.42 L1574.03 1542.42 L1574.03 1534.34 Z\" fill=\"#000000\" fill-rule=\"nonzero\" fill-opacity=\"1\" /><path clip-path=\"url(#clip310)\" d=\"M1611.81 1532.4 L1617.66 1532.4 L1624.98 1560.21 L1632.27 1532.4 L1639.18 1532.4 L1646.5 1560.21 L1653.79 1532.4 L1659.64 1532.4 L1650.32 1568.04 L1643.41 1568.04 L1635.74 1538.83 L1628.04 1568.04 L1621.13 1568.04 L1611.81 1532.4 Z\" fill=\"#000000\" fill-rule=\"nonzero\" fill-opacity=\"1\" /><polyline clip-path=\"url(#clip312)\" style=\"stroke:#000000; stroke-linecap:round; stroke-linejoin:round; stroke-width:2; stroke-opacity:0.1; fill:none\" points=\"219.866,1423.18 2352.76,1423.18 \"/>\n",
       "<polyline clip-path=\"url(#clip312)\" style=\"stroke:#000000; stroke-linecap:round; stroke-linejoin:round; stroke-width:2; stroke-opacity:0.1; fill:none\" points=\"219.866,1147.99 2352.76,1147.99 \"/>\n",
       "<polyline clip-path=\"url(#clip312)\" style=\"stroke:#000000; stroke-linecap:round; stroke-linejoin:round; stroke-width:2; stroke-opacity:0.1; fill:none\" points=\"219.866,872.806 2352.76,872.806 \"/>\n",
       "<polyline clip-path=\"url(#clip312)\" style=\"stroke:#000000; stroke-linecap:round; stroke-linejoin:round; stroke-width:2; stroke-opacity:0.1; fill:none\" points=\"219.866,597.618 2352.76,597.618 \"/>\n",
       "<polyline clip-path=\"url(#clip312)\" style=\"stroke:#000000; stroke-linecap:round; stroke-linejoin:round; stroke-width:2; stroke-opacity:0.1; fill:none\" points=\"219.866,322.431 2352.76,322.431 \"/>\n",
       "<polyline clip-path=\"url(#clip312)\" style=\"stroke:#000000; stroke-linecap:round; stroke-linejoin:round; stroke-width:2; stroke-opacity:0.1; fill:none\" points=\"219.866,47.2441 2352.76,47.2441 \"/>\n",
       "<polyline clip-path=\"url(#clip310)\" style=\"stroke:#000000; stroke-linecap:round; stroke-linejoin:round; stroke-width:4; stroke-opacity:1; fill:none\" points=\"219.866,1423.18 219.866,47.2441 \"/>\n",
       "<polyline clip-path=\"url(#clip310)\" style=\"stroke:#000000; stroke-linecap:round; stroke-linejoin:round; stroke-width:2; stroke-opacity:0.5; fill:none\" points=\"2352.76,1423.18 2352.76,47.2441 \"/>\n",
       "<polyline clip-path=\"url(#clip310)\" style=\"stroke:#000000; stroke-linecap:round; stroke-linejoin:round; stroke-width:4; stroke-opacity:1; fill:none\" points=\"219.866,1423.18 238.764,1423.18 \"/>\n",
       "<polyline clip-path=\"url(#clip310)\" style=\"stroke:#000000; stroke-linecap:round; stroke-linejoin:round; stroke-width:4; stroke-opacity:1; fill:none\" points=\"219.866,1147.99 238.764,1147.99 \"/>\n",
       "<polyline clip-path=\"url(#clip310)\" style=\"stroke:#000000; stroke-linecap:round; stroke-linejoin:round; stroke-width:4; stroke-opacity:1; fill:none\" points=\"219.866,872.806 238.764,872.806 \"/>\n",
       "<polyline clip-path=\"url(#clip310)\" style=\"stroke:#000000; stroke-linecap:round; stroke-linejoin:round; stroke-width:4; stroke-opacity:1; fill:none\" points=\"219.866,597.618 238.764,597.618 \"/>\n",
       "<polyline clip-path=\"url(#clip310)\" style=\"stroke:#000000; stroke-linecap:round; stroke-linejoin:round; stroke-width:4; stroke-opacity:1; fill:none\" points=\"219.866,322.431 238.764,322.431 \"/>\n",
       "<polyline clip-path=\"url(#clip310)\" style=\"stroke:#000000; stroke-linecap:round; stroke-linejoin:round; stroke-width:4; stroke-opacity:1; fill:none\" points=\"219.866,47.2441 238.764,47.2441 \"/>\n",
       "<path clip-path=\"url(#clip310)\" d=\"M126.691 1408.98 Q123.08 1408.98 121.251 1412.54 Q119.445 1416.08 119.445 1423.21 Q119.445 1430.32 121.251 1433.89 Q123.08 1437.43 126.691 1437.43 Q130.325 1437.43 132.13 1433.89 Q133.959 1430.32 133.959 1423.21 Q133.959 1416.08 132.13 1412.54 Q130.325 1408.98 126.691 1408.98 M126.691 1405.27 Q132.501 1405.27 135.556 1409.88 Q138.635 1414.46 138.635 1423.21 Q138.635 1431.94 135.556 1436.55 Q132.501 1441.13 126.691 1441.13 Q120.88 1441.13 117.802 1436.55 Q114.746 1431.94 114.746 1423.21 Q114.746 1414.46 117.802 1409.88 Q120.88 1405.27 126.691 1405.27 Z\" fill=\"#000000\" fill-rule=\"nonzero\" fill-opacity=\"1\" /><path clip-path=\"url(#clip310)\" d=\"M146.853 1434.58 L151.737 1434.58 L151.737 1440.46 L146.853 1440.46 L146.853 1434.58 Z\" fill=\"#000000\" fill-rule=\"nonzero\" fill-opacity=\"1\" /><path clip-path=\"url(#clip310)\" d=\"M171.922 1408.98 Q168.311 1408.98 166.482 1412.54 Q164.677 1416.08 164.677 1423.21 Q164.677 1430.32 166.482 1433.89 Q168.311 1437.43 171.922 1437.43 Q175.556 1437.43 177.362 1433.89 Q179.19 1430.32 179.19 1423.21 Q179.19 1416.08 177.362 1412.54 Q175.556 1408.98 171.922 1408.98 M171.922 1405.27 Q177.732 1405.27 180.788 1409.88 Q183.866 1414.46 183.866 1423.21 Q183.866 1431.94 180.788 1436.55 Q177.732 1441.13 171.922 1441.13 Q166.112 1441.13 163.033 1436.55 Q159.978 1431.94 159.978 1423.21 Q159.978 1414.46 163.033 1409.88 Q166.112 1405.27 171.922 1405.27 Z\" fill=\"#000000\" fill-rule=\"nonzero\" fill-opacity=\"1\" /><path clip-path=\"url(#clip310)\" d=\"M127.917 1133.79 Q124.306 1133.79 122.478 1137.36 Q120.672 1140.9 120.672 1148.03 Q120.672 1155.13 122.478 1158.7 Q124.306 1162.24 127.917 1162.24 Q131.552 1162.24 133.357 1158.7 Q135.186 1155.13 135.186 1148.03 Q135.186 1140.9 133.357 1137.36 Q131.552 1133.79 127.917 1133.79 M127.917 1130.09 Q133.728 1130.09 136.783 1134.69 Q139.862 1139.28 139.862 1148.03 Q139.862 1156.75 136.783 1161.36 Q133.728 1165.94 127.917 1165.94 Q122.107 1165.94 119.029 1161.36 Q115.973 1156.75 115.973 1148.03 Q115.973 1139.28 119.029 1134.69 Q122.107 1130.09 127.917 1130.09 Z\" fill=\"#000000\" fill-rule=\"nonzero\" fill-opacity=\"1\" /><path clip-path=\"url(#clip310)\" d=\"M148.079 1159.39 L152.964 1159.39 L152.964 1165.27 L148.079 1165.27 L148.079 1159.39 Z\" fill=\"#000000\" fill-rule=\"nonzero\" fill-opacity=\"1\" /><path clip-path=\"url(#clip310)\" d=\"M163.959 1161.34 L171.598 1161.34 L171.598 1134.97 L163.288 1136.64 L163.288 1132.38 L171.552 1130.71 L176.227 1130.71 L176.227 1161.34 L183.866 1161.34 L183.866 1165.27 L163.959 1165.27 L163.959 1161.34 Z\" fill=\"#000000\" fill-rule=\"nonzero\" fill-opacity=\"1\" /><path clip-path=\"url(#clip310)\" d=\"M128.288 858.604 Q124.677 858.604 122.848 862.169 Q121.043 865.711 121.043 872.84 Q121.043 879.947 122.848 883.512 Q124.677 887.053 128.288 887.053 Q131.922 887.053 133.728 883.512 Q135.556 879.947 135.556 872.84 Q135.556 865.711 133.728 862.169 Q131.922 858.604 128.288 858.604 M128.288 854.901 Q134.098 854.901 137.154 859.507 Q140.232 864.09 140.232 872.84 Q140.232 881.567 137.154 886.174 Q134.098 890.757 128.288 890.757 Q122.478 890.757 119.399 886.174 Q116.343 881.567 116.343 872.84 Q116.343 864.09 119.399 859.507 Q122.478 854.901 128.288 854.901 Z\" fill=\"#000000\" fill-rule=\"nonzero\" fill-opacity=\"1\" /><path clip-path=\"url(#clip310)\" d=\"M148.45 884.206 L153.334 884.206 L153.334 890.086 L148.45 890.086 L148.45 884.206 Z\" fill=\"#000000\" fill-rule=\"nonzero\" fill-opacity=\"1\" /><path clip-path=\"url(#clip310)\" d=\"M167.547 886.15 L183.866 886.15 L183.866 890.086 L161.922 890.086 L161.922 886.15 Q164.584 883.396 169.167 878.766 Q173.774 874.113 174.954 872.771 Q177.2 870.248 178.079 868.512 Q178.982 866.752 178.982 865.063 Q178.982 862.308 177.038 860.572 Q175.116 858.836 172.014 858.836 Q169.815 858.836 167.362 859.6 Q164.931 860.363 162.153 861.914 L162.153 857.192 Q164.977 856.058 167.431 855.479 Q169.885 854.901 171.922 854.901 Q177.292 854.901 180.487 857.586 Q183.681 860.271 183.681 864.762 Q183.681 866.891 182.871 868.813 Q182.084 870.711 179.977 873.303 Q179.399 873.975 176.297 877.192 Q173.195 880.387 167.547 886.15 Z\" fill=\"#000000\" fill-rule=\"nonzero\" fill-opacity=\"1\" /><path clip-path=\"url(#clip310)\" d=\"M127.339 583.417 Q123.728 583.417 121.899 586.982 Q120.093 590.524 120.093 597.653 Q120.093 604.76 121.899 608.324 Q123.728 611.866 127.339 611.866 Q130.973 611.866 132.779 608.324 Q134.607 604.76 134.607 597.653 Q134.607 590.524 132.779 586.982 Q130.973 583.417 127.339 583.417 M127.339 579.713 Q133.149 579.713 136.204 584.32 Q139.283 588.903 139.283 597.653 Q139.283 606.38 136.204 610.986 Q133.149 615.57 127.339 615.57 Q121.529 615.57 118.45 610.986 Q115.394 606.38 115.394 597.653 Q115.394 588.903 118.45 584.32 Q121.529 579.713 127.339 579.713 Z\" fill=\"#000000\" fill-rule=\"nonzero\" fill-opacity=\"1\" /><path clip-path=\"url(#clip310)\" d=\"M147.501 609.019 L152.385 609.019 L152.385 614.898 L147.501 614.898 L147.501 609.019 Z\" fill=\"#000000\" fill-rule=\"nonzero\" fill-opacity=\"1\" /><path clip-path=\"url(#clip310)\" d=\"M176.737 596.264 Q180.093 596.982 181.968 599.25 Q183.866 601.519 183.866 604.852 Q183.866 609.968 180.348 612.769 Q176.829 615.57 170.348 615.57 Q168.172 615.57 165.857 615.13 Q163.565 614.713 161.112 613.857 L161.112 609.343 Q163.056 610.477 165.371 611.056 Q167.686 611.635 170.209 611.635 Q174.607 611.635 176.899 609.898 Q179.214 608.162 179.214 604.852 Q179.214 601.797 177.061 600.084 Q174.931 598.348 171.112 598.348 L167.084 598.348 L167.084 594.505 L171.297 594.505 Q174.746 594.505 176.575 593.139 Q178.403 591.75 178.403 589.158 Q178.403 586.496 176.505 585.084 Q174.63 583.649 171.112 583.649 Q169.19 583.649 166.991 584.065 Q164.792 584.482 162.153 585.362 L162.153 581.195 Q164.815 580.454 167.13 580.084 Q169.468 579.713 171.528 579.713 Q176.852 579.713 179.954 582.144 Q183.056 584.551 183.056 588.672 Q183.056 591.542 181.413 593.533 Q179.769 595.5 176.737 596.264 Z\" fill=\"#000000\" fill-rule=\"nonzero\" fill-opacity=\"1\" /><path clip-path=\"url(#clip310)\" d=\"M126.205 308.23 Q122.593 308.23 120.765 311.795 Q118.959 315.336 118.959 322.466 Q118.959 329.572 120.765 333.137 Q122.593 336.679 126.205 336.679 Q129.839 336.679 131.644 333.137 Q133.473 329.572 133.473 322.466 Q133.473 315.336 131.644 311.795 Q129.839 308.23 126.205 308.23 M126.205 304.526 Q132.015 304.526 135.07 309.133 Q138.149 313.716 138.149 322.466 Q138.149 331.193 135.07 335.799 Q132.015 340.383 126.205 340.383 Q120.394 340.383 117.316 335.799 Q114.26 331.193 114.26 322.466 Q114.26 313.716 117.316 309.133 Q120.394 304.526 126.205 304.526 Z\" fill=\"#000000\" fill-rule=\"nonzero\" fill-opacity=\"1\" /><path clip-path=\"url(#clip310)\" d=\"M146.366 333.832 L151.251 333.832 L151.251 339.711 L146.366 339.711 L146.366 333.832 Z\" fill=\"#000000\" fill-rule=\"nonzero\" fill-opacity=\"1\" /><path clip-path=\"url(#clip310)\" d=\"M174.283 309.225 L162.477 327.674 L174.283 327.674 L174.283 309.225 M173.056 305.151 L178.936 305.151 L178.936 327.674 L183.866 327.674 L183.866 331.563 L178.936 331.563 L178.936 339.711 L174.283 339.711 L174.283 331.563 L158.681 331.563 L158.681 327.049 L173.056 305.151 Z\" fill=\"#000000\" fill-rule=\"nonzero\" fill-opacity=\"1\" /><path clip-path=\"url(#clip310)\" d=\"M127.686 33.0428 Q124.075 33.0428 122.246 36.6076 Q120.441 40.1492 120.441 47.2788 Q120.441 54.3853 122.246 57.9501 Q124.075 61.4917 127.686 61.4917 Q131.32 61.4917 133.126 57.9501 Q134.954 54.3853 134.954 47.2788 Q134.954 40.1492 133.126 36.6076 Q131.32 33.0428 127.686 33.0428 M127.686 29.3391 Q133.496 29.3391 136.552 33.9456 Q139.63 38.5289 139.63 47.2788 Q139.63 56.0056 136.552 60.6121 Q133.496 65.1954 127.686 65.1954 Q121.876 65.1954 118.797 60.6121 Q115.742 56.0056 115.742 47.2788 Q115.742 38.5289 118.797 33.9456 Q121.876 29.3391 127.686 29.3391 Z\" fill=\"#000000\" fill-rule=\"nonzero\" fill-opacity=\"1\" /><path clip-path=\"url(#clip310)\" d=\"M147.848 58.6445 L152.732 58.6445 L152.732 64.5241 L147.848 64.5241 L147.848 58.6445 Z\" fill=\"#000000\" fill-rule=\"nonzero\" fill-opacity=\"1\" /><path clip-path=\"url(#clip310)\" d=\"M162.964 29.9641 L181.32 29.9641 L181.32 33.8993 L167.246 33.8993 L167.246 42.3714 Q168.264 42.0242 169.283 41.8622 Q170.302 41.677 171.32 41.677 Q177.107 41.677 180.487 44.8483 Q183.866 48.0196 183.866 53.4362 Q183.866 59.0149 180.394 62.1167 Q176.922 65.1954 170.602 65.1954 Q168.427 65.1954 166.158 64.825 Q163.913 64.4547 161.505 63.7139 L161.505 59.0149 Q163.589 60.1491 165.811 60.7047 Q168.033 61.2602 170.51 61.2602 Q174.514 61.2602 176.852 59.1538 Q179.19 57.0473 179.19 53.4362 Q179.19 49.8251 176.852 47.7186 Q174.514 45.6122 170.51 45.6122 Q168.635 45.6122 166.76 46.0288 Q164.908 46.4455 162.964 47.3251 L162.964 29.9641 Z\" fill=\"#000000\" fill-rule=\"nonzero\" fill-opacity=\"1\" /><path clip-path=\"url(#clip310)\" d=\"M18.0438 1061.15 L24.314 1061.15 Q22.5634 1064.81 21.704 1068.06 Q20.8447 1071.31 20.8447 1074.33 Q20.8447 1079.58 22.8817 1082.45 Q24.9187 1085.28 28.6745 1085.28 Q31.8255 1085.28 33.4488 1083.4 Q35.0402 1081.49 36.0269 1076.21 L36.8226 1072.32 Q38.1912 1065.13 41.6605 1061.72 Q45.098 1058.29 50.8908 1058.29 Q57.7976 1058.29 61.3624 1062.93 Q64.9272 1067.55 64.9272 1076.49 Q64.9272 1079.87 64.1633 1083.69 Q63.3994 1087.47 61.9035 1091.55 L55.2831 1091.55 Q57.4793 1087.63 58.5933 1083.88 Q59.7073 1080.12 59.7073 1076.49 Q59.7073 1070.99 57.543 1068 Q55.3786 1065 51.3682 1065 Q47.8671 1065 45.8937 1067.17 Q43.9204 1069.3 42.9337 1074.2 L42.1698 1078.12 Q40.7375 1085.31 37.682 1088.52 Q34.6264 1091.74 29.1837 1091.74 Q22.8817 1091.74 19.2532 1087.32 Q15.6248 1082.86 15.6248 1075.06 Q15.6248 1071.72 16.2295 1068.25 Q16.8343 1064.78 18.0438 1061.15 Z\" fill=\"#000000\" fill-rule=\"nonzero\" fill-opacity=\"1\" /><path clip-path=\"url(#clip310)\" d=\"M46.0847 1032.32 Q46.0847 1039.41 47.7079 1042.15 Q49.3312 1044.89 53.2461 1044.89 Q56.3653 1044.89 58.2114 1042.85 Q60.0256 1040.78 60.0256 1037.25 Q60.0256 1032.38 56.5881 1029.45 Q53.1188 1026.49 47.3897 1026.49 L46.0847 1026.49 L46.0847 1032.32 M43.6657 1020.63 L64.0042 1020.63 L64.0042 1026.49 L58.5933 1026.49 Q61.8398 1028.5 63.3994 1031.49 Q64.9272 1034.48 64.9272 1038.81 Q64.9272 1044.28 61.8716 1047.53 Q58.7843 1050.74 53.6281 1050.74 Q47.6125 1050.74 44.5569 1046.73 Q41.5014 1042.69 41.5014 1034.7 L41.5014 1026.49 L40.9285 1026.49 Q36.8862 1026.49 34.6901 1029.16 Q32.4621 1031.81 32.4621 1036.61 Q32.4621 1039.67 33.1941 1042.56 Q33.9262 1045.46 35.3903 1048.13 L29.9795 1048.13 Q28.7381 1044.92 28.1334 1041.9 Q27.4968 1038.87 27.4968 1036.01 Q27.4968 1028.27 31.5072 1024.45 Q35.5176 1020.63 43.6657 1020.63 Z\" fill=\"#000000\" fill-rule=\"nonzero\" fill-opacity=\"1\" /><path clip-path=\"url(#clip310)\" d=\"M28.3562 1012.77 L28.3562 1006.57 L58.275 995.426 L28.3562 984.286 L28.3562 978.08 L64.0042 991.448 L64.0042 999.405 L28.3562 1012.77 Z\" fill=\"#000000\" fill-rule=\"nonzero\" fill-opacity=\"1\" /><path clip-path=\"url(#clip310)\" d=\"M28.3562 969.995 L28.3562 964.139 L64.0042 964.139 L64.0042 969.995 L28.3562 969.995 M14.479 969.995 L14.479 964.139 L21.895 964.139 L21.895 969.995 L14.479 969.995 Z\" fill=\"#000000\" fill-rule=\"nonzero\" fill-opacity=\"1\" /><path clip-path=\"url(#clip310)\" d=\"M42.4881 922.252 L64.0042 922.252 L64.0042 928.109 L42.679 928.109 Q37.6183 928.109 35.1038 930.082 Q32.5894 932.056 32.5894 936.002 Q32.5894 940.745 35.6131 943.482 Q38.6368 946.219 43.8567 946.219 L64.0042 946.219 L64.0042 952.108 L28.3562 952.108 L28.3562 946.219 L33.8944 946.219 Q30.6797 944.119 29.0883 941.286 Q27.4968 938.421 27.4968 934.697 Q27.4968 928.554 31.3163 925.403 Q35.1038 922.252 42.4881 922.252 Z\" fill=\"#000000\" fill-rule=\"nonzero\" fill-opacity=\"1\" /><path clip-path=\"url(#clip310)\" d=\"M45.7664 887.114 Q39.4007 887.114 35.8996 889.755 Q32.3984 892.365 32.3984 897.108 Q32.3984 901.818 35.8996 904.46 Q39.4007 907.07 45.7664 907.07 Q52.1003 907.07 55.6014 904.46 Q59.1026 901.818 59.1026 897.108 Q59.1026 892.365 55.6014 889.755 Q52.1003 887.114 45.7664 887.114 M59.58 881.257 Q68.683 881.257 73.1071 885.299 Q77.5631 889.342 77.5631 897.681 Q77.5631 900.768 77.0857 903.505 Q76.6401 906.243 75.6852 908.821 L69.9879 908.821 Q71.3884 906.243 72.0568 903.728 Q72.7252 901.214 72.7252 898.604 Q72.7252 892.843 69.7015 889.978 Q66.7096 887.114 60.6303 887.114 L57.7339 887.114 Q60.885 888.928 62.4446 891.761 Q64.0042 894.593 64.0042 898.54 Q64.0042 905.097 59.0071 909.107 Q54.01 913.118 45.7664 913.118 Q37.491 913.118 32.4939 909.107 Q27.4968 905.097 27.4968 898.54 Q27.4968 894.593 29.0564 891.761 Q30.616 888.928 33.7671 887.114 L28.3562 887.114 L28.3562 881.257 L59.58 881.257 Z\" fill=\"#000000\" fill-rule=\"nonzero\" fill-opacity=\"1\" /><path clip-path=\"url(#clip310)\" d=\"M28.3562 851.879 L28.3562 846.023 L56.1743 838.702 L28.3562 831.414 L28.3562 824.507 L56.1743 817.186 L28.3562 809.898 L28.3562 804.041 L64.0042 813.367 L64.0042 820.274 L34.7856 827.944 L64.0042 835.647 L64.0042 842.554 L28.3562 851.879 Z\" fill=\"#000000\" fill-rule=\"nonzero\" fill-opacity=\"1\" /><path clip-path=\"url(#clip310)\" d=\"M42.4881 765.529 L64.0042 765.529 L64.0042 771.385 L42.679 771.385 Q37.6183 771.385 35.1038 773.358 Q32.5894 775.332 32.5894 779.279 Q32.5894 784.021 35.6131 786.758 Q38.6368 789.496 43.8567 789.496 L64.0042 789.496 L64.0042 795.384 L14.479 795.384 L14.479 789.496 L33.8944 789.496 Q30.6797 787.395 29.0883 784.562 Q27.4968 781.698 27.4968 777.974 Q27.4968 771.831 31.3163 768.68 Q35.1038 765.529 42.4881 765.529 Z\" fill=\"#000000\" fill-rule=\"nonzero\" fill-opacity=\"1\" /><path clip-path=\"url(#clip310)\" d=\"M44.7161 723.356 L47.5806 723.356 L47.5806 750.283 Q53.6281 749.901 56.8109 746.654 Q59.9619 743.376 59.9619 737.551 Q59.9619 734.178 59.1344 731.027 Q58.3069 727.844 56.6518 724.724 L62.1899 724.724 Q63.5267 727.875 64.227 731.186 Q64.9272 734.496 64.9272 737.901 Q64.9272 746.432 59.9619 751.429 Q54.9967 756.394 46.5303 756.394 Q37.7774 756.394 32.6531 751.683 Q27.4968 746.941 27.4968 738.92 Q27.4968 731.727 32.1438 727.557 Q36.7589 723.356 44.7161 723.356 M42.9973 729.212 Q38.1912 729.276 35.3266 731.918 Q32.4621 734.528 32.4621 738.856 Q32.4621 743.758 35.2312 746.718 Q38.0002 749.646 43.0292 750.092 L42.9973 729.212 Z\" fill=\"#000000\" fill-rule=\"nonzero\" fill-opacity=\"1\" /><path clip-path=\"url(#clip310)\" d=\"M42.4881 684.111 L64.0042 684.111 L64.0042 689.968 L42.679 689.968 Q37.6183 689.968 35.1038 691.941 Q32.5894 693.914 32.5894 697.861 Q32.5894 702.604 35.6131 705.341 Q38.6368 708.078 43.8567 708.078 L64.0042 708.078 L64.0042 713.966 L28.3562 713.966 L28.3562 708.078 L33.8944 708.078 Q30.6797 705.977 29.0883 703.145 Q27.4968 700.28 27.4968 696.556 Q27.4968 690.413 31.3163 687.262 Q35.1038 684.111 42.4881 684.111 Z\" fill=\"#000000\" fill-rule=\"nonzero\" fill-opacity=\"1\" /><path clip-path=\"url(#clip310)\" d=\"M67.3143 636.878 Q73.68 639.36 75.6216 641.716 Q77.5631 644.071 77.5631 648.018 L77.5631 652.696 L72.6615 652.696 L72.6615 649.259 Q72.6615 646.84 71.5157 645.503 Q70.3699 644.166 66.1048 642.543 L63.4312 641.493 L28.3562 655.911 L28.3562 649.705 L56.238 638.565 L28.3562 627.425 L28.3562 621.218 L67.3143 636.878 Z\" fill=\"#000000\" fill-rule=\"nonzero\" fill-opacity=\"1\" /><path clip-path=\"url(#clip310)\" d=\"M32.4621 599.32 Q32.4621 604.031 36.1542 606.768 Q39.8145 609.505 46.212 609.505 Q52.6095 609.505 56.3017 606.8 Q59.9619 604.062 59.9619 599.32 Q59.9619 594.641 56.2698 591.904 Q52.5777 589.167 46.212 589.167 Q39.8781 589.167 36.186 591.904 Q32.4621 594.641 32.4621 599.32 M27.4968 599.32 Q27.4968 591.681 32.4621 587.321 Q37.4273 582.96 46.212 582.96 Q54.9649 582.96 59.9619 587.321 Q64.9272 591.681 64.9272 599.32 Q64.9272 606.991 59.9619 611.351 Q54.9649 615.68 46.212 615.68 Q37.4273 615.68 32.4621 611.351 Q27.4968 606.991 27.4968 599.32 Z\" fill=\"#000000\" fill-rule=\"nonzero\" fill-opacity=\"1\" /><path clip-path=\"url(#clip310)\" d=\"M49.9359 573.857 L28.3562 573.857 L28.3562 568.001 L49.7131 568.001 Q54.7739 568.001 57.3202 566.027 Q59.8346 564.054 59.8346 560.107 Q59.8346 555.365 56.8109 552.628 Q53.7872 549.859 48.5673 549.859 L28.3562 549.859 L28.3562 544.002 L64.0042 544.002 L64.0042 549.859 L58.5296 549.859 Q61.7762 551.991 63.3676 554.824 Q64.9272 557.625 64.9272 561.349 Q64.9272 567.492 61.1078 570.674 Q57.2883 573.857 49.9359 573.857 M27.4968 559.121 L27.4968 559.121 Z\" fill=\"#000000\" fill-rule=\"nonzero\" fill-opacity=\"1\" /><path clip-path=\"url(#clip310)\" d=\"M42.4881 502.307 L64.0042 502.307 L64.0042 508.163 L42.679 508.163 Q37.6183 508.163 35.1038 510.136 Q32.5894 512.11 32.5894 516.057 Q32.5894 520.799 35.6131 523.536 Q38.6368 526.274 43.8567 526.274 L64.0042 526.274 L64.0042 532.162 L28.3562 532.162 L28.3562 526.274 L33.8944 526.274 Q30.6797 524.173 29.0883 521.34 Q27.4968 518.476 27.4968 514.752 Q27.4968 508.609 31.3163 505.458 Q35.1038 502.307 42.4881 502.307 Z\" fill=\"#000000\" fill-rule=\"nonzero\" fill-opacity=\"1\" /><path clip-path=\"url(#clip310)\" d=\"M45.7664 467.168 Q39.4007 467.168 35.8996 469.81 Q32.3984 472.42 32.3984 477.162 Q32.3984 481.873 35.8996 484.515 Q39.4007 487.124 45.7664 487.124 Q52.1003 487.124 55.6014 484.515 Q59.1026 481.873 59.1026 477.162 Q59.1026 472.42 55.6014 469.81 Q52.1003 467.168 45.7664 467.168 M59.58 461.312 Q68.683 461.312 73.1071 465.354 Q77.5631 469.396 77.5631 477.735 Q77.5631 480.822 77.0857 483.56 Q76.6401 486.297 75.6852 488.875 L69.9879 488.875 Q71.3884 486.297 72.0568 483.782 Q72.7252 481.268 72.7252 478.658 Q72.7252 472.897 69.7015 470.033 Q66.7096 467.168 60.6303 467.168 L57.7339 467.168 Q60.885 468.982 62.4446 471.815 Q64.0042 474.648 64.0042 478.594 Q64.0042 485.151 59.0071 489.161 Q54.01 493.172 45.7664 493.172 Q37.491 493.172 32.4939 489.161 Q27.4968 485.151 27.4968 478.594 Q27.4968 474.648 29.0564 471.815 Q30.616 468.982 33.7671 467.168 L28.3562 467.168 L28.3562 461.312 L59.58 461.312 Z\" fill=\"#000000\" fill-rule=\"nonzero\" fill-opacity=\"1\" /><path clip-path=\"url(#clip310)\" d=\"M55.9197 447.753 L55.9197 441.037 L64.0042 441.037 L64.0042 447.753 L55.9197 447.753 M30.2977 447.753 L30.2977 441.037 L38.3822 441.037 L38.3822 447.753 L30.2977 447.753 Z\" fill=\"#000000\" fill-rule=\"nonzero\" fill-opacity=\"1\" /><path clip-path=\"url(#clip310)\" d=\"M46.0847 390.366 Q46.0847 397.463 47.7079 400.201 Q49.3312 402.938 53.2461 402.938 Q56.3653 402.938 58.2114 400.901 Q60.0256 398.832 60.0256 395.299 Q60.0256 390.429 56.5881 387.501 Q53.1188 384.541 47.3897 384.541 L46.0847 384.541 L46.0847 390.366 M43.6657 378.685 L64.0042 378.685 L64.0042 384.541 L58.5933 384.541 Q61.8398 386.546 63.3994 389.538 Q64.9272 392.53 64.9272 396.859 Q64.9272 402.333 61.8716 405.58 Q58.7843 408.794 53.6281 408.794 Q47.6125 408.794 44.5569 404.784 Q41.5014 400.742 41.5014 392.753 L41.5014 384.541 L40.9285 384.541 Q36.8862 384.541 34.6901 387.215 Q32.4621 389.856 32.4621 394.663 Q32.4621 397.718 33.1941 400.615 Q33.9262 403.511 35.3903 406.185 L29.9795 406.185 Q28.7381 402.97 28.1334 399.946 Q27.4968 396.922 27.4968 394.058 Q27.4968 386.324 31.5072 382.504 Q35.5176 378.685 43.6657 378.685 Z\" fill=\"#000000\" fill-rule=\"nonzero\" fill-opacity=\"1\" /><polyline clip-path=\"url(#clip312)\" style=\"stroke:#0000ff; stroke-linecap:round; stroke-linejoin:round; stroke-width:16; stroke-opacity:1; fill:none\" points=\"433.155,1325.49 646.444,1227.79 859.733,1130.1 1073.02,1032.4 1286.31,934.71 1499.6,837.017 1712.89,739.323 1926.18,641.629 2139.47,543.935 2352.76,446.241 \"/>\n",
       "<circle clip-path=\"url(#clip312)\" cx=\"433.155\" cy=\"1325.49\" r=\"28.8\" fill=\"#0000ff\" fill-rule=\"evenodd\" fill-opacity=\"1\" stroke=\"#000000\" stroke-opacity=\"1\" stroke-width=\"3.2\"/>\n",
       "<circle clip-path=\"url(#clip312)\" cx=\"646.444\" cy=\"1227.79\" r=\"28.8\" fill=\"#0000ff\" fill-rule=\"evenodd\" fill-opacity=\"1\" stroke=\"#000000\" stroke-opacity=\"1\" stroke-width=\"3.2\"/>\n",
       "<circle clip-path=\"url(#clip312)\" cx=\"859.733\" cy=\"1130.1\" r=\"28.8\" fill=\"#0000ff\" fill-rule=\"evenodd\" fill-opacity=\"1\" stroke=\"#000000\" stroke-opacity=\"1\" stroke-width=\"3.2\"/>\n",
       "<circle clip-path=\"url(#clip312)\" cx=\"1073.02\" cy=\"1032.4\" r=\"28.8\" fill=\"#0000ff\" fill-rule=\"evenodd\" fill-opacity=\"1\" stroke=\"#000000\" stroke-opacity=\"1\" stroke-width=\"3.2\"/>\n",
       "<circle clip-path=\"url(#clip312)\" cx=\"1286.31\" cy=\"934.71\" r=\"28.8\" fill=\"#0000ff\" fill-rule=\"evenodd\" fill-opacity=\"1\" stroke=\"#000000\" stroke-opacity=\"1\" stroke-width=\"3.2\"/>\n",
       "<circle clip-path=\"url(#clip312)\" cx=\"1499.6\" cy=\"837.017\" r=\"28.8\" fill=\"#0000ff\" fill-rule=\"evenodd\" fill-opacity=\"1\" stroke=\"#000000\" stroke-opacity=\"1\" stroke-width=\"3.2\"/>\n",
       "<circle clip-path=\"url(#clip312)\" cx=\"1712.89\" cy=\"739.323\" r=\"28.8\" fill=\"#0000ff\" fill-rule=\"evenodd\" fill-opacity=\"1\" stroke=\"#000000\" stroke-opacity=\"1\" stroke-width=\"3.2\"/>\n",
       "<circle clip-path=\"url(#clip312)\" cx=\"1926.18\" cy=\"641.629\" r=\"28.8\" fill=\"#0000ff\" fill-rule=\"evenodd\" fill-opacity=\"1\" stroke=\"#000000\" stroke-opacity=\"1\" stroke-width=\"3.2\"/>\n",
       "<circle clip-path=\"url(#clip312)\" cx=\"2139.47\" cy=\"543.935\" r=\"28.8\" fill=\"#0000ff\" fill-rule=\"evenodd\" fill-opacity=\"1\" stroke=\"#000000\" stroke-opacity=\"1\" stroke-width=\"3.2\"/>\n",
       "<circle clip-path=\"url(#clip312)\" cx=\"2352.76\" cy=\"446.241\" r=\"28.8\" fill=\"#0000ff\" fill-rule=\"evenodd\" fill-opacity=\"1\" stroke=\"#000000\" stroke-opacity=\"1\" stroke-width=\"3.2\"/>\n",
       "<polyline clip-path=\"url(#clip312)\" style=\"stroke:#ff0000; stroke-linecap:round; stroke-linejoin:round; stroke-width:8; stroke-opacity:1; fill:none\" points=\"433.155,1325.49 646.444,1227.79 859.733,1130.1 1073.02,1032.4 1286.31,934.71 1499.6,837.017 1712.89,739.323 1926.18,641.629 2139.47,543.935 2352.76,446.241 \"/>\n",
       "<path clip-path=\"url(#clip310)\" d=\"M1623.51 326.389 L2281.66 326.389 L2281.66 93.1086 L1623.51 93.1086  Z\" fill=\"#ffffff\" fill-rule=\"evenodd\" fill-opacity=\"1\"/>\n",
       "<polyline clip-path=\"url(#clip310)\" style=\"stroke:#000000; stroke-linecap:round; stroke-linejoin:round; stroke-width:4; stroke-opacity:1; fill:none\" points=\"1623.51,326.389 2281.66,326.389 2281.66,93.1086 1623.51,93.1086 1623.51,326.389 \"/>\n",
       "<polyline clip-path=\"url(#clip310)\" style=\"stroke:#0000ff; stroke-linecap:round; stroke-linejoin:round; stroke-width:24; stroke-opacity:1; fill:none\" points=\"1647.21,170.869 1789.4,170.869 \"/>\n",
       "<circle clip-path=\"url(#clip310)\" cx=\"1718.31\" cy=\"170.869\" r=\"13.166\" fill=\"#0000ff\" fill-rule=\"evenodd\" fill-opacity=\"1\" stroke=\"#000000\" stroke-opacity=\"1\" stroke-width=\"3.61412\"/>\n",
       "<path clip-path=\"url(#clip310)\" d=\"M1837.13 149.706 Q1829.49 149.706 1824.98 155.4 Q1820.5 161.094 1820.5 170.921 Q1820.5 180.712 1824.98 186.407 Q1829.49 192.101 1837.13 192.101 Q1844.77 192.101 1849.21 186.407 Q1853.69 180.712 1853.69 170.921 Q1853.69 161.094 1849.21 155.4 Q1844.77 149.706 1837.13 149.706 M1837.13 144.011 Q1848.03 144.011 1854.56 151.337 Q1861.09 158.629 1861.09 170.921 Q1861.09 183.178 1854.56 190.504 Q1848.03 197.796 1837.13 197.796 Q1826.19 197.796 1819.63 190.504 Q1813.1 183.212 1813.1 170.921 Q1813.1 158.629 1819.63 151.337 Q1826.19 144.011 1837.13 144.011 Z\" fill=\"#000000\" fill-rule=\"nonzero\" fill-opacity=\"1\" /><path clip-path=\"url(#clip310)\" d=\"M1877.96 190.955 L1877.96 211.58 L1871.54 211.58 L1871.54 157.9 L1877.96 157.9 L1877.96 163.803 Q1879.98 160.33 1883.03 158.664 Q1886.12 156.962 1890.39 156.962 Q1897.48 156.962 1901.89 162.587 Q1906.33 168.212 1906.33 177.379 Q1906.33 186.546 1901.89 192.171 Q1897.48 197.796 1890.39 197.796 Q1886.12 197.796 1883.03 196.129 Q1879.98 194.428 1877.96 190.955 M1899.7 177.379 Q1899.7 170.33 1896.78 166.337 Q1893.9 162.31 1888.83 162.31 Q1883.76 162.31 1880.84 166.337 Q1877.96 170.33 1877.96 177.379 Q1877.96 184.428 1880.84 188.455 Q1883.76 192.448 1888.83 192.448 Q1893.9 192.448 1896.78 188.455 Q1899.7 184.428 1899.7 177.379 Z\" fill=\"#000000\" fill-rule=\"nonzero\" fill-opacity=\"1\" /><path clip-path=\"url(#clip310)\" d=\"M1923.24 146.858 L1923.24 157.9 L1936.4 157.9 L1936.4 162.865 L1923.24 162.865 L1923.24 183.976 Q1923.24 188.733 1924.53 190.087 Q1925.84 191.441 1929.84 191.441 L1936.4 191.441 L1936.4 196.789 L1929.84 196.789 Q1922.44 196.789 1919.63 194.046 Q1916.82 191.268 1916.82 183.976 L1916.82 162.865 L1912.13 162.865 L1912.13 157.9 L1916.82 157.9 L1916.82 146.858 L1923.24 146.858 Z\" fill=\"#000000\" fill-rule=\"nonzero\" fill-opacity=\"1\" /><path clip-path=\"url(#clip310)\" d=\"M1944.8 157.9 L1951.19 157.9 L1951.19 196.789 L1944.8 196.789 L1944.8 157.9 M1944.8 142.761 L1951.19 142.761 L1951.19 150.851 L1944.8 150.851 L1944.8 142.761 Z\" fill=\"#000000\" fill-rule=\"nonzero\" fill-opacity=\"1\" /><path clip-path=\"url(#clip310)\" d=\"M1994.84 165.365 Q1997.23 161.06 2000.57 159.011 Q2003.9 156.962 2008.41 156.962 Q2014.49 156.962 2017.79 161.233 Q2021.09 165.469 2021.09 173.317 L2021.09 196.789 L2014.66 196.789 L2014.66 173.525 Q2014.66 167.935 2012.68 165.226 Q2010.71 162.518 2006.64 162.518 Q2001.68 162.518 1998.8 165.817 Q1995.91 169.115 1995.91 174.81 L1995.91 196.789 L1989.49 196.789 L1989.49 173.525 Q1989.49 167.9 1987.51 165.226 Q1985.53 162.518 1981.4 162.518 Q1976.5 162.518 1973.62 165.851 Q1970.74 169.15 1970.74 174.81 L1970.74 196.789 L1964.32 196.789 L1964.32 157.9 L1970.74 157.9 L1970.74 163.942 Q1972.93 160.365 1975.98 158.664 Q1979.04 156.962 1983.24 156.962 Q1987.48 156.962 1990.43 159.115 Q1993.41 161.268 1994.84 165.365 Z\" fill=\"#000000\" fill-rule=\"nonzero\" fill-opacity=\"1\" /><path clip-path=\"url(#clip310)\" d=\"M2033.83 157.9 L2040.22 157.9 L2040.22 196.789 L2033.83 196.789 L2033.83 157.9 M2033.83 142.761 L2040.22 142.761 L2040.22 150.851 L2033.83 150.851 L2033.83 142.761 Z\" fill=\"#000000\" fill-rule=\"nonzero\" fill-opacity=\"1\" /><path clip-path=\"url(#clip310)\" d=\"M2050.81 157.9 L2081.16 157.9 L2081.16 163.733 L2057.13 191.684 L2081.16 191.684 L2081.16 196.789 L2049.94 196.789 L2049.94 190.955 L2073.97 163.004 L2050.81 163.004 L2050.81 157.9 Z\" fill=\"#000000\" fill-rule=\"nonzero\" fill-opacity=\"1\" /><path clip-path=\"url(#clip310)\" d=\"M2108.59 177.24 Q2100.84 177.24 2097.86 179.011 Q2094.87 180.782 2094.87 185.053 Q2094.87 188.455 2097.09 190.469 Q2099.35 192.448 2103.2 192.448 Q2108.52 192.448 2111.71 188.698 Q2114.94 184.914 2114.94 178.664 L2114.94 177.24 L2108.59 177.24 M2121.33 174.601 L2121.33 196.789 L2114.94 196.789 L2114.94 190.886 Q2112.75 194.428 2109.49 196.129 Q2106.23 197.796 2101.5 197.796 Q2095.53 197.796 2091.99 194.462 Q2088.48 191.094 2088.48 185.469 Q2088.48 178.907 2092.86 175.573 Q2097.27 172.24 2105.98 172.24 L2114.94 172.24 L2114.94 171.615 Q2114.94 167.205 2112.02 164.81 Q2109.14 162.379 2103.9 162.379 Q2100.57 162.379 2097.41 163.178 Q2094.25 163.976 2091.33 165.574 L2091.33 159.671 Q2094.84 158.317 2098.14 157.657 Q2101.43 156.962 2104.56 156.962 Q2113 156.962 2117.16 161.337 Q2121.33 165.712 2121.33 174.601 Z\" fill=\"#000000\" fill-rule=\"nonzero\" fill-opacity=\"1\" /><path clip-path=\"url(#clip310)\" d=\"M2140.81 146.858 L2140.81 157.9 L2153.97 157.9 L2153.97 162.865 L2140.81 162.865 L2140.81 183.976 Q2140.81 188.733 2142.09 190.087 Q2143.41 191.441 2147.41 191.441 L2153.97 191.441 L2153.97 196.789 L2147.41 196.789 Q2140.01 196.789 2137.2 194.046 Q2134.39 191.268 2134.39 183.976 L2134.39 162.865 L2129.7 162.865 L2129.7 157.9 L2134.39 157.9 L2134.39 146.858 L2140.81 146.858 Z\" fill=\"#000000\" fill-rule=\"nonzero\" fill-opacity=\"1\" /><path clip-path=\"url(#clip310)\" d=\"M2162.37 157.9 L2168.76 157.9 L2168.76 196.789 L2162.37 196.789 L2162.37 157.9 M2162.37 142.761 L2168.76 142.761 L2168.76 150.851 L2162.37 150.851 L2162.37 142.761 Z\" fill=\"#000000\" fill-rule=\"nonzero\" fill-opacity=\"1\" /><path clip-path=\"url(#clip310)\" d=\"M2197.2 162.379 Q2192.06 162.379 2189.07 166.407 Q2186.09 170.4 2186.09 177.379 Q2186.09 184.358 2189.04 188.386 Q2192.02 192.379 2197.2 192.379 Q2202.3 192.379 2205.29 188.351 Q2208.27 184.323 2208.27 177.379 Q2208.27 170.469 2205.29 166.442 Q2202.3 162.379 2197.2 162.379 M2197.2 156.962 Q2205.53 156.962 2210.29 162.379 Q2215.04 167.796 2215.04 177.379 Q2215.04 186.928 2210.29 192.379 Q2205.53 197.796 2197.2 197.796 Q2188.83 197.796 2184.07 192.379 Q2179.35 186.928 2179.35 177.379 Q2179.35 167.796 2184.07 162.379 Q2188.83 156.962 2197.2 156.962 Z\" fill=\"#000000\" fill-rule=\"nonzero\" fill-opacity=\"1\" /><path clip-path=\"url(#clip310)\" d=\"M2257.96 173.317 L2257.96 196.789 L2251.57 196.789 L2251.57 173.525 Q2251.57 168.004 2249.42 165.261 Q2247.27 162.518 2242.96 162.518 Q2237.79 162.518 2234.8 165.817 Q2231.82 169.115 2231.82 174.81 L2231.82 196.789 L2225.39 196.789 L2225.39 157.9 L2231.82 157.9 L2231.82 163.942 Q2234.11 160.435 2237.2 158.699 Q2240.32 156.962 2244.38 156.962 Q2251.09 156.962 2254.52 161.129 Q2257.96 165.261 2257.96 173.317 Z\" fill=\"#000000\" fill-rule=\"nonzero\" fill-opacity=\"1\" /><polyline clip-path=\"url(#clip310)\" style=\"stroke:#ff0000; stroke-linecap:round; stroke-linejoin:round; stroke-width:12; stroke-opacity:1; fill:none\" points=\"1647.21,248.629 1789.4,248.629 \"/>\n",
       "<path clip-path=\"url(#clip310)\" d=\"M1836.85 229.618 L1827.34 255.417 L1846.4 255.417 L1836.85 229.618 M1832.89 222.709 L1840.84 222.709 L1860.6 274.549 L1853.31 274.549 L1848.59 261.25 L1825.22 261.25 L1820.5 274.549 L1813.1 274.549 L1832.89 222.709 Z\" fill=\"#000000\" fill-rule=\"nonzero\" fill-opacity=\"1\" /><path clip-path=\"url(#clip310)\" d=\"M1900.22 251.077 L1900.22 274.549 L1893.83 274.549 L1893.83 251.285 Q1893.83 245.764 1891.68 243.021 Q1889.53 240.278 1885.22 240.278 Q1880.05 240.278 1877.06 243.577 Q1874.07 246.875 1874.07 252.57 L1874.07 274.549 L1867.65 274.549 L1867.65 235.66 L1874.07 235.66 L1874.07 241.702 Q1876.37 238.195 1879.46 236.459 Q1882.58 234.722 1886.64 234.722 Q1893.34 234.722 1896.78 238.889 Q1900.22 243.021 1900.22 251.077 Z\" fill=\"#000000\" fill-rule=\"nonzero\" fill-opacity=\"1\" /><path clip-path=\"url(#clip310)\" d=\"M1930.64 255 Q1922.89 255 1919.91 256.771 Q1916.92 258.542 1916.92 262.813 Q1916.92 266.215 1919.14 268.229 Q1921.4 270.208 1925.25 270.208 Q1930.57 270.208 1933.76 266.458 Q1936.99 262.674 1936.99 256.424 L1936.99 255 L1930.64 255 M1943.38 252.361 L1943.38 274.549 L1936.99 274.549 L1936.99 268.646 Q1934.8 272.188 1931.54 273.889 Q1928.28 275.556 1923.55 275.556 Q1917.58 275.556 1914.04 272.222 Q1910.53 268.854 1910.53 263.229 Q1910.53 256.667 1914.91 253.333 Q1919.32 250 1928.03 250 L1936.99 250 L1936.99 249.375 Q1936.99 244.965 1934.07 242.57 Q1931.19 240.139 1925.95 240.139 Q1922.62 240.139 1919.46 240.938 Q1916.3 241.736 1913.38 243.334 L1913.38 237.431 Q1916.89 236.077 1920.18 235.417 Q1923.48 234.722 1926.61 234.722 Q1935.05 234.722 1939.21 239.097 Q1943.38 243.472 1943.38 252.361 Z\" fill=\"#000000\" fill-rule=\"nonzero\" fill-opacity=\"1\" /><path clip-path=\"url(#clip310)\" d=\"M1956.54 220.521 L1962.93 220.521 L1962.93 274.549 L1956.54 274.549 L1956.54 220.521 Z\" fill=\"#000000\" fill-rule=\"nonzero\" fill-opacity=\"1\" /><path clip-path=\"url(#clip310)\" d=\"M1992.48 278.16 Q1989.77 285.104 1987.2 287.222 Q1984.63 289.34 1980.32 289.34 L1975.22 289.34 L1975.22 283.993 L1978.97 283.993 Q1981.61 283.993 1983.07 282.743 Q1984.52 281.493 1986.3 276.84 L1987.44 273.924 L1971.71 235.66 L1978.48 235.66 L1990.64 266.076 L2002.79 235.66 L2009.56 235.66 L1992.48 278.16 Z\" fill=\"#000000\" fill-rule=\"nonzero\" fill-opacity=\"1\" /><path clip-path=\"url(#clip310)\" d=\"M2024.7 224.618 L2024.7 235.66 L2037.86 235.66 L2037.86 240.625 L2024.7 240.625 L2024.7 261.736 Q2024.7 266.493 2025.98 267.847 Q2027.3 269.201 2031.3 269.201 L2037.86 269.201 L2037.86 274.549 L2031.3 274.549 Q2023.9 274.549 2021.09 271.806 Q2018.27 269.028 2018.27 261.736 L2018.27 240.625 L2013.59 240.625 L2013.59 235.66 L2018.27 235.66 L2018.27 224.618 L2024.7 224.618 Z\" fill=\"#000000\" fill-rule=\"nonzero\" fill-opacity=\"1\" /><path clip-path=\"url(#clip310)\" d=\"M2046.26 235.66 L2052.65 235.66 L2052.65 274.549 L2046.26 274.549 L2046.26 235.66 M2046.26 220.521 L2052.65 220.521 L2052.65 228.611 L2046.26 228.611 L2046.26 220.521 Z\" fill=\"#000000\" fill-rule=\"nonzero\" fill-opacity=\"1\" /><path clip-path=\"url(#clip310)\" d=\"M2094 237.153 L2094 243.125 Q2091.3 241.632 2088.55 240.903 Q2085.84 240.139 2083.07 240.139 Q2076.85 240.139 2073.41 244.097 Q2069.98 248.021 2069.98 255.139 Q2069.98 262.257 2073.41 266.215 Q2076.85 270.139 2083.07 270.139 Q2085.84 270.139 2088.55 269.41 Q2091.3 268.646 2094 267.153 L2094 273.056 Q2091.33 274.306 2088.45 274.931 Q2085.6 275.556 2082.37 275.556 Q2073.59 275.556 2068.41 270.035 Q2063.24 264.514 2063.24 255.139 Q2063.24 245.625 2068.45 240.174 Q2073.69 234.722 2082.79 234.722 Q2085.74 234.722 2088.55 235.347 Q2091.36 235.938 2094 237.153 Z\" fill=\"#000000\" fill-rule=\"nonzero\" fill-opacity=\"1\" /><path clip-path=\"url(#clip310)\" d=\"M2122.79 255 Q2115.04 255 2112.06 256.771 Q2109.07 258.542 2109.07 262.813 Q2109.07 266.215 2111.29 268.229 Q2113.55 270.208 2117.41 270.208 Q2122.72 270.208 2125.91 266.458 Q2129.14 262.674 2129.14 256.424 L2129.14 255 L2122.79 255 M2135.53 252.361 L2135.53 274.549 L2129.14 274.549 L2129.14 268.646 Q2126.95 272.188 2123.69 273.889 Q2120.43 275.556 2115.7 275.556 Q2109.73 275.556 2106.19 272.222 Q2102.68 268.854 2102.68 263.229 Q2102.68 256.667 2107.06 253.333 Q2111.47 250 2120.18 250 L2129.14 250 L2129.14 249.375 Q2129.14 244.965 2126.23 242.57 Q2123.34 240.139 2118.1 240.139 Q2114.77 240.139 2111.61 240.938 Q2108.45 241.736 2105.53 243.334 L2105.53 237.431 Q2109.04 236.077 2112.34 235.417 Q2115.64 234.722 2118.76 234.722 Q2127.2 234.722 2131.36 239.097 Q2135.53 243.472 2135.53 252.361 Z\" fill=\"#000000\" fill-rule=\"nonzero\" fill-opacity=\"1\" /><path clip-path=\"url(#clip310)\" d=\"M2148.69 220.521 L2155.08 220.521 L2155.08 274.549 L2148.69 274.549 L2148.69 220.521 Z\" fill=\"#000000\" fill-rule=\"nonzero\" fill-opacity=\"1\" /></svg>\n"
      ]
     },
     "execution_count": 16,
     "metadata": {},
     "output_type": "execute_result"
    }
   ],
   "source": [
    "# Replicate figure 2.2\n",
    "plt = plot(params.grid_w, a_gs,\n",
    "    color = :blue,\n",
    "    marker = :circle,\n",
    "    legend = :topright,\n",
    "    xlims = (0, 1.0),\n",
    "    ylims = (0, 0.5),\n",
    "    label = (\"Optimization\"),\n",
    "    xlabel = (\"Income when young: w\"),\n",
    "    ylabel = (\"Saving when young: a\"),\n",
    "    linewidth = 4,\n",
    "    markersize = 8,\n",
    "#     titlefont = font(\"HackGen35Nerd\", 12),\n",
    "#     guidefont = font(\"HackGen35Nerd\", 12),\n",
    "#     tickfont = font(\"HackGen35Nerd\", 8),\n",
    "#     legend_font_family = (\"HackGen35Nerd\"),\n",
    "    legendfontsize = 12,\n",
    "    framestyle = :semi\n",
    ")\n",
    "plot!(params.grid_w, a_cfs, linewidth = 2, color = :red, label=\"Analytical\")"
   ]
  }
 ],
 "metadata": {
  "celltoolbar": "Slideshow",
  "kernelspec": {
   "display_name": "Julia 1.8.3",
   "language": "julia",
   "name": "julia-1.8"
  },
  "language_info": {
   "file_extension": ".jl",
   "mimetype": "application/julia",
   "name": "julia",
   "version": "1.8.3"
  }
 },
 "nbformat": 4,
 "nbformat_minor": 4
}
